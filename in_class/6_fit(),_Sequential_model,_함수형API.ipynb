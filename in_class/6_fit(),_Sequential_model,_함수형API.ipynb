{
  "nbformat": 4,
  "nbformat_minor": 0,
  "metadata": {
    "colab": {
      "provenance": [],
      "toc_visible": true
    },
    "kernelspec": {
      "name": "python3",
      "display_name": "Python 3"
    },
    "language_info": {
      "name": "python"
    },
    "gpuClass": "standard"
  },
  "cells": [
    {
      "cell_type": "markdown",
      "source": [
        "## fit()\n",
        "모델을 학습한다. 모델이 손실함수(오차)로부터 매개 변수를 업데이트 시키는 과정을 학습, 훈련 또는 적합(fitting)이라고 하는데, 이는 모델이 데이터에게 적합(fit)해가는 과정이기 때문이다. 그런 의미에서 fit()은 모델이 훈련을 시작한다는 함수이다.\n",
        "```python\n",
        "[ 기본 ]\n",
        "model.fit(X_train, y_train, epochs=10, batch_size=32)\n",
        "\n",
        "첫번째 인자 = 훈련 데이터\n",
        "두번째 인자 = (지도 학습에서) 레이블 데이터\n",
        "epochs = 1에폭은 전체 데이터를 한차례 훑고 지나감을 의미한다. 정수값으로 기재해야하며 총 훈련 횟수를 정의\n",
        "batch_size = 배치 크기. 기본값은 32. 미니배치 경사 하강법을 사용하고 싶지 않을 경우에는 None을 기재한다.\n",
        "\n",
        "\n",
        "\n",
        "[ 조금 더 많은 인자 사용 ]\n",
        "model.fit(X_train, y_train, epochs=10, batch_size=32, verbose=0, validation_data(X_val, y_val))\n",
        "혹은\n",
        "model.fit(X_train, y_train, epochs=10, batch_size=32, verbose=0, validation_split=0.2))\n",
        "\n",
        "\n",
        "validation_data(x_val, y_val) = 검증 데이터사용. 일반적으로 검증 데이터를 사용하면 각 에폭마다 검증 데이터의 정확도나 오차를 함께 출력하는데, 이 정확도는 훈련이 잘 되고 있는지를 보여줄 뿐이며 실제로 모델이 검증데이터를 학습하지는 않는다. val data의 오차(loss)가 낮아지다가 높아지기 시작하면 이는 과적합의 신호이다.\n",
        "validation_split = validation_data와 동일하게 검증 데이터를 사용하기 위한 용도로 대신 사용할 수 있다. 검증 데이터를 지정하는 것이 아니라 훈련 데이터와 훈련 데이터의 레이블인 X_train과 y_train에서 일정 비율 분리하여 이를 검증 데이터로 사용하는 것\n",
        "verbose = 학습 중 출력되는 문구를 설정합니다.\n",
        "          - 0 : 아무 것도 출력하지 않습니다.\n",
        "          - 1 : 훈련의 진행도를 보여주는 진행 막대\n",
        "          - 2 : 미니 배치마다 손실 정보를 출력\n",
        "```\n",
        "\n",
        "\n"
      ],
      "metadata": {
        "id": "0QHA5tjdqKGm"
      }
    },
    {
      "cell_type": "markdown",
      "source": [
        "## Sequential model\n",
        "Sequential() 이란 입력층, 은닉층, 출력층을 구성하기 위해 사용되는 것이다. Sequential()으로 모델을 선언한 뒤 단계적으로 층을 추가할 수 있다."
      ],
      "metadata": {
        "id": "eUrGJlH9qMx-"
      }
    },
    {
      "cell_type": "code",
      "source": [
        "# Sequential Class\n",
        "import keras\n",
        "from keras import Sequential\n",
        "from keras.layers import Dense\n",
        "\n",
        "model = keras.Sequential([\n",
        "    Dense(64, activation='relu'),\n",
        "    Dense(10, activation='softmax')\n",
        "])"
      ],
      "metadata": {
        "id": "Web-L599qLVW"
      },
      "execution_count": 89,
      "outputs": []
    },
    {
      "cell_type": "markdown",
      "source": [
        "Sequential 모델은 시작하기에 가장 쉬운 Api이다. 기본적으로 하나의 파이썬 리스트이며 단순히 층을 쌓아 만들 수 있다. 만들기에 가장 간단한 방법은 Sequential 클래스를 사용하는 것인데 add() 메서드를 사용하여 점진적으로 만들어줄 수도 있다. 이 메서드는 파이썬 리스트의 append() 메서드와 비슷하다\n",
        "```python\n",
        "model = keras.Sequential()\n",
        "model.add(Dense(64, activation='relu'))\n",
        "model.add(Dense(10, activation='softmax))\n",
        "```\n",
        "층은 처음 호출될 때 만들어진다. 층의 가중치 크기가 입력 크기에 따라 달라지니 입력 크기를 알기 전까지 가중치를 만들 수 없기 때문이다.\n",
        "<br>\n",
        "따라서 위 모델은 어떠한 가중치를 가지고 있지 않다. 가중치를 생성하려면 어떤 데이터로 호출하거나 입력크기를 지정하여 build() 메서드를 호출해야한다."
      ],
      "metadata": {
        "id": "w-y5HGiwqPRv"
      }
    },
    {
      "cell_type": "code",
      "source": [
        "# 입력 크기의 None은 어떤 배치 크기도 가능하다는 의미\n",
        "model.build(input_shape=(None, 3))\n",
        "# 이제 모델의 가중치를 확인해볼 수 있다.\n",
        "model.weights"
      ],
      "metadata": {
        "colab": {
          "base_uri": "https://localhost:8080/"
        },
        "id": "9i5wS8a5qNye",
        "outputId": "b24773f3-44a7-4ae3-f3c7-bdca32d247c3"
      },
      "execution_count": 90,
      "outputs": [
        {
          "output_type": "execute_result",
          "data": {
            "text/plain": [
              "[<tf.Variable 'dense_82/kernel:0' shape=(3, 64) dtype=float32, numpy=\n",
              " array([[-0.21717915,  0.08585992, -0.08136383,  0.0489479 , -0.04146305,\n",
              "         -0.25934905,  0.0432907 ,  0.0595549 ,  0.11263254, -0.1808339 ,\n",
              "          0.19617566,  0.28601468,  0.13194144, -0.10102347, -0.02191067,\n",
              "         -0.0176602 ,  0.18621856, -0.07905303,  0.06533456,  0.0909597 ,\n",
              "          0.27615082, -0.29262263, -0.28410432,  0.18739402, -0.02467057,\n",
              "         -0.18417448, -0.26480258, -0.27344695,  0.23054796,  0.0423995 ,\n",
              "          0.1479643 , -0.16308346, -0.04048732,  0.0679976 ,  0.24450892,\n",
              "          0.2272858 ,  0.2095952 ,  0.2578184 , -0.25841954, -0.27831754,\n",
              "         -0.044406  ,  0.20398796,  0.11534405, -0.06283297,  0.03985673,\n",
              "         -0.25830594,  0.21319383,  0.17549548, -0.11913066, -0.2920821 ,\n",
              "          0.26738113,  0.13155195, -0.13841587,  0.03262106,  0.22468197,\n",
              "         -0.13028161,  0.22247064, -0.18518111,  0.09244394, -0.24622256,\n",
              "         -0.00832382,  0.21083015,  0.20136535,  0.26861292],\n",
              "        [ 0.11995673, -0.15765399,  0.17360741, -0.0233438 , -0.22330183,\n",
              "          0.12666395, -0.23303118,  0.15664184,  0.03773123, -0.09690736,\n",
              "          0.20443952, -0.23769931, -0.08268817,  0.11079365,  0.27010238,\n",
              "          0.25496006, -0.13856427, -0.15769309,  0.05359262,  0.0574984 ,\n",
              "         -0.08225445,  0.2810191 ,  0.24008316, -0.18200257,  0.23207998,\n",
              "          0.14485604, -0.23264378,  0.22136968, -0.21413225,  0.28466767,\n",
              "          0.16186735,  0.21470475,  0.22474039,  0.15707272,  0.11470327,\n",
              "          0.10485226, -0.2556826 ,  0.11425257, -0.04695123, -0.24308176,\n",
              "         -0.28657573, -0.10018343,  0.08272636, -0.00369623, -0.13625026,\n",
              "         -0.22308722, -0.0666049 ,  0.28865665, -0.05597305,  0.04226765,\n",
              "         -0.25591102,  0.2742958 , -0.14030144,  0.2673816 ,  0.12764275,\n",
              "          0.05736205, -0.18557367,  0.02996001, -0.07646888, -0.24169955,\n",
              "         -0.26880366, -0.02939585,  0.17511868,  0.03622866],\n",
              "        [-0.05658543,  0.06169283, -0.26584995, -0.2326701 ,  0.06837225,\n",
              "          0.08516842,  0.14271548, -0.03342241,  0.230165  ,  0.04355183,\n",
              "          0.15578634, -0.27519554,  0.14323467,  0.29576558, -0.22411653,\n",
              "         -0.006726  ,  0.22470635, -0.2479234 , -0.03526524, -0.14108305,\n",
              "          0.1378035 ,  0.27474248, -0.05085352, -0.23734778,  0.2125048 ,\n",
              "         -0.2978399 ,  0.29112488,  0.0716204 ,  0.18241677,  0.1637201 ,\n",
              "          0.17141521,  0.03565359, -0.00515971, -0.2806868 , -0.2804852 ,\n",
              "         -0.09697257,  0.24413371,  0.00659549,  0.26345795, -0.18478876,\n",
              "         -0.2980663 ,  0.0126546 ,  0.1502414 ,  0.22508109, -0.24497968,\n",
              "         -0.03401303, -0.28308213,  0.20592618,  0.00047624,  0.13553214,\n",
              "          0.18470037,  0.25628394,  0.23816395, -0.10421634,  0.05308783,\n",
              "          0.14376271,  0.1046676 ,  0.07500654,  0.20859689,  0.10343307,\n",
              "         -0.06795529, -0.04433414,  0.27707553, -0.08663519]],\n",
              "       dtype=float32)>,\n",
              " <tf.Variable 'dense_82/bias:0' shape=(64,) dtype=float32, numpy=\n",
              " array([0., 0., 0., 0., 0., 0., 0., 0., 0., 0., 0., 0., 0., 0., 0., 0., 0.,\n",
              "        0., 0., 0., 0., 0., 0., 0., 0., 0., 0., 0., 0., 0., 0., 0., 0., 0.,\n",
              "        0., 0., 0., 0., 0., 0., 0., 0., 0., 0., 0., 0., 0., 0., 0., 0., 0.,\n",
              "        0., 0., 0., 0., 0., 0., 0., 0., 0., 0., 0., 0., 0.], dtype=float32)>,\n",
              " <tf.Variable 'dense_83/kernel:0' shape=(64, 10) dtype=float32, numpy=\n",
              " array([[-0.16463201,  0.15436372, -0.11514658,  0.20571813, -0.26726094,\n",
              "         -0.02826181, -0.15634425,  0.14919946, -0.01978472, -0.15224606],\n",
              "        [-0.20500924,  0.1526447 ,  0.12759274, -0.02583289, -0.09309186,\n",
              "          0.12923124, -0.27499303,  0.1933021 ,  0.04039678,  0.04441839],\n",
              "        [-0.08759917, -0.0627515 , -0.05948861, -0.18121758, -0.20541066,\n",
              "         -0.06252263,  0.02355221, -0.09387843, -0.08579651, -0.06963898],\n",
              "        [ 0.15176812,  0.2155805 ,  0.12638149,  0.01406404,  0.26444474,\n",
              "          0.21405879,  0.252297  , -0.00232181,  0.10497165,  0.13299319],\n",
              "        [-0.01638767, -0.12862663, -0.13500325, -0.22807598,  0.1105234 ,\n",
              "          0.20165125, -0.2735315 , -0.25305298, -0.01819691,  0.25286993],\n",
              "        [ 0.26809028,  0.05414838,  0.04189163,  0.03264132,  0.21958473,\n",
              "         -0.09632054,  0.17444217, -0.05935264, -0.15662076, -0.28266877],\n",
              "        [ 0.17543125, -0.22170419,  0.24315909,  0.07445163, -0.06494057,\n",
              "         -0.15397269,  0.06424776, -0.2282994 , -0.06805445,  0.21688107],\n",
              "        [ 0.19969618,  0.2561858 , -0.11102796,  0.0524866 , -0.26114136,\n",
              "          0.04148886,  0.1544196 ,  0.1272364 ,  0.11248532,  0.22755983],\n",
              "        [-0.00407028,  0.17736468, -0.02879086, -0.04185966,  0.15713224,\n",
              "         -0.05223711,  0.00534621,  0.20077154, -0.0546585 , -0.01859638],\n",
              "        [-0.05325416,  0.09495685, -0.18841097, -0.277018  , -0.09325528,\n",
              "          0.22135726,  0.09855354,  0.06259495, -0.07002234, -0.12126271],\n",
              "        [-0.2728954 , -0.27321106, -0.23266542, -0.0998928 , -0.07690629,\n",
              "         -0.1283783 ,  0.18601707,  0.10027155, -0.23260635, -0.14089148],\n",
              "        [-0.2552487 , -0.23252027, -0.2726827 , -0.20680362,  0.10567123,\n",
              "          0.06439766, -0.20787844,  0.18367001,  0.2695597 ,  0.15938282],\n",
              "        [-0.03909691, -0.24754846,  0.10667858, -0.20659499,  0.25893965,\n",
              "          0.02587131, -0.03506111,  0.18149933,  0.17699197,  0.14233622],\n",
              "        [-0.15993544,  0.15096778,  0.28339306,  0.06100214, -0.04531772,\n",
              "          0.18697071, -0.27471006, -0.04014647,  0.27347586,  0.23864517],\n",
              "        [ 0.24343082, -0.14830476, -0.04594542, -0.0365383 ,  0.2765248 ,\n",
              "          0.20971227, -0.08178365, -0.24092677, -0.27798393, -0.07431884],\n",
              "        [ 0.15108061, -0.16622353,  0.01425481, -0.23982792, -0.07980475,\n",
              "         -0.27139354,  0.11223409,  0.13644671, -0.18025443,  0.16480425],\n",
              "        [ 0.22929457,  0.20842326,  0.2839403 , -0.15349345,  0.19698915,\n",
              "         -0.22360201,  0.01411739, -0.05492504, -0.0030278 , -0.02769026],\n",
              "        [ 0.22186568,  0.04295728,  0.2248353 ,  0.1585668 ,  0.21669349,\n",
              "         -0.25222358,  0.1517064 , -0.12544617,  0.17699957, -0.17624912],\n",
              "        [-0.19269931, -0.22728622, -0.06986953,  0.122219  , -0.14092454,\n",
              "          0.18534401,  0.23778936,  0.07255563,  0.03648636,  0.23024485],\n",
              "        [-0.2662081 ,  0.04062992,  0.0134683 ,  0.24797949, -0.16224808,\n",
              "          0.25104132, -0.21745867, -0.280124  ,  0.10049409, -0.19799289],\n",
              "        [ 0.25417688, -0.23174436,  0.00607947,  0.18351772, -0.03278995,\n",
              "          0.23922244, -0.22818486,  0.13008463, -0.07216832,  0.26310268],\n",
              "        [ 0.12102875, -0.05224335, -0.09196965,  0.20043331,  0.21394846,\n",
              "         -0.15096873,  0.06233037, -0.13606653, -0.00403315,  0.07047626],\n",
              "        [ 0.09154761, -0.13122998, -0.22495946, -0.19752541, -0.21489972,\n",
              "          0.05499199, -0.27182388,  0.00204352, -0.2618726 , -0.14083926],\n",
              "        [ 0.1983549 , -0.09588088, -0.20949697,  0.19713697, -0.01204529,\n",
              "          0.107476  , -0.18076918,  0.17864704, -0.11222002,  0.06284878],\n",
              "        [-0.0213725 ,  0.26180813,  0.1049569 ,  0.18834153, -0.05706605,\n",
              "          0.26720908,  0.02301568, -0.11871599,  0.18214792,  0.28119853],\n",
              "        [ 0.1750671 ,  0.14766183,  0.07176512, -0.10567246,  0.25649002,\n",
              "         -0.10086225, -0.02097291, -0.21890146,  0.01214176,  0.17396227],\n",
              "        [-0.20852779,  0.00579387, -0.10975775, -0.0941117 , -0.13911149,\n",
              "         -0.12890485, -0.17538625, -0.05409402, -0.00138277, -0.13460821],\n",
              "        [ 0.19146258, -0.03786588, -0.27239096,  0.03355518,  0.1512872 ,\n",
              "          0.0997217 ,  0.23414311, -0.23109038,  0.13476375,  0.03284359],\n",
              "        [ 0.02065295,  0.0893566 , -0.12673606,  0.22395185, -0.03790227,\n",
              "          0.15892336,  0.1165764 ,  0.03560075,  0.14098042,  0.04572397],\n",
              "        [-0.06982879, -0.02278492, -0.05574697,  0.22364494,  0.1637587 ,\n",
              "         -0.05064626, -0.03672431,  0.18911266,  0.04591438, -0.16543466],\n",
              "        [-0.01960778,  0.18674776,  0.00032011,  0.17318577,  0.1273886 ,\n",
              "         -0.22301796, -0.02412254,  0.03499335, -0.0383819 ,  0.03002572],\n",
              "        [-0.04880483, -0.2174857 , -0.22267973, -0.28391019,  0.14265972,\n",
              "         -0.21022148,  0.23898605, -0.09236246,  0.05940953,  0.09227103],\n",
              "        [ 0.09046096,  0.19684857, -0.04868312, -0.2408286 ,  0.03694496,\n",
              "          0.15959466,  0.04636532,  0.100485  ,  0.02637708,  0.04085842],\n",
              "        [ 0.0474931 , -0.01518774,  0.18687859, -0.12810586, -0.17830154,\n",
              "         -0.01210192, -0.13847809,  0.18159246, -0.01532793,  0.13897231],\n",
              "        [ 0.03684285,  0.25524798,  0.14889485,  0.06138238, -0.22039074,\n",
              "          0.11188844,  0.20256436,  0.09720168,  0.03654116,  0.25932452],\n",
              "        [-0.2611501 , -0.12252538, -0.04079597, -0.03766574,  0.21475145,\n",
              "         -0.04096386,  0.21738032, -0.12846866, -0.21599464,  0.17119384],\n",
              "        [-0.10359831, -0.03465942,  0.1425179 ,  0.01510879,  0.1693385 ,\n",
              "         -0.22584724, -0.00563818,  0.03512987,  0.20659545, -0.14048767],\n",
              "        [ 0.24476102, -0.24186547,  0.19265878, -0.21026786, -0.20033921,\n",
              "          0.00598341,  0.06728756, -0.12507054,  0.1511988 ,  0.03886011],\n",
              "        [-0.1064208 ,  0.09111595,  0.25975785,  0.06184307, -0.11425994,\n",
              "         -0.27656636, -0.11780329, -0.25482577,  0.03809196, -0.20792039],\n",
              "        [ 0.14086086,  0.23745361,  0.10050032, -0.04683205,  0.10847342,\n",
              "          0.11627361,  0.13999602, -0.03051525, -0.1633136 ,  0.21636233],\n",
              "        [ 0.27456394, -0.18221548, -0.27900743,  0.16512984,  0.22365555,\n",
              "         -0.20103684, -0.13589722,  0.13469565,  0.01145378,  0.25937286],\n",
              "        [-0.00979775,  0.0899725 , -0.24491137, -0.2040892 , -0.11041519,\n",
              "         -0.27124017, -0.21324295,  0.10464877, -0.15755865, -0.1413834 ],\n",
              "        [ 0.28363565, -0.19587862, -0.2842998 ,  0.01977298,  0.03912428,\n",
              "         -0.0677873 ,  0.21343938,  0.24991241, -0.07561465, -0.20580557],\n",
              "        [-0.07911262,  0.21688858, -0.06477453,  0.19304305, -0.22465721,\n",
              "          0.27531663, -0.08479019, -0.01498497,  0.2701848 , -0.20265613],\n",
              "        [ 0.04821244,  0.22799978, -0.05226128, -0.21118653,  0.00982362,\n",
              "         -0.21396291, -0.18706644, -0.00913501,  0.08328   ,  0.02910051],\n",
              "        [-0.02740866, -0.14151157,  0.24403062,  0.14939436,  0.253342  ,\n",
              "         -0.17124726, -0.0136022 ,  0.12491846,  0.25120607, -0.0351734 ],\n",
              "        [-0.1226818 , -0.2025338 , -0.25038886, -0.23974779,  0.19393694,\n",
              "         -0.25445673,  0.2735398 ,  0.19196734,  0.08437198, -0.23673849],\n",
              "        [ 0.21923575, -0.15036641, -0.03260121,  0.15701398, -0.10807043,\n",
              "          0.11121616, -0.16098318,  0.09954187,  0.05785975, -0.01889774],\n",
              "        [ 0.24509707,  0.16133395,  0.24494913, -0.06428409,  0.13750225,\n",
              "         -0.2521168 , -0.14734758,  0.27523127,  0.00412935,  0.04886344],\n",
              "        [ 0.25885978, -0.01802224, -0.25444925,  0.08848715, -0.10156992,\n",
              "          0.25675073, -0.10875571,  0.03840777,  0.14274308,  0.21761426],\n",
              "        [ 0.26918378,  0.00566798,  0.07608613, -0.12449396, -0.13870701,\n",
              "         -0.2443318 , -0.08808213,  0.09142348, -0.03716111, -0.07033803],\n",
              "        [ 0.16820738,  0.04820952, -0.23179398,  0.23197606,  0.05977362,\n",
              "          0.02786982, -0.17136891,  0.00121087,  0.06372625,  0.12900946],\n",
              "        [-0.00120375,  0.23169896,  0.10950771, -0.24116987, -0.14482585,\n",
              "          0.26702806,  0.09965667, -0.15297695, -0.01735848,  0.23437986],\n",
              "        [ 0.11550713,  0.17082241, -0.10958484, -0.11043589,  0.15919843,\n",
              "         -0.11878577, -0.14621276, -0.03226447, -0.03416905,  0.10099816],\n",
              "        [-0.1673291 , -0.06243357, -0.06170899, -0.11755115,  0.2757434 ,\n",
              "          0.1522041 , -0.22767189, -0.2322982 ,  0.02983895, -0.27782595],\n",
              "        [ 0.2608343 ,  0.02494848,  0.00158298,  0.12840885,  0.2715892 ,\n",
              "          0.1587761 , -0.2319043 , -0.24117701,  0.09845245, -0.06230125],\n",
              "        [ 0.07680425, -0.08065934, -0.1278341 ,  0.08195949,  0.2234681 ,\n",
              "         -0.11396089,  0.06194395, -0.11131038,  0.01518801, -0.07703155],\n",
              "        [ 0.02609295,  0.10839012, -0.27154073, -0.24215074,  0.13464907,\n",
              "         -0.15261137, -0.26542452,  0.26210216,  0.2771038 ,  0.01022768],\n",
              "        [-0.13528845, -0.06309196, -0.21674088,  0.17666411,  0.06971642,\n",
              "         -0.16860902, -0.08228277, -0.16608721,  0.01098153, -0.22805153],\n",
              "        [ 0.01025519,  0.28086504,  0.18882021, -0.2773783 , -0.02646729,\n",
              "         -0.1218676 ,  0.1074172 , -0.18221176,  0.15104762, -0.08876266],\n",
              "        [ 0.26316103, -0.08970414, -0.02815136, -0.17099261, -0.22444025,\n",
              "         -0.12553728, -0.16708423,  0.25347373, -0.03838088,  0.13659924],\n",
              "        [-0.0745853 , -0.12714998, -0.19325133,  0.14907   ,  0.05876601,\n",
              "         -0.14213175, -0.1530265 , -0.14825995,  0.12019169,  0.0551964 ],\n",
              "        [ 0.27524355, -0.26936102, -0.10052572, -0.01473314,  0.16647512,\n",
              "         -0.1842269 ,  0.2022264 ,  0.12905854,  0.22369018,  0.10512343],\n",
              "        [-0.21851712, -0.01170808, -0.26608312, -0.01437294, -0.2678016 ,\n",
              "         -0.2249025 ,  0.07918778,  0.13214275,  0.08372033,  0.25725177]],\n",
              "       dtype=float32)>,\n",
              " <tf.Variable 'dense_83/bias:0' shape=(10,) dtype=float32, numpy=array([0., 0., 0., 0., 0., 0., 0., 0., 0., 0.], dtype=float32)>]"
            ]
          },
          "metadata": {},
          "execution_count": 90
        }
      ]
    },
    {
      "cell_type": "code",
      "source": [
        "# summary()로 모델의 정보를 요약해서 보여주기\n",
        "model.summary()"
      ],
      "metadata": {
        "colab": {
          "base_uri": "https://localhost:8080/"
        },
        "id": "L24G8tf-qQ2V",
        "outputId": "e78b9f5f-3bd9-40ed-e51f-4ec699687784"
      },
      "execution_count": 91,
      "outputs": [
        {
          "output_type": "stream",
          "name": "stdout",
          "text": [
            "Model: \"sequential_28\"\n",
            "_________________________________________________________________\n",
            " Layer (type)                Output Shape              Param #   \n",
            "=================================================================\n",
            " dense_82 (Dense)            (None, 64)                256       \n",
            "                                                                 \n",
            " dense_83 (Dense)            (None, 10)                650       \n",
            "                                                                 \n",
            "=================================================================\n",
            "Total params: 906\n",
            "Trainable params: 906\n",
            "Non-trainable params: 0\n",
            "_________________________________________________________________\n"
          ]
        }
      ]
    },
    {
      "cell_type": "markdown",
      "source": [
        "### model summary의 param 이란?\n",
        "말그대로 parameter의 약자이다. 위 summary로 보면\n",
        "- 첫번째 층 : 유닛(64) * (input_shape(3) + 편향(바이어스) 1개) = 256\n",
        "- 두번째 층 : 유닛(10) * (위 층의 유닛(64) + 바이어스 1) = 650\n",
        "\n",
        "이런식으로 계산되는 것이다. bias가 존재하는 것을 알고는 있었지만 직접적으로 소스에서는 생각해보지 않았는데, 머신은 딥러닝을 할때 bias도 1개의 node로 계산하고 있으니 Parameter를 해석할때는 이를 고려해야한다.."
      ],
      "metadata": {
        "id": "MaNF_PzjqT3O"
      }
    },
    {
      "cell_type": "code",
      "source": [
        "# 케라스에서는 모델과 층을 포함\n",
        "# 모든것에 이름을 지정할 수 있다.\n",
        "model = keras.Sequential(name='my_ex_model')\n",
        "model.add(Dense(64, activation='relu', name='my_first_layer'))\n",
        "model.add(Dense(10, activation='softmax', name='my_last_layer'))\n",
        "model.build((None, 3))\n",
        "model.summary()"
      ],
      "metadata": {
        "colab": {
          "base_uri": "https://localhost:8080/"
        },
        "id": "2m5rol33qSl1",
        "outputId": "3ea15a33-0030-4dcf-ca7d-2bafa7ab2716"
      },
      "execution_count": 92,
      "outputs": [
        {
          "output_type": "stream",
          "name": "stdout",
          "text": [
            "Model: \"my_ex_model\"\n",
            "_________________________________________________________________\n",
            " Layer (type)                Output Shape              Param #   \n",
            "=================================================================\n",
            " my_first_layer (Dense)      (None, 64)                256       \n",
            "                                                                 \n",
            " my_last_layer (Dense)       (None, 10)                650       \n",
            "                                                                 \n",
            "=================================================================\n",
            "Total params: 906\n",
            "Trainable params: 906\n",
            "Non-trainable params: 0\n",
            "_________________________________________________________________\n"
          ]
        }
      ]
    },
    {
      "cell_type": "markdown",
      "source": [
        "만약 Sequential 모델의 가중치를 build하지 않고 바로 생성하고 싶다면 모델의 입력 크기를 모델 생성시 바로 지정하면 된다. 이때는 Input 클래스를 사용해준다."
      ],
      "metadata": {
        "id": "sndoYHn4qWC-"
      }
    },
    {
      "cell_type": "code",
      "source": [
        "import keras\n",
        "from keras import Sequential\n",
        "from keras.layers import Dense, Input\n",
        "\n",
        "model = keras.Sequential()\n",
        "# shape 매개변수의 값은 배치 크기가 아니라 각 샘플의 크기여야 한다\n",
        "model.add(Input(shape=(3,)))\n",
        "model.add(Dense(64, activation='relu'))\n",
        "\n",
        "model.summary()"
      ],
      "metadata": {
        "colab": {
          "base_uri": "https://localhost:8080/"
        },
        "id": "FHrTORZRqVPu",
        "outputId": "35498f35-b01b-4074-ee1b-c993f6802baa"
      },
      "execution_count": 93,
      "outputs": [
        {
          "output_type": "stream",
          "name": "stdout",
          "text": [
            "Model: \"sequential_29\"\n",
            "_________________________________________________________________\n",
            " Layer (type)                Output Shape              Param #   \n",
            "=================================================================\n",
            " dense_84 (Dense)            (None, 64)                256       \n",
            "                                                                 \n",
            "=================================================================\n",
            "Total params: 256\n",
            "Trainable params: 256\n",
            "Non-trainable params: 0\n",
            "_________________________________________________________________\n"
          ]
        }
      ]
    },
    {
      "cell_type": "code",
      "source": [
        "model.add(Dense(10, activation='softmax'))\n",
        "model.summary()"
      ],
      "metadata": {
        "colab": {
          "base_uri": "https://localhost:8080/"
        },
        "id": "F36wBeokqXEu",
        "outputId": "6c3c5947-1aba-4bee-f3c5-ecec7f65e186"
      },
      "execution_count": 94,
      "outputs": [
        {
          "output_type": "stream",
          "name": "stdout",
          "text": [
            "Model: \"sequential_29\"\n",
            "_________________________________________________________________\n",
            " Layer (type)                Output Shape              Param #   \n",
            "=================================================================\n",
            " dense_84 (Dense)            (None, 64)                256       \n",
            "                                                                 \n",
            " dense_85 (Dense)            (None, 10)                650       \n",
            "                                                                 \n",
            "=================================================================\n",
            "Total params: 906\n",
            "Trainable params: 906\n",
            "Non-trainable params: 0\n",
            "_________________________________________________________________\n"
          ]
        }
      ]
    },
    {
      "cell_type": "markdown",
      "source": [
        "## 함수형 API\n",
        "Sequential 모델은 사용하기에는 쉽지만 적용할 수 있는 곳이 극히 제한적이다. 하나의 입력과 하나의 출력을 가지며 순서대로 층을 쌓은 모델만 표현한수 있다는 점이 그렇다. 실제로 다중 입력, 다중 출력 또는 비선형적인 구조를 가진 모델이 필요할 때가 있는데, 이런 경우에 함수형 API를 사용한 모델을 만든다. 이 방식은 레고 블록을 가지고 노는 것 처럼 강력하다."
      ],
      "metadata": {
        "id": "290mDOmVqZKX"
      }
    },
    {
      "cell_type": "code",
      "source": [
        "import keras\n",
        "from keras import Sequential\n",
        "from keras.layers import Dense, Input\n",
        "\n",
        "# 함수형 API 버전으로 간단하게 앞서 했던 것처럼 2개의 층을 쌓아보자\n",
        "inputs = keras.Input(shape=(3,))\n",
        "features = Dense(64, activation='relu')(inputs)\n",
        "outputs = Dense(10, activation='softmax')(features)\n",
        "model = keras.Model(inputs=inputs, outputs=outputs)"
      ],
      "metadata": {
        "id": "p1cXYhehqX81"
      },
      "execution_count": 95,
      "outputs": []
    },
    {
      "cell_type": "code",
      "source": [
        "inputs.shape"
      ],
      "metadata": {
        "colab": {
          "base_uri": "https://localhost:8080/"
        },
        "id": "gKcWc9GvqxCt",
        "outputId": "a11113c8-d735-4286-ebff-d554c60eca91"
      },
      "execution_count": 96,
      "outputs": [
        {
          "output_type": "execute_result",
          "data": {
            "text/plain": [
              "TensorShape([None, 3])"
            ]
          },
          "metadata": {},
          "execution_count": 96
        }
      ]
    },
    {
      "cell_type": "code",
      "source": [
        "inputs.dtype"
      ],
      "metadata": {
        "colab": {
          "base_uri": "https://localhost:8080/"
        },
        "id": "F5SVMG_xqyJ9",
        "outputId": "eb8f4e16-afdc-4d26-b8e6-2cedcf09c173"
      },
      "execution_count": 97,
      "outputs": [
        {
          "output_type": "execute_result",
          "data": {
            "text/plain": [
              "tf.float32"
            ]
          },
          "metadata": {},
          "execution_count": 97
        }
      ]
    },
    {
      "cell_type": "code",
      "source": [
        "model.summary()"
      ],
      "metadata": {
        "colab": {
          "base_uri": "https://localhost:8080/"
        },
        "id": "BkTlHTWMqy2V",
        "outputId": "965f4362-e450-4268-c48c-14a3a440f5f7"
      },
      "execution_count": 98,
      "outputs": [
        {
          "output_type": "stream",
          "name": "stdout",
          "text": [
            "Model: \"model\"\n",
            "_________________________________________________________________\n",
            " Layer (type)                Output Shape              Param #   \n",
            "=================================================================\n",
            " input_2 (InputLayer)        [(None, 3)]               0         \n",
            "                                                                 \n",
            " dense_86 (Dense)            (None, 64)                256       \n",
            "                                                                 \n",
            " dense_87 (Dense)            (None, 10)                650       \n",
            "                                                                 \n",
            "=================================================================\n",
            "Total params: 906\n",
            "Trainable params: 906\n",
            "Non-trainable params: 0\n",
            "_________________________________________________________________\n"
          ]
        }
      ]
    },
    {
      "cell_type": "code",
      "source": [
        "from keras.utils import plot_model\n",
        "\n",
        "plot_model(model)"
      ],
      "metadata": {
        "colab": {
          "base_uri": "https://localhost:8080/",
          "height": 272
        },
        "id": "Nj7-7g5Nqztd",
        "outputId": "5bd9f0ae-bad3-40a2-8275-296372b6e3f3"
      },
      "execution_count": 99,
      "outputs": [
        {
          "output_type": "execute_result",
          "data": {
            "image/png": "[encoded data removed]",
            "text/plain": [
              "<IPython.core.display.Image object>"
            ]
          },
          "metadata": {},
          "execution_count": 99
        }
      ]
    },
    {
      "cell_type": "markdown",
      "source": [
        "### 다중 입력, 다중 출력 모델\n",
        "간단한 모델과 달리 딥러닝 모델은 리스트 같은 형태보다 그래프와 같은 형태를 닮았다. 예를 들어 다중 입력, 다중 출력이 이러한 형태인데, 이런 종류의 모델에서 함수형 API가 빛을 발할 수 있다."
      ],
      "metadata": {
        "id": "M-9a4xQAq2h2"
      }
    },
    {
      "cell_type": "markdown",
      "source": [
        "예를 들어보자<br><br>\n",
        "고객 이슈 티켓에 우선순위를 지정하고 적절한 부서로 전달하는 시스템을 만든다고 하면 이 모델은 3개의 입력을 사용하게 된다\n",
        "- 이슈 티켓의 제목(텍스트 입력)\n",
        "- 이슈 티켓의 텍스트 본문(텍스트 입력)\n",
        "- 사용자가 추가한 태그(범주형 입력으로 여기에서는 원-핫 인코딩되었다고 가정)\n",
        "\n",
        "텍스트 입력을 크기가 vocabulary_size인 0과 1로 이루어진 배열로 인코딩할 수 있다. 또한 이 모델은 출력도 2개이다\n",
        "\n",
        "- 이슈 티켓의 우선순위 점수로 0과 1 사이의 스칼라(시그모이드 출력)\n",
        "- 이슈 티켓을 처리해야 할 부서(전체 부서 집합에 대한 소프트 맥스 출력)\n",
        "\n",
        "함수형 API를 사용하여 이런 모델을 몇 줄의 코드로 만들어 보자"
      ],
      "metadata": {
        "id": "qGFVEKkRq3o2"
      }
    },
    {
      "cell_type": "code",
      "source": [
        "import keras\n",
        "from keras import Sequential\n",
        "from keras.layers import Dense, Input, Concatenate\n",
        "\n",
        "# 다중 입력, 다중 출력 함수형 모델\n",
        "vocabulary_size = 10000\n",
        "num_tags = 100\n",
        "\n",
        "input_shape = (vocabulary_size,)\n",
        "\n",
        "# 모델의 입력 정의\n",
        "title = keras.Input(shape=input_shape, name='title')\n",
        "text_body = keras.Input(shape=input_shape, name='text_body')\n",
        "tags = keras.Input(shape=(num_tags,), name='tags')\n",
        "\n",
        "\n",
        "# 입력 특성을 하나의 텐서 features로 연결\n",
        "features = Concatenate()([title, text_body, tags])\n",
        "# 중간층으로 입력 특성을 더 풍부하게 만들기\n",
        "features = Dense(64, activation='relu')(features)\n",
        "\n",
        "\n",
        "# 모델의 출력 정의\n",
        "priority = Dense(1, activation='sigmoid', name='priority')(features)\n",
        "department = Dense(4, activation='softmax', name='department')(features)\n",
        "\n",
        "\n",
        "# 입력과 출력을 지정하여 모델 생성\n",
        "model = keras.Model(inputs = [title, text_body, tags],\n",
        "                    outputs = [priority, department])"
      ],
      "metadata": {
        "id": "B6ck_9Yxq0t1"
      },
      "execution_count": 100,
      "outputs": []
    },
    {
      "cell_type": "code",
      "source": [
        "model.summary()"
      ],
      "metadata": {
        "colab": {
          "base_uri": "https://localhost:8080/"
        },
        "id": "DujeFAfGq429",
        "outputId": "63768a0f-1bff-4585-b5f4-e2ab4e5c9f26"
      },
      "execution_count": 101,
      "outputs": [
        {
          "output_type": "stream",
          "name": "stdout",
          "text": [
            "Model: \"model_1\"\n",
            "__________________________________________________________________________________________________\n",
            " Layer (type)                   Output Shape         Param #     Connected to                     \n",
            "==================================================================================================\n",
            " title (InputLayer)             [(None, 10000)]      0           []                               \n",
            "                                                                                                  \n",
            " text_body (InputLayer)         [(None, 10000)]      0           []                               \n",
            "                                                                                                  \n",
            " tags (InputLayer)              [(None, 100)]        0           []                               \n",
            "                                                                                                  \n",
            " concatenate (Concatenate)      (None, 20100)        0           ['title[0][0]',                  \n",
            "                                                                  'text_body[0][0]',              \n",
            "                                                                  'tags[0][0]']                   \n",
            "                                                                                                  \n",
            " dense_88 (Dense)               (None, 64)           1286464     ['concatenate[0][0]']            \n",
            "                                                                                                  \n",
            " priority (Dense)               (None, 1)            65          ['dense_88[0][0]']               \n",
            "                                                                                                  \n",
            " department (Dense)             (None, 4)            260         ['dense_88[0][0]']               \n",
            "                                                                                                  \n",
            "==================================================================================================\n",
            "Total params: 1,286,789\n",
            "Trainable params: 1,286,789\n",
            "Non-trainable params: 0\n",
            "__________________________________________________________________________________________________\n"
          ]
        }
      ]
    },
    {
      "cell_type": "markdown",
      "source": [
        "레고와 같이 원하는 대로 여러 층으로 모델을 구성해봤다.\n",
        "<br><br>\n",
        "이제 Sequential 모델을 훈련하는 것과 거의 같은 방법으로 이 모델을 훈련 시키면 된다. 입력과 출력 데이토의 리스트로 fit() 메서드를 호출해야 하는데, 이때 데이터의 리스트는 Model 클래스에 전달한 순서와 같아야 한다."
      ],
      "metadata": {
        "id": "FAJDGrYcq61-"
      }
    },
    {
      "cell_type": "code",
      "source": [
        "import numpy as np\n",
        "\n",
        "num_samples = 1280\n",
        "\n",
        "# 더미(dummy) 입력 데이터\n",
        "title_data = np.random.randint(0, 2, size=(num_samples, vocabulary_size))\n",
        "text_body_data = np.random.randint(0, 2, size=(num_samples, vocabulary_size))\n",
        "tags_data = np.random.randint(0, 2, size=(num_samples, num_tags))\n",
        "\n",
        "\n",
        "# 더미 타깃 데이터\n",
        "priority_data = np.random.random(size=(num_samples, 1))\n",
        "department_data = np.random.randint(0, 2, size=(num_samples, 4))\n",
        "\n",
        "\n",
        "# compile\n",
        "model.compile(optimizer='rmsprop',\n",
        "              # 모델 클래스에 전달한 순서와 같이 적용할 함수 지정\n",
        "              # 만약 순서에 신경쓰고 싶지 않거나 확실히 지정해주고 싶다면 딕셔너리 형으로 전달해줘도 된다\n",
        "              # loss = {'priority' : ['mean_squared_error']\n",
        "              #          'department' : ['categorical_crossentropy']}\n",
        "              loss = ['mean_squared_error', 'categorical_crossentropy'],\n",
        "              # metrics = {'priority' : ['mean_absolute_error'], 'department' : ['accuracy']}\n",
        "              metrics = [['mean_absolute_error'], ['accuracy']])"
      ],
      "metadata": {
        "id": "WAzFSTzIq549"
      },
      "execution_count": 102,
      "outputs": []
    },
    {
      "cell_type": "code",
      "source": [
        "# fit과 evaluate, predict 모두 딕셔너리형으로 전달할 수 있다\n",
        "# 만약 fit을 딕셔너리 형으로 준다면 아래와 같다.\n",
        "# model.fit({'title' : title_data, 'text_body': text_body_data, 'tags' : tags_data},\n",
        "#            {'priority' : priority_data, 'department' : department_data},\n",
        "#             epochs=1)\n",
        "model.fit([title_data, text_body_data, tags_data], [priority_data, department_data], epochs=1)\n",
        "model.evaluate([title_data, text_body_data, tags_data],\n",
        "               [priority_data, department_data])\n",
        "priority_preds, deprtment_preds = model.predict([title_data, text_body_data, tags_data])"
      ],
      "metadata": {
        "colab": {
          "base_uri": "https://localhost:8080/"
        },
        "id": "ZrKd74Vkq8Zl",
        "outputId": "e718a4db-22e6-4bf8-ca8c-92cc0227dea9"
      },
      "execution_count": 103,
      "outputs": [
        {
          "output_type": "stream",
          "name": "stdout",
          "text": [
            "40/40 [==============================] - 2s 23ms/step - loss: 32.1440 - priority_loss: 0.3337 - department_loss: 31.8103 - priority_mean_absolute_error: 0.4996 - department_accuracy: 0.2648\n",
            "40/40 [==============================] - 1s 9ms/step - loss: 21.5157 - priority_loss: 0.3383 - department_loss: 21.1774 - priority_mean_absolute_error: 0.5045 - department_accuracy: 0.2570\n"
          ]
        },
        {
          "output_type": "stream",
          "name": "stderr",
          "text": [
            "WARNING:tensorflow:6 out of the last 80 calls to <function Model.make_predict_function.<locals>.predict_function at 0x7fdb99d6bd30> triggered tf.function retracing. Tracing is expensive and the excessive number of tracings could be due to (1) creating @tf.function repeatedly in a loop, (2) passing tensors with different shapes, (3) passing Python objects instead of tensors. For (1), please define your @tf.function outside of the loop. For (2), @tf.function has reduce_retracing=True option that can avoid unnecessary retracing. For (3), please refer to https://www.tensorflow.org/guide/function#controlling_retracing and https://www.tensorflow.org/api_docs/python/tf/function for  more details.\n"
          ]
        },
        {
          "output_type": "stream",
          "name": "stdout",
          "text": [
            "40/40 [==============================] - 0s 9ms/step\n"
          ]
        }
      ]
    },
    {
      "cell_type": "markdown",
      "source": [
        "함수형 모델은 명시적인 그래프 데이터 구조다. 층이 어떻게 연결되어있는지 조사하고 이전 그래프 노드(node; 층의 출력)를 새 모델의 일부로 재사용할 수 있다. 대부분의 연구자들이 심층 신경망에 대해 생각할 때 사용하는 '멘탈 모델(mental model)'인 층 그래프에도 잘 맞는데. 이를 통해 모델 시각화와 특성 추출이라는 두 가지 중요한 기능이 가능하다."
      ],
      "metadata": {
        "id": "fl1CHG0Kq-cm"
      }
    },
    {
      "cell_type": "code",
      "source": [
        "# 방금 위에서 정의한 모델의 연결구조(모델의 토폴로지(topology))를 시각화해보자\n",
        "from keras.utils import plot_model\n",
        "\n",
        "# 각 층의 입출력 크기를 그림에 함께 표시해보자\n",
        "plot_model(model, 'ticket_classifier.png', show_shapes=True)"
      ],
      "metadata": {
        "colab": {
          "base_uri": "https://localhost:8080/",
          "height": 302
        },
        "id": "H5NsPkdvq9e-",
        "outputId": "79f12f20-d84f-4419-e884-7776393d7b5b"
      },
      "execution_count": 104,
      "outputs": [
        {
          "output_type": "execute_result",
          "data": {
            "image/png": "[encoded data removed]",
            "text/plain": [
              "<IPython.core.display.Image object>"
            ]
          },
          "metadata": {},
          "execution_count": 104
        }
      ]
    },
    {
      "cell_type": "code",
      "source": [
        "# model.layers 속성은 모델에 있는 모든 층의 리스트를 가지고 있다. 출력해보자\n",
        "model.layers"
      ],
      "metadata": {
        "colab": {
          "base_uri": "https://localhost:8080/"
        },
        "id": "BGsidR5-rAhF",
        "outputId": "3f07b8e0-c8f6-450d-f62e-c2d34a425ee6"
      },
      "execution_count": 105,
      "outputs": [
        {
          "output_type": "execute_result",
          "data": {
            "text/plain": [
              "[<keras.engine.input_layer.InputLayer at 0x7fdb9b8a3400>,\n",
              " <keras.engine.input_layer.InputLayer at 0x7fdb9b8a3310>,\n",
              " <keras.engine.input_layer.InputLayer at 0x7fdb9b8a3760>,\n",
              " <keras.layers.merging.concatenate.Concatenate at 0x7fdb9b8a3ac0>,\n",
              " <keras.layers.core.dense.Dense at 0x7fdb9b8a3d00>,\n",
              " <keras.layers.core.dense.Dense at 0x7fdb9b8fedc0>,\n",
              " <keras.layers.core.dense.Dense at 0x7fdb9b8a3e20>]"
            ]
          },
          "metadata": {},
          "execution_count": 105
        }
      ]
    },
    {
      "cell_type": "code",
      "source": [
        "model.layers[3].input"
      ],
      "metadata": {
        "colab": {
          "base_uri": "https://localhost:8080/"
        },
        "id": "dEokyVulrBot",
        "outputId": "72f9afd5-8e6f-432e-f9a3-821ce782dcd0"
      },
      "execution_count": 106,
      "outputs": [
        {
          "output_type": "execute_result",
          "data": {
            "text/plain": [
              "[<KerasTensor: shape=(None, 10000) dtype=float32 (created by layer 'title')>,\n",
              " <KerasTensor: shape=(None, 10000) dtype=float32 (created by layer 'text_body')>,\n",
              " <KerasTensor: shape=(None, 100) dtype=float32 (created by layer 'tags')>]"
            ]
          },
          "metadata": {},
          "execution_count": 106
        }
      ]
    },
    {
      "cell_type": "code",
      "source": [
        "model.layers[3].output"
      ],
      "metadata": {
        "colab": {
          "base_uri": "https://localhost:8080/"
        },
        "id": "K3nov5ZkrDDt",
        "outputId": "8df6b9da-24db-436d-8464-cb7d33659a11"
      },
      "execution_count": 107,
      "outputs": [
        {
          "output_type": "execute_result",
          "data": {
            "text/plain": [
              "<KerasTensor: shape=(None, 20100) dtype=float32 (created by layer 'concatenate')>"
            ]
          },
          "metadata": {},
          "execution_count": 107
        }
      ]
    },
    {
      "cell_type": "code",
      "source": [
        "model.summary()"
      ],
      "metadata": {
        "colab": {
          "base_uri": "https://localhost:8080/"
        },
        "id": "BX3_j7HOrEDN",
        "outputId": "8e16541a-263f-4910-b270-1a5b35a2ba57"
      },
      "execution_count": 108,
      "outputs": [
        {
          "output_type": "stream",
          "name": "stdout",
          "text": [
            "Model: \"model_1\"\n",
            "__________________________________________________________________________________________________\n",
            " Layer (type)                   Output Shape         Param #     Connected to                     \n",
            "==================================================================================================\n",
            " title (InputLayer)             [(None, 10000)]      0           []                               \n",
            "                                                                                                  \n",
            " text_body (InputLayer)         [(None, 10000)]      0           []                               \n",
            "                                                                                                  \n",
            " tags (InputLayer)              [(None, 100)]        0           []                               \n",
            "                                                                                                  \n",
            " concatenate (Concatenate)      (None, 20100)        0           ['title[0][0]',                  \n",
            "                                                                  'text_body[0][0]',              \n",
            "                                                                  'tags[0][0]']                   \n",
            "                                                                                                  \n",
            " dense_88 (Dense)               (None, 64)           1286464     ['concatenate[0][0]']            \n",
            "                                                                                                  \n",
            " priority (Dense)               (None, 1)            65          ['dense_88[0][0]']               \n",
            "                                                                                                  \n",
            " department (Dense)             (None, 4)            260         ['dense_88[0][0]']               \n",
            "                                                                                                  \n",
            "==================================================================================================\n",
            "Total params: 1,286,789\n",
            "Trainable params: 1,286,789\n",
            "Non-trainable params: 0\n",
            "__________________________________________________________________________________________________\n"
          ]
        }
      ]
    },
    {
      "cell_type": "markdown",
      "source": [
        "이렇게 특성 추출(feature extraction)이 가능한데 이를 통해 다른 모델에서 중간 특성을 재사용하는 모델을 만들 수 있다. 예를 들어 이 모델에 또 다른 출력을 추가한다고 가정해보자. 이슈 티켓이 해결되는 데 걸리는 시간 즉, 일종의 난이도를 추정하려 하는데. 이를 위하여 quick, medium, difficult 3개 범주에 대한 분류 층을 추가하겠다. 이때 모델을 처음부터 다시 만들고 재훈련하는 것이 아니라 특성추출로 중간층을 참조할 수 있기 때문에 이전 모델의 중간 특성에서 시작할 수 있다."
      ],
      "metadata": {
        "id": "JWiRTpkYrGNO"
      }
    },
    {
      "cell_type": "code",
      "source": [
        "# 마지막 output층을 가져와서 담아주고\n",
        "features = model.layers[4].output\n",
        "# 거기에 연결해주었다.\n",
        "difficulty = Dense(3, activation='softmax', name='difficulty')(features)\n",
        "new_model = keras.Model(inputs=[title, text_body, tags],\n",
        "                        outputs=[priority, department, difficulty])\n",
        "\n",
        "plot_model(new_model, 'updated_ticket_classifier.png', show_shapes=True)"
      ],
      "metadata": {
        "colab": {
          "base_uri": "https://localhost:8080/",
          "height": 302
        },
        "id": "A68UpvfVrFDl",
        "outputId": "c82751b1-3642-4bd7-ecbc-4ba01522578e"
      },
      "execution_count": 109,
      "outputs": [
        {
          "output_type": "execute_result",
          "data": {
            "image/png": "[encoded data removed]",
            "text/plain": [
              "<IPython.core.display.Image object>"
            ]
          },
          "metadata": {},
          "execution_count": 109
        }
      ]
    },
    {
      "cell_type": "code",
      "source": [
        "new_model.summary()"
      ],
      "metadata": {
        "colab": {
          "base_uri": "https://localhost:8080/"
        },
        "id": "ZWucVTxyrHoF",
        "outputId": "b9e21607-50cd-460d-e05a-c07c4f048060"
      },
      "execution_count": 110,
      "outputs": [
        {
          "output_type": "stream",
          "name": "stdout",
          "text": [
            "Model: \"model_2\"\n",
            "__________________________________________________________________________________________________\n",
            " Layer (type)                   Output Shape         Param #     Connected to                     \n",
            "==================================================================================================\n",
            " title (InputLayer)             [(None, 10000)]      0           []                               \n",
            "                                                                                                  \n",
            " text_body (InputLayer)         [(None, 10000)]      0           []                               \n",
            "                                                                                                  \n",
            " tags (InputLayer)              [(None, 100)]        0           []                               \n",
            "                                                                                                  \n",
            " concatenate (Concatenate)      (None, 20100)        0           ['title[0][0]',                  \n",
            "                                                                  'text_body[0][0]',              \n",
            "                                                                  'tags[0][0]']                   \n",
            "                                                                                                  \n",
            " dense_88 (Dense)               (None, 64)           1286464     ['concatenate[0][0]']            \n",
            "                                                                                                  \n",
            " priority (Dense)               (None, 1)            65          ['dense_88[0][0]']               \n",
            "                                                                                                  \n",
            " department (Dense)             (None, 4)            260         ['dense_88[0][0]']               \n",
            "                                                                                                  \n",
            " difficulty (Dense)             (None, 3)            195         ['dense_88[0][0]']               \n",
            "                                                                                                  \n",
            "==================================================================================================\n",
            "Total params: 1,286,984\n",
            "Trainable params: 1,286,984\n",
            "Non-trainable params: 0\n",
            "__________________________________________________________________________________________________\n"
          ]
        }
      ]
    },
    {
      "cell_type": "code",
      "source": [],
      "metadata": {
        "id": "tdPxNXQmrIm1"
      },
      "execution_count": null,
      "outputs": []
    }
  ]
}