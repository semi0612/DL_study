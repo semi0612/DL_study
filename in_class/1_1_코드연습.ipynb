{
  "nbformat": 4,
  "nbformat_minor": 0,
  "metadata": {
    "colab": {
      "provenance": []
    },
    "kernelspec": {
      "name": "python3",
      "display_name": "Python 3"
    },
    "language_info": {
      "name": "python"
    },
    "gpuClass": "standard"
  },
  "cells": [
    {
      "cell_type": "markdown",
      "source": [
        "## 모델을 만들어 간단한 훈련을 시켜보자"
      ],
      "metadata": {
        "id": "Rshtb0_ztMz5"
      }
    },
    {
      "cell_type": "code",
      "source": [
        "import numpy as np\n",
        "import pandas as pd\n",
        "import matplotlib.pyplot as plt\n",
        "import tensorflow as tf\n",
        "\n",
        "from keras import Sequential\n",
        "from keras import optimizers\n",
        "from keras.layers import Input, Dense"
      ],
      "metadata": {
        "id": "A8lFlvjatfS3"
      },
      "execution_count": 8,
      "outputs": []
    },
    {
      "cell_type": "code",
      "source": [
        "x = np.linspace(-1, 1, 100)\n",
        "y = x**2\n",
        "plt.scatter(x, y)"
      ],
      "metadata": {
        "id": "EnypVSbalcbM",
        "colab": {
          "base_uri": "https://localhost:8080/",
          "height": 283
        },
        "outputId": "c6951ec2-a08e-4632-bb51-a6a1c98282a7"
      },
      "execution_count": 9,
      "outputs": [
        {
          "output_type": "execute_result",
          "data": {
            "text/plain": [
              "<matplotlib.collections.PathCollection at 0x7fb8ea3a1cd0>"
            ]
          },
          "metadata": {},
          "execution_count": 9
        },
        {
          "output_type": "display_data",
          "data": {
            "text/plain": [
              "<Figure size 432x288 with 1 Axes>"
            ],
            "image/png": "[encoded data removed]"
          },
          "metadata": {
            "needs_background": "light"
          }
        }
      ]
    },
    {
      "cell_type": "code",
      "source": [
        "np.random.shuffle(x)\n",
        "plt.scatter(x[:70], x[:70]**2)"
      ],
      "metadata": {
        "id": "StZs2sHqlcs6",
        "outputId": "bd2d1717-689a-43db-84bf-86d2d9196013",
        "colab": {
          "base_uri": "https://localhost:8080/",
          "height": 283
        }
      },
      "execution_count": 10,
      "outputs": [
        {
          "output_type": "execute_result",
          "data": {
            "text/plain": [
              "<matplotlib.collections.PathCollection at 0x7fb8ea38edc0>"
            ]
          },
          "metadata": {},
          "execution_count": 10
        },
        {
          "output_type": "display_data",
          "data": {
            "text/plain": [
              "<Figure size 432x288 with 1 Axes>"
            ],
            "image/png": "[encoded data removed]"
          },
          "metadata": {
            "needs_background": "light"
          }
        }
      ]
    },
    {
      "cell_type": "code",
      "source": [
        "model = Sequential()\n",
        "model.add(Input(1))\n",
        "model.add(Dense(10, activation='relu'))\n",
        "model.add(Dense(10, activation='relu'))\n",
        "model.add(Dense(units=1))\n",
        "\n",
        "model.compile(optimizer='SGD', loss='mse', metrics = 'mse')"
      ],
      "metadata": {
        "id": "6ymdAST4lgnA"
      },
      "execution_count": 11,
      "outputs": []
    },
    {
      "cell_type": "code",
      "source": [
        "model.fit(x[:70], x[:70]**2, epochs = 100, verbose = 0, batch_size=16)"
      ],
      "metadata": {
        "colab": {
          "base_uri": "https://localhost:8080/"
        },
        "id": "G406PxyAtQ1G",
        "outputId": "abc78a2b-95f3-4c67-c95e-fd4c4c5ab3be"
      },
      "execution_count": 12,
      "outputs": [
        {
          "output_type": "execute_result",
          "data": {
            "text/plain": [
              "<keras.callbacks.History at 0x7fb946a7b760>"
            ]
          },
          "metadata": {},
          "execution_count": 12
        }
      ]
    },
    {
      "cell_type": "code",
      "source": [
        "preds = model.predict(x[70:])\n",
        "np.sum(abs(preds - x[70:]**2))"
      ],
      "metadata": {
        "colab": {
          "base_uri": "https://localhost:8080/"
        },
        "id": "u2Ym5wEBtSgW",
        "outputId": "6362d8f4-f008-4e67-eeba-663b4c46fc6b"
      },
      "execution_count": 13,
      "outputs": [
        {
          "output_type": "stream",
          "name": "stdout",
          "text": [
            "1/1 [==============================] - 0s 100ms/step\n"
          ]
        },
        {
          "output_type": "execute_result",
          "data": {
            "text/plain": [
              "244.93074698554847"
            ]
          },
          "metadata": {},
          "execution_count": 13
        }
      ]
    },
    {
      "cell_type": "code",
      "source": [
        "plt.scatter(x[70:], x[70:]**2)\n",
        "plt.scatter(x[70:], preds)"
      ],
      "metadata": {
        "colab": {
          "base_uri": "https://localhost:8080/",
          "height": 283
        },
        "id": "BR2rZZubtTj2",
        "outputId": "d19d08e6-cb6f-467c-8dca-b9ef559186ab"
      },
      "execution_count": 14,
      "outputs": [
        {
          "output_type": "execute_result",
          "data": {
            "text/plain": [
              "<matplotlib.collections.PathCollection at 0x7fb8e5c5c490>"
            ]
          },
          "metadata": {},
          "execution_count": 14
        },
        {
          "output_type": "display_data",
          "data": {
            "text/plain": [
              "<Figure size 432x288 with 1 Axes>"
            ],
            "image/png": "[encoded data removed]"
          },
          "metadata": {
            "needs_background": "light"
          }
        }
      ]
    },
    {
      "cell_type": "markdown",
      "source": [
        "## 훈련된 모델이 얼추 비슷하게 정답을 내고 있으나 정확하지 않아보인다. <br>\n",
        "epochs를 늘려 훈련을 더 많이 시켜보자<br>\n",
        "100 -> 1000"
      ],
      "metadata": {
        "id": "5bMYbFFktmu4"
      }
    },
    {
      "cell_type": "code",
      "source": [
        "model.fit(x[:70], x[:70]**2, epochs = 1000, verbose = 0, batch_size=16)\n",
        "preds = model.predict(x[70:])"
      ],
      "metadata": {
        "colab": {
          "base_uri": "https://localhost:8080/"
        },
        "id": "JSwBsJN5tYBG",
        "outputId": "7c3c4a2f-d51f-4ae9-e804-3c30f99b6e00"
      },
      "execution_count": 15,
      "outputs": [
        {
          "output_type": "stream",
          "name": "stdout",
          "text": [
            "1/1 [==============================] - 0s 17ms/step\n"
          ]
        }
      ]
    },
    {
      "cell_type": "code",
      "source": [
        "plt.scatter(x[70:], x[70:]**2)\n",
        "plt.scatter(x[70:], preds)"
      ],
      "metadata": {
        "colab": {
          "base_uri": "https://localhost:8080/",
          "height": 283
        },
        "id": "GGdWUy38toB1",
        "outputId": "f0d3eeff-1000-4bf9-8e7f-45f8604d6ec3"
      },
      "execution_count": 16,
      "outputs": [
        {
          "output_type": "execute_result",
          "data": {
            "text/plain": [
              "<matplotlib.collections.PathCollection at 0x7fb8e5b8b3a0>"
            ]
          },
          "metadata": {},
          "execution_count": 16
        },
        {
          "output_type": "display_data",
          "data": {
            "text/plain": [
              "<Figure size 432x288 with 1 Axes>"
            ],
            "image/png": "[encoded data removed]"
          },
          "metadata": {
            "needs_background": "light"
          }
        }
      ]
    },
    {
      "cell_type": "markdown",
      "source": [
        "## epochs의 값이 100일때보다 1000일 때 보다 정답에 더 가까워졌다.<br>\n",
        "이번에는 train data의 수를 변경해보려한다.<br>\n",
        "5 -> 80"
      ],
      "metadata": {
        "id": "XijXEPTPtqcK"
      }
    },
    {
      "cell_type": "code",
      "source": [
        "# 모델은 위와 동일\n",
        "model = Sequential()\n",
        "model.add(Input(1))\n",
        "model.add(Dense(10, activation='relu'))\n",
        "model.add(Dense(10, activation='relu'))\n",
        "model.add(Dense(units=1))\n",
        "\n",
        "model.compile(optimizer='SGD', loss='mse', metrics = 'mse')"
      ],
      "metadata": {
        "id": "gpm2oOmxtpDN"
      },
      "execution_count": 17,
      "outputs": []
    },
    {
      "cell_type": "code",
      "source": [
        "x = np.linspace(-1, 1, 100)\n",
        "np.random.shuffle(x)"
      ],
      "metadata": {
        "id": "zB9-EHlKtrwl"
      },
      "execution_count": 18,
      "outputs": []
    },
    {
      "cell_type": "code",
      "source": [
        "n = 10\n",
        "model.fit(x[:n], x[:n]**2, epochs = 10, verbose = 0, batch_size=16)\n",
        "preds = model.predict(x[n:])\n",
        "\n",
        "plt.scatter(x[n:], x[n:]**2)\n",
        "plt.scatter(x[n:], preds)"
      ],
      "metadata": {
        "colab": {
          "base_uri": "https://localhost:8080/",
          "height": 302
        },
        "id": "VFXldv2uttB3",
        "outputId": "5385c01e-c980-4c9d-8ca4-68f713f35182"
      },
      "execution_count": 19,
      "outputs": [
        {
          "output_type": "stream",
          "name": "stdout",
          "text": [
            "3/3 [==============================] - 0s 3ms/step\n"
          ]
        },
        {
          "output_type": "execute_result",
          "data": {
            "text/plain": [
              "<matplotlib.collections.PathCollection at 0x7fb8e5b3f940>"
            ]
          },
          "metadata": {},
          "execution_count": 19
        },
        {
          "output_type": "display_data",
          "data": {
            "text/plain": [
              "<Figure size 432x288 with 1 Axes>"
            ],
            "image/png": "[encoded data removed]"
          },
          "metadata": {
            "needs_background": "light"
          }
        }
      ]
    },
    {
      "cell_type": "code",
      "source": [
        "n = 80\n",
        "model.fit(x[:n], x[:n]**2, epochs = 10, verbose = 0, batch_size=16)\n",
        "preds = model.predict(x[n:])\n",
        "plt.scatter(x[n:], x[n:]**2)\n",
        "plt.scatter(x[n:], preds)"
      ],
      "metadata": {
        "colab": {
          "base_uri": "https://localhost:8080/",
          "height": 302
        },
        "id": "BRbmNar6tup3",
        "outputId": "cebd7f3f-aaf1-4d97-e2f2-921dbc9ffbb5"
      },
      "execution_count": 20,
      "outputs": [
        {
          "output_type": "stream",
          "name": "stdout",
          "text": [
            "1/1 [==============================] - 0s 31ms/step\n"
          ]
        },
        {
          "output_type": "execute_result",
          "data": {
            "text/plain": [
              "<matplotlib.collections.PathCollection at 0x7fb8e59e8430>"
            ]
          },
          "metadata": {},
          "execution_count": 20
        },
        {
          "output_type": "display_data",
          "data": {
            "text/plain": [
              "<Figure size 432x288 with 1 Axes>"
            ],
            "image/png": "[encoded data removed]"
          },
          "metadata": {
            "needs_background": "light"
          }
        }
      ]
    },
    {
      "cell_type": "markdown",
      "source": [
        "## train data의 변화는 유의미한 결과를 도출하지 못한것으로 보인다<br>\n",
        "그래도 조금은.. 더 맞게 나온듯<br>\n",
        "이번에는 모델의 활성화 함수(activation) 값을 다른 걸로 줘보자"
      ],
      "metadata": {
        "id": "G5KFVreLtxDG"
      }
    },
    {
      "cell_type": "markdown",
      "source": [
        "### ReLU 함수"
      ],
      "metadata": {
        "id": "bRO-HvcKt78_"
      }
    },
    {
      "cell_type": "code",
      "source": [
        "x = np.linspace(-1, 1, 100)\n",
        "np.random.shuffle(x)\n",
        "n = 70"
      ],
      "metadata": {
        "id": "AbRwMP4utvhV"
      },
      "execution_count": 21,
      "outputs": []
    },
    {
      "cell_type": "code",
      "source": [
        "model_r = Sequential()\n",
        "model_r.add(Input(1))\n",
        "model_r.add(Dense(10, activation='relu'))\n",
        "model_r.add(Dense(10, activation='relu'))\n",
        "model_r.add(Dense(units=1))\n",
        "\n",
        "model_r.compile(optimizer='SGD', loss='mse', metrics = 'mse')"
      ],
      "metadata": {
        "id": "RtOvztZCt1MF"
      },
      "execution_count": 22,
      "outputs": []
    },
    {
      "cell_type": "code",
      "source": [
        "model_r.fit(x[:n], x[:n]**2, epochs = 350, verbose = 0, batch_size = 32)\n",
        "preds = model_r.predict(x[n:])\n",
        "\n",
        "plt.scatter(x[n:], x[n:]**2)\n",
        "plt.scatter(x[n:], preds)"
      ],
      "metadata": {
        "colab": {
          "base_uri": "https://localhost:8080/",
          "height": 302
        },
        "id": "GkAMcmgIt2D9",
        "outputId": "5930aa85-f2ff-4e59-8236-491c1e693552"
      },
      "execution_count": 23,
      "outputs": [
        {
          "output_type": "stream",
          "name": "stdout",
          "text": [
            "1/1 [==============================] - 0s 53ms/step\n"
          ]
        },
        {
          "output_type": "execute_result",
          "data": {
            "text/plain": [
              "<matplotlib.collections.PathCollection at 0x7fb8e5965430>"
            ]
          },
          "metadata": {},
          "execution_count": 23
        },
        {
          "output_type": "display_data",
          "data": {
            "text/plain": [
              "<Figure size 432x288 with 1 Axes>"
            ],
            "image/png": "[encoded data removed]"
          },
          "metadata": {
            "needs_background": "light"
          }
        }
      ]
    },
    {
      "cell_type": "markdown",
      "source": [
        "### Tanh 함수"
      ],
      "metadata": {
        "id": "av3avKD0t5QP"
      }
    },
    {
      "cell_type": "code",
      "source": [
        "model_t = Sequential()\n",
        "model_t.add(Input(1))\n",
        "model_t.add(Dense(10, activation='tanh'))\n",
        "model_t.add(Dense(10, activation='tanh'))\n",
        "model_t.add(Dense(units=1))\n",
        "\n",
        "model_t.compile(optimizer='SGD', loss='mse', metrics = 'mse')"
      ],
      "metadata": {
        "id": "pniKTG4It3Cd"
      },
      "execution_count": 24,
      "outputs": []
    },
    {
      "cell_type": "code",
      "source": [
        "model_t.fit(x[:n], x[:n]**2, epochs = 350, verbose = 0, batch_size = 32)\n",
        "preds = model_t.predict(x[n:])\n",
        "\n",
        "plt.scatter(x[n:], x[n:]**2)\n",
        "plt.scatter(x[n:], preds)"
      ],
      "metadata": {
        "colab": {
          "base_uri": "https://localhost:8080/",
          "height": 302
        },
        "id": "yjqtLCcjt-0l",
        "outputId": "43b2fe5e-5568-4285-ba21-ed4410cc904b"
      },
      "execution_count": 25,
      "outputs": [
        {
          "output_type": "stream",
          "name": "stdout",
          "text": [
            "1/1 [==============================] - 0s 58ms/step\n"
          ]
        },
        {
          "output_type": "execute_result",
          "data": {
            "text/plain": [
              "<matplotlib.collections.PathCollection at 0x7fb8e580a280>"
            ]
          },
          "metadata": {},
          "execution_count": 25
        },
        {
          "output_type": "display_data",
          "data": {
            "text/plain": [
              "<Figure size 432x288 with 1 Axes>"
            ],
            "image/png": "[encoded data removed]"
          },
          "metadata": {
            "needs_background": "light"
          }
        }
      ]
    },
    {
      "cell_type": "markdown",
      "source": [
        "### Sigmoid 함수"
      ],
      "metadata": {
        "id": "DSiLRLDXuBsn"
      }
    },
    {
      "cell_type": "code",
      "source": [
        "model_s = Sequential()\n",
        "model_s.add(Input(1))\n",
        "model_s.add(Dense(10, activation='sigmoid'))\n",
        "model_s.add(Dense(10, activation='sigmoid'))\n",
        "model_s.add(Dense(units=1))\n",
        "\n",
        "model_s.compile(optimizer='SGD', loss='mse', metrics = 'mse')"
      ],
      "metadata": {
        "id": "SDIN_is_uATe"
      },
      "execution_count": 26,
      "outputs": []
    },
    {
      "cell_type": "code",
      "source": [
        "model_s.fit(x[:n], x[:n]**2, epochs = 350, verbose = 0, batch_size = 32)\n",
        "preds = model_s.predict(x[n:])\n",
        "\n",
        "plt.scatter(x[n:], x[n:]**2)\n",
        "plt.scatter(x[n:], preds)"
      ],
      "metadata": {
        "colab": {
          "base_uri": "https://localhost:8080/",
          "height": 340
        },
        "id": "0b0rqiOXuDqu",
        "outputId": "3b2bf0a9-76e0-4d45-cf03-5b89018b54c9"
      },
      "execution_count": 27,
      "outputs": [
        {
          "output_type": "stream",
          "name": "stderr",
          "text": [
            "WARNING:tensorflow:5 out of the last 9 calls to <function Model.make_predict_function.<locals>.predict_function at 0x7fb8e57d3550> triggered tf.function retracing. Tracing is expensive and the excessive number of tracings could be due to (1) creating @tf.function repeatedly in a loop, (2) passing tensors with different shapes, (3) passing Python objects instead of tensors. For (1), please define your @tf.function outside of the loop. For (2), @tf.function has reduce_retracing=True option that can avoid unnecessary retracing. For (3), please refer to https://www.tensorflow.org/guide/function#controlling_retracing and https://www.tensorflow.org/api_docs/python/tf/function for  more details.\n"
          ]
        },
        {
          "output_type": "stream",
          "name": "stdout",
          "text": [
            "1/1 [==============================] - 0s 56ms/step\n"
          ]
        },
        {
          "output_type": "execute_result",
          "data": {
            "text/plain": [
              "<matplotlib.collections.PathCollection at 0x7fb8e56aefd0>"
            ]
          },
          "metadata": {},
          "execution_count": 27
        },
        {
          "output_type": "display_data",
          "data": {
            "text/plain": [
              "<Figure size 432x288 with 1 Axes>"
            ],
            "image/png": "[encoded data removed]"
          },
          "metadata": {
            "needs_background": "light"
          }
        }
      ]
    },
    {
      "cell_type": "markdown",
      "source": [
        "## MINIST\n",
        "흑백 손글씨 숫자 이미지(28*28 픽셀)을 10개의 범주로 분류해보자."
      ],
      "metadata": {
        "id": "AMkdlt3NuHP4"
      }
    },
    {
      "cell_type": "code",
      "source": [
        "from tensorflow.keras.datasets import mnist\n",
        "\n",
        "(train_images, train_labels), (test_images, test_labels) = mnist.load_data()"
      ],
      "metadata": {
        "colab": {
          "base_uri": "https://localhost:8080/"
        },
        "id": "iDA_qBhguEmO",
        "outputId": "645f4586-8e67-4cc0-c4b0-adb8af1e0d66"
      },
      "execution_count": 28,
      "outputs": [
        {
          "output_type": "stream",
          "name": "stdout",
          "text": [
            "Downloading data from https://storage.googleapis.com/tensorflow/tf-keras-datasets/mnist.npz\n",
            "11490434/11490434 [==============================] - 0s 0us/step\n"
          ]
        }
      ]
    },
    {
      "cell_type": "code",
      "source": [
        "train_labels"
      ],
      "metadata": {
        "colab": {
          "base_uri": "https://localhost:8080/"
        },
        "id": "cRiBv_8vuIwe",
        "outputId": "85381044-9b77-4c3e-e145-a536f0e0fa5c"
      },
      "execution_count": 29,
      "outputs": [
        {
          "output_type": "execute_result",
          "data": {
            "text/plain": [
              "array([5, 0, 4, ..., 5, 6, 8], dtype=uint8)"
            ]
          },
          "metadata": {},
          "execution_count": 29
        }
      ]
    },
    {
      "cell_type": "code",
      "source": [
        "# 모양 확인\n",
        "# print(train_images[0])\n",
        "\n",
        "# 크기 확인\n",
        "# train_images.shape\n",
        "# (60000, 28, 28)\n",
        "\n",
        "# 이미지로 확인\n",
        "import matplotlib.pylab as plt\n",
        "plt.imshow(train_images[0], cmap=\"gray\")"
      ],
      "metadata": {
        "colab": {
          "base_uri": "https://localhost:8080/",
          "height": 283
        },
        "id": "KqzEGpvGuJuO",
        "outputId": "12e0cce2-cb95-471c-f3a7-2b6fb8cb90b5"
      },
      "execution_count": 30,
      "outputs": [
        {
          "output_type": "execute_result",
          "data": {
            "text/plain": [
              "<matplotlib.image.AxesImage at 0x7fb8e56a2b50>"
            ]
          },
          "metadata": {},
          "execution_count": 30
        },
        {
          "output_type": "display_data",
          "data": {
            "text/plain": [
              "<Figure size 432x288 with 1 Axes>"
            ],
            "image/png": "[encoded data removed]"
          },
          "metadata": {
            "needs_background": "light"
          }
        }
      ]
    },
    {
      "cell_type": "markdown",
      "source": [
        "### 신경망의 핵심구성 요소 : 층(layer)\n",
        "- 데이터를 위한 필터(filter) 로 생각해볼 수 있다. 어떤\n",
        "데이터가 들어가면 더 유용한 형태로 출력된다.\n",
        "- 주어진 문제에 더 의미있는 표현(representation)을 입력된 데이터로부터 추출한다."
      ],
      "metadata": {
        "id": "hA-3d7EzuMun"
      }
    },
    {
      "cell_type": "code",
      "source": [
        "from keras.layers import Dense\n",
        "\n",
        "model = Sequential([\n",
        "    Dense(512, activation='relu'),\n",
        "    Dense(10, activation='softmax')\n",
        "])"
      ],
      "metadata": {
        "id": "u1h-eNTruKtO"
      },
      "execution_count": 31,
      "outputs": []
    },
    {
      "cell_type": "markdown",
      "source": [
        "### 컴파일 단계에 포함될 세가지\n",
        "- 옵티마이저(optimizer) : 성능을 향상시키기 위해 입력된 데이터를 기반으로 모델을 업데이트 하는 메커니즘\n",
        "- 손실 함수(loss function) : 훈련 데이터에서 모델의 성능을 측정하는 방법으로 모델이 옳은 방향으로 학습될 수 있도록 도와준다"
      ],
      "metadata": {
        "id": "yvlv-G89uOcX"
      }
    },
    {
      "cell_type": "code",
      "source": [
        "model.compile(optimizer = 'rmsprop',\n",
        "              loss = 'sparse_categorical_crossentropy',\n",
        "              metrics = ['accuracy'])"
      ],
      "metadata": {
        "id": "jfo6soyHuOEe"
      },
      "execution_count": 32,
      "outputs": []
    },
    {
      "cell_type": "code",
      "source": [
        "train_images = train_images.reshape((60000, 28*28))\n",
        "train_images = train_images.astype('float32') / 255\n",
        "test_images = test_images.reshape((10000, 28*28))\n",
        "test_images = test_images.astype('float32') / 255"
      ],
      "metadata": {
        "id": "yW1RN-1duRDt"
      },
      "execution_count": 33,
      "outputs": []
    },
    {
      "cell_type": "code",
      "source": [
        "history = model.fit(train_images, train_labels, epochs=5, batch_size=128, validation_split=0.2)"
      ],
      "metadata": {
        "colab": {
          "base_uri": "https://localhost:8080/"
        },
        "id": "AGTB2AGFuSB1",
        "outputId": "330a67da-da01-4316-e64d-87864c78241c"
      },
      "execution_count": 34,
      "outputs": [
        {
          "output_type": "stream",
          "name": "stdout",
          "text": [
            "Epoch 1/5\n",
            "375/375 [==============================] - 6s 15ms/step - loss: 0.2883 - accuracy: 0.9169 - val_loss: 0.1440 - val_accuracy: 0.9585\n",
            "Epoch 2/5\n",
            "375/375 [==============================] - 5s 14ms/step - loss: 0.1198 - accuracy: 0.9638 - val_loss: 0.1078 - val_accuracy: 0.9680\n",
            "Epoch 3/5\n",
            "375/375 [==============================] - 8s 22ms/step - loss: 0.0778 - accuracy: 0.9770 - val_loss: 0.0875 - val_accuracy: 0.9753\n",
            "Epoch 4/5\n",
            "375/375 [==============================] - 8s 22ms/step - loss: 0.0552 - accuracy: 0.9834 - val_loss: 0.0840 - val_accuracy: 0.9754\n",
            "Epoch 5/5\n",
            "375/375 [==============================] - 6s 15ms/step - loss: 0.0410 - accuracy: 0.9878 - val_loss: 0.0833 - val_accuracy: 0.9772\n"
          ]
        }
      ]
    },
    {
      "cell_type": "code",
      "source": [
        "test_digits = test_images[0:10]\n",
        "predictions = model.predict(test_digits)"
      ],
      "metadata": {
        "colab": {
          "base_uri": "https://localhost:8080/"
        },
        "id": "c0fHl7gxuTIN",
        "outputId": "22ac24f8-fc33-4b70-906b-c5b8b65df957"
      },
      "execution_count": 35,
      "outputs": [
        {
          "output_type": "stream",
          "name": "stderr",
          "text": [
            "WARNING:tensorflow:6 out of the last 10 calls to <function Model.make_predict_function.<locals>.predict_function at 0x7fb8e43f5b80> triggered tf.function retracing. Tracing is expensive and the excessive number of tracings could be due to (1) creating @tf.function repeatedly in a loop, (2) passing tensors with different shapes, (3) passing Python objects instead of tensors. For (1), please define your @tf.function outside of the loop. For (2), @tf.function has reduce_retracing=True option that can avoid unnecessary retracing. For (3), please refer to https://www.tensorflow.org/guide/function#controlling_retracing and https://www.tensorflow.org/api_docs/python/tf/function for  more details.\n"
          ]
        },
        {
          "output_type": "stream",
          "name": "stdout",
          "text": [
            "1/1 [==============================] - 0s 48ms/step\n"
          ]
        }
      ]
    },
    {
      "cell_type": "code",
      "source": [
        "# 출력된 배열의 인덱스 i에 있는 숫자는 이미지 test_digits[0]이 클래스 i에 속할 확률에 해당하는 것이다.\n",
        "predictions[0]"
      ],
      "metadata": {
        "colab": {
          "base_uri": "https://localhost:8080/"
        },
        "id": "k4JFgEKPuUPV",
        "outputId": "015fd3fc-979d-40e2-c7de-e493f2fa1b1b"
      },
      "execution_count": 36,
      "outputs": [
        {
          "output_type": "execute_result",
          "data": {
            "text/plain": [
              "array([4.8424724e-08, 1.1483467e-08, 4.0505296e-05, 2.4363956e-04,\n",
              "       9.0092343e-12, 1.1977146e-07, 3.1138599e-11, 9.9971271e-01,\n",
              "       3.2434349e-07, 2.7935382e-06], dtype=float32)"
            ]
          },
          "metadata": {},
          "execution_count": 36
        }
      ]
    },
    {
      "cell_type": "code",
      "source": [
        "# 최대값이 있는 위치 반환\n",
        "predictions[0].argmax()"
      ],
      "metadata": {
        "colab": {
          "base_uri": "https://localhost:8080/"
        },
        "id": "VS1CvKR6uVSV",
        "outputId": "100e6438-4554-40a5-c34d-c4aa2bfd544e"
      },
      "execution_count": 37,
      "outputs": [
        {
          "output_type": "execute_result",
          "data": {
            "text/plain": [
              "7"
            ]
          },
          "metadata": {},
          "execution_count": 37
        }
      ]
    },
    {
      "cell_type": "code",
      "source": [
        "# 첫번째 테스트 숫자 중 최대값을 가진 인덱스 7번의 확률값\n",
        "predictions[0][7]"
      ],
      "metadata": {
        "colab": {
          "base_uri": "https://localhost:8080/"
        },
        "id": "Ai6iSJXauWYO",
        "outputId": "6c7cdf74-7e1c-4a28-c8f9-69735b487e14"
      },
      "execution_count": 38,
      "outputs": [
        {
          "output_type": "execute_result",
          "data": {
            "text/plain": [
              "0.9997127"
            ]
          },
          "metadata": {},
          "execution_count": 38
        }
      ]
    },
    {
      "cell_type": "code",
      "source": [
        "test_loss, test_acc = model.evaluate(test_images, test_labels)\n",
        "print(f'테스트 정확도 : {test_acc}')"
      ],
      "metadata": {
        "colab": {
          "base_uri": "https://localhost:8080/"
        },
        "id": "_GEnIvC8uXdd",
        "outputId": "4a39b213-447f-4836-b1ee-985429c54eed"
      },
      "execution_count": 39,
      "outputs": [
        {
          "output_type": "stream",
          "name": "stdout",
          "text": [
            "313/313 [==============================] - 1s 3ms/step - loss: 0.0737 - accuracy: 0.9783\n",
            "테스트 정확도 : 0.9782999753952026\n"
          ]
        }
      ]
    },
    {
      "cell_type": "code",
      "source": [
        "def his_graph(history, epoch):\n",
        "  acc = history.history['accuracy']\n",
        "  val_acc = history.history['val_accuracy']\n",
        "\n",
        "  loss = history.history['loss']\n",
        "  val_loss = history.history['val_loss']\n",
        "\n",
        "  epochs_range = range(epoch)\n",
        "\n",
        "  plt.figure(figsize=(8, 8))\n",
        "  plt.plot(epochs_range, acc, label='Training Accuracy')\n",
        "  plt.plot(epochs_range, val_acc, label='Validation Accuracy')\n",
        "  plt.legend(loc='lower right')\n",
        "  plt.title('Training and Validation Accuracy')\n",
        "\n",
        "  plt.legend(loc='upper right')\n",
        "  plt.title('Training and Validation Loss')\n",
        "\n",
        "  plt.show()"
      ],
      "metadata": {
        "id": "kQsz3LAxuYdf"
      },
      "execution_count": 40,
      "outputs": []
    },
    {
      "cell_type": "code",
      "source": [
        "his_graph(history, 5)"
      ],
      "metadata": {
        "colab": {
          "base_uri": "https://localhost:8080/",
          "height": 499
        },
        "id": "nx0-upbyuZa_",
        "outputId": "16f50c2a-4142-4a85-e7a6-d165c7b7d762"
      },
      "execution_count": 41,
      "outputs": [
        {
          "output_type": "display_data",
          "data": {
            "text/plain": [
              "<Figure size 576x576 with 1 Axes>"
            ],
            "image/png": "[encoded data removed]"
          },
          "metadata": {
            "needs_background": "light"
          }
        }
      ]
    },
    {
      "cell_type": "code",
      "source": [],
      "metadata": {
        "id": "AQnak_7fuajV"
      },
      "execution_count": null,
      "outputs": []
    }
  ]
}