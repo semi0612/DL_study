{
  "nbformat": 4,
  "nbformat_minor": 0,
  "metadata": {
    "colab": {
      "provenance": [],
      "toc_visible": true
    },
    "kernelspec": {
      "name": "python3",
      "display_name": "Python 3"
    },
    "language_info": {
      "name": "python"
    },
    "gpuClass": "standard"
  },
  "cells": [
    {
      "cell_type": "markdown",
      "source": [
        "## 뉴스 기사 분류 : 다중 분류 문제\n",
        "다중분류; multicalss classification; multi-variate <br>\n",
        "single-label : 정치, 체육, 문화 등<br>\n",
        "mulit-label : (경제, 정치) (부동산, 교통)\n",
        "<br><br>\n",
        "로이터 뉴스를 46개의 상호 배타적인 토픽으로 분류하는 신경망을 만들어보려 한다. 각 데이터 포인트가 정확히 하나의 범주로 분류되기 때문에 좀 더 정확히 말하면 `단일 레이블 다중분류` 문제이다.\n",
        "<br><br>\n",
        "각 데이터 포인트가 여러 개의 범주(예를 들어 토픽)에 속할 수 있다면 이것은 다중 레이블 다중 분류 문제가 된다."
      ],
      "metadata": {
        "id": "7jxQg0PQTXZi"
      }
    },
    {
      "cell_type": "code",
      "source": [
        "# 로이터 데이터 셋 로드\n",
        "from tensorflow.keras.datasets import reuters\n",
        "\n",
        "# IMDB 데이터 셋 처럼 num_words=10000 매개변수는\n",
        "# 데이터에서 가장 자주 등장하는 단어 1만개로 제한\n",
        "(train_data, train_labels), (test_data, test_labels) = reuters.load_data(num_words=10000)"
      ],
      "metadata": {
        "colab": {
          "base_uri": "https://localhost:8080/"
        },
        "id": "RIFRhkM1TXtB",
        "outputId": "710b8416-98b3-4b6f-d851-70df61104f1d"
      },
      "execution_count": 11,
      "outputs": [
        {
          "output_type": "stream",
          "name": "stdout",
          "text": [
            "Downloading data from https://storage.googleapis.com/tensorflow/tf-keras-datasets/reuters.npz\n",
            "2110848/2110848 [==============================] - 0s 0us/step\n"
          ]
        }
      ]
    },
    {
      "cell_type": "code",
      "source": [
        "print('train_data[0] : ', train_data[0])\n",
        "print('len(train_data) : ', len(train_data))\n",
        "print('train_data.shape : ', train_data.shape)"
      ],
      "metadata": {
        "colab": {
          "base_uri": "https://localhost:8080/"
        },
        "id": "0nSMw5vTTYdR",
        "outputId": "4117b1c6-c85a-408c-fc13-d84b286a50a0"
      },
      "execution_count": 12,
      "outputs": [
        {
          "output_type": "stream",
          "name": "stdout",
          "text": [
            "train_data[0] :  [1, 2, 2, 8, 43, 10, 447, 5, 25, 207, 270, 5, 3095, 111, 16, 369, 186, 90, 67, 7, 89, 5, 19, 102, 6, 19, 124, 15, 90, 67, 84, 22, 482, 26, 7, 48, 4, 49, 8, 864, 39, 209, 154, 6, 151, 6, 83, 11, 15, 22, 155, 11, 15, 7, 48, 9, 4579, 1005, 504, 6, 258, 6, 272, 11, 15, 22, 134, 44, 11, 15, 16, 8, 197, 1245, 90, 67, 52, 29, 209, 30, 32, 132, 6, 109, 15, 17, 12]\n",
            "len(train_data) :  8982\n",
            "train_data.shape :  (8982,)\n"
          ]
        }
      ]
    },
    {
      "cell_type": "code",
      "source": [
        "# 멀티-핫 인코딩으로 인코딩\n",
        "import numpy as np\n",
        "\n",
        "def vectorize_sequences(sequences, dimension=10000):\n",
        "  # 길이가 ((len(sequences), dimension))이고 모든 원소가 0인 행렬을 만든다\n",
        "  results = np.zeros((len(sequences), dimension))\n",
        "  for i, sequence in enumerate(sequences) :\n",
        "    for j in sequence :\n",
        "      # results[i]에서 특정 인덱스의 위치를 1로 만든다\n",
        "      results[i, j] = 1\n",
        "  return results\n",
        "\n",
        "# 훈련 데이터를 벡터로 변환\n",
        "x_train = vectorize_sequences(train_data)\n",
        "# 테스트 데이터를 벡터로 변환\n",
        "x_test = vectorize_sequences(test_data)"
      ],
      "metadata": {
        "id": "FImHQHalTZ26"
      },
      "execution_count": 13,
      "outputs": []
    },
    {
      "cell_type": "code",
      "source": [
        "print('len(x_train[0]) : ', len(x_train[0]))\n",
        "print('x_train.shape : ', x_train.shape)"
      ],
      "metadata": {
        "colab": {
          "base_uri": "https://localhost:8080/"
        },
        "id": "PxdmTxFpTaN5",
        "outputId": "2078ade8-ab42-492d-c026-fdd6b32702b5"
      },
      "execution_count": 14,
      "outputs": [
        {
          "output_type": "stream",
          "name": "stdout",
          "text": [
            "len(x_train[0]) :  10000\n",
            "x_train.shape :  (8982, 10000)\n"
          ]
        }
      ]
    },
    {
      "cell_type": "markdown",
      "source": [
        "레이블을 벡터로 바꾸는 방법은 두 가지이다.\n",
        "- 레이블의 리스트를 정수 텐서로 변환하는 것\n",
        "- 원-핫 인코딩을 사용하는 것.\n",
        "\n",
        "범주형 데이터에 원-핫 인코딩이 널리 사용되고 있기 때문에 범주형 인코딩이라고도 불리며, 이 경우 레이블의 원핫인코딩은 각 레이블의 인덱스 자리는 1이고 나머지는 모두 0인 벡터이다."
      ],
      "metadata": {
        "id": "UnKQm4mVTb46"
      }
    },
    {
      "cell_type": "code",
      "source": [
        "# 레이블 원핫인코딩 함수 작성해보기\n",
        "def to_one_hot(labels, dimension=46) :\n",
        "  results = np.zeros((len(labels), dimension))\n",
        "  for i, label in enumerate(labels) :\n",
        "    results[i, label] = 1\n",
        "  return results\n",
        "\n",
        "# 훈련 레이블 벡터 변환\n",
        "y_train = to_one_hot(train_labels)\n",
        "# 테스트 레이블 벡터 변환\n",
        "y_test = to_one_hot(test_labels)"
      ],
      "metadata": {
        "id": "nDYpPjlyTbNp"
      },
      "execution_count": 15,
      "outputs": []
    },
    {
      "cell_type": "markdown",
      "source": [
        "위에서는 `to_one_hot`이라는 이름의 함수를 작성하여 적용시켜 줬지만, 사실 케라스에는 이를 위한 내장함수가 마련되어있다.\n",
        "```python\n",
        "from keras.utils.np_utils import to_categorical\n",
        "\n",
        "y_train = to_categorical(train_labels)\n",
        "y_test = to_categoriclal(test_labels)\n",
        "```"
      ],
      "metadata": {
        "id": "j_MseqNzTeha"
      }
    },
    {
      "cell_type": "code",
      "source": [
        "print('y_train : \\n', y_train)\n",
        "print('\\ny_train.shape \\t: ', y_train.shape)\n",
        "print('y_train[0] \\t: ', y_train[0])"
      ],
      "metadata": {
        "colab": {
          "base_uri": "https://localhost:8080/"
        },
        "id": "C9G5tfROTcLh",
        "outputId": "ecf625ff-3387-4b7f-b7d5-f8246729b08a"
      },
      "execution_count": 16,
      "outputs": [
        {
          "output_type": "stream",
          "name": "stdout",
          "text": [
            "y_train : \n",
            " [[0. 0. 0. ... 0. 0. 0.]\n",
            " [0. 0. 0. ... 0. 0. 0.]\n",
            " [0. 0. 0. ... 0. 0. 0.]\n",
            " ...\n",
            " [0. 0. 0. ... 0. 0. 0.]\n",
            " [0. 0. 0. ... 0. 0. 0.]\n",
            " [0. 0. 0. ... 0. 0. 0.]]\n",
            "\n",
            "y_train.shape \t:  (8982, 46)\n",
            "y_train[0] \t:  [0. 0. 0. 1. 0. 0. 0. 0. 0. 0. 0. 0. 0. 0. 0. 0. 0. 0. 0. 0. 0. 0. 0. 0.\n",
            " 0. 0. 0. 0. 0. 0. 0. 0. 0. 0. 0. 0. 0. 0. 0. 0. 0. 0. 0. 0. 0. 0.]\n"
          ]
        }
      ]
    },
    {
      "cell_type": "markdown",
      "source": [
        "모델 구성<br>\n",
        "이진분류는 출력 클래스의 개수가 2개 였지만, 이번에는 46개로 늘어났다. 출력 공간의 차원이 훨씬 커진 것이다.<br><br>\n",
        "이전에 사용했던 것처럼 Dense 층을 쌓으면 각 층은 이전 층의 출력에서 제공한 정보만 사용할 수 있다. 따라서 한 층이 분류 문제에 필요한 일부 정보를 누락하면 그 다음 층에서는 이를 복원할 방법이 없다.또한 각 층은 잠재적으로 정보의 병목(information bottlenect)이 될 수 있다.\n",
        "<br><br>\n",
        "따라서 이전에서는 16차원의 중간층을 사용했지만, 이번에는 좀 더 규모를 크게 잡아야 한다."
      ],
      "metadata": {
        "id": "NR75lnmtTgXi"
      }
    },
    {
      "cell_type": "code",
      "source": [
        "import keras\n",
        "from keras import Sequential\n",
        "from keras import optimizers\n",
        "from keras.layers import Dense\n",
        "\n",
        "model = keras.Sequential([\n",
        "    Dense(units=64, activation='relu'),\n",
        "    Dense(units=64, activation='relu'),\n",
        "    Dense(units=46, activation='softmax')\n",
        "])"
      ],
      "metadata": {
        "id": "Zabz7YrOTfkB"
      },
      "execution_count": 18,
      "outputs": []
    },
    {
      "cell_type": "markdown",
      "source": [
        "손실함수는 `categorical_crossentropy`를 이용할 것이다. 이 함수는 두 확률 분포 사이의 거리를 측정하는데, 여기에서는 모델이 출력한 확률 분포와 진짜 레이블의 분포 사이의 거리를 측정한다. 이 두 분포 사이의 거리를 최소화하므로써 진짜 레이블에 가까운 출력을 내도록 모델을 훈련하게 되는 것이다."
      ],
      "metadata": {
        "id": "yBj5ZifyTi8h"
      }
    },
    {
      "cell_type": "code",
      "source": [
        "model.compile(optimizer='rmsprop',\n",
        "             loss='categorical_crossentropy',\n",
        "             metrics='acc')"
      ],
      "metadata": {
        "id": "V0P-flGsThhZ"
      },
      "execution_count": 19,
      "outputs": []
    },
    {
      "cell_type": "code",
      "source": [
        "# train data에서 1000개의 샘플을 떼내 vaildation data로 사용\n",
        "x_val = x_train[:1000]\n",
        "partial_x_train = x_train[1000:]\n",
        "\n",
        "y_val = y_train[:1000]\n",
        "partial_y_train = y_train[1000:]"
      ],
      "metadata": {
        "id": "UY-WGL8fTmSB"
      },
      "execution_count": 20,
      "outputs": []
    },
    {
      "cell_type": "code",
      "source": [
        "history = model.fit(\n",
        "    partial_x_train,\n",
        "    partial_y_train,\n",
        "    epochs=20,\n",
        "    batch_size=512,\n",
        "    validation_data=(x_val, y_val)\n",
        ")"
      ],
      "metadata": {
        "colab": {
          "base_uri": "https://localhost:8080/"
        },
        "id": "wkByNPq0TnMB",
        "outputId": "5402b00f-ee8d-43df-8eeb-a0e4e4fe7359"
      },
      "execution_count": 21,
      "outputs": [
        {
          "output_type": "stream",
          "name": "stdout",
          "text": [
            "Epoch 1/20\n",
            "16/16 [==============================] - 4s 136ms/step - loss: 2.5390 - acc: 0.5110 - val_loss: 1.6457 - val_acc: 0.6560\n",
            "Epoch 2/20\n",
            "16/16 [==============================] - 2s 111ms/step - loss: 1.3468 - acc: 0.7134 - val_loss: 1.2779 - val_acc: 0.7060\n",
            "Epoch 3/20\n",
            "16/16 [==============================] - 2s 119ms/step - loss: 1.0074 - acc: 0.7838 - val_loss: 1.1206 - val_acc: 0.7470\n",
            "Epoch 4/20\n",
            "16/16 [==============================] - 2s 128ms/step - loss: 0.7995 - acc: 0.8275 - val_loss: 1.0387 - val_acc: 0.7830\n",
            "Epoch 5/20\n",
            "16/16 [==============================] - 1s 89ms/step - loss: 0.6349 - acc: 0.8598 - val_loss: 0.9662 - val_acc: 0.8090\n",
            "Epoch 6/20\n",
            "16/16 [==============================] - 2s 97ms/step - loss: 0.5128 - acc: 0.8895 - val_loss: 0.9354 - val_acc: 0.8170\n",
            "Epoch 7/20\n",
            "16/16 [==============================] - 1s 85ms/step - loss: 0.4090 - acc: 0.9112 - val_loss: 0.9134 - val_acc: 0.8110\n",
            "Epoch 8/20\n",
            "16/16 [==============================] - 1s 86ms/step - loss: 0.3352 - acc: 0.9277 - val_loss: 0.9050 - val_acc: 0.8140\n",
            "Epoch 9/20\n",
            "16/16 [==============================] - 1s 95ms/step - loss: 0.2768 - acc: 0.9401 - val_loss: 0.9155 - val_acc: 0.8060\n",
            "Epoch 10/20\n",
            "16/16 [==============================] - 2s 100ms/step - loss: 0.2358 - acc: 0.9446 - val_loss: 0.9133 - val_acc: 0.8200\n",
            "Epoch 11/20\n",
            "16/16 [==============================] - 1s 84ms/step - loss: 0.2044 - acc: 0.9491 - val_loss: 0.9305 - val_acc: 0.8140\n",
            "Epoch 12/20\n",
            "16/16 [==============================] - 1s 53ms/step - loss: 0.1784 - acc: 0.9524 - val_loss: 0.9394 - val_acc: 0.8070\n",
            "Epoch 13/20\n",
            "16/16 [==============================] - 1s 51ms/step - loss: 0.1664 - acc: 0.9526 - val_loss: 0.9706 - val_acc: 0.8020\n",
            "Epoch 14/20\n",
            "16/16 [==============================] - 1s 51ms/step - loss: 0.1471 - acc: 0.9553 - val_loss: 0.9936 - val_acc: 0.8050\n",
            "Epoch 15/20\n",
            "16/16 [==============================] - 1s 52ms/step - loss: 0.1360 - acc: 0.9539 - val_loss: 0.9929 - val_acc: 0.8170\n",
            "Epoch 16/20\n",
            "16/16 [==============================] - 1s 73ms/step - loss: 0.1339 - acc: 0.9549 - val_loss: 0.9904 - val_acc: 0.8150\n",
            "Epoch 17/20\n",
            "16/16 [==============================] - 1s 68ms/step - loss: 0.1246 - acc: 0.9567 - val_loss: 1.0110 - val_acc: 0.8060\n",
            "Epoch 18/20\n",
            "16/16 [==============================] - 1s 65ms/step - loss: 0.1239 - acc: 0.9558 - val_loss: 1.0357 - val_acc: 0.8070\n",
            "Epoch 19/20\n",
            "16/16 [==============================] - 1s 63ms/step - loss: 0.1142 - acc: 0.9563 - val_loss: 1.0717 - val_acc: 0.8020\n",
            "Epoch 20/20\n",
            "16/16 [==============================] - 1s 92ms/step - loss: 0.1093 - acc: 0.9579 - val_loss: 1.0949 - val_acc: 0.7950\n"
          ]
        }
      ]
    },
    {
      "cell_type": "code",
      "source": [
        "# 위를 보면 훈련시 손실-정확도 값과 검증시 손실-정확도 값이 저장되어 있는 것을 알 수 있다.\n",
        "# 이를 이용해 훈련과 검증 손실 그래프를 그려보자\n",
        "import matplotlib.pyplot as plt\n",
        "\n",
        "history = history.history\n",
        "\n",
        "fig, axs = plt.subplots(1, 2, figsize=(20, 10))\n",
        "axs = axs.flatten()\n",
        "\n",
        "acc = history['acc']\n",
        "val_acc = history['val_acc']\n",
        "loss = history['loss']\n",
        "val_loss = history['val_loss']\n",
        "\n",
        "epochs = range(len(acc))\n",
        "\n",
        "axs[0].plot(epochs, loss, 'r', label='Training loss')\n",
        "axs[0].plot(epochs, val_loss, 'b', label='Validation loss')\n",
        "axs[0].set_title('Training and validation loss')\n",
        "axs[0].legend(loc=0)\n",
        "\n",
        "axs[1].plot(epochs, acc, 'r', label='Training accuracy')\n",
        "axs[1].plot(epochs, val_acc, 'b', label='Validation accuracy')\n",
        "axs[1].set_title('Training and validation accuracy')\n",
        "axs[1].legend(loc=0)"
      ],
      "metadata": {
        "colab": {
          "base_uri": "https://localhost:8080/",
          "height": 408
        },
        "id": "3NcCPTChTn2R",
        "outputId": "9a80558c-368f-4b10-a181-fd431786a09f"
      },
      "execution_count": 22,
      "outputs": [
        {
          "output_type": "execute_result",
          "data": {
            "text/plain": [
              "<matplotlib.legend.Legend at 0x7fdb9b6f19d0>"
            ]
          },
          "metadata": {},
          "execution_count": 22
        },
        {
          "output_type": "display_data",
          "data": {
            "text/plain": [
              "<Figure size 1440x720 with 2 Axes>"
            ],
            "image/png": "[encoded data removed]"
          },
          "metadata": {
            "needs_background": "light"
          }
        }
      ]
    },
    {
      "cell_type": "markdown",
      "source": [
        "그래프를 확인해보면 대락 9~10번째부터 overfitting 이 생기는 것으로 보인다. 따라서 10번의 epochs으로 새로운 모델을 훈련하고 test data로 평가해보겠다."
      ],
      "metadata": {
        "id": "ppQsieMeTqOU"
      }
    },
    {
      "cell_type": "code",
      "source": [
        "model = keras.Sequential([\n",
        "    Dense(units=64, activation='relu'),\n",
        "    Dense(units=64, activation='relu'),\n",
        "    Dense(units=46, activation='softmax')\n",
        "])\n",
        "\n",
        "model.compile(optimizer='rmsprop',\n",
        "             loss='categorical_crossentropy',\n",
        "             metrics='acc')\n",
        "\n",
        "model.fit(x_train, y_train, epochs=10, batch_size=512)\n",
        "model.evaluate(x_test, y_test)"
      ],
      "metadata": {
        "colab": {
          "base_uri": "https://localhost:8080/"
        },
        "id": "866E94d5TpNy",
        "outputId": "4005da2e-83fd-4958-f6ce-5be0394328f8"
      },
      "execution_count": 23,
      "outputs": [
        {
          "output_type": "stream",
          "name": "stdout",
          "text": [
            "Epoch 1/10\n",
            "18/18 [==============================] - 2s 80ms/step - loss: 2.5511 - acc: 0.5357\n",
            "Epoch 2/10\n",
            "18/18 [==============================] - 1s 65ms/step - loss: 1.3526 - acc: 0.7194\n",
            "Epoch 3/10\n",
            "18/18 [==============================] - 1s 58ms/step - loss: 1.0111 - acc: 0.7831\n",
            "Epoch 4/10\n",
            "18/18 [==============================] - 1s 59ms/step - loss: 0.7928 - acc: 0.8328\n",
            "Epoch 5/10\n",
            "18/18 [==============================] - 1s 58ms/step - loss: 0.6302 - acc: 0.8661\n",
            "Epoch 6/10\n",
            "18/18 [==============================] - 1s 60ms/step - loss: 0.4991 - acc: 0.8951\n",
            "Epoch 7/10\n",
            "18/18 [==============================] - 1s 79ms/step - loss: 0.3992 - acc: 0.9153\n",
            "Epoch 8/10\n",
            "18/18 [==============================] - 1s 68ms/step - loss: 0.3273 - acc: 0.9287\n",
            "Epoch 9/10\n",
            "18/18 [==============================] - 1s 59ms/step - loss: 0.2771 - acc: 0.9380\n",
            "Epoch 10/10\n",
            "18/18 [==============================] - 1s 77ms/step - loss: 0.2325 - acc: 0.9468\n",
            "71/71 [==============================] - 1s 5ms/step - loss: 0.9976 - acc: 0.7881\n"
          ]
        },
        {
          "output_type": "execute_result",
          "data": {
            "text/plain": [
              "[0.9976257681846619, 0.7880676984786987]"
            ]
          },
          "metadata": {},
          "execution_count": 23
        }
      ]
    },
    {
      "cell_type": "markdown",
      "source": [
        "위는 모델은 80% 를 넘는 정확도를 달성했다. 만약 랜덤한 분류기를 사용하여 예측하면 정확도가 얼마나 나올까?"
      ],
      "metadata": {
        "id": "irkUSOTVTsUk"
      }
    },
    {
      "cell_type": "code",
      "source": [
        "import copy\n",
        "test_labels_copy = copy.copy(test_labels)\n",
        "np.random.shuffle(test_labels_copy)\n",
        "hits_array = np.array(test_labels) == np.array(test_labels_copy)\n",
        "hits_array.mean()"
      ],
      "metadata": {
        "colab": {
          "base_uri": "https://localhost:8080/"
        },
        "id": "MxnSJvEaTrcx",
        "outputId": "1b7cef29-91b3-4099-e05d-8cba3ca1bb26"
      },
      "execution_count": 24,
      "outputs": [
        {
          "output_type": "execute_result",
          "data": {
            "text/plain": [
              "0.18699910952804988"
            ]
          },
          "metadata": {},
          "execution_count": 24
        }
      ]
    },
    {
      "cell_type": "markdown",
      "source": [
        "새로운 데이터에 대해 예측해보자<br>\n",
        "새로운 샘플로 모델의 predict 메서드를 호출하면 각 샘플에 대해 46개 토픽에 대한 클래스 확률 분포를 반환한다"
      ],
      "metadata": {
        "id": "xZ9LzTuvTuu6"
      }
    },
    {
      "cell_type": "code",
      "source": [
        "# predictions 의 각 항목은 길이가 46인 벡터이다.\n",
        "predictions = model.predict(x_test)\n",
        "print('predictions : \\n', predictions)\n",
        "print()\n",
        "print('predictions[0] : \\n', predictions[0])\n",
        "print()\n",
        "print('predictions[0].shape : ', predictions[0].shape)"
      ],
      "metadata": {
        "colab": {
          "base_uri": "https://localhost:8080/"
        },
        "id": "cSY5MVLHTt9Z",
        "outputId": "63f8ef47-5366-4799-ab55-fe16ff20ac2e"
      },
      "execution_count": 25,
      "outputs": [
        {
          "output_type": "stream",
          "name": "stdout",
          "text": [
            "71/71 [==============================] - 0s 4ms/step\n",
            "predictions : \n",
            " [[3.33822595e-06 2.34818363e-05 2.75204929e-05 ... 1.99665756e-05\n",
            "  7.16076329e-06 3.86492218e-07]\n",
            " [2.18177549e-04 2.44141463e-03 7.53046107e-03 ... 2.24622022e-06\n",
            "  1.98009346e-07 5.61253910e-06]\n",
            " [1.77367276e-03 7.41418540e-01 1.91210513e-03 ... 6.46153348e-04\n",
            "  1.26013372e-04 3.38502647e-03]\n",
            " ...\n",
            " [3.69458439e-06 9.33250485e-05 2.08032270e-05 ... 1.12380185e-05\n",
            "  5.83773763e-05 3.06723564e-06]\n",
            " [2.85329530e-04 2.30373256e-02 6.85906562e-04 ... 7.88111356e-04\n",
            "  3.03911773e-04 1.13490023e-04]\n",
            " [3.60666570e-04 2.37702549e-01 1.28463823e-02 ... 9.08831076e-04\n",
            "  1.98686874e-04 1.36535952e-03]]\n",
            "\n",
            "predictions[0] : \n",
            " [3.3382260e-06 2.3481836e-05 2.7520493e-05 9.3103659e-01 6.4348854e-02\n",
            " 1.5845553e-05 6.8327019e-05 1.5986441e-05 3.3198239e-04 3.0283229e-05\n",
            " 1.3203521e-05 2.8628018e-04 9.4237466e-06 1.4413768e-04 3.5331723e-05\n",
            " 3.6054803e-07 1.2644224e-03 3.6233701e-05 1.7026308e-05 4.0340052e-05\n",
            " 6.0649659e-04 3.4018620e-05 3.3974073e-05 2.0472717e-04 1.5068536e-06\n",
            " 7.9122174e-06 3.7640150e-06 6.4824449e-06 1.1692697e-05 2.9875295e-05\n",
            " 1.7885134e-06 3.2389839e-04 1.0152220e-04 3.4384298e-06 2.5427720e-05\n",
            " 1.5376730e-06 2.7734501e-04 7.2432136e-05 1.6892731e-05 3.6043854e-04\n",
            " 4.6888172e-06 4.0464041e-05 5.3289968e-05 1.9966576e-05 7.1607633e-06\n",
            " 3.8649222e-07]\n",
            "\n",
            "predictions[0].shape :  (46,)\n"
          ]
        }
      ]
    },
    {
      "cell_type": "code",
      "source": [
        "# 이 벡터는 확률 분포를 나타내기 때문에 원소를 모두 더하면 1이 된다\n",
        "np.sum(predictions[0])"
      ],
      "metadata": {
        "colab": {
          "base_uri": "https://localhost:8080/"
        },
        "id": "dMF8Op4cTvs5",
        "outputId": "ecf89b4b-0a45-490b-dd82-99f3a4d0807b"
      },
      "execution_count": 26,
      "outputs": [
        {
          "output_type": "execute_result",
          "data": {
            "text/plain": [
              "1.0000001"
            ]
          },
          "metadata": {},
          "execution_count": 26
        }
      ]
    },
    {
      "cell_type": "code",
      "source": [
        "# 가장 값이 큰것이 예측 클래스가 된다. 가장 확률이 높은 클래스를 확인하자\n",
        "np.argmax(predictions[0])"
      ],
      "metadata": {
        "colab": {
          "base_uri": "https://localhost:8080/"
        },
        "id": "dLKcdUaRTxbx",
        "outputId": "20bb374d-5bd3-4d37-b741-ba176e23cff4"
      },
      "execution_count": 27,
      "outputs": [
        {
          "output_type": "execute_result",
          "data": {
            "text/plain": [
              "3"
            ]
          },
          "metadata": {},
          "execution_count": 27
        }
      ]
    },
    {
      "cell_type": "markdown",
      "source": [
        "레이블과 손실을 다루는 다른 방법<br>\n",
        "앞서 언급한 것처럼 레이블을 인코딩하는 것 말고 다른 방법은 다음과 같이 정수 텐서로 변환하는 것이다.\n",
        "```python\n",
        "y_train = np.array(train_labels)\n",
        "y_test = np.array(test_labels)\n",
        "```\n",
        "이 방식을 사용하려면 손실 함수 하나만 바꾸면 된다. 앞서 사용된 `categorical_crossentropy`는 레이블이 범주형 인코딩이 되어있을 때 사용하는 것이고, 정수 레이블을 사용할 때에는 `spars_categorical_crossentropy` 를 이용해야 한다.<br><br>\n",
        "둘은 인터페이스만 다르고 수학적으로 동일하다"
      ],
      "metadata": {
        "id": "PIOjf_t_TzvC"
      }
    },
    {
      "cell_type": "markdown",
      "source": [
        "### 충분히 큰 중간층(Dense)을(를) 두어야 하는 이유\n",
        "앞서 언급한 것처럼 마지막 출력이 46차원이기 때문에 중간층(Dense)의 유닛이 46개보다 적어서는 안된다. 많아야 좋다. <br>\n",
        "만약 작은 중간층을 두면 정보의 병목이 어떻게 생기는 지 확인해보자"
      ],
      "metadata": {
        "id": "oooyqjYRT3eS"
      }
    },
    {
      "cell_type": "code",
      "source": [
        "# 정보의 병복이 있는 모델\n",
        "model = keras.Sequential([\n",
        "    Dense(64, activation='relu'),\n",
        "    # 4차원으로 유닛 줄이기\n",
        "    Dense(4, activation='relu'),\n",
        "    Dense(46, activation='softmax')\n",
        "])\n",
        "\n",
        "model.compile(optimizer='rmsprop',\n",
        "              loss='categorical_crossentropy',\n",
        "              metrics='acc')\n",
        "model.fit(partial_x_train,\n",
        "          partial_y_train,\n",
        "          epochs=20,\n",
        "          batch_size=128,\n",
        "          validation_data=(x_val, y_val))"
      ],
      "metadata": {
        "colab": {
          "base_uri": "https://localhost:8080/"
        },
        "id": "2tDqoZUfTyjB",
        "outputId": "ac088ee4-69fd-470b-b8c0-07a21320ac51"
      },
      "execution_count": 28,
      "outputs": [
        {
          "output_type": "stream",
          "name": "stdout",
          "text": [
            "Epoch 1/20\n",
            "63/63 [==============================] - 2s 22ms/step - loss: 3.0120 - acc: 0.3291 - val_loss: 2.2093 - val_acc: 0.5060\n",
            "Epoch 2/20\n",
            "63/63 [==============================] - 1s 20ms/step - loss: 1.8231 - acc: 0.6009 - val_loss: 1.6420 - val_acc: 0.6300\n",
            "Epoch 3/20\n",
            "63/63 [==============================] - 2s 33ms/step - loss: 1.4737 - acc: 0.6481 - val_loss: 1.5184 - val_acc: 0.6450\n",
            "Epoch 4/20\n",
            "63/63 [==============================] - 2s 33ms/step - loss: 1.3159 - acc: 0.6665 - val_loss: 1.4652 - val_acc: 0.6530\n",
            "Epoch 5/20\n",
            "63/63 [==============================] - 1s 23ms/step - loss: 1.2108 - acc: 0.6962 - val_loss: 1.4379 - val_acc: 0.6630\n",
            "Epoch 6/20\n",
            "63/63 [==============================] - 1s 23ms/step - loss: 1.1280 - acc: 0.7134 - val_loss: 1.4122 - val_acc: 0.6720\n",
            "Epoch 7/20\n",
            "63/63 [==============================] - 1s 22ms/step - loss: 1.0546 - acc: 0.7175 - val_loss: 1.4168 - val_acc: 0.6700\n",
            "Epoch 8/20\n",
            "63/63 [==============================] - 1s 20ms/step - loss: 0.9887 - acc: 0.7250 - val_loss: 1.4219 - val_acc: 0.6680\n",
            "Epoch 9/20\n",
            "63/63 [==============================] - 1s 20ms/step - loss: 0.9335 - acc: 0.7344 - val_loss: 1.4481 - val_acc: 0.6700\n",
            "Epoch 10/20\n",
            "63/63 [==============================] - 1s 19ms/step - loss: 0.8880 - acc: 0.7462 - val_loss: 1.4789 - val_acc: 0.6700\n",
            "Epoch 11/20\n",
            "63/63 [==============================] - 1s 20ms/step - loss: 0.8518 - acc: 0.7534 - val_loss: 1.4991 - val_acc: 0.6790\n",
            "Epoch 12/20\n",
            "63/63 [==============================] - 1s 20ms/step - loss: 0.8155 - acc: 0.7646 - val_loss: 1.5314 - val_acc: 0.6730\n",
            "Epoch 13/20\n",
            "63/63 [==============================] - 1s 19ms/step - loss: 0.7851 - acc: 0.7740 - val_loss: 1.5526 - val_acc: 0.6800\n",
            "Epoch 14/20\n",
            "63/63 [==============================] - 1s 19ms/step - loss: 0.7585 - acc: 0.7830 - val_loss: 1.6306 - val_acc: 0.6760\n",
            "Epoch 15/20\n",
            "63/63 [==============================] - 1s 20ms/step - loss: 0.7348 - acc: 0.7855 - val_loss: 1.7396 - val_acc: 0.6650\n",
            "Epoch 16/20\n",
            "63/63 [==============================] - 2s 31ms/step - loss: 0.7135 - acc: 0.7949 - val_loss: 1.7791 - val_acc: 0.6740\n",
            "Epoch 17/20\n",
            "63/63 [==============================] - 2s 24ms/step - loss: 0.6932 - acc: 0.7942 - val_loss: 1.8109 - val_acc: 0.6690\n",
            "Epoch 18/20\n",
            "63/63 [==============================] - 1s 19ms/step - loss: 0.6741 - acc: 0.8036 - val_loss: 1.8809 - val_acc: 0.6630\n",
            "Epoch 19/20\n",
            "63/63 [==============================] - 1s 19ms/step - loss: 0.6596 - acc: 0.8039 - val_loss: 1.9473 - val_acc: 0.6650\n",
            "Epoch 20/20\n",
            "63/63 [==============================] - 1s 22ms/step - loss: 0.6433 - acc: 0.8062 - val_loss: 1.9662 - val_acc: 0.6620\n"
          ]
        },
        {
          "output_type": "execute_result",
          "data": {
            "text/plain": [
              "<keras.callbacks.History at 0x7fdb9af9aaf0>"
            ]
          },
          "metadata": {},
          "execution_count": 28
        }
      ]
    },
    {
      "cell_type": "markdown",
      "source": [
        "위에 정확도가 80%대가 나왔던 것에 비해 이번에는 71% 대로 약 8% 감소한 것을 확인 할 수 있었다. 이런 손실의 원인 대부분은 많은 정보(클래스 46개의 분할 초평면을 복원하기에 충분한 정보)를 중간층의 저차원 표현 공간으로 압축하려고 했기 때문이다. 이 모델은 필요한 정보 대부분을 4차원 표현 안에 구겨 넣었지만 당연히.. 전부 넣지 못하기 때문에 정확도가 줄어들 수 밖에 없다."
      ],
      "metadata": {
        "id": "bH3P2SWxT7Aa"
      }
    },
    {
      "cell_type": "code",
      "source": [],
      "metadata": {
        "id": "2tqm2D0MT5co"
      },
      "execution_count": null,
      "outputs": []
    }
  ]
}