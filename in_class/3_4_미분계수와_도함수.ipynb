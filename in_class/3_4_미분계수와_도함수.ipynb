{
  "nbformat": 4,
  "nbformat_minor": 0,
  "metadata": {
    "colab": {
      "provenance": [],
      "toc_visible": true
    },
    "kernelspec": {
      "name": "python3",
      "display_name": "Python 3"
    },
    "language_info": {
      "name": "python"
    },
    "gpuClass": "standard"
  },
  "cells": [
    {
      "cell_type": "markdown",
      "source": [
        "## 미분계수와 도함수"
      ],
      "metadata": {
        "id": "ej9H384Jb2Hg"
      }
    },
    {
      "cell_type": "markdown",
      "source": [
        "### 미분계수\n",
        "먼저 미분에서 사용되는 평균 변화율에 대하여 알아보자.<br>\n",
        "우선 평균 변화율을 정의하기 전에 `\"증분\"`이라는 단어부터 정의하자면, 어떠한 값의 변화량을 의마한다. 즉 x의 변화량은 x의 증분, y의 변화량은 y의 증분이라하며 기호로는 delta(Δ) 를 사용한다. 아래와 같은 `y=f(x)`의 그래프가 있을 때 x와 y의 증분은 아래와 같다.\n",
        "```\n",
        "x의 증분 : Δx = b - a\n",
        "y의 증분 : Δy = f(b) - f(a)\n",
        "```\n",
        "\n",
        "![image](https://user-images.githubusercontent.com/51469989/212826559-31308add-732b-4c27-98a2-59fc2e343de5.png)\n",
        "\n",
        "이제 평균 변화율에 대한 정의를 살펴보자면, 먼저 변화율이라는 것은 말 그대로 얼만큼 변화하는지를 비율로 나타낸 것이다. 평균 변화율이란 \"x의 증분에 대한 y 증분의 비율\" 이다. 즉 아래와 같이 표현해볼 수 있는것이다.\n",
        "\n",
        "![image](https://user-images.githubusercontent.com/51469989/212827294-e4c19da8-8955-4160-b74c-2cf0e7f22cde.png)\n",
        "\n",
        "이는 바로 일차함수의 기울기의 의미와 같다. 따라서 평균 변화율은 다른말로 (a, f(a))와 (b, f(b))를 지나는 직선의 기울기라고 말할 수 도 있는 것이다.\n",
        "<br><br>\n",
        "위에서 설명한 평균 변화율의 정의에서 델타x(Δx)를 0에 한없이 가깝게 보낼 때, y=f(x)의 극한값이 존재한다면 x=a에서 \"미분가능\"하다고 한다. 이때의 극한값을 함수y=f(x)의 x=a에서 순간변화율 또는 미분계수라 한다.\n",
        "<br><br>\n",
        "+) y=f(x)는 x=a에서 미분계수는 f'(a)라고도 적을 수 있으며 f prime a라고 읽습니다.<br>\n",
        "+) 어떠한 함수가 미분 가능하면 연속이다.\n",
        "\n",
        "### 도함수\n",
        "앞서 미분계수란 어떠한 함수 y=f(x)에 대하여 x=a 에서 미분 가능하면 f'(a)를 미분계수라 한다고 정의했다. 그럼 이 미분계수가 함수처럼 나타나 있다면 이것을 도함수라 한다. <br><br>\n",
        "즉, 미분계수와 도함수는 개념적으로는 동일하지만 함수의 형태를 하고 있느냐 아니냐의 차이인것이다. 조금 더 수학적으로 본다면 함수 f(x)가 정의역 x에서 미분 가능할 때, 정의역의 각 원소 x에 미분계수 f'(x)를 대응시키는 새로운 함수를 뜻한다. 이때 f'(x)를 함수 f(x)의 도함수라 하는 것이다.\n",
        "\n",
        "![image](https://user-images.githubusercontent.com/51469989/212828852-b4083391-0ea2-4700-99db-1596a791a126.png)\n",
        "\n",
        "기호로는 위와 같이 표현할 수 있으며, dy/dx는 y를 x에 대하여 미분하라는 기호이다. 쉽게 말해 f(x)에서 x의 임의값에 대하여 미분이 가능한 상황에서, 그 x의 값에 대해 대응되는 미분 값을 모아운 함수가 '도함수' 인것이다. 아래와 같이 Δx를 h로 쓰기도 한다.\n",
        "\n",
        "![image](https://user-images.githubusercontent.com/51469989/212828922-939da879-b08e-4a58-a3bd-abb3ba041700.png)\n",
        "\n",
        "### 함수를 미분할 수 있다는 것은\n",
        "f(x)의 값을 최소화하는 x값을 찾는 작업인 최적화(optimization)에 매우 강력한 도구인것이다. f(x)를 최소화하기 위해 값을 업데이트하고 싶을 때 f의 도함수를 알고 있으면 해결되는 것이다. 도함수는 x가 바뀜에 따라 f(x)가 어떻게 바뀔지 설명해줄 수 있다<br>\n",
        "예를 들어 f(x)의 값을 감소시키고 싶다면 x를 도함수의 방향과 반대로 이동해야 하는 것이다."
      ],
      "metadata": {
        "id": "eZPDefLhb4be"
      }
    },
    {
      "cell_type": "markdown",
      "source": [
        "## 모델을 만들어 간단한 훈련을 시켜보자"
      ],
      "metadata": {
        "id": "aYbxK3L9fL8s"
      }
    },
    {
      "cell_type": "code",
      "source": [
        "from keras import Sequential\n",
        "from keras import optimizers\n",
        "from keras.layers import Input, Dense\n",
        "\n",
        "x = np.linspace(-1, 1, 100)\n",
        "y = x**2\n",
        "np.random.shuffle(x)\n",
        "\n",
        "model = Sequential([\n",
        "    Dense(10, activation='tanh', input_dim=1),\n",
        "    Dense(10, activation='tanh'),\n",
        "    Dense(1)\n",
        "])\n",
        "\n",
        "model.compile(optimizer='SGD', loss='mse', metrics='mse')"
      ],
      "metadata": {
        "id": "3Qagg6MqfPB8"
      },
      "execution_count": 29,
      "outputs": []
    },
    {
      "cell_type": "code",
      "source": [
        "model.fit(x[:70], x[:70]**2, epochs=1000, verbose=0, batch_size=16)"
      ],
      "metadata": {
        "colab": {
          "base_uri": "https://localhost:8080/"
        },
        "id": "b9Fn1P1DfPUD",
        "outputId": "da954855-24dc-44cc-c669-0eb9d5123a0a"
      },
      "execution_count": 30,
      "outputs": [
        {
          "output_type": "execute_result",
          "data": {
            "text/plain": [
              "<keras.callbacks.History at 0x7fdb9b570910>"
            ]
          },
          "metadata": {},
          "execution_count": 30
        }
      ]
    },
    {
      "cell_type": "code",
      "source": [
        "preds = model.predict(x[70:])"
      ],
      "metadata": {
        "colab": {
          "base_uri": "https://localhost:8080/"
        },
        "id": "HCymFvTUfQOj",
        "outputId": "7a6842d9-ea03-4f4d-d4af-02fa1097912b"
      },
      "execution_count": 31,
      "outputs": [
        {
          "output_type": "stream",
          "name": "stdout",
          "text": [
            "1/1 [==============================] - 0s 55ms/step\n"
          ]
        }
      ]
    },
    {
      "cell_type": "code",
      "source": [
        "model.predict([0.555])"
      ],
      "metadata": {
        "colab": {
          "base_uri": "https://localhost:8080/"
        },
        "id": "RPf8agHWfRDK",
        "outputId": "206b319a-ee3d-4340-e8c1-3b76386bb570"
      },
      "execution_count": 32,
      "outputs": [
        {
          "output_type": "stream",
          "name": "stdout",
          "text": [
            "1/1 [==============================] - 0s 29ms/step\n"
          ]
        },
        {
          "output_type": "execute_result",
          "data": {
            "text/plain": [
              "array([[0.3711583]], dtype=float32)"
            ]
          },
          "metadata": {},
          "execution_count": 32
        }
      ]
    },
    {
      "cell_type": "markdown",
      "source": [
        "## x : 1개 / y : 2개"
      ],
      "metadata": {
        "id": "Sl5oemoufSL_"
      }
    },
    {
      "cell_type": "code",
      "source": [
        "x = np.linspace(-1, 1, 1000)\n",
        "np.random.shuffle(x)"
      ],
      "metadata": {
        "id": "Xr70Fi2dfR3D"
      },
      "execution_count": 33,
      "outputs": []
    },
    {
      "cell_type": "code",
      "source": [
        "# 시각적으로 보기 편하게 괄호\n",
        "y1 = (x**2) + (3*x+1)\n",
        "y2 = (x*2) + 3"
      ],
      "metadata": {
        "id": "E0tP6iZ5fVWT"
      },
      "execution_count": 34,
      "outputs": []
    },
    {
      "cell_type": "code",
      "source": [
        "y1 = y1.reshape(1000, 1)\n",
        "y2 = y2.reshape(1000, 1)"
      ],
      "metadata": {
        "id": "VwoP86JzfWsD"
      },
      "execution_count": 35,
      "outputs": []
    },
    {
      "cell_type": "code",
      "source": [
        "y_concat = np.concatenate((y1, y2), axis = 1)"
      ],
      "metadata": {
        "id": "Y2zxyA7xfXmT"
      },
      "execution_count": 36,
      "outputs": []
    },
    {
      "cell_type": "code",
      "source": [
        "# 또는\n",
        "y = np.zeros(shape = (1000, 2))\n",
        "y[:3]"
      ],
      "metadata": {
        "colab": {
          "base_uri": "https://localhost:8080/"
        },
        "id": "UxqWPnRcfYtb",
        "outputId": "81467a13-c83d-4b78-d4a1-1c0095fc8e92"
      },
      "execution_count": 37,
      "outputs": [
        {
          "output_type": "execute_result",
          "data": {
            "text/plain": [
              "array([[0., 0.],\n",
              "       [0., 0.],\n",
              "       [0., 0.]])"
            ]
          },
          "metadata": {},
          "execution_count": 37
        }
      ]
    },
    {
      "cell_type": "code",
      "source": [
        "y3 = (x**2) + (3*x+1)\n",
        "y4 = (x*2) + 3\n",
        "\n",
        "y[:, 0] = y3\n",
        "y[:, 1] = y4\n",
        "y"
      ],
      "metadata": {
        "colab": {
          "base_uri": "https://localhost:8080/"
        },
        "id": "7TAG6vwUfY6z",
        "outputId": "a1941f46-a4ab-412b-c321-a2cbd24ccc7f"
      },
      "execution_count": 38,
      "outputs": [
        {
          "output_type": "execute_result",
          "data": {
            "text/plain": [
              "array([[ 2.10377445,  3.66266266],\n",
              "       [-0.09528948,  2.14914915],\n",
              "       [ 3.86556627,  4.52352352],\n",
              "       ...,\n",
              "       [ 0.55860766,  2.68968969],\n",
              "       [-0.15054594,  2.0970971 ],\n",
              "       [ 0.23527532,  2.43743744]])"
            ]
          },
          "metadata": {},
          "execution_count": 38
        }
      ]
    },
    {
      "cell_type": "code",
      "source": [
        "model = Sequential([\n",
        "    Dense(10, activation='tanh', input_dim=1),\n",
        "    Dense(10, activation='tanh'),\n",
        "    Dense(2)\n",
        "])\n",
        "\n",
        "model.compile(optimizer='SGD', loss='mse', metrics='mse')"
      ],
      "metadata": {
        "id": "nFHyXs-bfaEi"
      },
      "execution_count": 39,
      "outputs": []
    },
    {
      "cell_type": "code",
      "source": [
        "n = 800\n",
        "model.fit(x[:n], y[:n], epochs = 100, verbose = 0, batch_size=3)\n",
        "\n",
        "preds = model(x[n:])"
      ],
      "metadata": {
        "id": "f2OmdHhjfa8r"
      },
      "execution_count": 40,
      "outputs": []
    },
    {
      "cell_type": "code",
      "source": [
        "preds[:5]"
      ],
      "metadata": {
        "colab": {
          "base_uri": "https://localhost:8080/"
        },
        "id": "2zv2pIMgfbuD",
        "outputId": "c820a018-ee21-4888-fe30-46d5e4ad9936"
      },
      "execution_count": 41,
      "outputs": [
        {
          "output_type": "execute_result",
          "data": {
            "text/plain": [
              "<tf.Tensor: shape=(5, 2), dtype=float32, numpy=\n",
              "array([[-0.60233206,  1.5841923 ],\n",
              "       [ 0.85487765,  2.9122603 ],\n",
              "       [ 0.7667381 ,  2.8473482 ],\n",
              "       [ 2.9699495 ,  4.1020746 ],\n",
              "       [ 0.8660473 ,  2.9203587 ]], dtype=float32)>"
            ]
          },
          "metadata": {},
          "execution_count": 41
        }
      ]
    },
    {
      "cell_type": "code",
      "source": [
        "y[795:800]"
      ],
      "metadata": {
        "colab": {
          "base_uri": "https://localhost:8080/"
        },
        "id": "nXzouw_rfcgb",
        "outputId": "f8c55980-fe9d-4c1b-d51f-eb22f40b4436"
      },
      "execution_count": 42,
      "outputs": [
        {
          "output_type": "execute_result",
          "data": {
            "text/plain": [
              "array([[ 4.60601242,  4.83983984],\n",
              "       [-0.45720495,  1.78078078],\n",
              "       [ 3.44010778,  4.33133133],\n",
              "       [ 2.69215261,  3.97097097],\n",
              "       [ 2.60518877,  3.92692693]])"
            ]
          },
          "metadata": {},
          "execution_count": 42
        }
      ]
    },
    {
      "cell_type": "code",
      "source": [
        "plt.scatter(y[780:, 0], y[780:, 1])\n",
        "plt.scatter(preds[:20 ,0], preds[:20 ,1])"
      ],
      "metadata": {
        "colab": {
          "base_uri": "https://localhost:8080/",
          "height": 283
        },
        "id": "hn0_lWaXfdPb",
        "outputId": "f285d5c4-0882-4c34-a02b-c65b145ab772"
      },
      "execution_count": 43,
      "outputs": [
        {
          "output_type": "execute_result",
          "data": {
            "text/plain": [
              "<matplotlib.collections.PathCollection at 0x7fdb9baef250>"
            ]
          },
          "metadata": {},
          "execution_count": 43
        },
        {
          "output_type": "display_data",
          "data": {
            "text/plain": [
              "<Figure size 432x288 with 1 Axes>"
            ],
            "image/png": "[encoded data removed]"
          },
          "metadata": {
            "needs_background": "light"
          }
        }
      ]
    },
    {
      "cell_type": "markdown",
      "source": [
        "## x : 2개 / y : 1개"
      ],
      "metadata": {
        "id": "VCBTbbOpfef-"
      }
    },
    {
      "cell_type": "code",
      "source": [
        "x1 = np.linspace(-1, 1, 100)\n",
        "x2 = np.linspace(-1, 1, 100)\n",
        "\n",
        "np.random.shuffle(x1)\n",
        "np.random.shuffle(x2)"
      ],
      "metadata": {
        "id": "ACLvNscMfeAz"
      },
      "execution_count": 44,
      "outputs": []
    },
    {
      "cell_type": "code",
      "source": [
        "y = x1+ x2\n",
        "y[:3]"
      ],
      "metadata": {
        "colab": {
          "base_uri": "https://localhost:8080/"
        },
        "id": "Grr-3_SAfger",
        "outputId": "79d2ae22-8d53-4cb8-924a-94aba91d45d7"
      },
      "execution_count": 45,
      "outputs": [
        {
          "output_type": "execute_result",
          "data": {
            "text/plain": [
              "array([0.22222222, 0.06060606, 0.60606061])"
            ]
          },
          "metadata": {},
          "execution_count": 45
        }
      ]
    },
    {
      "cell_type": "code",
      "source": [
        "x1 = x1[:, np.newaxis]\n",
        "x2 = x2[:, np.newaxis]"
      ],
      "metadata": {
        "id": "IDwdTBIffiGD"
      },
      "execution_count": 46,
      "outputs": []
    },
    {
      "cell_type": "code",
      "source": [
        "x = np.concatenate((x1, x2), axis=1)\n",
        "x[:3]"
      ],
      "metadata": {
        "colab": {
          "base_uri": "https://localhost:8080/"
        },
        "id": "UsHRLKlefiyD",
        "outputId": "89605f45-48e3-400a-ffee-017f9681e59d"
      },
      "execution_count": 47,
      "outputs": [
        {
          "output_type": "execute_result",
          "data": {
            "text/plain": [
              "array([[-0.53535354,  0.75757576],\n",
              "       [-0.07070707,  0.13131313],\n",
              "       [ 0.35353535,  0.25252525]])"
            ]
          },
          "metadata": {},
          "execution_count": 47
        }
      ]
    },
    {
      "cell_type": "code",
      "source": [
        "model = Sequential([\n",
        "    Dense(10, activation='tanh', input_dim=2),\n",
        "    Dense(10, activation='tanh'),\n",
        "    Dense(1)\n",
        "])\n",
        "\n",
        "model.compile(optimizer='SGD', loss='mse', metrics='mse')\n",
        "\n",
        "n=80\n",
        "model.fit(x[:n], y[:n], epochs=100, verbose=0, batch_size=32)\n",
        "preds = model.predict(x[n:])"
      ],
      "metadata": {
        "colab": {
          "base_uri": "https://localhost:8080/"
        },
        "id": "aR-1sbC2fjjj",
        "outputId": "35f50d81-e799-481d-f876-356f7da308f2"
      },
      "execution_count": 48,
      "outputs": [
        {
          "output_type": "stream",
          "name": "stdout",
          "text": [
            "1/1 [==============================] - 0s 56ms/step\n"
          ]
        }
      ]
    },
    {
      "cell_type": "code",
      "source": [
        "preds[:5]"
      ],
      "metadata": {
        "colab": {
          "base_uri": "https://localhost:8080/"
        },
        "id": "_xJgBDPxfkTr",
        "outputId": "258ee91f-380a-45d6-d086-acf0e163ed47"
      },
      "execution_count": 49,
      "outputs": [
        {
          "output_type": "execute_result",
          "data": {
            "text/plain": [
              "array([[-0.247642  ],\n",
              "       [ 0.09600483],\n",
              "       [ 0.05285657],\n",
              "       [-0.9566623 ],\n",
              "       [-0.9347886 ]], dtype=float32)"
            ]
          },
          "metadata": {},
          "execution_count": 49
        }
      ]
    },
    {
      "cell_type": "code",
      "source": [
        "preds.shape"
      ],
      "metadata": {
        "colab": {
          "base_uri": "https://localhost:8080/"
        },
        "id": "rhzN-NiuflFL",
        "outputId": "a45fc99a-7520-4d49-a144-c0ec0ca8ef7a"
      },
      "execution_count": 50,
      "outputs": [
        {
          "output_type": "execute_result",
          "data": {
            "text/plain": [
              "(20, 1)"
            ]
          },
          "metadata": {},
          "execution_count": 50
        }
      ]
    },
    {
      "cell_type": "code",
      "source": [
        "plt.scatter(range(20), y[80:])\n",
        "plt.scatter(range(20), preds)"
      ],
      "metadata": {
        "colab": {
          "base_uri": "https://localhost:8080/",
          "height": 283
        },
        "id": "MkkEUwwefl1z",
        "outputId": "f45c02cd-13a0-4568-8f5b-344a102dfcbd"
      },
      "execution_count": 51,
      "outputs": [
        {
          "output_type": "execute_result",
          "data": {
            "text/plain": [
              "<matplotlib.collections.PathCollection at 0x7fdb9bd68dc0>"
            ]
          },
          "metadata": {},
          "execution_count": 51
        },
        {
          "output_type": "display_data",
          "data": {
            "text/plain": [
              "<Figure size 432x288 with 1 Axes>"
            ],
            "image/png": "[encoded data removed]"
          },
          "metadata": {
            "needs_background": "light"
          }
        }
      ]
    },
    {
      "cell_type": "markdown",
      "source": [
        "## x : 2개 / y : 2개"
      ],
      "metadata": {
        "id": "ldxjhQHFfoX3"
      }
    },
    {
      "cell_type": "code",
      "source": [
        "x1 = np.linspace(-1, 1, 100)\n",
        "x2 = np.linspace(-1, 1, 100)\n",
        "\n",
        "np.random.shuffle(x1)\n",
        "np.random.shuffle(x2)\n",
        "\n",
        "x1 = x1[:, np.newaxis]\n",
        "x2 = x2[:, np.newaxis]\n",
        "\n",
        "x = np.concatenate((x1, x2), axis=1)\n",
        "x[:3]"
      ],
      "metadata": {
        "colab": {
          "base_uri": "https://localhost:8080/"
        },
        "id": "ZQwqPy8MfnBD",
        "outputId": "d7846ec4-1a7a-42ec-df60-ef879859d93a"
      },
      "execution_count": 52,
      "outputs": [
        {
          "output_type": "execute_result",
          "data": {
            "text/plain": [
              "array([[-0.8989899 , -0.27272727],\n",
              "       [-0.95959596,  0.43434343],\n",
              "       [-0.53535354,  0.39393939]])"
            ]
          },
          "metadata": {},
          "execution_count": 52
        }
      ]
    },
    {
      "cell_type": "code",
      "source": [
        "# 시각적으로 보기 편하게 괄호\n",
        "y1 = (x**2) + (3*x+1)\n",
        "y2 = (x*2) + 3\n",
        "\n",
        "y1 = y1.reshape(200, 1)\n",
        "y2 = y2.reshape(200, 1)\n",
        "\n",
        "y_concat = np.concatenate((y1, y2), axis = 1)"
      ],
      "metadata": {
        "id": "6en_8flyfpab"
      },
      "execution_count": 53,
      "outputs": []
    },
    {
      "cell_type": "code",
      "source": [
        "model = Sequential([\n",
        "    Dense(10, activation='tanh', input_dim=2),\n",
        "    Dense(10, activation='tanh'),\n",
        "    Dense(2)\n",
        "])\n",
        "\n",
        "model.compile(optimizer='SGD', loss='mse', metrics='mse')\n",
        "\n",
        "n=80\n",
        "model.fit(x[:n], y_concat[:n], epochs=100, verbose=0, batch_size=32)\n",
        "preds = model.predict(x[n:])"
      ],
      "metadata": {
        "id": "1sj6XkejfqG7",
        "outputId": "f84cdfc6-76ce-4a0c-9901-70c8ee7ccdc8",
        "colab": {
          "base_uri": "https://localhost:8080/"
        }
      },
      "execution_count": 54,
      "outputs": [
        {
          "output_type": "stream",
          "name": "stdout",
          "text": [
            "1/1 [==============================] - 0s 48ms/step\n"
          ]
        }
      ]
    },
    {
      "cell_type": "code",
      "source": [
        "preds[:5]"
      ],
      "metadata": {
        "id": "JTYT6UsGfq5T",
        "outputId": "5b647062-6121-46f2-ed62-2619e13be4b0",
        "colab": {
          "base_uri": "https://localhost:8080/"
        }
      },
      "execution_count": 55,
      "outputs": [
        {
          "output_type": "execute_result",
          "data": {
            "text/plain": [
              "array([[1.1027111, 2.9543557],\n",
              "       [1.140363 , 2.8687625],\n",
              "       [1.2557786, 3.0822048],\n",
              "       [1.0611373, 2.7769809],\n",
              "       [1.3560331, 3.04706  ]], dtype=float32)"
            ]
          },
          "metadata": {},
          "execution_count": 55
        }
      ]
    },
    {
      "cell_type": "code",
      "source": [
        "preds.shape"
      ],
      "metadata": {
        "id": "yzVZStESfr0b",
        "outputId": "8a29ac5b-cea0-4356-e6a4-f292c09a62fe",
        "colab": {
          "base_uri": "https://localhost:8080/"
        }
      },
      "execution_count": 56,
      "outputs": [
        {
          "output_type": "execute_result",
          "data": {
            "text/plain": [
              "(20, 2)"
            ]
          },
          "metadata": {},
          "execution_count": 56
        }
      ]
    },
    {
      "cell_type": "code",
      "source": [
        "plt.scatter(y_concat[80:, 0], y_concat[80:, 1])\n",
        "plt.scatter(preds[:20 ,0], preds[:20 ,1])"
      ],
      "metadata": {
        "id": "x-R8boowfskb",
        "outputId": "b3ccc02c-be8b-49f1-f32e-25d3fe9fac0e",
        "colab": {
          "base_uri": "https://localhost:8080/",
          "height": 283
        }
      },
      "execution_count": 57,
      "outputs": [
        {
          "output_type": "execute_result",
          "data": {
            "text/plain": [
              "<matplotlib.collections.PathCollection at 0x7fdb9bd5f8e0>"
            ]
          },
          "metadata": {},
          "execution_count": 57
        },
        {
          "output_type": "display_data",
          "data": {
            "text/plain": [
              "<Figure size 432x288 with 1 Axes>"
            ],
            "image/png": "[encoded data removed]"
          },
          "metadata": {
            "needs_background": "light"
          }
        }
      ]
    },
    {
      "cell_type": "code",
      "source": [],
      "metadata": {
        "id": "LYw9lpj3ftsj"
      },
      "execution_count": null,
      "outputs": []
    }
  ]
}