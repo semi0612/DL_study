{
 "cells": [
  {
   "cell_type": "code",
   "execution_count": 4,
   "id": "41360011-4f79-4f3c-9d3f-f94260155af7",
   "metadata": {},
   "outputs": [
    {
     "data": {
      "text/plain": [
       "'hello world'"
      ]
     },
     "execution_count": 4,
     "metadata": {},
     "output_type": "execute_result"
    }
   ],
   "source": [
    "data = \"\"\"\n",
    "<head>\n",
    "\t<title>hello world</title>\n",
    "</head>\n",
    "\"\"\"\n",
    "\n",
    "import re\n",
    "p = re.compile(\"(?<=>).*(?=<)\")\n",
    "p.search(data).group()"
   ]
  },
  {
   "cell_type": "code",
   "execution_count": 25,
   "id": "8e5e09ea-f6a2-4a2e-90f1-4f699ebfea6d",
   "metadata": {},
   "outputs": [
    {
     "data": {
      "text/plain": [
       "array([[ 0,  2,  4],\n",
       "       [ 6,  8, 10],\n",
       "       [12, 14, 16],\n",
       "       [18, 20, 22],\n",
       "       [24, 26, 28],\n",
       "       [30, 32, 34]])"
      ]
     },
     "execution_count": 25,
     "metadata": {},
     "output_type": "execute_result"
    }
   ],
   "source": [
    "import numpy as np\n",
    "\n",
    "a = np.array(range(36)).reshape((6, 6))\n",
    "a[:,[0, 2, 4]]"
   ]
  },
  {
   "cell_type": "code",
   "execution_count": 31,
   "id": "cacfa4f1-3e48-4cd5-b72e-c471a5f641c6",
   "metadata": {},
   "outputs": [
    {
     "data": {
      "text/plain": [
       "array([[[ 1,  2,  3,  4,  5,  6,  7,  8,  9, 10, 11],\n",
       "        [12, 13, 14, 15, 16, 17, 18, 19, 20, 21, 22],\n",
       "        [23, 24, 25, 26, 27, 28, 29, 30, 31, 32, 33]],\n",
       "\n",
       "       [[34, 35, 36, 37, 38, 39, 40, 41, 42, 43, 44],\n",
       "        [45, 46, 47, 48, 49, 50, 51, 52, 53, 54, 55],\n",
       "        [56, 57, 58, 59, 60, 61, 62, 63, 64, 65, 66]],\n",
       "\n",
       "       [[67, 68, 69, 70, 71, 72, 73, 74, 75, 76, 77],\n",
       "        [78, 79, 80, 81, 82, 83, 84, 85, 86, 87, 88],\n",
       "        [89, 90, 91, 92, 93, 94, 95, 96, 97, 98, 99]]])"
      ]
     },
     "execution_count": 31,
     "metadata": {},
     "output_type": "execute_result"
    }
   ],
   "source": [
    "a = np.array(range(1, 100)).reshape(3, 3, -1)\n",
    "a"
   ]
  },
  {
   "cell_type": "code",
   "execution_count": 36,
   "id": "7878cd65-588f-486f-9687-3f0673b5b124",
   "metadata": {},
   "outputs": [
    {
     "name": "stdout",
     "output_type": "stream",
     "text": [
      "[3 4]\n"
     ]
    }
   ],
   "source": [
    "a = np.array([0,1,2,3,4,5])\n",
    "b = np.array([[0],[10],[20],[30],[40],[50]])\n",
    "c = a+b\n",
    "\n",
    "yellow = c[[0, 0] ,[3, 4]]\n",
    "print(yellow)"
   ]
  },
  {
   "cell_type": "code",
   "execution_count": 39,
   "id": "38dac0ec-e684-49e8-b7e0-c8e79b6be740",
   "metadata": {},
   "outputs": [
    {
     "name": "stdout",
     "output_type": "stream",
     "text": [
      "[ 2 12 22 32 42 52]\n"
     ]
    }
   ],
   "source": [
    "red = c[:,2]\n",
    "print(red)"
   ]
  },
  {
   "cell_type": "code",
   "execution_count": 45,
   "id": "8ce757d2-a804-4274-ba86-cd41455db9b9",
   "metadata": {},
   "outputs": [
    {
     "name": "stdout",
     "output_type": "stream",
     "text": [
      "[[44 45]\n",
      " [54 55]]\n"
     ]
    }
   ],
   "source": [
    "blue = c[4:, 4:,]\n",
    "print(blue)"
   ]
  },
  {
   "cell_type": "code",
   "execution_count": 46,
   "id": "3a168fc9-1f94-4af9-b24a-ae8264ff16aa",
   "metadata": {},
   "outputs": [
    {
     "name": "stdout",
     "output_type": "stream",
     "text": [
      "[[20 22 24]\n",
      " [40 42 44]]\n"
     ]
    }
   ],
   "source": [
    "blue_line = c[2::2, ::2]\n",
    "print(blue_line)"
   ]
  },
  {
   "cell_type": "code",
   "execution_count": 48,
   "id": "9bd92984-e9e1-4544-8a05-2e4f6c2de786",
   "metadata": {},
   "outputs": [
    {
     "data": {
      "text/plain": [
       "array([[ 0,  1,  2,  3,  4],\n",
       "       [ 5,  6,  7,  8,  9],\n",
       "       [10, 11, 12, 13, 14],\n",
       "       [15, 16, 17, 18, 19],\n",
       "       [20, 21, 22, 23, 24]])"
      ]
     },
     "execution_count": 48,
     "metadata": {},
     "output_type": "execute_result"
    }
   ],
   "source": [
    "a = np.arange(25).reshape(5, 5)\n",
    "a"
   ]
  },
  {
   "cell_type": "code",
   "execution_count": 49,
   "id": "70dadc1c-53ef-4033-8b33-419f5bb1d924",
   "metadata": {},
   "outputs": [
    {
     "data": {
      "text/plain": [
       "array([ 1,  7, 13, 19])"
      ]
     },
     "execution_count": 49,
     "metadata": {},
     "output_type": "execute_result"
    }
   ],
   "source": [
    "a[[0, 1, 2, 3], [1, 2, 3, 4]]"
   ]
  },
  {
   "cell_type": "code",
   "execution_count": null,
   "id": "2271439e-baf1-43bc-b809-db4b13eb97ae",
   "metadata": {},
   "outputs": [],
   "source": []
  }
 ],
 "metadata": {
  "kernelspec": {
   "display_name": "Python 3 (ipykernel)",
   "language": "python",
   "name": "python3"
  },
  "language_info": {
   "codemirror_mode": {
    "name": "ipython",
    "version": 3
   },
   "file_extension": ".py",
   "mimetype": "text/x-python",
   "name": "python",
   "nbconvert_exporter": "python",
   "pygments_lexer": "ipython3",
   "version": "3.10.6"
  }
 },
 "nbformat": 4,
 "nbformat_minor": 5
}
