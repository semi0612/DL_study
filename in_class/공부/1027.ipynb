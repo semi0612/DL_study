{
 "cells": [
  {
   "cell_type": "code",
   "execution_count": 1,
   "id": "714703ad-fb67-4d65-967e-9c50a9f6cda3",
   "metadata": {},
   "outputs": [],
   "source": [
    "import pandas as pd\n",
    "df = pd.DataFrame({\"UserID\" : ['User1', 'User1', 'User2', 'User2', 'User3', 'User4'],\n",
    "                   \"ItemID\" : ['Item1', 'Item3', 'Item1', 'Item2', 'Item4', 'Item2'], \n",
    "                   \"Rating\" : [3, 3, 4, 1, 2, 5]}) "
   ]
  },
  {
   "cell_type": "code",
   "execution_count": 5,
   "id": "799867a5-0fed-4e66-b6c6-4eb07ebaebc9",
   "metadata": {},
   "outputs": [
    {
     "data": {
      "text/html": [
       "<div>\n",
       "<style scoped>\n",
       "    .dataframe tbody tr th:only-of-type {\n",
       "        vertical-align: middle;\n",
       "    }\n",
       "\n",
       "    .dataframe tbody tr th {\n",
       "        vertical-align: top;\n",
       "    }\n",
       "\n",
       "    .dataframe thead th {\n",
       "        text-align: right;\n",
       "    }\n",
       "</style>\n",
       "<table border=\"1\" class=\"dataframe\">\n",
       "  <thead>\n",
       "    <tr style=\"text-align: right;\">\n",
       "      <th>ItemID</th>\n",
       "      <th>Item1</th>\n",
       "      <th>Item2</th>\n",
       "      <th>Item3</th>\n",
       "      <th>Item4</th>\n",
       "    </tr>\n",
       "    <tr>\n",
       "      <th>UserID</th>\n",
       "      <th></th>\n",
       "      <th></th>\n",
       "      <th></th>\n",
       "      <th></th>\n",
       "    </tr>\n",
       "  </thead>\n",
       "  <tbody>\n",
       "    <tr>\n",
       "      <th>User1</th>\n",
       "      <td>3.0</td>\n",
       "      <td>NaN</td>\n",
       "      <td>3.0</td>\n",
       "      <td>NaN</td>\n",
       "    </tr>\n",
       "    <tr>\n",
       "      <th>User2</th>\n",
       "      <td>4.0</td>\n",
       "      <td>1.0</td>\n",
       "      <td>NaN</td>\n",
       "      <td>NaN</td>\n",
       "    </tr>\n",
       "    <tr>\n",
       "      <th>User3</th>\n",
       "      <td>NaN</td>\n",
       "      <td>NaN</td>\n",
       "      <td>NaN</td>\n",
       "      <td>2.0</td>\n",
       "    </tr>\n",
       "    <tr>\n",
       "      <th>User4</th>\n",
       "      <td>NaN</td>\n",
       "      <td>5.0</td>\n",
       "      <td>NaN</td>\n",
       "      <td>NaN</td>\n",
       "    </tr>\n",
       "  </tbody>\n",
       "</table>\n",
       "</div>"
      ],
      "text/plain": [
       "ItemID  Item1  Item2  Item3  Item4\n",
       "UserID                            \n",
       "User1     3.0    NaN    3.0    NaN\n",
       "User2     4.0    1.0    NaN    NaN\n",
       "User3     NaN    NaN    NaN    2.0\n",
       "User4     NaN    5.0    NaN    NaN"
      ]
     },
     "execution_count": 5,
     "metadata": {},
     "output_type": "execute_result"
    }
   ],
   "source": [
    "df.pivot_table(values = 'Rating', index = 'UserID', columns = 'ItemID')"
   ]
  },
  {
   "cell_type": "code",
   "execution_count": 9,
   "id": "1da2fac4-dcc3-44ae-86d8-9cd737e0b418",
   "metadata": {},
   "outputs": [],
   "source": [
    "str = '[{\"id\": 28, \"name\": \"Action\"}, {\"id\": 12, \"name\": \"Adventure\"}, {\"id\": 14, \"name\": \"Fantasy\"}, {\"id\": 878, \"name\": \"Science Fiction\"}]'"
   ]
  },
  {
   "cell_type": "code",
   "execution_count": 10,
   "id": "9b6426eb-f05e-4cf0-ac90-d953fe731b79",
   "metadata": {},
   "outputs": [
    {
     "data": {
      "text/plain": [
       "['Action', 'Adventure', 'Fantasy', 'Science Fiction']"
      ]
     },
     "execution_count": 10,
     "metadata": {},
     "output_type": "execute_result"
    }
   ],
   "source": [
    "from ast import literal_eval\n",
    "dict_series = literal_eval(str)    \n",
    "[i['name'] for i in dict_series]  "
   ]
  },
  {
   "cell_type": "code",
   "execution_count": 11,
   "id": "fe03b039-acd7-4cd1-914d-657b35a1e1dd",
   "metadata": {},
   "outputs": [],
   "source": [
    "from nltk.sentiment.vader import SentimentIntensityAnalyzer\n",
    "\n",
    "text = 'I decided, very early on, just to accept life unconditionally.I never expected it to do anything special for me, yet I seemed to accomplish far more than I had ever hoped. Most of the time it just happened to me withoutmy ever seeking it.' "
   ]
  },
  {
   "cell_type": "code",
   "execution_count": 14,
   "id": "a5c28914-ae49-4397-9b59-2ee62651b64e",
   "metadata": {},
   "outputs": [
    {
     "data": {
      "text/plain": [
       "{'neg': 0.0, 'neu': 0.776, 'pos': 0.224, 'compound': 0.8658}"
      ]
     },
     "execution_count": 14,
     "metadata": {},
     "output_type": "execute_result"
    }
   ],
   "source": [
    "senti = SentimentIntensityAnalyzer()\n",
    "senti.polarity_scores(text)\n"
   ]
  },
  {
   "cell_type": "code",
   "execution_count": 1,
   "id": "0b217844-ad41-48b6-8fce-c78cda844fb6",
   "metadata": {},
   "outputs": [],
   "source": [
    "import pandas as pd\n",
    "from surprise import Reader, Dataset, SVD, accuracy\n",
    "from surprise.model_selection import train_test_split\n",
    "\n",
    "ratings = pd.read_csv('./ml-latest-small/ml-latest-small/ratings.csv')\n",
    "reader = Reader(rating_scale = (0.5,5.0)) \n",
    "data = Dataset.load_from_df(ratings[['userId','movieId','rating']], reader)\n",
    "trainset, testset = train_test_split(data, test_size=0.25)\n",
    "model = SVD(n_epochs=50, n_factors=50) "
   ]
  },
  {
   "cell_type": "code",
   "execution_count": 5,
   "id": "a4289490-4133-4015-ab45-3bcf41d8b4b0",
   "metadata": {},
   "outputs": [
    {
     "data": {
      "text/plain": [
       "3.5025982783926377"
      ]
     },
     "execution_count": 5,
     "metadata": {},
     "output_type": "execute_result"
    }
   ],
   "source": [
    "model.fit(trainset)\n",
    "\n",
    "uid = str(196)\n",
    "iid = str(302)\n",
    "pred = model.predict(uid, iid)\n",
    "\n",
    "pred.est "
   ]
  },
  {
   "cell_type": "code",
   "execution_count": null,
   "id": "aabed395-673f-4b9a-85a3-aff234be97ec",
   "metadata": {},
   "outputs": [],
   "source": []
  },
  {
   "cell_type": "code",
   "execution_count": null,
   "id": "cfdba91f-5d13-4745-9011-983792c4cb5c",
   "metadata": {},
   "outputs": [],
   "source": []
  },
  {
   "cell_type": "code",
   "execution_count": null,
   "id": "c32ab8a2-f958-4956-9b4c-69913843159d",
   "metadata": {},
   "outputs": [],
   "source": []
  },
  {
   "cell_type": "code",
   "execution_count": null,
   "id": "ec490a34-e9b1-4f11-b2a8-05855a843665",
   "metadata": {},
   "outputs": [],
   "source": []
  },
  {
   "cell_type": "code",
   "execution_count": null,
   "id": "2cb31aa6-76ba-4b23-9961-35ec87c6ab51",
   "metadata": {},
   "outputs": [],
   "source": []
  },
  {
   "cell_type": "code",
   "execution_count": null,
   "id": "da1eabe3-4f69-449f-ab53-73250e3a702f",
   "metadata": {},
   "outputs": [],
   "source": []
  },
  {
   "cell_type": "code",
   "execution_count": null,
   "id": "5288d477-44ea-4138-b597-6dccabbe3795",
   "metadata": {
    "collapsed": true,
    "jupyter": {
     "outputs_hidden": true
    },
    "tags": []
   },
   "outputs": [
    {
     "name": "stdout",
     "output_type": "stream",
     "text": [
      "\n",
      "우크라이나 헤르손 탈환 시도...가장 치열한 전투 예상  :  http://www.womennews.co.kr/news/articleView.html?idxno=229198\n",
      "러, 푸틴 참관 대규모 핵 훈련…\"우크라이나 '더러운 폭탄' 우려\"  :  http://news.tvchosun.com/site/data/html_dir/2022/10/27/2022102790031.html\n",
      "우크라이나, 수백만 해외 피란민에 “올겨울엔 귀국 말라” 당부  :  https://news.kbs.co.kr/news/view.do?ncd=5587218&ref=A\n",
      "전쟁 피해 한국 온 우크라이나인 뇌출혈…인천시 도움으로 치료  :  http://www.newsis.com/view/?id=NISX20221026_0002062855&cID=14001&pID=14000\n",
      "우크라이나 전쟁 후 흑해 돌고래 5만 마리 떼죽음, 왜?  :  https://view.asiae.co.kr/article/2022102614482734312\n",
      "악수하는 독일-우크라이나 대통령  :  http://www.newsis.com/view/?id=NISI20221026_0001114670\n",
      "“감당할 수 없다, 귀국하지 마라”...혹독한 겨울 대비 나선 우크라이나  :  https://www.khan.co.kr/world/europe-russia/article/202210261512001\n",
      "“유럽 천연가스, 우크라이나 전쟁 이전 수준으로 회귀”  :  http://www.edaily.co.kr/news/newspath.asp?newsid=01275926632497184\n",
      "'지구안보'의 눈으로 본 우크라이나전쟁  :  https://www.pressian.com/pages/articles/2022102616183903030?utm_source=naver&utm_medium=search\n",
      "승리의 V 그리는 우크라이나 전차병  :  http://www.newsis.com/view/?id=NISI20221027_0001115701\n"
     ]
    },
    {
     "data": {
      "text/plain": [
       "[None, None, None, None, None, None, None, None, None, None]"
      ]
     },
     "execution_count": 17,
     "metadata": {},
     "output_type": "execute_result"
    }
   ],
   "source": [
    "from urllib import request\n",
    "from bs4 import BeautifulSoup\n",
    "\n",
    "url = \"https://search.naver.com/search.naver?where=news&sm=tab_jum&query=%EC%9A%B0%ED%81%AC%EB%9D%BC%EC%9D%B4%EB%82%98\"\n",
    "\n",
    "html = request.urlopen(url).read()\n",
    "soup = BeautifulSoup(html, 'html.parser')\n",
    "title = soup.find_all(class_ = \"news_tit\")\n",
    "\n",
    "[title[i].text for i in range(len(title))]\n",
    "\n",
    "print()\n",
    "\n",
    "# for i in title : \n",
    "#   print(i.text, \" : \", i.attrs['href'])\n",
    "[print(i.text, \" : \", i.attrs['href']) for i in title]\n"
   ]
  },
  {
   "cell_type": "code",
   "execution_count": 120,
   "id": "efb85f08-9632-4cec-99fb-108779ed01a3",
   "metadata": {
    "collapsed": true,
    "jupyter": {
     "outputs_hidden": true
    },
    "tags": []
   },
   "outputs": [
    {
     "name": "stdin",
     "output_type": "stream",
     "text": [
      " dd\n"
     ]
    },
    {
     "name": "stdout",
     "output_type": "stream",
     "text": [
      "[DD 퇴근길] 애플도 ‘USB-C’ 진영으로…독자 생태계 흔들리나?  :  https://cp.news.search.daum.net/p/124939164\n",
      "고양특례시 청년공간 청취다방, ‘디디(DD)의 작업실’ 운영  :  https://cp.news.search.daum.net/p/124853634\n",
      "[DD 퇴근길] 최대 실적 포스코케미칼···불확실성 어떻게 극복할까  :  https://cp.news.search.daum.net/p/124885167\n",
      "[DD 퇴근길] 마약 대금 자금세탁으로 자리잡은 가상자산?  :  https://cp.news.search.daum.net/p/124832602\n",
      "[DD 퇴근길] 핑퐁 게임 들어간 SK C&C-카카오  :  https://cp.news.search.daum.net/p/124758631\n",
      "[DD 퇴근길] 애플 라이트닝, 역사 속으로?  :  https://cp.news.search.daum.net/p/124479632\n",
      "[DD 퇴근길] 카카오, 멀고 먼 정상화의 길  :  https://cp.news.search.daum.net/p/124620138\n",
      "[DD 퇴근길] 준비되지 않은 배터리 시대…화재 공포 확산될까?  :  https://cp.news.search.daum.net/p/124717129\n",
      "[DD 퇴근길] 환율 직격탄 맞은 아이패드, 구형 모델에 다시 관심  :  https://cp.news.search.daum.net/p/124667515\n",
      "[DD 퇴근길] 카카오 사태 국감장으로…기업총수 줄줄이 소환  :  https://cp.news.search.daum.net/p/124579853\n"
     ]
    }
   ],
   "source": [
    "search = input()\n",
    "\n",
    "url = f'https://search.daum.net/search?w=news&nil_search=btn&DA=NTB&enc=utf8&cluster=y&cluster_page=1&q={search}'\n",
    "header = {'User-Agent' : 'Mozilla/5.0 (Windows NT 10.0; Win64; x64) AppleWebKit/537.36 (KHTML, like Gecko) Chrome/106.0.0.0 Safari/537.36'}\n",
    "html = requests.get(url, headers=header).text\n",
    "\n",
    "soup = BeautifulSoup(html, 'lxml')\n",
    "title = soup.find_all(class_ = \"tit_main fn_tit_u\")\n",
    "for j in title :\n",
    "    print(j.text, \" : \", j.attrs['href'])"
   ]
  },
  {
   "cell_type": "code",
   "execution_count": 122,
   "id": "965e4366-88b2-48c2-a95d-d9357b729952",
   "metadata": {
    "collapsed": true,
    "jupyter": {
     "outputs_hidden": true
    },
    "tags": []
   },
   "outputs": [
    {
     "name": "stdin",
     "output_type": "stream",
     "text": [
      " 우크라이나\n"
     ]
    },
    {
     "name": "stdout",
     "output_type": "stream",
     "text": [
      "우크라이나 헤르손 탈환 시도...가장 치열한 전투 예상  :  http://www.womennews.co.kr/news/articleView.html?idxno=229198\n",
      "러, 푸틴 참관 대규모 핵 훈련…\"우크라이나 '더러운 폭탄' 우려\"  :  http://news.tvchosun.com/site/data/html_dir/2022/10/27/2022102790031.html\n",
      "전쟁 피해 한국 온 우크라이나인 뇌출혈…인천시 도움으로 치료  :  http://www.newsis.com/view/?id=NISX20221026_0002062855&cID=14001&pID=14000\n",
      "우크라이나, 수백만 해외 피란민에 “올겨울엔 귀국 말라” 당부  :  https://news.kbs.co.kr/news/view.do?ncd=5587218&ref=A\n",
      "우크라이나 전쟁 후 흑해 돌고래 5만 마리 떼죽음, 왜?  :  https://view.asiae.co.kr/article/2022102614482734312\n",
      "대만, 우크라이나 재건에 약 800억원 지원키로  :  https://www.yna.co.kr/view/AKR20221027058900009?input=1195m\n",
      "'지구안보'의 눈으로 본 우크라이나전쟁  :  https://www.pressian.com/pages/articles/2022102616183903030?utm_source=naver&utm_medium=search\n",
      "악수하는 독일-우크라이나 대통령  :  http://www.newsis.com/view/?id=NISI20221026_0001114670\n",
      "“감당할 수 없다, 귀국하지 마라”...혹독한 겨울 대비 나선 우크라이나  :  https://www.khan.co.kr/world/europe-russia/article/202210261512001\n",
      "“유럽 천연가스, 우크라이나 전쟁 이전 수준으로 회귀”  :  http://www.edaily.co.kr/news/newspath.asp?newsid=01275926632497184\n",
      "------------------------------\n",
      "전쟁 피해 한국 온 우크라이나인 뇌출혈…인천시 도움으로 치료  :  http://www.newsis.com/view/?id=NISX20221026_0002062855&cID=14001&pID=14000\n",
      "부산 엑스포 유치전, 우크라이나 ‘복병’ 만났다  :  https://www.busan.com/view/busan/view.php?code=2022102617265710938\n",
      "우크라이나, 수백만 해외 피란민에 “올겨울엔 귀국 말라” 당부  :  https://news.kbs.co.kr/news/view.do?ncd=5587218&ref=A\n",
      "권기창 전 우크라이나 대사 '에너지 위기, 대책은?'  :  https://www.news1.kr/photos/view/?5651319\n",
      "EU, '500조 투입' 우크라이나 재건 '마셜 플랜' 촉구  :  http://www.fnnews.com/news/202210260901472893\n",
      "[NFEF2022]권기창 전 우크라이나 대사 \"러-우 전쟁 끝나도 에너지 위기 지속\"  :  https://www.news1.kr/articles/4845764\n",
      "악수하는 독일-우크라이나 대통령  :  http://www.newsis.com/view/?id=NISI20221026_0001114670\n",
      "인도 정부, 우크라이나 체류 자국민에 “즉시 떠나라” 거듭 촉구  :  https://news.kbs.co.kr/news/view.do?ncd=5587258&ref=A\n",
      "의외의 복병 우크라이나! 2030부산세계박람회 유치, '우크라이나' 참여로 4파...  :  https://weekly.cnbnews.com/news/article.html?no=146296\n",
      "“내년 봄까지 귀국말라” 전력난 우크라이나 770만 피란민에 호소  :  https://www.chosun.com/international/international_general/2022/10/27/QAPKIWCBORH3JHCQ24L5IN5ALQ/?utm_source=naver&utm_medium=referral&utm_campaign=naver-news\n",
      "------------------------------\n",
      "미니 핵폭탄 '더티밤' 논란…우크라이나 전쟁 변수로?  :  http://www.yonhapnewstv.co.kr/MYH20221025008300032/?input=1825m\n",
      "숄츠 獨총리, 우크라이나 재건회의서 광범위한 지원 약속  :  http://www.newsis.com/view/?id=NISX20221025_0002059764&cID=10101&pID=10100\n",
      "박격포 발사 준비하는 우크라이나 군인들  :  http://www.newsis.com/view/?id=NISI20221026_0001114684\n",
      "우크라이나 러 점령지 멜리토폴 차량폭발로 5명 부상  :  https://imnews.imbc.com/news/2022/world/article/6420532_35680.html\n",
      "美, 우크라이나에 NASAMS 2기 제공…러, 공습 방어용  :  https://www.nocutnews.co.kr/news/5839210\n",
      "[이 시각 세계] '우크라이나 재건' EU 주요 7개국 회의  :  https://imnews.imbc.com/replay/2022/nwtoday/article/6420657_35752.html\n",
      "러, 우크라이나 핵 공격 가장한 핵훈련 실시… ICBM 등 발사장면 공개  :  http://www.newscj.com/article/20221026580967\n",
      "아름다운동행, 우크라이나에 명상 치료 지원  :  http://www.btnnews.tv/news/articleView.html?idxno=73639\n",
      "MKYU 굿짹월드, 우크라이나 ‘리드림(REDREAM) 프로젝트’에 3,500만 원 기부  :  https://www.siminilbo.co.kr/news/newsview.php?ncode=1160272450352219\n",
      "우크라이나 헤르손, 수복이냐 물바다냐 갈림길  :  https://news.kmib.co.kr/article/view.asp?arcid=0924270141&code=11141500&cp=nv\n",
      "------------------------------\n",
      "러, UN안보리에 우크라이나 '더티밤' 문제제기   :  https://daily.hankooki.com/news/articleView.html?idxno=885564\n",
      "한국 의료기관 도움받은 우크라이나인 감동 손 편지 화제  :  http://sports.chosun.com/news/ntype.htm?id=202210280100184750012672&servicedate=20221027\n",
      "러시아, 對우크라이나 선전전술 '反나치'서 '反테러'로 바꾼 이유는  :  http://www.pennmike.com/news/articleView.html?idxno=58042\n",
      "우크라이나, '더러운 폭탄' 러 주장 조사위한 IAEA 사찰단 파견 요구  :  http://www.newsis.com/view/?id=NISX20221024_0002059642&cID=10101&pID=10100\n",
      "러시아 \"우크라이나, '더티밤' 사용 준비\"…서방 \"확전 위한 핑계\"  :  http://news.mk.co.kr/newsRead.php?no=940725&year=2022\n",
      "러시아 우크라이나 평화 기원 전시 개최  :  https://www.yna.co.kr/view/PYH20221025128300013?input=1196m\n",
      "전쟁 피해 기숙사서 지내는 우크라이나 어린이들  :  https://www.yna.co.kr/view/PYH20221027055000340?input=1196m\n",
      "3분기 항만 물동량, 전년비 4.1%↓…우크라이나 사태 장기화 영향  :  http://www.newspim.com/news/view/20221025000441\n",
      "러시아, 우크라이나의 '더티밤' 사용 경고...서방, \"거짓 깃발 작전\"  :  http://www.womennews.co.kr/news/articleView.html?idxno=229161\n",
      "러시아 침공 8개월째, 우크라이나 \"목표는 하나\"  :  http://www.newsis.com/view/?id=NISI20221025_0001113718\n",
      "------------------------------\n",
      "IOC의 또 다른 정치색···우크라이나, 러시아[송석록의 생각 한편]  :  http://sports.khan.co.kr/news/sk_index.html?art_id=202210270600003&sec_id=530601&pt=nv\n",
      "애인과 작별 인사 나누는 우크라이나 군인  :  http://www.newsis.com/view/?id=NISI20221025_0001113717\n",
      "러시아 전쟁 우크라이나 방문 獨대통령, 공습 경보에 방공호로 대피  :  https://www.gukjenews.com/news/articleView.html?idxno=2579491\n",
      "비트코인 2800만 원대로 올라, 유럽연합 우크라이나 재건지원 소식에 상승  :  https://www.businesspost.co.kr/BP?command=article_view&num=296315\n",
      "미국, 우크라이나에 '호크' 방공미사일 지원 검토  :  https://imnews.imbc.com/news/2022/world/article/6420488_35680.html\n",
      "“내 조국 우크라이나, 전쟁 겪지만… 우리 문화 알릴 커다란 기회이기도”  :  https://www.chosun.com/culture-life/culture_general/2022/10/25/24KDKC6UKVEXJM6FYAUPEQSN2M/?utm_source=naver&utm_medium=referral&utm_campaign=naver-news\n",
      "사람이 할 말인가…러시아 언론인 \"우크라이나 아이들 익사시켜야\"  :  http://mbn.mk.co.kr/pages/news/newsView.php?category=mbn00008&news_seq_no=4869013\n",
      "우크라이나 구단, “이란, 카타르월드컵서 제외하고 우크라이나 출전”  :  http://www.munhwa.com/news/view.html?no=2022102501039939044002\n",
      "[급등주] 현대건설기계 상승, 우크라이나 재건 관련주 수혜받나  :  https://www.gukjenews.com/news/articleView.html?idxno=2578844\n",
      "푸틴, 우크라이나 내 점령지 4개주에 계엄령 선포  :  https://www.khan.co.kr/world/europe-russia/article/202210192101001\n",
      "------------------------------\n",
      "세계피트니스여자선수권·남자월드컵, 한국·우크라이나 종합우승  :  http://www.newsis.com/view/?id=NISX20221022_0002057582&cID=10810&pID=10800\n",
      "러 공습에 우크라이나 주요 도시 곳곳서 폭발  :  http://www.edaily.co.kr/news/newspath.asp?newsid=03030726632495216\n",
      "우크라이나 전쟁 자원봉사자, 떠돌이개들에게 선행 실천… ‘개들 줄서서 기다...  :  http://www.segye.com/content/html/2022/10/25/20221025505908.html?OutUrl=naver\n",
      "러시아의 '우크라이나 더티밤' 언급…서방 '거짓 깃발' 전술 의심  :  https://news.sbs.co.kr/news/endPage.do?news_id=N1006943523&plink=ORI&cooper=NAVER\n",
      "러시아 우크라이나 전쟁, 푸틴 핵 무기 사용 우려 잇따라  :  https://www.sisamagazine.co.kr/news/articleView.html?idxno=471514\n",
      "[인터뷰]우크라이나 출신 지휘자 카라비츠 \"고국 전쟁 제 삶에 막대한 영향\"  :  http://www.newsis.com/view/?id=NISX20221021_0002056341&cID=10701&pID=10700\n",
      "우크라이나 전쟁은 전형적인 대리전이다  :  https://vop.co.kr/A00001621762.html\n",
      "젤렌스키 \"러시아, 드론 대가로 이란 핵개발 지원\"...미 민주당 일각 '우크라...  :  https://www.voakorea.com/a/6804261.html\n",
      "獨서 우크라이나 재건 회의…\"제2의 마샬플랜 가동해야\"  :  https://view.asiae.co.kr/article/2022102410513535097\n",
      "러시아군 공격 받아 파괴된 우크라이나의 벽  :  https://www.news1.kr/photos/view/?5645012\n",
      "------------------------------\n",
      "우크라이나 살리는 몰도바 와인  :  https://www.chosun.com/economy/market_trend/2022/10/24/JZKDHTZRY5ESNFC4UUFN6R3BTM/?utm_source=naver&utm_medium=referral&utm_campaign=naver-news\n",
      "러시아 진지 향해 발포하는 우크라이나 군인들  :  http://www.newsis.com/view/?id=NISI20221024_0001112695\n",
      "푸틴, 핵훈련 참관. 우크라이나에 핵위협 강화  :  http://www.viewsnnews.com/article?q=205907\n",
      "바이든 \"공화당이 이기면 우크라이나 지원 우려\"  :  http://www.newsis.com/view/?id=NISI20221021_0001111331\n",
      "아름다운동행, 우크라이나 난민 위한 치유 공간 지원  :  http://www.hyunbulnews.com/news/articleView.html?idxno=406745\n",
      "“남 일이 아니다”…우크라이나 전쟁 샅샅이 파헤치는 한국군 [박수찬의 軍]  :  http://www.segye.com/content/html/2022/10/21/20221021511674.html?OutUrl=naver\n",
      "\"우크라이나, '동-서' 분단돼 한반도화 될 수도\"[만났습니다②]  :  http://www.edaily.co.kr/news/newspath.asp?newsid=04040966632496200\n",
      "정우성 “우크라이나 난민, 고향 돌아갈 ‘희망의 끈’ 놓지 않아”  :  https://www.hani.co.kr/arti/society/society_general/1063406.html\n",
      "[영상] 러시아군, 우크라이나 국경 따라 본토에 '방어진지' 구축  :  https://www.yna.co.kr/view/AKR20221024154100704?input=1195m\n",
      "유럽의회, 올해 인권상 '용감한 우크라이나인들' 선정  :  https://www.yna.co.kr/view/AKR20221020005700098?input=1195m\n",
      "------------------------------\n",
      "우크라이나, 발전소 피해에 키이우도 순환단전 실시  :  http://www.edaily.co.kr/news/newspath.asp?newsid=02046726632495872\n",
      "아이더, 우크라이나 난민촌에 패딩 4천벌 기부  :  https://www.yna.co.kr/view/AKR20221020069100003?input=1195m\n",
      "‘암흑 도시’ 우크라이나… 러 폭격에 1162개 도시 정전  :  https://www.seoul.co.kr/news/newsView.php?id=20221019500187&wlog_tag3=naver\n",
      "우크라이나가 러시아에 방사능 폭탄?...서방 “거짓 깃발 작전”  :  https://www.ekn.kr/web/view.php?key=20221025010003723\n",
      "우크라이나 수도 키이우에 또 폭발음…\"자폭 드론 공격\"  :  https://www.hankyung.com/international/article/2022101727047\n",
      "미국 사법부, 라쿤스틸러에 연루된 우크라이나인 기소  :  http://www.boannews.com/media/view.asp?idx=110993&kind=\n",
      "박상학 \"北, 핵 인질 전략…우크라이나처럼 될 수 있다\" [단박인터뷰]   :  http://www.sisaon.co.kr/news/articleView.html?idxno=144128\n",
      "[우크라이나 재건 관련주] 에쓰씨엔지니어링·현대두산인프라코어·현대건설기...  :  http://www.pinpointnews.co.kr/news/articleView.html?idxno=150978\n",
      "쿠바 랜섬웨어, 우크라이나 공격 중  :  http://www.boannews.com/media/view.asp?idx=110964&kind=\n",
      "“러, 우크라이나 남부서 강 건너 대대적 후퇴 검토” 英 국방부 분석  :  http://www.fnnews.com/news/202210211044465773\n",
      "------------------------------\n",
      "우크라이나, 발전소 피해에 전력제한‥\"러, 유럽행 난민사태 노려\"  :  https://imnews.imbc.com/news/2022/world/article/6419138_35680.html\n",
      "건강미 뽐내는 우크라이나 테티아나 모스칼렌코 선수  :  http://www.newsis.com/view/?id=NISI20221020_0019375549\n",
      "우크라이나 선수도 참가한 세계피트니스여자선수권  :  https://www.news1.kr/photos/view/?5639373\n",
      "포로로 잡혔던 우크라이나 여성 108명, 고국으로 돌아왔다  :  http://www.womennews.co.kr/news/articleView.html?idxno=228944\n",
      "우크라이나 여성들에게 닥친 전시 성폭력 실상은?  :  http://www.womennews.co.kr/news/articleView.html?idxno=229096\n",
      "우크라이나 피해규모 약500조원 추산...러시아 '더티밤(dirty bomb)' 사용 가...  :  https://news.bbsi.co.kr/news/articleView.html?idxno=3085972\n",
      "[속보]러시아 우크라이나 전쟁 중 러 '우크라 방사능 공격' 주장  :  https://www.gukjenews.com/news/articleView.html?idxno=2578372\n",
      "러시아, 우크라이나 전역 에너지 시설 공격  :  http://www.womennews.co.kr/news/articleView.html?idxno=229099\n",
      "중국, 우크라이나 주재 교민에 철수 준비 권고  :  https://www.yna.co.kr/view/AKR20221019077700083?input=1195m\n",
      "밝은 표정의 우크라이나 군인들  :  http://www.newsis.com/view/?id=NISI20221021_0001111278\n",
      "------------------------------\n",
      "[영상] 우크라이나군 겨울전투 준비 '착착'…러 병사는 \"삽도 없다\"  :  https://www.yna.co.kr/view/AKR20221023034500704?input=1195m\n",
      "\"우크라이나 전쟁은 젤렌스키 때문\"  :  http://www.naeil.com/news_view/?id_art=439085\n",
      "헤르손 긴급대피령, 우크라이나 반격 연달아 성공하나  :  https://www.sisamagazine.co.kr/news/articleView.html?idxno=470891\n",
      "GKL·GKL사회공헌재단, 우크라이나 귀국 고려인 정착 지원  :  https://sports.donga.com/article/all/20221024/116109597/2\n",
      "우크라이나, 러시아 자폭드론 공격 70%는 요격  :  http://www.breaknews.com/930572\n",
      "우크라이나 \"지난 한 달간 이란제 드론 223대 격추\"  :  https://imnews.imbc.com/news/2022/world/article/6418751_35680.html\n",
      "러軍, 우크라이나 남부서 고전…“어려운 결단 내릴 수도”  :  https://www.donga.com/news/article/all/20221019/116020444/2\n",
      "英 국방부 \"러시아군, 우크라이나 남부 철수 고려\"  :  https://view.asiae.co.kr/article/2022102020210997565\n",
      "IAEA \"우크라이나 자포리자 원전 열흘 새 3차례 외부전력 단절\"  :  https://view.asiae.co.kr/article/2022101820084929377\n",
      "[특징주] 우크라이나 재건주 '들썩'…서암기계공업 15% 급등  :  https://www.sedaily.com/NewsView/26CFPX1KV2\n",
      "------------------------------\n"
     ]
    }
   ],
   "source": [
    "import requests\n",
    "from bs4 import BeautifulSoup\n",
    "\n",
    "user_input = input()\n",
    "\n",
    "for p in range(1, 11):\n",
    "    if (p == 1) : a = f'start=1'\n",
    "    else : a = f\"start={p-1}1\"\n",
    "    \n",
    "    url = f\"https://search.naver.com/search.naver?where=news&sm=tab_jum&query={user_input}&sort=0&photo=0&field=0&pd=0&ds=&de=&cluster_rank=52&mynews=0&office_type=0&office_section_code=0&news_office_checked=&nso=so:r,p:all,a:all&{a}\"\n",
    "    # print(url)\n",
    "    html = requests.get(url, headers=header)\n",
    "    soup =  BeautifulSoup(html.text, 'lxml')\n",
    "    title = soup.find_all(class_ = \"news_tit\")\n",
    "    for j in title :\n",
    "        print(j.text, \" : \", j.attrs['href'])\n",
    "        \n",
    "    print('-'*30)"
   ]
  },
  {
   "cell_type": "code",
   "execution_count": 145,
   "id": "0338a4f1-1a97-4ffd-8b14-6172e58067ae",
   "metadata": {
    "collapsed": true,
    "jupyter": {
     "outputs_hidden": true
    },
    "tags": []
   },
   "outputs": [
    {
     "name": "stdout",
     "output_type": "stream",
     "text": [
      "<li class=\"item _item\" data-keyword=\"@in_txt@\" data-rank=\"@rank@\" data-template-type=\"history\"> <a class=\"kwd\" href=\"#\"> <span class=\"fix\"><span class=\"common_ico_kwd\"><i class=\"imsc ico_search\"></i></span><span>@txt@</span></span> </a> <span class=\"etc\"> <em class=\"date\">@date@.</em> <a aria-pressed=\"false\" class=\"bt_item _del\" href=\"#\" role=\"button\"><i class=\"imsc ico_del\">삭제</i></a> </span> </li>\n",
      "<li class=\"item _item\" data-keyword=\"@in_txt@\" data-rank=\"@rank@\" data-template-type=\"history\"> <a class=\"kwd\" href=\"#\"> <span class=\"fix\"><span class=\"common_ico_kwd\"><i class=\"imsc ico_search\"></i></span><span>@txt@</span></span> </a> <span class=\"etc\"> <em class=\"date\">@date@.</em> <a aria-pressed=\"false\" class=\"bt_item _del\" href=\"#\" role=\"button\"><i class=\"imsc ico_del\">삭제</i></a> </span> </li>\n",
      "<li class=\"item _item\" data-keyword=\"@in_txt@\" data-rank=\"@rank@\" data-template-type=\"history\"> <a class=\"kwd\" href=\"#\"> <span class=\"fix\"><span class=\"common_ico_kwd\"><i class=\"imsc ico_search\"></i></span><span>@txt@</span></span> </a> <span class=\"etc\"> <em class=\"date\">@date@.</em> <a aria-pressed=\"false\" class=\"bt_item _del\" href=\"#\" role=\"button\"><i class=\"imsc ico_del\">삭제</i></a> </span> </li>\n",
      "<li class=\"item _item\" data-keyword=\"@in_txt@\" data-rank=\"@rank@\" data-template-type=\"history\"> <a class=\"kwd\" href=\"#\"> <span class=\"fix\"><span class=\"common_ico_kwd\"><i class=\"imsc ico_search\"></i></span><span>@txt@</span></span> </a> <span class=\"etc\"> <em class=\"date\">@date@.</em> <a aria-pressed=\"false\" class=\"bt_item _del\" href=\"#\" role=\"button\"><i class=\"imsc ico_del\">삭제</i></a> </span> </li>\n",
      "<li class=\"item _item\" data-keyword=\"@in_txt@\" data-rank=\"@rank@\" data-template-type=\"history\"> <a class=\"kwd\" href=\"#\"> <span class=\"fix\"><span class=\"common_ico_kwd\"><i class=\"imsc ico_search\"></i></span><span>@txt@</span></span> </a> <span class=\"etc\"> <em class=\"date\">@date@.</em> <a aria-pressed=\"false\" class=\"bt_item _del\" href=\"#\" role=\"button\"><i class=\"imsc ico_del\">삭제</i></a> </span> </li>\n",
      "<li class=\"item _item\" data-keyword=\"@in_txt@\" data-rank=\"@rank@\" data-template-type=\"history\"> <a class=\"kwd\" href=\"#\"> <span class=\"fix\"><span class=\"common_ico_kwd\"><i class=\"imsc ico_search\"></i></span><span>@txt@</span></span> </a> <span class=\"etc\"> <em class=\"date\">@date@.</em> <a aria-pressed=\"false\" class=\"bt_item _del\" href=\"#\" role=\"button\"><i class=\"imsc ico_del\">삭제</i></a> </span> </li>\n",
      "<li class=\"item _item\" data-keyword=\"@in_txt@\" data-rank=\"@rank@\" data-template-type=\"history\"> <a class=\"kwd\" href=\"#\"> <span class=\"fix\"><span class=\"common_ico_kwd\"><i class=\"imsc ico_search\"></i></span><span>@txt@</span></span> </a> <span class=\"etc\"> <em class=\"date\">@date@.</em> <a aria-pressed=\"false\" class=\"bt_item _del\" href=\"#\" role=\"button\"><i class=\"imsc ico_del\">삭제</i></a> </span> </li>\n",
      "<li class=\"item _item\" data-keyword=\"@in_txt@\" data-rank=\"@rank@\" data-template-type=\"history\"> <a class=\"kwd\" href=\"#\"> <span class=\"fix\"><span class=\"common_ico_kwd\"><i class=\"imsc ico_search\"></i></span><span>@txt@</span></span> </a> <span class=\"etc\"> <em class=\"date\">@date@.</em> <a aria-pressed=\"false\" class=\"bt_item _del\" href=\"#\" role=\"button\"><i class=\"imsc ico_del\">삭제</i></a> </span> </li>\n",
      "<li class=\"item _item\" data-keyword=\"@in_txt@\" data-rank=\"@rank@\" data-template-type=\"history\"> <a class=\"kwd\" href=\"#\"> <span class=\"fix\"><span class=\"common_ico_kwd\"><i class=\"imsc ico_search\"></i></span><span>@txt@</span></span> </a> <span class=\"etc\"> <em class=\"date\">@date@.</em> <a aria-pressed=\"false\" class=\"bt_item _del\" href=\"#\" role=\"button\"><i class=\"imsc ico_del\">삭제</i></a> </span> </li>\n",
      "<li class=\"item _item\" data-keyword=\"@in_txt@\" data-rank=\"@rank@\" data-template-type=\"history\"> <a class=\"kwd\" href=\"#\"> <span class=\"fix\"><span class=\"common_ico_kwd\"><i class=\"imsc ico_search\"></i></span><span>@txt@</span></span> </a> <span class=\"etc\"> <em class=\"date\">@date@.</em> <a aria-pressed=\"false\" class=\"bt_item _del\" href=\"#\" role=\"button\"><i class=\"imsc ico_del\">삭제</i></a> </span> </li>\n"
     ]
    }
   ],
   "source": [
    "import requests\n",
    "from bs4 import BeautifulSoup\n",
    "\n",
    "for p in range(1, 11):\n",
    "    if (p == 1) : a = f'start=1'\n",
    "    else : a = f\"start={p-1}1\"\n",
    "    \n",
    "    url = f\"https://search.naver.com/search.naver?where=news&sm=tab_jum&query={user_input}&sort=0&photo=0&field=0&pd=0&ds=&de=&cluster_rank=52&mynews=0&office_type=0&office_section_code=0&news_office_checked=&nso=so:r,p:all,a:all&{a}\"\n",
    "    # print(url)\n",
    "    html = requests.get(url, headers=header)\n",
    "    soup =  BeautifulSoup(html.text, 'lxml')\n",
    "    print(soup.li)"
   ]
  },
  {
   "cell_type": "code",
   "execution_count": 123,
   "id": "26295b48-2741-4512-9162-6b07433f47b3",
   "metadata": {
    "collapsed": true,
    "jupyter": {
     "outputs_hidden": true
    },
    "tags": []
   },
   "outputs": [
    {
     "name": "stdout",
     "output_type": "stream",
     "text": [
      "김민재 주목한 FIFA \"한국축구-나폴리, 김민재라는 보물 보유\"\n",
      "FIFA 공식 SNS 캡처 국제축구연맹(FIFA)이 유럽 빅리그에서도 빠르게 경쟁력을 인정받은 한국 축구대표팀의 ‘괴물 수비수’ 김민재(26·나폴리)를 주목했다.FIFA는 25일 공식 사회관계망서비스(SNS)에 합성된 한국 축구대표팀과 나폴리 유니폼을 착용한 김민재...\n",
      "[카타르월드컵 D-30]韓 축구, 역대 최고 전력으로 나선다\n",
      "한국 축구대표팀 자료사진. 대한축구협회 ​지구촌 축구 최대 축제인 2022 국제축구연맹(FIFA) 카타르월드컵이 한 달 앞으로 다가왔다. 22회째를 맞는 이번 월드컵은 사상 처음으로 여름이 아닌 겨울에 개최된다. 중동 지역에서 열리는 것도 처음이다. 카타르월드컵은...\n",
      "\"소녀들아 공을 차자\"…여학생 축구 활성화 '공차소서' 축제 열려\n",
      "서울교육청, 29일 파주 축구 국가대표 트레이닝 센터서\n",
      "나에겐 ‘완전 소중한’ 전국여성축구대회\n",
      "바쁜 일상 속에서도 틈틈이 시간을 내 훈련에 매진한 여성 아마추어 선수들은 제19회 문화체육관광부장관기 전국여성축구대회에서 실력을 마음껏 뽐냈다. 여자 아마추어 클럽 최강자를 가리는 이번 대회는 22일부터 23일까지 이틀간 열렸다. 전국 17개 시도에서 14팀...\n",
      "유소년 축구 지원한 넥슨, K리그 2022 대상서 감사상 수상\n",
      "감사상을 받은 넥슨 박정무 그룹장(사진=넥슨 제공). 넥슨이 K리그 2022 대상 시상식에서 한국프로축구연맹의 공식 유소년 축구 파트너로서 국내 유소년 축구 저변 확대에 기여한 공로를 인정받아 감사상을 수상했다. 연초 넥슨은 한국프로축구연맹과 손잡고 정통...\n",
      "'축구도사' 이청용, 생애 첫 리그 최우수선수상\n",
      "[앵커] 울산의 K리그 우승을 이끈 '축구도사' 이청용 선수가 생애 처음으로 리그 최우수선수상을 받았습니다. 이청용 선수는 좋아하는 축구를 오래 하는 것이 꿈이라고 밝혔습니다. 김동민 기자가 보도합니다. [기자] K리그 마지막 경기에서 리그 우승을 확정한 울산...\n",
      "'명분 앞선다'더니 카타르에 완패..한국 축구 외교력의 민낯 [IS포커스]\n",
      "9월 열린 2023 AFC 아시안컵 대한민국 유치 알림대사 발대식에서 인사말을 하는 정몽규 대한축구협회장. 사진=연합뉴스 대한민국 축구가 63년 만의 아시안컵 유치에 도전했지만, 카타르에 밀려 꿈을 접었다. 아시아축구연맹(AFC)은 17일 말레이시아 쿠알라룸푸르에서...\n",
      "여학생들, 축구와 친해지다...‘렛츠플레이 페스티벌’\n",
      "파주NFC가 축구를 즐기는 여자 어린이들의 웃음소리로 뒤덮였다. 2022 렛츠플레이(Let’s Play) 축구 페스티벌이 22일 오후 파주NFC에서 열렸다. 이번 행사는 KFA와 국제축구연맹(FIFA)이 여자축구 저변확대와 여자 아마추어 축구 활성화를 위해 마련한 ‘FIFA 여자...\n",
      "테니스 유도 축구에 태권도까지.. 세종시 '스포츠 도시' 기지개\n",
      "축구팀 내년 창단.. 연고지 협약 종목 많아체전 첫 금메달 태권도 실업팀 창단 목소리태권도협회장 선거 잡음 내주 판결 '분수령'\"2027 유니버시아드로 스포츠 수도 발돋움\"\n",
      "MVP 이청용 \"미래요? 울산에서의 축구가 즐거워요\"\n",
      "시상식에서 합산점수 50.34점을 기록, MVP 트로피를 들어올렸다. 이청용은 \"MVP를 받았기에 이번 시즌이 더 특별하고, 또 성공한 축구 선수의 길을 걸어왔다고 생각하지는 않는다\"면서 \"지금 내 플레이에 많은 박수를 보내주고, 많은 응원을 해주고, 많은 관심을...\n",
      "‘K리그 2022 시상식’에서, 넥슨 유소년 축구 지원 '감사상 수상'\n",
      "은 자사가 ‘하나원큐 K리그 2022 대상 시상식’에서 감사상을 수상했다고 25일 밝혔다. 한국프로축구연맹의 공식 유소년 축구 파트너로서 국내 유소년 축구 저변 확대에 기여한 공로를 인정받은 것이다.연초 넥슨은 한국프로축구연맹는 정통 온라인 축구게임 ‘EA...\n",
      "대한축구협회, \"아시안컵 유치 실패 죄송..카타르가 재정 기반 앞세워\"\n",
      "[마이데일리 = 이현호 기자] \"죄송합니다.\" 아시아축구연맹(AFC)은 17일 말레이시아 쿠알라룸푸르에서 집행위원회를 열고 2023 AFC 아시안컵 개최를 선정했다. 한국과 카타르, 인도네시아가 경쟁한 끝에 카타르가 최종 선택을 받았다. 한국은 63년 만의 아시안컵...\n",
      "여학생 축구 활성화를 위한 제2회‘공차소서(공을차자! 소녀들아! 서울에서!)’축제 개최\n",
      "서울특별시교육청 서울특별시교육청(교육감 조희연)은 여학생 축구 스포츠클럽 활성화를 위해 제2회 공차소서(공을차자! 소녀들아! 서울에서!) 축제를 10월 29일(토) 파주 NFC 축구 국가대표 트레이닝 센터에서 개최한다. 『공차소서(공을차자! 소녀들아! 서울에서...\n",
      "[세상을 보며] 한국축구의 외교력 - 김병희 (문화체육부장)\n",
      "최근 아시아나항공이 축구국가대표팀의 이미지를 담은 래핑 항공기를 선보였다. 아시아나항공은 대한민국 축구국가대표팀의 카타르 월드컵 선전을 기원하고자 A350 항공기와 A321 항공기 동체에 손흥민, 황희찬, 황의조, 김민재 등 축구 국가대표팀 주축 멤버들의...\n",
      "'미니 한일전 완승' 손흥민, 한국축구 자존심 지켰다\n",
      "프랑크푸르크 상대 멀티골 활약으로 토트넘 승리 견인일본 공격수 카마다 전반 선제골에 멀티골로 응수전 일본 주장 하세베는 손흥민 돌파 막다가 반칙\n",
      "이번엔 野 '이재명 수사' 논란에..국회 친선 축구 연기\n",
      "\"민주당, 지금 분위기에서 못한다 말해 날 다시 잡기로\"지난 8월엔 '주호영 비대위' 체제 좌초로 연기되기도\n",
      "\"아듀 쌀딩크\"..박항서, 베트남 축구 감독직서 물러난다\n",
      "12월 미츠비시컵 끝으로 베트남과 5년 동행 마무리베트남 축구 발전의 주역, 한국 감독 동남아 진출 열풍 이끌기도\n",
      "축구협회 '골든 에이지' 중학생 6명, 바이에른 뮌헨에서 2주간 연수\n",
      "[마이데일리 = 김종국 기자] 남자 중학생 축구 유망주 6명이 독일 분데스리가의 최고 명문 바이에른 뮌헨 구단에서 2주간 축구를 배운다. 대한축구협회는 23일 \"유소년 육성 프로그램인 ‘골든 에이지’를 통해 선발된 14~15세 선수들이 25일부터 다음달 6일까지...\n",
      "\"콘테 축구와 잘 어울려\"..'800억' 공미에게 뉴캐슬보다 토트넘 적극 추천\n",
      "[마이데일리 = 김건호 기자]토트넘 출신 앨런 허튼(37)은 제임스 매디슨(25, 레스터)이 축구만 생각한다면, 뉴캐슬보다 토트넘이 더 나을 것이라고 주장했다. 영국 매체 '풋볼 인사이더'는 21일(한국시간) \"전 토트넘 홋스퍼 수비수 허튼은 매디슨 영입전 자금력...\n",
      "제1회 I-World cup 축구대회 성료\n",
      "‘제1회 익산시 I-World cup(아이 월드컵) 대회’가 27일 금마축구공원에서 성황리에 열렸다/사진=익산시 익산스포츠클럽이 주관한 ‘제1회 익산시 I-World cup(아이 월드컵) 대회’가 27일 금마축구공원에서 성황리에 개최됐다. 아동 대상 생활체육 프로그램인...\n",
      "경일대, 드론 스포츠단 창단..축구·레이싱·크래쉬 종목\n",
      "경일대학교는 드론스포츠단을 창단했다고 24일 밝혔다. 다양한 드론 스포츠 분야로 넓혀 나갈 수 있는 초석을 다진 경일대는 드론 축구팀인 레드 베어스도 결성했다. 드론을 활용한 스포츠로는 드론 축구를 비롯해 드론 레이싱(경주), 케이지 안에서 드론끼리 충돌...\n",
      "골(GOAL) 때리는 문백초, 충북교육감기 동아리축구대회 여초부 우승\n",
      "누구도 못 말리는 교장과 학생들의 열정\n",
      "김은중호 U-19 축구대표팀, 11월 우즈베키스탄과 원정 2연전\n",
      "김은중 감독이 이끄는 한국 남자 19세 이하 축구대표팀이 11월 우즈베키스탄과 두 차례 원정 평가전을 치릅니다. 대한축구협회는 김은중호가 다음 달 5일과 8일 우즈베키스탄 타슈켄트에서 우즈베키스탄과 2연전을 갖는다고 발표했습니다. 이번 평가전은 19세 이하...\n",
      "이영준·황인택 포함 U-19 축구 대표팀, 11월 우즈벡과 두 차례 평가전\n",
      "이영준(수원FC)과 황인택(수원 삼성) 등이 포함된 한국 남자 19세 이하(U-19) 축구대표팀이 11월 우주베키스탄과 두 차례 원정 평가전을 치른다. 대한축구협회는 한국과 우즈베키스탄 U-19 대표팀이 11월 5일과 8일 타슈켄트에서 두 차례 친선 평가전을 갖는다고...\n",
      "스페인서 카타르까지 걸어서 월드컵 보려던 축구팬, 이란서 실종\n",
      "는 산체스 가족들의 말을 인용해 보도했다. 산체스는 9개월 전에 스페인 마드리드를 떠나 11월 카타르 도하에서 개막하는 국제축구연맹(FIFA) 월드컵 경기장에 도착하는 것을 목표로 했다는 것이다. 공수부대 출신인 그는 트레킹 경험이 풍부한 것으로 알려졌으며...\n",
      "한국축구, 2023 AFC 아시안컵 개최의 열망은 이뤄질까?\n",
      "사진=게티이미지코리아 운명의 날이 밝았다. 한국축구의 2023 아시아축구연맹(AFC) 아시안컵 개최 여부가 결정될 하루다. AFC는 17일 정오(한국시간·예상) 말레이시아 콸라룸푸르에서 집행위원회를 열어 차기 아시안컵 개최지를 결정한다. 1956년 시작한 4년 주기의...\n",
      "제주대 '제대로', KFA 개최 여대생 축구클럽 리그 초대 챔피언 등극\n",
      "(베스트 일레븐) 제주대 여학생으로 구성된 '제대로'가 대한축구협회가 주최한 '2022 신세계이마트 렛츠플레이 여대생 축구클럽 리그(약칭 WUFL, 우플)'의 초대 챔피언에 등극했다. 제대로는 16일 파주 국가대표트레이닝센터(NFC) 새싹구장에서 열린 대회 결승전(전...\n",
      "3연패 신화 옥산 여자축구 소녀들\n",
      "［중부매일 이지효 기자］ 청주 옥산초 여자 축구 소녀들이 3연패 신화를 달성했다. 옥산초 여초부는 옥천군 공설운동장에서 개회된 제21회 충청북도교육감기 겸 제17회 설암 김천호배 동아리축구 대회에서 이같은 성적을 거뒀다. 지난 21일 동광초, 장락초를 6...\n",
      "\"유소년 축구 지원 공로 인정\"…넥슨, 'K리그 2022 시상식'서 감사상 수상\n",
      "【 청년일보 】 국내 게임 회사 넥슨이 한국 축국의 미래를 함께할 동반자로써 유소년 축구 지원에 기여하고 공헌한 결실을 맺었다. 넥슨은 지난 24일 진행된 '하나원큐 K리그 2022 대상 시상식'에서 한국프로축구연맹의 공식 유소년 축구 파트너로서 국내 유소년...\n",
      "[GOAL LIVE] '극적 PO행' 설기현 감독 \"이것이 축구구나..\"\n",
      "우리보다 위에 있는 팀이다. 오히려 부담을 느낄 수 있다. 오늘 부천도 경기 운영을 잘했지만, 우리가 마지막에 뒤집을 수 있는 게 축구다. 안양도 부담 가지고 경기할 수 있다. 이만큼 해준 것도 잘해준 것이지만 부담없이 경기 해보겠다\"라고 말했다. 경남은 전반...\n",
      "[김태석의 축구 한잔] 아시안컵 유치 실패, 실리 없는 명분은 공허할 뿐이다\n",
      "(베스트 일레븐) ▲ 김태석의 축구 한잔 실리 없는 명분은 공허하다. 국제 메이저대회는 단순한 체육대회가 아니다. 그 파급효과까지 고려하면 거대한 산업이다. 우리가 해야만 한다는 명분은 정작 대회 유치국을 결정하는 이들에게는 와 닿지 않는 일이다. 이번...\n",
      "광주JK풋볼클럽, 전국축구대회 우승\n",
      "U-8 우승. U-9 3위. U-10 준우승U-8 최우수선수상 복진욱(연제초2) GK상 조태준(연제초2) U-10 우수 선수상 안 결(삼각초4)\n",
      "아이파크몰-아디다스 더베이스, '차범근 축구교실' 새 출발 지원\n",
      "ⓒHDC아이파크몰 HDC그룹 계열사 내 유통 전문 기업인 HDC아이파크몰이 ‘아디다스 더베이스’와 함께 한국 유소년 축구 발전을 위해 ‘차범근 축구교실’의 ‘용산 아이파크몰 더베이스 풋살장(이하 아이파크몰 풋살장)’ 활용을 지원 하기로 했다고 20일 밝혔다...\n",
      "넥슨, 'K리그 2022 시상식'서 유소년 축구 지원 공로 감사상\n",
      "[뉴스케이프 김소라 기자] 넥슨은 '하나원큐 K리그 2022 대상 시상식'에서 한국프로축구연맹의 공식 유소년 축구 파트너가 국내 유소년 축구 저변 확대에 기여한 공로를 인정받아 감사상을 수상했다고 25일 밝혔다. 넥슨은 올해 한국프로축구연맹과 손잡고 온라인...\n",
      "한국, 63년 만의 아시안컵축구 유치 불발..또 카타르서 개최\n",
      "아쉬워하는 축구대표팀 손흥민. [연합뉴스 자료사진] 아쉬워하는 축구대표팀 손흥민. [연합뉴스 자료사진] 아시아 최고 권위의 축구 국가대항전인 아시안컵을 63년 만에 안방에서 치르려던 우리나라의 꿈이 깨졌다. 아시아축구연맹(AFC)은 17일 말레이시아 쿠알라...\n",
      "자선 축구경기 실내서 열린다..이청용 선수협 이사 \"많은 관심 부탁\"\n",
      "[마이데일리 = 이현호 기자] 2022 선수협 자선 축구대회가 개최된다. 사단법인 한국프로축구선수협회(이하 선수협)는 18일 자선 축구대회 행사 일정을 결정하고 공개했다. 참가선수는 확정되는 대로 추후에 발표할 예정이다. 선수협 이근호 회장을 비롯해 염기훈...\n",
      "'아쉬운 패배' 수원FC 김도균 감독 \"다음 시즌 더 재밌는 축구로 팬들께 보답하겠다\"\n",
      "그 외에도 많은 선수들을 응원하기 위해 팬들이 많이 찾아와주신다. 정말 팬들에게 감사하고 우리가 경기장에서 승리하고 좋은 축구를 하면서 보답해야 한다. 프로에서 승패에 연연하지 않을 수 없지만, 승패 안에서도 최대한 좋고 득점이 많이 나는 축구를 하기...\n",
      "2022 제1회 임금님표 이천 전국동호인 축구대회 성료\n",
      "[경기&뉴스] 지난 15일부터 23일까지 주말 동안 경기도 이천시에서 개최된 ‘2022 제1회 임금님표 이천 전국동호인 축구대회’가 성황리에 막을 내렸다.올해 처음 열리는 ‘2022 제1회 임금님표 이천 전국동호인 축구대회’는 경기도축구협회와 이천시축구협회가...\n",
      "넥슨, K리그 2022 시상식에서 유소년 축구 지원 공로 인정 감사상 수상\n",
      "넥슨이 '하나원큐 K리그 2022 대상 시상식'에서 한국프로축구연맹의 공식 유소년 축구 파트너로서 국내 유소년 축구 저변 확대에 기여한 공로를 인정받아 감사상을 수상했다. 연초 넥슨은 한국프로축구연맹과 손잡고 'EA SPORTS FIFA Online 4'의 유소년 축구 지원...\n",
      "200만 건설인 가을축제 ‘제10회 전국 건설인 축구대회’ 성료\n",
      "대한민국 건설인들의 축제 ‘제10회 전국 건설인 축구대회(대회장 민홍철 의원)’가 지난 22일부터 23일까지 이틀동안 하남종합운동장에서 성황리에 펼쳐졌다. 올해 10회째를 맞은 대회에서 영예의 우승은 C리그 ‘SH서울주택도시공사’, E리그 ‘한국건축구조기술...\n",
      "대한축구협회 \"亞컵 유치 실패, 카타르 막대한 재정 후원에 밀려\"\n",
      "선정된 카타르가 AFC로부터 유치 결정문을 전달받고 있다. 사진=AFC 홈페이지 [이데일리 스타in 이석무 기자] 대한축구협회가 2023년 아시아축구연맹(AFC) 아시안컵 유치 실패에 대해 공식 사과했다. 대한축구협회는 17일 공식입장문을 통해 “대회 유치를 위해 지난...\n",
      "포천시, \"2022 키카스 초청 친선 축구대회\" 개최\n",
      "[포천 =황규진 기자] 경기도 포천시체육회가 주최/주관하는 2022년 키카스 친선 축구대회가 23일 포천종합운동장에서 백영현 포천시장, 서과석 포천시의회 의장, 윤충식 경기도의원을 비롯해 키카스팀, 포천시청 축구동호회, 포천FC 3개클럽 100여 명이 참석한...\n",
      "비니시우스 주니어, \"인종차별주의자, 축구 경기장 출입 평생 금지당해야\"\n",
      "비니시우스 주니어. 게티이미지코리아 비니시우스 주니어(22·레알 마드리드)가 인종차별 행위로 유죄 판결을 받은 축구팬들의 경기 관람을 평생 금지해야 한다고 주장했다.레알 마드리드의 라이벌 팀인 아틀레티코 마드리드의 팬들은 지난달 양팀의 경기에서...\n",
      "'모두가 승리자', 2022 K리그 통합축구 Unified Cup 성료\n",
      "(엑스포츠뉴스 김정현 기자) 축구로 장애인과 비장애인이 하나가 된 특별한 대회가 성황리에 막을 내렸다. 한국프로축구연맹(총재 권오갑, 이하 ‘연맹’)과 스페셜올림픽코리아(회장 이용훈, 이하 ‘SOK’)가 공동 주관하는 '2022 스페셜올림픽코리아 K리그 통합...\n",
      "넥슨, 'K리그 2022 시상식'서 유소년 축구 지원 공로 감사상 수상\n",
      "[비즈월드] 넥슨(대표 이정헌)은 지난 24일 열린 '하나원큐 K리그 2022 대상 시상식'에서 한국프로축구연맹의 공식 유소년 축구 파트너로 국내 유소년 축구 저변 확대에 기여한 공로를 인정받아 감사상을 수상했다고 25일 밝혔다. 올해 초 넥슨은 한국프로축구연맹과...\n",
      "이천, 제1회 임금님표 이천 전국동호인 축구대회 성료\n",
      "(서울일보/김춘식 기자) 15일부터 23일까지 주말 동안 경기도 이천시에서 개최된 ‘2022 제1회 임금님표 이천 전국동호인 축구대회’가 성황리에 막을 내렸다. 올해 처음 열리는 ‘2022 제1회 임금님표 이천 전국동호인 축구대회’는 경기도축구협회(회장 이석재)와...\n",
      "이천시, 2022 제1회 임금님표 이천 전국동호인 축구대회 성료\n",
      "뉴스=김정훈 기자 kspa@kspnews.com] 이천시는15일부터 23일까지 주말 동안 개최된 '2022 제1회 임금님표 이천 전국동호인 축구대회'가 성황리에 막을 내렸다고 밝혔다.올해 처음 열리는 '2022 제1회 임금님표 이천 전국동호인 축구대회'는 경기도축구협회와 이천시...\n",
      "아시아나항공, 축구 국가대표팀 선전 기원 래핑항공기 선봬\n",
      "아시아나항공이 '축구국가대표팀'의 이미지를 담은 래핑 항공기를 선보였다. 아시아나항공 제공. [이데일리 문다애 기자] 아시아나항공(020560)이 ‘축구국가대표팀’의 이미지를 담은 래핑 항공기를 선보였다고 17일 밝혔다. 아시아나항공은 대한민국 축구 국가대표...\n",
      "벵거 감독 만난 차두리, \"축구 생각 나눠 행복..세계 축구에 근접하길\"\n",
      "벵거 감독과 나란히 서 있는 사진을 게시했다. 차두리 실장과 벵거 감독의 왼쪽 가슴에는 'FIFA' 문구가 적혀 있다. 이 둘은 2022 국제축구연맹(FIFA) 카타르 월드컵 기술연구그룹(TSG) 멤버로 뽑혀 카타르 월드컵 현장을 누빌 예정이다. 차두리 실장은 “2022...\n",
      "한국 여자축구 FIFA 랭킹 한 계단 올라 17위, 내년 월드컵 전망도 활짝\n",
      "22일 대회 조 추첨에서 2번 포트에 배정캐나다, 브라질 등 강호 만날 일 없다\n",
      "전국 여성축구대회 인제군에서 개최\n",
      "데일리연합(월간, 한국뉴스신문) 김민제 기자 | 제19회 문화체육관광부장관기 전국 여성축구 대회가 10월 22일부터 23일까지 하늘내린 인제에서 개최된다.대한축구협회가 주최하고 인제군이 후원하는 이번 대회에는 전국 여성축구 동호인 14개팀 250여 명이 참가하며...\n",
      "\"한국에서 축구 감독할 생각이 없다\"... 박항서 감독의 언론 인터뷰 발언 의미는?\n",
      "▲ (사진=온라인 커뮤니티 캡쳐)박항서 베트남 축구대표팀 감독이 핫이슈로 급부상 중이다. 특히, 5년 만에 베트남 축구대표님 감독을 사임하는 것으로 알려지는 가운데, 박항서 감독의 언론 인터뷰가 새롭게 주목받고 있다. 이날 박항서 감독은 이날 CBS 라디오...\n",
      "\"축구하려고 태어났잖아?\" 英도 조명한 SON의 '프로페셔널'\n",
      "자세’를 조명했다. 토트넘은 13일 오전 4시(한국시간) 영국 런던의 토트넘 홋스퍼 스타디움에서 프랑크푸르트와 2022-23시즌 유럽축구연맹(UEFA) 챔피언스리그(UCL) D조 조별리그 4차전을 치른다. 토트넘은 승점 4점(1승 1무 1패)으로 조 2위를 기록 중이다. 10월은...\n",
      "전국 여성축구대회 인제군에서 개최\n",
      "[케이에스피뉴스=박진 기자 kspa@kspnews.com] 제19회 문화체육관광부장관기 전국 여성축구 대회가 10월 22일부터 23일까지 하늘내린 인제에서 개최된다. 대한축구협회가 주최하고 인제군이 후원하는 이번 대회에는 전국 여성축구 동호인 14개팀 250여 명이 참가하며...\n",
      "[프리미엄 리포트] 손흥민 스프린터 횟수 어떻게 알까..데이터 품은 축구\n",
      "카타르 월드컵, 과학으로 즐기기\n",
      "아시아나항공, '축구국가대표팀' 선전 기원..래핑 항공기 띄운다\n",
      "12월까지 미주·유럽·동남아 등 다양한 노선 투입\n",
      "與野대치 격화 속 의원 친선축구대회 또 연기\n",
      "여야가 친목과 화합 도모를 위해 추진해온 여야 국회의원 친선 축구대회가 더불어민주당 측의 요청으로 연기됐다.24일 정치권에 따르면 여야는 25일 개최 예정이었던 친선 축구대회를 미루기로 했다.국민의힘 축구팀 간사 송석준 의원은 연합뉴스와 통화에서 \"지난...\n",
      "휴앤, ‘2022 인천 축구 꿈나무 페스티벌’ 참여\n",
      "[아시아에이=이조은 기자] 휴테크 안마의자 계열사 휴앤이 인천시에서 주최하는 ‘2022 인천 축구 꿈나무 페스티벌’에 참여한다고 21일 밝혔다. 휴앤 노주현 이사는 “과거 의식주가 가장 중요했다면 이제는 감정, 생각, 컨디션 등 우리에게 많은 영향을 주는 휴식...\n",
      "GS동해전력배 직장 및 동호인클럽 축구대회, 지역 \"축구인의 축제에 장\"으로 자리메김\n",
      "\"GS동해전력배가 명실공히 지역민들에게 축구를 사랑하는 대회로 나아갈 것을 약속\" 강원 동해시에서는 가을비가 폭우처럼 쏟아지는 가운데 축구인들의 함성소리가 종합경기장에 울려 퍼졌다. 이는 2022년 제2회 GS동해전력배 직장 및 동호인클럽축구대회가 지난...\n",
      "전국 여성축구대회 22~23일 인제 개최\n",
      "【인제=참뉴스】정광섭 기자 = 제19회 문화체육관광부장관기 전국 여성축구 대회가 오는 22일부터 23일까지 강원 인제에서 개최된다. 대한축구협회가 주최하고 인제군이 후원하는 이번 대회에는 전국 여성축구 동호인 14개팀 250여 명이 참가하며 인제군에서도 인제...\n",
      "차범근 축구교실, 용산 아이파크몰 풋살장에서 새 출발…\"어린이들 쾌적하고 좋은 환경서 축구수업 받기를\"\n",
      "[폴리뉴스 한유성 기자] 1988년 국내 최초의 유소년 축구클럽으로 출발한 '차범근 축구교실'이 서울 용산 HDC아이파크몰 풋살장에서 새 출발 한다. HDC아이파크몰은 차범근 축구교실이 용산 아이파크몰 풋살장을 활용할 수 있도록 지원하기로 했다고 20일 밝혔다...\n",
      "대선주조, 부산 축구 동호인 축제 21년째 후원\n",
      "[파이낸셜뉴스] 대선주조가 부산 축구 동호인들의 우호와 건강 증진을 위한 대축제를 21년째 후원하고 나섰다. 11일 대선주조는 동래구 사직동 본사에서 부산시축구협회와 ‘제41회 부산광역시축구협회장기 및 대선주조배 축구대회’ 후원 협약을 체결했다고 밝혔다...\n",
      "'축구교실 잠정 중단' 차범근, 수 시간 비 맞으며 아이들과 마지막 인사\n",
      "차범근 이사장. 허인회 기자 [풋볼리스트] 허인회 기자= 차범근 이사장은 축구교실 아이들을 위해 수 시간 동안 비를 홀딱 맞으면서 운동장을 지켰다. 차범근 축구교실은 9일 서울 용산구 이촌 한강공원에서 '차범근 축구교실 굿바이 페스티벌'을 개최했다. 차...\n",
      "\"손흥민이! 김민재가~\" 아시아나 여객기에 얼굴 새겨진 축구 국대팀 5인은\n",
      "황희찬, 황의조, 김민재, 김승규 선수 등A350, A321 동체에 이미지 부착12월까지 국내선·국제선 오갈 예정\n",
      "야구·골프·축구·농구·낚시..LG유플러스, 통합 스포츠 플랫폼 '스포키' 출시\n",
      "기존 프로야구, 골프 중계 통합하고 당구 볼링 등 스포츠 종목 총 8개로 대폭 확대'U+ 3.0 4대 플랫폼' 전략 일환\n",
      "대한축구협회, 월드컵 전 마지막 평가전 상대는 아이슬란드\n",
      "[중앙뉴스라인, 차행운기자] 카타르 월드컵 출전을 앞둔 축구 국가대표팀의 마지막 평가전 상대가 아이슬란드로 정해졌다.대한축구협회는 파울루 벤투 감독이 이끄는 대표팀이 다음달 11일 밤 8시 화성종합경기타운 주경기장에서 아이슬란드와 ‘하나은행 초청 국가...\n",
      "'신의 손'이 만진 축구공 최소 40억원\n",
      "마라도나 1986 멕시코월드컵 핸드볼 논란, 36년 만에 경매 출품\n",
      "함안, 축구·배드민턴으로 한마음\n",
      "함안군은 지난 16일 함안스포츠타운 인조구장과 함안체육관에서 조근제 군수, 조해진 국회의원, 곽세훈 군의회 의장, 축구와 배드민턴 생활체육 동호회원 등 500여명이 참석한 가운데 함안군수기 생활체육 축구 및 배드민턴 대회를 개최했다. 함안군축구협회와 함안...\n",
      "유소년 축구팀 오산 슛돌이 연합 축구대회 개최\n",
      "유소년 축구팀 오산 슛돌이 연합 축구대회 단체 기념사진. 오산남부종합사회복지관은 지난 8일 오산종합운동장 보조경기장에서 오산 슛돌이 유소년 연합 축구대회를 개최했다고 밝혔다. 삼성꿈장학재단이 지원하고 오산남부종합사회복지관이 주관한 이번 대회는 작년...\n",
      "천안가온초, 제3회 천안학생 로봇대회(로봇축구, 해커톤) 수상\n",
      "학교(교장 이윤미)는 지난 22일 오전9시부터 태조산청소년수련관에서 진행된 제3회 천안학생 로봇대회에 로봇축구와 해커톤 부문에 참가했다. 로봇축구에는 6학년 3팀(학생 9명)이 참가하여 금상과 은상을 차지하는 쾌거를 이뤘고, 해커톤 부문에는 6학년 3팀(학생...\n",
      "선수협, '유소년 축구 클리닉' 진행..지소연·윤영글 등 나서\n",
      "사진=한국프로축구선수협회 제공 [스포츠투데이 이서은 기자] 한국프로축구선수협회 지소연 회장을 비롯해 윤영글 어드바이저, 강가애 이사, 심서연, 윤선영 등 여자 선수들이 '유소년 축구 클리닉'에 참여해 재능기부에 나섰다. 인천에 위치한 가정여자중학교에서...\n",
      "발달장애인·비장애인 통합축구대회, 제천서 열린다\n",
      "기사내용 요약 발달장애인 선수 6명, 비장애인 선수 5명 [서울=뉴시스]'2022 스페셜올림픽코리아 K리그 통합축구 Unified Cup‘ 1차 리그 모습. 2022.10.07. (사진=한국프로축구연맹 제공) *재판매 및 DB 금지 [서울=뉴시스] 박대로 기자 = 한국프로축구연맹과...\n",
      "㈜드림풋볼, 제7회 양구 국토정중앙배 전국 유소년 축구대회 성료\n",
      "㈜드림풋볼(대표 최소영)이 주최 및 주관을 맡고, (재)양구군스포츠재단이 후원한 ‘제7회 양구 국토정중앙배 전국 유소년 축구대회’가 성공적으로 마무리됐다. 이번 대회는 U8세부터 U12세까지의 유소년 선수들의 경기로 연령 별 조별예선과 클래식, 챌린지 본선...\n",
      "한국 vs 카타르, 2023 아시안컵 축구 개최국 내일 결정\n",
      "쿠알라룸푸르의 파빌리온 호텔에서 열리는 AFC 집행위원회 회의에서 결정된다. 4년마다 열리는 AFC 아시안컵은 아시아 최고 권위의 축구 국가 대항전으로 1956년 시작됐다. 제18회째가 될 2023년 아시안컵 대회는 애초 중국에서 개최될 예정이었다. 하지만 신종...\n",
      "안정환 \"아내 이혜원 때문에 출연, 축구프로보다 좋아해\"(용형2)\n",
      "것을 좋아하는 것 같다\"고 전했다. 이어 \"방송 프로그램에 많이 출연하는 건 안 좋아하고 이 프로그램을 특히 좋아했다. 축구 프로그램보다 좋아했다\"고 덧붙였다. '용감한 형사들' 시즌2는 국민의 안전한 일상을 지키기 위해 범죄와 싸우는 형사들의 진솔한 피, 땀...\n",
      "전국 축구 꿈나무 김해서 기량 겨룬다\n",
      "''김해 가야왕도배 유소년 축구대회'가 오는 22~23일 이틀간 김해 시민체육공원 축구장에서 열린다.김해시축구협회가 주관하고 김해시, 김해시체육회가 후원하는 이번 대회는 U-8, U-10, U-12 3개 부에 전국 32개 팀 500여명의 선수와 관계자가 참가할 예정이며 예선...\n",
      "유소년 축구팀 오산 슛돌이 연합 축구대회 개최\n",
      "뉴스=김정훈 기자 kspa@kspnews.com] 오산남부종합사회복지관은 지난 8일 오산종합운동장 보조경기장에서 오산 슛돌이 유소년 연합 축구대회를 개최했다고 밝혔다.삼성꿈장학재단이 지원하고 오산남부종합사회복지관이 주관한 이번 대회는 작년 4월 오산 슛돌이 창단...\n",
      "옥천서 충북도교육감기 동아리 축구대회 개최\n",
      "충청북도교육청은 21~22일 21회 충청북도 교육감기 겸 17회 설암 김천호배 동아리 축구대회를 옥천공설운동장과 이원중학교에서 개최한다. 동아리 축구대회는 초등학교 4, 5, 6학년 학생들이 참가하며, 종별로 1부와 2부 경기로 구분된다. 1부 경기는 6학급 이하...\n",
      "마라도나 '신의 손' 골 만든 축구공 경매에..48억 예상\n",
      "문제의 장면 - BBC 갈무리 (서울=뉴스1) 박형기 기자 = 마라도나가 ‘신의 손’으로 불리는 골을 넣을 당시 축구공이 경매에 나온다고 영국 BBC가 13일(현지시간) 보도했다. 마라도나의 신의 손 골은 세계 축구사에 한 페이지를 장식할 정도로 유명한 골이다. 1986년...\n"
     ]
    }
   ],
   "source": [
    "search = \"축구\"\n",
    "\n",
    "for p in range(1, 80, 1):\n",
    "    raw = requests.get(f\"https://search.daum.net/search?w=news&DA=PGD&enc=utf8&cluster=y&cluster_page=1&q={search}&p={p}\")\n",
    "    html = BeautifulSoup(raw.text, 'html.parser')\n",
    "    \n",
    "    container = html.select(\"ul.list_news\")\n",
    "    \n",
    "    for c in container:\n",
    "        title = c.select_one(\"div.wrap_cont > a\").text.strip()\n",
    "        print(title)\n",
    "        \n",
    "        content = c.select_one(\"div.wrap_cont > p\").text.strip()\n",
    "        print(content)"
   ]
  },
  {
   "cell_type": "code",
   "execution_count": 157,
   "id": "8429fd9d-0c98-487b-8468-bd2179aa546d",
   "metadata": {},
   "outputs": [
    {
     "data": {
      "text/html": [
       "<div>\n",
       "<style scoped>\n",
       "    .dataframe tbody tr th:only-of-type {\n",
       "        vertical-align: middle;\n",
       "    }\n",
       "\n",
       "    .dataframe tbody tr th {\n",
       "        vertical-align: top;\n",
       "    }\n",
       "\n",
       "    .dataframe thead th {\n",
       "        text-align: right;\n",
       "    }\n",
       "</style>\n",
       "<table border=\"1\" class=\"dataframe\">\n",
       "  <thead>\n",
       "    <tr style=\"text-align: right;\">\n",
       "      <th></th>\n",
       "      <th>제목</th>\n",
       "      <th>링크</th>\n",
       "    </tr>\n",
       "  </thead>\n",
       "  <tbody>\n",
       "    <tr>\n",
       "      <th>0</th>\n",
       "      <td>김연아도 빵 터진 고우림父 축사 어땠길래…\"논문 읽고 준비\"</td>\n",
       "      <td>https://www.hankyung.com/life/article/20221026...</td>\n",
       "    </tr>\n",
       "    <tr>\n",
       "      <th>1</th>\n",
       "      <td>김연아 결혼식때 시아버지 축사에 빵 터졌다..'연아 논문'이 왜 거기서</td>\n",
       "      <td>http://www.fnnews.com/news/202210270641050055</td>\n",
       "    </tr>\n",
       "    <tr>\n",
       "      <th>2</th>\n",
       "      <td>'피겨퀸' 김연아·고우림, 결혼식 비용은 얼마?</td>\n",
       "      <td>https://star.ytn.co.kr/_sn/0117_20221027093204...</td>\n",
       "    </tr>\n",
       "    <tr>\n",
       "      <th>3</th>\n",
       "      <td>IOC도 주목한 ‘김연아 결혼식’… “아이스 퀸 같았다”</td>\n",
       "      <td>https://www.chosun.com/culture-life/culture_ge...</td>\n",
       "    </tr>\n",
       "    <tr>\n",
       "      <th>4</th>\n",
       "      <td>22억에 사 재테크 성공한 김연아 고급빌라 어떤가 봤더니</td>\n",
       "      <td>http://www.newsis.com/view/?id=NISX20221025_00...</td>\n",
       "    </tr>\n",
       "    <tr>\n",
       "      <th>5</th>\n",
       "      <td>김연아♥고우림, 팔짱 끼고 인사..수많은 하객 속 빛나는 두 사람</td>\n",
       "      <td>http://star.mt.co.kr/stview.php?no=20221027074...</td>\n",
       "    </tr>\n",
       "    <tr>\n",
       "      <th>6</th>\n",
       "      <td>\"김연아 결혼 왜 했어\"… '스윗소로우' 인호진, 격한 아쉬움?</td>\n",
       "      <td>http://moneys.mt.co.kr/news/mwView.php?no=2022...</td>\n",
       "    </tr>\n",
       "    <tr>\n",
       "      <th>7</th>\n",
       "      <td>\"내 눈 뚫어지게 본 고우림 강한 끌림\"…김연아가 밝힌 첫 만남</td>\n",
       "      <td>https://www.joongang.co.kr/article/25112135</td>\n",
       "    </tr>\n",
       "    <tr>\n",
       "      <th>8</th>\n",
       "      <td>IOC “김연아, 올림픽 가치 다음 세대에 전해주길”</td>\n",
       "      <td>http://mksports.co.kr/view/2022/954825/</td>\n",
       "    </tr>\n",
       "    <tr>\n",
       "      <th>9</th>\n",
       "      <td>결혼한 피겨여왕 김연아의 첫 활동은…꿈나무 지도</td>\n",
       "      <td>https://www.chosun.com/culture-life/culture_ge...</td>\n",
       "    </tr>\n",
       "  </tbody>\n",
       "</table>\n",
       "</div>"
      ],
      "text/plain": [
       "                                        제목  \\\n",
       "0        김연아도 빵 터진 고우림父 축사 어땠길래…\"논문 읽고 준비\"   \n",
       "1  김연아 결혼식때 시아버지 축사에 빵 터졌다..'연아 논문'이 왜 거기서   \n",
       "2               '피겨퀸' 김연아·고우림, 결혼식 비용은 얼마?   \n",
       "3          IOC도 주목한 ‘김연아 결혼식’… “아이스 퀸 같았다”   \n",
       "4          22억에 사 재테크 성공한 김연아 고급빌라 어떤가 봤더니   \n",
       "5     김연아♥고우림, 팔짱 끼고 인사..수많은 하객 속 빛나는 두 사람   \n",
       "6      \"김연아 결혼 왜 했어\"… '스윗소로우' 인호진, 격한 아쉬움?   \n",
       "7      \"내 눈 뚫어지게 본 고우림 강한 끌림\"…김연아가 밝힌 첫 만남   \n",
       "8            IOC “김연아, 올림픽 가치 다음 세대에 전해주길”   \n",
       "9               결혼한 피겨여왕 김연아의 첫 활동은…꿈나무 지도   \n",
       "\n",
       "                                                  링크  \n",
       "0  https://www.hankyung.com/life/article/20221026...  \n",
       "1      http://www.fnnews.com/news/202210270641050055  \n",
       "2  https://star.ytn.co.kr/_sn/0117_20221027093204...  \n",
       "3  https://www.chosun.com/culture-life/culture_ge...  \n",
       "4  http://www.newsis.com/view/?id=NISX20221025_00...  \n",
       "5  http://star.mt.co.kr/stview.php?no=20221027074...  \n",
       "6  http://moneys.mt.co.kr/news/mwView.php?no=2022...  \n",
       "7        https://www.joongang.co.kr/article/25112135  \n",
       "8            http://mksports.co.kr/view/2022/954825/  \n",
       "9  https://www.chosun.com/culture-life/culture_ge...  "
      ]
     },
     "execution_count": 157,
     "metadata": {},
     "output_type": "execute_result"
    }
   ],
   "source": [
    "def search_naver(keyword):\n",
    "    li1=[]\n",
    "    li2=[]\n",
    "    url1 = \"https://search.naver.com/search.naver?where=news&sm=tab_pge&query=\"\n",
    "    url2 = keyword\n",
    "    url3 = \"&start=\"\n",
    "\n",
    "    for i in range(1, 4):\n",
    "        url = url1 + url2 + url3 + str(i)\n",
    "\n",
    "        html = requests.get(url, headers = header).text\n",
    "        soup = BeautifulSoup(html, 'html.parser')\n",
    "        title = soup.find_all(class_ = \"news_tit\")\n",
    "        for j in title:\n",
    "            # test = j.text, \":\", j.attrs['href']\n",
    "            li1.append(j.text)\n",
    "            li2.append(j.attrs['href'])\n",
    "            data = pd.DataFrame({'제목':li1, '링크':li2})\n",
    "            # with open(\"news.csv\", \"a\") as f :\n",
    "                # f.write(str(test))\n",
    "            \n",
    "            data.to_csv(f\"{keyword}_검색.csv\")\n",
    "        return data\n",
    "        \n",
    "search_naver(\"김연아\")"
   ]
  },
  {
   "cell_type": "code",
   "execution_count": null,
   "id": "d6cb43c1-2b4f-419d-bed3-12e6f9291372",
   "metadata": {},
   "outputs": [],
   "source": []
  },
  {
   "cell_type": "code",
   "execution_count": 62,
   "id": "6f2c185b-f77d-4943-9b79-72774583550c",
   "metadata": {},
   "outputs": [
    {
     "name": "stderr",
     "output_type": "stream",
     "text": [
      "C:\\Users\\admin\\AppData\\Local\\Temp\\ipykernel_7364\\77741509.py:4: DeprecationWarning: executable_path has been deprecated, please pass in a Service object\n",
      "  driver = webdriver.Chrome(\"./chromedriver.exe\")\n"
     ]
    }
   ],
   "source": []
  },
  {
   "cell_type": "code",
   "execution_count": 132,
   "id": "4cfc04ff-2b8a-45ab-b28c-e0866e8ae91f",
   "metadata": {
    "tags": []
   },
   "outputs": [
    {
     "name": "stderr",
     "output_type": "stream",
     "text": [
      "C:\\Users\\admin\\AppData\\Local\\Temp\\ipykernel_7364\\484302422.py:4: DeprecationWarning: executable_path has been deprecated, please pass in a Service object\n",
      "  driver = webdriver.Chrome(\"./chromedriver.exe\")\n"
     ]
    }
   ],
   "source": [
    "import selenium\n",
    "from selenium import webdriver\n",
    "# 드라이브 연결\n",
    "driver = webdriver.Chrome(\"./chromedriver.exe\")\n",
    "\n",
    "search = \"김연아\"\n",
    "# search = quote_plus(\"\")?.\n",
    "url = f\"https://search.naver.com/search.naver?where=image&sm=tab_jum&query={search}\"\n",
    "ㅁ\n",
    "# 키워드가 들어간 주소에 접근\n",
    "driver.get(url)"
   ]
  },
  {
   "cell_type": "code",
   "execution_count": 133,
   "id": "b1746ef4-8088-4fd1-a72d-e23149d5ea1f",
   "metadata": {
    "tags": []
   },
   "outputs": [],
   "source": [
    "from selenium import webdriver\n",
    "from selenium.webdriver.common.keys import Keys\n",
    "from selenium.webdriver.common.by import By\n",
    "\n",
    "# 이미지같은 경우에는 페이지가 따로 있는것이 아니라\n",
    "# 스크롤이 다 내려가면 또 새로운 이미지들을 불러오는 형식이기때문에\n",
    "# 스크롤을 내려주는 듯한 행동을 하게끔 설정\n",
    "for i in range(1,15):\n",
    "    driver.find_element(By.CLASS_NAME, \"wrap-new\").send_keys(Keys.END) #키보드 END키를 누른다\n",
    "    driver.implicitly_wait(20)\n",
    "\n",
    "# 잠시 지연시켜주기 \n",
    "driver.implicitly_wait(20)\n",
    "\n",
    "# 페이지 코드를 가져와\n",
    "html = driver.page_source\n",
    "# 읽어주고\n",
    "soup =  BeautifulSoup(html, 'lxml')\n",
    "# _image 태그 밑에 있는 모든것들을 가져와 담아주기\n",
    "images = soup.find_all(class_ = \"_image\")\n",
    "\n",
    "# 가져온 이미지를 담기위한 파일을 생성했다\n",
    "# import os\n",
    "# os.mkdir(\"img\")\n",
    "\n",
    "\n",
    "from urllib.request import urlopen, urlretrieve\n",
    "count = 0\n",
    "for img in images :\n",
    "    urlretrieve(img['src'], f\"./img/{count}.jpg\")\n",
    "    count += 1\n",
    "    \n",
    "# 드라이브 연결 끊기\n",
    "driver.quit()"
   ]
  },
  {
   "cell_type": "code",
   "execution_count": null,
   "id": "01bdc944-6be9-4c7b-af74-f890b48b9553",
   "metadata": {},
   "outputs": [],
   "source": []
  },
  {
   "cell_type": "code",
   "execution_count": null,
   "id": "6c861ff1-ae3b-418f-a80a-2c060acf770d",
   "metadata": {},
   "outputs": [],
   "source": []
  },
  {
   "cell_type": "code",
   "execution_count": null,
   "id": "7b9f0e47-daa5-4313-8de9-667a8309604d",
   "metadata": {},
   "outputs": [],
   "source": []
  },
  {
   "cell_type": "code",
   "execution_count": 104,
   "id": "b8a74cdd-51ef-48ea-8949-5bb827e2be53",
   "metadata": {},
   "outputs": [],
   "source": [
    "import requests\n",
    "from bs4 import BeautifulSoup\n",
    "\n",
    "url = \"https://search.naver.com/search.naver?where=news\"\n",
    "response = requests.get(url)\n",
    "response.raise_for_status()\n",
    "\n",
    "soup = BeautifulSoup(response.text, \"lxml\")"
   ]
  },
  {
   "cell_type": "code",
   "execution_count": 105,
   "id": "09ef2529-9ddf-4323-98dd-874b57029945",
   "metadata": {},
   "outputs": [
    {
     "data": {
      "text/plain": [
       "<title> : 네이버 뉴스검색</title>"
      ]
     },
     "execution_count": 105,
     "metadata": {},
     "output_type": "execute_result"
    }
   ],
   "source": [
    "soup.title"
   ]
  },
  {
   "cell_type": "code",
   "execution_count": 121,
   "id": "a05d830d-516e-4d96-b5ae-65472e4a4029",
   "metadata": {},
   "outputs": [
    {
     "name": "stdout",
     "output_type": "stream",
     "text": [
      "11\n",
      "11\n"
     ]
    }
   ],
   "source": [
    "print(len(soup.title.string))\n",
    "print(len(soup.title.get_text()))"
   ]
  },
  {
   "cell_type": "code",
   "execution_count": 107,
   "id": "ee39ac55-6f0e-4908-9007-feaa5e7f4a78",
   "metadata": {},
   "outputs": [
    {
     "data": {
      "text/plain": [
       "<li class=\"item _item\" data-keyword=\"@in_txt@\" data-rank=\"@rank@\" data-template-type=\"history\"> <a class=\"kwd\" href=\"#\"> <span class=\"fix\"><span class=\"common_ico_kwd\"><i class=\"imsc ico_search\"></i></span><span>@txt@</span></span> </a> <span class=\"etc\"> <em class=\"date\">@date@.</em> <a aria-pressed=\"false\" class=\"bt_item _del\" href=\"#\" role=\"button\"><i class=\"imsc ico_del\">삭제</i></a> </span> </li>"
      ]
     },
     "execution_count": 107,
     "metadata": {},
     "output_type": "execute_result"
    }
   ],
   "source": [
    "soup.li"
   ]
  },
  {
   "cell_type": "code",
   "execution_count": 108,
   "id": "0ed1a486-a878-4bc9-92c1-415af917ccf2",
   "metadata": {},
   "outputs": [
    {
     "data": {
      "text/plain": [
       "{'class': ['item', '_item'],\n",
       " 'data-rank': '@rank@',\n",
       " 'data-template-type': 'history',\n",
       " 'data-keyword': '@in_txt@'}"
      ]
     },
     "execution_count": 108,
     "metadata": {},
     "output_type": "execute_result"
    }
   ],
   "source": [
    "soup.li.attrs"
   ]
  },
  {
   "cell_type": "code",
   "execution_count": 109,
   "id": "8b36170d-0abe-4420-af1c-0c13729c93fc",
   "metadata": {},
   "outputs": [
    {
     "name": "stdout",
     "output_type": "stream",
     "text": [
      "#lnb\n",
      "#lnb\n"
     ]
    }
   ],
   "source": [
    "print(soup.a[\"href\"])\n",
    "print(soup.a.attrs[\"href\"])"
   ]
  },
  {
   "cell_type": "code",
   "execution_count": 118,
   "id": "95c047cd-7e43-45b4-9de9-f6293bd80ae3",
   "metadata": {},
   "outputs": [
    {
     "data": {
      "text/plain": [
       "<a href=\"#lnb\"><span>메뉴 영역으로 바로가기</span></a>"
      ]
     },
     "execution_count": 118,
     "metadata": {},
     "output_type": "execute_result"
    }
   ],
   "source": [
    "soup.find('a')"
   ]
  },
  {
   "cell_type": "code",
   "execution_count": 114,
   "id": "3b07106e-7623-4074-a6db-160a5b20dab2",
   "metadata": {},
   "outputs": [
    {
     "data": {
      "text/plain": [
       "<a aria-selected=\"false\" class=\"tab\" href=\"?where=nexearch&amp;sm=tab_jum&amp;query=\" onclick=\"return goOtherCR(this,'a=tab*N.jmp&amp;r=1&amp;i=&amp;u='+urlencode(this.href));\" role=\"tab\">통합</a>"
      ]
     },
     "execution_count": 114,
     "metadata": {},
     "output_type": "execute_result"
    }
   ],
   "source": [
    "soup.find('a', attrs={\"class\": \"tab\"})"
   ]
  },
  {
   "cell_type": "code",
   "execution_count": 116,
   "id": "d740e475-c001-4668-8642-16354d4908cf",
   "metadata": {},
   "outputs": [
    {
     "data": {
      "text/plain": [
       "[<a href=\"#lnb\"><span>메뉴 영역으로 바로가기</span></a>,\n",
       " <a href=\"#content\"><span>본문 영역으로 바로가기</span></a>,\n",
       " <a class=\"link\" href=\"https://www.naver.com\" onclick=\"return goOtherCR(this, 'a=sta.naver&amp;r=&amp;i=&amp;u='+urlencode(this.href));\"><i class=\"spnew ico_logo\">NAVER</i></a>,\n",
       " <a aria-pressed=\"false\" class=\"bt_setkr\" href=\"#\" id=\"ke_kbd_btn\" onclick=\"return tCR('a=sch.ime');\" role=\"button\"><i class=\"spnew ico_keyboard\">한글 입력기</i></a>,\n",
       " <a aria-pressed=\"false\" class=\"bt_atcp _btn_arw\" data-atcmp-element=\"\" href=\"#\" id=\"nautocomplete\" role=\"button\"><i class=\"spnew ico_arrow\">자동완성 레이어</i></a>,\n",
       " <a aria-pressed=\"false\" class=\"item _delAll\" href=\"#\" role=\"button\">전체삭제</a>,\n",
       " <a class=\"kwd\" href=\"#\"> <span class=\"fix\"><span class=\"common_ico_kwd\"><i class=\"imsc ico_search\"></i></span><span>@txt@</span></span> </a>,\n",
       " <a aria-pressed=\"false\" class=\"bt_item _del\" href=\"#\" role=\"button\"><i class=\"imsc ico_del\">삭제</i></a>,\n",
       " <a class=\"kwd_help\" href=\"https://help.naver.com/support/alias/search/word/word_29.naver\" onclick=\"return goOtherCR(this,'a=sly.help&amp;r=&amp;i=&amp;u='+urlencode(this.href));\" target=\"_blank\">도움말</a>,\n",
       " <a class=\"kwd_help\" href=\"https://help.naver.com/support/alias/search/word/word_29.naver\" onclick=\"return goOtherCR(this,'a=sly.help&amp;r=&amp;i=&amp;u='+urlencode(this.href));\" target=\"_blank\">도움말</a>,\n",
       " <a href=\"https://help.naver.com/support/alias/search/word/word_29.naver\" onclick=\"return goOtherCR(this,'a=sly.help&amp;r=&amp;i=&amp;u='+urlencode(this.href));\" target=\"_blank\">도움말</a>,\n",
       " <a class=\"close _keywordOnOff\" href=\"#\">자동저장 끄기</a>,\n",
       " <a class=\"link_item\" href=\"#\"> <span class=\"common_ico_kwd\"><i class=\"imsc ico_search\"></i></span> <div class=\"dsc_area\"> <span class=\"tit\">@5@회차 당첨번호</span> <span class=\"dsc\"> <span class=\"item\">추첨 @13@.</span><span class=\"item\">지급기한 1년</span> </span> </div> <span class=\"etc_area\"> <span class=\"etc lotto\"> <em class=\"n@6@\">@6@</em><em class=\"n@7@\">@7@</em><em class=\"n@8@\">@8@</em><em class=\"n@9@\">@9@</em><em class=\"n@10@\">@10@</em><em class=\"n@11@\">@11@</em><em class=\"imsc_bf bonus n@12@\">@12@</em> </span> </span> </a>,\n",
       " <a class=\"link_item @11@\" href=\"#\"> <span class=\"common_ico_kwd\"><i class=\"imsc ico @12@\">@14@</i></span> <div class=\"dsc_area\"> <span class=\"tit\">@txt@<span class=\"sub\">@currency@</span></span> <span class=\"dsc\"> <span class=\"item\"><i class=\"imsc ico_arr\"></i>@8@(@9@%)</span> </span> </div> <span class=\"etc_area\"> <span class=\"etc\"><em class=\"num\">@6@</em>원</span> </span> </a>,\n",
       " <a class=\"link_item @12@\" href=\"#\"> <span class=\"common_ico_kwd\"><i class=\"imsc ico_search\"></i></span> <div class=\"dsc_area\"> <span class=\"tit\">@txt@</span> <span class=\"dsc\"> <span class=\"item\">@7@, @message@</span> </span> </div> <span class=\"etc_area\"> <span class=\"etc\"> <span class=\"ico_weather\"><i class=\"imsc ico ico@iconNo@\">@7@</i></span> <em class=\"degree\">@8@<sup class=\"celsius\">°</sup></em> </span> </span> </a>,\n",
       " <a class=\"link_item\" href=\"@5@\" target=\"_blank\"> <span class=\"common_ico_kwd\"><i class=\"imsc ico_url\"></i></span> <div class=\"dsc_area\"> <span class=\"tit\">@txt@</span> <span class=\"dsc\"> <span class=\"item\">@5@</span> </span> </div> <span class=\"etc_area\"> <span class=\"etc\">바로가기</span> </span> </a>,\n",
       " <a class=\"kwd\" href=\"#\"> <span class=\"fix\"><span class=\"common_ico_kwd\"><i class=\"imsc ico_search\"></i></span>@txt@</span> </a>,\n",
       " <a aria-pressed=\"false\" class=\"bt_item _add\" href=\"#\" role=\"button\"><i class=\"imsc ico_insert\">추가</i></a>,\n",
       " <a class=\"kwd\" href=\"#\"> <span class=\"fix\"><span class=\"common_ico_kwd\"><i class=\"imsc ico_search\"></i></span>@txt@</span> </a>,\n",
       " <a aria-pressed=\"false\" class=\"bt_item _add\" href=\"#\" role=\"button\"><i class=\"imsc ico_insert\">추가</i></a>,\n",
       " <a class=\"kwd\" href=\"#\"> <span class=\"fix\"><span class=\"common_ico_kwd\"><i class=\"imsc ico_search\"></i></span>@query@ <span class=\"context\">@intend@</span></span> </a>,\n",
       " <a aria-pressed=\"false\" class=\"bt_item _add\" href=\"#\" role=\"button\"><i class=\"imsc ico_insert\">추가</i></a>,\n",
       " <a class=\"link _alert_link\" href=\"#\" onclick=\"return goOtherCR(this,'a=sug.vote&amp;r=&amp;i=&amp;u='+urlencode(this.href));\" target=\"_blank\">자세히보기</a>,\n",
       " <a class=\"link_dsc\" href=\"https://help.naver.com/support/alias/search/word/word_16.naver\" onclick=\"return goOtherCR(this,'a=sug.cxhelp&amp;r=&amp;i=&amp;u='+urlencode(this.href));\" target=\"_blank\">관심사를 반영한 컨텍스트 자동완성<i class=\"imsc ico_help\">도움말</i></a>,\n",
       " <a aria-pressed=\"false\" class=\"bt_switch active _plus_btn\" href=\"#\" role=\"button\"><i class=\"imsc ico_option\">컨텍스트 자동완성</i></a>,\n",
       " <a class=\"btn btn_view\" href=\"https://help.naver.com/support/alias/search/word/word_16.naver\" onclick=\"return goOtherCR(this,'a=sug.cxhelp&amp;r=&amp;i=&amp;u='+urlencode(this.href));\" target=\"_blank\">자세히</a>,\n",
       " <a class=\"btn btn_login\" href=\"https://nid.naver.com/nidlogin.login?url=https%3A%2F%2Fsearch.naver.com%2Fsearch.naver%3Fwhere%3Dnews\" onclick=\"return goOtherCR(this,'a=sug.cxlogin&amp;r=&amp;i=&amp;u='+urlencode(this.href));\">로그인</a>,\n",
       " <a class=\"btn btn_view\" href=\"https://help.naver.com/support/alias/search/word/word_16.naver\" onclick=\"return goOtherCR(this,'a=sug.cxhelp&amp;r=&amp;i=&amp;u='+urlencode(this.href));\" target=\"_blank\">자세히</a>,\n",
       " <a class=\"btn_close _plus_layer_close\" href=\"#\" onclick=\"return tCR('a=sug.cxhide');\" role=\"button\"><i class=\"imsc ico_close\">컨텍스트 자동완성 레이어 닫기</i></a>,\n",
       " <a href=\"https://help.naver.com/alias/search/word/word_17.naver\" onclick=\"return goOtherCR(this,'a=sug.help&amp;r=&amp;i=&amp;u='+urlencode(this.href));\" target=\"_blank\">도움말</a>,\n",
       " <a class=\"report\" href=\"https://help.naver.com/support/alias/search/word/word_18.naver\" onclick=\"return goOtherCR(this,'a=sug.report&amp;r=&amp;i=&amp;u='+urlencode(this.href));\" target=\"_blank\">신고</a>,\n",
       " <a class=\"close _suggestOnOff\" href=\"#\">자동완성 끄기</a>,\n",
       " <a aria-selected=\"false\" class=\"tab\" href=\"?where=nexearch&amp;sm=tab_jum&amp;query=\" onclick=\"return goOtherCR(this,'a=tab*N.jmp&amp;r=1&amp;i=&amp;u='+urlencode(this.href));\" role=\"tab\">통합</a>,\n",
       " <a aria-selected=\"false\" class=\"tab\" href=\"?where=view&amp;sm=tab_jum&amp;query=\" onclick=\"return goOtherCR(this,'a=tab*e.jmp&amp;r=2&amp;i=&amp;u='+urlencode(this.href))\" role=\"tab\">VIEW</a>,\n",
       " <a aria-selected=\"false\" class=\"tab\" href=\"?where=image&amp;sm=tab_jum&amp;query=\" onclick=\"return goOtherCR(this,'a=tab*i.jmp&amp;r=3&amp;i=&amp;u='+urlencode(this.href));\" role=\"tab\">이미지</a>,\n",
       " <a aria-selected=\"false\" class=\"tab\" href=\"?where=kin&amp;sm=tab_jum&amp;query=\" onclick=\"return goOtherCR(this,'a=tab*k.jmp&amp;r=4&amp;i=&amp;u='+urlencode(this.href));\" role=\"tab\">지식iN</a>,\n",
       " <a aria-selected=\"false\" class=\"tab\" href=\"?where=influencer&amp;sm=tab_jum&amp;query=\" onclick=\"return goOtherCR(this,'a=tab*F.jmp&amp;r=5&amp;i=&amp;u='+urlencode(this.href));\" role=\"tab\">인플루언서</a>,\n",
       " <a aria-selected=\"false\" class=\"tab\" href=\"?where=video&amp;sm=tab_jum&amp;query=\" onclick=\"return goOtherCR(this,'a=tab*v.jmp&amp;r=6&amp;i=&amp;u='+urlencode(this.href));\" role=\"tab\">동영상</a>,\n",
       " <a aria-selected=\"false\" class=\"tab\" href=\"https://search.shopping.naver.com/search/all?where=all&amp;frm=NVSCTAB&amp;query=\" onclick=\"return goOtherCR(this,'a=tab*S.jmp&amp;r=7&amp;i=&amp;u='+urlencode(this.href));\" role=\"tab\" target=\"_blank\">쇼핑</a>,\n",
       " <a aria-selected=\"true\" class=\"tab\" href=\"?where=news&amp;sm=tab_jum&amp;query=\" onclick=\"return goOtherCR(this,'a=tab*n.now&amp;r=8&amp;i=&amp;u='+urlencode(this.href));\" role=\"tab\">뉴스</a>,\n",
       " <a aria-selected=\"false\" class=\"tab\" href=\"https://dict.naver.com/search.nhn?dicQuery=&amp;query=&amp;target=dic&amp;query_utf=&amp;isOnlyViewEE=\" onclick=\"return goOtherCR(this,'a=tab*L.jmp&amp;r=9&amp;i=&amp;u='+urlencode(this.href));\" role=\"tab\" target=\"_blank\">어학사전</a>,\n",
       " <a aria-selected=\"false\" class=\"tab\" href=\"https://map.naver.com/v5/search/\" onclick=\"return goOtherCR(this,'a=tab*M.jmp&amp;r=10&amp;i=&amp;u='+urlencode(this.href));\" role=\"tab\" target=\"_blank\">지도</a>,\n",
       " <a aria-pressed=\"false\" class=\"lnb_more _more_btn\" href=\"#\" onclick=\"tCR(jQuery(this).attr('aria-pressed') === 'false' ? 'a=tab.more' : 'a=tmr.less');\" role=\"button\"> <i class=\"spnew ico_lnb_more\">더보기</i> </a>,\n",
       " <a aria-selected=\"false\" class=\"tab\" href=\"https://search.shopping.naver.com/book/search?query=\" onclick=\"return goOtherCR(this,'a=tmr*B.jmp&amp;r=1&amp;i=&amp;u='+urlencode(this.href));\" role=\"tab\" target=\"_blank\">도서</a>,\n",
       " <a aria-selected=\"false\" class=\"tab\" href=\"https://vibe.naver.com/search?query=\" onclick=\"return goOtherCR(this,'a=tmr*m.jmp&amp;r=2&amp;i=&amp;u='+urlencode(this.href));\" role=\"tab\" target=\"_blank\">뮤직</a>,\n",
       " <a aria-selected=\"false\" class=\"tab\" href=\"?where=kdic&amp;sm=tab_jum&amp;query=\" onclick=\"return goOtherCR(this,'a=tmr*K.jmp&amp;r=3&amp;i=&amp;u='+urlencode(this.href));\" role=\"tab\">지식백과</a>,\n",
       " <a aria-selected=\"false\" class=\"tab\" href=\"https://audioclip.naver.com/search/all?keyword=\" onclick=\"return goOtherCR(this,'a=tmr*A.jmp&amp;r=4&amp;i=&amp;u='+urlencode(this.href));\" role=\"tab\" target=\"_blank\">오디오클립</a>,\n",
       " <a aria-selected=\"false\" class=\"tab\" href=\"https://academic.naver.com/search.naver?field=0&amp;query=\" onclick=\"return goOtherCR(this,'a=tmr*a.jmp&amp;r=5&amp;i=&amp;u='+urlencode(this.href));\" role=\"tab\" target=\"_blank\">학술정보</a>,\n",
       " <a aria-pressed=\"false\" class=\"btn_option _option_btn\" href=\"#\" onclick=\"return tCR('a=tmr.optn');\" role=\"button\" style=\"display:none\">검색옵션</a>,\n",
       " <a class=\"spnew_bf bt_share naver-splugin\" data-band-url=\"https://search.naver.com/search.naver?sm=bdp_pin&amp;where=news\" data-blog-url=\"https://search.naver.com/search.naver?sm=svc_pin.blog&amp;where=news\" data-cafe-source-form=\"2\" data-cafe-url=\"https://search.naver.com/search.naver?sm=svc_pin.cafe&amp;where=news\" data-calendar-url=\"https://search.naver.com/search.naver?sm=svc_pin.cal&amp;where=news\" data-evkey=\"search\" data-facebook-url=\"https://search.naver.com/search.naver?sm=fbp_pin&amp;where=news\" data-mail-display=\"off\" data-me-display=\"off\" data-memo-url=\"https://search.naver.com/search.naver?sm=svc_pin.memo&amp;where=news\" data-option=\"{baseElement:'spiButton2', layerPosition:'outside-bottom', align:'right', top:4, left:0, marginLeft:8, marginTop:10}\" data-service-name=\"통합검색\" data-style=\"unity-v2\" data-twitter-url=\"https://search.naver.com/search.naver?sm=twp_pin&amp;where=news\" data-use-short-url=\"on\" href=\"#\" id=\"spiButton2\" onclick=\"return tCR('a=lnb.shr');\" role=\"button\">공유</a>,\n",
       " <a aria-selected=\"true\" class=\"item\" href=\"#\" onclick=\"news_submit_sort_option(0, 'simcls'); return false;\" role=\"option\">관련도순</a>,\n",
       " <a aria-selected=\"false\" class=\"item\" href=\"#\" onclick=\"news_submit_sort_option(1, 'newcls'); return false;\" role=\"option\">최신순</a>,\n",
       " <a aria-selected=\"false\" class=\"item\" href=\"#\" onclick=\"news_submit_sort_option(2, 'oldcls'); return false;\" role=\"option\">오래된순</a>,\n",
       " <a aria-expanded=\"false\" aria-haspopup=\"listbox\" aria-label=\"검색옵션 열기\" class=\"btn_option _search_option_open_btn\" href=\"javascript:;\" onclick=\"tCR('a=opt.unfd');\" role=\"button\"><i class=\"spnew ico_filter\"></i>옵션</a>,\n",
       " <a aria-selected=\"true\" class=\"txt\" href=\"#\" onclick=\"news_submit_sort_option(0, 'sim'); return false;\" role=\"tab\">관련도순</a>,\n",
       " <a aria-selected=\"false\" class=\"txt\" href=\"#\" onclick=\"news_submit_sort_option(1, 'new'); return false;\" role=\"tab\">최신순</a>,\n",
       " <a aria-selected=\"false\" class=\"txt\" href=\"#\" onclick=\"news_submit_sort_option(2, 'old'); return false;\" role=\"tab\">오래된순</a>,\n",
       " <a aria-selected=\"true\" class=\"txt\" href=\"#\" onclick=\"news_set_period('all'); return false;\" role=\"tab\">전체</a>,\n",
       " <a aria-selected=\"false\" class=\"txt txt_option _time_select_trigger\" data-search-option-item=\"\" href=\"#\" onclick=\"tCR('a=opt.hour');\" role=\"tab\">1시간<i class=\"spnew ico_check\">옵션<em class=\"open\">펼치기</em><em class=\"close\">접기</em></i></a>,\n",
       " <a aria-selected=\"false\" class=\"txt\" href=\"#\" onclick=\"news_set_period('1day'); return false;\" role=\"tab\">1일</a>,\n",
       " <a aria-selected=\"false\" class=\"txt\" href=\"#\" onclick=\"news_set_period('1week'); return false;\" role=\"tab\">1주</a>,\n",
       " <a aria-selected=\"false\" class=\"txt\" href=\"#\" onclick=\"news_set_period('1month'); return false;\" role=\"tab\">1개월</a>,\n",
       " <a aria-selected=\"false\" class=\"txt\" href=\"#\" onclick=\"news_set_period('3month'); return false;\" role=\"tab\">3개월</a>,\n",
       " <a aria-selected=\"false\" class=\"txt\" href=\"#\" onclick=\"news_set_period('6month'); return false;\" role=\"tab\">6개월</a>,\n",
       " <a aria-selected=\"false\" class=\"txt\" href=\"#\" onclick=\"news_set_period('1year'); return false;\" role=\"tab\">1년</a>,\n",
       " <a aria-selected=\"false\" class=\"txt txt_option _calendar_select_trigger\" data-select-trigger=\"\" href=\"#\" onclick=\"tCR('a=opt.cal');\" role=\"tab\">직접입력<i class=\"spnew ico_check\">옵션<em class=\"open\">펼치기</em><em class=\"close\">접기</em></i></a>,\n",
       " <a class=\"link\" href=\"javascript:;\">1시간</a>,\n",
       " <a class=\"link\" href=\"javascript:;\">2시간</a>,\n",
       " <a class=\"link\" href=\"javascript:;\">3시간</a>,\n",
       " <a class=\"link\" href=\"javascript:;\">4시간</a>,\n",
       " <a class=\"link\" href=\"javascript:;\">5시간</a>,\n",
       " <a class=\"link\" href=\"javascript:;\">6시간</a>,\n",
       " <a aria-selected=\"true\" class=\"spnew_bf ico_calendar _start_trigger selected\" href=\"#\" onclick=\"tCR('a=opt.str');\" role=\"tab\"></a>,\n",
       " <a class=\"spnew_bf ico_calendar _end_trigger\" href=\"#\" onclick=\"tCR('a=opt.fin');\" role=\"tab\"></a>,\n",
       " <a aria-selected=\"true\" class=\"txt\" href=\"#\" onclick=\"news_submit_category_option(0); return false;\" role=\"tab\">전체</a>,\n",
       " <a aria-selected=\"false\" class=\"txt\" href=\"#\" onclick=\"news_submit_category_option(1); return false;\" role=\"tab\">포토</a>,\n",
       " <a aria-selected=\"false\" class=\"txt\" href=\"#\" onclick=\"news_submit_category_option(2); return false;\" role=\"tab\">동영상</a>,\n",
       " <a aria-selected=\"false\" class=\"txt\" href=\"#\" onclick=\"news_submit_category_option(3); return false;\" role=\"tab\">지면기사</a>,\n",
       " <a aria-selected=\"false\" class=\"txt\" href=\"#\" onclick=\"news_submit_category_option(4); return false;\" role=\"tab\">보도자료</a>,\n",
       " <a aria-selected=\"false\" class=\"txt\" href=\"#\" onclick=\"news_submit_category_option(5); return false;\" role=\"tab\">자동생성기사</a>,\n",
       " <a aria-selected=\"true\" class=\"txt\" href=\"#\" onclick=\"news_submit_office_option('all', '', ''); return false;\" role=\"tab\">전체</a>,\n",
       " <a aria-selected=\"false\" class=\"txt txt_option _category_select_trigger\" data-select-trigger=\"\" href=\"javascript:;\" onclick=\"tCR('a=opt.journalcategory');\" role=\"tab\">언론사 분류순<i class=\"spnew ico_check\">옵션<em class=\"open\">펼치기</em><em class=\"close\">접기</em></i></a>,\n",
       " <a aria-selected=\"false\" class=\"txt txt_option _abc_select_trigger\" data-select-trigger=\"\" href=\"javascript:;\" onclick=\"tCR('a=opt.journalbylexico');\" role=\"tab\">가나다순<i class=\"spnew ico_check\">옵션<em class=\"open\">펼치기</em><em class=\"close\">접기</em></i></a>,\n",
       " <a class=\"btn_clear spnew_bf\" href=\"?where=news&amp;sm=tab_opt&amp;query=&amp;nso_open=1\" onclick=\"return goOtherCR(this, 'a=opt.reset&amp;u='+urlencode(this.href));\" role=\"button\">옵션 초기화</a>,\n",
       " <a class=\"link_help\" href=\"https://help.naver.com/alias/news/news_43.naver\" onclick=\"return goOtherCR(this, 'a=opt.help&amp;u='+urlencode(this.href));\" target=\"_blank\">검색옵션 가이드<i class=\"spnew api_ico_help\"></i></a>,\n",
       " <a href=\"?where=nexearch&amp;sm=tab_nex&amp;query=%B3%D7%C0%CC%B9%F6+%B8%C2%C3%E3%B9%FD+%B0%CB%BB%E7%B1%E2\" onclick=\"return goOtherCR(this, 'a=nrs.naverlab&amp;u='+urlencode(urlexpand(this.href)));\">네이버 맞춤법 검사기</a>,\n",
       " <a href=\"https://kin.naver.com/qna/questionForSearch.naver?title=\" onclick=\"return goOtherCR(this, 'a=nrs.kin&amp;u='+urlencode(urlexpand(this.href)));\" target=\"_blank\">지식iN에 질문하기</a>,\n",
       " <a href=\"https://help.naver.com/alias/search/integration/main.naver\" onclick=\"return goOtherCR(this, 'a=nrs.searchhelp&amp;u='+urlencode(urlexpand(this.href)));\" target=\"_blank\">검색 도움말 보기</a>,\n",
       " <a class=\"spnew_bf item\" href=\"https://m.news.naver.com/covid19/index.nhn\" onclick=\"return goOtherCR(this, 'a=bnr.link1&amp;r=1&amp;i=&amp;u='+urlencode(this.href));\" target=\"_blank\"> <div class=\"ico_area\"><img alt=\"\" class=\"ico\" height=\"29\" src=\"https://ssl.pstatic.net/sstatic/search/mobile/img/ico_common_ban1_40ceb762.png\" width=\"29\"/></div> <div class=\"dsc_area\"> <strong class=\"elss tit\">코로나19 현황</strong> <p class=\"elss dsc\">확진 현황 및 백신 접종 정보 안내</p> </div> </a>,\n",
       " <a class=\"spnew_bf item\" href=\"?query=%EC%8B%A0%EC%86%8D%ED%95%AD%EC%9B%90%EA%B2%80%EC%82%AC%EA%B8%B0%EA%B4%80&amp;sm=tab_etc&amp;where=nexearch\" onclick=\"return goOtherCR(this, 'a=bnr.link2&amp;r=2&amp;i=&amp;u='+urlencode(this.href));\"> <div class=\"ico_area\"><img alt=\"\" class=\"ico\" height=\"29\" src=\"https://ssl.pstatic.net/sstatic/search/mobile/img/ico_common_ban2_cdf26fbe.png\" width=\"29\"/></div> <div class=\"dsc_area\"> <strong class=\"elss tit\">신속항원검사</strong> <p class=\"elss dsc\">내 주변에서 신속하게 검사 받기</p> </div> </a>,\n",
       " <a class=\"spnew_bf item\" href=\"?mra=UlJUX1RJTQ%3D%3D&amp;query=%EA%B5%AD%EB%82%B4%EC%97%AC%ED%96%89%EC%A7%80%EC%B6%94%EC%B2%9C&amp;sm=tab_etc&amp;where=nexearch\" onclick=\"return goOtherCR(this, 'a=bnr.link3&amp;r=3&amp;i=&amp;u='+urlencode(this.href));\"> <div class=\"ico_area\"><img alt=\"\" class=\"ico\" height=\"29\" src=\"https://ssl.pstatic.net/sstatic/search/mobile/img/ico_common_ban3_70e31626.png\" width=\"29\"/></div> <div class=\"dsc_area\"> <strong class=\"elss tit\">국내 인기 여행지는 바로 여기</strong> <p class=\"elss dsc\">후회 없는 관광지, 다시 오고 싶은 명소</p> </div> </a>,\n",
       " <a class=\"spnew_bf item\" href=\"?mra=UlJUX1RJTQ%3D%3D&amp;query=%EC%97%AC%ED%96%89%EA%B0%80%EB%8A%A5%EA%B5%AD%EA%B0%80&amp;sm=tab_etc&amp;where=nexearch\" onclick=\"return goOtherCR(this, 'a=bnr.link4&amp;r=4&amp;i=&amp;u='+urlencode(this.href));\"> <div class=\"ico_area\"><img alt=\"\" class=\"ico\" height=\"29\" src=\"https://ssl.pstatic.net/sstatic/search/mobile/img/ico_common_ban4_b8f1dad2.png\" width=\"29\"/></div> <div class=\"dsc_area\"> <strong class=\"elss tit\">해외에서만 느낄 수 있는 해방감</strong> <p class=\"elss dsc\">반가운 만큼 행복한 해외 여행 떠나기</p> </div> </a>,\n",
       " <a class=\"spnew_bf item\" href=\"https://campaign.naver.com/collect_v2/?pcode=naver_pcsearchmktbanner_dino&amp;event_id=channelsearch&amp;target=https%253A%252F%252Fchannelsearch.naver.com%252Flounge%252Fissue01_2\" onclick=\"return goOtherCR(this, 'a=bnr.link5&amp;r=5&amp;i=&amp;u='+urlencode(this.href));\" target=\"_blank\"> <div class=\"ico_area\"><img alt=\"\" class=\"ico\" height=\"29\" src=\"https://ssl.pstatic.net/sstatic/search/mobile/img/ico_common_ban5_bb613949.png\" width=\"29\"/></div> <div class=\"dsc_area\"> <strong class=\"elss tit\">사람이 묻고, 공룡이 답합니다</strong> <p class=\"elss dsc\">티라노와 대화하는 법, &lt;채널 써치&gt;에서 확인</p> </div> </a>,\n",
       " <a class=\"spnew_bf item\" href=\"https://campaign.naver.com/collect_v2/?pcode=pcsearchmktbanner&amp;event_id=navernaverdetails_point&amp;target=https%253A%252F%252Fcampaign.naver.com%252Fnaverdetails%252Fpoint%252F%25231_1\" onclick=\"return goOtherCR(this, 'a=bnr.link6&amp;r=6&amp;i=&amp;u='+urlencode(this.href));\" target=\"_blank\"> <div class=\"ico_area\"><img alt=\"\" class=\"ico\" height=\"29\" src=\"https://ssl.pstatic.net/sstatic/search/mobile/img/ico_common_ban6_b8593097.png\" width=\"29\"/></div> <div class=\"dsc_area\"> <strong class=\"elss tit\">포인트 잘 쌓는 법, 이렇게 간단해?</strong> <p class=\"elss dsc\">고물가에 힘이 되는 네이버쇼핑</p> </div> </a>,\n",
       " <a class=\"top\" href=\"#\" onclick=\"window.scrollTo(0,0); document.querySelector('#wrap a').focus(); return false;\"><i class=\"spnew ico_top\">맨위로</i></a>,\n",
       " <a class=\"link\" href=\"https://www.naver.com/more.html\" onclick=\"return goOtherCR(this, 'u='+urlencode(this.href)+'&amp;a=fot.sitemap&amp;r=&amp;i=');\" target=\"_blank\">전체서비스</a>,\n",
       " <a class=\"link\" href=\"https://policy.naver.com/policy/service.html\" onclick=\"return goOtherCR(this, 'u='+urlencode(this.href)+'&amp;a=fot.policy&amp;r=&amp;i=');\" target=\"_blank\">이용약관</a>,\n",
       " <a class=\"link\" href=\"https://policy.naver.com/policy/privacy.html\" onclick=\"return goOtherCR(this, 'u='+urlencode(this.href)+'&amp;a=fot.privacy&amp;r=&amp;i=');\" target=\"_blank\"><strong>개인정보처리방침</strong></a>,\n",
       " <a class=\"link\" href=\"https://help.naver.com/support/alias/search/integration/integration_1.naver\" onclick=\"return goOtherCR(this, 'u='+urlencode(this.href)+'&amp;a=fot.help&amp;r=&amp;i=');\" target=\"_blank\">통합검색 고객센터</a>,\n",
       " <a class=\"link\" href=\"https://www.navercorp.com/\" onclick=\"return goOtherCR(this, 'u='+urlencode(this.href)+'&amp;a=fot.nhn&amp;r=&amp;i=');\" target=\"_blank\"><i class=\"ico_footer_logo\">© NAVER Corp.</i></a>]"
      ]
     },
     "execution_count": 116,
     "metadata": {},
     "output_type": "execute_result"
    }
   ],
   "source": [
    "soup.find_all('a')"
   ]
  },
  {
   "cell_type": "code",
   "execution_count": null,
   "id": "bf32a4dd-1ae6-4b90-9ea7-4edddde4d1b7",
   "metadata": {},
   "outputs": [],
   "source": []
  }
 ],
 "metadata": {
  "kernelspec": {
   "display_name": "Python 3 (ipykernel)",
   "language": "python",
   "name": "python3"
  },
  "language_info": {
   "codemirror_mode": {
    "name": "ipython",
    "version": 3
   },
   "file_extension": ".py",
   "mimetype": "text/x-python",
   "name": "python",
   "nbconvert_exporter": "python",
   "pygments_lexer": "ipython3",
   "version": "3.9.12"
  }
 },
 "nbformat": 4,
 "nbformat_minor": 5
}
