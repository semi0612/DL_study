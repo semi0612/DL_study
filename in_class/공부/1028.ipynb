{
 "cells": [
  {
   "cell_type": "code",
   "execution_count": 22,
   "id": "7fde8382-9263-49a1-9e36-a7fc9493e54d",
   "metadata": {
    "tags": []
   },
   "outputs": [
    {
     "name": "stdout",
     "output_type": "stream",
     "text": [
      "이승만\n",
      "윤보선\n",
      "박정희\n",
      "최규하\n",
      "전두환\n",
      "노태우\n",
      "김영삼\n",
      "김대중\n",
      "노무현\n",
      "이명박\n",
      "박근혜\n",
      "문재인\n",
      "윤석열\n"
     ]
    }
   ],
   "source": [
    "import requests\n",
    "from bs4 import BeautifulSoup\n",
    "\n",
    "url = f\"https://ko.wikipedia.org/wiki/%EB%8C%80%ED%95%9C%EB%AF%BC%EA%B5%AD%EC%9D%98_%EB%8C%80%ED%86%B5%EB%A0%B9_%EB%AA%A9%EB%A1%9D\"\n",
    "# print(url)\n",
    "html = requests.get(url)\n",
    "soup =  BeautifulSoup(html.text, 'lxml')\n",
    "# print(soup)\n",
    "all_text = soup.select('td > b > a')\n",
    "\n",
    "for a in all_text :\n",
    "    print(a.text)"
   ]
  },
  {
   "cell_type": "code",
   "execution_count": 52,
   "id": "662b3b45-25bd-4816-bd12-e814f8f241d2",
   "metadata": {},
   "outputs": [],
   "source": [
    "url = f\"https://ko.wikipedia.org/wiki/%EB%8C%80%ED%95%9C%EB%AF%BC%EA%B5%AD%EC%9D%98_%EB%8C%80%ED%86%B5%EB%A0%B9_%EB%AA%A9%EB%A1%9D\"\n",
    "# print(url)\n",
    "html = requests.get(url)\n",
    "soup =  BeautifulSoup(html.text, 'lxml')\n",
    "image_rink = soup.select('td > a > img')\n",
    "\n",
    "# print(image_rink)\n",
    "\n",
    "link_list = []\n",
    "\n",
    "for img in image_rink :\n",
    "    link_list.append(img.attrs['src'])\n",
    "# print(link_list)\n",
    "\n",
    "\n",
    "import os\n",
    "if not os.path.isdir(\"./test1\"):\n",
    "    os.mkdir(\"./test1\")\n",
    "\n",
    "\n",
    "from urllib.request import urlretrieve\n",
    "count = 0\n",
    "for link in link_list :\n",
    "    a = 'http:'+ link\n",
    "    urlretrieve(a, f\"./test1/{count}.jpg\")\n",
    "    count += 1"
   ]
  },
  {
   "cell_type": "code",
   "execution_count": null,
   "id": "c0867b89-5c11-4274-9b40-152fe9f1b0e0",
   "metadata": {},
   "outputs": [],
   "source": []
  },
  {
   "cell_type": "code",
   "execution_count": null,
   "id": "f37d8fc7-69b8-44e8-a1ec-9e96fb19df5d",
   "metadata": {},
   "outputs": [],
   "source": []
  },
  {
   "cell_type": "code",
   "execution_count": null,
   "id": "d45a9120-9b60-415e-947b-b9344bf07e18",
   "metadata": {},
   "outputs": [],
   "source": []
  },
  {
   "cell_type": "code",
   "execution_count": 70,
   "id": "bbd90f0d-4497-4318-9497-f50b281d0084",
   "metadata": {},
   "outputs": [
    {
     "name": "stderr",
     "output_type": "stream",
     "text": [
      "C:\\Users\\admin\\AppData\\Local\\Temp\\ipykernel_11384\\2652352579.py:7: DeprecationWarning: executable_path has been deprecated, please pass in a Service object\n",
      "  driver = webdriver.Chrome(\"./chromedriver.exe\")\n"
     ]
    }
   ],
   "source": [
    "import selenium\n",
    "from selenium import webdriver\n",
    "from selenium.webdriver.common.by import By\n",
    "from selenium.webdriver.common.keys import Keys\n",
    "\n",
    "# 드라이브 연결\n",
    "driver = webdriver.Chrome(\"./chromedriver.exe\")\n",
    "\n",
    "url = f\"https://accounts.kakao.com/login?continue=https%3A%2F%2Flogins.daum.net%2Faccounts%2Fksso.do%3Frescue%3Dtrue%26url%3Dhttps%253A%252F%252Fwww.daum.net\"\n",
    "# 키워드가 들어간 주소에 접근\n",
    "driver.get(url)\n",
    "\n",
    "# 로딩 될때까지 잠시 지연시켜주기 \n",
    "driver.implicitly_wait(20)\n",
    "\n",
    "user_id = \"cyhse@naver.com\"\n",
    "user_passwd = \"cyh6415\"\n",
    "driver.find_element(By.ID,'id_email_2').send_keys(user_id)\n",
    "# driver.find_element(By.ID,'input-loginKey').send_keys(user_id)\n",
    "driver.find_element(By.ID,'id_password_3').send_keys(user_passwd)\n",
    "# driver.find_element(By.ID,'input-password').send_keys(user_passwd)\n",
    "\n",
    "driver.find_element(By.XPATH, '//*[@id=\"login-form\"]/fieldset/div[8]/button[1]').send_keys(Keys.ENTER)"
   ]
  },
  {
   "cell_type": "code",
   "execution_count": 72,
   "id": "4e6f3914-8da6-4bd9-9753-31cd48815451",
   "metadata": {},
   "outputs": [
    {
     "name": "stderr",
     "output_type": "stream",
     "text": [
      "C:\\Users\\admin\\AppData\\Local\\Temp\\ipykernel_11384\\3819482564.py:7: DeprecationWarning: executable_path has been deprecated, please pass in a Service object\n",
      "  driver = webdriver.Chrome(\"./chromedriver.exe\")\n"
     ]
    }
   ],
   "source": [
    "import selenium\n",
    "from selenium import webdriver\n",
    "from selenium.webdriver.common.by import By\n",
    "from selenium.webdriver.common.keys import Keys\n",
    "\n",
    "# 드라이브 연결\n",
    "driver = webdriver.Chrome(\"./chromedriver.exe\")\n",
    "\n",
    "url = f\"http://naver.com\"\n",
    "# 키워드가 들어간 주소에 접근\n",
    "driver.get(url)\n",
    "\n",
    "# 로딩 될때까지 잠시 지연시켜주기 \n",
    "driver.implicitly_wait(20)\n",
    "\n",
    "# 2. 로그인 버튼 클릭\n",
    "elem = driver.find_element(By.CLASS_NAME,'link_login')\n",
    "elem.click()\n",
    "\n",
    "user_id = \"id\"\n",
    "user_passwd = \"password\"\n",
    "\n",
    "driver.find_element(By.ID,'id').send_keys(user_id)\n",
    "driver.find_element(By.ID,'pw').send_keys(user_passwd)\n",
    "\n",
    "driver.find_element(By.XPATH, '//*[@id=\"log.login\"]').send_keys(Keys.ENTER)"
   ]
  },
  {
   "cell_type": "code",
   "execution_count": null,
   "id": "94f5b5be-790d-4b5d-9ef7-9b592f5f498c",
   "metadata": {},
   "outputs": [],
   "source": [
    "import selenium\n",
    "from selenium import webdriver\n",
    "from selenium.webdriver.common.by import By\n",
    "from selenium.webdriver.common.keys import Keys\n",
    "\n",
    "# 드라이브 연결\n",
    "driver = webdriver.Chrome(\"./chromedriver.exe\")\n",
    "\n",
    "url = f\"http://naver.com\"\n",
    "# 키워드가 들어간 주소에 접근\n",
    "driver.get(url)\n",
    "\n",
    "# 로딩 될때까지 잠시 지연시켜주기 \n",
    "driver.implicitly_wait(20)\n",
    "\n",
    "# 2. 로그인 버튼 클릭\n",
    "elem = driver.find_element(By.CLASS_NAME,'link_login')\n",
    "elem.click()\n",
    "\n",
    "user_id = \"id\"\n",
    "user_passwd = \"password\"\n",
    "\n",
    "driver.find_element(By.ID,'id').send_keys(user_id)\n",
    "driver.find_element(By.ID,'pw').send_keys(user_passwd)\n",
    "\n",
    "driver.find_element(By.XPATH, '//*[@id=\"log.login\"]').send_keys(Keys.ENTER)"
   ]
  },
  {
   "cell_type": "code",
   "execution_count": 79,
   "id": "bdee7f3b-138e-4172-9e57-3d3098a931cb",
   "metadata": {},
   "outputs": [
    {
     "name": "stderr",
     "output_type": "stream",
     "text": [
      "C:\\Users\\admin\\AppData\\Local\\Temp\\ipykernel_11384\\3081881458.py:1: DeprecationWarning: executable_path has been deprecated, please pass in a Service object\n",
      "  driver = webdriver.Chrome(\"./chromedriver.exe\")\n"
     ]
    }
   ],
   "source": [
    "driver = webdriver.Chrome(\"./chromedriver.exe\")\n",
    "\n",
    "url = f\"http://naver.com\"\n",
    "driver.get(url)\n",
    "driver.implicitly_wait(20)\n",
    "\n",
    "driver.find_element(By.ID,'query').send_keys(\"김연아\")\n",
    "enter = driver.find_element(By.ID,'search_btn')\n",
    "enter.send_keys(Keys.ENTER)"
   ]
  },
  {
   "cell_type": "code",
   "execution_count": 85,
   "id": "e5e48fd2-9f49-4b29-a170-23debd4c2fdb",
   "metadata": {},
   "outputs": [
    {
     "name": "stderr",
     "output_type": "stream",
     "text": [
      "C:\\Users\\admin\\AppData\\Local\\Temp\\ipykernel_11384\\3965634635.py:6: DeprecationWarning: executable_path has been deprecated, please pass in a Service object\n",
      "  driver = webdriver.Chrome(\"./chromedriver.exe\")\n"
     ]
    }
   ],
   "source": [
    "import selenium\n",
    "from selenium import webdriver\n",
    "from selenium.webdriver.common.by import By\n",
    "from selenium.webdriver.common.keys import Keys\n",
    "\n",
    "driver = webdriver.Chrome(\"./chromedriver.exe\")\n",
    "\n",
    "url = f\"http://naver.com\"\n",
    "driver.get(url)\n",
    "driver.implicitly_wait(20)\n",
    "\n",
    "# 로그인\n",
    "elem = driver.find_element(By.CLASS_NAME,'link_login')\n",
    "elem.click()\n",
    "user_id = \"cyhse\"\n",
    "user_passwd = \"@#cyhse6415\"\n",
    "driver.find_element(By.ID,'id').send_keys(user_id)\n",
    "driver.find_element(By.ID,'pw').send_keys(user_passwd)\n",
    "\n",
    "driver.find_element(By.XPATH, '//*[@id=\"log.login\"]').send_keys(Keys.ENTER)"
   ]
  },
  {
   "cell_type": "code",
   "execution_count": null,
   "id": "c7f89f63-0426-4aca-86a9-56a1fa08b7b2",
   "metadata": {},
   "outputs": [],
   "source": [
    "import selenium\n",
    "from selenium import webdriver\n",
    "from selenium.webdriver.common.by import By\n",
    "from selenium.webdriver.common.keys import Keys\n",
    "\n",
    "driver = webdriver.Chrome(\"./chromedriver.exe\")\n",
    "\n",
    "url = f\"http://naver.com\"\n",
    "driver.get(url)\n"
   ]
  },
  {
   "cell_type": "markdown",
   "id": "5d138389-eb91-4267-899b-b38613dc0a99",
   "metadata": {},
   "source": [
    "session = requests.session()\n",
    "url\n",
    "session.post(url, {'m_id' : '-', 'm_passwd' : '-'}\n",
    "session.get.raise_for_status"
   ]
  },
  {
   "cell_type": "code",
   "execution_count": null,
   "id": "a89b5221-b069-4ec4-8b64-7a324613ea54",
   "metadata": {},
   "outputs": [],
   "source": []
  },
  {
   "cell_type": "code",
   "execution_count": 115,
   "id": "50b9bd5f-69a5-49d2-beb1-e7b209e29c2a",
   "metadata": {},
   "outputs": [
    {
     "name": "stdout",
     "output_type": "stream",
     "text": [
      "마일리지:  2,000\n",
      "이코인:  0\n"
     ]
    }
   ],
   "source": [
    "import requests \n",
    "from bs4 import BeautifulSoup\n",
    "\n",
    "# 세션, 서버쪽에 보관되어있다.\n",
    "session = requests.session()\n",
    "\n",
    "login_info = {\"m_id\":\"sory77\",\"m_passwd\":\"sunga00700\"}\n",
    "\n",
    "#(2)\n",
    "url =\"https://www.hanbit.co.kr/member/login_proc.php\"\n",
    "res = session.post(url, data = login_info)\n",
    "res.raise_for_status\n",
    "\n",
    "#(3)\n",
    "my_page = \"https://www.hanbit.co.kr/myhanbit/myhanbit.html\"\n",
    "res = session.get(my_page)\n",
    "res.raise_for_status\n",
    "\n",
    "soup = BeautifulSoup(res.text,\"html.parser\")\n",
    "\n",
    "# #container > div > div.sm_mymileage > dl.mileage_section1 > dd > span\n",
    "\n",
    "mileage = soup.select_one('.mileage_section1 span').get_text()\n",
    "ecoin = soup.select_one('.mileage_section2 > dd > span').text\n",
    "\n",
    "print(\"마일리지: \", mileage)\n",
    "print(\"이코인: \", ecoin) "
   ]
  },
  {
   "cell_type": "code",
   "execution_count": null,
   "id": "30525d62-deb6-4b36-8d9b-f9a38a9fb832",
   "metadata": {},
   "outputs": [],
   "source": []
  },
  {
   "cell_type": "markdown",
   "id": "3c3bac8d-7714-4dfa-a007-e70acd746f65",
   "metadata": {},
   "source": [
    "# 날씨정보 : json 형식 가져오기"
   ]
  },
  {
   "cell_type": "code",
   "execution_count": 122,
   "id": "d9d2fd57-b3b9-4326-ac53-cd5109c13050",
   "metadata": {},
   "outputs": [
    {
     "name": "stdout",
     "output_type": "stream",
     "text": [
      "---------\n",
      "도시 : Seoul\n",
      "날씨 : clear sky\n",
      "최저 기온 : 14.710\n",
      "최저 기온 : 19.680\n",
      "습도 : 42\n",
      "기압 : 1025\n",
      "풍향 : 260\n",
      "풍속 : 2.06\n",
      "\n",
      "---------\n",
      "도시 : Tokyo\n",
      "날씨 : few clouds\n",
      "최저 기온 : 15.810\n",
      "최저 기온 : 19.800\n",
      "습도 : 58\n",
      "기압 : 1022\n",
      "풍향 : 110\n",
      "풍속 : 1.54\n",
      "\n",
      "---------\n",
      "도시 : New York\n",
      "날씨 : clear sky\n",
      "최저 기온 : 6.050\n",
      "최저 기온 : 11.120\n",
      "습도 : 60\n",
      "기압 : 1029\n",
      "풍향 : 360\n",
      "풍속 : 8.75\n",
      "\n"
     ]
    }
   ],
   "source": [
    "import requests\n",
    "import json\n",
    "\n",
    "# api 키 지정\n",
    "apikey = \"28ed8b8682f52838a0a86e00b8578fcd\"\n",
    "# api 지정\n",
    "api = \"http://api.openweathermap.org/data/2.5/weather?q={city}&APPID={key}\" \n",
    "# 날씨를 가져올 도시 지정\n",
    "cities = ['Seoul,KR', 'Tokyo,JP', 'New York,US']\n",
    "\n",
    "# 저기는 캘빈온도를 사용하니까 섭씨 온도로 변환해주ㅓ야 한다\n",
    "K2C = lambda k : k-273.13\n",
    "\n",
    "# 지정한 도시 정보 추출하기\n",
    "for city in cities :\n",
    "    url = api.format(city=city, key=apikey)\n",
    "    json_data = requests.get(url)\n",
    "    test = json_data.text\n",
    "    # print(test.type)\n",
    "    data = json.loads(json_data.text)\n",
    "    # print(data)\n",
    "    \n",
    "    print(f'---------\\n도시 : {data[\"name\"]}')\n",
    "    print(f'날씨 : {data[\"weather\"][0][\"description\"]}')\n",
    "    print(f'최저 기온 : {K2C(data[\"main\"][\"temp_min\"]):.3f}')\n",
    "    print(f'최저 기온 : {K2C(data[\"main\"][\"temp_max\"]):.3f}')\n",
    "    print(f'습도 : {data[\"main\"][\"humidity\"]}')\n",
    "    print(f'기압 : {data[\"main\"][\"pressure\"]}')\n",
    "    print(f'풍향 : {data[\"wind\"][\"deg\"]}')\n",
    "    print(f'풍속 : {data[\"wind\"][\"speed\"]}')\n",
    "    print()"
   ]
  },
  {
   "cell_type": "code",
   "execution_count": null,
   "id": "70500d1a-fac1-4c5a-9413-747799251beb",
   "metadata": {},
   "outputs": [],
   "source": []
  }
 ],
 "metadata": {
  "kernelspec": {
   "display_name": "Python 3 (ipykernel)",
   "language": "python",
   "name": "python3"
  },
  "language_info": {
   "codemirror_mode": {
    "name": "ipython",
    "version": 3
   },
   "file_extension": ".py",
   "mimetype": "text/x-python",
   "name": "python",
   "nbconvert_exporter": "python",
   "pygments_lexer": "ipython3",
   "version": "3.9.12"
  }
 },
 "nbformat": 4,
 "nbformat_minor": 5
}
