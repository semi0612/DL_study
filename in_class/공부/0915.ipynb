{
 "cells": [
  {
   "cell_type": "code",
   "execution_count": 1,
   "id": "31849a54-659d-4c63-b221-3d2bc4618632",
   "metadata": {},
   "outputs": [],
   "source": [
    "import random\n",
    "\n",
    "a = [1, 2, 3, 4, 5]\n",
    "random.shuffle(a)"
   ]
  },
  {
   "cell_type": "code",
   "execution_count": 5,
   "id": "3b48d2ec-2402-4453-b89c-62a45b48d9e9",
   "metadata": {},
   "outputs": [
    {
     "data": {
      "text/plain": [
       "[25, 30, 35, 40]"
      ]
     },
     "execution_count": 5,
     "metadata": {},
     "output_type": "execute_result"
    }
   ],
   "source": [
    "a = [5, 6, 7, 8]\n",
    "b = list(map(lambda x:x*5, a))\n",
    "b"
   ]
  },
  {
   "cell_type": "code",
   "execution_count": 6,
   "id": "cf559218-bfc4-4be4-9e0f-098ff83f20e3",
   "metadata": {},
   "outputs": [
    {
     "name": "stdout",
     "output_type": "stream",
     "text": [
      "1\n",
      "2\n",
      "3\n",
      "4\n",
      "5\n",
      "6\n",
      "7\n",
      "8\n",
      "9\n"
     ]
    }
   ],
   "source": [
    "i = 1\n",
    "while i < 10 :\n",
    "    print(i)\n",
    "    i += 1"
   ]
  },
  {
   "cell_type": "code",
   "execution_count": 7,
   "id": "8cd2fad6-a93f-4876-a0f2-5d68fc6e3ee7",
   "metadata": {},
   "outputs": [
    {
     "data": {
      "text/plain": [
       "[5, 10, 15, 20, 25]"
      ]
     },
     "execution_count": 7,
     "metadata": {},
     "output_type": "execute_result"
    }
   ],
   "source": [
    "a = [1, 2, 3, 4, 5]\n",
    "li = []\n",
    "for i in a :\n",
    "    li.append(i * 5)\n",
    "li"
   ]
  },
  {
   "cell_type": "code",
   "execution_count": 14,
   "id": "9ed08dce-d910-41c6-be36-f19badf2abb7",
   "metadata": {},
   "outputs": [
    {
     "data": {
      "text/plain": [
       "'I like apple And apple'"
      ]
     },
     "execution_count": 14,
     "metadata": {},
     "output_type": "execute_result"
    }
   ],
   "source": [
    "import re\n",
    "string = \"I like apble And abple\"\n",
    "re.sub(\"apble|abple\", \"apple\", string)"
   ]
  },
  {
   "cell_type": "code",
   "execution_count": 47,
   "id": "da3d98b7-187e-4e78-a951-da506e73ec5e",
   "metadata": {},
   "outputs": [
    {
     "name": "stdout",
     "output_type": "stream",
     "text": [
      "010-1**-****\n",
      "010-1**-****\n",
      "010-2**-****\n",
      "010-3**-****\n",
      "010-4**-****\n",
      "010-5**-****\n",
      "010-6**-****\n",
      "010-7**-****\n",
      "010-8**-****\n",
      "010-9**-****\n"
     ]
    }
   ],
   "source": [
    "phone_number= ['010-123-1234', '010-111-1111',\n",
    "               '010-222-2222', '010-333-3333',\n",
    "               '010-444-4444', '010-555-5555',\n",
    "               '010-666-6666', '010-777-7777',\n",
    "               '010-888-8888', '010-999-9999'] \n",
    "for Number in phone_number :\n",
    "    # print(re.sub(\"[0-9][0-9]-[0-9]{4}\", \"**-****\", Number))\n",
    "    # print(re.sub(\"\\d{2}-\\d{4}\", \"**-****\", Number))\n",
    "    print(re.sub(Number[5:], \"**-****\", Number))"
   ]
  },
  {
   "cell_type": "code",
   "execution_count": 56,
   "id": "4eeeb837-e291-48f3-8226-a12ee8ba5f7d",
   "metadata": {},
   "outputs": [
    {
     "name": "stdout",
     "output_type": "stream",
     "text": [
      "손흥민\n",
      "황의조\n",
      "A\n",
      "황희찬\n",
      "A\n"
     ]
    }
   ],
   "source": [
    "li = ['손흥민', '황의조', '이 호', '황희찬', '홍 철'] \n",
    "for name in li :\n",
    "    # print(re.sub(\"\\w[ ]\\w\", \"A\", name))\n",
    "    # print(re.sub(\".[ ].\", \"A\", name))\n",
    "    # print(re.sub(\"\\w\\s\\w\", \"A\", name))\n",
    "    # print(re.sub(\"\\D \\D\", \"A\", name))\n",
    "    print(re.sub(\"\\w \\w\", \"A\", name))"
   ]
  },
  {
   "cell_type": "code",
   "execution_count": 80,
   "id": "f088ff4e-9916-426b-8c76-64f1e80e86e8",
   "metadata": {},
   "outputs": [
    {
     "data": {
      "text/plain": [
       "['9N229wa509',\n",
       " 'ANF56Vh8E8',\n",
       " 'G0xLTeltH2',\n",
       " 'XUY3D34l9A',\n",
       " 'I8ZvKxRrS9',\n",
       " 'U6dhS0toG2',\n",
       " 'A0Tk031GYZ',\n",
       " 'so372aLgqV',\n",
       " 'dAIc09bc1B',\n",
       " 'KBub8T2uRC',\n",
       " '3rLyfNb2II',\n",
       " '5HdQKZBu09',\n",
       " '3aH6y9m6e4',\n",
       " 'aZ5026W42z',\n",
       " 'QFrwYZLVDF',\n",
       " 'oxQF7IqgCt',\n",
       " '9Sy94yw089',\n",
       " '1KrDWLhgna',\n",
       " '6P72wJ1iyj',\n",
       " '5NznH9KM1A']"
      ]
     },
     "execution_count": 80,
     "metadata": {},
     "output_type": "execute_result"
    }
   ],
   "source": [
    "words = []\n",
    "word=\"\"\n",
    "for count in range(20) :\n",
    "    stri = \"\"\n",
    "    for string in range(1, 10+1) :\n",
    "        stri += ''.join(random.choice(str(random.randint(0,9)) + chr(random.randint(65, 90))+chr(random.randint(97, 122))))"
   ]
  },
  {
   "cell_type": "code",
   "execution_count": 102,
   "id": "8022b0d4-bb27-4ff7-80b9-40845b5f2437",
   "metadata": {},
   "outputs": [
    {
     "data": {
      "text/plain": [
       "['f',\n",
       " '0R2',\n",
       " 'SqAYl2A0',\n",
       " 'BqB',\n",
       " '80r',\n",
       " 'WVU62i',\n",
       " '87bDy',\n",
       " 'rJT6tO',\n",
       " 'hYh',\n",
       " 'r5x',\n",
       " '9rP',\n",
       " 'p4E4d062P',\n",
       " 'fPr',\n",
       " 'mXj',\n",
       " '59WX14b',\n",
       " 'L',\n",
       " 'jg',\n",
       " '96EHHo',\n",
       " 'AODUUr',\n",
       " '3zq929']"
      ]
     },
     "execution_count": 102,
     "metadata": {},
     "output_type": "execute_result"
    }
   ],
   "source": [
    "words = []\n",
    "for count in range(20) :\n",
    "    word = \"\"\n",
    "    while len(word) < random.randint(1, 10) :\n",
    "        word += random.choice(str(random.randint(0,9)) + chr(random.randint(65, 90))+chr(random.randint(97, 122)))\n",
    "    words.append(word)\n",
    "words"
   ]
  },
  {
   "cell_type": "code",
   "execution_count": 108,
   "id": "74eb2a16-9f82-462c-ab0e-6718b283927e",
   "metadata": {},
   "outputs": [
    {
     "data": {
      "text/plain": [
       "['f',\n",
       " '0R2',\n",
       " 'SqAYl2A0',\n",
       " 'BqB',\n",
       " '80r',\n",
       " 'WVU62i',\n",
       " '87bDy',\n",
       " '#',\n",
       " 'hYh',\n",
       " 'r5x',\n",
       " '9rP',\n",
       " '#',\n",
       " 'fPr',\n",
       " 'mXj',\n",
       " '59WX14b',\n",
       " 'L',\n",
       " 'jg',\n",
       " '96EHHo',\n",
       " 'AODUUr',\n",
       " '3zq929']"
      ]
     },
     "execution_count": 108,
     "metadata": {},
     "output_type": "execute_result"
    }
   ],
   "source": [
    "words_2 = []\n",
    "for string in words :\n",
    "    b = re.sub(\"^[a-z].+[A-Z]$\", \"#\", string)\n",
    "    words_2.append(b)\n",
    "words_2"
   ]
  },
  {
   "cell_type": "code",
   "execution_count": 115,
   "id": "9af43cb2-5c34-4bbd-8c5e-ac216bb21f93",
   "metadata": {},
   "outputs": [
    {
     "data": {
      "text/plain": [
       "'python'"
      ]
     },
     "execution_count": 115,
     "metadata": {},
     "output_type": "execute_result"
    }
   ],
   "source": [
    "import re\n",
    "# '모든 영어 문자들'을 컴파일 해주기\n",
    "p = re.compile('[a-z]+')\n",
    "m = p.match(\"python\")\n",
    "m.group()"
   ]
  },
  {
   "cell_type": "code",
   "execution_count": 118,
   "id": "0552a01d-5968-4f1b-a357-fda8a06788b6",
   "metadata": {},
   "outputs": [
    {
     "data": {
      "text/plain": [
       "6"
      ]
     },
     "execution_count": 118,
     "metadata": {},
     "output_type": "execute_result"
    }
   ],
   "source": [
    "# 어느 인덱스부터 시작했는가\n",
    "# match는 가장 처음부터 매칭한다\n",
    "m.start()\n",
    "# 만약 search로 하면\n",
    "s = p.search(\"3 python\")\n",
    "s.start()\n",
    "m.end()"
   ]
  },
  {
   "cell_type": "code",
   "execution_count": 119,
   "id": "c00dc906-aefd-4e1f-98ba-2eb53418c9d5",
   "metadata": {},
   "outputs": [
    {
     "data": {
      "text/plain": [
       "(0, 6)"
      ]
     },
     "execution_count": 119,
     "metadata": {},
     "output_type": "execute_result"
    }
   ],
   "source": [
    "# 매칭문자열의 끝 인덱스\n",
    "m.span()"
   ]
  },
  {
   "cell_type": "code",
   "execution_count": 138,
   "id": "b5b0c87b-1e35-485d-b847-04e24a715304",
   "metadata": {},
   "outputs": [
    {
     "name": "stdout",
     "output_type": "stream",
     "text": [
      "<re.Match object; span=(0, 1), match='p'> <re.Match object; span=(0, 1), match='P'>\n"
     ]
    }
   ],
   "source": [
    "import re\n",
    "p = re.compile('[A-Z]', re.IGNORECASE)\n",
    "m = p.match('python')\n",
    "n = p.match('PYTHON')\n",
    "print(m, n)"
   ]
  },
  {
   "cell_type": "code",
   "execution_count": 167,
   "id": "6a4e73b3-a0b1-403f-abb1-748d96490bba",
   "metadata": {},
   "outputs": [
    {
     "data": {
      "text/plain": [
       "['010-1234-5678', '010-1234-5679', '010-1234-5670']"
      ]
     },
     "execution_count": 170,
     "metadata": {},
     "output_type": "execute_result"
    }
   ],
   "source": [
    "data = [\"010-1234-5678\", \"010-1234-5679\",\n",
    "        \"010-1234-5670\", \"010-1234-670\",\n",
    "        \"02-334-2243\"]\n",
    "\n",
    "def is_phone_number_ok(data) :\n",
    "    phone_number=[]\n",
    "    for i in data :\n",
    "        if re.search(\"010-\\d{4}-\\d{4}\", i) :\n",
    "            phone_number.append(i)\n",
    "    return phone_number\n",
    "is_phone_number_ok(data)"
   ]
  },
  {
   "cell_type": "code",
   "execution_count": 183,
   "id": "09a3186a-611a-456f-848d-2650dafb7ced",
   "metadata": {},
   "outputs": [
    {
     "data": {
      "text/plain": [
       "['010-1234-5678', '010-1234-5679', '010-1234-5670']"
      ]
     },
     "execution_count": 183,
     "metadata": {},
     "output_type": "execute_result"
    }
   ],
   "source": [
    "data = '\"010-1234-5678\", \"010-1234-5679\",\n",
    "        \"010-1234-5670\", \"010-1234-670\",\n",
    "        \"02-334-2243\"'\n",
    "is_phone_number_ok = []\n",
    "p = re.compile(\"010-\\d{4}-\\d{4}\")\n",
    "\n",
    "# 굳이 group을 사용한다면...\n",
    "for i in data :\n",
    "    a = p.search(i)\n",
    "    if a :\n",
    "        is_phone_number_ok.append(a.group())\n",
    "is_phone_number_ok"
   ]
  },
  {
   "cell_type": "code",
   "execution_count": 189,
   "id": "7673e03d-4a80-4f2b-8c9c-9409e4202a25",
   "metadata": {},
   "outputs": [
    {
     "data": {
      "text/plain": [
       "['010-1234-5678', '010-1234-5679', '010-1234-5670']"
      ]
     },
     "execution_count": 189,
     "metadata": {},
     "output_type": "execute_result"
    }
   ],
   "source": [
    "# finditer를 사용한다면\n",
    "data = '''\"010-1234-5678\", \"010-1234-5679\",\n",
    "        \"010-1234-5670\", \"010-1234-670\", \"02-334-2243\"'''\n",
    "\n",
    "def is_phone_number(data):\n",
    "    phone_number = []\n",
    "    for i in re.finditer('010-\\d{4}-\\d{4}', data):\n",
    "        phone_number.append(i.group())\n",
    "    return phone_number\n",
    "is_phone_number(data)"
   ]
  },
  {
   "cell_type": "code",
   "execution_count": 188,
   "id": "95640f27-73d8-4b64-abfe-974f0a582436",
   "metadata": {},
   "outputs": [
    {
     "data": {
      "text/plain": [
       "['010-1234-5678', '010-1234-5679', '010-1234-5670']"
      ]
     },
     "execution_count": 188,
     "metadata": {},
     "output_type": "execute_result"
    }
   ],
   "source": [
    "# findall 사용한다면\n",
    "re.findall('010-\\d{4}-\\d{4}', data)"
   ]
  },
  {
   "cell_type": "code",
   "execution_count": 194,
   "id": "2a0dd65d-4e75-46a0-a114-2ea561ffe648",
   "metadata": {},
   "outputs": [
    {
     "data": {
      "text/plain": [
       "['하세요', '하지요', '싶어요', '하세요']"
      ]
     },
     "execution_count": 194,
     "metadata": {},
     "output_type": "execute_result"
    }
   ],
   "source": [
    "msg = \"\"\"안녕하세요. 제 소개부터 드리도록 하지요.\n",
    "        저는 의미있는 일을 하고 싶어요. 건강하세요.\"\"\"\n",
    "re.findall('하세요|하지요|싶어요', msg)"
   ]
  },
  {
   "cell_type": "code",
   "execution_count": 195,
   "id": "8f749409-7e6e-40f5-a1e8-a8589e19af17",
   "metadata": {},
   "outputs": [
    {
     "name": "stdout",
     "output_type": "stream",
     "text": [
      "(2, 5)\n",
      "(19, 22)\n",
      "(46, 49)\n",
      "(53, 56)\n"
     ]
    }
   ],
   "source": [
    "# 하세요, 하지요, 싶어요 의 span()을 출력하세요\n",
    "msg = \"\"\"안녕하세요. 제 소개부터 드리도록 하지요.\n",
    "        저는 의미있는 일을 하고 싶어요. 건강하세요.\"\"\"\n",
    "for i in re.finditer('하세요|하지요|싶어요',msg):\n",
    "    print(i.span()) "
   ]
  },
  {
   "cell_type": "code",
   "execution_count": 203,
   "id": "1d030c2e-fc9a-4548-a6a2-b51090adb928",
   "metadata": {},
   "outputs": [
    {
     "data": {
      "text/plain": [
       "'park 010-1234-5678'"
      ]
     },
     "execution_count": 203,
     "metadata": {},
     "output_type": "execute_result"
    }
   ],
   "source": [
    "sentence = \"park 010-1234-5678\"\n",
    "p = re.compile(r'(\\w+)\\s(\\d+)[-]\\d+[-]\\d+')\n",
    "p.search(sentence).group(0)"
   ]
  },
  {
   "cell_type": "raw",
   "id": "16d29648-3870-49b3-b06e-6416528462cb",
   "metadata": {},
   "source": [
    "p.search(sentence).group(0)"
   ]
  },
  {
   "cell_type": "code",
   "execution_count": 207,
   "id": "e9578098-03bd-478e-b444-bc352e623809",
   "metadata": {},
   "outputs": [
    {
     "name": "stdout",
     "output_type": "stream",
     "text": [
      "park\n"
     ]
    }
   ],
   "source": [
    "# 이름을 지정하고 이름으로 참조하기\n",
    "p = re.compile(r'(?P<name>\\w+)\\s+((\\d+)[-]\\d+[-]\\d+)')\n",
    "m = p.search(\"park 010-1234-5678\")\n",
    "print(m.group(\"name\"))"
   ]
  },
  {
   "cell_type": "code",
   "execution_count": 212,
   "id": "e8951ad3-fb34-4ef3-874e-5115afec804f",
   "metadata": {},
   "outputs": [
    {
     "data": {
      "text/plain": [
       "<re.Match object; span=(13, 26), match='spring spring'>"
      ]
     },
     "execution_count": 212,
     "metadata": {},
     "output_type": "execute_result"
    }
   ],
   "source": [
    "# 이름으로 정규식 안에서 재참조\n",
    "p = re.compile(r'(?P<word>\\w+)\\s+(?P=word)')\n",
    "p.search('Paris in the spring spring')"
   ]
  },
  {
   "cell_type": "code",
   "execution_count": 224,
   "id": "0d665aff-172a-4075-8eb3-487b22f9182b",
   "metadata": {},
   "outputs": [
    {
     "data": {
      "text/plain": [
       "'park'"
      ]
     },
     "execution_count": 225,
     "metadata": {},
     "output_type": "execute_result"
    }
   ],
   "source": [
    "sentence = \"park 010-1234-1234 kim\"\n",
    "# 겹치는 알파벳인 k 만 출력된다\n",
    "p = re.compile(r'(?P<family>\\w+)\\s((?P<phone_first>\\d+)[-]\\d+[-]\\d+)\\s(?P=family)')\n",
    "p.search(sentence).group(\"family\")"
   ]
  },
  {
   "cell_type": "code",
   "execution_count": 226,
   "id": "26cdfdfa-1bcc-4468-8533-7d55010847fd",
   "metadata": {},
   "outputs": [
    {
     "data": {
      "text/plain": [
       "'http:'"
      ]
     },
     "execution_count": 226,
     "metadata": {},
     "output_type": "execute_result"
    }
   ],
   "source": [
    "p = re.compile(\".+:\")\n",
    "m = p.search(\"http://google.com\")\n",
    "m.group()"
   ]
  },
  {
   "cell_type": "code",
   "execution_count": 315,
   "id": "5dad3f4a-1bce-48f0-8732-123939faa6b7",
   "metadata": {},
   "outputs": [
    {
     "data": {
      "text/plain": [
       "'goodpython'"
      ]
     },
     "execution_count": 315,
     "metadata": {},
     "output_type": "execute_result"
    }
   ],
   "source": [
    "p = re.compile(\"(?<=d).+\")\n",
    "m = p.search(\"helloworldgoodpython\")\n",
    "m.group()"
   ]
  },
  {
   "cell_type": "code",
   "execution_count": 233,
   "id": "4fb3b101-3ac5-4518-90a1-fbd63224e6c9",
   "metadata": {},
   "outputs": [
    {
     "data": {
      "text/plain": [
       "' aaa.exe, bbb.pdf, ccc.hwp, abc.'"
      ]
     },
     "execution_count": 233,
     "metadata": {},
     "output_type": "execute_result"
    }
   ],
   "source": [
    "sentence = ''' aaa.exe, bbb.pdf, ccc.hwp, abc.mp3 '''\n",
    "p = re.compile(\".*[.](?!exe$)\")\n",
    "p.search(sentence).group()"
   ]
  },
  {
   "cell_type": "code",
   "execution_count": 295,
   "id": "b1fefbbf-4ffc-4037-b885-67f7787e8ac2",
   "metadata": {},
   "outputs": [
    {
     "data": {
      "text/plain": [
       "['forta.com a', 'forta.com b', 'forta.com c']"
      ]
     },
     "execution_count": 295,
     "metadata": {},
     "output_type": "execute_result"
    }
   ],
   "source": [
    "data = '''\n",
    "http://www.forta.com a\n",
    "https://mail.forta.com b\n",
    "ftp://ftp.forta.com c\n",
    "''' \n",
    "\n",
    "# p = re.compile(\"(?<=f).+\")\n",
    "# p.findall(data)\n",
    "# > ['orta.com a', 'orta.com b', 'tp://ftp.forta.com c']\n",
    "\n",
    "# p = re.compile(r\"f\\w+[.]\\w{3}\")\n",
    "# p.findall(data)\n",
    "# > ['forta.com', 'forta.com', 'ftp.for']\n",
    "\n",
    "p = re.compile(\"(?<=[.]).+\")\n",
    "p.findall(data)\n",
    "# > ['forta.com a', 'forta.com b', 'forta.com c']"
   ]
  },
  {
   "cell_type": "code",
   "execution_count": null,
   "id": "530b6b1d-4771-434c-9dbf-bea15fafc58a",
   "metadata": {},
   "outputs": [
    {
     "data": {
      "text/plain": [
       "'2022'"
      ]
     },
     "execution_count": 255,
     "metadata": {},
     "output_type": "execute_result"
    }
   ],
   "source": [
    "p = re.compile(\"(?<=o).+\")\n",
    "m = p.search(\"hello2022\")\n",
    "m.group()"
   ]
  },
  {
   "cell_type": "code",
   "execution_count": 307,
   "id": "0995651a-393b-4ff1-bade-b1e17e2b401c",
   "metadata": {},
   "outputs": [
    {
     "data": {
      "text/plain": [
       "'lgreedyla'"
      ]
     },
     "execution_count": 307,
     "metadata": {},
     "output_type": "execute_result"
    }
   ],
   "source": [
    "s = 'lgreedylazyUseregularexpressionsa'\n",
    "# 위 문자열에서 l로 시작하고 a로 끝나는 문자를 찾는다면\n",
    "p = re.compile(\"l.+?a\")\n",
    "p.search(s).group()"
   ]
  },
  {
   "cell_type": "code",
   "execution_count": 311,
   "id": "e2cce383-1e08-469c-8012-fe403104f7c6",
   "metadata": {},
   "outputs": [
    {
     "data": {
      "text/plain": [
       "10"
      ]
     },
     "execution_count": 311,
     "metadata": {},
     "output_type": "execute_result"
    }
   ],
   "source": [
    "import re\n",
    "p = re.compile(\"[a-z]+\")\n",
    "m = p.search(\"5 python\")\n",
    "m.start() + m.end()"
   ]
  },
  {
   "cell_type": "code",
   "execution_count": null,
   "id": "bd3b71b3-8501-44d6-a784-c0f7f215f21f",
   "metadata": {},
   "outputs": [],
   "source": []
  }
 ],
 "metadata": {
  "kernelspec": {
   "display_name": "Python 3 (ipykernel)",
   "language": "python",
   "name": "python3"
  },
  "language_info": {
   "codemirror_mode": {
    "name": "ipython",
    "version": 3
   },
   "file_extension": ".py",
   "mimetype": "text/x-python",
   "name": "python",
   "nbconvert_exporter": "python",
   "pygments_lexer": "ipython3",
   "version": "3.10.6"
  }
 },
 "nbformat": 4,
 "nbformat_minor": 5
}
