{
 "cells": [
  {
   "cell_type": "code",
   "execution_count": 8,
   "id": "d5df3888-9293-453c-ac83-7bc64e19341e",
   "metadata": {},
   "outputs": [
    {
     "data": {
      "text/plain": [
       "'010-1234-1234'"
      ]
     },
     "execution_count": 8,
     "metadata": {},
     "output_type": "execute_result"
    }
   ],
   "source": [
    "import re\n",
    "data = ''' 이름:김철수\n",
    "전화번호 : 010-1234-1234\n",
    "나이 : 30\n",
    "성별 : 남\n",
    "'''\n",
    "p = re.compile(\"\\d.+\")\n",
    "m = p.search(data)\n",
    "m.group()"
   ]
  },
  {
   "cell_type": "code",
   "execution_count": 10,
   "id": "955c2cd9-bc35-4769-bb3f-6072476c0a06",
   "metadata": {},
   "outputs": [
    {
     "data": {
      "text/plain": [
       "['010-1234-1234']"
      ]
     },
     "execution_count": 10,
     "metadata": {},
     "output_type": "execute_result"
    }
   ],
   "source": [
    "re.findall(r'\\d+[-]\\d+[-]\\d+', data)"
   ]
  },
  {
   "cell_type": "code",
   "execution_count": 19,
   "id": "868ce6d8-ced7-47b3-9148-da0837e44e2a",
   "metadata": {},
   "outputs": [
    {
     "data": {
      "text/plain": [
       "['black, blue ']"
      ]
     },
     "execution_count": 19,
     "metadata": {},
     "output_type": "execute_result"
    }
   ],
   "source": [
    "s = \"black, blue and brown\"\n",
    "p = re.compile('.+(?=and)')\n",
    "p.findall(s)"
   ]
  },
  {
   "cell_type": "code",
   "execution_count": 44,
   "id": "f8835ab3-78ad-4f70-bb44-0e286ccfd7e6",
   "metadata": {},
   "outputs": [
    {
     "data": {
      "text/plain": [
       "['http', 'http', 'ftp']"
      ]
     },
     "execution_count": 44,
     "metadata": {},
     "output_type": "execute_result"
    }
   ],
   "source": [
    "s= 'http://naver.com, http://google.com, ftp://daum.net'\n",
    "\n",
    "p = re.compile('\\w+(?=:)')\n",
    "p.findall(s)"
   ]
  },
  {
   "cell_type": "code",
   "execution_count": 385,
   "id": "56b56c95-acdd-4336-8172-4e8bb85efd86",
   "metadata": {},
   "outputs": [
    {
     "name": "stdout",
     "output_type": "stream",
     "text": [
      "그리고 그리고\n",
      "또 또\n",
      "그런데 그런데\n",
      "끝 끝\n"
     ]
    }
   ],
   "source": [
    "data = '''\n",
    "안녕하세요 그리고 그리고\n",
    "안녕하세요 또 또\n",
    "안녕하세요 그런데 그런데 \n",
    "안녕하세요 끝 끝\n",
    "'''\n",
    "li = []\n",
    "for i in re.finditer(r'(?P<word>\\w+)\\s+(?P=word)', data):\n",
    "    print(i.group())"
   ]
  },
  {
   "cell_type": "code",
   "execution_count": null,
   "id": "8c8dc8bd-5451-4c8c-9402-1cbe62882cfd",
   "metadata": {},
   "outputs": [],
   "source": []
  },
  {
   "cell_type": "code",
   "execution_count": null,
   "id": "331b556b-4bc9-4551-8748-a967033fbe25",
   "metadata": {},
   "outputs": [],
   "source": []
  },
  {
   "cell_type": "code",
   "execution_count": 73,
   "id": "ecedd375-1f65-4474-8f48-b3897d41b2ea",
   "metadata": {},
   "outputs": [],
   "source": [
    "import urllib.request as req\n",
    "import re\n",
    "\n",
    "# 접속 가능 여부 받기(Response 값 오는 지)\n",
    "# req.urlopen(\"http://daum.net\")\n",
    "\n",
    "# 전체 내용 읽어오기\n",
    "data = req.urlopen(\"http://daum.net\").read().decode(\"utf-8\")\n",
    "data"
   ]
  },
  {
   "cell_type": "code",
   "execution_count": 113,
   "id": "5aacb81f-767d-49d1-b7b9-0c40c9fac100",
   "metadata": {},
   "outputs": [
    {
     "name": "stdout",
     "output_type": "stream",
     "text": [
      "https://t1.daumcdn.net/kas/static/na.min.js\n",
      "https://t1.daumcdn.net/tiara/js/v1/tiara.min.js\n",
      "https://t1.daumcdn.net/top/tiller-pc/lib/1636937121956/polyfill.min.js\n",
      "https://t1.daumcdn.net/top/tiller-pc/h/production/20220915_111213/index.js\n",
      "https://t1.daumcdn.net/kas/static/ba.min.js\n",
      "https://t1.daumcdn.net/top/tiller-pc/1655174491872/tiller-pc-suggest.js\n"
     ]
    }
   ],
   "source": [
    "p = re.compile(\"https://\\S*[.]js\")\n",
    "li = p.findall(data)\n",
    "for i in li :\n",
    "    print(i)"
   ]
  },
  {
   "cell_type": "code",
   "execution_count": 455,
   "id": "02acaf58-3012-4476-bb64-28196600facf",
   "metadata": {
    "tags": []
   },
   "outputs": [
    {
     "name": "stdout",
     "output_type": "stream",
     "text": [
      "이른 아침 문을 여는 빵집입니다. 아침식사로 빵을 사러 가기엔 좋지만 매장안에서 드실 공간은 없어요. 이 빵집은 특이하게도 물 또는 커피를 무료로 텀블러에 담아갈수 있습니다.  가볍게 아침을 해결하고자 하는 여행자나 현지인은 들러보면 좋을 장소입니다.  참고로, 식빵 나오는 시간은 오전11시~12시 입니다. 빵 가격은 가성비 괜찮은 편이고 맛은 무난합니다. \n",
      "우연히 들어갔는데 사장님이 따뜻하고 친절하셔서 제주도 이미지마저 좋게 느껴졌어요. 그리고 무엇보다 빵이 정말 맛있어요. 제주도에서 원탑입니다!!! 여기보다 두배는 ...\n",
      "내용 더보기\n",
      "맛집검색하다가 스쳐지나갔는데 숙소근처에 있길래 들렸어요!!  시식하는빵도 있고  빵구매하는데 서비스로 흰색찹살떡??도 주시고 친절하세요! 인절미빵 강추입니다!  ...\n",
      "내용 더보기\n",
      "인절미빵. 먹물치즈빵? 제일 맛있었고 대파빵은 삼겹살을 부르는 꽤 매운 맛이었어요! 빵이 대체로 다~~~~맛있고 친절하십니다 주차는 근처 공영주차장에 하면 됩니다 다...\n",
      "내용 더보기\n",
      "사진을 제대로 못찍엇는데 뒤에 비닐로 싸진 빵들이에요 ㅋㅋㅋ  여기 진짜 촤고에요 보니 동네찐로컬맛집같아요 빵종류도 많고 각 빵마다 시식빵이 있는데 크기가 넘 커서...\n",
      "내용 더보기\n",
      "성산 여행하는 동안 두번이나 방문했어요 빵도 특색있고 하나하나 다 맛있고 사장님도 직원분도 친절하시고  커피도 무료로 먹을수 있게 해주시고 살때마다 서비스빵을 주...\n",
      "내용 더보기\n",
      "사장님 너무 친절하시고 빵이 진짜 맛있어요.. 미친 맛,,,,🥹가격이 타 빵집보다 훠얼씬 저렴한데  맛이 훠얼씬 맛있네요,,,??!?! 저희 동네에 있었음 매일 가고싶네요ㅠㅠㅠ …\n",
      "내용 더보기\n",
      "재료를 아끼지 않으세요 눚은시간 방문했는데도 손님들이 꽤 왔어요 마늘바게트에는 소스를 아끼지 않았고 다른빵들도 크림이 듬뿍 들어 있었어요 서비스도 주시고 시식…\n",
      "내용 더보기\n"
     ]
    }
   ],
   "source": [
    "# 긁어온 웹 페이지\n",
    "data = \"\"\"\n",
    "<div class=\"faZHB\"><a href=\"#\" target=\"_self\" role=\"button\" aria-expanded=\"true\" class=\"M_704\" style=\"display: block;\"><span class=\"WoYOw\">이른 아침 문을 여는 빵집입니다. 아침식사로 빵을 사러 가기엔 좋지만 매장안에서 드실 공간은 없어요. 이 빵집은 특이하게도 물 또는 커피를 무료로 텀블러에 담아갈수 있습니다.  가볍게 아침을 해결하고자 하는 여행자나 현지인은 들러보면 좋을 장소입니다.  참고로, 식빵 나오는 시간은 오전11시~12시 입니다. 빵 가격은 가성비 괜찮은 편이고 맛은 무난합니다. </span></a></div><div class=\"faZHB\"><a href=\"#\" target=\"_self\" role=\"button\" aria-expanded=\"false\" class=\"M_704\" style=\"display: block;\"><span class=\"WoYOw\">우연히 들어갔는데 사장님이 따뜻하고 친절하셔서 제주도 이미지마저 좋게 느껴졌어요. 그리고 무엇보다 빵이 정말 맛있어요. 제주도에서 원탑입니다!!! 여기보다 두배는 ...</span><span class=\"_3_09q\"><svg xmlns=\"\n",
    "http://www.w3.org/2000/svg\n",
    "\" viewBox=\"0 0 12 7\" class=\"_3Dnsh\" aria-hidden=\"true\"><path d=\"M11.47.52a.74.74 0 0 0-1.04 0l-4.4 4.45v.01L1.57.52A.74.74 0 1 0 .53 1.57l5.12 5.08a.5.5 0 0 0 .7 0l5.12-5.08a.74.74 0 0 0 0-1.05z\"></path></svg><span class=\"place_blind\">내용 더보기</span></span></a></div><div class=\"faZHB\"><a href=\"#\" target=\"_self\" role=\"button\" aria-expanded=\"false\" class=\"M_704\" style=\"display: block;\"><span class=\"WoYOw\">맛집검색하다가 스쳐지나갔는데 숙소근처에 있길래 들렸어요!!  시식하는빵도 있고  빵구매하는데 서비스로 흰색찹살떡??도 주시고 친절하세요! 인절미빵 강추입니다!  ...</span><span class=\"_3_09q\"><svg xmlns=\"\n",
    "http://www.w3.org/2000/svg\n",
    "\" viewBox=\"0 0 12 7\" class=\"_3Dnsh\" aria-hidden=\"true\"><path d=\"M11.47.52a.74.74 0 0 0-1.04 0l-4.4 4.45v.01L1.57.52A.74.74 0 1 0 .53 1.57l5.12 5.08a.5.5 0 0 0 .7 0l5.12-5.08a.74.74 0 0 0 0-1.05z\"></path></svg><span class=\"place_blind\">내용 더보기</span></span></a></div><div class=\"faZHB\"><a href=\"#\" target=\"_self\" role=\"button\" aria-expanded=\"false\" class=\"M_704\" style=\"display: block;\"><span class=\"WoYOw\">인절미빵. 먹물치즈빵? 제일 맛있었고 대파빵은 삼겹살을 부르는 꽤 매운 맛이었어요! 빵이 대체로 다~~~~맛있고 친절하십니다 주차는 근처 공영주차장에 하면 됩니다 다...</span><span class=\"_3_09q\"><svg xmlns=\"\n",
    "http://www.w3.org/2000/svg\n",
    "\" viewBox=\"0 0 12 7\" class=\"_3Dnsh\" aria-hidden=\"true\"><path d=\"M11.47.52a.74.74 0 0 0-1.04 0l-4.4 4.45v.01L1.57.52A.74.74 0 1 0 .53 1.57l5.12 5.08a.5.5 0 0 0 .7 0l5.12-5.08a.74.74 0 0 0 0-1.05z\"></path></svg><span class=\"place_blind\">내용 더보기</span></span></a></div><div class=\"faZHB\"><a href=\"#\" target=\"_self\" role=\"button\" aria-expanded=\"false\" class=\"M_704\" style=\"display: block;\"><span class=\"WoYOw\">사진을 제대로 못찍엇는데 뒤에 비닐로 싸진 빵들이에요 ㅋㅋㅋ  여기 진짜 촤고에요 보니 동네찐로컬맛집같아요 빵종류도 많고 각 빵마다 시식빵이 있는데 크기가 넘 커서...</span><span class=\"_3_09q\"><svg xmlns=\"\n",
    "http://www.w3.org/2000/svg\n",
    "\" viewBox=\"0 0 12 7\" class=\"_3Dnsh\" aria-hidden=\"true\"><path d=\"M11.47.52a.74.74 0 0 0-1.04 0l-4.4 4.45v.01L1.57.52A.74.74 0 1 0 .53 1.57l5.12 5.08a.5.5 0 0 0 .7 0l5.12-5.08a.74.74 0 0 0 0-1.05z\"></path></svg><span class=\"place_blind\">내용 더보기</span></span></a></div><div class=\"faZHB\"><a href=\"#\" target=\"_self\" role=\"button\" aria-expanded=\"false\" class=\"M_704\" style=\"display: block;\"><span class=\"WoYOw\">성산 여행하는 동안 두번이나 방문했어요 빵도 특색있고 하나하나 다 맛있고 사장님도 직원분도 친절하시고  커피도 무료로 먹을수 있게 해주시고 살때마다 서비스빵을 주...</span><span class=\"_3_09q\"><svg xmlns=\"\n",
    "http://www.w3.org/2000/svg\n",
    "\" viewBox=\"0 0 12 7\" class=\"_3Dnsh\" aria-hidden=\"true\"><path d=\"M11.47.52a.74.74 0 0 0-1.04 0l-4.4 4.45v.01L1.57.52A.74.74 0 1 0 .53 1.57l5.12 5.08a.5.5 0 0 0 .7 0l5.12-5.08a.74.74 0 0 0 0-1.05z\"></path></svg><span class=\"place_blind\">내용 더보기</span></span></a></div><div class=\"faZHB\"><a href=\"#\" target=\"_self\" role=\"button\" aria-expanded=\"false\" class=\"M_704\" style=\"display: block;\"><span class=\"WoYOw\">사장님 너무 친절하시고 빵이 진짜 맛있어요.. 미친 맛,,,,🥹가격이 타 빵집보다 훠얼씬 저렴한데  맛이 훠얼씬 맛있네요,,,??!?! 저희 동네에 있었음 매일 가고싶네요ㅠㅠㅠ …</span><span class=\"_3_09q\"><svg xmlns=\"\n",
    "http://www.w3.org/2000/svg\n",
    "\" viewBox=\"0 0 12 7\" class=\"_3Dnsh\" aria-hidden=\"true\"><path d=\"M11.47.52a.74.74 0 0 0-1.04 0l-4.4 4.45v.01L1.57.52A.74.74 0 1 0 .53 1.57l5.12 5.08a.5.5 0 0 0 .7 0l5.12-5.08a.74.74 0 0 0 0-1.05z\"></path></svg><span class=\"place_blind\">내용 더보기</span></span></a></div><div class=\"faZHB\"><a href=\"#\" target=\"_self\" role=\"button\" aria-expanded=\"false\" class=\"M_704\" style=\"display: block;\"><span class=\"WoYOw\">재료를 아끼지 않으세요 눚은시간 방문했는데도 손님들이 꽤 왔어요 마늘바게트에는 소스를 아끼지 않았고 다른빵들도 크림이 듬뿍 들어 있었어요 서비스도 주시고 시식…</span><span class=\"_3_09q\"><svg xmlns=\"\n",
    "http://www.w3.org/2000/svg\n",
    "\" viewBox=\"0 0 12 7\" class=\"_3Dnsh\" aria-hidden=\"true\"><path d=\"M11.47.52a.74.74 0 0 0-1.04 0l-4.4 4.45v.01L1.57.52A.74.74 0 1 0 .53 1.57l5.12 5.08a.5.5 0 0 0 .7 0l5.12-5.08a.74.74 0 0 0 0-1.05z\"></path></svg><span class=\"place_blind\">내용 더보기</span></span></a></div> \n",
    "\"\"\"\n",
    "\n",
    "p = re.compile('(?=>).+?(?=<)')\n",
    "li = p.findall(data)\n",
    "li\n",
    "for i in li :\n",
    "    if i != '>' :\n",
    "        print(i.replace(\">\", \"\"))"
   ]
  },
  {
   "cell_type": "code",
   "execution_count": 170,
   "id": "fc910f12-084d-4c32-8a08-db3c8ddca07c",
   "metadata": {},
   "outputs": [],
   "source": [
    "# 규칙에 맞는 지 확인하기 위한 정규식을 작성해보세요\n",
    "# 전화번호(010-0000-0000)\n",
    "# \\d{2, 3}[-]\\d{3, 4}[-]\\d+\n",
    "# 010[-]\\d{4}[-]\\d{4}\n",
    "\n",
    "# 이메일(xxxxx@xxxxxx.com)\n",
    "# ^[a-zA-Z0-9+-_.]+@[a-zA-Z0-9-]+\\.[a-zA-Z0-9-.]+$\n"
   ]
  },
  {
   "cell_type": "code",
   "execution_count": 226,
   "id": "1197765a-90ba-4f01-ae97-0df1073ce160",
   "metadata": {},
   "outputs": [
    {
     "data": {
      "text/plain": [
       "['http:', 'https:', 'ftp:']"
      ]
     },
     "execution_count": 226,
     "metadata": {},
     "output_type": "execute_result"
    }
   ],
   "source": [
    "text = '''\n",
    "http://www.google.com/\n",
    "https://mail.google.com/\n",
    "ftp://ftp.google.com/\n",
    "''' \n",
    "p = re.compile(\".+(?=//)\")\n",
    "p.findall(text)"
   ]
  },
  {
   "cell_type": "code",
   "execution_count": 246,
   "id": "6b83212a-cf0d-4cfa-8e0b-11bb35ca804a",
   "metadata": {},
   "outputs": [
    {
     "data": {
      "text/plain": [
       "['50.24', '35.25', '100']"
      ]
     },
     "execution_count": 246,
     "metadata": {},
     "output_type": "execute_result"
    }
   ],
   "source": [
    "text ='''apple: $50.24\n",
    "banana: $35.25\n",
    "pizza: $100\n",
    "''' \n",
    "p = re.compile('(?<=[$]).+') \n",
    "p.findall(text)"
   ]
  },
  {
   "cell_type": "code",
   "execution_count": 284,
   "id": "8dccd891-3ccc-456d-9dd4-054a32dbbac6",
   "metadata": {},
   "outputs": [
    {
     "name": "stdout",
     "output_type": "stream",
     "text": [
      "이른 아침 문을 여는 빵집입니다\n",
      "가볍게 아침을 해결하고자 하는 여행자나 현지인은 들러보면 좋을 장소입니다\n"
     ]
    }
   ],
   "source": [
    "text = '''<p>이른 아침 문을 여는 빵집입니다</p>\n",
    "<h1>아침식사로 빵을 사러 가기엔 좋지만 매장안에서 드실 공간은 없어요</h1>\n",
    "<h5>이 빵집은 특이하게도 물 또는 커피를 무료로 텀블러에 담아갈수 있습니다</h5>\n",
    "<p>가볍게 아침을 해결하고자 하는 여행자나 현지인은 들러보면 좋을 장소입니다</p>\n",
    "<p>참고로 식빵 나오는 시간은 오전시시 입니다</pp>\n",
    "''' \n",
    "p = re.compile(\"(?<=<p>).+(?=</p>)\")\n",
    "li = p.findall(text)\n",
    "for i in li :\n",
    "    print(i)"
   ]
  },
  {
   "cell_type": "code",
   "execution_count": 366,
   "id": "afae3e3b-b62b-4114-8791-fc44040a5739",
   "metadata": {},
   "outputs": [
    {
     "data": {
      "text/plain": [
       "[]"
      ]
     },
     "execution_count": 366,
     "metadata": {},
     "output_type": "execute_result"
    }
   ],
   "source": [
    "s = \"black, blue and brown\"\n",
    "p = re.compile(\"(^brown)\")\n",
    "p.findall(s)"
   ]
  },
  {
   "cell_type": "code",
   "execution_count": null,
   "id": "225377dd-c2a3-414b-a004-9e0a87288b96",
   "metadata": {},
   "outputs": [],
   "source": []
  },
  {
   "cell_type": "code",
   "execution_count": null,
   "id": "c02de703-847f-4863-8ba6-a98f86127d22",
   "metadata": {},
   "outputs": [],
   "source": []
  },
  {
   "cell_type": "code",
   "execution_count": 390,
   "id": "8eb0a0df-69db-4901-bbfa-a2bf4c983476",
   "metadata": {},
   "outputs": [
    {
     "name": "stdout",
     "output_type": "stream",
     "text": [
      "[0 1 2 3]\n"
     ]
    }
   ],
   "source": [
    "# 1차원 배열 만들기\n",
    "import numpy as np\n",
    "# 입력은 리스트 형식\n",
    "a = np.array([0, 1, 2, 3])\n",
    "print(a)"
   ]
  },
  {
   "cell_type": "code",
   "execution_count": 393,
   "id": "b1d96465-e883-4c03-8229-29d41c8e74f8",
   "metadata": {},
   "outputs": [
    {
     "data": {
      "text/plain": [
       "(4,)"
      ]
     },
     "execution_count": 393,
     "metadata": {},
     "output_type": "execute_result"
    }
   ],
   "source": [
    "# 1차원 자료.\n",
    "# 튜플에 하나의 요소만 있으면 문법상 콤마를 붙인다\n",
    "a.shape"
   ]
  },
  {
   "cell_type": "code",
   "execution_count": 395,
   "id": "95a91e7b-7b07-42fa-8d1c-dc5ffb7d2cdc",
   "metadata": {},
   "outputs": [
    {
     "data": {
      "text/plain": [
       "(2, 3)"
      ]
     },
     "execution_count": 395,
     "metadata": {},
     "output_type": "execute_result"
    }
   ],
   "source": [
    "b = np.array([[0, 1, 2], [3, 4, 5]])\n",
    "b.shape"
   ]
  },
  {
   "cell_type": "code",
   "execution_count": 396,
   "id": "68984f06-92a0-44a9-a9dc-77e7b73beed4",
   "metadata": {},
   "outputs": [
    {
     "data": {
      "text/plain": [
       "array([ 0,  1,  2,  3,  4,  5,  6,  7,  8,  9, 10, 11, 12, 13, 14, 15, 16,\n",
       "       17, 18, 19])"
      ]
     },
     "execution_count": 396,
     "metadata": {},
     "output_type": "execute_result"
    }
   ],
   "source": [
    "a = np.array(range(20))\n",
    "a"
   ]
  },
  {
   "cell_type": "code",
   "execution_count": 399,
   "id": "0e364814-7a61-4ab3-bf56-7a9978c8629d",
   "metadata": {},
   "outputs": [
    {
     "data": {
      "text/plain": [
       "array([[ 0,  1,  2,  3,  4],\n",
       "       [ 5,  6,  7,  8,  9],\n",
       "       [10, 11, 12, 13, 14],\n",
       "       [15, 16, 17, 18, 19]])"
      ]
     },
     "execution_count": 399,
     "metadata": {},
     "output_type": "execute_result"
    }
   ],
   "source": [
    "a.reshape((4, 5))"
   ]
  },
  {
   "cell_type": "code",
   "execution_count": 490,
   "id": "29d4d8b9-ffa9-4593-af84-abe3b543db90",
   "metadata": {},
   "outputs": [
    {
     "name": "stdout",
     "output_type": "stream",
     "text": [
      "[[ 0  1  2  3  4]\n",
      " [ 5  6  7  8  9]\n",
      " [10 11 12 13 14]\n",
      " [15 16 17 18 19]\n",
      " [20 21 22 23 24]]\n"
     ]
    }
   ],
   "source": [
    "# 다음과 같은 6x6 array를 만들고 노란색 빨간색 파란색으로 뽑아보세요\n",
    "a = np.array(range(25)).reshape((5, 5))\n",
    "print(a)"
   ]
  },
  {
   "cell_type": "code",
   "execution_count": 491,
   "id": "655620bf-3496-4d03-bd5e-09c96b2f06f6",
   "metadata": {},
   "outputs": [
    {
     "name": "stdout",
     "output_type": "stream",
     "text": [
      "[[20 21 22 23 24]]\n"
     ]
    }
   ],
   "source": [
    "yellow = a[4:]\n",
    "print(yellow)"
   ]
  },
  {
   "cell_type": "code",
   "execution_count": 492,
   "id": "d6989777-082c-44b0-9062-02acf64ca0ac",
   "metadata": {},
   "outputs": [
    {
     "name": "stdout",
     "output_type": "stream",
     "text": [
      "[[ 1  3]\n",
      " [ 6  8]\n",
      " [11 13]\n",
      " [16 18]\n",
      " [21 23]]\n"
     ]
    }
   ],
   "source": [
    "# 전체 행 : 1 3 열\n",
    "red = a[:,[1,3]]\n",
    "print(red)"
   ]
  },
  {
   "cell_type": "code",
   "execution_count": 493,
   "id": "6ba75de8-5b9a-4b76-b9d6-153f4059b8c3",
   "metadata": {},
   "outputs": [
    {
     "name": "stdout",
     "output_type": "stream",
     "text": [
      "[ 5  7 15 17]\n"
     ]
    }
   ],
   "source": [
    "# 팬시 인덱싱\n",
    "blue = a[[1, 1, 3, 3], [0, 2, 0, 2]]\n",
    "print(blue)"
   ]
  },
  {
   "cell_type": "code",
   "execution_count": 503,
   "id": "f7b1b5c6-a072-4eaa-9122-229a77c6443a",
   "metadata": {},
   "outputs": [
    {
     "name": "stdout",
     "output_type": "stream",
     "text": [
      "[[4 5 6]\n",
      " [7 8 9]]\n",
      "[4 5 6]\n"
     ]
    }
   ],
   "source": [
    "a = [\n",
    "    [1, 2, 3],\n",
    "    [4, 5, 6],\n",
    "    [7, 8, 9]\n",
    "]\n",
    "# array 만들기\n",
    "arr = np.array(a)\n",
    "\n",
    "# 슬라이스\n",
    "# 행(1~3) 열(0~2) 부분을 자르겠다\n",
    "# print(arr[1:3, 0:2])\n",
    "# print(arr[:1])\n",
    "# print(arr[1:])\n",
    "# print(arr[::2])\n",
    "# print(arr[:,2])\n",
    "print(arr[1:])\n",
    "print(arr[1,:])"
   ]
  },
  {
   "cell_type": "code",
   "execution_count": null,
   "id": "70442d95-15db-4f91-9dbe-04ef479ca4af",
   "metadata": {},
   "outputs": [],
   "source": []
  }
 ],
 "metadata": {
  "kernelspec": {
   "display_name": "Python 3 (ipykernel)",
   "language": "python",
   "name": "python3"
  },
  "language_info": {
   "codemirror_mode": {
    "name": "ipython",
    "version": 3
   },
   "file_extension": ".py",
   "mimetype": "text/x-python",
   "name": "python",
   "nbconvert_exporter": "python",
   "pygments_lexer": "ipython3",
   "version": "3.10.6"
  }
 },
 "nbformat": 4,
 "nbformat_minor": 5
}
