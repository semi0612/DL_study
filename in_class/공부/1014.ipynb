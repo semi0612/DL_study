{
 "cells": [
  {
   "cell_type": "code",
   "execution_count": 4,
   "id": "0098bbe8-cf1e-4a2e-b19f-96c8d9a477f6",
   "metadata": {},
   "outputs": [
    {
     "data": {
      "text/html": [
       "<style>#sk-container-id-1 {color: black;background-color: white;}#sk-container-id-1 pre{padding: 0;}#sk-container-id-1 div.sk-toggleable {background-color: white;}#sk-container-id-1 label.sk-toggleable__label {cursor: pointer;display: block;width: 100%;margin-bottom: 0;padding: 0.3em;box-sizing: border-box;text-align: center;}#sk-container-id-1 label.sk-toggleable__label-arrow:before {content: \"▸\";float: left;margin-right: 0.25em;color: #696969;}#sk-container-id-1 label.sk-toggleable__label-arrow:hover:before {color: black;}#sk-container-id-1 div.sk-estimator:hover label.sk-toggleable__label-arrow:before {color: black;}#sk-container-id-1 div.sk-toggleable__content {max-height: 0;max-width: 0;overflow: hidden;text-align: left;background-color: #f0f8ff;}#sk-container-id-1 div.sk-toggleable__content pre {margin: 0.2em;color: black;border-radius: 0.25em;background-color: #f0f8ff;}#sk-container-id-1 input.sk-toggleable__control:checked~div.sk-toggleable__content {max-height: 200px;max-width: 100%;overflow: auto;}#sk-container-id-1 input.sk-toggleable__control:checked~label.sk-toggleable__label-arrow:before {content: \"▾\";}#sk-container-id-1 div.sk-estimator input.sk-toggleable__control:checked~label.sk-toggleable__label {background-color: #d4ebff;}#sk-container-id-1 div.sk-label input.sk-toggleable__control:checked~label.sk-toggleable__label {background-color: #d4ebff;}#sk-container-id-1 input.sk-hidden--visually {border: 0;clip: rect(1px 1px 1px 1px);clip: rect(1px, 1px, 1px, 1px);height: 1px;margin: -1px;overflow: hidden;padding: 0;position: absolute;width: 1px;}#sk-container-id-1 div.sk-estimator {font-family: monospace;background-color: #f0f8ff;border: 1px dotted black;border-radius: 0.25em;box-sizing: border-box;margin-bottom: 0.5em;}#sk-container-id-1 div.sk-estimator:hover {background-color: #d4ebff;}#sk-container-id-1 div.sk-parallel-item::after {content: \"\";width: 100%;border-bottom: 1px solid gray;flex-grow: 1;}#sk-container-id-1 div.sk-label:hover label.sk-toggleable__label {background-color: #d4ebff;}#sk-container-id-1 div.sk-serial::before {content: \"\";position: absolute;border-left: 1px solid gray;box-sizing: border-box;top: 0;bottom: 0;left: 50%;z-index: 0;}#sk-container-id-1 div.sk-serial {display: flex;flex-direction: column;align-items: center;background-color: white;padding-right: 0.2em;padding-left: 0.2em;position: relative;}#sk-container-id-1 div.sk-item {position: relative;z-index: 1;}#sk-container-id-1 div.sk-parallel {display: flex;align-items: stretch;justify-content: center;background-color: white;position: relative;}#sk-container-id-1 div.sk-item::before, #sk-container-id-1 div.sk-parallel-item::before {content: \"\";position: absolute;border-left: 1px solid gray;box-sizing: border-box;top: 0;bottom: 0;left: 50%;z-index: -1;}#sk-container-id-1 div.sk-parallel-item {display: flex;flex-direction: column;z-index: 1;position: relative;background-color: white;}#sk-container-id-1 div.sk-parallel-item:first-child::after {align-self: flex-end;width: 50%;}#sk-container-id-1 div.sk-parallel-item:last-child::after {align-self: flex-start;width: 50%;}#sk-container-id-1 div.sk-parallel-item:only-child::after {width: 0;}#sk-container-id-1 div.sk-dashed-wrapped {border: 1px dashed gray;margin: 0 0.4em 0.5em 0.4em;box-sizing: border-box;padding-bottom: 0.4em;background-color: white;}#sk-container-id-1 div.sk-label label {font-family: monospace;font-weight: bold;display: inline-block;line-height: 1.2em;}#sk-container-id-1 div.sk-label-container {text-align: center;}#sk-container-id-1 div.sk-container {/* jupyter's `normalize.less` sets `[hidden] { display: none; }` but bootstrap.min.css set `[hidden] { display: none !important; }` so we also need the `!important` here to be able to override the default hidden behavior on the sphinx rendered scikit-learn.org. See: https://github.com/scikit-learn/scikit-learn/issues/21755 */display: inline-block !important;position: relative;}#sk-container-id-1 div.sk-text-repr-fallback {display: none;}</style><div id=\"sk-container-id-1\" class=\"sk-top-container\"><div class=\"sk-text-repr-fallback\"><pre>DecisionTreeClassifier()</pre><b>In a Jupyter environment, please rerun this cell to show the HTML representation or trust the notebook. <br />On GitHub, the HTML representation is unable to render, please try loading this page with nbviewer.org.</b></div><div class=\"sk-container\" hidden><div class=\"sk-item\"><div class=\"sk-estimator sk-toggleable\"><input class=\"sk-toggleable__control sk-hidden--visually\" id=\"sk-estimator-id-1\" type=\"checkbox\" checked><label for=\"sk-estimator-id-1\" class=\"sk-toggleable__label sk-toggleable__label-arrow\">DecisionTreeClassifier</label><div class=\"sk-toggleable__content\"><pre>DecisionTreeClassifier()</pre></div></div></div></div></div>"
      ],
      "text/plain": [
       "DecisionTreeClassifier()"
      ]
     },
     "execution_count": 4,
     "metadata": {},
     "output_type": "execute_result"
    }
   ],
   "source": [
    "from sklearn.datasets import load_wine\n",
    "from sklearn.tree import DecisionTreeClassifier\n",
    "from sklearn.model_selection import train_test_split \n",
    "\n",
    "dt_clf = DecisionTreeClassifier()\n",
    "\n",
    "wine = load_wine()\n",
    "X_train, X_test, y_train, y_test = train_test_split(wine.data, wine.target)\n",
    "dt_clf.fit(X_train, y_train)"
   ]
  },
  {
   "cell_type": "code",
   "execution_count": 57,
   "id": "74265da2-0ef2-447c-98a5-f01ca43cf6cc",
   "metadata": {},
   "outputs": [
    {
     "data": {
      "text/html": [
       "<div>\n",
       "<style scoped>\n",
       "    .dataframe tbody tr th:only-of-type {\n",
       "        vertical-align: middle;\n",
       "    }\n",
       "\n",
       "    .dataframe tbody tr th {\n",
       "        vertical-align: top;\n",
       "    }\n",
       "\n",
       "    .dataframe thead th {\n",
       "        text-align: right;\n",
       "    }\n",
       "</style>\n",
       "<table border=\"1\" class=\"dataframe\">\n",
       "  <thead>\n",
       "    <tr style=\"text-align: right;\">\n",
       "      <th></th>\n",
       "      <th>pct</th>\n",
       "    </tr>\n",
       "  </thead>\n",
       "  <tbody>\n",
       "    <tr>\n",
       "      <th>flavanoids</th>\n",
       "      <td>0.538844</td>\n",
       "    </tr>\n",
       "    <tr>\n",
       "      <th>alcohol</th>\n",
       "      <td>0.441535</td>\n",
       "    </tr>\n",
       "    <tr>\n",
       "      <th>proanthocyanins</th>\n",
       "      <td>0.019621</td>\n",
       "    </tr>\n",
       "    <tr>\n",
       "      <th>malic_acid</th>\n",
       "      <td>0.000000</td>\n",
       "    </tr>\n",
       "    <tr>\n",
       "      <th>ash</th>\n",
       "      <td>0.000000</td>\n",
       "    </tr>\n",
       "    <tr>\n",
       "      <th>alcalinity_of_ash</th>\n",
       "      <td>0.000000</td>\n",
       "    </tr>\n",
       "    <tr>\n",
       "      <th>magnesium</th>\n",
       "      <td>0.000000</td>\n",
       "    </tr>\n",
       "    <tr>\n",
       "      <th>total_phenols</th>\n",
       "      <td>0.000000</td>\n",
       "    </tr>\n",
       "    <tr>\n",
       "      <th>nonflavanoid_phenols</th>\n",
       "      <td>0.000000</td>\n",
       "    </tr>\n",
       "    <tr>\n",
       "      <th>color_intensity</th>\n",
       "      <td>0.000000</td>\n",
       "    </tr>\n",
       "    <tr>\n",
       "      <th>hue</th>\n",
       "      <td>0.000000</td>\n",
       "    </tr>\n",
       "    <tr>\n",
       "      <th>od280/od315_of_diluted_wines</th>\n",
       "      <td>0.000000</td>\n",
       "    </tr>\n",
       "    <tr>\n",
       "      <th>proline</th>\n",
       "      <td>0.000000</td>\n",
       "    </tr>\n",
       "  </tbody>\n",
       "</table>\n",
       "</div>"
      ],
      "text/plain": [
       "                                   pct\n",
       "flavanoids                    0.538844\n",
       "alcohol                       0.441535\n",
       "proanthocyanins               0.019621\n",
       "malic_acid                    0.000000\n",
       "ash                           0.000000\n",
       "alcalinity_of_ash             0.000000\n",
       "magnesium                     0.000000\n",
       "total_phenols                 0.000000\n",
       "nonflavanoid_phenols          0.000000\n",
       "color_intensity               0.000000\n",
       "hue                           0.000000\n",
       "od280/od315_of_diluted_wines  0.000000\n",
       "proline                       0.000000"
      ]
     },
     "execution_count": 57,
     "metadata": {},
     "output_type": "execute_result"
    }
   ],
   "source": [
    "best = pd.DataFrame(index = wine.feature_names , data= dt_clf.feature_importances_,columns=['pct'])\n",
    "best.sort_values(by ='pct',ascending=False)"
   ]
  },
  {
   "cell_type": "code",
   "execution_count": 55,
   "id": "fb9f9ded-8960-4694-9ec7-fbbcf680c4c9",
   "metadata": {},
   "outputs": [
    {
     "data": {
      "text/plain": [
       "[\"index: {0: 'alcohol', 1: 'malic_acid', 2: 'ash', 3: 'alcalinity_of_ash', 4: 'magnesium', 5: 'total_phenols', 6: 'flavanoids', 7: 'nonflavanoid_phenols', 8: 'proanthocyanins', 9: 'color_intensity', 10: 'hue', 11: 'od280/od315_of_diluted_wines', 12: 'proline'}\",\n",
       " 'pct: {0: 0.44153497105304335, 1: 0.0, 2: 0.0, 3: 0.0, 4: 0.0, 5: 0.0, 6: 0.5388436864340479, 7: 0.0, 8: 0.01962134251290878, 9: 0.0, 10: 0.0, 11: 0.0, 12: 0.0}']"
      ]
     },
     "execution_count": 55,
     "metadata": {},
     "output_type": "execute_result"
    }
   ],
   "source": [
    "label = []\n",
    "for key, value in best.to_dict().items():\n",
    "    label.append(f\"{key}: {value}\")\n",
    "    \n",
    "label"
   ]
  },
  {
   "cell_type": "code",
   "execution_count": 40,
   "id": "22e10487-9c1d-49a6-aa55-c5df9f290c22",
   "metadata": {},
   "outputs": [
    {
     "data": {
      "text/plain": [
       "alcohol                         0.441535\n",
       "malic_acid                      0.000000\n",
       "ash                             0.000000\n",
       "alcalinity_of_ash               0.000000\n",
       "magnesium                       0.000000\n",
       "total_phenols                   0.000000\n",
       "flavanoids                      0.538844\n",
       "nonflavanoid_phenols            0.000000\n",
       "proanthocyanins                 0.019621\n",
       "color_intensity                 0.000000\n",
       "hue                             0.000000\n",
       "od280/od315_of_diluted_wines    0.000000\n",
       "proline                         0.000000\n",
       "Name: pct, dtype: float64"
      ]
     },
     "execution_count": 40,
     "metadata": {},
     "output_type": "execute_result"
    }
   ],
   "source": [
    "best.squeeze()"
   ]
  },
  {
   "cell_type": "code",
   "execution_count": 48,
   "id": "7a83547f-8eb8-4a4c-8e0f-9bcee8c0fbe2",
   "metadata": {
    "tags": []
   },
   "outputs": [
    {
     "name": "stdout",
     "output_type": "stream",
     "text": [
      "13 1\n"
     ]
    }
   ],
   "source": [
    "print(len(best.squeeze()), len(pd.Series(dict.fromkeys(label, 0))))"
   ]
  },
  {
   "cell_type": "code",
   "execution_count": 63,
   "id": "985564b6-ca5f-4903-be83-99c0a0d33152",
   "metadata": {},
   "outputs": [
    {
     "name": "stdout",
     "output_type": "stream",
     "text": [
      "13 13\n"
     ]
    }
   ],
   "source": [
    "print(len(best.index), len(dt_clf.feature_importances_))"
   ]
  },
  {
   "cell_type": "code",
   "execution_count": 50,
   "id": "c23a757a-fd78-483e-bdb9-c6f60dcaa53e",
   "metadata": {},
   "outputs": [
    {
     "data": {
      "text/plain": [
       "{\"pct: {'alcohol': 0.44153497105304335, 'malic_acid': 0.0, 'ash': 0.0, 'alcalinity_of_ash': 0.0, 'magnesium': 0.0, 'total_phenols': 0.0, 'flavanoids': 0.5388436864340479, 'nonflavanoid_phenols': 0.0, 'proanthocyanins': 0.01962134251290878, 'color_intensity': 0.0, 'hue': 0.0, 'od280/od315_of_diluted_wines': 0.0, 'proline': 0.0}\": 0}"
      ]
     },
     "execution_count": 50,
     "metadata": {},
     "output_type": "execute_result"
    }
   ],
   "source": [
    "dict.fromkeys(label, 0)"
   ]
  },
  {
   "cell_type": "code",
   "execution_count": 64,
   "id": "21362ac8-7b11-483c-a4db-e3775d12733f",
   "metadata": {
    "tags": []
   },
   "outputs": [
    {
     "ename": "ValueError",
     "evalue": "could not convert string to float: 'alcohol'",
     "output_type": "error",
     "traceback": [
      "\u001b[1;31m---------------------------------------------------------------------------\u001b[0m",
      "\u001b[1;31mValueError\u001b[0m                                Traceback (most recent call last)",
      "Input \u001b[1;32mIn [64]\u001b[0m, in \u001b[0;36m<cell line: 13>\u001b[1;34m()\u001b[0m\n\u001b[0;32m     10\u001b[0m \u001b[38;5;28;01mfor\u001b[39;00m key, value \u001b[38;5;129;01min\u001b[39;00m best\u001b[38;5;241m.\u001b[39mto_dict()\u001b[38;5;241m.\u001b[39mitems():\n\u001b[0;32m     11\u001b[0m     label\u001b[38;5;241m.\u001b[39mappend(\u001b[38;5;124mf\u001b[39m\u001b[38;5;124m\"\u001b[39m\u001b[38;5;132;01m{\u001b[39;00mkey\u001b[38;5;132;01m}\u001b[39;00m\u001b[38;5;124m: \u001b[39m\u001b[38;5;132;01m{\u001b[39;00mvalue\u001b[38;5;132;01m}\u001b[39;00m\u001b[38;5;124m\"\u001b[39m)\n\u001b[1;32m---> 13\u001b[0m \u001b[43mplt\u001b[49m\u001b[38;5;241;43m.\u001b[39;49m\u001b[43mpie\u001b[49m\u001b[43m(\u001b[49m\u001b[43mfrequency\u001b[49m\u001b[43m,\u001b[49m\n\u001b[0;32m     14\u001b[0m \u001b[43m    \u001b[49m\u001b[43mstartangle\u001b[49m\u001b[43m \u001b[49m\u001b[38;5;241;43m=\u001b[39;49m\u001b[43m \u001b[49m\u001b[38;5;241;43m180\u001b[39;49m\u001b[43m,\u001b[49m\n\u001b[0;32m     15\u001b[0m \u001b[43m    \u001b[49m\u001b[43mlabels\u001b[49m\u001b[43m \u001b[49m\u001b[38;5;241;43m=\u001b[39;49m\u001b[43m \u001b[49m\u001b[43mdt_clf\u001b[49m\u001b[38;5;241;43m.\u001b[39;49m\u001b[43mfeature_importances_\u001b[49m\u001b[43m,\u001b[49m\n\u001b[0;32m     16\u001b[0m \u001b[43m    \u001b[49m\u001b[43mcolors\u001b[49m\u001b[43m \u001b[49m\u001b[38;5;241;43m=\u001b[39;49m\u001b[43m \u001b[49m\u001b[43msns\u001b[49m\u001b[38;5;241;43m.\u001b[39;49m\u001b[43mcolor_palette\u001b[49m\u001b[43m(\u001b[49m\u001b[38;5;124;43m'\u001b[39;49m\u001b[38;5;124;43mpastel\u001b[39;49m\u001b[38;5;124;43m'\u001b[39;49m\u001b[43m,\u001b[49m\u001b[43m \u001b[49m\u001b[38;5;28;43mlen\u001b[39;49m\u001b[43m(\u001b[49m\u001b[43mlabel\u001b[49m\u001b[43m)\u001b[49m\u001b[43m)\u001b[49m\u001b[43m,\u001b[49m\n\u001b[0;32m     17\u001b[0m \u001b[43m    \u001b[49m\u001b[43mwedgeprops\u001b[49m\u001b[43m \u001b[49m\u001b[38;5;241;43m=\u001b[39;49m\u001b[43m \u001b[49m\u001b[38;5;28;43mdict\u001b[39;49m\u001b[43m(\u001b[49m\u001b[43mwidth\u001b[49m\u001b[38;5;241;43m=\u001b[39;49m\u001b[38;5;241;43m0.7\u001b[39;49m\u001b[43m)\u001b[49m\n\u001b[0;32m     18\u001b[0m \u001b[43m  \u001b[49m\u001b[43m)\u001b[49m\n\u001b[0;32m     21\u001b[0m plt\u001b[38;5;241m.\u001b[39maxis(\u001b[38;5;124m'\u001b[39m\u001b[38;5;124mequal\u001b[39m\u001b[38;5;124m'\u001b[39m)\n\u001b[0;32m     22\u001b[0m plt\u001b[38;5;241m.\u001b[39mshow()\n",
      "File \u001b[1;32m~\\AppData\\Local\\Programs\\Python\\Python310\\lib\\site-packages\\matplotlib\\pyplot.py:2754\u001b[0m, in \u001b[0;36mpie\u001b[1;34m(x, explode, labels, colors, autopct, pctdistance, shadow, labeldistance, startangle, radius, counterclock, wedgeprops, textprops, center, frame, rotatelabels, normalize, data)\u001b[0m\n\u001b[0;32m   2747\u001b[0m \u001b[38;5;129m@_copy_docstring_and_deprecators\u001b[39m(Axes\u001b[38;5;241m.\u001b[39mpie)\n\u001b[0;32m   2748\u001b[0m \u001b[38;5;28;01mdef\u001b[39;00m \u001b[38;5;21mpie\u001b[39m(\n\u001b[0;32m   2749\u001b[0m         x, explode\u001b[38;5;241m=\u001b[39m\u001b[38;5;28;01mNone\u001b[39;00m, labels\u001b[38;5;241m=\u001b[39m\u001b[38;5;28;01mNone\u001b[39;00m, colors\u001b[38;5;241m=\u001b[39m\u001b[38;5;28;01mNone\u001b[39;00m, autopct\u001b[38;5;241m=\u001b[39m\u001b[38;5;28;01mNone\u001b[39;00m,\n\u001b[1;32m   (...)\u001b[0m\n\u001b[0;32m   2752\u001b[0m         textprops\u001b[38;5;241m=\u001b[39m\u001b[38;5;28;01mNone\u001b[39;00m, center\u001b[38;5;241m=\u001b[39m(\u001b[38;5;241m0\u001b[39m, \u001b[38;5;241m0\u001b[39m), frame\u001b[38;5;241m=\u001b[39m\u001b[38;5;28;01mFalse\u001b[39;00m,\n\u001b[0;32m   2753\u001b[0m         rotatelabels\u001b[38;5;241m=\u001b[39m\u001b[38;5;28;01mFalse\u001b[39;00m, \u001b[38;5;241m*\u001b[39m, normalize\u001b[38;5;241m=\u001b[39m\u001b[38;5;28;01mTrue\u001b[39;00m, data\u001b[38;5;241m=\u001b[39m\u001b[38;5;28;01mNone\u001b[39;00m):\n\u001b[1;32m-> 2754\u001b[0m     \u001b[38;5;28;01mreturn\u001b[39;00m gca()\u001b[38;5;241m.\u001b[39mpie(\n\u001b[0;32m   2755\u001b[0m         x, explode\u001b[38;5;241m=\u001b[39mexplode, labels\u001b[38;5;241m=\u001b[39mlabels, colors\u001b[38;5;241m=\u001b[39mcolors,\n\u001b[0;32m   2756\u001b[0m         autopct\u001b[38;5;241m=\u001b[39mautopct, pctdistance\u001b[38;5;241m=\u001b[39mpctdistance, shadow\u001b[38;5;241m=\u001b[39mshadow,\n\u001b[0;32m   2757\u001b[0m         labeldistance\u001b[38;5;241m=\u001b[39mlabeldistance, startangle\u001b[38;5;241m=\u001b[39mstartangle,\n\u001b[0;32m   2758\u001b[0m         radius\u001b[38;5;241m=\u001b[39mradius, counterclock\u001b[38;5;241m=\u001b[39mcounterclock,\n\u001b[0;32m   2759\u001b[0m         wedgeprops\u001b[38;5;241m=\u001b[39mwedgeprops, textprops\u001b[38;5;241m=\u001b[39mtextprops, center\u001b[38;5;241m=\u001b[39mcenter,\n\u001b[0;32m   2760\u001b[0m         frame\u001b[38;5;241m=\u001b[39mframe, rotatelabels\u001b[38;5;241m=\u001b[39mrotatelabels, normalize\u001b[38;5;241m=\u001b[39mnormalize,\n\u001b[0;32m   2761\u001b[0m         \u001b[38;5;241m*\u001b[39m\u001b[38;5;241m*\u001b[39m({\u001b[38;5;124m\"\u001b[39m\u001b[38;5;124mdata\u001b[39m\u001b[38;5;124m\"\u001b[39m: data} \u001b[38;5;28;01mif\u001b[39;00m data \u001b[38;5;129;01mis\u001b[39;00m \u001b[38;5;129;01mnot\u001b[39;00m \u001b[38;5;28;01mNone\u001b[39;00m \u001b[38;5;28;01melse\u001b[39;00m {}))\n",
      "File \u001b[1;32m~\\AppData\\Local\\Programs\\Python\\Python310\\lib\\site-packages\\matplotlib\\__init__.py:1414\u001b[0m, in \u001b[0;36m_preprocess_data.<locals>.inner\u001b[1;34m(ax, data, *args, **kwargs)\u001b[0m\n\u001b[0;32m   1411\u001b[0m \u001b[38;5;129m@functools\u001b[39m\u001b[38;5;241m.\u001b[39mwraps(func)\n\u001b[0;32m   1412\u001b[0m \u001b[38;5;28;01mdef\u001b[39;00m \u001b[38;5;21minner\u001b[39m(ax, \u001b[38;5;241m*\u001b[39margs, data\u001b[38;5;241m=\u001b[39m\u001b[38;5;28;01mNone\u001b[39;00m, \u001b[38;5;241m*\u001b[39m\u001b[38;5;241m*\u001b[39mkwargs):\n\u001b[0;32m   1413\u001b[0m     \u001b[38;5;28;01mif\u001b[39;00m data \u001b[38;5;129;01mis\u001b[39;00m \u001b[38;5;28;01mNone\u001b[39;00m:\n\u001b[1;32m-> 1414\u001b[0m         \u001b[38;5;28;01mreturn\u001b[39;00m func(ax, \u001b[38;5;241m*\u001b[39m\u001b[38;5;28mmap\u001b[39m(sanitize_sequence, args), \u001b[38;5;241m*\u001b[39m\u001b[38;5;241m*\u001b[39mkwargs)\n\u001b[0;32m   1416\u001b[0m     bound \u001b[38;5;241m=\u001b[39m new_sig\u001b[38;5;241m.\u001b[39mbind(ax, \u001b[38;5;241m*\u001b[39margs, \u001b[38;5;241m*\u001b[39m\u001b[38;5;241m*\u001b[39mkwargs)\n\u001b[0;32m   1417\u001b[0m     auto_label \u001b[38;5;241m=\u001b[39m (bound\u001b[38;5;241m.\u001b[39marguments\u001b[38;5;241m.\u001b[39mget(label_namer)\n\u001b[0;32m   1418\u001b[0m                   \u001b[38;5;129;01mor\u001b[39;00m bound\u001b[38;5;241m.\u001b[39mkwargs\u001b[38;5;241m.\u001b[39mget(label_namer))\n",
      "File \u001b[1;32m~\\AppData\\Local\\Programs\\Python\\Python310\\lib\\site-packages\\matplotlib\\axes\\_axes.py:3046\u001b[0m, in \u001b[0;36mAxes.pie\u001b[1;34m(self, x, explode, labels, colors, autopct, pctdistance, shadow, labeldistance, startangle, radius, counterclock, wedgeprops, textprops, center, frame, rotatelabels, normalize)\u001b[0m\n\u001b[0;32m   3043\u001b[0m \u001b[38;5;28mself\u001b[39m\u001b[38;5;241m.\u001b[39mset_aspect(\u001b[38;5;124m'\u001b[39m\u001b[38;5;124mequal\u001b[39m\u001b[38;5;124m'\u001b[39m)\n\u001b[0;32m   3044\u001b[0m \u001b[38;5;66;03m# The use of float32 is \"historical\", but can't be changed without\u001b[39;00m\n\u001b[0;32m   3045\u001b[0m \u001b[38;5;66;03m# regenerating the test baselines.\u001b[39;00m\n\u001b[1;32m-> 3046\u001b[0m x \u001b[38;5;241m=\u001b[39m \u001b[43mnp\u001b[49m\u001b[38;5;241;43m.\u001b[39;49m\u001b[43masarray\u001b[49m\u001b[43m(\u001b[49m\u001b[43mx\u001b[49m\u001b[43m,\u001b[49m\u001b[43m \u001b[49m\u001b[43mnp\u001b[49m\u001b[38;5;241;43m.\u001b[39;49m\u001b[43mfloat32\u001b[49m\u001b[43m)\u001b[49m\n\u001b[0;32m   3047\u001b[0m \u001b[38;5;28;01mif\u001b[39;00m x\u001b[38;5;241m.\u001b[39mndim \u001b[38;5;241m>\u001b[39m \u001b[38;5;241m1\u001b[39m:\n\u001b[0;32m   3048\u001b[0m     \u001b[38;5;28;01mraise\u001b[39;00m \u001b[38;5;167;01mValueError\u001b[39;00m(\u001b[38;5;124m\"\u001b[39m\u001b[38;5;124mx must be 1D\u001b[39m\u001b[38;5;124m\"\u001b[39m)\n",
      "File \u001b[1;32m~\\AppData\\Local\\Programs\\Python\\Python310\\lib\\site-packages\\pandas\\core\\indexes\\base.py:894\u001b[0m, in \u001b[0;36mIndex.__array__\u001b[1;34m(self, dtype)\u001b[0m\n\u001b[0;32m    890\u001b[0m \u001b[38;5;28;01mdef\u001b[39;00m \u001b[38;5;21m__array__\u001b[39m(\u001b[38;5;28mself\u001b[39m, dtype\u001b[38;5;241m=\u001b[39m\u001b[38;5;28;01mNone\u001b[39;00m) \u001b[38;5;241m-\u001b[39m\u001b[38;5;241m>\u001b[39m np\u001b[38;5;241m.\u001b[39mndarray:\n\u001b[0;32m    891\u001b[0m     \u001b[38;5;124;03m\"\"\"\u001b[39;00m\n\u001b[0;32m    892\u001b[0m \u001b[38;5;124;03m    The array interface, return my values.\u001b[39;00m\n\u001b[0;32m    893\u001b[0m \u001b[38;5;124;03m    \"\"\"\u001b[39;00m\n\u001b[1;32m--> 894\u001b[0m     \u001b[38;5;28;01mreturn\u001b[39;00m \u001b[43mnp\u001b[49m\u001b[38;5;241;43m.\u001b[39;49m\u001b[43masarray\u001b[49m\u001b[43m(\u001b[49m\u001b[38;5;28;43mself\u001b[39;49m\u001b[38;5;241;43m.\u001b[39;49m\u001b[43m_data\u001b[49m\u001b[43m,\u001b[49m\u001b[43m \u001b[49m\u001b[43mdtype\u001b[49m\u001b[38;5;241;43m=\u001b[39;49m\u001b[43mdtype\u001b[49m\u001b[43m)\u001b[49m\n",
      "\u001b[1;31mValueError\u001b[0m: could not convert string to float: 'alcohol'"
     ]
    },
    {
     "data": {
      "image/png": "[encoded data removed]",
      "text/plain": [
       "<Figure size 1000x500 with 1 Axes>"
      ]
     },
     "metadata": {},
     "output_type": "display_data"
    }
   ],
   "source": [
    "import seaborn as sns\n",
    "import matplotlib.pyplot as plt\n",
    "\n",
    "\n",
    "plt.figure(figsize=(10,5))\n",
    "\n",
    "frequency = best.index\n",
    "\n",
    "label = []\n",
    "for key, value in best.to_dict().items():\n",
    "    label.append(f\"{key}: {value}\")\n",
    "\n",
    "plt.pie(frequency,\n",
    "    startangle = 180,\n",
    "    labels = dt_clf.feature_importances_,\n",
    "    colors = sns.color_palette('pastel', len(label)),\n",
    "    wedgeprops = dict(width=0.7)\n",
    "  )\n",
    "\n",
    "\n",
    "plt.axis('equal')\n",
    "plt.show()"
   ]
  },
  {
   "cell_type": "code",
   "execution_count": 8,
   "id": "95c07395-a3a5-43b3-9e63-663464f99c9b",
   "metadata": {},
   "outputs": [
    {
     "name": "stdout",
     "output_type": "stream",
     "text": [
      "Feature importances:\n",
      "\n",
      "alcohol : 0.442\n",
      "malic_acid : 0.000\n",
      "ash : 0.000\n",
      "alcalinity_of_ash : 0.000\n",
      "magnesium : 0.000\n",
      "total_phenols : 0.000\n",
      "flavanoids : 0.539\n",
      "nonflavanoid_phenols : 0.000\n",
      "proanthocyanins : 0.020\n",
      "color_intensity : 0.000\n",
      "hue : 0.000\n",
      "od280/od315_of_diluted_wines : 0.000\n",
      "proline : 0.000\n"
     ]
    },
    {
     "data": {
      "text/plain": [
       "<AxesSubplot:>"
      ]
     },
     "execution_count": 8,
     "metadata": {},
     "output_type": "execute_result"
    },
    {
     "data": {
      "image/png": "[encoded data removed]",
      "text/plain": [
       "<Figure size 640x480 with 1 Axes>"
      ]
     },
     "metadata": {},
     "output_type": "display_data"
    }
   ],
   "source": [
    "import seaborn as sns\n",
    "import numpy as np\n",
    "%matplotlib inline\n",
    "\n",
    "print('Feature importances:\\n'.format(np.round(dt_clf.feature_importances_, 3)))\n",
    "\n",
    "for name, value in zip(wine.feature_names, dt_clf.feature_importances_) :\n",
    "    print(f'{name} : {value:.3f}')\n",
    "    \n",
    "sns.barplot(x = dt_clf.feature_importances_, y = wine.feature_names)"
   ]
  },
  {
   "cell_type": "code",
   "execution_count": null,
   "id": "f15904e7-f049-405b-bee4-25e649e25ae0",
   "metadata": {},
   "outputs": [],
   "source": []
  },
  {
   "cell_type": "code",
   "execution_count": null,
   "id": "a52a7009-43f7-4e98-bb52-bbefab51343d",
   "metadata": {},
   "outputs": [],
   "source": []
  },
  {
   "cell_type": "code",
   "execution_count": null,
   "id": "8e1a4da4-760e-4897-a914-0b6d9397bd8c",
   "metadata": {},
   "outputs": [],
   "source": []
  },
  {
   "cell_type": "code",
   "execution_count": null,
   "id": "2c4a2103-1685-4cb6-bd30-f8736375bf5f",
   "metadata": {},
   "outputs": [],
   "source": []
  },
  {
   "cell_type": "code",
   "execution_count": null,
   "id": "a2f9b7fb-7c3f-4046-888c-b4b06ae72933",
   "metadata": {},
   "outputs": [],
   "source": []
  },
  {
   "cell_type": "code",
   "execution_count": 74,
   "id": "191341bb-4661-447d-b838-4f86ae42d417",
   "metadata": {},
   "outputs": [
    {
     "data": {
      "text/html": [
       "<div>\n",
       "<style scoped>\n",
       "    .dataframe tbody tr th:only-of-type {\n",
       "        vertical-align: middle;\n",
       "    }\n",
       "\n",
       "    .dataframe tbody tr th {\n",
       "        vertical-align: top;\n",
       "    }\n",
       "\n",
       "    .dataframe thead th {\n",
       "        text-align: right;\n",
       "    }\n",
       "</style>\n",
       "<table border=\"1\" class=\"dataframe\">\n",
       "  <thead>\n",
       "    <tr style=\"text-align: right;\">\n",
       "      <th></th>\n",
       "      <th>mean radius</th>\n",
       "      <th>mean texture</th>\n",
       "      <th>mean perimeter</th>\n",
       "      <th>mean area</th>\n",
       "      <th>mean smoothness</th>\n",
       "      <th>mean compactness</th>\n",
       "      <th>mean concavity</th>\n",
       "      <th>mean concave points</th>\n",
       "      <th>mean symmetry</th>\n",
       "      <th>mean fractal dimension</th>\n",
       "      <th>...</th>\n",
       "      <th>worst radius</th>\n",
       "      <th>worst texture</th>\n",
       "      <th>worst perimeter</th>\n",
       "      <th>worst area</th>\n",
       "      <th>worst smoothness</th>\n",
       "      <th>worst compactness</th>\n",
       "      <th>worst concavity</th>\n",
       "      <th>worst concave points</th>\n",
       "      <th>worst symmetry</th>\n",
       "      <th>worst fractal dimension</th>\n",
       "    </tr>\n",
       "  </thead>\n",
       "  <tbody>\n",
       "    <tr>\n",
       "      <th>0</th>\n",
       "      <td>17.99</td>\n",
       "      <td>10.38</td>\n",
       "      <td>122.8</td>\n",
       "      <td>1001.0</td>\n",
       "      <td>0.11840</td>\n",
       "      <td>0.27760</td>\n",
       "      <td>0.3001</td>\n",
       "      <td>0.14710</td>\n",
       "      <td>0.2419</td>\n",
       "      <td>0.07871</td>\n",
       "      <td>...</td>\n",
       "      <td>25.38</td>\n",
       "      <td>17.33</td>\n",
       "      <td>184.6</td>\n",
       "      <td>2019.0</td>\n",
       "      <td>0.1622</td>\n",
       "      <td>0.6656</td>\n",
       "      <td>0.7119</td>\n",
       "      <td>0.2654</td>\n",
       "      <td>0.4601</td>\n",
       "      <td>0.11890</td>\n",
       "    </tr>\n",
       "    <tr>\n",
       "      <th>1</th>\n",
       "      <td>20.57</td>\n",
       "      <td>17.77</td>\n",
       "      <td>132.9</td>\n",
       "      <td>1326.0</td>\n",
       "      <td>0.08474</td>\n",
       "      <td>0.07864</td>\n",
       "      <td>0.0869</td>\n",
       "      <td>0.07017</td>\n",
       "      <td>0.1812</td>\n",
       "      <td>0.05667</td>\n",
       "      <td>...</td>\n",
       "      <td>24.99</td>\n",
       "      <td>23.41</td>\n",
       "      <td>158.8</td>\n",
       "      <td>1956.0</td>\n",
       "      <td>0.1238</td>\n",
       "      <td>0.1866</td>\n",
       "      <td>0.2416</td>\n",
       "      <td>0.1860</td>\n",
       "      <td>0.2750</td>\n",
       "      <td>0.08902</td>\n",
       "    </tr>\n",
       "    <tr>\n",
       "      <th>2</th>\n",
       "      <td>19.69</td>\n",
       "      <td>21.25</td>\n",
       "      <td>130.0</td>\n",
       "      <td>1203.0</td>\n",
       "      <td>0.10960</td>\n",
       "      <td>0.15990</td>\n",
       "      <td>0.1974</td>\n",
       "      <td>0.12790</td>\n",
       "      <td>0.2069</td>\n",
       "      <td>0.05999</td>\n",
       "      <td>...</td>\n",
       "      <td>23.57</td>\n",
       "      <td>25.53</td>\n",
       "      <td>152.5</td>\n",
       "      <td>1709.0</td>\n",
       "      <td>0.1444</td>\n",
       "      <td>0.4245</td>\n",
       "      <td>0.4504</td>\n",
       "      <td>0.2430</td>\n",
       "      <td>0.3613</td>\n",
       "      <td>0.08758</td>\n",
       "    </tr>\n",
       "  </tbody>\n",
       "</table>\n",
       "<p>3 rows × 30 columns</p>\n",
       "</div>"
      ],
      "text/plain": [
       "   mean radius  mean texture  mean perimeter  mean area  mean smoothness  \\\n",
       "0        17.99         10.38           122.8     1001.0          0.11840   \n",
       "1        20.57         17.77           132.9     1326.0          0.08474   \n",
       "2        19.69         21.25           130.0     1203.0          0.10960   \n",
       "\n",
       "   mean compactness  mean concavity  mean concave points  mean symmetry  \\\n",
       "0           0.27760          0.3001              0.14710         0.2419   \n",
       "1           0.07864          0.0869              0.07017         0.1812   \n",
       "2           0.15990          0.1974              0.12790         0.2069   \n",
       "\n",
       "   mean fractal dimension  ...  worst radius  worst texture  worst perimeter  \\\n",
       "0                 0.07871  ...         25.38          17.33            184.6   \n",
       "1                 0.05667  ...         24.99          23.41            158.8   \n",
       "2                 0.05999  ...         23.57          25.53            152.5   \n",
       "\n",
       "   worst area  worst smoothness  worst compactness  worst concavity  \\\n",
       "0      2019.0            0.1622             0.6656           0.7119   \n",
       "1      1956.0            0.1238             0.1866           0.2416   \n",
       "2      1709.0            0.1444             0.4245           0.4504   \n",
       "\n",
       "   worst concave points  worst symmetry  worst fractal dimension  \n",
       "0                0.2654          0.4601                  0.11890  \n",
       "1                0.1860          0.2750                  0.08902  \n",
       "2                0.2430          0.3613                  0.08758  \n",
       "\n",
       "[3 rows x 30 columns]"
      ]
     },
     "execution_count": 74,
     "metadata": {},
     "output_type": "execute_result"
    }
   ],
   "source": [
    "import pandas as pd\n",
    "import numpy as np\n",
    "\n",
    "from sklearn.ensemble import VotingClassifier\n",
    "from sklearn.linear_model import LogisticRegression\n",
    "from sklearn.neighbors import KNeighborsClassifier\n",
    "from sklearn.datasets import load_breast_cancer\n",
    "from sklearn.model_selection import train_test_split\n",
    "from sklearn.metrics import accuracy_score\n",
    "\n",
    "cancer = load_breast_cancer()\n",
    "\n",
    "data_df = pd.DataFrame(cancer.data, columns = cancer.feature_names)\n",
    "data_df[:3]"
   ]
  },
  {
   "cell_type": "markdown",
   "id": "114ddfac-c205-427b-9606-059f564492da",
   "metadata": {
    "tags": []
   },
   "source": [
    "로지스틱 회귀와 KNN을 기반으로 하여 소프트 보팅 방식으로 보팅 분류기를 만들어보자. VotingClassifier 클래스를 이용하여 생성할 수 있다."
   ]
  },
  {
   "cell_type": "code",
   "execution_count": 75,
   "id": "bfe2de90-8df6-4e10-bdd7-02c5356af828",
   "metadata": {},
   "outputs": [
    {
     "name": "stdout",
     "output_type": "stream",
     "text": [
      "voting 분류기 정확도 : 0.9474\n"
     ]
    }
   ],
   "source": [
    "# 개별 모델은 로지스틱 회귀와 KNN\n",
    "lr_clf = LogisticRegression(solver = 'liblinear')\n",
    "knn_clf = KNeighborsClassifier(n_neighbors=8)\n",
    "\n",
    "# 개별 모델을 소프트 보팅 기반의 앙상블 모델로 구현한 분류기\n",
    "# voting 옵션에 hard 기입시 하드보딩 / soft 기입시 소프트 보딩\n",
    "vo_clf = VotingClassifier(estimators=[('LR', lr_clf), ('KNN', knn_clf)], voting='soft')\n",
    "\n",
    "X_train, X_test, y_train, y_test = train_test_split(cancer.data, cancer.target, test_size=0.2, random_state=11)\n",
    "\n",
    "# VotinVotingClassifier 학습/예측/평가\n",
    "vo_clf.fit(X_train, y_train)\n",
    "vo_pred = vo_clf.predict(X_test)\n",
    "print(f'voting 분류기 정확도 : {accuracy_score(y_test, vo_pred):.4f}')"
   ]
  },
  {
   "cell_type": "code",
   "execution_count": 76,
   "id": "6c48e4e5-aa49-4a78-aac7-d52a42d095cf",
   "metadata": {},
   "outputs": [
    {
     "name": "stdout",
     "output_type": "stream",
     "text": [
      "LogisticRegression 정확도 : 0.9474\n",
      "KNeighborsClassifier 정확도 : 0.9561\n"
     ]
    }
   ],
   "source": [
    "# 개별 모델의 학습/예측/평가\n",
    "classifiers = [lr_clf, knn_clf]\n",
    "for classifier in classifiers :\n",
    "    classifier.fit(X_train, y_train)\n",
    "    pred =  classifier.predict(X_test)\n",
    "    class_name = classifier.__class__.__name__\n",
    "    print(f'{class_name} 정확도 : {accuracy_score(y_test, pred):.4f}')"
   ]
  },
  {
   "cell_type": "code",
   "execution_count": 77,
   "id": "8adb5d74-3db7-4cf8-817e-c2227637541b",
   "metadata": {},
   "outputs": [
    {
     "name": "stdout",
     "output_type": "stream",
     "text": [
      "voting 분류기 정확도 : 0.9561\n"
     ]
    }
   ],
   "source": [
    "# 보통 하드 보팅보다 소프트 보팅이 좋다고 했는데 여기서도 그럴까?\n",
    "vo_clf_hard = VotingClassifier(estimators=[('LR', lr_clf), ('KNN', knn_clf)], voting='hard')\n",
    "\n",
    "vo_clf_hard.fit(X_train, y_train)\n",
    "vo_pred = vo_clf_hard.predict(X_test)\n",
    "print(f'voting 분류기 정확도 : {accuracy_score(y_test, vo_pred):.4f}')"
   ]
  },
  {
   "cell_type": "markdown",
   "id": "a12d1e21-003c-4176-9fa2-a3d89dc31595",
   "metadata": {},
   "source": [
    "엥 결과값이 `voting 분류기 정확도 : 0.9561` 으로 더 높게 나왔다. 이는 하드보팅의 경우 여러 분류기 중 가장 높은 결과값을 가져오기 때문으로 보인다. 따라서 이렇게 나온 정확도 만으로는 어느게 더 좋다 판단할 수 없는 부분인듯"
   ]
  },
  {
   "cell_type": "code",
   "execution_count": null,
   "id": "117d0c1c-0443-461c-ae21-c8f0ac9f91fd",
   "metadata": {},
   "outputs": [],
   "source": []
  },
  {
   "cell_type": "code",
   "execution_count": null,
   "id": "d9fa2bac-4e50-4af3-b66b-7d6c9d21bfa9",
   "metadata": {},
   "outputs": [],
   "source": []
  },
  {
   "cell_type": "code",
   "execution_count": 83,
   "id": "4280cd9d-d750-4203-8175-e9899cd660d4",
   "metadata": {},
   "outputs": [
    {
     "name": "stdout",
     "output_type": "stream",
     "text": [
      "RandomForest 정확도 : 0.9824561403508771\n"
     ]
    }
   ],
   "source": [
    "import pandas as pd\n",
    "import numpy as np\n",
    "\n",
    "from sklearn.ensemble import RandomForestClassifier\n",
    "from sklearn.datasets import load_breast_cancer\n",
    "from sklearn.model_selection import train_test_split\n",
    "from sklearn.metrics import accuracy_score\n",
    "\n",
    "cancer = load_breast_cancer()\n",
    "data_df = pd.DataFrame(cancer.data, columns = cancer.feature_names)\n",
    "\n",
    "X_train, X_test, y_train, y_test = train_test_split(cancer.data, cancer.target, test_size=0.2, random_state=11)\n",
    "\n",
    "# 랜덤 포레스트\n",
    "rf_clf = RandomForestClassifier(random_state = 0, max_depth=8)\n",
    "rf_clf.fit(X_train, y_train)\n",
    "pred = rf_clf.predict(X_test)\n",
    "accuracy = accuracy_score(y_test, pred)\n",
    "\n",
    "print(f'RandomForest 정확도 : {accuracy}')"
   ]
  },
  {
   "cell_type": "code",
   "execution_count": null,
   "id": "e66b5bf0-e4c2-41e0-8918-07ad6c3b2a90",
   "metadata": {},
   "outputs": [],
   "source": []
  },
  {
   "cell_type": "code",
   "execution_count": null,
   "id": "e5dfdb09-7d2f-4e82-85ae-4642c57d82c8",
   "metadata": {},
   "outputs": [],
   "source": []
  },
  {
   "cell_type": "code",
   "execution_count": 80,
   "id": "96e74216-5761-446f-a8f0-02461ce3b599",
   "metadata": {},
   "outputs": [],
   "source": [
    "# 중복된 피처명 정리\n",
    "def get_new_feature_name_df(old_feature_name_df):\n",
    "    # column_name으로 그룹지어서 cumcount()로 피처별 중복 존재시 숫자를 부여\n",
    "    # reset_index()로 column_index를 생성한다\n",
    "    feature_dup = pd.DataFrame(old_feature_name_df.groupby(\"column_name\").cumcount()).reset_index()\n",
    "\n",
    "    # features.txt의 column_index는 1부터 시작이기 때문에\n",
    "    feature_dup.columns = [\"column_index\", \"dup_cnt\"]\n",
    "    feature_dup[\"column_index\"] = feature_dup[\"column_index\"] + 1\n",
    "    \n",
    "    \n",
    "    # column_index를 기준으로 머지 후 중복컬럼명 변경\n",
    "    new_feature_name_df = pd.merge(old_feature_name_df, feature_dup, how='outer')\n",
    "    # 만약 x라는 컬럼명이 있다면 x_1, x_2와 같이 변경되도록 한다\n",
    "    new_feature_name_df['column_name'] = new_feature_name_df.apply(lambda x: x.column_name + \"_\" + str(x.dup_cnt) \\\n",
    "                                                                   if x.dup_cnt > 0 \n",
    "                                                                   else x.column_name, axis=1)\n",
    "    return new_feature_name_df \n",
    "\n",
    "def get_human_dataset( ):\n",
    "    \n",
    "    # 각 데이터 파일들은 공백으로 분리되어 있으므로 read_csv에서 공백 문자를 sep으로 할당.\n",
    "    feature_name_df = pd.read_csv('./UCI HAR Dataset/UCI HAR Dataset/features.txt',sep='\\s+',\n",
    "                        header=None,names=['column_index','column_name'])\n",
    "    \n",
    "    # 중복된 피처명을 수정하는 get_new_feature_name_df()를 이용, 신규 피처명 DataFrame생성. \n",
    "    new_feature_name_df = get_new_feature_name_df(feature_name_df)\n",
    "    \n",
    "    # DataFrame에 피처명을 컬럼으로 부여하기 위해 리스트 객체로 다시 변환\n",
    "    feature_name = new_feature_name_df.iloc[:, 1].values.tolist()\n",
    "    \n",
    "    # 학습 피처 데이터 셋과 테스트 피처 데이터을 DataFrame으로 로딩. 컬럼명은 feature_name 적용\n",
    "    X_train = pd.read_csv('./UCI HAR Dataset/UCI HAR Dataset/train/X_train.txt',sep='\\s+', names=feature_name )\n",
    "    X_test = pd.read_csv('./UCI HAR Dataset/UCI HAR Dataset/test/X_test.txt',sep='\\s+', names=feature_name)\n",
    "    \n",
    "    # 학습 레이블과 테스트 레이블 데이터을 DataFrame으로 로딩하고 컬럼명은 action으로 부여\n",
    "    y_train = pd.read_csv('./UCI HAR Dataset/UCI HAR Dataset/train/y_train.txt',sep='\\s+',header=None,names=['action'])\n",
    "    y_test = pd.read_csv('./UCI HAR Dataset/UCI HAR Dataset/test/y_test.txt',sep='\\s+',header=None,names=['action'])\n",
    "    \n",
    "    # 로드된 학습/테스트용 DataFrame을 모두 반환 \n",
    "    return X_train, X_test, y_train, y_test"
   ]
  },
  {
   "cell_type": "code",
   "execution_count": 81,
   "id": "29154b72-630b-42e7-b624-c98200a681fc",
   "metadata": {},
   "outputs": [
    {
     "name": "stdout",
     "output_type": "stream",
     "text": [
      "RandomForest 정확도 : 0.9195792331184255\n"
     ]
    }
   ],
   "source": [
    "from sklearn.ensemble import RandomForestClassifier\n",
    "from sklearn.metrics import accuracy_score\n",
    "\n",
    "# 경고메시지 무시하고 싶을때, 다시 켜고 싶다면 'default'\n",
    "import warnings\n",
    "warnings.filterwarnings('ignore')\n",
    "\n",
    "# 결정 트리에서 사용한 get_get_human_dataset()를 이용해 학습/테스트용 DataFrame 반환\n",
    "X_train, X_test, y_train, y_test = get_human_dataset()\n",
    "\n",
    "# 랜덤 포레스트 학습 및 별도의 테스트 세트로 예측 성능 평가\n",
    "rf_clf = RandomForestClassifier(random_state = 0, max_depth=8)\n",
    "rf_clf.fit(X_train, y_train)\n",
    "pred = rf_clf.predict(X_test)\n",
    "accuracy = accuracy_score(y_test, pred)\n",
    "\n",
    "print(f'RandomForest 정확도 : {accuracy}')\n",
    "# RandomForest 정확도 : 0.9195792331184255"
   ]
  },
  {
   "cell_type": "code",
   "execution_count": null,
   "id": "67209d44-c8f9-4282-bf6a-db0b29bc3f15",
   "metadata": {},
   "outputs": [],
   "source": []
  },
  {
   "cell_type": "code",
   "execution_count": null,
   "id": "f41da942-ffaa-4322-8e3e-a3d5d8381e60",
   "metadata": {},
   "outputs": [],
   "source": []
  },
  {
   "cell_type": "code",
   "execution_count": 88,
   "id": "062179d6-e893-4faa-872a-07c78e661dcc",
   "metadata": {},
   "outputs": [
    {
     "name": "stdout",
     "output_type": "stream",
     "text": [
      "최적 하이퍼 파라미터 :\n",
      "{'max_depth': 8, 'min_samples_leaf': 1, 'min_samples_split': 2}\n",
      "최고 예측 정확도 :\n",
      "0.9560244222892031\n"
     ]
    }
   ],
   "source": [
    "from sklearn.model_selection import GridSearchCV\n",
    "\n",
    "params = {\n",
    "    'max_depth' : [8, 16, 24],\n",
    "    'min_samples_leaf' : [1, 6, 12],\n",
    "    'min_samples_split' : [2, 8, 16]\n",
    "    }\n",
    "\n",
    "# RandomForestClassifier 객체 생성\n",
    "# n_estimators = 생성할 결정트리의 갯수.\n",
    "rf_clf = RandomForestClassifier(n_estimators=50, random_state=0, n_jobs=-1)\n",
    "\n",
    "# GridSearchCV 생성\n",
    "grid_cv = GridSearchCV(rf_clf, param_grid = params, cv = 2, n_jobs = -1)\n",
    "grid_cv.fit(X_train, y_train)\n",
    "\n",
    "print(f'최적 하이퍼 파라미터 :\\n{grid_cv.best_params_}')\n",
    "print(f'최고 예측 정확도 :\\n{grid_cv.best_score_}')\n",
    "\n",
    "\n",
    "# n_estimators = 100 일때\n",
    "# 최적 하이퍼 파라미터 :\n",
    "# {'max_depth': 8, 'min_samples_leaf': 1, 'min_samples_split': 2}\n",
    "# 최고 예측 정확도 :\n",
    "# 0.9560244222892031"
   ]
  },
  {
   "cell_type": "code",
   "execution_count": 90,
   "id": "83696e0a-4c3f-4867-8a86-0a4073c46c59",
   "metadata": {},
   "outputs": [
    {
     "name": "stdout",
     "output_type": "stream",
     "text": [
      "예측 정확도 : 0.9824561403508771\n"
     ]
    }
   ],
   "source": [
    "rf_clf1 = RandomForestClassifier(n_estimators=100, min_samples_leaf=1, max_depth=6, min_samples_split=2, random_state=0)\n",
    "rf_clf1.fit(X_train, y_train)\n",
    "pred = rf_clf1.predict(X_test)\n",
    "print(f'예측 정확도 : {accuracy_score(y_test, pred)}')\n",
    "\n",
    "# 예측 정확도 : 0.9824561403508771"
   ]
  },
  {
   "cell_type": "code",
   "execution_count": 97,
   "id": "0dcfa5b3-4cd6-4e29-8a95-34373a41fdb0",
   "metadata": {},
   "outputs": [],
   "source": [
    "from sklearn.ensemble import GradientBoostingClassifier\n",
    "import time\n",
    "\n",
    "# 사용자 정의 함수 get_human_dataset()을 이용해 데이터 가져오기\n",
    "X_train, X_test, y_train, y_test = get_human_dataset()\n",
    "\n",
    "# GBM 수행시간 측정을 위함. 시작시간 설정\n",
    "start_time = time.time()\n",
    "\n",
    "# 학습 및 예측\n",
    "gb_clf = GradientBoostingClassifier(random_state=0)\n",
    "gb_clf.fit(X_train, y_train)\n",
    "pred = gb_clf.predict(X_test)"
   ]
  },
  {
   "cell_type": "code",
   "execution_count": 101,
   "id": "2fdf4a9e-10ff-45a9-b57d-1726aa634401",
   "metadata": {},
   "outputs": [
    {
     "name": "stdout",
     "output_type": "stream",
     "text": [
      "정확도 : 0.9389209365456397\n",
      "수행시간 : 1144.8965108394623\n"
     ]
    }
   ],
   "source": [
    "print(f'정확도 : {accuracy_score(y_test, pred)}')\n",
    "print(f'수행시간 : {time.time() - start_time}')"
   ]
  },
  {
   "cell_type": "code",
   "execution_count": 151,
   "id": "73808077-dcd2-4922-95b3-6429501bd532",
   "metadata": {
    "tags": []
   },
   "outputs": [
    {
     "data": {
      "text/plain": [
       "worst perimeter            0.172372\n",
       "worst radius               0.113298\n",
       "mean concave points        0.087370\n",
       "worst area                 0.086899\n",
       "worst concave points       0.084124\n",
       "mean perimeter             0.079804\n",
       "mean concavity             0.059255\n",
       "area error                 0.052285\n",
       "mean area                  0.038816\n",
       "worst concavity            0.027484\n",
       "radius error               0.026148\n",
       "mean radius                0.025458\n",
       "worst texture              0.020172\n",
       "perimeter error            0.019891\n",
       "mean texture               0.015773\n",
       "worst smoothness           0.013333\n",
       "worst fractal dimension    0.011248\n",
       "worst compactness          0.009950\n",
       "worst symmetry             0.008632\n",
       "mean smoothness            0.006465\n",
       "dtype: float64"
      ]
     },
     "execution_count": 151,
     "metadata": {},
     "output_type": "execute_result"
    }
   ],
   "source": [
    "import matplotlib.pyplot as plt\n",
    "import seaborn as sns\n",
    "\n",
    "# 피처별 중요도 상위 20개 뽑기\n",
    "# 중요도를 변수에 담아주고\n",
    "ftr_importance_values = rf_clf1.feature_importances_\n",
    "# 중요도와 컬럼명을 변수에 담아줌\n",
    "ftr_importances = pd.Series(ftr_importances_values, index = X_train.columns)\n",
    "# 값으로 sorting하여 20개 자르기\n",
    "ftr_top20 = ftr_importances.sort_values(ascending = False)[:20]\n",
    "\n",
    "ftr_top20"
   ]
  },
  {
   "cell_type": "code",
   "execution_count": 152,
   "id": "f0d3715a-0466-4f19-bc32-fce348ac2391",
   "metadata": {},
   "outputs": [
    {
     "data": {
      "image/png": "[encoded data removed]",
      "text/plain": [
       "<Figure size 800x600 with 1 Axes>"
      ]
     },
     "metadata": {},
     "output_type": "display_data"
    }
   ],
   "source": [
    "plt.figure(figsize=(8, 6))\n",
    "plt.title('Feature imporances Top 20')\n",
    "sns.barplot(x = ftr_top20, y=ftr_top20.index)\n",
    "plt.show()"
   ]
  },
  {
   "cell_type": "code",
   "execution_count": null,
   "id": "45adc510-4a76-403d-9565-bcfb3b8fe91a",
   "metadata": {},
   "outputs": [],
   "source": [
    "\n"
   ]
  },
  {
   "cell_type": "code",
   "execution_count": 155,
   "id": "1bb864f3-e51a-4c6e-a5ee-5a7f751fdc31",
   "metadata": {},
   "outputs": [
    {
     "name": "stdout",
     "output_type": "stream",
     "text": [
      "Fitting 2 folds for each of 4 candidates, totalling 8 fits\n",
      "최고 예측 정확도:0.9451\n",
      "최적 하이퍼 파라미터:\n",
      "{'learning_rate': 0.05, 'n_estimators': 500}\n",
      "\n",
      "CPU times: total: 5.3 s\n",
      "Wall time: 5.35 s\n"
     ]
    }
   ],
   "source": [
    "%%time\n",
    "from sklearn.model_selection import GridSearchCV\n",
    "\n",
    "params = {\"n_estimators\": [100, 500], \"learning_rate\": [0.05, 0.1]}\n",
    "\n",
    "# GBM 객체 생성 후 GridSearchCV\n",
    "gb_clf = GradientBoostingClassifier(random_state=0)\n",
    "grid_cv2 = GridSearchCV(gb_clf, param_grid = params, cv=2, verbose=1)\n",
    "\n",
    "grid_cv2.fit(X_train, y_train)\n",
    "\n",
    "print(f\"최고 예측 정확도:{grid_cv2.best_score_:.4f}\")\n",
    "print(f\"최적 하이퍼 파라미터:\\n{grid_cv2.best_params_}\")\n",
    "print()"
   ]
  },
  {
   "cell_type": "code",
   "execution_count": 169,
   "id": "ea095bc0-060c-456f-9393-d7ff497465be",
   "metadata": {
    "tags": []
   },
   "outputs": [
    {
     "name": "stdout",
     "output_type": "stream",
     "text": [
      "최고 예측 정확도:0.9516\n",
      "최적 하이퍼 파라미터:\n",
      "{'n_estimators': 100}\n",
      "\n",
      "CPU times: total: 266 ms\n",
      "Wall time: 3.45 s\n"
     ]
    }
   ],
   "source": [
    "%%time\n",
    "from sklearn.ensemble import RandomForestClassifier\n",
    "\n",
    "\n",
    "params = {\"n_estimators\": [100, 500]}\n",
    "\n",
    "rf_clf = RandomForestClassifier(random_state=0, n_jobs=-1)\n",
    "grid_cv2 = GridSearchCV(rf_clf, param_grid = params, cv = 2, n_jobs = -1)\n",
    "\n",
    "grid_cv2.fit(X_train, y_train)\n",
    "\n",
    "print(f\"최고 예측 정확도:{grid_cv2.best_score_:.4f}\")\n",
    "print(f\"최적 하이퍼 파라미터:\\n{grid_cv2.best_params_}\")\n",
    "print()"
   ]
  },
  {
   "cell_type": "code",
   "execution_count": 106,
   "id": "9b2fafe8-2657-41c7-b8ad-931818378d91",
   "metadata": {},
   "outputs": [
    {
     "name": "stdout",
     "output_type": "stream",
     "text": [
      "Collecting xgboost"
     ]
    },
    {
     "name": "stderr",
     "output_type": "stream",
     "text": [
      "\n",
      "[notice] A new release of pip available: 22.2.1 -> 22.2.2\n",
      "[notice] To update, run: python.exe -m pip install --upgrade pip\n"
     ]
    },
    {
     "name": "stdout",
     "output_type": "stream",
     "text": [
      "\n",
      "  Downloading xgboost-1.6.2-py3-none-win_amd64.whl (125.4 MB)\n",
      "     -------------------------------------- 125.4/125.4 MB 2.8 MB/s eta 0:00:00\n",
      "Requirement already satisfied: numpy in c:\\users\\admin\\appdata\\local\\programs\\python\\python310\\lib\\site-packages (from xgboost) (1.23.2)\n",
      "Requirement already satisfied: scipy in c:\\users\\admin\\appdata\\local\\programs\\python\\python310\\lib\\site-packages (from xgboost) (1.9.1)\n",
      "Installing collected packages: xgboost\n",
      "Successfully installed xgboost-1.6.2\n"
     ]
    }
   ],
   "source": [
    "!pip install xgboost"
   ]
  },
  {
   "cell_type": "code",
   "execution_count": 109,
   "id": "395f1c5f-7c23-44f2-a3a3-bf00653805de",
   "metadata": {},
   "outputs": [
    {
     "name": "stdout",
     "output_type": "stream",
     "text": [
      "1.6.2\n"
     ]
    }
   ],
   "source": [
    "import xgboost\n",
    "\n",
    "print(xgboost.__version__)"
   ]
  },
  {
   "cell_type": "code",
   "execution_count": 111,
   "id": "bb7affa6-a3c1-4a36-abe7-cfe10b470ad9",
   "metadata": {},
   "outputs": [
    {
     "data": {
      "text/html": [
       "<div>\n",
       "<style scoped>\n",
       "    .dataframe tbody tr th:only-of-type {\n",
       "        vertical-align: middle;\n",
       "    }\n",
       "\n",
       "    .dataframe tbody tr th {\n",
       "        vertical-align: top;\n",
       "    }\n",
       "\n",
       "    .dataframe thead th {\n",
       "        text-align: right;\n",
       "    }\n",
       "</style>\n",
       "<table border=\"1\" class=\"dataframe\">\n",
       "  <thead>\n",
       "    <tr style=\"text-align: right;\">\n",
       "      <th></th>\n",
       "      <th>mean radius</th>\n",
       "      <th>mean texture</th>\n",
       "      <th>mean perimeter</th>\n",
       "      <th>mean area</th>\n",
       "      <th>mean smoothness</th>\n",
       "      <th>mean compactness</th>\n",
       "      <th>mean concavity</th>\n",
       "      <th>mean concave points</th>\n",
       "      <th>mean symmetry</th>\n",
       "      <th>mean fractal dimension</th>\n",
       "      <th>...</th>\n",
       "      <th>worst texture</th>\n",
       "      <th>worst perimeter</th>\n",
       "      <th>worst area</th>\n",
       "      <th>worst smoothness</th>\n",
       "      <th>worst compactness</th>\n",
       "      <th>worst concavity</th>\n",
       "      <th>worst concave points</th>\n",
       "      <th>worst symmetry</th>\n",
       "      <th>worst fractal dimension</th>\n",
       "      <th>target</th>\n",
       "    </tr>\n",
       "  </thead>\n",
       "  <tbody>\n",
       "    <tr>\n",
       "      <th>0</th>\n",
       "      <td>17.99</td>\n",
       "      <td>10.38</td>\n",
       "      <td>122.8</td>\n",
       "      <td>1001.0</td>\n",
       "      <td>0.11840</td>\n",
       "      <td>0.27760</td>\n",
       "      <td>0.3001</td>\n",
       "      <td>0.14710</td>\n",
       "      <td>0.2419</td>\n",
       "      <td>0.07871</td>\n",
       "      <td>...</td>\n",
       "      <td>17.33</td>\n",
       "      <td>184.6</td>\n",
       "      <td>2019.0</td>\n",
       "      <td>0.1622</td>\n",
       "      <td>0.6656</td>\n",
       "      <td>0.7119</td>\n",
       "      <td>0.2654</td>\n",
       "      <td>0.4601</td>\n",
       "      <td>0.11890</td>\n",
       "      <td>0</td>\n",
       "    </tr>\n",
       "    <tr>\n",
       "      <th>1</th>\n",
       "      <td>20.57</td>\n",
       "      <td>17.77</td>\n",
       "      <td>132.9</td>\n",
       "      <td>1326.0</td>\n",
       "      <td>0.08474</td>\n",
       "      <td>0.07864</td>\n",
       "      <td>0.0869</td>\n",
       "      <td>0.07017</td>\n",
       "      <td>0.1812</td>\n",
       "      <td>0.05667</td>\n",
       "      <td>...</td>\n",
       "      <td>23.41</td>\n",
       "      <td>158.8</td>\n",
       "      <td>1956.0</td>\n",
       "      <td>0.1238</td>\n",
       "      <td>0.1866</td>\n",
       "      <td>0.2416</td>\n",
       "      <td>0.1860</td>\n",
       "      <td>0.2750</td>\n",
       "      <td>0.08902</td>\n",
       "      <td>0</td>\n",
       "    </tr>\n",
       "    <tr>\n",
       "      <th>2</th>\n",
       "      <td>19.69</td>\n",
       "      <td>21.25</td>\n",
       "      <td>130.0</td>\n",
       "      <td>1203.0</td>\n",
       "      <td>0.10960</td>\n",
       "      <td>0.15990</td>\n",
       "      <td>0.1974</td>\n",
       "      <td>0.12790</td>\n",
       "      <td>0.2069</td>\n",
       "      <td>0.05999</td>\n",
       "      <td>...</td>\n",
       "      <td>25.53</td>\n",
       "      <td>152.5</td>\n",
       "      <td>1709.0</td>\n",
       "      <td>0.1444</td>\n",
       "      <td>0.4245</td>\n",
       "      <td>0.4504</td>\n",
       "      <td>0.2430</td>\n",
       "      <td>0.3613</td>\n",
       "      <td>0.08758</td>\n",
       "      <td>0</td>\n",
       "    </tr>\n",
       "  </tbody>\n",
       "</table>\n",
       "<p>3 rows × 31 columns</p>\n",
       "</div>"
      ],
      "text/plain": [
       "   mean radius  mean texture  mean perimeter  mean area  mean smoothness  \\\n",
       "0        17.99         10.38           122.8     1001.0          0.11840   \n",
       "1        20.57         17.77           132.9     1326.0          0.08474   \n",
       "2        19.69         21.25           130.0     1203.0          0.10960   \n",
       "\n",
       "   mean compactness  mean concavity  mean concave points  mean symmetry  \\\n",
       "0           0.27760          0.3001              0.14710         0.2419   \n",
       "1           0.07864          0.0869              0.07017         0.1812   \n",
       "2           0.15990          0.1974              0.12790         0.2069   \n",
       "\n",
       "   mean fractal dimension  ...  worst texture  worst perimeter  worst area  \\\n",
       "0                 0.07871  ...          17.33            184.6      2019.0   \n",
       "1                 0.05667  ...          23.41            158.8      1956.0   \n",
       "2                 0.05999  ...          25.53            152.5      1709.0   \n",
       "\n",
       "   worst smoothness  worst compactness  worst concavity  worst concave points  \\\n",
       "0            0.1622             0.6656           0.7119                0.2654   \n",
       "1            0.1238             0.1866           0.2416                0.1860   \n",
       "2            0.1444             0.4245           0.4504                0.2430   \n",
       "\n",
       "   worst symmetry  worst fractal dimension  target  \n",
       "0          0.4601                  0.11890       0  \n",
       "1          0.2750                  0.08902       0  \n",
       "2          0.3613                  0.08758       0  \n",
       "\n",
       "[3 rows x 31 columns]"
      ]
     },
     "execution_count": 111,
     "metadata": {},
     "output_type": "execute_result"
    }
   ],
   "source": [
    "import xgboost as xgb\n",
    "from xgboost import plot_importance\n",
    "import pandas as pd\n",
    "import numpy as np\n",
    "from sklearn.datasets import load_breast_cancer\n",
    "from sklearn.model_selection import train_test_split\n",
    "import warnings\n",
    "warnings.filterwarnings('ignore')\n",
    "\n",
    "dataset = load_breast_cancer()\n",
    "features = dataset.data\n",
    "labels = dataset.target\n",
    "cancer_df = pd.DataFrame(data = features, columns = dataset.feature_names)\n",
    "cancer_df['target'] = labels\n",
    "cancer_df[:3]"
   ]
  },
  {
   "cell_type": "code",
   "execution_count": 112,
   "id": "4d45ea82-fe69-4878-85fb-0944b2ddc0c7",
   "metadata": {},
   "outputs": [],
   "source": [
    "X_features = cancer_df.iloc[:, :-1]\n",
    "y_label = cancer_df.iloc[:, -1]\n",
    "\n",
    "X_train, X_test, y_train, y_test = train_test_split(X_features, y_label, test_size=0.2)\n",
    "\n",
    "X_tr, X_val, y_tr, y_val = train_test_split(X_train, y_train, test_size=0.1, random_state=156)"
   ]
  },
  {
   "cell_type": "code",
   "execution_count": 113,
   "id": "bd073635-48c0-488d-9a22-361c801359b7",
   "metadata": {},
   "outputs": [],
   "source": [
    "dtr = xgb.DMatrix(data = X_tr, label = y_tr)\n",
    "dval = xgb.DMatrix(data = X_val, label = y_val)\n",
    "dtest = xgb.DMatrix(data = X_test, label = y_test)"
   ]
  },
  {
   "cell_type": "code",
   "execution_count": 114,
   "id": "c1654401-f607-4b1e-9a41-958105e17fcc",
   "metadata": {},
   "outputs": [],
   "source": [
    "params = {\n",
    "    'max_depth' : 3,\n",
    "    'eta' : 0.05,\n",
    "    'objective' : 'binary:logistic',\n",
    "    'eval_metric' : 'logloss'\n",
    "    }\n",
    "num_rounds = 400"
   ]
  },
  {
   "cell_type": "code",
   "execution_count": 116,
   "id": "026100de-3758-41ac-895b-9a037ae85e29",
   "metadata": {},
   "outputs": [
    {
     "name": "stdout",
     "output_type": "stream",
     "text": [
      "[0]\ttrain-logloss:0.65114\teval-logloss:0.65415\n",
      "[1]\ttrain-logloss:0.61311\teval-logloss:0.61886\n",
      "[2]\ttrain-logloss:0.57846\teval-logloss:0.58680\n",
      "[3]\ttrain-logloss:0.54676\teval-logloss:0.55651\n",
      "[4]\ttrain-logloss:0.51768\teval-logloss:0.52982\n",
      "[5]\ttrain-logloss:0.49092\teval-logloss:0.50536\n",
      "[6]\ttrain-logloss:0.46617\teval-logloss:0.48088\n",
      "[7]\ttrain-logloss:0.44263\teval-logloss:0.45904\n",
      "[8]\ttrain-logloss:0.42084\teval-logloss:0.43889\n",
      "[9]\ttrain-logloss:0.39976\teval-logloss:0.42088\n",
      "[10]\ttrain-logloss:0.38091\teval-logloss:0.40527\n",
      "[11]\ttrain-logloss:0.36361\teval-logloss:0.38912\n",
      "[12]\ttrain-logloss:0.34646\teval-logloss:0.37279\n",
      "[13]\ttrain-logloss:0.33044\teval-logloss:0.35826\n",
      "[14]\ttrain-logloss:0.31468\teval-logloss:0.34599\n",
      "[15]\ttrain-logloss:0.29995\teval-logloss:0.33472\n",
      "[16]\ttrain-logloss:0.28673\teval-logloss:0.32439\n",
      "[17]\ttrain-logloss:0.27438\teval-logloss:0.31285\n",
      "[18]\ttrain-logloss:0.26214\teval-logloss:0.30401\n",
      "[19]\ttrain-logloss:0.25065\teval-logloss:0.29591\n",
      "[20]\ttrain-logloss:0.24041\teval-logloss:0.28722\n",
      "[21]\ttrain-logloss:0.23020\teval-logloss:0.28034\n",
      "[22]\ttrain-logloss:0.22060\teval-logloss:0.27360\n",
      "[23]\ttrain-logloss:0.21240\teval-logloss:0.26689\n",
      "[24]\ttrain-logloss:0.20380\teval-logloss:0.26154\n",
      "[25]\ttrain-logloss:0.19580\teval-logloss:0.25459\n",
      "[26]\ttrain-logloss:0.18811\teval-logloss:0.24967\n",
      "[27]\ttrain-logloss:0.18114\teval-logloss:0.24368\n",
      "[28]\ttrain-logloss:0.17425\teval-logloss:0.23953\n",
      "[29]\ttrain-logloss:0.16778\teval-logloss:0.23299\n",
      "[30]\ttrain-logloss:0.16188\teval-logloss:0.22815\n",
      "[31]\ttrain-logloss:0.15601\teval-logloss:0.22529\n",
      "[32]\ttrain-logloss:0.15047\teval-logloss:0.22275\n",
      "[33]\ttrain-logloss:0.14521\teval-logloss:0.21836\n",
      "[34]\ttrain-logloss:0.14046\teval-logloss:0.21522\n",
      "[35]\ttrain-logloss:0.13572\teval-logloss:0.21311\n",
      "[36]\ttrain-logloss:0.13130\teval-logloss:0.20874\n",
      "[37]\ttrain-logloss:0.12689\teval-logloss:0.20698\n",
      "[38]\ttrain-logloss:0.12262\teval-logloss:0.20237\n",
      "[39]\ttrain-logloss:0.11867\teval-logloss:0.19874\n",
      "[40]\ttrain-logloss:0.11495\teval-logloss:0.19557\n",
      "[41]\ttrain-logloss:0.11112\teval-logloss:0.19411\n",
      "[42]\ttrain-logloss:0.10776\teval-logloss:0.19127\n",
      "[43]\ttrain-logloss:0.10438\teval-logloss:0.18768\n",
      "[44]\ttrain-logloss:0.10124\teval-logloss:0.18705\n",
      "[45]\ttrain-logloss:0.09822\teval-logloss:0.18389\n",
      "[46]\ttrain-logloss:0.09512\teval-logloss:0.18242\n",
      "[47]\ttrain-logloss:0.09234\teval-logloss:0.18229\n",
      "[48]\ttrain-logloss:0.08979\teval-logloss:0.17989\n",
      "[49]\ttrain-logloss:0.08708\teval-logloss:0.17877\n",
      "[50]\ttrain-logloss:0.08458\teval-logloss:0.17804\n",
      "[51]\ttrain-logloss:0.08221\teval-logloss:0.17744\n",
      "[52]\ttrain-logloss:0.08001\teval-logloss:0.17531\n",
      "[53]\ttrain-logloss:0.07785\teval-logloss:0.17295\n",
      "[54]\ttrain-logloss:0.07571\teval-logloss:0.17332\n",
      "[55]\ttrain-logloss:0.07377\teval-logloss:0.17163\n",
      "[56]\ttrain-logloss:0.07186\teval-logloss:0.17219\n",
      "[57]\ttrain-logloss:0.07006\teval-logloss:0.17039\n",
      "[58]\ttrain-logloss:0.06814\teval-logloss:0.17040\n",
      "[59]\ttrain-logloss:0.06646\teval-logloss:0.17022\n",
      "[60]\ttrain-logloss:0.06489\teval-logloss:0.16896\n",
      "[61]\ttrain-logloss:0.06344\teval-logloss:0.16931\n",
      "[62]\ttrain-logloss:0.06197\teval-logloss:0.16833\n",
      "[63]\ttrain-logloss:0.06046\teval-logloss:0.16827\n",
      "[64]\ttrain-logloss:0.05903\teval-logloss:0.16924\n",
      "[65]\ttrain-logloss:0.05749\teval-logloss:0.16792\n",
      "[66]\ttrain-logloss:0.05624\teval-logloss:0.16687\n",
      "[67]\ttrain-logloss:0.05491\teval-logloss:0.16735\n",
      "[68]\ttrain-logloss:0.05365\teval-logloss:0.16798\n",
      "[69]\ttrain-logloss:0.05232\teval-logloss:0.16688\n",
      "[70]\ttrain-logloss:0.05119\teval-logloss:0.16674\n",
      "[71]\ttrain-logloss:0.05014\teval-logloss:0.16596\n",
      "[72]\ttrain-logloss:0.04907\teval-logloss:0.16682\n",
      "[73]\ttrain-logloss:0.04793\teval-logloss:0.16588\n",
      "[74]\ttrain-logloss:0.04713\teval-logloss:0.16640\n",
      "[75]\ttrain-logloss:0.04615\teval-logloss:0.16740\n",
      "[76]\ttrain-logloss:0.04524\teval-logloss:0.16861\n",
      "[77]\ttrain-logloss:0.04420\teval-logloss:0.16852\n",
      "[78]\ttrain-logloss:0.04329\teval-logloss:0.16787\n",
      "[79]\ttrain-logloss:0.04243\teval-logloss:0.16727\n",
      "[80]\ttrain-logloss:0.04164\teval-logloss:0.16858\n",
      "[81]\ttrain-logloss:0.04071\teval-logloss:0.16859\n",
      "[82]\ttrain-logloss:0.03994\teval-logloss:0.16807\n",
      "[83]\ttrain-logloss:0.03914\teval-logloss:0.16866\n",
      "[84]\ttrain-logloss:0.03843\teval-logloss:0.16968\n",
      "[85]\ttrain-logloss:0.03780\teval-logloss:0.16908\n",
      "[86]\ttrain-logloss:0.03705\teval-logloss:0.16841\n",
      "[87]\ttrain-logloss:0.03640\teval-logloss:0.16944\n",
      "[88]\ttrain-logloss:0.03572\teval-logloss:0.16930\n",
      "[89]\ttrain-logloss:0.03512\teval-logloss:0.17036\n",
      "[90]\ttrain-logloss:0.03455\teval-logloss:0.16979\n",
      "[91]\ttrain-logloss:0.03397\teval-logloss:0.17073\n",
      "[92]\ttrain-logloss:0.03340\teval-logloss:0.17039\n",
      "[93]\ttrain-logloss:0.03287\teval-logloss:0.17146\n",
      "[94]\ttrain-logloss:0.03232\teval-logloss:0.17037\n",
      "[95]\ttrain-logloss:0.03182\teval-logloss:0.16927\n",
      "[96]\ttrain-logloss:0.03133\teval-logloss:0.16908\n",
      "[97]\ttrain-logloss:0.03084\teval-logloss:0.16899\n",
      "[98]\ttrain-logloss:0.03029\teval-logloss:0.16923\n",
      "[99]\ttrain-logloss:0.02983\teval-logloss:0.16877\n",
      "[100]\ttrain-logloss:0.02938\teval-logloss:0.16951\n",
      "[101]\ttrain-logloss:0.02892\teval-logloss:0.17002\n",
      "[102]\ttrain-logloss:0.02846\teval-logloss:0.16906\n",
      "[103]\ttrain-logloss:0.02804\teval-logloss:0.16941\n",
      "[104]\ttrain-logloss:0.02764\teval-logloss:0.17045\n",
      "[105]\ttrain-logloss:0.02731\teval-logloss:0.17019\n",
      "[106]\ttrain-logloss:0.02691\teval-logloss:0.17051\n",
      "[107]\ttrain-logloss:0.02653\teval-logloss:0.17088\n",
      "[108]\ttrain-logloss:0.02621\teval-logloss:0.17044\n",
      "[109]\ttrain-logloss:0.02586\teval-logloss:0.17150\n",
      "[110]\ttrain-logloss:0.02548\teval-logloss:0.17267\n",
      "[111]\ttrain-logloss:0.02520\teval-logloss:0.17245\n",
      "[112]\ttrain-logloss:0.02486\teval-logloss:0.17209\n",
      "[113]\ttrain-logloss:0.02453\teval-logloss:0.17322\n",
      "[114]\ttrain-logloss:0.02419\teval-logloss:0.17358\n",
      "[115]\ttrain-logloss:0.02388\teval-logloss:0.17235\n",
      "[116]\ttrain-logloss:0.02358\teval-logloss:0.17338\n",
      "[117]\ttrain-logloss:0.02328\teval-logloss:0.17219\n",
      "[118]\ttrain-logloss:0.02298\teval-logloss:0.17190\n",
      "[119]\ttrain-logloss:0.02267\teval-logloss:0.17303\n",
      "[120]\ttrain-logloss:0.02240\teval-logloss:0.17322\n",
      "[121]\ttrain-logloss:0.02217\teval-logloss:0.17303\n",
      "[122]\ttrain-logloss:0.02187\teval-logloss:0.17324\n"
     ]
    }
   ],
   "source": [
    "eval_list = [(dtr, 'train'), (dval, 'eval')]\n",
    "\n",
    "xgb_model = xgb.train(params= params, dtrain = dtr, num_boost_round = num_rounds, early_stopping_rounds = 50, evals=eval_list)"
   ]
  },
  {
   "cell_type": "code",
   "execution_count": null,
   "id": "80522cf6-12f4-492e-958f-5298b28a27bb",
   "metadata": {},
   "outputs": [],
   "source": []
  },
  {
   "cell_type": "code",
   "execution_count": 121,
   "id": "0b8ec2fd-fcd8-4b53-829f-ff81164567b9",
   "metadata": {},
   "outputs": [
    {
     "data": {
      "text/html": [
       "<div>\n",
       "<style scoped>\n",
       "    .dataframe tbody tr th:only-of-type {\n",
       "        vertical-align: middle;\n",
       "    }\n",
       "\n",
       "    .dataframe tbody tr th {\n",
       "        vertical-align: top;\n",
       "    }\n",
       "\n",
       "    .dataframe thead th {\n",
       "        text-align: right;\n",
       "    }\n",
       "</style>\n",
       "<table border=\"1\" class=\"dataframe\">\n",
       "  <thead>\n",
       "    <tr style=\"text-align: right;\">\n",
       "      <th></th>\n",
       "      <th>mean radius</th>\n",
       "      <th>mean texture</th>\n",
       "      <th>mean perimeter</th>\n",
       "      <th>mean area</th>\n",
       "      <th>mean smoothness</th>\n",
       "      <th>mean compactness</th>\n",
       "      <th>mean concavity</th>\n",
       "      <th>mean concave points</th>\n",
       "      <th>mean symmetry</th>\n",
       "      <th>mean fractal dimension</th>\n",
       "      <th>...</th>\n",
       "      <th>worst texture</th>\n",
       "      <th>worst perimeter</th>\n",
       "      <th>worst area</th>\n",
       "      <th>worst smoothness</th>\n",
       "      <th>worst compactness</th>\n",
       "      <th>worst concavity</th>\n",
       "      <th>worst concave points</th>\n",
       "      <th>worst symmetry</th>\n",
       "      <th>worst fractal dimension</th>\n",
       "      <th>target</th>\n",
       "    </tr>\n",
       "  </thead>\n",
       "  <tbody>\n",
       "    <tr>\n",
       "      <th>0</th>\n",
       "      <td>17.99</td>\n",
       "      <td>10.38</td>\n",
       "      <td>122.8</td>\n",
       "      <td>1001.0</td>\n",
       "      <td>0.11840</td>\n",
       "      <td>0.27760</td>\n",
       "      <td>0.3001</td>\n",
       "      <td>0.14710</td>\n",
       "      <td>0.2419</td>\n",
       "      <td>0.07871</td>\n",
       "      <td>...</td>\n",
       "      <td>17.33</td>\n",
       "      <td>184.6</td>\n",
       "      <td>2019.0</td>\n",
       "      <td>0.1622</td>\n",
       "      <td>0.6656</td>\n",
       "      <td>0.7119</td>\n",
       "      <td>0.2654</td>\n",
       "      <td>0.4601</td>\n",
       "      <td>0.11890</td>\n",
       "      <td>0</td>\n",
       "    </tr>\n",
       "    <tr>\n",
       "      <th>1</th>\n",
       "      <td>20.57</td>\n",
       "      <td>17.77</td>\n",
       "      <td>132.9</td>\n",
       "      <td>1326.0</td>\n",
       "      <td>0.08474</td>\n",
       "      <td>0.07864</td>\n",
       "      <td>0.0869</td>\n",
       "      <td>0.07017</td>\n",
       "      <td>0.1812</td>\n",
       "      <td>0.05667</td>\n",
       "      <td>...</td>\n",
       "      <td>23.41</td>\n",
       "      <td>158.8</td>\n",
       "      <td>1956.0</td>\n",
       "      <td>0.1238</td>\n",
       "      <td>0.1866</td>\n",
       "      <td>0.2416</td>\n",
       "      <td>0.1860</td>\n",
       "      <td>0.2750</td>\n",
       "      <td>0.08902</td>\n",
       "      <td>0</td>\n",
       "    </tr>\n",
       "    <tr>\n",
       "      <th>2</th>\n",
       "      <td>19.69</td>\n",
       "      <td>21.25</td>\n",
       "      <td>130.0</td>\n",
       "      <td>1203.0</td>\n",
       "      <td>0.10960</td>\n",
       "      <td>0.15990</td>\n",
       "      <td>0.1974</td>\n",
       "      <td>0.12790</td>\n",
       "      <td>0.2069</td>\n",
       "      <td>0.05999</td>\n",
       "      <td>...</td>\n",
       "      <td>25.53</td>\n",
       "      <td>152.5</td>\n",
       "      <td>1709.0</td>\n",
       "      <td>0.1444</td>\n",
       "      <td>0.4245</td>\n",
       "      <td>0.4504</td>\n",
       "      <td>0.2430</td>\n",
       "      <td>0.3613</td>\n",
       "      <td>0.08758</td>\n",
       "      <td>0</td>\n",
       "    </tr>\n",
       "  </tbody>\n",
       "</table>\n",
       "<p>3 rows × 31 columns</p>\n",
       "</div>"
      ],
      "text/plain": [
       "   mean radius  mean texture  mean perimeter  mean area  mean smoothness  \\\n",
       "0        17.99         10.38           122.8     1001.0          0.11840   \n",
       "1        20.57         17.77           132.9     1326.0          0.08474   \n",
       "2        19.69         21.25           130.0     1203.0          0.10960   \n",
       "\n",
       "   mean compactness  mean concavity  mean concave points  mean symmetry  \\\n",
       "0           0.27760          0.3001              0.14710         0.2419   \n",
       "1           0.07864          0.0869              0.07017         0.1812   \n",
       "2           0.15990          0.1974              0.12790         0.2069   \n",
       "\n",
       "   mean fractal dimension  ...  worst texture  worst perimeter  worst area  \\\n",
       "0                 0.07871  ...          17.33            184.6      2019.0   \n",
       "1                 0.05667  ...          23.41            158.8      1956.0   \n",
       "2                 0.05999  ...          25.53            152.5      1709.0   \n",
       "\n",
       "   worst smoothness  worst compactness  worst concavity  worst concave points  \\\n",
       "0            0.1622             0.6656           0.7119                0.2654   \n",
       "1            0.1238             0.1866           0.2416                0.1860   \n",
       "2            0.1444             0.4245           0.4504                0.2430   \n",
       "\n",
       "   worst symmetry  worst fractal dimension  target  \n",
       "0          0.4601                  0.11890       0  \n",
       "1          0.2750                  0.08902       0  \n",
       "2          0.3613                  0.08758       0  \n",
       "\n",
       "[3 rows x 31 columns]"
      ]
     },
     "execution_count": 121,
     "metadata": {},
     "output_type": "execute_result"
    }
   ],
   "source": [
    "import warnings\n",
    "warnings.filterwarnings('ignore')\n",
    "\n",
    "dataset = load_breast_cancer()\n",
    "features = dataset.data\n",
    "labels = dataset.target\n",
    "cancer_df = pd.DataFrame(data = features, columns = dataset.feature_names)\n",
    "cancer_df['target'] = labels\n",
    "cancer_df[:3]"
   ]
  },
  {
   "cell_type": "code",
   "execution_count": 132,
   "id": "635f7cfe-c5f8-4acd-9de0-ded0569dec5d",
   "metadata": {},
   "outputs": [],
   "source": [
    "from sklearn.metrics import accuracy_score, precision_score , recall_score , confusion_matrix, f1_score, roc_auc_score\n",
    "\n",
    "def get_clf_eval(y_test, pred = None, pred_proba = None) :\n",
    "    confusion = confusion_matrix(y_test, pred)    #  오차행렬\n",
    "    accuracy = accuracy_score(y_test, pred)       # 정확도\n",
    "    precision = precision_score(y_test, pred)     # 정밀도\n",
    "    recall = recall_score(y_test, pred)           # 재현율\n",
    "    \n",
    "    f1 = f1_score(y_test, pred)      # F1 스코어\n",
    "    \n",
    "    # ROC-AUC\n",
    "    roc_auc = roc_auc_score(y_test, pred_proba)\n",
    "    print('오차행렬')\n",
    "    print(confusion)\n",
    "    \n",
    "    # ROC-AUC 추가\n",
    "    print(f'정확도:{accuracy:.4f}, 정밀도:{precision:.4f}, 재현율:{recall:.4f}, f1_score:{f1:.4f}, AUC:{roc_auc:.4f}')"
   ]
  },
  {
   "cell_type": "code",
   "execution_count": 138,
   "id": "0db71b28-b924-4f38-83ea-b1af98dad822",
   "metadata": {},
   "outputs": [],
   "source": [
    "from xgboost import XGBRFClassifier\n",
    "\n",
    "xgb_wrapper = XGBRFClassifier(n_estimators = 200, learning_rate=0.05, max_depth=3, eval_metric = 'logloss')\n",
    "xgb_wrapper.fit(X_train, y_train, verbose=True)\n",
    "w_preds = xgb_wrapper.predict(X_test)\n",
    "w_pred_proba = xgb_wrapper.predict_proba(X_test)[: ,1]"
   ]
  },
  {
   "cell_type": "code",
   "execution_count": 139,
   "id": "f2dd4150-e7e1-4820-8ec9-de0ed3092cd9",
   "metadata": {},
   "outputs": [
    {
     "name": "stdout",
     "output_type": "stream",
     "text": [
      "오차행렬\n",
      "[[34  9]\n",
      " [ 3 68]]\n",
      "정확도:0.8947, 정밀도:0.8831, 재현율:0.9577, f1_score:0.9189, AUC:0.9772\n"
     ]
    }
   ],
   "source": [
    "get_clf_eval(y_test, w_preds, w_pred_proba)"
   ]
  },
  {
   "cell_type": "code",
   "execution_count": 146,
   "id": "39910912-a3e8-4c39-8898-111567403743",
   "metadata": {},
   "outputs": [
    {
     "name": "stdout",
     "output_type": "stream",
     "text": [
      "오차행렬\n",
      "[[38  5]\n",
      " [ 3 68]]\n",
      "정확도:0.9298, 정밀도:0.9315, 재현율:0.9577, f1_score:0.9444, AUC:0.9866\n"
     ]
    }
   ],
   "source": [
    "from xgboost import XGBClassifier\n",
    "xgb_wrapper = XGBClassifier(n_estimators=800, learning_rate=0.05, max_depth=3, early_stopping_rounds=10)\n",
    "evals = [(X_tr, y_tr), (X_val, y_val)] # 미입력해도 됨\n",
    "xgb_wrapper.fit(X_tr, y_tr, \n",
    "                eval_metric=\"logloss\", \n",
    "                eval_set=evals, \n",
    "                verbose=False)\n",
    "\n",
    "ws50_preds = xgb_wrapper.predict(X_test)\n",
    "ws50_pred_proba = xgb_wrapper.predict_proba(X_test)[:, 1]\n",
    "get_clf_eval(y_test , ws50_preds, ws50_pred_proba)"
   ]
  },
  {
   "cell_type": "code",
   "execution_count": null,
   "id": "51acd46f-40bc-462e-afe6-3e05dd8b684c",
   "metadata": {},
   "outputs": [],
   "source": []
  }
 ],
 "metadata": {
  "kernelspec": {
   "display_name": "Python 3 (ipykernel)",
   "language": "python",
   "name": "python3"
  },
  "language_info": {
   "codemirror_mode": {
    "name": "ipython",
    "version": 3
   },
   "file_extension": ".py",
   "mimetype": "text/x-python",
   "name": "python",
   "nbconvert_exporter": "python",
   "pygments_lexer": "ipython3",
   "version": "3.9.12"
  }
 },
 "nbformat": 4,
 "nbformat_minor": 5
}
