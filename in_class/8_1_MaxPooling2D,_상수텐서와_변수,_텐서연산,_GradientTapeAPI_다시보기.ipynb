{
  "nbformat": 4,
  "nbformat_minor": 0,
  "metadata": {
    "colab": {
      "provenance": [],
      "toc_visible": true
    },
    "kernelspec": {
      "name": "python3",
      "display_name": "Python 3"
    },
    "language_info": {
      "name": "python"
    },
    "gpuClass": "standard"
  },
  "cells": [
    {
      "cell_type": "markdown",
      "source": [
        "## 맥스 풀링(MaxPooling2D)\n",
        "앞서 conv2D로 구현한 컨볼루션 층을 통해 이미지 특징을 도출하였지만, 그 결과가 여전히 크고 복잡하면 이를 다시 한번 축소해주는 과정이 필요하다. 이 과정을 **풀링(pooling)** 또는 **서브 샘플링(sub sampling)**이라고 한다.<br><br>\n",
        "pooling 기법 중 가장 많이 사용되는 방법은 맥스 풀링(max pooling)이다. 이는 정해진 구역 안에서 가장 큰 값만 다음 층으로 넘기고 나머지는 버리는 형식으로, 이 과정을 거쳐 불필요한 정보를 간추릴 수있다.\n",
        "```python\n",
        "MaxPooling2D(pool_size=2)\n",
        "```\n",
        "위에서 pool_size는 풀링 창의 크기를 정하는 것으로, 2로 정하면 전체 크기가 절반으로 줄어들게 된다."
      ],
      "metadata": {
        "id": "XDOWyOcTy5Y6"
      }
    },
    {
      "cell_type": "markdown",
      "source": [
        "## CNN 이해하기 좋은 사이트\n",
        "[CNN Explainer : Learn Convolutional Neural Network (CNN) in your browser!](https://poloclub.github.io/cnn-explainer/)"
      ],
      "metadata": {
        "id": "4LGMQha4zEdK"
      }
    },
    {
      "cell_type": "markdown",
      "source": [
        "## 상수 텐서와 변수\n",
        "텐서플로에서 어떠한 작업을 하려면 텐서가 필요한데, 이 텐서를 만드려면 초기값이 필요하다. 예를 들어 모두 1이거나 0인 텐서를 만들거나, 랜덤한 분포에서 뽑은 값으로 텐서를 만들수도 있다.\n"
      ],
      "metadata": {
        "id": "4qRH2PoczFky"
      }
    },
    {
      "cell_type": "code",
      "source": [
        "# 상수 텐서와 변수\n",
        "import tensorflow as tf\n",
        "# np.ones(shape=(2,1))과 동일\n",
        "x = tf.ones(shape=(2, 1))\n",
        "print(x)"
      ],
      "metadata": {
        "colab": {
          "base_uri": "https://localhost:8080/"
        },
        "id": "DC0XuWCLy89x",
        "outputId": "e45fbc26-9af0-4f3a-b2d3-d6914ccc2e95"
      },
      "execution_count": 125,
      "outputs": [
        {
          "output_type": "stream",
          "name": "stdout",
          "text": [
            "tf.Tensor(\n",
            "[[1.]\n",
            " [1.]], shape=(2, 1), dtype=float32)\n"
          ]
        }
      ]
    },
    {
      "cell_type": "code",
      "source": [
        "# np.zeros(shape=(2,1))과 동일\n",
        "x = tf.zeros(shape=(2, 1))\n",
        "print(x)"
      ],
      "metadata": {
        "colab": {
          "base_uri": "https://localhost:8080/"
        },
        "id": "6yKx8iA-zGYJ",
        "outputId": "b7cc522f-0216-4a11-b5df-03ffda724345"
      },
      "execution_count": 126,
      "outputs": [
        {
          "output_type": "stream",
          "name": "stdout",
          "text": [
            "tf.Tensor(\n",
            "[[0.]\n",
            " [0.]], shape=(2, 1), dtype=float32)\n"
          ]
        }
      ]
    },
    {
      "cell_type": "code",
      "source": [
        "# 랜덤 텐서\n",
        "# 평균이 0이고 표준 편차가 1인 정규분포에서 뽑은 랜덤한 값으로 만든 텐서\n",
        "x = tf.random.normal(shape=(3, 1), mean=0, stddev=1)\n",
        "print(x)"
      ],
      "metadata": {
        "colab": {
          "base_uri": "https://localhost:8080/"
        },
        "id": "PKN7Hw2OzHQ5",
        "outputId": "a07d116e-94a6-44ce-b667-24418f05aa8a"
      },
      "execution_count": 127,
      "outputs": [
        {
          "output_type": "stream",
          "name": "stdout",
          "text": [
            "tf.Tensor(\n",
            "[[-0.50223726]\n",
            " [-0.23869872]\n",
            " [ 0.3985008 ]], shape=(3, 1), dtype=float32)\n"
          ]
        }
      ]
    },
    {
      "cell_type": "code",
      "source": [
        "# 0과 1사이의 균등분포에서 뽑은 랜덤한 값으로 만든 텐서\n",
        "x = tf.random.uniform(shape=(3,1), minval=0, maxval=1)\n",
        "print(x)"
      ],
      "metadata": {
        "colab": {
          "base_uri": "https://localhost:8080/"
        },
        "id": "_N8NWLtlzH9B",
        "outputId": "e6bb9549-6b0a-4ae0-9bc0-19ce74b741b9"
      },
      "execution_count": 128,
      "outputs": [
        {
          "output_type": "stream",
          "name": "stdout",
          "text": [
            "tf.Tensor(\n",
            "[[0.5068977 ]\n",
            " [0.10039842]\n",
            " [0.4714942 ]], shape=(3, 1), dtype=float32)\n"
          ]
        }
      ]
    },
    {
      "cell_type": "markdown",
      "source": [
        "넘파이 배열과 텐서플로 텐서 사이의 큰 차이점이라면, 텐서플로 텐서에는 값을 할당할 수 없다는 것이다. 즉 텐서플로의 텐서는 상수이다."
      ],
      "metadata": {
        "id": "CnJ1FrGazJ4K"
      }
    },
    {
      "cell_type": "code",
      "source": [
        "# 예를 들어 넘파이 배열에 값 할당하기\n",
        "import numpy as np\n",
        "x = np.ones(shape=(2, 2))\n",
        "x[0, 0] = 0\n",
        "print(x)"
      ],
      "metadata": {
        "colab": {
          "base_uri": "https://localhost:8080/"
        },
        "id": "Y18ZADyvzI5p",
        "outputId": "eee6432c-ad82-456b-e180-6139624b4f66"
      },
      "execution_count": 129,
      "outputs": [
        {
          "output_type": "stream",
          "name": "stdout",
          "text": [
            "[[0. 1.]\n",
            " [1. 1.]]\n"
          ]
        }
      ]
    },
    {
      "cell_type": "code",
      "source": [
        "# 텐서플로우에서 동일한 작업 해보기\n",
        "x = tf.ones(shape=(2, 2))\n",
        "x[0, 0] = 0\n",
        "# --> 'tensorflow.python.framework.ops.EagerTensor' object does not support item assignment\n",
        "# --> ERROR"
      ],
      "metadata": {
        "id": "xaDFM-LBzK-5"
      },
      "execution_count": null,
      "outputs": []
    },
    {
      "cell_type": "code",
      "source": [
        "# 텐서플로 텐서의 값을 수정하고 싶다면 변수를 활용하면 된다.\n",
        "v = tf.Variable(initial_value=tf.random.normal(shape=(3, 1)))\n",
        "print(v)"
      ],
      "metadata": {
        "colab": {
          "base_uri": "https://localhost:8080/"
        },
        "id": "wdTiv_cBzL9B",
        "outputId": "b21aec28-300d-4059-b90b-976063c03a26"
      },
      "execution_count": 131,
      "outputs": [
        {
          "output_type": "stream",
          "name": "stdout",
          "text": [
            "<tf.Variable 'Variable:0' shape=(3, 1) dtype=float32, numpy=\n",
            "array([[0.00253003],\n",
            "       [0.04396727],\n",
            "       [0.02358736]], dtype=float32)>\n"
          ]
        }
      ]
    },
    {
      "cell_type": "code",
      "source": [
        "# 변수의 상태는 assign 메서드로 수정할 수 있다\n",
        "v.assign(tf.ones((3, 1)))"
      ],
      "metadata": {
        "colab": {
          "base_uri": "https://localhost:8080/"
        },
        "id": "c1mBjaErzM2J",
        "outputId": "4a96e4b2-bad3-473f-eeb5-cc45f037a839"
      },
      "execution_count": 132,
      "outputs": [
        {
          "output_type": "execute_result",
          "data": {
            "text/plain": [
              "<tf.Variable 'UnreadVariable' shape=(3, 1) dtype=float32, numpy=\n",
              "array([[1.],\n",
              "       [1.],\n",
              "       [1.]], dtype=float32)>"
            ]
          },
          "metadata": {},
          "execution_count": 132
        }
      ]
    },
    {
      "cell_type": "code",
      "source": [
        "# 변수의 일부 원소에만 적용하는 것도 가능\n",
        "v[0, 0].assign(3)"
      ],
      "metadata": {
        "colab": {
          "base_uri": "https://localhost:8080/"
        },
        "id": "4LMs3iRjzQBA",
        "outputId": "030c2be7-728c-48df-a865-ae49a89321b7"
      },
      "execution_count": 133,
      "outputs": [
        {
          "output_type": "execute_result",
          "data": {
            "text/plain": [
              "<tf.Variable 'UnreadVariable' shape=(3, 1) dtype=float32, numpy=\n",
              "array([[3.],\n",
              "       [1.],\n",
              "       [1.]], dtype=float32)>"
            ]
          },
          "metadata": {},
          "execution_count": 133
        }
      ]
    },
    {
      "cell_type": "code",
      "source": [
        "# assign_add() : =+\n",
        "# assign_sub() : -=\n",
        "# 와 동일한 작업을 한다.\n",
        "v.assign_add(tf.ones((3, 1)))"
      ],
      "metadata": {
        "colab": {
          "base_uri": "https://localhost:8080/"
        },
        "id": "YknWPbOSzQ-Z",
        "outputId": "d368317a-6186-4eee-c775-7a0896879185"
      },
      "execution_count": 134,
      "outputs": [
        {
          "output_type": "execute_result",
          "data": {
            "text/plain": [
              "<tf.Variable 'UnreadVariable' shape=(3, 1) dtype=float32, numpy=\n",
              "array([[4.],\n",
              "       [2.],\n",
              "       [2.]], dtype=float32)>"
            ]
          },
          "metadata": {},
          "execution_count": 134
        }
      ]
    },
    {
      "cell_type": "markdown",
      "source": [
        "## 텐서 연산\n",
        "넘파이와 마찬가지로 텐서플로에서도 수학공식을 표현하기 위해 많은 텐서 연산을 제공한다. 몇가지 기본적인 수학 연산들을 살펴보자면"
      ],
      "metadata": {
        "id": "K6dNFNFmzYmC"
      }
    },
    {
      "cell_type": "code",
      "source": [
        "a = tf.ones((2, 2))\n",
        "# 제곱\n",
        "b = tf.square(a)\n",
        "# 제곱근\n",
        "c = tf.sqrt(a)\n",
        "# 두 텐서를 원소별연산으로 더한다\n",
        "d = b+c\n",
        "# 두 텐서의 점곱을 계산\n",
        "e = tf.matmul(a, b)\n",
        "# 두 텐서를 연소별 연산으로 곱한다\n",
        "e *= d\n",
        "\n",
        "print(a, '\\n', b, '\\n', c, '\\n', d, '\\n', e, '\\n')"
      ],
      "metadata": {
        "colab": {
          "base_uri": "https://localhost:8080/"
        },
        "id": "FYyJGed2zSpB",
        "outputId": "1d674741-9360-4bd6-9343-b6d67f14866a"
      },
      "execution_count": 135,
      "outputs": [
        {
          "output_type": "stream",
          "name": "stdout",
          "text": [
            "tf.Tensor(\n",
            "[[1. 1.]\n",
            " [1. 1.]], shape=(2, 2), dtype=float32) \n",
            " tf.Tensor(\n",
            "[[1. 1.]\n",
            " [1. 1.]], shape=(2, 2), dtype=float32) \n",
            " tf.Tensor(\n",
            "[[1. 1.]\n",
            " [1. 1.]], shape=(2, 2), dtype=float32) \n",
            " tf.Tensor(\n",
            "[[2. 2.]\n",
            " [2. 2.]], shape=(2, 2), dtype=float32) \n",
            " tf.Tensor(\n",
            "[[4. 4.]\n",
            " [4. 4.]], shape=(2, 2), dtype=float32) \n",
            "\n"
          ]
        }
      ]
    },
    {
      "cell_type": "markdown",
      "source": [
        "## GradientTapeAPI 다시 살펴보기\n",
        "numpy는 할수 없고 tensorflow는 할수 있는 것이라면, 텐서플로는 미분 가능한 표현이라면 어떤 입력에 대해서도 그레이디언트를 계산할 수 있다는 것이다. GradientTape 블록을 시작하고 하나 또는 여러 입력 텐서에 대해 계산을 수행한 후 입력에 대한 결과의 그레이디언트를 구하면 된다"
      ],
      "metadata": {
        "id": "4BM10GM5zdSZ"
      }
    },
    {
      "cell_type": "code",
      "source": [
        "# GradientTape 사용하기\n",
        "input_var = tf.Variable(initial_value=3.)\n",
        "with tf.GradientTape() as tape :\n",
        "  result = tf.square(input_var)\n",
        "\n",
        "# 가중치에 대한 모델 손실의 그레이디언트를 계산하는데 가장 널리 사용되는 방법\n",
        "gradient = tape.gradient(result, input_var)\n",
        "print(gradient)"
      ],
      "metadata": {
        "colab": {
          "base_uri": "https://localhost:8080/"
        },
        "id": "CnjDpLrHzbN5",
        "outputId": "296d91d4-8b6b-41ef-d25f-12135251c9a5"
      },
      "execution_count": 136,
      "outputs": [
        {
          "output_type": "stream",
          "name": "stdout",
          "text": [
            "tf.Tensor(6.0, shape=(), dtype=float32)\n"
          ]
        }
      ]
    },
    {
      "cell_type": "markdown",
      "source": [
        "모든 텐서에 대한 그래이디언트를 계산하기 위해 필요한 정보를 미리 앞서서 저장하는 것은 너무 많은 비용이 들기 때문에, 자원 낭비를 막기 위해서는 테이프가 감시할 대상을 알아야한다. 훈련 가능한 변수는 기본적으로 감시 대상이다. 훈련 가능한 변수에 대한 손실 그레이디언트를 계산하는 것이 그레이디언트 테이프의 주 사용 용도이기 때문이다."
      ],
      "metadata": {
        "id": "QJtu3YEV0lXx"
      }
    },
    {
      "cell_type": "code",
      "source": [
        "# 상수 텐서 입력과 함께 GradientTape 사용하기\n",
        "input_const = tf.constant(3.)\n",
        "with tf.GradientTape() as tape :\n",
        "  tape.watch(input_const)\n",
        "  result = tf.square(input_const)\n",
        "\n",
        "gradient = tape.gradient(result, input_const)\n",
        "print(gradient)"
      ],
      "metadata": {
        "colab": {
          "base_uri": "https://localhost:8080/"
        },
        "id": "N5hhKEf60kn5",
        "outputId": "c8e94399-cfc8-4c9d-a17b-d70677c8391c"
      },
      "execution_count": 137,
      "outputs": [
        {
          "output_type": "stream",
          "name": "stdout",
          "text": [
            "tf.Tensor(6.0, shape=(), dtype=float32)\n"
          ]
        }
      ]
    },
    {
      "cell_type": "markdown",
      "source": [
        "그레이디언트 테이프는 강력한 유틸리티이다. 심지어는 그레이디언트의 그레이디언트(이계도 그레이언트)도 계산해볼 수 있다. 예를 들어 시간에 대한 물체 위치의 그레이디언트는 물체의 속도고, 이계도 그레이디언트는 가속도이다."
      ],
      "metadata": {
        "id": "3YhMqRmy0ofZ"
      }
    },
    {
      "cell_type": "code",
      "source": [
        "# 예를 들어\n",
        "# 수직방향으로 낙하나는 사과의 위치를 시간에 따라 측정하고\n",
        "# `position(time) = 4.9 * time **2` 임을 알았다면 가속도는 얼마일까\n",
        "time = tf.Variable(0.)\n",
        "with tf.GradientTape() as outer_tape :\n",
        "  with tf.GradientTape() as inner_tape :\n",
        "    position = 49 * time **2\n",
        "  speed = inner_tape.gradient(position, time)\n",
        "\n",
        "# 바깥쪽 테이프가 안쪽 테이프의 그레이디언트를 계산한다\n",
        "# 계산된 가속도는 4.9 * 2 = 9.8 이다.\n",
        "acceleration = outer_tape.gradient(speed, time)\n",
        "print(acceleration)"
      ],
      "metadata": {
        "colab": {
          "base_uri": "https://localhost:8080/"
        },
        "id": "dAJeSSfS0mw3",
        "outputId": "48887912-ee0b-42f5-851d-51c113885edc"
      },
      "execution_count": 138,
      "outputs": [
        {
          "output_type": "stream",
          "name": "stdout",
          "text": [
            "tf.Tensor(98.0, shape=(), dtype=float32)\n"
          ]
        }
      ]
    },
    {
      "cell_type": "code",
      "source": [],
      "metadata": {
        "id": "gw2E023a0qDf"
      },
      "execution_count": null,
      "outputs": []
    }
  ]
}