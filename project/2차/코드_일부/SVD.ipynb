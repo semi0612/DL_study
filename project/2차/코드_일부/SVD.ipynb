{
  "nbformat": 4,
  "nbformat_minor": 0,
  "metadata": {
    "colab": {
      "provenance": [],
      "machine_shape": "hm"
    },
    "kernelspec": {
      "name": "python3",
      "display_name": "Python 3"
    },
    "language_info": {
      "name": "python"
    },
    "gpuClass": "standard"
  },
  "cells": [
    {
      "cell_type": "code",
      "source": [
        "!pip install scikit-surprise"
      ],
      "metadata": {
        "colab": {
          "base_uri": "https://localhost:8080/"
        },
        "id": "SweYmyz0fArQ",
        "outputId": "bba318d5-efc6-4ffe-a30f-868a7334490c"
      },
      "execution_count": null,
      "outputs": [
        {
          "output_type": "stream",
          "name": "stdout",
          "text": [
            "Looking in indexes: https://pypi.org/simple, https://us-python.pkg.dev/colab-wheels/public/simple/\n",
            "Collecting scikit-surprise\n",
            "  Downloading scikit-surprise-1.1.3.tar.gz (771 kB)\n",
            "\u001b[2K     \u001b[90m━━━━━━━━━━━━━━━━━━━━━━━━━━━━━━━━━━━━━━\u001b[0m \u001b[32m772.0/772.0 KB\u001b[0m \u001b[31m24.6 MB/s\u001b[0m eta \u001b[36m0:00:00\u001b[0m\n",
            "\u001b[?25h  Preparing metadata (setup.py) ... \u001b[?25l\u001b[?25hdone\n",
            "Requirement already satisfied: joblib>=1.0.0 in /usr/local/lib/python3.8/dist-packages (from scikit-surprise) (1.2.0)\n",
            "Requirement already satisfied: numpy>=1.17.3 in /usr/local/lib/python3.8/dist-packages (from scikit-surprise) (1.21.6)\n",
            "Requirement already satisfied: scipy>=1.3.2 in /usr/local/lib/python3.8/dist-packages (from scikit-surprise) (1.7.3)\n",
            "Building wheels for collected packages: scikit-surprise\n",
            "  Building wheel for scikit-surprise (setup.py) ... \u001b[?25l\u001b[?25hdone\n",
            "  Created wheel for scikit-surprise: filename=scikit_surprise-1.1.3-cp38-cp38-linux_x86_64.whl size=2626847 sha256=adc548de7f018b7a429dbe60d78abef292191391992042c9948391eea7b530e6\n",
            "  Stored in directory: /root/.cache/pip/wheels/af/db/86/2c18183a80ba05da35bf0fb7417aac5cddbd93bcb1b92fd3ea\n",
            "Successfully built scikit-surprise\n",
            "Installing collected packages: scikit-surprise\n",
            "Successfully installed scikit-surprise-1.1.3\n"
          ]
        }
      ]
    },
    {
      "cell_type": "code",
      "source": [
        "import pandas as pd\n",
        "from sklearn.preprocessing import LabelEncoder"
      ],
      "metadata": {
        "id": "jg5iKTCkfEx7"
      },
      "execution_count": null,
      "outputs": []
    },
    {
      "cell_type": "code",
      "execution_count": null,
      "metadata": {
        "colab": {
          "base_uri": "https://localhost:8080/"
        },
        "id": "KRwdOoTcehqp",
        "outputId": "9d8b45fd-dee3-44d6-cc28-a2b529ac0dab"
      },
      "outputs": [
        {
          "output_type": "stream",
          "name": "stdout",
          "text": [
            "<class 'pandas.core.frame.DataFrame'>\n",
            "RangeIndex: 6134917 entries, 0 to 6134916\n",
            "Data columns (total 6 columns):\n",
            " #   Column   Dtype   \n",
            "---  ------   -----   \n",
            " 0   user_id  int64   \n",
            " 1   소분류명     object  \n",
            " 2   reorder  int64   \n",
            " 3   rate     float64 \n",
            " 4   item_id  int64   \n",
            " 5   raiting  category\n",
            "dtypes: category(1), float64(1), int64(3), object(1)\n",
            "memory usage: 239.9+ MB\n"
          ]
        }
      ],
      "source": [
        "import surprise\n",
        "gp = pd.read_csv('/content/drive/MyDrive/PJ/data/구매상품TR_reorder.csv',chunksize = 2000000)\n",
        "gp_li = list(gp)\n",
        "df=pd.concat(gp_li)\n",
        "reorder_rate=df.groupby(['고객번호','소분류명'])[['reorder']].sum()\n",
        "total_ordered_goods=df.groupby(['고객번호','소분류명'])[['reorder']].count().reset_index()\n",
        "o=reorder_rate.reset_index()\n",
        "o['rate'] = o['reorder']/total_ordered_goods['reorder']\n",
        "\n",
        "\n",
        "en = LabelEncoder()\n",
        "goods_name=en.fit_transform(o['소분류명'])\n",
        "\n",
        "o['소분류명_encoded'] = goods_name\n",
        "bins =pd.cut(o['rate'],5,labels = [1,2,3,4,5])\n",
        "o['ratings'] = bins\n",
        "\n",
        "o.columns = ['user_id','소분류명','reorder','rate','item_id','raiting']\n",
        "o.info()\n",
        "p = o[['user_id','item_id','raiting']].astype('int16')\n",
        "\n",
        "reader = surprise.dataset.Reader(rating_scale = (0.5,5.0))\n",
        "data=surprise.dataset.Dataset.load_from_df(p,reader)\n",
        "trainset = data.build_full_trainset()\n",
        "\n",
        "# param_grid={'n_epochs':[20,40,60],'n_factors':[50,100,200]}\n",
        "\n",
        "# grid=GridSearchCV(SVD,param_grid,measures=['rmse','mae'],cv=3)\n",
        "# grid.fit(trainset)\n",
        "\n",
        "# print(grid.best_score['rmse'])\n",
        "# print(grid.best_params['rmse'])\n",
        "algo = surprise.SVD(n_epochs=60,n_factors=50)\n",
        "try :\n",
        "  algo.fit(trainset)\n",
        "except:\n",
        "  print(0)\n"
      ]
    },
    {
      "cell_type": "code",
      "source": [
        "pred = algo.predict(200000000,20000000)\n",
        "pred"
      ],
      "metadata": {
        "colab": {
          "base_uri": "https://localhost:8080/"
        },
        "id": "mlmCJLNhlgZg",
        "outputId": "0f313d71-a933-455e-a633-4beb7d3a01ba"
      },
      "execution_count": null,
      "outputs": [
        {
          "output_type": "execute_result",
          "data": {
            "text/plain": [
              "Prediction(uid=200000000, iid=20000000, r_ui=None, est=1.0617525876878204, details={'was_impossible': False})"
            ]
          },
          "metadata": {},
          "execution_count": 18
        }
      ]
    },
    {
      "cell_type": "code",
      "source": [
        "pred[3]"
      ],
      "metadata": {
        "colab": {
          "base_uri": "https://localhost:8080/"
        },
        "id": "pzfLxrCPljqQ",
        "outputId": "a94bde3f-068b-4b0a-d50a-6fbadaa76578"
      },
      "execution_count": null,
      "outputs": [
        {
          "output_type": "execute_result",
          "data": {
            "text/plain": [
              "1.0499271271839357"
            ]
          },
          "metadata": {},
          "execution_count": 17
        }
      ]
    },
    {
      "cell_type": "code",
      "source": [
        "users = []\n",
        "items = []\n",
        "score = []\n",
        "\n",
        "for i in range(1,19384):\n",
        "    for j in range(0,3519):\n",
        "        pred = algo.predict(i,j)\n",
        "        users.append(pred[0])\n",
        "        items.append(pred[1])\n",
        "        score.append(pred[3])\n",
        "\n",
        "d = {'users' : users, 'items' : items, 'score' : score}\n",
        "df = pd.DataFrame(data = d)"
      ],
      "metadata": {
        "id": "mfoGPMhKk4eI"
      },
      "execution_count": null,
      "outputs": []
    },
    {
      "cell_type": "code",
      "source": [
        "df[df.users==1].sort_values('score',ascending=False)[:5]"
      ],
      "metadata": {
        "colab": {
          "base_uri": "https://localhost:8080/",
          "height": 206
        },
        "id": "UyLM_ERShIw7",
        "outputId": "6b98cb4c-afef-47dc-8806-524ad981d4f3"
      },
      "execution_count": null,
      "outputs": [
        {
          "output_type": "execute_result",
          "data": {
            "text/plain": [
              "      users  items     score\n",
              "1516      1   1516  2.052833\n",
              "3233      1   3233  2.043997\n",
              "405       1    405  1.970483\n",
              "797       1    797  1.931274\n",
              "1101      1   1101  1.916605"
            ],
            "text/html": [
              "\n",
              "  <div id=\"df-46f5d949-7eb5-4d36-ae5d-dc5ad08b890c\">\n",
              "    <div class=\"colab-df-container\">\n",
              "      <div>\n",
              "<style scoped>\n",
              "    .dataframe tbody tr th:only-of-type {\n",
              "        vertical-align: middle;\n",
              "    }\n",
              "\n",
              "    .dataframe tbody tr th {\n",
              "        vertical-align: top;\n",
              "    }\n",
              "\n",
              "    .dataframe thead th {\n",
              "        text-align: right;\n",
              "    }\n",
              "</style>\n",
              "<table border=\"1\" class=\"dataframe\">\n",
              "  <thead>\n",
              "    <tr style=\"text-align: right;\">\n",
              "      <th></th>\n",
              "      <th>users</th>\n",
              "      <th>items</th>\n",
              "      <th>score</th>\n",
              "    </tr>\n",
              "  </thead>\n",
              "  <tbody>\n",
              "    <tr>\n",
              "      <th>1516</th>\n",
              "      <td>1</td>\n",
              "      <td>1516</td>\n",
              "      <td>2.052833</td>\n",
              "    </tr>\n",
              "    <tr>\n",
              "      <th>3233</th>\n",
              "      <td>1</td>\n",
              "      <td>3233</td>\n",
              "      <td>2.043997</td>\n",
              "    </tr>\n",
              "    <tr>\n",
              "      <th>405</th>\n",
              "      <td>1</td>\n",
              "      <td>405</td>\n",
              "      <td>1.970483</td>\n",
              "    </tr>\n",
              "    <tr>\n",
              "      <th>797</th>\n",
              "      <td>1</td>\n",
              "      <td>797</td>\n",
              "      <td>1.931274</td>\n",
              "    </tr>\n",
              "    <tr>\n",
              "      <th>1101</th>\n",
              "      <td>1</td>\n",
              "      <td>1101</td>\n",
              "      <td>1.916605</td>\n",
              "    </tr>\n",
              "  </tbody>\n",
              "</table>\n",
              "</div>\n",
              "      <button class=\"colab-df-convert\" onclick=\"convertToInteractive('df-46f5d949-7eb5-4d36-ae5d-dc5ad08b890c')\"\n",
              "              title=\"Convert this dataframe to an interactive table.\"\n",
              "              style=\"display:none;\">\n",
              "        \n",
              "  <svg xmlns=\"http://www.w3.org/2000/svg\" height=\"24px\"viewBox=\"0 0 24 24\"\n",
              "       width=\"24px\">\n",
              "    <path d=\"M0 0h24v24H0V0z\" fill=\"none\"/>\n",
              "    <path d=\"M18.56 5.44l.94 2.06.94-2.06 2.06-.94-2.06-.94-.94-2.06-.94 2.06-2.06.94zm-11 1L8.5 8.5l.94-2.06 2.06-.94-2.06-.94L8.5 2.5l-.94 2.06-2.06.94zm10 10l.94 2.06.94-2.06 2.06-.94-2.06-.94-.94-2.06-.94 2.06-2.06.94z\"/><path d=\"M17.41 7.96l-1.37-1.37c-.4-.4-.92-.59-1.43-.59-.52 0-1.04.2-1.43.59L10.3 9.45l-7.72 7.72c-.78.78-.78 2.05 0 2.83L4 21.41c.39.39.9.59 1.41.59.51 0 1.02-.2 1.41-.59l7.78-7.78 2.81-2.81c.8-.78.8-2.07 0-2.86zM5.41 20L4 18.59l7.72-7.72 1.47 1.35L5.41 20z\"/>\n",
              "  </svg>\n",
              "      </button>\n",
              "      \n",
              "  <style>\n",
              "    .colab-df-container {\n",
              "      display:flex;\n",
              "      flex-wrap:wrap;\n",
              "      gap: 12px;\n",
              "    }\n",
              "\n",
              "    .colab-df-convert {\n",
              "      background-color: #E8F0FE;\n",
              "      border: none;\n",
              "      border-radius: 50%;\n",
              "      cursor: pointer;\n",
              "      display: none;\n",
              "      fill: #1967D2;\n",
              "      height: 32px;\n",
              "      padding: 0 0 0 0;\n",
              "      width: 32px;\n",
              "    }\n",
              "\n",
              "    .colab-df-convert:hover {\n",
              "      background-color: #E2EBFA;\n",
              "      box-shadow: 0px 1px 2px rgba(60, 64, 67, 0.3), 0px 1px 3px 1px rgba(60, 64, 67, 0.15);\n",
              "      fill: #174EA6;\n",
              "    }\n",
              "\n",
              "    [theme=dark] .colab-df-convert {\n",
              "      background-color: #3B4455;\n",
              "      fill: #D2E3FC;\n",
              "    }\n",
              "\n",
              "    [theme=dark] .colab-df-convert:hover {\n",
              "      background-color: #434B5C;\n",
              "      box-shadow: 0px 1px 3px 1px rgba(0, 0, 0, 0.15);\n",
              "      filter: drop-shadow(0px 1px 2px rgba(0, 0, 0, 0.3));\n",
              "      fill: #FFFFFF;\n",
              "    }\n",
              "  </style>\n",
              "\n",
              "      <script>\n",
              "        const buttonEl =\n",
              "          document.querySelector('#df-46f5d949-7eb5-4d36-ae5d-dc5ad08b890c button.colab-df-convert');\n",
              "        buttonEl.style.display =\n",
              "          google.colab.kernel.accessAllowed ? 'block' : 'none';\n",
              "\n",
              "        async function convertToInteractive(key) {\n",
              "          const element = document.querySelector('#df-46f5d949-7eb5-4d36-ae5d-dc5ad08b890c');\n",
              "          const dataTable =\n",
              "            await google.colab.kernel.invokeFunction('convertToInteractive',\n",
              "                                                     [key], {});\n",
              "          if (!dataTable) return;\n",
              "\n",
              "          const docLinkHtml = 'Like what you see? Visit the ' +\n",
              "            '<a target=\"_blank\" href=https://colab.research.google.com/notebooks/data_table.ipynb>data table notebook</a>'\n",
              "            + ' to learn more about interactive tables.';\n",
              "          element.innerHTML = '';\n",
              "          dataTable['output_type'] = 'display_data';\n",
              "          await google.colab.output.renderOutput(dataTable, element);\n",
              "          const docLink = document.createElement('div');\n",
              "          docLink.innerHTML = docLinkHtml;\n",
              "          element.appendChild(docLink);\n",
              "        }\n",
              "      </script>\n",
              "    </div>\n",
              "  </div>\n",
              "  "
            ]
          },
          "metadata": {},
          "execution_count": 26
        }
      ]
    }
  ]
}