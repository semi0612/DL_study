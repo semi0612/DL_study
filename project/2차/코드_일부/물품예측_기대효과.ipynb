{
  "cells": [
    {
      "cell_type": "markdown",
      "metadata": {
        "id": "E6sgBjTzUNB-"
      },
      "source": [
        "#구글드라이브 마운트"
      ]
    },
    {
      "cell_type": "code",
      "execution_count": null,
      "metadata": {
        "colab": {
          "base_uri": "https://localhost:8080/"
        },
        "id": "gUG6VgqiQLNP",
        "outputId": "00fce4ac-d0c4-485c-b127-6694b59949ef"
      },
      "outputs": [
        {
          "output_type": "stream",
          "name": "stdout",
          "text": [
            "Mounted at /gdrive/\n"
          ]
        }
      ],
      "source": [
        "from google.colab import drive\n",
        "drive.mount('/gdrive/',force_remount = True)"
      ]
    },
    {
      "cell_type": "markdown",
      "metadata": {
        "id": "669-30COULIF"
      },
      "source": [
        "#라이브러리들"
      ]
    },
    {
      "cell_type": "code",
      "execution_count": null,
      "metadata": {
        "id": "Jtj-Ld29WLbl"
      },
      "outputs": [],
      "source": [
        "import pandas as pd\n",
        "import numpy as np\n",
        "from sklearn.preprocessing import MinMaxScaler\n",
        "import seaborn as sns\n",
        "import matplotlib.pyplot as plt\n",
        "from sklearn.linear_model import LogisticRegression\n",
        "from sklearn.preprocessing import LabelEncoder\n",
        "from lightgbm import LGBMClassifier\n",
        "from sklearn.metrics import f1_score\n",
        "from sklearn.metrics import accuracy_score\n",
        "from sklearn.metrics import precision_score\n",
        "from sklearn.metrics import recall_score\n",
        "from sklearn.metrics import roc_auc_score\n",
        "from sklearn.metrics import confusion_matrix\n",
        "from mlxtend.preprocessing import TransactionEncoder\n",
        "from mlxtend.frequent_patterns import apriori, association_rules\n",
        "from numba import jit\n",
        "import os\n",
        "from sklearn.decomposition import PCA\n",
        "from sklearn.cluster import KMeans"
      ]
    },
    {
      "cell_type": "markdown",
      "metadata": {
        "id": "GCljJasAUIfV"
      },
      "source": [
        "#데이터 준비"
      ]
    },
    {
      "cell_type": "code",
      "execution_count": null,
      "metadata": {
        "id": "9Y8M-M70TtZB"
      },
      "outputs": [],
      "source": [
        "gp=pd.read_csv('/gdrive/MyDrive/프로젝트2/구매상품TR_reorder.csv',chunksize = 2000000)\n",
        "gp_li = list(gp)\n",
        "order = pd.concat(gp_li)\n",
        "\n",
        "\n",
        "\n",
        "customer = pd.read_csv('/gdrive/MyDrive/프로젝트2/cust.csv')\n",
        "\n",
        "\n",
        "\n",
        "goods =  pd.read_csv('/gdrive/MyDrive/프로젝트2/goods.csv')"
      ]
    },
    {
      "cell_type": "markdown",
      "metadata": {
        "id": "aAO1DU6vUBf9"
      },
      "source": [
        "#Class"
      ]
    },
    {
      "cell_type": "code",
      "execution_count": null,
      "metadata": {
        "id": "Hy0GAYoMPklj"
      },
      "outputs": [],
      "source": [
        "class project():\n",
        "  def __init__(self,customer, goods, order):\n",
        "    self.goods = goods\n",
        "    self.customer = customer\n",
        "    self.order = order\n",
        "#-------------------------데이터프레임 ---------------------------------------------------------------------------\n",
        "  def show_order(self):\n",
        "    return self.order\n",
        "  def show_customer(self):\n",
        "    return self.customer\n",
        "  def show_goods(self):\n",
        "    return self.goods\n",
        "#-------------------------  RFM ----------------------------------------------------------------------------\n",
        "  def get_rfm_14_binary(self):\n",
        "    temp = self.customer[['14_4분기_구매금액','14년도_영수증갯수','14년도_구매금액']].copy()\n",
        "    temp.columns = ['recency','frequency','monetary']\n",
        "    print(np.median(temp.frequency))\n",
        "    print(np.median(temp.monetary))\n",
        "    temp.recency = np.where(temp.recency != 0, 1,0)\n",
        "    temp.frequency = np.where(temp.frequency < np.median(temp.frequency),0,1)\n",
        "    temp.monetary = np.where(temp.monetary < np.median(temp.monetary),0,1)\n",
        "    li = []\n",
        "    for i in temp.values.tolist():\n",
        "      if i not in li:\n",
        "        li.append(i)\n",
        "    res=self.get_cust_seg(temp,sorted(li,reverse = True))\n",
        "    temp['cust_seg'] =res\n",
        "    return temp\n",
        "  def get_rfm_15_binary(self):\n",
        "    temp = self.customer[['15_4분기_구매금액','15년도_영수증갯수','15년도_구매금액']].copy()\n",
        "    temp.columns = ['recency','frequency','monetary']\n",
        "    print(np.median(temp.frequency))\n",
        "    print(np.median(temp.monetary))\n",
        "    temp.recency = np.where(temp.recency != 0, 1,0)\n",
        "    temp.frequency = np.where(temp.frequency < np.median(temp.frequency),0,1)\n",
        "    temp.monetary = np.where(temp.monetary < np.median(temp.monetary),0,1)\n",
        "    print(np.median(temp.frequency))\n",
        "    li = []\n",
        "    for i in temp.values.tolist():\n",
        "      if i not in li:\n",
        "        li.append(i)\n",
        "    res=self.get_cust_seg(temp,sorted(li,reverse = True))\n",
        "    temp['cust_seg'] =res\n",
        "    return temp\n",
        "\n",
        "  def get_rfm_14(self):\n",
        "    temp = self.customer[['14_4분기_구매금액','14년도_영수증갯수','14년도_구매금액']].copy()\n",
        "    temp.columns = ['recency','frequency','monetary']\n",
        "    temp.recency = np.where(temp.recency != 0, 1,0)\n",
        "    return temp\n",
        "\n",
        "  def get_rfm_15(self):\n",
        "    temp = self.customer[['15_4분기_구매금액','15년도_영수증갯수','15년도_구매금액']].copy()\n",
        "    temp.columns = ['recency','frequency','monetary']\n",
        "    temp.recency = np.where(temp.recency != 0, 1,0)\n",
        "    return temp\n",
        "  def get_cust_seg(self,temp,li):\n",
        "    res = []\n",
        "    for x in range(len(temp)):\n",
        "      res.append(li.index(temp.iloc[x].values.tolist()))\n",
        "    return res\n",
        "#------------------------군집화 및 주성분분석 시각화 -----------------------------------------------------------\n",
        "  def get_kmeans_clustering(self,rfm,n_cluster):\n",
        "    scaler = MinMaxScaler()\n",
        "    scaled_value=scaler.fit_transform(rfm.values)\n",
        "    kmeans = KMeans(n_clusters = n_cluster)\n",
        "    kmeans.fit(scaled_value)\n",
        "    rfm['cluster']=kmeans.labels_\n",
        "    return rfm\n",
        "  def get_cluster_scatterplot(self,dataframe):\n",
        "    pca = PCA(n_components = 2)\n",
        "    temp=pca.fit_transform(dataframe.iloc[:,:-1])\n",
        "    res=pd.DataFrame(temp)\n",
        "\n",
        "    res['cluster']=dataframe.iloc[:,-1].values.tolist()\n",
        "    sns.scatterplot(data = res,x = res.columns[0],y = res.columns[1],hue = res.columns[-1])\n",
        "    plt.show()\n",
        "    return pca.explained_variance_ratio_\n",
        "#--------------------------------------------------------------------------------------------------\n",
        "  def set_feature_customer(self,featurename,values):\n",
        "    self.customer[featurename] = values\n",
        "  def merge_goods_order(self):\n",
        "    return self.order\n",
        "  def train(self):\n",
        "    df = self.merge_goods_order()\n",
        "    return df[df['구매일자']<20151000]\n",
        "  def test(self):\n",
        "    df = self.merge_goods_order()\n",
        "    return df[df['구매일자']>20151000]\n",
        "  def get_shopping_list_middle(self,goods_order):\n",
        "    li = []\n",
        "    for x in goods_order['영수증번호'].unique():\n",
        "      li.append(goods_order[goods_order['영수증번호']==x]['Unnamed: 5'].unique().tolist())\n",
        "    return li\n",
        "  @jit(nopython = False)\n",
        "  def get_receipt_order(self,number,o):\n",
        "    res=o[o['고객번호']== number]['영수증번호'].unique()\n",
        "    return res\n",
        "  @jit(nopython = False)\n",
        "  def get_goods_name(self,receipt_number,o):\n",
        "    res=o[o['영수증번호']== receipt_number]['소분류코드'].values\n",
        "    return res\n",
        "  \n",
        "  @jit(nopython = False)\n",
        "  def get_add_to_cart_order(self,array1,array2):\n",
        "    sum = []\n",
        "    for x in range(len(array1)):\n",
        "      sum += [i for i in range(1,array2[x]+1)]\n",
        "    return sum\n",
        "  def get_customer_id_list(self):\n",
        "    return sorted(self.customer['고객번호'].unique())\n",
        "  @jit(nopython = False)\n",
        "  def comparison(self,current,past):\n",
        "    res = []\n",
        "    if len(current) == 1:\n",
        "      if current in past:\n",
        "        res += [1]\n",
        "      else :\n",
        "        res += [0]\n",
        "    else :\n",
        "      res+=(np.in1d(current,past)*1).tolist()\n",
        "    return res\n",
        "  @jit(nopython = False)\n",
        "  def cal_reordered(self):\n",
        "    d = self.merge_goods_order()\n",
        "    o= d[['고객번호','영수증번호','소분류코드']].copy()\n",
        "    cust_list= self.get_customer_id_list()\n",
        "    res = []\n",
        "    for cust_id in cust_list[1000:2000]:\n",
        "      print(cust_id)\n",
        "      length=self.get_receipt_order(cust_id,o)\n",
        "      for i in range(len(length)):\n",
        "        if i != 0:\n",
        "          past=self.get_goods_name(length[i-1],o)\n",
        "          current=self.get_goods_name(length[i],o)\n",
        "          res+=self.comparison(current,past)\n",
        "        else :\n",
        "          current=self.get_goods_name(length[i],o)\n",
        "          for i in range(len(current)):\n",
        "            res +=[0]\n",
        "    pd.DataFrame(res).to_csv(f'/gdrive/MyDrive/프로젝트2/{cust_id}.csv',index = False)\n",
        "    return res\n",
        "  @jit(nopython = False)\n",
        "  def get_cust_goods_kinds(self,dataframe):\n",
        "    o=dataframe\n",
        "    d = o.groupby(['고객번호'])['소분류코드'].value_counts().reset_index(name = 'cnt')\n",
        "    res = []\n",
        "    print(d)\n",
        "    cust_list = self.get_customer_id_list()\n",
        "    for x in cust_list:\n",
        "      res.append(len(d[d['고객번호']== x]['소분류코드'].unique()))\n",
        "    return res\n",
        "  @jit(nopython = False)\n",
        "  def get_cust_goods_kinds_mean(self,dataframe):\n",
        "    o=dataframe\n",
        "    d = o.groupby(['고객번호','영수증번호'])['소분류코드'].count().reset_index(name = 'cnt')\n",
        "    res = []\n",
        "    print(d)\n",
        "    cust_list = self.get_customer_id_list()\n",
        "    for x in cust_list:\n",
        "      res.append(d[d['고객번호'] == x]['cnt'].mean())\n",
        "    return res        "
      ]
    },
    {
      "cell_type": "markdown",
      "metadata": {
        "id": "5dTukaFNt1Or"
      },
      "source": [
        "#Class 생성"
      ]
    },
    {
      "cell_type": "code",
      "execution_count": null,
      "metadata": {
        "id": "rNxcNCKoUlum",
        "colab": {
          "base_uri": "https://localhost:8080/",
          "height": 173
        },
        "outputId": "eb64eaaf-24d4-44c5-9a62-d82b1367be70"
      },
      "outputs": [
        {
          "output_type": "error",
          "ename": "NameError",
          "evalue": "ignored",
          "traceback": [
            "\u001b[0;31m---------------------------------------------------------------------------\u001b[0m",
            "\u001b[0;31mNameError\u001b[0m                                 Traceback (most recent call last)",
            "\u001b[0;32m<ipython-input-77-bad8aeb6f16f>\u001b[0m in \u001b[0;36m<module>\u001b[0;34m\u001b[0m\n\u001b[0;32m----> 1\u001b[0;31m \u001b[0mp\u001b[0m\u001b[0;34m=\u001b[0m\u001b[0mproject\u001b[0m\u001b[0;34m(\u001b[0m\u001b[0mcustomer\u001b[0m\u001b[0;34m,\u001b[0m\u001b[0mgoods\u001b[0m\u001b[0;34m,\u001b[0m\u001b[0morder\u001b[0m\u001b[0;34m)\u001b[0m\u001b[0;34m\u001b[0m\u001b[0;34m\u001b[0m\u001b[0m\n\u001b[0m",
            "\u001b[0;31mNameError\u001b[0m: name 'customer' is not defined"
          ]
        }
      ],
      "source": [
        "p=project(customer,goods,order)"
      ]
    },
    {
      "cell_type": "markdown",
      "metadata": {
        "id": "Q3YtkveZ3fWT"
      },
      "source": [
        "#항목수와 평균"
      ]
    },
    {
      "cell_type": "code",
      "execution_count": null,
      "metadata": {
        "id": "C1HayrAr4c1r"
      },
      "outputs": [],
      "source": [
        "dataframe = p.train()\n",
        "res1=p.get_cust_goods_kinds(dataframe)"
      ]
    },
    {
      "cell_type": "code",
      "execution_count": null,
      "metadata": {
        "colab": {
          "base_uri": "https://localhost:8080/"
        },
        "id": "sG9izbt2Z7gR",
        "outputId": "31216c5f-fee9-4eeb-b327-d6a541f52c50"
      },
      "outputs": [
        {
          "name": "stderr",
          "output_type": "stream",
          "text": [
            "<ipython-input-14-95b5d48242c6>:154: NumbaWarning: \n",
            "Compilation is falling back to object mode WITH looplifting enabled because Function \"get_cust_goods_kinds_mean\" failed type inference due to: non-precise type pyobject\n",
            "During: typing of argument at <ipython-input-14-95b5d48242c6> (156)\n",
            "\n",
            "File \"<ipython-input-14-95b5d48242c6>\", line 156:\n",
            "  def get_cust_goods_kinds_mean(self,dataframe):\n",
            "    o=dataframe\n",
            "    ^\n",
            "\n",
            "  @jit(nopython = False)\n",
            "<ipython-input-14-95b5d48242c6>:154: NumbaWarning: \n",
            "Compilation is falling back to object mode WITHOUT looplifting enabled because Function \"get_cust_goods_kinds_mean\" failed type inference due to: Cannot determine Numba type of <class 'numba.core.dispatcher.LiftedLoop'>\n",
            "\n",
            "File \"<ipython-input-14-95b5d48242c6>\", line 161:\n",
            "  def get_cust_goods_kinds_mean(self,dataframe):\n",
            "      <source elided>\n",
            "    cust_list = self.get_customer_id_list()\n",
            "    for x in cust_list:\n",
            "    ^\n",
            "\n",
            "  @jit(nopython = False)\n",
            "/usr/local/lib/python3.8/dist-packages/numba/core/object_mode_passes.py:151: NumbaWarning: Function \"get_cust_goods_kinds_mean\" was compiled in object mode without forceobj=True, but has lifted loops.\n",
            "\n",
            "File \"<ipython-input-14-95b5d48242c6>\", line 156:\n",
            "  def get_cust_goods_kinds_mean(self,dataframe):\n",
            "    o=dataframe\n",
            "    ^\n",
            "\n",
            "  warnings.warn(errors.NumbaWarning(warn_msg,\n",
            "/usr/local/lib/python3.8/dist-packages/numba/core/object_mode_passes.py:161: NumbaDeprecationWarning: \n",
            "Fall-back from the nopython compilation path to the object mode compilation path has been detected, this is deprecated behaviour.\n",
            "\n",
            "For more information visit https://numba.readthedocs.io/en/stable/reference/deprecation.html#deprecation-of-object-mode-fall-back-behaviour-when-using-jit\n",
            "\n",
            "File \"<ipython-input-14-95b5d48242c6>\", line 156:\n",
            "  def get_cust_goods_kinds_mean(self,dataframe):\n",
            "    o=dataframe\n",
            "    ^\n",
            "\n",
            "  warnings.warn(errors.NumbaDeprecationWarning(msg,\n"
          ]
        },
        {
          "name": "stdout",
          "output_type": "stream",
          "text": [
            "          고객번호     영수증번호  cnt\n",
            "0            1     93124    1\n",
            "1            1    100083    3\n",
            "2            1    107062    1\n",
            "3            1    113352    1\n",
            "4            1    114242    1\n",
            "...        ...       ...  ...\n",
            "9690877  19383   5162133    1\n",
            "9690878  19383   9832756    8\n",
            "9690879  19383  10047102    1\n",
            "9690880  19383  10047211    2\n",
            "9690881  19383  10355251    5\n",
            "\n",
            "[9690882 rows x 3 columns]\n"
          ]
        },
        {
          "name": "stderr",
          "output_type": "stream",
          "text": [
            "<ipython-input-14-95b5d48242c6>:154: NumbaWarning: \n",
            "Compilation is falling back to object mode WITHOUT looplifting enabled because Function \"get_cust_goods_kinds_mean\" failed type inference due to: non-precise type pyobject\n",
            "During: typing of argument at <ipython-input-14-95b5d48242c6> (161)\n",
            "\n",
            "File \"<ipython-input-14-95b5d48242c6>\", line 161:\n",
            "  def get_cust_goods_kinds_mean(self,dataframe):\n",
            "      <source elided>\n",
            "    cust_list = self.get_customer_id_list()\n",
            "    for x in cust_list:\n",
            "    ^\n",
            "\n",
            "  @jit(nopython = False)\n",
            "/usr/local/lib/python3.8/dist-packages/numba/core/object_mode_passes.py:151: NumbaWarning: Function \"get_cust_goods_kinds_mean\" was compiled in object mode without forceobj=True.\n",
            "\n",
            "File \"<ipython-input-14-95b5d48242c6>\", line 161:\n",
            "  def get_cust_goods_kinds_mean(self,dataframe):\n",
            "      <source elided>\n",
            "    cust_list = self.get_customer_id_list()\n",
            "    for x in cust_list:\n",
            "    ^\n",
            "\n",
            "  warnings.warn(errors.NumbaWarning(warn_msg,\n",
            "/usr/local/lib/python3.8/dist-packages/numba/core/object_mode_passes.py:161: NumbaDeprecationWarning: \n",
            "Fall-back from the nopython compilation path to the object mode compilation path has been detected, this is deprecated behaviour.\n",
            "\n",
            "For more information visit https://numba.readthedocs.io/en/stable/reference/deprecation.html#deprecation-of-object-mode-fall-back-behaviour-when-using-jit\n",
            "\n",
            "File \"<ipython-input-14-95b5d48242c6>\", line 161:\n",
            "  def get_cust_goods_kinds_mean(self,dataframe):\n",
            "      <source elided>\n",
            "    cust_list = self.get_customer_id_list()\n",
            "    for x in cust_list:\n",
            "    ^\n",
            "\n",
            "  warnings.warn(errors.NumbaDeprecationWarning(msg,\n"
          ]
        }
      ],
      "source": [
        "res2=p.get_cust_goods_kinds_mean(dataframe)"
      ]
    },
    {
      "cell_type": "markdown",
      "metadata": {
        "id": "fjfOtV9UuQJx"
      },
      "source": [
        "#Reorder"
      ]
    },
    {
      "cell_type": "code",
      "execution_count": null,
      "metadata": {
        "colab": {
          "base_uri": "https://localhost:8080/"
        },
        "id": "7iR8TB5Z-PeT",
        "outputId": "d56aecd5-af6c-4eb5-aadc-b23b90f55d73"
      },
      "outputs": [
        {
          "metadata": {
            "tags": null
          },
          "name": "stderr",
          "output_type": "stream",
          "text": [
            "<ipython-input-7-e3c8edbe8301>:124: NumbaWarning: \n",
            "Compilation is falling back to object mode WITH looplifting enabled because Function \"cal_reordered\" failed type inference due to: non-precise type pyobject\n",
            "During: typing of argument at <ipython-input-7-e3c8edbe8301> (126)\n",
            "\n",
            "File \"<ipython-input-7-e3c8edbe8301>\", line 126:\n",
            "  def cal_reordered(self):\n",
            "    d = self.merge_goods_order()\n",
            "    ^\n",
            "\n",
            "  @jit(nopython = False)\n",
            "<ipython-input-7-e3c8edbe8301>:124: NumbaWarning: \n",
            "Compilation is falling back to object mode WITHOUT looplifting enabled because Function \"cal_reordered\" failed type inference due to: Cannot determine Numba type of <class 'numba.core.dispatcher.LiftedLoop'>\n",
            "\n",
            "File \"<ipython-input-7-e3c8edbe8301>\", line 130:\n",
            "  def cal_reordered(self):\n",
            "      <source elided>\n",
            "    res = []\n",
            "    for cust_id in cust_list[1000:2000]:\n",
            "    ^\n",
            "\n",
            "  @jit(nopython = False)\n",
            "/usr/local/lib/python3.8/dist-packages/numba/core/object_mode_passes.py:151: NumbaWarning: Function \"cal_reordered\" was compiled in object mode without forceobj=True, but has lifted loops.\n",
            "\n",
            "File \"<ipython-input-7-e3c8edbe8301>\", line 126:\n",
            "  def cal_reordered(self):\n",
            "    d = self.merge_goods_order()\n",
            "    ^\n",
            "\n",
            "  warnings.warn(errors.NumbaWarning(warn_msg,\n",
            "/usr/local/lib/python3.8/dist-packages/numba/core/object_mode_passes.py:161: NumbaDeprecationWarning: \n",
            "Fall-back from the nopython compilation path to the object mode compilation path has been detected, this is deprecated behaviour.\n",
            "\n",
            "For more information visit https://numba.readthedocs.io/en/stable/reference/deprecation.html#deprecation-of-object-mode-fall-back-behaviour-when-using-jit\n",
            "\n",
            "File \"<ipython-input-7-e3c8edbe8301>\", line 126:\n",
            "  def cal_reordered(self):\n",
            "    d = self.merge_goods_order()\n",
            "    ^\n",
            "\n",
            "  warnings.warn(errors.NumbaDeprecationWarning(msg,\n",
            "<ipython-input-7-e3c8edbe8301>:124: NumbaWarning: \n",
            "Compilation is falling back to object mode WITHOUT looplifting enabled because Function \"cal_reordered\" failed type inference due to: non-precise type pyobject\n",
            "During: typing of argument at <ipython-input-7-e3c8edbe8301> (130)\n",
            "\n",
            "File \"<ipython-input-7-e3c8edbe8301>\", line 130:\n",
            "  def cal_reordered(self):\n",
            "      <source elided>\n",
            "    res = []\n",
            "    for cust_id in cust_list[1000:2000]:\n",
            "    ^\n",
            "\n",
            "  @jit(nopython = False)\n",
            "/usr/local/lib/python3.8/dist-packages/numba/core/object_mode_passes.py:151: NumbaWarning: Function \"cal_reordered\" was compiled in object mode without forceobj=True.\n",
            "\n",
            "File \"<ipython-input-7-e3c8edbe8301>\", line 130:\n",
            "  def cal_reordered(self):\n",
            "      <source elided>\n",
            "    res = []\n",
            "    for cust_id in cust_list[1000:2000]:\n",
            "    ^\n",
            "\n",
            "  warnings.warn(errors.NumbaWarning(warn_msg,\n",
            "/usr/local/lib/python3.8/dist-packages/numba/core/object_mode_passes.py:161: NumbaDeprecationWarning: \n",
            "Fall-back from the nopython compilation path to the object mode compilation path has been detected, this is deprecated behaviour.\n",
            "\n",
            "For more information visit https://numba.readthedocs.io/en/stable/reference/deprecation.html#deprecation-of-object-mode-fall-back-behaviour-when-using-jit\n",
            "\n",
            "File \"<ipython-input-7-e3c8edbe8301>\", line 130:\n",
            "  def cal_reordered(self):\n",
            "      <source elided>\n",
            "    res = []\n",
            "    for cust_id in cust_list[1000:2000]:\n",
            "    ^\n",
            "\n",
            "  warnings.warn(errors.NumbaDeprecationWarning(msg,\n",
            "<ipython-input-7-e3c8edbe8301>:96: NumbaWarning: \n",
            "Compilation is falling back to object mode WITH looplifting enabled because Function \"get_receipt_order\" failed type inference due to: non-precise type pyobject\n",
            "During: typing of argument at <ipython-input-7-e3c8edbe8301> (98)\n",
            "\n",
            "File \"<ipython-input-7-e3c8edbe8301>\", line 98:\n",
            "  def get_receipt_order(self,number,o):\n",
            "    res=o[o['고객번호']== number]['영수증번호'].unique()\n",
            "    ^\n",
            "\n",
            "  @jit(nopython = False)\n",
            "/usr/local/lib/python3.8/dist-packages/numba/core/object_mode_passes.py:151: NumbaWarning: Function \"get_receipt_order\" was compiled in object mode without forceobj=True.\n",
            "\n",
            "File \"<ipython-input-7-e3c8edbe8301>\", line 97:\n",
            "  @jit(nopython = False)\n",
            "  def get_receipt_order(self,number,o):\n",
            "  ^\n",
            "\n",
            "  warnings.warn(errors.NumbaWarning(warn_msg,\n",
            "/usr/local/lib/python3.8/dist-packages/numba/core/object_mode_passes.py:161: NumbaDeprecationWarning: \n",
            "Fall-back from the nopython compilation path to the object mode compilation path has been detected, this is deprecated behaviour.\n",
            "\n",
            "For more information visit https://numba.readthedocs.io/en/stable/reference/deprecation.html#deprecation-of-object-mode-fall-back-behaviour-when-using-jit\n",
            "\n",
            "File \"<ipython-input-7-e3c8edbe8301>\", line 97:\n",
            "  @jit(nopython = False)\n",
            "  def get_receipt_order(self,number,o):\n",
            "  ^\n",
            "\n",
            "  warnings.warn(errors.NumbaDeprecationWarning(msg,\n",
            "<ipython-input-7-e3c8edbe8301>:100: NumbaWarning: \n",
            "Compilation is falling back to object mode WITH looplifting enabled because Function \"get_goods_name\" failed type inference due to: non-precise type pyobject\n",
            "During: typing of argument at <ipython-input-7-e3c8edbe8301> (102)\n",
            "\n",
            "File \"<ipython-input-7-e3c8edbe8301>\", line 102:\n",
            "  def get_goods_name(self,receipt_number,o):\n",
            "    res=o[o['영수증번호']== receipt_number]['소분류코드'].values\n",
            "    ^\n",
            "\n",
            "  @jit(nopython = False)\n"
          ]
        },
        {
          "metadata": {
            "tags": null
          },
          "name": "stdout",
          "output_type": "stream",
          "text": [
            "1001\n"
          ]
        },
        {
          "metadata": {
            "tags": null
          },
          "name": "stderr",
          "output_type": "stream",
          "text": [
            "/usr/local/lib/python3.8/dist-packages/numba/core/object_mode_passes.py:151: NumbaWarning: Function \"get_goods_name\" was compiled in object mode without forceobj=True.\n",
            "\n",
            "File \"<ipython-input-7-e3c8edbe8301>\", line 101:\n",
            "  @jit(nopython = False)\n",
            "  def get_goods_name(self,receipt_number,o):\n",
            "  ^\n",
            "\n",
            "  warnings.warn(errors.NumbaWarning(warn_msg,\n",
            "/usr/local/lib/python3.8/dist-packages/numba/core/object_mode_passes.py:161: NumbaDeprecationWarning: \n",
            "Fall-back from the nopython compilation path to the object mode compilation path has been detected, this is deprecated behaviour.\n",
            "\n",
            "For more information visit https://numba.readthedocs.io/en/stable/reference/deprecation.html#deprecation-of-object-mode-fall-back-behaviour-when-using-jit\n",
            "\n",
            "File \"<ipython-input-7-e3c8edbe8301>\", line 101:\n",
            "  @jit(nopython = False)\n",
            "  def get_goods_name(self,receipt_number,o):\n",
            "  ^\n",
            "\n",
            "  warnings.warn(errors.NumbaDeprecationWarning(msg,\n",
            "<ipython-input-7-e3c8edbe8301>:113: NumbaWarning: \n",
            "Compilation is falling back to object mode WITH looplifting enabled because Function \"comparison\" failed type inference due to: non-precise type pyobject\n",
            "During: typing of argument at <ipython-input-7-e3c8edbe8301> (115)\n",
            "\n",
            "File \"<ipython-input-7-e3c8edbe8301>\", line 115:\n",
            "  def comparison(self,current,past):\n",
            "    res = []\n",
            "    ^\n",
            "\n",
            "  @jit(nopython = False)\n",
            "/usr/local/lib/python3.8/dist-packages/numba/core/object_mode_passes.py:151: NumbaWarning: Function \"comparison\" was compiled in object mode without forceobj=True.\n",
            "\n",
            "File \"<ipython-input-7-e3c8edbe8301>\", line 114:\n",
            "  @jit(nopython = False)\n",
            "  def comparison(self,current,past):\n",
            "  ^\n",
            "\n",
            "  warnings.warn(errors.NumbaWarning(warn_msg,\n",
            "/usr/local/lib/python3.8/dist-packages/numba/core/object_mode_passes.py:161: NumbaDeprecationWarning: \n",
            "Fall-back from the nopython compilation path to the object mode compilation path has been detected, this is deprecated behaviour.\n",
            "\n",
            "For more information visit https://numba.readthedocs.io/en/stable/reference/deprecation.html#deprecation-of-object-mode-fall-back-behaviour-when-using-jit\n",
            "\n",
            "File \"<ipython-input-7-e3c8edbe8301>\", line 114:\n",
            "  @jit(nopython = False)\n",
            "  def comparison(self,current,past):\n",
            "  ^\n",
            "\n",
            "  warnings.warn(errors.NumbaDeprecationWarning(msg,\n"
          ]
        },
        {
          "output_type": "stream",
          "name": "stdout",
          "text": [
            "1002\n",
            "1003\n",
            "1004\n",
            "1005\n",
            "1006\n",
            "1007\n",
            "1008\n",
            "1009\n",
            "1010\n",
            "1011\n",
            "1012\n",
            "1013\n",
            "1014\n",
            "1015\n",
            "1016\n",
            "1017\n",
            "1018\n",
            "1019\n",
            "1020\n",
            "1021\n",
            "1022\n",
            "1023\n",
            "1024\n",
            "1025\n",
            "1026\n",
            "1027\n",
            "1028\n",
            "1029\n",
            "1030\n",
            "1031\n",
            "1032\n",
            "1033\n",
            "1034\n",
            "1035\n",
            "1036\n",
            "1037\n",
            "1038\n",
            "1039\n",
            "1040\n",
            "1041\n",
            "1042\n",
            "1043\n",
            "1044\n",
            "1045\n",
            "1046\n",
            "1047\n",
            "1048\n",
            "1049\n",
            "1050\n",
            "1051\n",
            "1052\n",
            "1053\n",
            "1054\n",
            "1055\n",
            "1056\n",
            "1057\n",
            "1058\n",
            "1059\n",
            "1060\n",
            "1061\n",
            "1062\n",
            "1063\n",
            "1064\n",
            "1065\n",
            "1066\n",
            "1067\n",
            "1068\n",
            "1069\n",
            "1070\n",
            "1071\n",
            "1072\n",
            "1073\n",
            "1074\n",
            "1075\n",
            "1076\n",
            "1077\n",
            "1078\n",
            "1079\n",
            "1080\n",
            "1081\n",
            "1082\n",
            "1083\n",
            "1084\n",
            "1085\n",
            "1086\n",
            "1087\n",
            "1088\n",
            "1089\n",
            "1090\n",
            "1091\n",
            "1092\n",
            "1093\n",
            "1094\n",
            "1095\n",
            "1096\n",
            "1097\n",
            "1098\n",
            "1099\n",
            "1100\n",
            "1101\n",
            "1102\n",
            "1103\n",
            "1104\n",
            "1105\n",
            "1106\n",
            "1107\n",
            "1108\n",
            "1109\n",
            "1110\n",
            "1111\n",
            "1112\n",
            "1113\n",
            "1114\n",
            "1115\n",
            "1116\n",
            "1117\n",
            "1118\n",
            "1119\n",
            "1120\n",
            "1121\n",
            "1122\n",
            "1123\n",
            "1124\n",
            "1125\n",
            "1126\n",
            "1127\n",
            "1128\n",
            "1129\n",
            "1130\n",
            "1131\n",
            "1132\n",
            "1133\n",
            "1134\n",
            "1135\n",
            "1136\n",
            "1137\n",
            "1138\n",
            "1139\n",
            "1140\n",
            "1141\n",
            "1142\n",
            "1143\n",
            "1144\n",
            "1145\n",
            "1146\n",
            "1147\n",
            "1148\n",
            "1149\n",
            "1150\n",
            "1151\n",
            "1152\n",
            "1153\n",
            "1154\n",
            "1155\n",
            "1156\n",
            "1157\n",
            "1158\n",
            "1159\n",
            "1160\n",
            "1161\n",
            "1162\n",
            "1163\n",
            "1164\n",
            "1165\n",
            "1166\n",
            "1167\n",
            "1168\n",
            "1169\n",
            "1170\n",
            "1171\n",
            "1172\n",
            "1173\n",
            "1174\n",
            "1175\n",
            "1176\n",
            "1177\n",
            "1178\n",
            "1179\n",
            "1180\n",
            "1181\n",
            "1182\n",
            "1183\n",
            "1184\n",
            "1185\n",
            "1186\n",
            "1187\n",
            "1188\n",
            "1189\n",
            "1190\n",
            "1191\n",
            "1192\n",
            "1193\n",
            "1194\n",
            "1195\n",
            "1196\n",
            "1197\n",
            "1198\n",
            "1199\n",
            "1200\n",
            "1201\n",
            "1202\n",
            "1203\n",
            "1204\n",
            "1205\n",
            "1206\n",
            "1207\n",
            "1208\n",
            "1209\n",
            "1210\n",
            "1211\n",
            "1212\n",
            "1213\n",
            "1214\n",
            "1215\n",
            "1216\n",
            "1217\n",
            "1218\n",
            "1219\n",
            "1220\n",
            "1221\n",
            "1222\n",
            "1223\n",
            "1224\n",
            "1225\n",
            "1226\n",
            "1227\n",
            "1228\n",
            "1229\n",
            "1230\n",
            "1231\n",
            "1232\n",
            "1233\n",
            "1234\n",
            "1235\n",
            "1236\n",
            "1237\n",
            "1238\n",
            "1239\n",
            "1240\n",
            "1241\n",
            "1242\n",
            "1243\n",
            "1244\n",
            "1245\n",
            "1246\n",
            "1247\n",
            "1248\n",
            "1249\n",
            "1250\n",
            "1251\n",
            "1252\n",
            "1253\n",
            "1254\n",
            "1255\n",
            "1256\n",
            "1257\n",
            "1258\n",
            "1259\n",
            "1260\n",
            "1261\n",
            "1262\n",
            "1263\n",
            "1264\n",
            "1265\n",
            "1266\n",
            "1267\n",
            "1268\n",
            "1269\n",
            "1270\n",
            "1271\n",
            "1272\n",
            "1273\n",
            "1274\n",
            "1275\n",
            "1276\n",
            "1277\n",
            "1278\n",
            "1279\n",
            "1280\n",
            "1281\n",
            "1282\n",
            "1283\n",
            "1284\n",
            "1285\n",
            "1286\n",
            "1287\n",
            "1288\n",
            "1289\n",
            "1290\n",
            "1291\n",
            "1292\n",
            "1293\n",
            "1294\n",
            "1295\n",
            "1296\n",
            "1297\n",
            "1298\n",
            "1299\n",
            "1300\n",
            "1301\n",
            "1302\n",
            "1303\n",
            "1304\n",
            "1305\n",
            "1306\n",
            "1307\n",
            "1308\n",
            "1309\n",
            "1310\n",
            "1311\n",
            "1312\n",
            "1313\n",
            "1314\n",
            "1315\n",
            "1316\n",
            "1317\n",
            "1318\n",
            "1319\n",
            "1320\n",
            "1321\n",
            "1322\n",
            "1323\n",
            "1324\n",
            "1325\n",
            "1326\n",
            "1327\n",
            "1328\n",
            "1329\n",
            "1330\n",
            "1331\n",
            "1332\n",
            "1333\n",
            "1334\n",
            "1335\n",
            "1336\n",
            "1337\n",
            "1338\n",
            "1339\n",
            "1340\n",
            "1341\n",
            "1342\n",
            "1343\n",
            "1344\n",
            "1345\n",
            "1346\n",
            "1347\n",
            "1348\n",
            "1349\n",
            "1350\n",
            "1351\n",
            "1352\n",
            "1353\n",
            "1354\n",
            "1355\n",
            "1356\n",
            "1357\n",
            "1358\n",
            "1359\n",
            "1360\n",
            "1361\n",
            "1362\n",
            "1363\n",
            "1364\n",
            "1365\n",
            "1366\n",
            "1367\n",
            "1368\n",
            "1369\n",
            "1370\n",
            "1371\n",
            "1372\n",
            "1373\n",
            "1374\n",
            "1375\n",
            "1376\n",
            "1377\n",
            "1378\n",
            "1379\n",
            "1380\n",
            "1381\n",
            "1382\n",
            "1383\n",
            "1384\n",
            "1385\n",
            "1386\n",
            "1387\n",
            "1388\n",
            "1389\n",
            "1390\n",
            "1391\n",
            "1392\n",
            "1393\n",
            "1394\n",
            "1395\n",
            "1396\n",
            "1397\n",
            "1398\n",
            "1399\n",
            "1400\n",
            "1401\n",
            "1402\n",
            "1403\n",
            "1404\n",
            "1405\n",
            "1406\n",
            "1407\n",
            "1408\n",
            "1409\n",
            "1410\n",
            "1411\n",
            "1412\n",
            "1413\n",
            "1414\n",
            "1415\n",
            "1416\n",
            "1417\n",
            "1418\n",
            "1419\n",
            "1420\n",
            "1421\n",
            "1422\n",
            "1423\n",
            "1424\n",
            "1425\n",
            "1426\n",
            "1427\n",
            "1428\n",
            "1429\n",
            "1430\n",
            "1431\n",
            "1432\n",
            "1433\n",
            "1434\n",
            "1435\n",
            "1436\n",
            "1437\n",
            "1438\n",
            "1439\n",
            "1440\n",
            "1441\n",
            "1442\n",
            "1443\n",
            "1444\n",
            "1445\n",
            "1446\n",
            "1447\n",
            "1448\n",
            "1449\n",
            "1450\n",
            "1451\n",
            "1452\n",
            "1453\n",
            "1454\n",
            "1455\n",
            "1456\n",
            "1457\n",
            "1458\n",
            "1459\n",
            "1460\n",
            "1461\n",
            "1462\n",
            "1463\n",
            "1464\n",
            "1465\n",
            "1466\n",
            "1467\n",
            "1468\n",
            "1469\n",
            "1470\n",
            "1471\n",
            "1472\n",
            "1473\n",
            "1474\n",
            "1475\n",
            "1476\n",
            "1477\n",
            "1478\n",
            "1479\n",
            "1480\n",
            "1481\n",
            "1482\n",
            "1483\n",
            "1484\n",
            "1485\n",
            "1486\n",
            "1487\n",
            "1488\n",
            "1489\n",
            "1490\n",
            "1491\n",
            "1492\n",
            "1493\n",
            "1494\n",
            "1495\n",
            "1496\n",
            "1497\n",
            "1498\n",
            "1499\n",
            "1500\n",
            "1501\n",
            "1502\n",
            "1503\n",
            "1504\n",
            "1505\n",
            "1506\n",
            "1507\n",
            "1508\n",
            "1509\n",
            "1510\n",
            "1511\n",
            "1512\n",
            "1513\n",
            "1514\n",
            "1515\n",
            "1516\n",
            "1517\n",
            "1518\n",
            "1519\n",
            "1520\n",
            "1521\n",
            "1522\n",
            "1523\n",
            "1524\n",
            "1525\n",
            "1526\n",
            "1527\n",
            "1528\n",
            "1529\n",
            "1530\n",
            "1531\n",
            "1532\n",
            "1533\n",
            "1534\n",
            "1535\n",
            "1536\n",
            "1537\n",
            "1538\n",
            "1539\n",
            "1540\n",
            "1541\n",
            "1542\n",
            "1543\n",
            "1544\n",
            "1545\n",
            "1546\n",
            "1547\n",
            "1548\n",
            "1549\n",
            "1550\n",
            "1551\n",
            "1552\n",
            "1553\n",
            "1554\n",
            "1555\n",
            "1556\n",
            "1557\n",
            "1558\n",
            "1559\n",
            "1560\n",
            "1561\n",
            "1562\n",
            "1563\n",
            "1564\n",
            "1565\n",
            "1566\n",
            "1567\n",
            "1568\n",
            "1569\n",
            "1570\n",
            "1571\n",
            "1572\n",
            "1573\n",
            "1574\n",
            "1575\n",
            "1576\n",
            "1577\n",
            "1578\n",
            "1579\n",
            "1580\n",
            "1581\n",
            "1582\n",
            "1583\n",
            "1584\n",
            "1585\n",
            "1586\n",
            "1587\n",
            "1588\n",
            "1589\n",
            "1590\n",
            "1591\n",
            "1592\n",
            "1593\n",
            "1594\n",
            "1595\n",
            "1596\n",
            "1597\n",
            "1598\n",
            "1599\n",
            "1600\n",
            "1601\n",
            "1602\n",
            "1603\n",
            "1604\n",
            "1605\n",
            "1606\n",
            "1607\n",
            "1608\n",
            "1609\n",
            "1610\n",
            "1611\n",
            "1612\n",
            "1613\n",
            "1614\n",
            "1615\n",
            "1616\n",
            "1617\n",
            "1618\n",
            "1619\n",
            "1620\n",
            "1621\n",
            "1622\n",
            "1623\n",
            "1624\n",
            "1625\n",
            "1626\n",
            "1627\n",
            "1628\n",
            "1629\n",
            "1630\n",
            "1631\n",
            "1632\n",
            "1633\n",
            "1634\n",
            "1635\n",
            "1636\n",
            "1637\n",
            "1638\n",
            "1639\n",
            "1640\n",
            "1641\n",
            "1642\n",
            "1643\n",
            "1644\n",
            "1645\n",
            "1646\n",
            "1647\n",
            "1648\n",
            "1649\n",
            "1650\n",
            "1651\n",
            "1652\n",
            "1653\n",
            "1654\n",
            "1655\n",
            "1656\n",
            "1657\n",
            "1658\n",
            "1659\n",
            "1660\n",
            "1661\n",
            "1662\n",
            "1663\n",
            "1664\n",
            "1665\n",
            "1666\n",
            "1667\n",
            "1668\n",
            "1669\n",
            "1670\n",
            "1671\n",
            "1672\n",
            "1673\n",
            "1674\n",
            "1675\n",
            "1676\n",
            "1677\n",
            "1678\n",
            "1679\n",
            "1680\n",
            "1681\n",
            "1682\n",
            "1683\n",
            "1684\n",
            "1685\n",
            "1686\n",
            "1687\n",
            "1688\n",
            "1689\n",
            "1690\n",
            "1691\n",
            "1692\n",
            "1693\n",
            "1694\n",
            "1695\n",
            "1696\n",
            "1697\n",
            "1698\n",
            "1699\n",
            "1700\n",
            "1701\n",
            "1702\n",
            "1703\n",
            "1704\n",
            "1705\n",
            "1706\n",
            "1707\n",
            "1708\n",
            "1709\n",
            "1710\n",
            "1711\n",
            "1712\n",
            "1713\n",
            "1714\n",
            "1715\n",
            "1716\n",
            "1717\n",
            "1718\n",
            "1719\n",
            "1720\n",
            "1721\n",
            "1722\n",
            "1723\n",
            "1724\n",
            "1725\n",
            "1726\n",
            "1727\n",
            "1728\n",
            "1729\n",
            "1730\n",
            "1731\n",
            "1732\n",
            "1733\n",
            "1734\n",
            "1735\n",
            "1736\n",
            "1737\n",
            "1738\n",
            "1739\n",
            "1740\n",
            "1741\n",
            "1742\n",
            "1743\n",
            "1744\n",
            "1745\n",
            "1746\n",
            "1747\n",
            "1748\n",
            "1749\n",
            "1750\n",
            "1751\n",
            "1752\n",
            "1753\n",
            "1754\n",
            "1755\n",
            "1756\n",
            "1757\n",
            "1758\n",
            "1759\n",
            "1760\n",
            "1761\n",
            "1762\n",
            "1763\n",
            "1764\n",
            "1765\n",
            "1766\n",
            "1767\n",
            "1768\n",
            "1769\n",
            "1770\n",
            "1771\n",
            "1772\n",
            "1773\n",
            "1774\n",
            "1775\n",
            "1776\n",
            "1777\n",
            "1778\n",
            "1779\n",
            "1780\n",
            "1781\n",
            "1782\n",
            "1783\n",
            "1784\n",
            "1785\n",
            "1786\n",
            "1787\n",
            "1788\n",
            "1789\n",
            "1790\n",
            "1791\n",
            "1792\n",
            "1793\n",
            "1794\n",
            "1795\n",
            "1796\n",
            "1797\n",
            "1798\n",
            "1799\n",
            "1800\n",
            "1801\n",
            "1802\n",
            "1803\n",
            "1804\n",
            "1805\n",
            "1806\n",
            "1807\n",
            "1808\n",
            "1809\n",
            "1810\n",
            "1811\n",
            "1812\n",
            "1813\n",
            "1814\n",
            "1815\n",
            "1816\n",
            "1817\n",
            "1818\n",
            "1819\n",
            "1820\n",
            "1821\n",
            "1822\n",
            "1823\n",
            "1824\n",
            "1825\n",
            "1826\n",
            "1827\n",
            "1828\n",
            "1829\n",
            "1830\n",
            "1831\n",
            "1832\n",
            "1833\n",
            "1834\n",
            "1835\n",
            "1836\n",
            "1837\n",
            "1838\n",
            "1839\n",
            "1840\n",
            "1841\n",
            "1842\n",
            "1843\n",
            "1844\n",
            "1845\n",
            "1846\n",
            "1847\n",
            "1848\n",
            "1849\n",
            "1850\n",
            "1851\n",
            "1852\n",
            "1853\n",
            "1854\n",
            "1855\n",
            "1856\n",
            "1857\n",
            "1858\n",
            "1859\n",
            "1860\n",
            "1861\n",
            "1862\n",
            "1863\n",
            "1864\n",
            "1865\n",
            "1866\n",
            "1867\n",
            "1868\n",
            "1869\n",
            "1870\n",
            "1871\n",
            "1872\n",
            "1873\n",
            "1874\n",
            "1875\n",
            "1876\n",
            "1877\n",
            "1878\n",
            "1879\n",
            "1880\n",
            "1881\n",
            "1882\n",
            "1883\n",
            "1884\n",
            "1885\n",
            "1886\n",
            "1887\n",
            "1888\n",
            "1889\n",
            "1890\n",
            "1891\n",
            "1892\n",
            "1893\n",
            "1894\n",
            "1895\n",
            "1896\n",
            "1897\n",
            "1898\n",
            "1899\n",
            "1900\n",
            "1901\n",
            "1902\n",
            "1903\n",
            "1904\n",
            "1905\n",
            "1906\n",
            "1907\n",
            "1908\n",
            "1909\n",
            "1910\n",
            "1911\n",
            "1912\n",
            "1913\n",
            "1914\n",
            "1915\n",
            "1916\n",
            "1917\n",
            "1918\n",
            "1919\n",
            "1920\n",
            "1921\n",
            "1922\n",
            "1923\n",
            "1924\n",
            "1925\n",
            "1926\n",
            "1927\n",
            "1928\n",
            "1929\n",
            "1930\n",
            "1931\n",
            "1932\n",
            "1933\n",
            "1934\n",
            "1935\n",
            "1936\n",
            "1937\n",
            "1938\n",
            "1939\n",
            "1940\n",
            "1941\n",
            "1942\n",
            "1943\n",
            "1944\n",
            "1945\n",
            "1946\n",
            "1947\n",
            "1948\n",
            "1949\n",
            "1950\n",
            "1951\n",
            "1952\n",
            "1953\n",
            "1954\n",
            "1955\n",
            "1956\n",
            "1957\n",
            "1958\n",
            "1959\n",
            "1960\n",
            "1961\n",
            "1962\n",
            "1963\n",
            "1964\n",
            "1965\n",
            "1966\n",
            "1967\n",
            "1968\n",
            "1969\n",
            "1970\n",
            "1971\n",
            "1972\n",
            "1973\n",
            "1974\n",
            "1975\n",
            "1976\n",
            "1977\n",
            "1978\n",
            "1979\n",
            "1980\n",
            "1981\n",
            "1982\n",
            "1983\n",
            "1984\n",
            "1985\n",
            "1986\n",
            "1987\n",
            "1988\n",
            "1989\n",
            "1990\n",
            "1991\n",
            "1992\n",
            "1993\n",
            "1994\n",
            "1995\n",
            "1996\n",
            "1997\n",
            "1998\n",
            "1999\n",
            "2000\n"
          ]
        }
      ],
      "source": [
        "res = p.cal_reordered()"
      ]
    },
    {
      "cell_type": "code",
      "execution_count": null,
      "metadata": {
        "colab": {
          "base_uri": "https://localhost:8080/",
          "height": 35
        },
        "id": "y3FZUWLNQBGR",
        "outputId": "c8947c0a-aeeb-4466-8b8e-07ba83cd7e99"
      },
      "outputs": [
        {
          "output_type": "execute_result",
          "data": {
            "text/plain": [
              "'각고객의구매당평균항목수.csv'"
            ],
            "application/vnd.google.colaboratory.intrinsic+json": {
              "type": "string"
            }
          },
          "metadata": {},
          "execution_count": 11
        }
      ],
      "source": [
        "import os\n",
        "os.listdir('/gdrive/MyDrive/프로젝트2/프로젝트')[-1]"
      ]
    },
    {
      "cell_type": "markdown",
      "metadata": {
        "id": "hdWH-U7ct4bv"
      },
      "source": [
        "#rfm"
      ]
    },
    {
      "cell_type": "code",
      "execution_count": null,
      "metadata": {
        "id": "re2VL2gGU22u"
      },
      "outputs": [],
      "source": [
        "df=p.get_rfm_15()\n",
        "data=p.get_kmeans_clustering(df,8)"
      ]
    },
    {
      "cell_type": "code",
      "execution_count": null,
      "metadata": {
        "id": "N6zXJTMwhEfM"
      },
      "outputs": [],
      "source": [
        "df_new = df.copy()\n",
        "df_new['cluster'] = data['cluster']\n",
        "p.get_cluster_scatterplot(df_new)"
      ]
    },
    {
      "cell_type": "code",
      "execution_count": null,
      "metadata": {
        "id": "kS5qLz5yiIV4"
      },
      "outputs": [],
      "source": [
        "df_bin=p.get_rfm_15_binary()\n",
        "df_bin.to_csv('15rfm.csv',index = False)"
      ]
    },
    {
      "cell_type": "code",
      "execution_count": null,
      "metadata": {
        "colab": {
          "base_uri": "https://localhost:8080/",
          "height": 460
        },
        "id": "MiqcN-bwlTBV",
        "outputId": "5d1824cc-7ebb-4eef-9f48-eadeddda00b5"
      },
      "outputs": [
        {
          "name": "stdout",
          "output_type": "stream",
          "text": [
            "270.0\n",
            "8357765.0\n"
          ]
        },
        {
          "data": {
            "text/html": [
              "\n",
              "  <div id=\"df-46a4596f-7295-4a5e-92cb-13bb8a697c6c\">\n",
              "    <div class=\"colab-df-container\">\n",
              "      <div>\n",
              "<style scoped>\n",
              "    .dataframe tbody tr th:only-of-type {\n",
              "        vertical-align: middle;\n",
              "    }\n",
              "\n",
              "    .dataframe tbody tr th {\n",
              "        vertical-align: top;\n",
              "    }\n",
              "\n",
              "    .dataframe thead th {\n",
              "        text-align: right;\n",
              "    }\n",
              "</style>\n",
              "<table border=\"1\" class=\"dataframe\">\n",
              "  <thead>\n",
              "    <tr style=\"text-align: right;\">\n",
              "      <th></th>\n",
              "      <th>recency</th>\n",
              "      <th>frequency</th>\n",
              "      <th>monetary</th>\n",
              "      <th>cust_seg</th>\n",
              "    </tr>\n",
              "  </thead>\n",
              "  <tbody>\n",
              "    <tr>\n",
              "      <th>0</th>\n",
              "      <td>1</td>\n",
              "      <td>1</td>\n",
              "      <td>1</td>\n",
              "      <td>0</td>\n",
              "    </tr>\n",
              "    <tr>\n",
              "      <th>1</th>\n",
              "      <td>1</td>\n",
              "      <td>1</td>\n",
              "      <td>1</td>\n",
              "      <td>0</td>\n",
              "    </tr>\n",
              "    <tr>\n",
              "      <th>2</th>\n",
              "      <td>1</td>\n",
              "      <td>1</td>\n",
              "      <td>0</td>\n",
              "      <td>1</td>\n",
              "    </tr>\n",
              "    <tr>\n",
              "      <th>3</th>\n",
              "      <td>1</td>\n",
              "      <td>0</td>\n",
              "      <td>1</td>\n",
              "      <td>2</td>\n",
              "    </tr>\n",
              "    <tr>\n",
              "      <th>4</th>\n",
              "      <td>1</td>\n",
              "      <td>1</td>\n",
              "      <td>0</td>\n",
              "      <td>1</td>\n",
              "    </tr>\n",
              "    <tr>\n",
              "      <th>...</th>\n",
              "      <td>...</td>\n",
              "      <td>...</td>\n",
              "      <td>...</td>\n",
              "      <td>...</td>\n",
              "    </tr>\n",
              "    <tr>\n",
              "      <th>19378</th>\n",
              "      <td>1</td>\n",
              "      <td>0</td>\n",
              "      <td>0</td>\n",
              "      <td>3</td>\n",
              "    </tr>\n",
              "    <tr>\n",
              "      <th>19379</th>\n",
              "      <td>1</td>\n",
              "      <td>0</td>\n",
              "      <td>0</td>\n",
              "      <td>3</td>\n",
              "    </tr>\n",
              "    <tr>\n",
              "      <th>19380</th>\n",
              "      <td>0</td>\n",
              "      <td>0</td>\n",
              "      <td>0</td>\n",
              "      <td>5</td>\n",
              "    </tr>\n",
              "    <tr>\n",
              "      <th>19381</th>\n",
              "      <td>0</td>\n",
              "      <td>0</td>\n",
              "      <td>0</td>\n",
              "      <td>5</td>\n",
              "    </tr>\n",
              "    <tr>\n",
              "      <th>19382</th>\n",
              "      <td>0</td>\n",
              "      <td>0</td>\n",
              "      <td>0</td>\n",
              "      <td>5</td>\n",
              "    </tr>\n",
              "  </tbody>\n",
              "</table>\n",
              "<p>19383 rows × 4 columns</p>\n",
              "</div>\n",
              "      <button class=\"colab-df-convert\" onclick=\"convertToInteractive('df-46a4596f-7295-4a5e-92cb-13bb8a697c6c')\"\n",
              "              title=\"Convert this dataframe to an interactive table.\"\n",
              "              style=\"display:none;\">\n",
              "        \n",
              "  <svg xmlns=\"http://www.w3.org/2000/svg\" height=\"24px\"viewBox=\"0 0 24 24\"\n",
              "       width=\"24px\">\n",
              "    <path d=\"M0 0h24v24H0V0z\" fill=\"none\"/>\n",
              "    <path d=\"M18.56 5.44l.94 2.06.94-2.06 2.06-.94-2.06-.94-.94-2.06-.94 2.06-2.06.94zm-11 1L8.5 8.5l.94-2.06 2.06-.94-2.06-.94L8.5 2.5l-.94 2.06-2.06.94zm10 10l.94 2.06.94-2.06 2.06-.94-2.06-.94-.94-2.06-.94 2.06-2.06.94z\"/><path d=\"M17.41 7.96l-1.37-1.37c-.4-.4-.92-.59-1.43-.59-.52 0-1.04.2-1.43.59L10.3 9.45l-7.72 7.72c-.78.78-.78 2.05 0 2.83L4 21.41c.39.39.9.59 1.41.59.51 0 1.02-.2 1.41-.59l7.78-7.78 2.81-2.81c.8-.78.8-2.07 0-2.86zM5.41 20L4 18.59l7.72-7.72 1.47 1.35L5.41 20z\"/>\n",
              "  </svg>\n",
              "      </button>\n",
              "      \n",
              "  <style>\n",
              "    .colab-df-container {\n",
              "      display:flex;\n",
              "      flex-wrap:wrap;\n",
              "      gap: 12px;\n",
              "    }\n",
              "\n",
              "    .colab-df-convert {\n",
              "      background-color: #E8F0FE;\n",
              "      border: none;\n",
              "      border-radius: 50%;\n",
              "      cursor: pointer;\n",
              "      display: none;\n",
              "      fill: #1967D2;\n",
              "      height: 32px;\n",
              "      padding: 0 0 0 0;\n",
              "      width: 32px;\n",
              "    }\n",
              "\n",
              "    .colab-df-convert:hover {\n",
              "      background-color: #E2EBFA;\n",
              "      box-shadow: 0px 1px 2px rgba(60, 64, 67, 0.3), 0px 1px 3px 1px rgba(60, 64, 67, 0.15);\n",
              "      fill: #174EA6;\n",
              "    }\n",
              "\n",
              "    [theme=dark] .colab-df-convert {\n",
              "      background-color: #3B4455;\n",
              "      fill: #D2E3FC;\n",
              "    }\n",
              "\n",
              "    [theme=dark] .colab-df-convert:hover {\n",
              "      background-color: #434B5C;\n",
              "      box-shadow: 0px 1px 3px 1px rgba(0, 0, 0, 0.15);\n",
              "      filter: drop-shadow(0px 1px 2px rgba(0, 0, 0, 0.3));\n",
              "      fill: #FFFFFF;\n",
              "    }\n",
              "  </style>\n",
              "\n",
              "      <script>\n",
              "        const buttonEl =\n",
              "          document.querySelector('#df-46a4596f-7295-4a5e-92cb-13bb8a697c6c button.colab-df-convert');\n",
              "        buttonEl.style.display =\n",
              "          google.colab.kernel.accessAllowed ? 'block' : 'none';\n",
              "\n",
              "        async function convertToInteractive(key) {\n",
              "          const element = document.querySelector('#df-46a4596f-7295-4a5e-92cb-13bb8a697c6c');\n",
              "          const dataTable =\n",
              "            await google.colab.kernel.invokeFunction('convertToInteractive',\n",
              "                                                     [key], {});\n",
              "          if (!dataTable) return;\n",
              "\n",
              "          const docLinkHtml = 'Like what you see? Visit the ' +\n",
              "            '<a target=\"_blank\" href=https://colab.research.google.com/notebooks/data_table.ipynb>data table notebook</a>'\n",
              "            + ' to learn more about interactive tables.';\n",
              "          element.innerHTML = '';\n",
              "          dataTable['output_type'] = 'display_data';\n",
              "          await google.colab.output.renderOutput(dataTable, element);\n",
              "          const docLink = document.createElement('div');\n",
              "          docLink.innerHTML = docLinkHtml;\n",
              "          element.appendChild(docLink);\n",
              "        }\n",
              "      </script>\n",
              "    </div>\n",
              "  </div>\n",
              "  "
            ],
            "text/plain": [
              "       recency  frequency  monetary  cust_seg\n",
              "0            1          1         1         0\n",
              "1            1          1         1         0\n",
              "2            1          1         0         1\n",
              "3            1          0         1         2\n",
              "4            1          1         0         1\n",
              "...        ...        ...       ...       ...\n",
              "19378        1          0         0         3\n",
              "19379        1          0         0         3\n",
              "19380        0          0         0         5\n",
              "19381        0          0         0         5\n",
              "19382        0          0         0         5\n",
              "\n",
              "[19383 rows x 4 columns]"
            ]
          },
          "execution_count": 56,
          "metadata": {},
          "output_type": "execute_result"
        }
      ],
      "source": [
        "p.get_rfm_14_binary()"
      ]
    },
    {
      "cell_type": "markdown",
      "metadata": {
        "id": "-qHGene7T8mJ"
      },
      "source": [
        "#구매감소예측"
      ]
    },
    {
      "cell_type": "code",
      "execution_count": null,
      "metadata": {
        "id": "R4ScqiNrsqN6"
      },
      "outputs": [],
      "source": [
        "p.show_customer()['반기별_고객분류']"
      ]
    },
    {
      "cell_type": "code",
      "execution_count": null,
      "metadata": {
        "id": "HVKwqOdQ0C8n"
      },
      "outputs": [],
      "source": [
        "p.set_feature_customer('구매증감지수',p.show_customer()['15_4분기_구매금액']/p.show_customer()['14_1분기_구매금액'])"
      ]
    },
    {
      "cell_type": "code",
      "execution_count": null,
      "metadata": {
        "id": "Ixw9sqZ7ZWTa"
      },
      "outputs": [],
      "source": [
        "cus=p.show_customer()\n",
        "sum=(cus['15년도_구매금액'].sum()/cus['14년도_구매금액'].sum())\n",
        "d=cus[cus['구매증감지수'] < sum].groupby(['성별','연령대'])[['총구매금액']].mean().reset_index()"
      ]
    },
    {
      "cell_type": "code",
      "execution_count": null,
      "metadata": {
        "id": "Q6eXY_OibV6U"
      },
      "outputs": [],
      "source": [
        "d"
      ]
    },
    {
      "cell_type": "code",
      "execution_count": null,
      "metadata": {
        "id": "dF1t0OTEbMYH"
      },
      "outputs": [],
      "source": [
        "sns.barplot(data = d,x = '연령대',y = '총구매금액',hue = '성별')"
      ]
    },
    {
      "cell_type": "code",
      "execution_count": null,
      "metadata": {
        "colab": {
          "base_uri": "https://localhost:8080/"
        },
        "id": "TmODdL-caNDc",
        "outputId": "9f3b9763-435c-4b36-fafc-1c2ac7b566b8"
      },
      "outputs": [
        {
          "data": {
            "text/plain": [
              "347417316360"
            ]
          },
          "execution_count": 27,
          "metadata": {},
          "output_type": "execute_result"
        }
      ],
      "source": [
        "cus['15년도_구매금액'].sum()"
      ]
    },
    {
      "cell_type": "code",
      "execution_count": null,
      "metadata": {
        "colab": {
          "base_uri": "https://localhost:8080/"
        },
        "id": "t_UGxnQ9akke",
        "outputId": "ad437f0c-b0bd-49b3-c226-6add90de2fc0"
      },
      "outputs": [
        {
          "data": {
            "text/plain": [
              "329601840581"
            ]
          },
          "execution_count": 28,
          "metadata": {},
          "output_type": "execute_result"
        }
      ],
      "source": [
        "cus['14년도_구매금액'].sum()"
      ]
    },
    {
      "cell_type": "code",
      "execution_count": null,
      "metadata": {
        "id": "Rcq-TKN-tQMa"
      },
      "outputs": [],
      "source": [
        "new = cus[['14_1분기_구매금액','14_2분기_구매금액', '14_3분기_구매금액', '14_4분기_구매금액', '15_1분기_구매금액','15_2분기_구매금액', '15_3분기_구매금액', '15_4분기_구매금액']]\n",
        "#계절성제거해야됨\n",
        "\n",
        "\n",
        "target=((new['15_3분기_구매금액']-new['14_1분기_구매금액'])/new['14_1분기_구매금액'])*100\n",
        "sum=((new['15_3분기_구매금액'].sum()-new['14_1분기_구매금액'].sum())/new['14_1분기_구매금액'].sum())*100\n",
        "\n",
        "target2=((new['15_4분기_구매금액']-new['14_1분기_구매금액'])/new['14_1분기_구매금액'])*100\n",
        "sum2=((new['15_4분기_구매금액'].sum()-new['14_1분기_구매금액'].sum())/new['14_1분기_구매금액'].sum())*100"
      ]
    },
    {
      "cell_type": "code",
      "execution_count": null,
      "metadata": {
        "id": "lp7R6VBH5iox"
      },
      "outputs": [],
      "source": [
        "target=np.where(target == np.inf,0,target)\n",
        "target2 = np.where(target2==np.inf,0,target2)"
      ]
    },
    {
      "cell_type": "code",
      "execution_count": null,
      "metadata": {
        "id": "aQXV6lhV5gLg"
      },
      "outputs": [],
      "source": [
        "cus['target_3'] = target.tolist()\n",
        "cus['target'] = target2.tolist()"
      ]
    },
    {
      "cell_type": "code",
      "execution_count": null,
      "metadata": {
        "id": "l7NtgsHJ5pG7"
      },
      "outputs": [],
      "source": [
        "cus['label_3'] = np.where(cus.target_3 < sum,0,1)\n",
        "cus['label'] = np.where(cus.target < sum2,0,1)"
      ]
    },
    {
      "cell_type": "code",
      "execution_count": null,
      "metadata": {
        "colab": {
          "base_uri": "https://localhost:8080/"
        },
        "id": "DrfljHPY55Zh",
        "outputId": "8a86a64b-3545-4b5e-df68-162529cabce8"
      },
      "outputs": [
        {
          "data": {
            "text/plain": [
              "0.5857194448743744"
            ]
          },
          "execution_count": 111,
          "metadata": {},
          "output_type": "execute_result"
        }
      ],
      "source": [
        "len(cus[cus['label'] == 0])/len(cus)"
      ]
    },
    {
      "cell_type": "code",
      "execution_count": null,
      "metadata": {
        "id": "ilEOF3px7YnS"
      },
      "outputs": [],
      "source": [
        "encoder = LabelEncoder()\n",
        "sex=encoder.fit_transform(cus.성별)\n",
        "age = encoder.fit_transform(cus.연령대)\n",
        "address = encoder.fit_transform(cus.거주지역.astype('object'))"
      ]
    },
    {
      "cell_type": "code",
      "execution_count": null,
      "metadata": {
        "id": "acfzOLmA9xKr"
      },
      "outputs": [],
      "source": [
        "cus['성별'] = sex\n",
        "cus['연령대'] = age\n",
        "cus['거주지역'] = address"
      ]
    },
    {
      "cell_type": "code",
      "execution_count": null,
      "metadata": {
        "id": "Tuln-yOH6Ftt"
      },
      "outputs": [],
      "source": [
        "x_train=cus[['성별', '연령대', '거주지역','14_1분기_구매금액',\n",
        "       '14_2분기_구매금액', '14_3분기_구매금액', '14_4분기_구매금액', '15_1분기_구매금액',\n",
        "       '15_2분기_구매금액', '15_3분기_구매금액','14년도_1분기_영수증갯수', '14년도_2분기_영수증갯수',\n",
        "       '14년도_3분기_영수증갯수', '14년도_4분기_영수증갯수','15년도_1분기_영수증갯수.1',\n",
        "       '15년도_2분기_영수증갯수.1', '15년도_3분기_영수증갯수']]\n",
        "y_train = cus[['label_3']]"
      ]
    },
    {
      "cell_type": "code",
      "execution_count": null,
      "metadata": {
        "id": "4HJdPCAm8dIG"
      },
      "outputs": [],
      "source": [
        "x_test=cus[['성별', '연령대', '거주지역','14_1분기_구매금액',\n",
        "       '14_2분기_구매금액', '14_3분기_구매금액', '14_4분기_구매금액', '15_1분기_구매금액',\n",
        "       '15_2분기_구매금액', '15_3분기_구매금액','14년도_1분기_영수증갯수', '14년도_2분기_영수증갯수',\n",
        "       '14년도_3분기_영수증갯수', '14년도_4분기_영수증갯수','15년도_1분기_영수증갯수.1',\n",
        "       '15년도_2분기_영수증갯수.1', '15년도_3분기_영수증갯수']]\n",
        "y_test = cus[['label']]"
      ]
    },
    {
      "cell_type": "code",
      "execution_count": null,
      "metadata": {
        "colab": {
          "base_uri": "https://localhost:8080/"
        },
        "id": "r7sSC1fs9NLB",
        "outputId": "6d568ef0-283c-4c16-8963-64bde1712fd1"
      },
      "outputs": [
        {
          "name": "stderr",
          "output_type": "stream",
          "text": [
            "/usr/local/lib/python3.8/dist-packages/sklearn/utils/validation.py:993: DataConversionWarning: A column-vector y was passed when a 1d array was expected. Please change the shape of y to (n_samples, ), for example using ravel().\n",
            "  y = column_or_1d(y, warn=True)\n",
            "/usr/local/lib/python3.8/dist-packages/sklearn/preprocessing/_label.py:98: DataConversionWarning: A column-vector y was passed when a 1d array was expected. Please change the shape of y to (n_samples, ), for example using ravel().\n",
            "  y = column_or_1d(y, warn=True)\n",
            "/usr/local/lib/python3.8/dist-packages/sklearn/preprocessing/_label.py:133: DataConversionWarning: A column-vector y was passed when a 1d array was expected. Please change the shape of y to (n_samples, ), for example using ravel().\n",
            "  y = column_or_1d(y, warn=True)\n"
          ]
        },
        {
          "data": {
            "text/plain": [
              "0.7210958056028478"
            ]
          },
          "execution_count": 116,
          "metadata": {},
          "output_type": "execute_result"
        }
      ],
      "source": [
        "\n",
        "lr = LogisticRegression()\n",
        "model = LGBMClassifier()\n",
        "lr.fit(x_train,y_train)\n",
        "model.fit(x_train,y_train)\n",
        "preds=lr.predict(x_test)\n",
        "prds2 = model.predict(x_test)\n",
        "accuracy_score(preds,y_test)\n",
        "accuracy_score(prds2,y_test)"
      ]
    },
    {
      "cell_type": "code",
      "execution_count": null,
      "metadata": {
        "colab": {
          "base_uri": "https://localhost:8080/"
        },
        "id": "B9qQE-srHroH",
        "outputId": "0227b8d5-924b-4093-9574-f331b1a48bc0"
      },
      "outputs": [
        {
          "data": {
            "text/plain": [
              "array([   0,    9,   22, 1381,   16,   12,   13,   17,   28, 1264,   63,\n",
              "          8,   27,   20,   21,   27,   72])"
            ]
          },
          "execution_count": 119,
          "metadata": {},
          "output_type": "execute_result"
        }
      ],
      "source": [
        "dataset = [['Milk', 'Onion', 'Nutmeg', 'Eggs', 'Yogurt'],\n",
        "           ['Onion', 'Nutmeg', 'Eggs', 'Yogurt'],\n",
        "           ['Milk', 'Apple', 'Eggs'],\n",
        "           ['Milk', 'Unicorn', 'Corn', 'Yogurt'],\n",
        "           ['Corn', 'Onion', 'Onion', 'Ice cream', 'Eggs']]\n",
        "\n",
        "te = TransactionEncoder()\n",
        "te_ary = te.fit_transform(dataset)\n",
        "df = pd.DataFrame(te_ary, columns=te.columns_)\n",
        "\n",
        "\n",
        "frequent_itemsets = apriori(df, min_support=0.5, use_colnames=True)"
      ]
    },
    {
      "cell_type": "code",
      "execution_count": null,
      "metadata": {
        "id": "iD-564VvZ_kz"
      },
      "outputs": [],
      "source": [
        "goods_order=p.merge_goods_order()"
      ]
    },
    {
      "cell_type": "code",
      "execution_count": null,
      "metadata": {
        "colab": {
          "base_uri": "https://localhost:8080/",
          "height": 423
        },
        "id": "dZ1T6MFFdcQB",
        "outputId": "c8ca523f-b3e8-43a7-d00c-37baa9e4bdcf"
      },
      "outputs": [
        {
          "data": {
            "text/html": [
              "\n",
              "  <div id=\"df-dff987d9-1eb7-4762-aefd-124a66bdd017\">\n",
              "    <div class=\"colab-df-container\">\n",
              "      <div>\n",
              "<style scoped>\n",
              "    .dataframe tbody tr th:only-of-type {\n",
              "        vertical-align: middle;\n",
              "    }\n",
              "\n",
              "    .dataframe tbody tr th {\n",
              "        vertical-align: top;\n",
              "    }\n",
              "\n",
              "    .dataframe thead th {\n",
              "        text-align: right;\n",
              "    }\n",
              "</style>\n",
              "<table border=\"1\" class=\"dataframe\">\n",
              "  <thead>\n",
              "    <tr style=\"text-align: right;\">\n",
              "      <th></th>\n",
              "      <th>제휴사</th>\n",
              "      <th>영수증번호</th>\n",
              "      <th>대분류코드_x</th>\n",
              "      <th>중분류코드</th>\n",
              "      <th>소분류코드</th>\n",
              "      <th>고객번호</th>\n",
              "      <th>점포코드</th>\n",
              "      <th>구매일자</th>\n",
              "      <th>구매시간</th>\n",
              "      <th>구매금액</th>\n",
              "      <th>대분류코드_y</th>\n",
              "      <th>중분류명</th>\n",
              "      <th>Unnamed: 5</th>\n",
              "      <th>소분류명</th>\n",
              "    </tr>\n",
              "  </thead>\n",
              "  <tbody>\n",
              "    <tr>\n",
              "      <th>0</th>\n",
              "      <td>B</td>\n",
              "      <td>8664000</td>\n",
              "      <td>15</td>\n",
              "      <td>1504</td>\n",
              "      <td>B150401</td>\n",
              "      <td>17218</td>\n",
              "      <td>44</td>\n",
              "      <td>20140222</td>\n",
              "      <td>20</td>\n",
              "      <td>2420</td>\n",
              "      <td>가공식품</td>\n",
              "      <td>탄산음료</td>\n",
              "      <td>음료</td>\n",
              "      <td>사이다</td>\n",
              "    </tr>\n",
              "    <tr>\n",
              "      <th>1</th>\n",
              "      <td>B</td>\n",
              "      <td>8664007</td>\n",
              "      <td>15</td>\n",
              "      <td>1504</td>\n",
              "      <td>B150401</td>\n",
              "      <td>11303</td>\n",
              "      <td>44</td>\n",
              "      <td>20140222</td>\n",
              "      <td>13</td>\n",
              "      <td>2400</td>\n",
              "      <td>가공식품</td>\n",
              "      <td>탄산음료</td>\n",
              "      <td>음료</td>\n",
              "      <td>사이다</td>\n",
              "    </tr>\n",
              "    <tr>\n",
              "      <th>2</th>\n",
              "      <td>B</td>\n",
              "      <td>8919520</td>\n",
              "      <td>15</td>\n",
              "      <td>1504</td>\n",
              "      <td>B150401</td>\n",
              "      <td>13210</td>\n",
              "      <td>48</td>\n",
              "      <td>20150921</td>\n",
              "      <td>19</td>\n",
              "      <td>5250</td>\n",
              "      <td>가공식품</td>\n",
              "      <td>탄산음료</td>\n",
              "      <td>음료</td>\n",
              "      <td>사이다</td>\n",
              "    </tr>\n",
              "    <tr>\n",
              "      <th>3</th>\n",
              "      <td>B</td>\n",
              "      <td>6956422</td>\n",
              "      <td>15</td>\n",
              "      <td>1504</td>\n",
              "      <td>B150401</td>\n",
              "      <td>13823</td>\n",
              "      <td>12</td>\n",
              "      <td>20140813</td>\n",
              "      <td>18</td>\n",
              "      <td>2250</td>\n",
              "      <td>가공식품</td>\n",
              "      <td>탄산음료</td>\n",
              "      <td>음료</td>\n",
              "      <td>사이다</td>\n",
              "    </tr>\n",
              "    <tr>\n",
              "      <th>4</th>\n",
              "      <td>B</td>\n",
              "      <td>6957156</td>\n",
              "      <td>15</td>\n",
              "      <td>1504</td>\n",
              "      <td>B150401</td>\n",
              "      <td>18970</td>\n",
              "      <td>12</td>\n",
              "      <td>20140831</td>\n",
              "      <td>22</td>\n",
              "      <td>4900</td>\n",
              "      <td>가공식품</td>\n",
              "      <td>탄산음료</td>\n",
              "      <td>음료</td>\n",
              "      <td>사이다</td>\n",
              "    </tr>\n",
              "    <tr>\n",
              "      <th>...</th>\n",
              "      <td>...</td>\n",
              "      <td>...</td>\n",
              "      <td>...</td>\n",
              "      <td>...</td>\n",
              "      <td>...</td>\n",
              "      <td>...</td>\n",
              "      <td>...</td>\n",
              "      <td>...</td>\n",
              "      <td>...</td>\n",
              "      <td>...</td>\n",
              "      <td>...</td>\n",
              "      <td>...</td>\n",
              "      <td>...</td>\n",
              "      <td>...</td>\n",
              "    </tr>\n",
              "    <tr>\n",
              "      <th>28593025</th>\n",
              "      <td>B</td>\n",
              "      <td>7269975</td>\n",
              "      <td>14</td>\n",
              "      <td>1415</td>\n",
              "      <td>B141503</td>\n",
              "      <td>134</td>\n",
              "      <td>16</td>\n",
              "      <td>20141130</td>\n",
              "      <td>15</td>\n",
              "      <td>8900</td>\n",
              "      <td>가공식품</td>\n",
              "      <td>전통과자</td>\n",
              "      <td>과자류</td>\n",
              "      <td>온라인팥빙수재료</td>\n",
              "    </tr>\n",
              "    <tr>\n",
              "      <th>28593026</th>\n",
              "      <td>B</td>\n",
              "      <td>7946814</td>\n",
              "      <td>68</td>\n",
              "      <td>6802</td>\n",
              "      <td>B680209</td>\n",
              "      <td>18484</td>\n",
              "      <td>26</td>\n",
              "      <td>20141227</td>\n",
              "      <td>14</td>\n",
              "      <td>1000</td>\n",
              "      <td>패션잡화</td>\n",
              "      <td>여성양말</td>\n",
              "      <td>양말</td>\n",
              "      <td>여성발가락</td>\n",
              "    </tr>\n",
              "    <tr>\n",
              "      <th>28593027</th>\n",
              "      <td>B</td>\n",
              "      <td>7777110</td>\n",
              "      <td>7</td>\n",
              "      <td>702</td>\n",
              "      <td>B070203</td>\n",
              "      <td>5043</td>\n",
              "      <td>21</td>\n",
              "      <td>20151012</td>\n",
              "      <td>22</td>\n",
              "      <td>4510</td>\n",
              "      <td>가공식품</td>\n",
              "      <td>즉석구이안주</td>\n",
              "      <td>즉석/편의</td>\n",
              "      <td>즉석쥐포</td>\n",
              "    </tr>\n",
              "    <tr>\n",
              "      <th>28593028</th>\n",
              "      <td>B</td>\n",
              "      <td>7579178</td>\n",
              "      <td>7</td>\n",
              "      <td>703</td>\n",
              "      <td>B070305</td>\n",
              "      <td>4073</td>\n",
              "      <td>18</td>\n",
              "      <td>20140125</td>\n",
              "      <td>20</td>\n",
              "      <td>8900</td>\n",
              "      <td>가공식품</td>\n",
              "      <td>마른안주</td>\n",
              "      <td>즉석/편의</td>\n",
              "      <td>온라인 안주</td>\n",
              "    </tr>\n",
              "    <tr>\n",
              "      <th>28593029</th>\n",
              "      <td>B</td>\n",
              "      <td>8123279</td>\n",
              "      <td>36</td>\n",
              "      <td>3607</td>\n",
              "      <td>B360704</td>\n",
              "      <td>11509</td>\n",
              "      <td>29</td>\n",
              "      <td>20150821</td>\n",
              "      <td>13</td>\n",
              "      <td>2800</td>\n",
              "      <td>일상용품</td>\n",
              "      <td>시니어건강용품</td>\n",
              "      <td>건강의료용품</td>\n",
              "      <td>침실용품</td>\n",
              "    </tr>\n",
              "  </tbody>\n",
              "</table>\n",
              "<p>28593030 rows × 14 columns</p>\n",
              "</div>\n",
              "      <button class=\"colab-df-convert\" onclick=\"convertToInteractive('df-dff987d9-1eb7-4762-aefd-124a66bdd017')\"\n",
              "              title=\"Convert this dataframe to an interactive table.\"\n",
              "              style=\"display:none;\">\n",
              "        \n",
              "  <svg xmlns=\"http://www.w3.org/2000/svg\" height=\"24px\"viewBox=\"0 0 24 24\"\n",
              "       width=\"24px\">\n",
              "    <path d=\"M0 0h24v24H0V0z\" fill=\"none\"/>\n",
              "    <path d=\"M18.56 5.44l.94 2.06.94-2.06 2.06-.94-2.06-.94-.94-2.06-.94 2.06-2.06.94zm-11 1L8.5 8.5l.94-2.06 2.06-.94-2.06-.94L8.5 2.5l-.94 2.06-2.06.94zm10 10l.94 2.06.94-2.06 2.06-.94-2.06-.94-.94-2.06-.94 2.06-2.06.94z\"/><path d=\"M17.41 7.96l-1.37-1.37c-.4-.4-.92-.59-1.43-.59-.52 0-1.04.2-1.43.59L10.3 9.45l-7.72 7.72c-.78.78-.78 2.05 0 2.83L4 21.41c.39.39.9.59 1.41.59.51 0 1.02-.2 1.41-.59l7.78-7.78 2.81-2.81c.8-.78.8-2.07 0-2.86zM5.41 20L4 18.59l7.72-7.72 1.47 1.35L5.41 20z\"/>\n",
              "  </svg>\n",
              "      </button>\n",
              "      \n",
              "  <style>\n",
              "    .colab-df-container {\n",
              "      display:flex;\n",
              "      flex-wrap:wrap;\n",
              "      gap: 12px;\n",
              "    }\n",
              "\n",
              "    .colab-df-convert {\n",
              "      background-color: #E8F0FE;\n",
              "      border: none;\n",
              "      border-radius: 50%;\n",
              "      cursor: pointer;\n",
              "      display: none;\n",
              "      fill: #1967D2;\n",
              "      height: 32px;\n",
              "      padding: 0 0 0 0;\n",
              "      width: 32px;\n",
              "    }\n",
              "\n",
              "    .colab-df-convert:hover {\n",
              "      background-color: #E2EBFA;\n",
              "      box-shadow: 0px 1px 2px rgba(60, 64, 67, 0.3), 0px 1px 3px 1px rgba(60, 64, 67, 0.15);\n",
              "      fill: #174EA6;\n",
              "    }\n",
              "\n",
              "    [theme=dark] .colab-df-convert {\n",
              "      background-color: #3B4455;\n",
              "      fill: #D2E3FC;\n",
              "    }\n",
              "\n",
              "    [theme=dark] .colab-df-convert:hover {\n",
              "      background-color: #434B5C;\n",
              "      box-shadow: 0px 1px 3px 1px rgba(0, 0, 0, 0.15);\n",
              "      filter: drop-shadow(0px 1px 2px rgba(0, 0, 0, 0.3));\n",
              "      fill: #FFFFFF;\n",
              "    }\n",
              "  </style>\n",
              "\n",
              "      <script>\n",
              "        const buttonEl =\n",
              "          document.querySelector('#df-dff987d9-1eb7-4762-aefd-124a66bdd017 button.colab-df-convert');\n",
              "        buttonEl.style.display =\n",
              "          google.colab.kernel.accessAllowed ? 'block' : 'none';\n",
              "\n",
              "        async function convertToInteractive(key) {\n",
              "          const element = document.querySelector('#df-dff987d9-1eb7-4762-aefd-124a66bdd017');\n",
              "          const dataTable =\n",
              "            await google.colab.kernel.invokeFunction('convertToInteractive',\n",
              "                                                     [key], {});\n",
              "          if (!dataTable) return;\n",
              "\n",
              "          const docLinkHtml = 'Like what you see? Visit the ' +\n",
              "            '<a target=\"_blank\" href=https://colab.research.google.com/notebooks/data_table.ipynb>data table notebook</a>'\n",
              "            + ' to learn more about interactive tables.';\n",
              "          element.innerHTML = '';\n",
              "          dataTable['output_type'] = 'display_data';\n",
              "          await google.colab.output.renderOutput(dataTable, element);\n",
              "          const docLink = document.createElement('div');\n",
              "          docLink.innerHTML = docLinkHtml;\n",
              "          element.appendChild(docLink);\n",
              "        }\n",
              "      </script>\n",
              "    </div>\n",
              "  </div>\n",
              "  "
            ],
            "text/plain": [
              "         제휴사    영수증번호  대분류코드_x 중분류코드    소분류코드   고객번호  점포코드      구매일자  구매시간  \\\n",
              "0          B  8664000       15  1504  B150401  17218    44  20140222    20   \n",
              "1          B  8664007       15  1504  B150401  11303    44  20140222    13   \n",
              "2          B  8919520       15  1504  B150401  13210    48  20150921    19   \n",
              "3          B  6956422       15  1504  B150401  13823    12  20140813    18   \n",
              "4          B  6957156       15  1504  B150401  18970    12  20140831    22   \n",
              "...       ..      ...      ...   ...      ...    ...   ...       ...   ...   \n",
              "28593025   B  7269975       14  1415  B141503    134    16  20141130    15   \n",
              "28593026   B  7946814       68  6802  B680209  18484    26  20141227    14   \n",
              "28593027   B  7777110        7   702  B070203   5043    21  20151012    22   \n",
              "28593028   B  7579178        7   703  B070305   4073    18  20140125    20   \n",
              "28593029   B  8123279       36  3607  B360704  11509    29  20150821    13   \n",
              "\n",
              "          구매금액 대분류코드_y     중분류명 Unnamed: 5      소분류명  \n",
              "0         2420    가공식품     탄산음료         음료       사이다  \n",
              "1         2400    가공식품     탄산음료         음료       사이다  \n",
              "2         5250    가공식품     탄산음료         음료       사이다  \n",
              "3         2250    가공식품     탄산음료         음료       사이다  \n",
              "4         4900    가공식품     탄산음료         음료       사이다  \n",
              "...        ...     ...      ...        ...       ...  \n",
              "28593025  8900    가공식품     전통과자        과자류  온라인팥빙수재료  \n",
              "28593026  1000    패션잡화     여성양말         양말     여성발가락  \n",
              "28593027  4510    가공식품   즉석구이안주      즉석/편의      즉석쥐포  \n",
              "28593028  8900    가공식품     마른안주      즉석/편의    온라인 안주  \n",
              "28593029  2800    일상용품  시니어건강용품     건강의료용품      침실용품  \n",
              "\n",
              "[28593030 rows x 14 columns]"
            ]
          },
          "execution_count": 110,
          "metadata": {},
          "output_type": "execute_result"
        }
      ],
      "source": [
        "goods_order"
      ]
    },
    {
      "cell_type": "code",
      "execution_count": null,
      "metadata": {
        "colab": {
          "base_uri": "https://localhost:8080/",
          "height": 137
        },
        "id": "oOSZ5RNBfuZP",
        "outputId": "7c10e4ab-c025-4680-d7f1-241ef32319ba"
      },
      "outputs": [
        {
          "ename": "SyntaxError",
          "evalue": "ignored",
          "output_type": "error",
          "traceback": [
            "\u001b[0;36m  File \u001b[0;32m\"<ipython-input-1-ece6566519bf>\"\u001b[0;36m, line \u001b[0;32m5\u001b[0m\n\u001b[0;31m    li = p.get_shopping_list_middle(goods_order)\u001b[0m\n\u001b[0m    ^\u001b[0m\n\u001b[0;31mSyntaxError\u001b[0m\u001b[0;31m:\u001b[0m invalid syntax\n"
          ]
        }
      ],
      "source": [
        "li = p.get_shopping_list_middle(goods_order)\n",
        "te = TransactionEncoder()\n",
        "te_ary = te.fit_transform(li)\n",
        "df = pd.DataFrame(te_ary, columns=te.columns_)\n",
        "frequent_itemsets = apriori(df, min_support=0.5, use_colnames=True)\n",
        "frequent_itemsets.to_csv('/gdrive/MyDrive/프로젝트2/arule.csv')"
      ]
    },
    {
      "cell_type": "code",
      "execution_count": null,
      "metadata": {
        "id": "apHRjuxXo4yV"
      },
      "outputs": [],
      "source": [
        "frequent_itemsets.to_csv('/gdrive/MyDrive/프로젝트2/프로젝트/연관성.csv',index = False) "
      ]
    },
    {
      "cell_type": "code",
      "execution_count": null,
      "metadata": {
        "id": "k2GP6fBf45Wq"
      },
      "outputs": [],
      "source": [
        "df_cust=p.show_customer()[['고객번호', '성별', '연령대', '거주지역','14_1분기_구매금액',\n",
        "       '14_2분기_구매금액', '14_3분기_구매금액', '14_4분기_구매금액', '15_1분기_구매금액',\n",
        "       '15_2분기_구매금액', '15_3분기_구매금액', '15_4분기_구매금액','14년도_1분기_영수증갯수', '14년도_2분기_영수증갯수',\n",
        "       '14년도_3분기_영수증갯수', '14년도_4분기_영수증갯수', '15년도_1분기_영수증갯수', '15년도_2분기_영수증갯수',\n",
        "       '15년도_3분기_영수증갯수', '15년도_4분기_영수증갯수']]"
      ]
    },
    {
      "cell_type": "code",
      "execution_count": null,
      "metadata": {
        "colab": {
          "base_uri": "https://localhost:8080/"
        },
        "id": "8bJqApn548O3",
        "outputId": "3604f755-2484-4d8b-92b0-3b1f24f6bac6"
      },
      "outputs": [
        {
          "name": "stderr",
          "output_type": "stream",
          "text": [
            "<ipython-input-17-ad030cb6aa16>:1: SettingWithCopyWarning: \n",
            "A value is trying to be set on a copy of a slice from a DataFrame.\n",
            "Try using .loc[row_indexer,col_indexer] = value instead\n",
            "\n",
            "See the caveats in the documentation: https://pandas.pydata.org/pandas-docs/stable/user_guide/indexing.html#returning-a-view-versus-a-copy\n",
            "  df_cust['분기별_구매금액_평균']=df_cust[['14_1분기_구매금액',\n"
          ]
        }
      ],
      "source": [
        "df_cust['분기별_구매금액_평균']=df_cust[['14_1분기_구매금액',\n",
        "       '14_2분기_구매금액', '14_3분기_구매금액', '14_4분기_구매금액', '15_1분기_구매금액',\n",
        "       '15_2분기_구매금액','15_3분기_구매금액']].T.mean()\n"
      ]
    },
    {
      "cell_type": "code",
      "execution_count": null,
      "metadata": {
        "colab": {
          "base_uri": "https://localhost:8080/"
        },
        "id": "CrxGytes6tRc",
        "outputId": "3a6ad831-308e-4e10-e460-57692d2ec9c6"
      },
      "outputs": [
        {
          "name": "stderr",
          "output_type": "stream",
          "text": [
            "<ipython-input-19-539e98e995d2>:1: SettingWithCopyWarning: \n",
            "A value is trying to be set on a copy of a slice from a DataFrame.\n",
            "Try using .loc[row_indexer,col_indexer] = value instead\n",
            "\n",
            "See the caveats in the documentation: https://pandas.pydata.org/pandas-docs/stable/user_guide/indexing.html#returning-a-view-versus-a-copy\n",
            "  df_cust['분기별_영수증갯수_평균']=df_cust[['14년도_1분기_영수증갯수', '14년도_2분기_영수증갯수',\n"
          ]
        }
      ],
      "source": [
        "df_cust['분기별_영수증갯수_평균']=df_cust[['14년도_1분기_영수증갯수', '14년도_2분기_영수증갯수',\n",
        "       '14년도_3분기_영수증갯수', '14년도_4분기_영수증갯수', '15년도_1분기_영수증갯수', '15년도_2분기_영수증갯수','15년도_3분기_영수증갯수']].T.mean()"
      ]
    },
    {
      "cell_type": "code",
      "execution_count": null,
      "metadata": {
        "colab": {
          "base_uri": "https://localhost:8080/"
        },
        "id": "-qN1wel96-qA",
        "outputId": "5c320dc2-c207-4a6a-cd2b-511b20b8fd3f"
      },
      "outputs": [
        {
          "name": "stderr",
          "output_type": "stream",
          "text": [
            "<ipython-input-31-617c53bd338b>:1: SettingWithCopyWarning: \n",
            "A value is trying to be set on a copy of a slice from a DataFrame.\n",
            "Try using .loc[row_indexer,col_indexer] = value instead\n",
            "\n",
            "See the caveats in the documentation: https://pandas.pydata.org/pandas-docs/stable/user_guide/indexing.html#returning-a-view-versus-a-copy\n",
            "  df_cust['label'] = np.where(df_cust['15_3분기_구매금액'] != 0,1,0)\n"
          ]
        }
      ],
      "source": [
        "df_cust['label'] = np.where(df_cust['15_3분기_구매금액'] != 0,1,0)"
      ]
    },
    {
      "cell_type": "code",
      "execution_count": null,
      "metadata": {
        "colab": {
          "base_uri": "https://localhost:8080/"
        },
        "id": "xEODx-Cn6lTU",
        "outputId": "c825e4dc-690b-4e3b-fa8e-6ca526d621f6"
      },
      "outputs": [
        {
          "data": {
            "text/plain": [
              "Index(['고객번호', '성별', '연령대', '거주지역', '14_1분기_구매금액', '14_2분기_구매금액',\n",
              "       '14_3분기_구매금액', '14_4분기_구매금액', '15_1분기_구매금액', '15_2분기_구매금액',\n",
              "       '15_3분기_구매금액', '15_4분기_구매금액', '14년도_1분기_영수증갯수', '14년도_2분기_영수증갯수',\n",
              "       '14년도_3분기_영수증갯수', '14년도_4분기_영수증갯수', '15년도_1분기_영수증갯수', '15년도_2분기_영수증갯수',\n",
              "       '15년도_3분기_영수증갯수', '15년도_4분기_영수증갯수', '분기별_구매금액_평균', '분기별_영수증갯수_평균',\n",
              "       'label'],\n",
              "      dtype='object')"
            ]
          },
          "execution_count": 32,
          "metadata": {},
          "output_type": "execute_result"
        }
      ],
      "source": [
        "df_cust.columns"
      ]
    },
    {
      "cell_type": "code",
      "execution_count": null,
      "metadata": {
        "id": "LQGRtAb26a8g"
      },
      "outputs": [],
      "source": [
        "dataset = df_cust[['고객번호', '성별', '연령대', '거주지역','분기별_구매금액_평균','분기별_영수증갯수_평균','label']]"
      ]
    },
    {
      "cell_type": "code",
      "execution_count": null,
      "metadata": {
        "colab": {
          "base_uri": "https://localhost:8080/",
          "height": 423
        },
        "id": "CtoiLR_i637F",
        "outputId": "27327f96-6258-41f1-ccf4-0ff2794133bc"
      },
      "outputs": [
        {
          "data": {
            "text/html": [
              "\n",
              "  <div id=\"df-f4458a71-dc6e-432a-8bc7-9ffa225ac14c\">\n",
              "    <div class=\"colab-df-container\">\n",
              "      <div>\n",
              "<style scoped>\n",
              "    .dataframe tbody tr th:only-of-type {\n",
              "        vertical-align: middle;\n",
              "    }\n",
              "\n",
              "    .dataframe tbody tr th {\n",
              "        vertical-align: top;\n",
              "    }\n",
              "\n",
              "    .dataframe thead th {\n",
              "        text-align: right;\n",
              "    }\n",
              "</style>\n",
              "<table border=\"1\" class=\"dataframe\">\n",
              "  <thead>\n",
              "    <tr style=\"text-align: right;\">\n",
              "      <th></th>\n",
              "      <th>고객번호</th>\n",
              "      <th>성별</th>\n",
              "      <th>연령대</th>\n",
              "      <th>거주지역</th>\n",
              "      <th>분기별_구매금액_평균</th>\n",
              "      <th>분기별_영수증갯수_평균</th>\n",
              "      <th>label</th>\n",
              "    </tr>\n",
              "  </thead>\n",
              "  <tbody>\n",
              "    <tr>\n",
              "      <th>0</th>\n",
              "      <td>1</td>\n",
              "      <td>M</td>\n",
              "      <td>60세이상</td>\n",
              "      <td>60.0</td>\n",
              "      <td>1.199001e+07</td>\n",
              "      <td>93.833333</td>\n",
              "      <td>1</td>\n",
              "    </tr>\n",
              "    <tr>\n",
              "      <th>1</th>\n",
              "      <td>2</td>\n",
              "      <td>M</td>\n",
              "      <td>60세이상</td>\n",
              "      <td>100.0</td>\n",
              "      <td>1.233949e+07</td>\n",
              "      <td>86.833333</td>\n",
              "      <td>1</td>\n",
              "    </tr>\n",
              "    <tr>\n",
              "      <th>2</th>\n",
              "      <td>3</td>\n",
              "      <td>M</td>\n",
              "      <td>60세이상</td>\n",
              "      <td>33.0</td>\n",
              "      <td>4.143415e+05</td>\n",
              "      <td>65.000000</td>\n",
              "      <td>1</td>\n",
              "    </tr>\n",
              "    <tr>\n",
              "      <th>3</th>\n",
              "      <td>4</td>\n",
              "      <td>F</td>\n",
              "      <td>60세이상</td>\n",
              "      <td>16.0</td>\n",
              "      <td>2.159426e+06</td>\n",
              "      <td>62.666667</td>\n",
              "      <td>1</td>\n",
              "    </tr>\n",
              "    <tr>\n",
              "      <th>4</th>\n",
              "      <td>5</td>\n",
              "      <td>M</td>\n",
              "      <td>60세이상</td>\n",
              "      <td>100.0</td>\n",
              "      <td>1.770135e+06</td>\n",
              "      <td>62.666667</td>\n",
              "      <td>0</td>\n",
              "    </tr>\n",
              "    <tr>\n",
              "      <th>...</th>\n",
              "      <td>...</td>\n",
              "      <td>...</td>\n",
              "      <td>...</td>\n",
              "      <td>...</td>\n",
              "      <td>...</td>\n",
              "      <td>...</td>\n",
              "      <td>...</td>\n",
              "    </tr>\n",
              "    <tr>\n",
              "      <th>19378</th>\n",
              "      <td>19379</td>\n",
              "      <td>F</td>\n",
              "      <td>20세~24세</td>\n",
              "      <td>69.0</td>\n",
              "      <td>5.977567e+05</td>\n",
              "      <td>35.666667</td>\n",
              "      <td>1</td>\n",
              "    </tr>\n",
              "    <tr>\n",
              "      <th>19379</th>\n",
              "      <td>19380</td>\n",
              "      <td>F</td>\n",
              "      <td>20세~24세</td>\n",
              "      <td>39.0</td>\n",
              "      <td>2.267750e+05</td>\n",
              "      <td>11.333333</td>\n",
              "      <td>1</td>\n",
              "    </tr>\n",
              "    <tr>\n",
              "      <th>19380</th>\n",
              "      <td>19381</td>\n",
              "      <td>F</td>\n",
              "      <td>40세~44세</td>\n",
              "      <td>460.0</td>\n",
              "      <td>4.661952e+05</td>\n",
              "      <td>25.833333</td>\n",
              "      <td>1</td>\n",
              "    </tr>\n",
              "    <tr>\n",
              "      <th>19381</th>\n",
              "      <td>19382</td>\n",
              "      <td>F</td>\n",
              "      <td>45세~49세</td>\n",
              "      <td>460.0</td>\n",
              "      <td>3.044565e+05</td>\n",
              "      <td>24.333333</td>\n",
              "      <td>1</td>\n",
              "    </tr>\n",
              "    <tr>\n",
              "      <th>19382</th>\n",
              "      <td>19383</td>\n",
              "      <td>F</td>\n",
              "      <td>25세~29세</td>\n",
              "      <td>500.0</td>\n",
              "      <td>4.500000e+03</td>\n",
              "      <td>0.500000</td>\n",
              "      <td>1</td>\n",
              "    </tr>\n",
              "  </tbody>\n",
              "</table>\n",
              "<p>19383 rows × 7 columns</p>\n",
              "</div>\n",
              "      <button class=\"colab-df-convert\" onclick=\"convertToInteractive('df-f4458a71-dc6e-432a-8bc7-9ffa225ac14c')\"\n",
              "              title=\"Convert this dataframe to an interactive table.\"\n",
              "              style=\"display:none;\">\n",
              "        \n",
              "  <svg xmlns=\"http://www.w3.org/2000/svg\" height=\"24px\"viewBox=\"0 0 24 24\"\n",
              "       width=\"24px\">\n",
              "    <path d=\"M0 0h24v24H0V0z\" fill=\"none\"/>\n",
              "    <path d=\"M18.56 5.44l.94 2.06.94-2.06 2.06-.94-2.06-.94-.94-2.06-.94 2.06-2.06.94zm-11 1L8.5 8.5l.94-2.06 2.06-.94-2.06-.94L8.5 2.5l-.94 2.06-2.06.94zm10 10l.94 2.06.94-2.06 2.06-.94-2.06-.94-.94-2.06-.94 2.06-2.06.94z\"/><path d=\"M17.41 7.96l-1.37-1.37c-.4-.4-.92-.59-1.43-.59-.52 0-1.04.2-1.43.59L10.3 9.45l-7.72 7.72c-.78.78-.78 2.05 0 2.83L4 21.41c.39.39.9.59 1.41.59.51 0 1.02-.2 1.41-.59l7.78-7.78 2.81-2.81c.8-.78.8-2.07 0-2.86zM5.41 20L4 18.59l7.72-7.72 1.47 1.35L5.41 20z\"/>\n",
              "  </svg>\n",
              "      </button>\n",
              "      \n",
              "  <style>\n",
              "    .colab-df-container {\n",
              "      display:flex;\n",
              "      flex-wrap:wrap;\n",
              "      gap: 12px;\n",
              "    }\n",
              "\n",
              "    .colab-df-convert {\n",
              "      background-color: #E8F0FE;\n",
              "      border: none;\n",
              "      border-radius: 50%;\n",
              "      cursor: pointer;\n",
              "      display: none;\n",
              "      fill: #1967D2;\n",
              "      height: 32px;\n",
              "      padding: 0 0 0 0;\n",
              "      width: 32px;\n",
              "    }\n",
              "\n",
              "    .colab-df-convert:hover {\n",
              "      background-color: #E2EBFA;\n",
              "      box-shadow: 0px 1px 2px rgba(60, 64, 67, 0.3), 0px 1px 3px 1px rgba(60, 64, 67, 0.15);\n",
              "      fill: #174EA6;\n",
              "    }\n",
              "\n",
              "    [theme=dark] .colab-df-convert {\n",
              "      background-color: #3B4455;\n",
              "      fill: #D2E3FC;\n",
              "    }\n",
              "\n",
              "    [theme=dark] .colab-df-convert:hover {\n",
              "      background-color: #434B5C;\n",
              "      box-shadow: 0px 1px 3px 1px rgba(0, 0, 0, 0.15);\n",
              "      filter: drop-shadow(0px 1px 2px rgba(0, 0, 0, 0.3));\n",
              "      fill: #FFFFFF;\n",
              "    }\n",
              "  </style>\n",
              "\n",
              "      <script>\n",
              "        const buttonEl =\n",
              "          document.querySelector('#df-f4458a71-dc6e-432a-8bc7-9ffa225ac14c button.colab-df-convert');\n",
              "        buttonEl.style.display =\n",
              "          google.colab.kernel.accessAllowed ? 'block' : 'none';\n",
              "\n",
              "        async function convertToInteractive(key) {\n",
              "          const element = document.querySelector('#df-f4458a71-dc6e-432a-8bc7-9ffa225ac14c');\n",
              "          const dataTable =\n",
              "            await google.colab.kernel.invokeFunction('convertToInteractive',\n",
              "                                                     [key], {});\n",
              "          if (!dataTable) return;\n",
              "\n",
              "          const docLinkHtml = 'Like what you see? Visit the ' +\n",
              "            '<a target=\"_blank\" href=https://colab.research.google.com/notebooks/data_table.ipynb>data table notebook</a>'\n",
              "            + ' to learn more about interactive tables.';\n",
              "          element.innerHTML = '';\n",
              "          dataTable['output_type'] = 'display_data';\n",
              "          await google.colab.output.renderOutput(dataTable, element);\n",
              "          const docLink = document.createElement('div');\n",
              "          docLink.innerHTML = docLinkHtml;\n",
              "          element.appendChild(docLink);\n",
              "        }\n",
              "      </script>\n",
              "    </div>\n",
              "  </div>\n",
              "  "
            ],
            "text/plain": [
              "        고객번호 성별      연령대   거주지역   분기별_구매금액_평균  분기별_영수증갯수_평균  label\n",
              "0          1  M    60세이상   60.0  1.199001e+07     93.833333      1\n",
              "1          2  M    60세이상  100.0  1.233949e+07     86.833333      1\n",
              "2          3  M    60세이상   33.0  4.143415e+05     65.000000      1\n",
              "3          4  F    60세이상   16.0  2.159426e+06     62.666667      1\n",
              "4          5  M    60세이상  100.0  1.770135e+06     62.666667      0\n",
              "...      ... ..      ...    ...           ...           ...    ...\n",
              "19378  19379  F  20세~24세   69.0  5.977567e+05     35.666667      1\n",
              "19379  19380  F  20세~24세   39.0  2.267750e+05     11.333333      1\n",
              "19380  19381  F  40세~44세  460.0  4.661952e+05     25.833333      1\n",
              "19381  19382  F  45세~49세  460.0  3.044565e+05     24.333333      1\n",
              "19382  19383  F  25세~29세  500.0  4.500000e+03      0.500000      1\n",
              "\n",
              "[19383 rows x 7 columns]"
            ]
          },
          "execution_count": 34,
          "metadata": {},
          "output_type": "execute_result"
        }
      ],
      "source": [
        "dataset"
      ]
    },
    {
      "cell_type": "code",
      "execution_count": null,
      "metadata": {
        "id": "Tm_1jI0mAJKX"
      },
      "outputs": [],
      "source": [
        "en = LabelEncoder()\n",
        "sex=en.fit_transform(dataset['성별'])\n",
        "age=en.fit_transform(dataset['연령대'])"
      ]
    },
    {
      "cell_type": "code",
      "execution_count": null,
      "metadata": {
        "colab": {
          "base_uri": "https://localhost:8080/"
        },
        "id": "4Gg4zWPIAWbY",
        "outputId": "22573f8f-3b21-4a08-f672-ee08b6fc9728"
      },
      "outputs": [
        {
          "name": "stderr",
          "output_type": "stream",
          "text": [
            "<ipython-input-36-80506ea1d8d5>:1: SettingWithCopyWarning: \n",
            "A value is trying to be set on a copy of a slice from a DataFrame.\n",
            "Try using .loc[row_indexer,col_indexer] = value instead\n",
            "\n",
            "See the caveats in the documentation: https://pandas.pydata.org/pandas-docs/stable/user_guide/indexing.html#returning-a-view-versus-a-copy\n",
            "  dataset['성별'] = sex\n",
            "<ipython-input-36-80506ea1d8d5>:2: SettingWithCopyWarning: \n",
            "A value is trying to be set on a copy of a slice from a DataFrame.\n",
            "Try using .loc[row_indexer,col_indexer] = value instead\n",
            "\n",
            "See the caveats in the documentation: https://pandas.pydata.org/pandas-docs/stable/user_guide/indexing.html#returning-a-view-versus-a-copy\n",
            "  dataset['연령대'] = age\n"
          ]
        }
      ],
      "source": [
        "dataset['성별'] = sex\n",
        "dataset['연령대'] = age"
      ]
    },
    {
      "cell_type": "code",
      "execution_count": null,
      "metadata": {
        "colab": {
          "base_uri": "https://localhost:8080/"
        },
        "id": "fN9XrSW3B5Au",
        "outputId": "94a3efba-d88a-4e81-fc5f-d9e9be73b669"
      },
      "outputs": [
        {
          "name": "stderr",
          "output_type": "stream",
          "text": [
            "/usr/local/lib/python3.8/dist-packages/pandas/core/generic.py:5516: SettingWithCopyWarning: \n",
            "A value is trying to be set on a copy of a slice from a DataFrame.\n",
            "Try using .loc[row_indexer,col_indexer] = value instead\n",
            "\n",
            "See the caveats in the documentation: https://pandas.pydata.org/pandas-docs/stable/user_guide/indexing.html#returning-a-view-versus-a-copy\n",
            "  self[name] = value\n"
          ]
        },
        {
          "data": {
            "text/plain": [
              "1    19305\n",
              "0       78\n",
              "Name: label, dtype: int64"
            ]
          },
          "execution_count": 72,
          "metadata": {},
          "output_type": "execute_result"
        }
      ],
      "source": [
        "\n",
        "x_train = dataset[['고객번호', '성별', '연령대', '거주지역', '분기별_구매금액_평균', '분기별_영수증갯수_평균']]\n",
        "x_train.거주지역 = np.nan_to_num(x_train.거주지역,nan = 0)\n",
        "x_train.거주지역 = x_train.거주지역.astype(\"int\")\n",
        "y_train = dataset['label']\n",
        "dataset.label.value_counts()"
      ]
    },
    {
      "cell_type": "code",
      "execution_count": null,
      "metadata": {
        "id": "fNBQO13nM5Wu"
      },
      "outputs": [],
      "source": [
        "test = dataset.copy()"
      ]
    },
    {
      "cell_type": "code",
      "execution_count": null,
      "metadata": {
        "id": "yoOGz0h6MWxf"
      },
      "outputs": [],
      "source": [
        "test['분기별_구매금액_평균']=df_cust[['14_1분기_구매금액',\n",
        "       '14_2분기_구매금액', '14_3분기_구매금액', '14_4분기_구매금액', '15_1분기_구매금액',\n",
        "       '15_2분기_구매금액','15_3분기_구매금액']].T.mean()\n",
        "test['분기별_영수증갯수_평균']=df_cust[['14년도_1분기_영수증갯수', '14년도_2분기_영수증갯수',\n",
        "       '14년도_3분기_영수증갯수', '14년도_4분기_영수증갯수', '15년도_1분기_영수증갯수', '15년도_2분기_영수증갯수','15년도_3분기_영수증갯수']].T.mean()"
      ]
    },
    {
      "cell_type": "code",
      "execution_count": null,
      "metadata": {
        "id": "BFQ7RmtzNI_w"
      },
      "outputs": [],
      "source": [
        "test['label'] = np.where(df_cust['15_4분기_구매금액'] != 0,1,0)"
      ]
    },
    {
      "cell_type": "code",
      "execution_count": null,
      "metadata": {
        "id": "-CcGSL4lNSd5"
      },
      "outputs": [],
      "source": [
        "test.거주지역 = np.nan_to_num(test.거주지역,nan = 0)\n",
        "test.거주지역 = test.거주지역.astype('int')\n",
        "x_test = test[['고객번호', '성별', '연령대', '거주지역', '분기별_구매금액_평균', '분기별_영수증갯수_평균']]\n",
        "y_test = test['label']\n"
      ]
    },
    {
      "cell_type": "code",
      "execution_count": null,
      "metadata": {
        "colab": {
          "base_uri": "https://localhost:8080/"
        },
        "id": "94fAF6rDPcYx",
        "outputId": "57379c6e-4035-43a3-fbf9-b22d8a781a89"
      },
      "outputs": [
        {
          "data": {
            "text/plain": [
              "1    19319\n",
              "0       64\n",
              "Name: label, dtype: int64"
            ]
          },
          "execution_count": 69,
          "metadata": {},
          "output_type": "execute_result"
        }
      ],
      "source": [
        "test.label.value_counts()"
      ]
    },
    {
      "cell_type": "code",
      "execution_count": null,
      "metadata": {
        "colab": {
          "base_uri": "https://localhost:8080/"
        },
        "id": "_xehr9xzL1hS",
        "outputId": "b08ee351-4e7b-4136-b6d0-5eb7ac566e8a"
      },
      "outputs": [
        {
          "data": {
            "text/plain": [
              "0.9983463386905069"
            ]
          },
          "execution_count": 80,
          "metadata": {},
          "output_type": "execute_result"
        }
      ],
      "source": [
        "lr = LogisticRegression()\n",
        "lr.fit(x_train,y_train)\n",
        "preds=lr.predict(x_test)\n",
        "f1_score(preds,y_test)"
      ]
    },
    {
      "cell_type": "code",
      "execution_count": null,
      "metadata": {
        "id": "MnaRgkTbS0dg"
      },
      "outputs": [],
      "source": [
        "p=list(preds)\n",
        "y = y_test.values.tolist()\n",
        "id = []\n",
        "cnt = 0\n",
        "for i,j in zip(p,y):\n",
        "  cnt +=1\n",
        "  if j != i:\n",
        "    print(cnt)\n",
        "    id.append(cnt)"
      ]
    },
    {
      "cell_type": "code",
      "execution_count": null,
      "metadata": {
        "colab": {
          "base_uri": "https://localhost:8080/",
          "height": 423
        },
        "id": "2W60JvePOnA3",
        "outputId": "53f9621e-63c7-4b47-ea73-370717c941d8"
      },
      "outputs": [
        {
          "data": {
            "text/html": [
              "\n",
              "  <div id=\"df-8259d217-078b-4d93-b3bb-bbcf02a67aa1\">\n",
              "    <div class=\"colab-df-container\">\n",
              "      <div>\n",
              "<style scoped>\n",
              "    .dataframe tbody tr th:only-of-type {\n",
              "        vertical-align: middle;\n",
              "    }\n",
              "\n",
              "    .dataframe tbody tr th {\n",
              "        vertical-align: top;\n",
              "    }\n",
              "\n",
              "    .dataframe thead th {\n",
              "        text-align: right;\n",
              "    }\n",
              "</style>\n",
              "<table border=\"1\" class=\"dataframe\">\n",
              "  <thead>\n",
              "    <tr style=\"text-align: right;\">\n",
              "      <th></th>\n",
              "      <th>고객번호</th>\n",
              "      <th>성별</th>\n",
              "      <th>연령대</th>\n",
              "      <th>거주지역</th>\n",
              "      <th>분기별_구매금액_평균</th>\n",
              "      <th>분기별_영수증갯수_평균</th>\n",
              "      <th>label</th>\n",
              "    </tr>\n",
              "  </thead>\n",
              "  <tbody>\n",
              "    <tr>\n",
              "      <th>174</th>\n",
              "      <td>175</td>\n",
              "      <td>0</td>\n",
              "      <td>9</td>\n",
              "      <td>55.0</td>\n",
              "      <td>4.120923e+06</td>\n",
              "      <td>56.000000</td>\n",
              "      <td>1</td>\n",
              "    </tr>\n",
              "    <tr>\n",
              "      <th>460</th>\n",
              "      <td>461</td>\n",
              "      <td>0</td>\n",
              "      <td>9</td>\n",
              "      <td>460.0</td>\n",
              "      <td>1.129647e+06</td>\n",
              "      <td>59.166667</td>\n",
              "      <td>1</td>\n",
              "    </tr>\n",
              "    <tr>\n",
              "      <th>905</th>\n",
              "      <td>906</td>\n",
              "      <td>0</td>\n",
              "      <td>8</td>\n",
              "      <td>100.0</td>\n",
              "      <td>1.614656e+06</td>\n",
              "      <td>66.666667</td>\n",
              "      <td>1</td>\n",
              "    </tr>\n",
              "    <tr>\n",
              "      <th>1171</th>\n",
              "      <td>1172</td>\n",
              "      <td>0</td>\n",
              "      <td>8</td>\n",
              "      <td>16.0</td>\n",
              "      <td>1.171768e+07</td>\n",
              "      <td>91.666667</td>\n",
              "      <td>1</td>\n",
              "    </tr>\n",
              "    <tr>\n",
              "      <th>1208</th>\n",
              "      <td>1209</td>\n",
              "      <td>0</td>\n",
              "      <td>8</td>\n",
              "      <td>24.0</td>\n",
              "      <td>3.386207e+06</td>\n",
              "      <td>99.000000</td>\n",
              "      <td>1</td>\n",
              "    </tr>\n",
              "    <tr>\n",
              "      <th>...</th>\n",
              "      <td>...</td>\n",
              "      <td>...</td>\n",
              "      <td>...</td>\n",
              "      <td>...</td>\n",
              "      <td>...</td>\n",
              "      <td>...</td>\n",
              "      <td>...</td>\n",
              "    </tr>\n",
              "    <tr>\n",
              "      <th>19225</th>\n",
              "      <td>19226</td>\n",
              "      <td>0</td>\n",
              "      <td>5</td>\n",
              "      <td>460.0</td>\n",
              "      <td>2.629698e+06</td>\n",
              "      <td>44.166667</td>\n",
              "      <td>1</td>\n",
              "    </tr>\n",
              "    <tr>\n",
              "      <th>19229</th>\n",
              "      <td>19230</td>\n",
              "      <td>1</td>\n",
              "      <td>8</td>\n",
              "      <td>60.0</td>\n",
              "      <td>1.702333e+04</td>\n",
              "      <td>0.500000</td>\n",
              "      <td>0</td>\n",
              "    </tr>\n",
              "    <tr>\n",
              "      <th>19230</th>\n",
              "      <td>19231</td>\n",
              "      <td>0</td>\n",
              "      <td>5</td>\n",
              "      <td>0.0</td>\n",
              "      <td>0.000000e+00</td>\n",
              "      <td>0.000000</td>\n",
              "      <td>1</td>\n",
              "    </tr>\n",
              "    <tr>\n",
              "      <th>19240</th>\n",
              "      <td>19241</td>\n",
              "      <td>0</td>\n",
              "      <td>5</td>\n",
              "      <td>100.0</td>\n",
              "      <td>1.114680e+06</td>\n",
              "      <td>85.500000</td>\n",
              "      <td>1</td>\n",
              "    </tr>\n",
              "    <tr>\n",
              "      <th>19294</th>\n",
              "      <td>19295</td>\n",
              "      <td>0</td>\n",
              "      <td>3</td>\n",
              "      <td>100.0</td>\n",
              "      <td>8.396317e+05</td>\n",
              "      <td>45.000000</td>\n",
              "      <td>1</td>\n",
              "    </tr>\n",
              "  </tbody>\n",
              "</table>\n",
              "<p>64 rows × 7 columns</p>\n",
              "</div>\n",
              "      <button class=\"colab-df-convert\" onclick=\"convertToInteractive('df-8259d217-078b-4d93-b3bb-bbcf02a67aa1')\"\n",
              "              title=\"Convert this dataframe to an interactive table.\"\n",
              "              style=\"display:none;\">\n",
              "        \n",
              "  <svg xmlns=\"http://www.w3.org/2000/svg\" height=\"24px\"viewBox=\"0 0 24 24\"\n",
              "       width=\"24px\">\n",
              "    <path d=\"M0 0h24v24H0V0z\" fill=\"none\"/>\n",
              "    <path d=\"M18.56 5.44l.94 2.06.94-2.06 2.06-.94-2.06-.94-.94-2.06-.94 2.06-2.06.94zm-11 1L8.5 8.5l.94-2.06 2.06-.94-2.06-.94L8.5 2.5l-.94 2.06-2.06.94zm10 10l.94 2.06.94-2.06 2.06-.94-2.06-.94-.94-2.06-.94 2.06-2.06.94z\"/><path d=\"M17.41 7.96l-1.37-1.37c-.4-.4-.92-.59-1.43-.59-.52 0-1.04.2-1.43.59L10.3 9.45l-7.72 7.72c-.78.78-.78 2.05 0 2.83L4 21.41c.39.39.9.59 1.41.59.51 0 1.02-.2 1.41-.59l7.78-7.78 2.81-2.81c.8-.78.8-2.07 0-2.86zM5.41 20L4 18.59l7.72-7.72 1.47 1.35L5.41 20z\"/>\n",
              "  </svg>\n",
              "      </button>\n",
              "      \n",
              "  <style>\n",
              "    .colab-df-container {\n",
              "      display:flex;\n",
              "      flex-wrap:wrap;\n",
              "      gap: 12px;\n",
              "    }\n",
              "\n",
              "    .colab-df-convert {\n",
              "      background-color: #E8F0FE;\n",
              "      border: none;\n",
              "      border-radius: 50%;\n",
              "      cursor: pointer;\n",
              "      display: none;\n",
              "      fill: #1967D2;\n",
              "      height: 32px;\n",
              "      padding: 0 0 0 0;\n",
              "      width: 32px;\n",
              "    }\n",
              "\n",
              "    .colab-df-convert:hover {\n",
              "      background-color: #E2EBFA;\n",
              "      box-shadow: 0px 1px 2px rgba(60, 64, 67, 0.3), 0px 1px 3px 1px rgba(60, 64, 67, 0.15);\n",
              "      fill: #174EA6;\n",
              "    }\n",
              "\n",
              "    [theme=dark] .colab-df-convert {\n",
              "      background-color: #3B4455;\n",
              "      fill: #D2E3FC;\n",
              "    }\n",
              "\n",
              "    [theme=dark] .colab-df-convert:hover {\n",
              "      background-color: #434B5C;\n",
              "      box-shadow: 0px 1px 3px 1px rgba(0, 0, 0, 0.15);\n",
              "      filter: drop-shadow(0px 1px 2px rgba(0, 0, 0, 0.3));\n",
              "      fill: #FFFFFF;\n",
              "    }\n",
              "  </style>\n",
              "\n",
              "      <script>\n",
              "        const buttonEl =\n",
              "          document.querySelector('#df-8259d217-078b-4d93-b3bb-bbcf02a67aa1 button.colab-df-convert');\n",
              "        buttonEl.style.display =\n",
              "          google.colab.kernel.accessAllowed ? 'block' : 'none';\n",
              "\n",
              "        async function convertToInteractive(key) {\n",
              "          const element = document.querySelector('#df-8259d217-078b-4d93-b3bb-bbcf02a67aa1');\n",
              "          const dataTable =\n",
              "            await google.colab.kernel.invokeFunction('convertToInteractive',\n",
              "                                                     [key], {});\n",
              "          if (!dataTable) return;\n",
              "\n",
              "          const docLinkHtml = 'Like what you see? Visit the ' +\n",
              "            '<a target=\"_blank\" href=https://colab.research.google.com/notebooks/data_table.ipynb>data table notebook</a>'\n",
              "            + ' to learn more about interactive tables.';\n",
              "          element.innerHTML = '';\n",
              "          dataTable['output_type'] = 'display_data';\n",
              "          await google.colab.output.renderOutput(dataTable, element);\n",
              "          const docLink = document.createElement('div');\n",
              "          docLink.innerHTML = docLinkHtml;\n",
              "          element.appendChild(docLink);\n",
              "        }\n",
              "      </script>\n",
              "    </div>\n",
              "  </div>\n",
              "  "
            ],
            "text/plain": [
              "        고객번호  성별  연령대   거주지역   분기별_구매금액_평균  분기별_영수증갯수_평균  label\n",
              "174      175   0    9   55.0  4.120923e+06     56.000000      1\n",
              "460      461   0    9  460.0  1.129647e+06     59.166667      1\n",
              "905      906   0    8  100.0  1.614656e+06     66.666667      1\n",
              "1171    1172   0    8   16.0  1.171768e+07     91.666667      1\n",
              "1208    1209   0    8   24.0  3.386207e+06     99.000000      1\n",
              "...      ...  ..  ...    ...           ...           ...    ...\n",
              "19225  19226   0    5  460.0  2.629698e+06     44.166667      1\n",
              "19229  19230   1    8   60.0  1.702333e+04      0.500000      0\n",
              "19230  19231   0    5    0.0  0.000000e+00      0.000000      1\n",
              "19240  19241   0    5  100.0  1.114680e+06     85.500000      1\n",
              "19294  19295   0    3  100.0  8.396317e+05     45.000000      1\n",
              "\n",
              "[64 rows x 7 columns]"
            ]
          },
          "execution_count": 105,
          "metadata": {},
          "output_type": "execute_result"
        }
      ],
      "source": [
        "dataset.iloc[id]"
      ]
    },
    {
      "cell_type": "code",
      "execution_count": null,
      "metadata": {
        "id": "chcVfGxQM0o6"
      },
      "outputs": [],
      "source": [
        "goods_=goods_order.sort_values(['구매일자','구매시간'])"
      ]
    },
    {
      "cell_type": "code",
      "execution_count": null,
      "metadata": {
        "id": "I5DcPRliecJs"
      },
      "outputs": [],
      "source": [
        "goods_order[goods_order['고객번호'] == 1]['영수증번호']"
      ]
    },
    {
      "cell_type": "markdown",
      "source": [
        "#Reorder merge"
      ],
      "metadata": {
        "id": "d5SQkpEHl9AF"
      }
    },
    {
      "cell_type": "markdown",
      "source": [
        "https://drive.google.com/drive/folders/1_AqSMA_G8-YxtzKTjOmLaVuC-YtFtsIK?usp=share_link\n",
        "\n",
        "https://drive.google.com/drive/folders/1-E1A4AHP_TrNqD4I7UUp5M52Jd4IQALi?usp=sharing"
      ],
      "metadata": {
        "id": "pmBHF7AXmN6d"
      }
    },
    {
      "cell_type": "code",
      "source": [
        "d=p.merge_goods_order()"
      ],
      "metadata": {
        "id": "a7GgpYFymJWr"
      },
      "execution_count": null,
      "outputs": []
    },
    {
      "cell_type": "code",
      "source": [
        "d['reorder'] = 0"
      ],
      "metadata": {
        "id": "nXijfeNXsxQt"
      },
      "execution_count": null,
      "outputs": []
    },
    {
      "cell_type": "code",
      "source": [
        "import os\n",
        "li=os.listdir('/gdrive/MyDrive/reorder')"
      ],
      "metadata": {
        "id": "OJuEmdVbtbpk"
      },
      "execution_count": null,
      "outputs": []
    },
    {
      "cell_type": "code",
      "source": [
        "df_list = []#\n",
        "for i in li:\n",
        "  df_list.append(pd.read_csv('/gdrive/MyDrive/reorder/'+i))\n",
        "res1=pd.concat(df_list)"
      ],
      "metadata": {
        "id": "020xqqCLt5T5"
      },
      "execution_count": null,
      "outputs": []
    },
    {
      "cell_type": "code",
      "source": [
        "len(res1)"
      ],
      "metadata": {
        "colab": {
          "base_uri": "https://localhost:8080/"
        },
        "id": "VkhCHR79w2lz",
        "outputId": "b0d95ec6-faf1-434c-9ff7-89772786e576"
      },
      "execution_count": null,
      "outputs": [
        {
          "output_type": "execute_result",
          "data": {
            "text/plain": [
              "28593030"
            ]
          },
          "metadata": {},
          "execution_count": 11
        }
      ]
    },
    {
      "cell_type": "code",
      "source": [
        "d['reorder']= res1.values.reshape(1,-1)[0]"
      ],
      "metadata": {
        "id": "YhJT9rhZwVjF"
      },
      "execution_count": null,
      "outputs": []
    },
    {
      "cell_type": "code",
      "source": [
        "a=d.groupby(['소분류명','소분류코드'])['reorder'].count().reset_index(name = 'whole_cnt')"
      ],
      "metadata": {
        "id": "28AloTavwiCz"
      },
      "execution_count": null,
      "outputs": []
    },
    {
      "cell_type": "code",
      "source": [
        "b=d.groupby(['소분류명','소분류코드'])['reorder'].sum().reset_index(name ='cnt')"
      ],
      "metadata": {
        "id": "pPkhHBZX0E8D"
      },
      "execution_count": null,
      "outputs": []
    },
    {
      "cell_type": "code",
      "source": [
        "df_goods=p.show_goods()"
      ],
      "metadata": {
        "id": "vjCf0B-r0qAD"
      },
      "execution_count": null,
      "outputs": []
    },
    {
      "cell_type": "code",
      "source": [
        "a['reorder_rate']= b['cnt'] / a['whole_cnt']"
      ],
      "metadata": {
        "id": "2co4Zrk50k-j"
      },
      "execution_count": null,
      "outputs": []
    },
    {
      "cell_type": "code",
      "source": [
        "df_goods2=pd.merge(a[['소분류명','소분류코드','reorder_rate']],df_goods,on = ['소분류명','소분류코드'])"
      ],
      "metadata": {
        "id": "LCP6H6bJ0_Mi"
      },
      "execution_count": null,
      "outputs": []
    },
    {
      "cell_type": "code",
      "source": [
        "df_goods3 = pd.merge(b,df_goods2,on = ['소분류명','소분류코드'])"
      ],
      "metadata": {
        "id": "U7yyi8Hz1Toz"
      },
      "execution_count": null,
      "outputs": []
    },
    {
      "cell_type": "code",
      "source": [
        "df_goods3.to_csv('/gdrive/MyDrive/goods.csv',index = False)"
      ],
      "metadata": {
        "id": "1dUx1F_71vgr"
      },
      "execution_count": null,
      "outputs": []
    },
    {
      "cell_type": "code",
      "source": [
        "@jit(nopython = False)\n",
        "def get_reorder_rate_cust():\n",
        "  res = []\n",
        "  for i in p.get_customer_id_list():\n",
        "    temp=d[d['고객번호'] == i]['reorder'].value_counts()\n",
        "    if len(temp) == 2:\n",
        "      res.append(temp.values[1]/temp.sum())\n",
        "    else:\n",
        "      res.append(0)\n",
        "  return res\n",
        "res = get_reorder_rate_cust()"
      ],
      "metadata": {
        "id": "jl_ZYFXD2KjL"
      },
      "execution_count": null,
      "outputs": []
    },
    {
      "cell_type": "code",
      "source": [
        "cust = p.show_customer()\n",
        "cust['상품재구매비율'] = res"
      ],
      "metadata": {
        "id": "ON-C42MJ5qk5"
      },
      "execution_count": null,
      "outputs": []
    },
    {
      "cell_type": "code",
      "source": [
        "cust.to_csv('/gdrive/MyDrive/cust.csv',index = False)"
      ],
      "metadata": {
        "id": "3m_NQ-Ew76EB"
      },
      "execution_count": null,
      "outputs": []
    },
    {
      "cell_type": "code",
      "source": [
        "d = p.train()"
      ],
      "metadata": {
        "id": "3CtjDjRX7m4y"
      },
      "execution_count": null,
      "outputs": []
    },
    {
      "cell_type": "code",
      "source": [
        "d = p.merge_goods_order()"
      ],
      "metadata": {
        "id": "b0GaQliqSbUK"
      },
      "execution_count": null,
      "outputs": []
    },
    {
      "cell_type": "code",
      "source": [
        "a=d.groupby(['소분류명'])['reorder'].count().reset_index(name = 'whole_cnt')\n",
        "b=d.groupby(['소분류명'])['reorder'].sum().reset_index(name ='cnt')\n",
        "a['reorder_rate']= b['cnt'] / a['whole_cnt']\n",
        "b['reorder_rate']= b['cnt'] / a['whole_cnt']"
      ],
      "metadata": {
        "id": "V7_R1g-Y70sZ"
      },
      "execution_count": null,
      "outputs": []
    },
    {
      "cell_type": "code",
      "source": [
        "df_goods = p.show_goods()\n",
        "df_goods2 = pd.merge(b,df_goods,right_index = True,left_index = True,how = 'right')"
      ],
      "metadata": {
        "id": "8or_8Lu48EHH"
      },
      "execution_count": null,
      "outputs": []
    },
    {
      "cell_type": "code",
      "source": [
        "d = p.train()\n",
        "@jit(nopython = False)\n",
        "def get_reorder_rate_cust():\n",
        "  res = []\n",
        "  for i in p.get_customer_id_list():\n",
        "    temp=d[d['고객번호'] == i]['reorder'].value_counts()\n",
        "    if len(temp) == 2:\n",
        "      res.append(temp.values[1]/temp.sum())\n",
        "    else:\n",
        "      res.append(0)\n",
        "  return res\n",
        "res = get_reorder_rate_cust()"
      ],
      "metadata": {
        "id": "eJCw1zUe9nMB"
      },
      "execution_count": null,
      "outputs": []
    },
    {
      "cell_type": "code",
      "source": [
        "cust=p.show_customer()\n",
        "cust['reorder_train'] = res"
      ],
      "metadata": {
        "id": "cLjgRr4O_RUC"
      },
      "execution_count": null,
      "outputs": []
    },
    {
      "cell_type": "code",
      "source": [
        "cust.to_csv('cust+train_reorder.csv',index = False)"
      ],
      "metadata": {
        "id": "i_Je6opL_bX6"
      },
      "execution_count": null,
      "outputs": []
    },
    {
      "cell_type": "markdown",
      "source": [
        "#train,test dataset"
      ],
      "metadata": {
        "id": "pdnP-My1QIFr"
      }
    },
    {
      "cell_type": "code",
      "source": [
        "li = os.listdir('/gdrive/MyDrive/프로젝트2/train_test')\n",
        "path = '/gdrive/MyDrive/프로젝트2/train_test/'"
      ],
      "metadata": {
        "id": "-ShDO1QJQI6F"
      },
      "execution_count": null,
      "outputs": []
    },
    {
      "cell_type": "code",
      "source": [
        "li"
      ],
      "metadata": {
        "colab": {
          "base_uri": "https://localhost:8080/"
        },
        "id": "uIfQluV1Qplr",
        "outputId": "5010b4d6-dd94-4229-e125-24861900eaaa"
      },
      "execution_count": null,
      "outputs": [
        {
          "output_type": "execute_result",
          "data": {
            "text/plain": [
              "['train.csv',\n",
              " 'test.csv',\n",
              " '상품_test.csv',\n",
              " '고객_test.csv',\n",
              " '고객_train.csv',\n",
              " '상품_train.csv',\n",
              " 'cust+train_reorder (1).csv',\n",
              " '.ipynb_checkpoints',\n",
              " 'order_cust.csv']"
            ]
          },
          "metadata": {},
          "execution_count": 11
        }
      ]
    },
    {
      "cell_type": "code",
      "source": [
        "df_list=[]\n",
        "for i in li[2:-3]:\n",
        "  df_list.append(pd.read_csv(path+i))"
      ],
      "metadata": {
        "id": "GjT8gLpmQmZk"
      },
      "execution_count": null,
      "outputs": []
    },
    {
      "cell_type": "code",
      "source": [
        "len(df_list)"
      ],
      "metadata": {
        "colab": {
          "base_uri": "https://localhost:8080/"
        },
        "id": "7yull1MjeATD",
        "outputId": "d5242574-7468-4ef4-a03d-1d251e9a80b1"
      },
      "execution_count": null,
      "outputs": [
        {
          "output_type": "execute_result",
          "data": {
            "text/plain": [
              "4"
            ]
          },
          "metadata": {},
          "execution_count": 15
        }
      ]
    },
    {
      "cell_type": "code",
      "source": [
        "goods_train=df_list[3]\n",
        "cust_train=df_list[2]"
      ],
      "metadata": {
        "id": "CLqEbjU1RC4x"
      },
      "execution_count": null,
      "outputs": []
    },
    {
      "cell_type": "code",
      "source": [
        "goods_test = df_list[0]\n",
        "cust_test = df_list[1]"
      ],
      "metadata": {
        "id": "ofAyIBn1RQJ6"
      },
      "execution_count": null,
      "outputs": []
    },
    {
      "cell_type": "markdown",
      "source": [
        "#cust_train"
      ],
      "metadata": {
        "id": "aZez7KuPZBQE"
      }
    },
    {
      "cell_type": "code",
      "source": [
        "d = p.merge_goods_order()"
      ],
      "metadata": {
        "id": "43Vhf7rNZkin"
      },
      "execution_count": null,
      "outputs": []
    },
    {
      "cell_type": "code",
      "source": [
        "a=d.groupby(['소분류명'])['reorder'].count().reset_index(name = 'whole_cnt')\n",
        "b=d.groupby(['소분류명'])['reorder'].sum().reset_index(name ='cnt')\n",
        "a['reorder_rate']= b['cnt'] / a['whole_cnt']\n",
        "b['reorder_rate']= b['cnt'] / a['whole_cnt']"
      ],
      "metadata": {
        "id": "c_a1w17IZibV"
      },
      "execution_count": null,
      "outputs": []
    },
    {
      "cell_type": "code",
      "source": [
        "cust = pd.read_csv('/gdrive/MyDrive/프로젝트2/train_test/cust+train_reorder (1).csv')\n",
        "cust_train['reorder']=cust['reorder_train']"
      ],
      "metadata": {
        "id": "c301L17LRjjZ"
      },
      "execution_count": null,
      "outputs": []
    },
    {
      "cell_type": "code",
      "source": [
        "b['소분류코드'] = goods_train['소분류코드']"
      ],
      "metadata": {
        "id": "pkS0J3uAWJPB"
      },
      "execution_count": null,
      "outputs": []
    },
    {
      "cell_type": "code",
      "source": [
        "goods_train['cnt'] = b['cnt']\n",
        "goods_train['reorder_rate'] = b['reorder_rate']"
      ],
      "metadata": {
        "id": "Akd3VmJCRraM"
      },
      "execution_count": null,
      "outputs": []
    },
    {
      "cell_type": "code",
      "source": [
        "cust_train=cust_train.rename({'reorder' : 'reorder_rate'},axis = 'columns')"
      ],
      "metadata": {
        "id": "0Gs5S3ChU_nQ"
      },
      "execution_count": null,
      "outputs": []
    },
    {
      "cell_type": "code",
      "source": [
        "goods_train['소분류명'] = b['소분류명']"
      ],
      "metadata": {
        "id": "2v-zC3NIVfPw"
      },
      "execution_count": null,
      "outputs": []
    },
    {
      "cell_type": "code",
      "source": [
        "d['eval_set'] = np.where(d.구매일자 < 20151000,'train','test')"
      ],
      "metadata": {
        "id": "tdWOW4JRYLKc"
      },
      "execution_count": null,
      "outputs": []
    },
    {
      "cell_type": "code",
      "source": [
        "order=d[['영수증번호','고객번호','구매시간','소분류명','reorder','eval_set']]"
      ],
      "metadata": {
        "id": "QVJOBKvxYeR1"
      },
      "execution_count": null,
      "outputs": []
    },
    {
      "cell_type": "code",
      "source": [
        "order_cust=pd.merge(order,cust_train,on = '고객번호')"
      ],
      "metadata": {
        "id": "aCkHXl7pZIsU"
      },
      "execution_count": null,
      "outputs": []
    },
    {
      "cell_type": "code",
      "source": [
        "goods_train=goods_train.rename({'reorder_rate' : 'goods_reorder_rate'},axis =1)"
      ],
      "metadata": {
        "id": "LwrB7hs_b735"
      },
      "execution_count": null,
      "outputs": []
    },
    {
      "cell_type": "code",
      "source": [
        "order_cust.to_csv('/gdrive/MyDrive/프로젝트2/train_test/order_cust.csv',index = False)"
      ],
      "metadata": {
        "id": "sl8mcFIzb-C5"
      },
      "execution_count": null,
      "outputs": []
    },
    {
      "cell_type": "code",
      "source": [
        "pd.merge(order_cust,goods_train)"
      ],
      "metadata": {
        "id": "dDpG2vbnb5RA"
      },
      "execution_count": null,
      "outputs": []
    },
    {
      "cell_type": "code",
      "source": [
        "goods_train.to_csv('/gdrive/MyDrive/프로젝트2/train_test/goods_train.csv',index = False)"
      ],
      "metadata": {
        "id": "G3jSGFNJcTik"
      },
      "execution_count": null,
      "outputs": []
    },
    {
      "cell_type": "markdown",
      "source": [
        "#모두합치기"
      ],
      "metadata": {
        "id": "UQtzjW2cdA0R"
      }
    },
    {
      "cell_type": "code",
      "source": [
        "gp=pd.read_csv('/gdrive/MyDrive/프로젝트2/train_test/final.csv',chunksize = 2000000)\n",
        "gp_li = list(gp)\n",
        "order_cust = pd.concat(gp_li)\n"
      ],
      "metadata": {
        "id": "VZpYvAXXdCwr"
      },
      "execution_count": null,
      "outputs": []
    },
    {
      "cell_type": "code",
      "source": [
        "train=order_cust[order_cust['eval_set']== 'train']"
      ],
      "metadata": {
        "id": "GEJY7aaefNss"
      },
      "execution_count": null,
      "outputs": []
    },
    {
      "cell_type": "code",
      "source": [
        "train= train[['영수증번호', '고객번호','reorder','구매상품수',\n",
        "       '첫-마지막', '구매간격', '구매건수', '구매항목수', '구매_평균항목수', 'reorder_rate', '소분류코드',\n",
        "       '상품당_총구매수', '처음_두번째주문비율', '각상품먼저구매고객수', '전체판매량/첫번째구매', '평균구매량', 'cnt',\n",
        "       'goods_reorder_rate']]\n",
        "train_target = train['reorder']\n",
        "train.drop('reorder',axis = 1,inplace = True)"
      ],
      "metadata": {
        "id": "ip6KX8TLih7y"
      },
      "execution_count": null,
      "outputs": []
    },
    {
      "cell_type": "code",
      "source": [
        "final_train = pd.merge(train,pd.read_csv('/gdrive/MyDrive/프로젝트2/train_test/고객X상품_train.csv'),on = ['고객번호','소분류코드'])"
      ],
      "metadata": {
        "id": "ink7a4KWDAxT"
      },
      "execution_count": null,
      "outputs": []
    },
    {
      "cell_type": "code",
      "source": [
        "test = order_cust[order_cust['eval_set']== 'test']\n",
        "test_target = test['reorder']"
      ],
      "metadata": {
        "id": "cK8jLZyfi_01"
      },
      "execution_count": null,
      "outputs": []
    },
    {
      "cell_type": "code",
      "source": [
        "test= test[['영수증번호', '고객번호','구매상품수',\n",
        "       '첫-마지막', '구매간격', '구매건수', '구매항목수', '구매_평균항목수', 'reorder_rate', '소분류코드',\n",
        "       '상품당_총구매수', '처음_두번째주문비율', '각상품먼저구매고객수', '전체판매량/첫번째구매', '평균구매량', 'cnt',\n",
        "       'goods_reorder_rate']]\n",
        "final_test = pd.merge(test,pd.read_csv('/gdrive/MyDrive/프로젝트2/train_test/고객X상품_test.csv'),on = ['고객번호','소분류코드'])"
      ],
      "metadata": {
        "id": "f89lKuHOjTpo"
      },
      "execution_count": null,
      "outputs": []
    },
    {
      "cell_type": "code",
      "source": [
        "final_train.to_csv('/gdrive/MyDrive/프로젝트2/train_test/final_train.csv',index = False)\n",
        "final_test.to_csv('/gdrive/MyDrive/프로젝트2/train_test/final_test.csv',index = False)\n",
        "test_target.to_csv('/gdrive/MyDrive/프로젝트2/train_test/final_train_target.csv',index = False)"
      ],
      "metadata": {
        "id": "yfhrEZaxExSr"
      },
      "execution_count": null,
      "outputs": []
    },
    {
      "cell_type": "code",
      "source": [
        "train_target.to_csv('/gdrive/MyDrive/프로젝트2/train_test/final_test_target.csv',index = False)"
      ],
      "metadata": {
        "id": "y_CpOIzSIb31"
      },
      "execution_count": null,
      "outputs": []
    },
    {
      "cell_type": "markdown",
      "source": [
        "#모델링"
      ],
      "metadata": {
        "id": "ZvavK2wQEvFb"
      }
    },
    {
      "cell_type": "code",
      "source": [
        "gp=pd.read_csv('/gdrive/MyDrive/프로젝트2/train_test/final_train.csv',chunksize = 2000000)\n",
        "gp_li = list(gp)\n",
        "final_train = pd.concat(gp_li)\n",
        "\n",
        "final_train[final_train.select_dtypes('float64').columns] = final_train.select_dtypes('float64').astype('float32')\n",
        "final_train[final_train.select_dtypes('int64').columns] = final_train.select_dtypes('int64').astype('int32')\n"
      ],
      "metadata": {
        "id": "b5CSAm3sHyEO"
      },
      "execution_count": null,
      "outputs": []
    },
    {
      "cell_type": "code",
      "source": [
        "train_target = pd.read_csv('/gdrive/MyDrive/프로젝트2/train_test/final_train_target.csv')\n",
        "train_target[train_target.select_dtypes('int64').columns] = train_target.select_dtypes('int64').astype('int32')"
      ],
      "metadata": {
        "id": "kF1CEjncY9vy"
      },
      "execution_count": null,
      "outputs": []
    },
    {
      "cell_type": "code",
      "source": [
        "from sklearn.model_selection import train_test_split\n",
        "\n",
        "x_train,x_val,y_train,y_val = train_test_split(final_train,train_target,train_size = 0.8,shuffle=False)"
      ],
      "metadata": {
        "id": "gaSc7HEbfXNH"
      },
      "execution_count": null,
      "outputs": []
    },
    {
      "cell_type": "code",
      "source": [
        "gp=pd.read_csv('/gdrive/MyDrive/프로젝트2/train_test/final_test.csv',chunksize = 2000000)\n",
        "gp_li = list(gp)\n",
        "final_test = pd.concat(gp_li)\n",
        "test_target = pd.read_csv('/gdrive/MyDrive/프로젝트2/train_test/final_test_target.csv')\n",
        "final_test[final_test.select_dtypes('float64').columns] = final_test.select_dtypes('float64').astype('float32')\n",
        "final_test[final_test.select_dtypes('int64').columns] = final_test.select_dtypes('int64').astype('int32')\n",
        "test_target[test_target.select_dtypes('int64').columns] = test_target.select_dtypes('int64').astype('int32')"
      ],
      "metadata": {
        "id": "1zA3BfRZk0zb"
      },
      "execution_count": null,
      "outputs": []
    },
    {
      "cell_type": "code",
      "source": [
        "final_test.isna()"
      ],
      "metadata": {
        "colab": {
          "base_uri": "https://localhost:8080/",
          "height": 502
        },
        "id": "EaRwA6CGzlaX",
        "outputId": "81530e7d-aec3-462d-f064-381f5eba3f93"
      },
      "execution_count": null,
      "outputs": [
        {
          "output_type": "execute_result",
          "data": {
            "text/plain": [
              "         영수증번호   고객번호  구매상품수  첫-마지막   구매간격   구매건수  구매항목수  구매_평균항목수  \\\n",
              "0        False  False  False  False  False  False  False     False   \n",
              "1        False  False  False  False  False  False  False     False   \n",
              "2        False  False  False  False  False  False  False     False   \n",
              "3        False  False  False  False  False  False  False     False   \n",
              "4        False  False  False  False  False  False  False     False   \n",
              "...        ...    ...    ...    ...    ...    ...    ...       ...   \n",
              "3451755  False  False  False  False  False  False  False     False   \n",
              "3451756  False  False  False  False  False  False  False     False   \n",
              "3451757  False  False  False  False  False  False  False     False   \n",
              "3451758  False  False  False  False  False  False  False     False   \n",
              "3451759  False  False  False  False  False  False  False     False   \n",
              "\n",
              "         reorder_rate  소분류코드  ...  전체판매량/첫번째구매  평균구매량    cnt  \\\n",
              "0               False  False  ...        False  False  False   \n",
              "1               False  False  ...        False  False  False   \n",
              "2               False  False  ...        False  False  False   \n",
              "3               False  False  ...        False  False  False   \n",
              "4               False  False  ...        False  False  False   \n",
              "...               ...    ...  ...          ...    ...    ...   \n",
              "3451755         False  False  ...        False  False  False   \n",
              "3451756         False  False  ...        False  False  False   \n",
              "3451757         False  False  ...        False  False  False   \n",
              "3451758         False  False  ...        False  False  False   \n",
              "3451759         False  False  ...        False  False  False   \n",
              "\n",
              "         goods_reorder_rate  특정상품구매횟수  특정상품포함비율  처음구매횟수  마지막구매횟수  \\\n",
              "0                     False     False     False   False    False   \n",
              "1                     False     False     False   False    False   \n",
              "2                     False     False     False   False    False   \n",
              "3                     False     False     False   False    False   \n",
              "4                     False     False     False   False    False   \n",
              "...                     ...       ...       ...     ...      ...   \n",
              "3451755               False     False     False   False    False   \n",
              "3451756               False     False     False   False    False   \n",
              "3451757               False     False     False   False    False   \n",
              "3451758               False     False     False   False    False   \n",
              "3451759               False     False     False   False    False   \n",
              "\n",
              "         전체구매횟수/특정상품포함  특정상품구매후_특정상품구매비율  \n",
              "0                False             False  \n",
              "1                False             False  \n",
              "2                False             False  \n",
              "3                False             False  \n",
              "4                False             False  \n",
              "...                ...               ...  \n",
              "3451755          False             False  \n",
              "3451756          False             False  \n",
              "3451757          False             False  \n",
              "3451758          False             False  \n",
              "3451759          False             False  \n",
              "\n",
              "[3451760 rows x 23 columns]"
            ],
            "text/html": [
              "\n",
              "  <div id=\"df-4cb95e51-e66b-4f42-ab47-926d9acdaf7e\">\n",
              "    <div class=\"colab-df-container\">\n",
              "      <div>\n",
              "<style scoped>\n",
              "    .dataframe tbody tr th:only-of-type {\n",
              "        vertical-align: middle;\n",
              "    }\n",
              "\n",
              "    .dataframe tbody tr th {\n",
              "        vertical-align: top;\n",
              "    }\n",
              "\n",
              "    .dataframe thead th {\n",
              "        text-align: right;\n",
              "    }\n",
              "</style>\n",
              "<table border=\"1\" class=\"dataframe\">\n",
              "  <thead>\n",
              "    <tr style=\"text-align: right;\">\n",
              "      <th></th>\n",
              "      <th>영수증번호</th>\n",
              "      <th>고객번호</th>\n",
              "      <th>구매상품수</th>\n",
              "      <th>첫-마지막</th>\n",
              "      <th>구매간격</th>\n",
              "      <th>구매건수</th>\n",
              "      <th>구매항목수</th>\n",
              "      <th>구매_평균항목수</th>\n",
              "      <th>reorder_rate</th>\n",
              "      <th>소분류코드</th>\n",
              "      <th>...</th>\n",
              "      <th>전체판매량/첫번째구매</th>\n",
              "      <th>평균구매량</th>\n",
              "      <th>cnt</th>\n",
              "      <th>goods_reorder_rate</th>\n",
              "      <th>특정상품구매횟수</th>\n",
              "      <th>특정상품포함비율</th>\n",
              "      <th>처음구매횟수</th>\n",
              "      <th>마지막구매횟수</th>\n",
              "      <th>전체구매횟수/특정상품포함</th>\n",
              "      <th>특정상품구매후_특정상품구매비율</th>\n",
              "    </tr>\n",
              "  </thead>\n",
              "  <tbody>\n",
              "    <tr>\n",
              "      <th>0</th>\n",
              "      <td>False</td>\n",
              "      <td>False</td>\n",
              "      <td>False</td>\n",
              "      <td>False</td>\n",
              "      <td>False</td>\n",
              "      <td>False</td>\n",
              "      <td>False</td>\n",
              "      <td>False</td>\n",
              "      <td>False</td>\n",
              "      <td>False</td>\n",
              "      <td>...</td>\n",
              "      <td>False</td>\n",
              "      <td>False</td>\n",
              "      <td>False</td>\n",
              "      <td>False</td>\n",
              "      <td>False</td>\n",
              "      <td>False</td>\n",
              "      <td>False</td>\n",
              "      <td>False</td>\n",
              "      <td>False</td>\n",
              "      <td>False</td>\n",
              "    </tr>\n",
              "    <tr>\n",
              "      <th>1</th>\n",
              "      <td>False</td>\n",
              "      <td>False</td>\n",
              "      <td>False</td>\n",
              "      <td>False</td>\n",
              "      <td>False</td>\n",
              "      <td>False</td>\n",
              "      <td>False</td>\n",
              "      <td>False</td>\n",
              "      <td>False</td>\n",
              "      <td>False</td>\n",
              "      <td>...</td>\n",
              "      <td>False</td>\n",
              "      <td>False</td>\n",
              "      <td>False</td>\n",
              "      <td>False</td>\n",
              "      <td>False</td>\n",
              "      <td>False</td>\n",
              "      <td>False</td>\n",
              "      <td>False</td>\n",
              "      <td>False</td>\n",
              "      <td>False</td>\n",
              "    </tr>\n",
              "    <tr>\n",
              "      <th>2</th>\n",
              "      <td>False</td>\n",
              "      <td>False</td>\n",
              "      <td>False</td>\n",
              "      <td>False</td>\n",
              "      <td>False</td>\n",
              "      <td>False</td>\n",
              "      <td>False</td>\n",
              "      <td>False</td>\n",
              "      <td>False</td>\n",
              "      <td>False</td>\n",
              "      <td>...</td>\n",
              "      <td>False</td>\n",
              "      <td>False</td>\n",
              "      <td>False</td>\n",
              "      <td>False</td>\n",
              "      <td>False</td>\n",
              "      <td>False</td>\n",
              "      <td>False</td>\n",
              "      <td>False</td>\n",
              "      <td>False</td>\n",
              "      <td>False</td>\n",
              "    </tr>\n",
              "    <tr>\n",
              "      <th>3</th>\n",
              "      <td>False</td>\n",
              "      <td>False</td>\n",
              "      <td>False</td>\n",
              "      <td>False</td>\n",
              "      <td>False</td>\n",
              "      <td>False</td>\n",
              "      <td>False</td>\n",
              "      <td>False</td>\n",
              "      <td>False</td>\n",
              "      <td>False</td>\n",
              "      <td>...</td>\n",
              "      <td>False</td>\n",
              "      <td>False</td>\n",
              "      <td>False</td>\n",
              "      <td>False</td>\n",
              "      <td>False</td>\n",
              "      <td>False</td>\n",
              "      <td>False</td>\n",
              "      <td>False</td>\n",
              "      <td>False</td>\n",
              "      <td>False</td>\n",
              "    </tr>\n",
              "    <tr>\n",
              "      <th>4</th>\n",
              "      <td>False</td>\n",
              "      <td>False</td>\n",
              "      <td>False</td>\n",
              "      <td>False</td>\n",
              "      <td>False</td>\n",
              "      <td>False</td>\n",
              "      <td>False</td>\n",
              "      <td>False</td>\n",
              "      <td>False</td>\n",
              "      <td>False</td>\n",
              "      <td>...</td>\n",
              "      <td>False</td>\n",
              "      <td>False</td>\n",
              "      <td>False</td>\n",
              "      <td>False</td>\n",
              "      <td>False</td>\n",
              "      <td>False</td>\n",
              "      <td>False</td>\n",
              "      <td>False</td>\n",
              "      <td>False</td>\n",
              "      <td>False</td>\n",
              "    </tr>\n",
              "    <tr>\n",
              "      <th>...</th>\n",
              "      <td>...</td>\n",
              "      <td>...</td>\n",
              "      <td>...</td>\n",
              "      <td>...</td>\n",
              "      <td>...</td>\n",
              "      <td>...</td>\n",
              "      <td>...</td>\n",
              "      <td>...</td>\n",
              "      <td>...</td>\n",
              "      <td>...</td>\n",
              "      <td>...</td>\n",
              "      <td>...</td>\n",
              "      <td>...</td>\n",
              "      <td>...</td>\n",
              "      <td>...</td>\n",
              "      <td>...</td>\n",
              "      <td>...</td>\n",
              "      <td>...</td>\n",
              "      <td>...</td>\n",
              "      <td>...</td>\n",
              "      <td>...</td>\n",
              "    </tr>\n",
              "    <tr>\n",
              "      <th>3451755</th>\n",
              "      <td>False</td>\n",
              "      <td>False</td>\n",
              "      <td>False</td>\n",
              "      <td>False</td>\n",
              "      <td>False</td>\n",
              "      <td>False</td>\n",
              "      <td>False</td>\n",
              "      <td>False</td>\n",
              "      <td>False</td>\n",
              "      <td>False</td>\n",
              "      <td>...</td>\n",
              "      <td>False</td>\n",
              "      <td>False</td>\n",
              "      <td>False</td>\n",
              "      <td>False</td>\n",
              "      <td>False</td>\n",
              "      <td>False</td>\n",
              "      <td>False</td>\n",
              "      <td>False</td>\n",
              "      <td>False</td>\n",
              "      <td>False</td>\n",
              "    </tr>\n",
              "    <tr>\n",
              "      <th>3451756</th>\n",
              "      <td>False</td>\n",
              "      <td>False</td>\n",
              "      <td>False</td>\n",
              "      <td>False</td>\n",
              "      <td>False</td>\n",
              "      <td>False</td>\n",
              "      <td>False</td>\n",
              "      <td>False</td>\n",
              "      <td>False</td>\n",
              "      <td>False</td>\n",
              "      <td>...</td>\n",
              "      <td>False</td>\n",
              "      <td>False</td>\n",
              "      <td>False</td>\n",
              "      <td>False</td>\n",
              "      <td>False</td>\n",
              "      <td>False</td>\n",
              "      <td>False</td>\n",
              "      <td>False</td>\n",
              "      <td>False</td>\n",
              "      <td>False</td>\n",
              "    </tr>\n",
              "    <tr>\n",
              "      <th>3451757</th>\n",
              "      <td>False</td>\n",
              "      <td>False</td>\n",
              "      <td>False</td>\n",
              "      <td>False</td>\n",
              "      <td>False</td>\n",
              "      <td>False</td>\n",
              "      <td>False</td>\n",
              "      <td>False</td>\n",
              "      <td>False</td>\n",
              "      <td>False</td>\n",
              "      <td>...</td>\n",
              "      <td>False</td>\n",
              "      <td>False</td>\n",
              "      <td>False</td>\n",
              "      <td>False</td>\n",
              "      <td>False</td>\n",
              "      <td>False</td>\n",
              "      <td>False</td>\n",
              "      <td>False</td>\n",
              "      <td>False</td>\n",
              "      <td>False</td>\n",
              "    </tr>\n",
              "    <tr>\n",
              "      <th>3451758</th>\n",
              "      <td>False</td>\n",
              "      <td>False</td>\n",
              "      <td>False</td>\n",
              "      <td>False</td>\n",
              "      <td>False</td>\n",
              "      <td>False</td>\n",
              "      <td>False</td>\n",
              "      <td>False</td>\n",
              "      <td>False</td>\n",
              "      <td>False</td>\n",
              "      <td>...</td>\n",
              "      <td>False</td>\n",
              "      <td>False</td>\n",
              "      <td>False</td>\n",
              "      <td>False</td>\n",
              "      <td>False</td>\n",
              "      <td>False</td>\n",
              "      <td>False</td>\n",
              "      <td>False</td>\n",
              "      <td>False</td>\n",
              "      <td>False</td>\n",
              "    </tr>\n",
              "    <tr>\n",
              "      <th>3451759</th>\n",
              "      <td>False</td>\n",
              "      <td>False</td>\n",
              "      <td>False</td>\n",
              "      <td>False</td>\n",
              "      <td>False</td>\n",
              "      <td>False</td>\n",
              "      <td>False</td>\n",
              "      <td>False</td>\n",
              "      <td>False</td>\n",
              "      <td>False</td>\n",
              "      <td>...</td>\n",
              "      <td>False</td>\n",
              "      <td>False</td>\n",
              "      <td>False</td>\n",
              "      <td>False</td>\n",
              "      <td>False</td>\n",
              "      <td>False</td>\n",
              "      <td>False</td>\n",
              "      <td>False</td>\n",
              "      <td>False</td>\n",
              "      <td>False</td>\n",
              "    </tr>\n",
              "  </tbody>\n",
              "</table>\n",
              "<p>3451760 rows × 23 columns</p>\n",
              "</div>\n",
              "      <button class=\"colab-df-convert\" onclick=\"convertToInteractive('df-4cb95e51-e66b-4f42-ab47-926d9acdaf7e')\"\n",
              "              title=\"Convert this dataframe to an interactive table.\"\n",
              "              style=\"display:none;\">\n",
              "        \n",
              "  <svg xmlns=\"http://www.w3.org/2000/svg\" height=\"24px\"viewBox=\"0 0 24 24\"\n",
              "       width=\"24px\">\n",
              "    <path d=\"M0 0h24v24H0V0z\" fill=\"none\"/>\n",
              "    <path d=\"M18.56 5.44l.94 2.06.94-2.06 2.06-.94-2.06-.94-.94-2.06-.94 2.06-2.06.94zm-11 1L8.5 8.5l.94-2.06 2.06-.94-2.06-.94L8.5 2.5l-.94 2.06-2.06.94zm10 10l.94 2.06.94-2.06 2.06-.94-2.06-.94-.94-2.06-.94 2.06-2.06.94z\"/><path d=\"M17.41 7.96l-1.37-1.37c-.4-.4-.92-.59-1.43-.59-.52 0-1.04.2-1.43.59L10.3 9.45l-7.72 7.72c-.78.78-.78 2.05 0 2.83L4 21.41c.39.39.9.59 1.41.59.51 0 1.02-.2 1.41-.59l7.78-7.78 2.81-2.81c.8-.78.8-2.07 0-2.86zM5.41 20L4 18.59l7.72-7.72 1.47 1.35L5.41 20z\"/>\n",
              "  </svg>\n",
              "      </button>\n",
              "      \n",
              "  <style>\n",
              "    .colab-df-container {\n",
              "      display:flex;\n",
              "      flex-wrap:wrap;\n",
              "      gap: 12px;\n",
              "    }\n",
              "\n",
              "    .colab-df-convert {\n",
              "      background-color: #E8F0FE;\n",
              "      border: none;\n",
              "      border-radius: 50%;\n",
              "      cursor: pointer;\n",
              "      display: none;\n",
              "      fill: #1967D2;\n",
              "      height: 32px;\n",
              "      padding: 0 0 0 0;\n",
              "      width: 32px;\n",
              "    }\n",
              "\n",
              "    .colab-df-convert:hover {\n",
              "      background-color: #E2EBFA;\n",
              "      box-shadow: 0px 1px 2px rgba(60, 64, 67, 0.3), 0px 1px 3px 1px rgba(60, 64, 67, 0.15);\n",
              "      fill: #174EA6;\n",
              "    }\n",
              "\n",
              "    [theme=dark] .colab-df-convert {\n",
              "      background-color: #3B4455;\n",
              "      fill: #D2E3FC;\n",
              "    }\n",
              "\n",
              "    [theme=dark] .colab-df-convert:hover {\n",
              "      background-color: #434B5C;\n",
              "      box-shadow: 0px 1px 3px 1px rgba(0, 0, 0, 0.15);\n",
              "      filter: drop-shadow(0px 1px 2px rgba(0, 0, 0, 0.3));\n",
              "      fill: #FFFFFF;\n",
              "    }\n",
              "  </style>\n",
              "\n",
              "      <script>\n",
              "        const buttonEl =\n",
              "          document.querySelector('#df-4cb95e51-e66b-4f42-ab47-926d9acdaf7e button.colab-df-convert');\n",
              "        buttonEl.style.display =\n",
              "          google.colab.kernel.accessAllowed ? 'block' : 'none';\n",
              "\n",
              "        async function convertToInteractive(key) {\n",
              "          const element = document.querySelector('#df-4cb95e51-e66b-4f42-ab47-926d9acdaf7e');\n",
              "          const dataTable =\n",
              "            await google.colab.kernel.invokeFunction('convertToInteractive',\n",
              "                                                     [key], {});\n",
              "          if (!dataTable) return;\n",
              "\n",
              "          const docLinkHtml = 'Like what you see? Visit the ' +\n",
              "            '<a target=\"_blank\" href=https://colab.research.google.com/notebooks/data_table.ipynb>data table notebook</a>'\n",
              "            + ' to learn more about interactive tables.';\n",
              "          element.innerHTML = '';\n",
              "          dataTable['output_type'] = 'display_data';\n",
              "          await google.colab.output.renderOutput(dataTable, element);\n",
              "          const docLink = document.createElement('div');\n",
              "          docLink.innerHTML = docLinkHtml;\n",
              "          element.appendChild(docLink);\n",
              "        }\n",
              "      </script>\n",
              "    </div>\n",
              "  </div>\n",
              "  "
            ]
          },
          "metadata": {},
          "execution_count": 8
        }
      ]
    },
    {
      "cell_type": "code",
      "source": [
        "from lightgbm import LGBMClassifier\n",
        "from sklearn.linear_model import LogisticRegression\n",
        "from sklearn.tree import DecisionTreeClassifier\n",
        "res = []\n",
        "model = LGBMClassifier(num_leaves = 15, learning_rate = 0.5,histogram_pool_size=16384)\n",
        "#models = [LGBMClassifier(histogram_pool_size=16384),DecisionTreeClassifier(),LogisticRegression()]\n",
        "#for model in models:\n",
        "model.fit(x_train.fillna(0),y_train.fillna(0),eval_set = (x_val,y_val), eval_metric = 'f1')\n",
        "preds = model.predict(final_test.fillna(0))\n",
        "res.append({'accuracy' : accuracy_score(preds,test_target),'recall' : recall_score(preds,test_target),'precision' : precision_score(preds,test_target),'f1' : f1_score(preds,test_target),'roc_auc' : roc_auc_score(preds,test_target)})\n",
        "#models[1].fit(x_train.fillna(0),y_train.fillna(0))\n",
        "#preds = models[1].predict(final_test)\n",
        "#res.append(f1_score(preds,test_target))\n",
        "res"
      ],
      "metadata": {
        "id": "IfGXsyjqkq5r",
        "colab": {
          "base_uri": "https://localhost:8080/"
        },
        "outputId": "ad50f43a-fddc-41e8-b706-1b00bbe9e240"
      },
      "execution_count": null,
      "outputs": [
        {
          "output_type": "stream",
          "name": "stderr",
          "text": [
            "/usr/local/lib/python3.8/dist-packages/sklearn/preprocessing/_label.py:98: DataConversionWarning: A column-vector y was passed when a 1d array was expected. Please change the shape of y to (n_samples, ), for example using ravel().\n",
            "  y = column_or_1d(y, warn=True)\n",
            "/usr/local/lib/python3.8/dist-packages/sklearn/preprocessing/_label.py:133: DataConversionWarning: A column-vector y was passed when a 1d array was expected. Please change the shape of y to (n_samples, ), for example using ravel().\n",
            "  y = column_or_1d(y, warn=True)\n"
          ]
        },
        {
          "output_type": "stream",
          "name": "stdout",
          "text": [
            "[1]\tvalid_0's binary_logloss: 0.189795\n",
            "[2]\tvalid_0's binary_logloss: 0.18193\n",
            "[3]\tvalid_0's binary_logloss: 0.178553\n",
            "[4]\tvalid_0's binary_logloss: 0.175817\n",
            "[5]\tvalid_0's binary_logloss: 0.174331\n",
            "[6]\tvalid_0's binary_logloss: 0.173445\n",
            "[7]\tvalid_0's binary_logloss: 0.172673\n",
            "[8]\tvalid_0's binary_logloss: 0.171834\n",
            "[9]\tvalid_0's binary_logloss: 0.171128\n",
            "[10]\tvalid_0's binary_logloss: 0.170905\n",
            "[11]\tvalid_0's binary_logloss: 0.170588\n",
            "[12]\tvalid_0's binary_logloss: 0.170358\n",
            "[13]\tvalid_0's binary_logloss: 0.169871\n",
            "[14]\tvalid_0's binary_logloss: 0.169704\n",
            "[15]\tvalid_0's binary_logloss: 0.169394\n",
            "[16]\tvalid_0's binary_logloss: 0.169086\n",
            "[17]\tvalid_0's binary_logloss: 0.168811\n",
            "[18]\tvalid_0's binary_logloss: 0.16883\n",
            "[19]\tvalid_0's binary_logloss: 0.168681\n",
            "[20]\tvalid_0's binary_logloss: 0.168643\n",
            "[21]\tvalid_0's binary_logloss: 0.168531\n",
            "[22]\tvalid_0's binary_logloss: 0.16844\n",
            "[23]\tvalid_0's binary_logloss: 0.168317\n",
            "[24]\tvalid_0's binary_logloss: 0.168368\n",
            "[25]\tvalid_0's binary_logloss: 0.168297\n",
            "[26]\tvalid_0's binary_logloss: 0.168234\n",
            "[27]\tvalid_0's binary_logloss: 0.168168\n",
            "[28]\tvalid_0's binary_logloss: 0.168138\n",
            "[29]\tvalid_0's binary_logloss: 0.167878\n",
            "[30]\tvalid_0's binary_logloss: 0.167846\n",
            "[31]\tvalid_0's binary_logloss: 0.167783\n",
            "[32]\tvalid_0's binary_logloss: 0.1677\n",
            "[33]\tvalid_0's binary_logloss: 0.167603\n",
            "[34]\tvalid_0's binary_logloss: 0.167543\n",
            "[35]\tvalid_0's binary_logloss: 0.167423\n",
            "[36]\tvalid_0's binary_logloss: 0.167368\n",
            "[37]\tvalid_0's binary_logloss: 0.167328\n",
            "[38]\tvalid_0's binary_logloss: 0.16734\n",
            "[39]\tvalid_0's binary_logloss: 0.167332\n",
            "[40]\tvalid_0's binary_logloss: 0.167244\n",
            "[41]\tvalid_0's binary_logloss: 0.167227\n",
            "[42]\tvalid_0's binary_logloss: 0.167337\n",
            "[43]\tvalid_0's binary_logloss: 0.167229\n",
            "[44]\tvalid_0's binary_logloss: 0.167233\n",
            "[45]\tvalid_0's binary_logloss: 0.167183\n",
            "[46]\tvalid_0's binary_logloss: 0.167157\n",
            "[47]\tvalid_0's binary_logloss: 0.167125\n",
            "[48]\tvalid_0's binary_logloss: 0.16706\n",
            "[49]\tvalid_0's binary_logloss: 0.16704\n",
            "[50]\tvalid_0's binary_logloss: 0.167062\n",
            "[51]\tvalid_0's binary_logloss: 0.167026\n",
            "[52]\tvalid_0's binary_logloss: 0.16701\n",
            "[53]\tvalid_0's binary_logloss: 0.166985\n",
            "[54]\tvalid_0's binary_logloss: 0.166927\n",
            "[55]\tvalid_0's binary_logloss: 0.166896\n",
            "[56]\tvalid_0's binary_logloss: 0.166907\n",
            "[57]\tvalid_0's binary_logloss: 0.166938\n",
            "[58]\tvalid_0's binary_logloss: 0.166911\n",
            "[59]\tvalid_0's binary_logloss: 0.166929\n",
            "[60]\tvalid_0's binary_logloss: 0.166928\n",
            "[61]\tvalid_0's binary_logloss: 0.16691\n",
            "[62]\tvalid_0's binary_logloss: 0.166904\n",
            "[63]\tvalid_0's binary_logloss: 0.166905\n",
            "[64]\tvalid_0's binary_logloss: 0.166877\n",
            "[65]\tvalid_0's binary_logloss: 0.166782\n",
            "[66]\tvalid_0's binary_logloss: 0.166728\n",
            "[67]\tvalid_0's binary_logloss: 0.166691\n",
            "[68]\tvalid_0's binary_logloss: 0.166661\n",
            "[69]\tvalid_0's binary_logloss: 0.166539\n",
            "[70]\tvalid_0's binary_logloss: 0.166819\n",
            "[71]\tvalid_0's binary_logloss: 0.166801\n",
            "[72]\tvalid_0's binary_logloss: 0.16678\n",
            "[73]\tvalid_0's binary_logloss: 0.166774\n",
            "[74]\tvalid_0's binary_logloss: 0.166763\n",
            "[75]\tvalid_0's binary_logloss: 0.166746\n",
            "[76]\tvalid_0's binary_logloss: 0.166741\n",
            "[77]\tvalid_0's binary_logloss: 0.166835\n",
            "[78]\tvalid_0's binary_logloss: 0.166837\n",
            "[79]\tvalid_0's binary_logloss: 0.16651\n",
            "[80]\tvalid_0's binary_logloss: 0.166517\n",
            "[81]\tvalid_0's binary_logloss: 0.166489\n",
            "[82]\tvalid_0's binary_logloss: 0.166469\n",
            "[83]\tvalid_0's binary_logloss: 0.166467\n",
            "[84]\tvalid_0's binary_logloss: 0.166461\n",
            "[85]\tvalid_0's binary_logloss: 0.16663\n",
            "[86]\tvalid_0's binary_logloss: 0.166616\n",
            "[87]\tvalid_0's binary_logloss: 0.16663\n",
            "[88]\tvalid_0's binary_logloss: 0.166612\n",
            "[89]\tvalid_0's binary_logloss: 0.166457\n",
            "[90]\tvalid_0's binary_logloss: 0.166439\n",
            "[91]\tvalid_0's binary_logloss: 0.166425\n",
            "[92]\tvalid_0's binary_logloss: 0.166522\n",
            "[93]\tvalid_0's binary_logloss: 0.166713\n",
            "[94]\tvalid_0's binary_logloss: 0.166723\n",
            "[95]\tvalid_0's binary_logloss: 0.166718\n",
            "[96]\tvalid_0's binary_logloss: 0.166723\n",
            "[97]\tvalid_0's binary_logloss: 0.166704\n",
            "[98]\tvalid_0's binary_logloss: 0.166696\n",
            "[99]\tvalid_0's binary_logloss: 0.16669\n",
            "[100]\tvalid_0's binary_logloss: 0.166694\n"
          ]
        },
        {
          "output_type": "execute_result",
          "data": {
            "text/plain": [
              "[{'accuracy': 0.9133653556446566,\n",
              "  'recall': 0.34868084484396694,\n",
              "  'precision': 0.3547289466203066,\n",
              "  'f1': 0.35167889414988635,\n",
              "  'roc_auc': 0.6514247388049778}]"
            ]
          },
          "metadata": {},
          "execution_count": 13
        }
      ]
    },
    {
      "cell_type": "code",
      "source": [
        "res#lgbm Dt Logistic"
      ],
      "metadata": {
        "id": "xPQ68bP55cX7"
      },
      "execution_count": null,
      "outputs": []
    },
    {
      "cell_type": "markdown",
      "source": [
        "#!pip install automl"
      ],
      "metadata": {
        "id": "26Solabys2y3"
      }
    },
    {
      "cell_type": "code",
      "source": [
        "!pip install mljar-supervised"
      ],
      "metadata": {
        "id": "8Sd2phEyteQK"
      },
      "execution_count": null,
      "outputs": []
    },
    {
      "cell_type": "markdown",
      "source": [
        "#모델링2"
      ],
      "metadata": {
        "id": "lXQNpf9rs-R4"
      }
    },
    {
      "cell_type": "markdown",
      "source": [
        "validation_strategy={\n",
        "        \"validation_type\": \"kfold\",\n",
        "        \"k_folds\": 4,\n",
        "        \"shuffle\": False,\n",
        "        \"stratify\": True,\n",
        "    }"
      ],
      "metadata": {
        "id": "xqMezG1JSOqv"
      }
    },
    {
      "cell_type": "code",
      "source": [
        "from supervised.automl import AutoML\n",
        "automl = AutoML(results_path = '/gdrive/MyDrive/prediction2',algorithms=[\"LightGBM\",'Decision Tree'], stack_models=False,mode = 'Perform', eval_metric='f1', ml_task='binary_classification',n_jobs=-1)\n",
        "#automl.set_params(lgbm = {'histogram_pool_size' :16384})\n",
        "lgbm_bin_params = {\n",
        "    \"objective\": [\"binary\"],\n",
        "    \"metric\": [\"binary_logloss\"],\n",
        "    \"num_leaves\": [3, 7, 15, 31],  \n",
        "    \"learning_rate\": [0.05, 0.075, 0.1, 0.15,0.5],\n",
        "    \"feature_fraction\": [0.8, 0.9, 1.0],\n",
        "    \"bagging_fraction\": [0.8, 0.9, 1.0],\n",
        "    \"min_data_in_leaf\": [5, 10, 15, 20, 30, 50],\n",
        "    'histogram_pool_size' : [16384]\n",
        "}"
      ],
      "metadata": {
        "id": "sXnE8nB8tEXY"
      },
      "execution_count": null,
      "outputs": []
    },
    {
      "cell_type": "code",
      "source": [
        "dataset = pd.concat([final_train,final_test],axis = 0)\n",
        "target = pd.concat([train_target,test_target],axis = 0)"
      ],
      "metadata": {
        "id": "N-urf_y2jolK"
      },
      "execution_count": null,
      "outputs": []
    },
    {
      "cell_type": "code",
      "source": [
        "automl.fit(dataset,target)"
      ],
      "metadata": {
        "colab": {
          "base_uri": "https://localhost:8080/",
          "height": 765
        },
        "id": "z7Dr8oertUcm",
        "outputId": "14a9a47a-2276-416b-bbbe-0109aa3a3004"
      },
      "execution_count": null,
      "outputs": [
        {
          "output_type": "stream",
          "name": "stdout",
          "text": [
            "AutoML directory: /gdrive/MyDrive/prediction2\n",
            "The task is binary_classification with evaluation metric f1\n",
            "AutoML will use algorithms: ['LightGBM', 'Decision Tree']\n",
            "AutoML will ensemble available models\n",
            "AutoML steps: ['simple_algorithms', 'default_algorithms', 'not_so_random', 'golden_features', 'insert_random_feature', 'features_selection', 'hill_climbing_1', 'hill_climbing_2', 'ensemble']\n",
            "* Step simple_algorithms will try to check up to 3 models\n"
          ]
        },
        {
          "output_type": "stream",
          "name": "stderr",
          "text": [
            "WARNING:matplotlib.font_manager:findfont: Font family ['Arial'] not found. Falling back to DejaVu Sans.\n",
            "WARNING:matplotlib.font_manager:findfont: Font family ['Arial'] not found. Falling back to DejaVu Sans.\n",
            "WARNING:matplotlib.font_manager:findfont: Font family ['Arial'] not found. Falling back to DejaVu Sans.\n",
            "WARNING:matplotlib.font_manager:findfont: Font family ['Arial'] not found. Falling back to DejaVu Sans.\n"
          ]
        },
        {
          "output_type": "stream",
          "name": "stdout",
          "text": [
            "1_DecisionTree not trained. Force to stop the training. Total time for AutoML training already exceeded.\n",
            "There was an error during 2_DecisionTree training.\n",
            "Please check /gdrive/MyDrive/prediction2/errors.md for details.\n"
          ]
        },
        {
          "output_type": "stream",
          "name": "stderr",
          "text": [
            "ERROR:supervised.exceptions:No models produced. \n",
            "Please check your data or submit a Github issue at https://github.com/mljar/mljar-supervised/issues/new.\n"
          ]
        },
        {
          "output_type": "stream",
          "name": "stdout",
          "text": [
            "There was an error during 3_DecisionTree training.\n",
            "Please check /gdrive/MyDrive/prediction2/errors.md for details.\n",
            "Skip default_algorithms because of the time limit.\n",
            "Skip not_so_random because of the time limit.\n",
            "Skip golden_features because no parameters were generated.\n",
            "Skip insert_random_feature because no parameters were generated.\n",
            "Skip features_selection because no parameters were generated.\n"
          ]
        },
        {
          "output_type": "error",
          "ename": "AutoMLException",
          "evalue": "ignored",
          "traceback": [
            "\u001b[0;31m---------------------------------------------------------------------------\u001b[0m",
            "\u001b[0;31mAutoMLException\u001b[0m                           Traceback (most recent call last)",
            "\u001b[0;32m<ipython-input-29-2a242da8ef57>\u001b[0m in \u001b[0;36m<module>\u001b[0;34m\u001b[0m\n\u001b[0;32m----> 1\u001b[0;31m \u001b[0mautoml\u001b[0m\u001b[0;34m.\u001b[0m\u001b[0mfit\u001b[0m\u001b[0;34m(\u001b[0m\u001b[0mdataset\u001b[0m\u001b[0;34m,\u001b[0m\u001b[0mtarget\u001b[0m\u001b[0;34m)\u001b[0m\u001b[0;34m\u001b[0m\u001b[0;34m\u001b[0m\u001b[0m\n\u001b[0m",
            "\u001b[0;32m/usr/local/lib/python3.8/dist-packages/supervised/automl.py\u001b[0m in \u001b[0;36mfit\u001b[0;34m(self, X, y, sample_weight, cv)\u001b[0m\n\u001b[1;32m    366\u001b[0m             \u001b[0mAutoML\u001b[0m \u001b[0mobject\u001b[0m\u001b[0;34m:\u001b[0m \u001b[0mReturns\u001b[0m\u001b[0;31m \u001b[0m\u001b[0;31m`\u001b[0m\u001b[0mself\u001b[0m\u001b[0;31m`\u001b[0m\u001b[0;34m\u001b[0m\u001b[0;34m\u001b[0m\u001b[0m\n\u001b[1;32m    367\u001b[0m         \"\"\"\n\u001b[0;32m--> 368\u001b[0;31m         \u001b[0;32mreturn\u001b[0m \u001b[0mself\u001b[0m\u001b[0;34m.\u001b[0m\u001b[0m_fit\u001b[0m\u001b[0;34m(\u001b[0m\u001b[0mX\u001b[0m\u001b[0;34m,\u001b[0m \u001b[0my\u001b[0m\u001b[0;34m,\u001b[0m \u001b[0msample_weight\u001b[0m\u001b[0;34m,\u001b[0m \u001b[0mcv\u001b[0m\u001b[0;34m)\u001b[0m\u001b[0;34m\u001b[0m\u001b[0;34m\u001b[0m\u001b[0m\n\u001b[0m\u001b[1;32m    369\u001b[0m \u001b[0;34m\u001b[0m\u001b[0m\n\u001b[1;32m    370\u001b[0m     \u001b[0;32mdef\u001b[0m \u001b[0mpredict\u001b[0m\u001b[0;34m(\u001b[0m\u001b[0mself\u001b[0m\u001b[0;34m,\u001b[0m \u001b[0mX\u001b[0m\u001b[0;34m:\u001b[0m \u001b[0mUnion\u001b[0m\u001b[0;34m[\u001b[0m\u001b[0mList\u001b[0m\u001b[0;34m,\u001b[0m \u001b[0mnumpy\u001b[0m\u001b[0;34m.\u001b[0m\u001b[0mndarray\u001b[0m\u001b[0;34m,\u001b[0m \u001b[0mpandas\u001b[0m\u001b[0;34m.\u001b[0m\u001b[0mDataFrame\u001b[0m\u001b[0;34m]\u001b[0m\u001b[0;34m)\u001b[0m \u001b[0;34m->\u001b[0m \u001b[0mnumpy\u001b[0m\u001b[0;34m.\u001b[0m\u001b[0mndarray\u001b[0m\u001b[0;34m:\u001b[0m\u001b[0;34m\u001b[0m\u001b[0;34m\u001b[0m\u001b[0m\n",
            "\u001b[0;32m/usr/local/lib/python3.8/dist-packages/supervised/base_automl.py\u001b[0m in \u001b[0;36m_fit\u001b[0;34m(self, X, y, sample_weight, cv)\u001b[0m\n\u001b[1;32m   1132\u001b[0m \u001b[0;34m\u001b[0m\u001b[0m\n\u001b[1;32m   1133\u001b[0m         \u001b[0;32mexcept\u001b[0m \u001b[0mException\u001b[0m \u001b[0;32mas\u001b[0m \u001b[0me\u001b[0m\u001b[0;34m:\u001b[0m\u001b[0;34m\u001b[0m\u001b[0;34m\u001b[0m\u001b[0m\n\u001b[0;32m-> 1134\u001b[0;31m             \u001b[0;32mraise\u001b[0m \u001b[0me\u001b[0m\u001b[0;34m\u001b[0m\u001b[0;34m\u001b[0m\u001b[0m\n\u001b[0m\u001b[1;32m   1135\u001b[0m \u001b[0;34m\u001b[0m\u001b[0m\n\u001b[1;32m   1136\u001b[0m         \u001b[0;32mreturn\u001b[0m \u001b[0mself\u001b[0m\u001b[0;34m\u001b[0m\u001b[0;34m\u001b[0m\u001b[0m\n",
            "\u001b[0;32m/usr/local/lib/python3.8/dist-packages/supervised/base_automl.py\u001b[0m in \u001b[0;36m_fit\u001b[0;34m(self, X, y, sample_weight, cv)\u001b[0m\n\u001b[1;32m   1049\u001b[0m                 \u001b[0;32mif\u001b[0m \u001b[0;34m\"hill_climbing\"\u001b[0m \u001b[0;32min\u001b[0m \u001b[0mstep\u001b[0m \u001b[0;32mor\u001b[0m \u001b[0mstep\u001b[0m \u001b[0;32min\u001b[0m \u001b[0;34m[\u001b[0m\u001b[0;34m\"ensemble\"\u001b[0m\u001b[0;34m,\u001b[0m \u001b[0;34m\"stack\"\u001b[0m\u001b[0;34m]\u001b[0m\u001b[0;34m:\u001b[0m\u001b[0;34m\u001b[0m\u001b[0;34m\u001b[0m\u001b[0m\n\u001b[1;32m   1050\u001b[0m                     \u001b[0;32mif\u001b[0m \u001b[0mlen\u001b[0m\u001b[0;34m(\u001b[0m\u001b[0mself\u001b[0m\u001b[0;34m.\u001b[0m\u001b[0m_models\u001b[0m\u001b[0;34m)\u001b[0m \u001b[0;34m==\u001b[0m \u001b[0;36m0\u001b[0m\u001b[0;34m:\u001b[0m\u001b[0;34m\u001b[0m\u001b[0;34m\u001b[0m\u001b[0m\n\u001b[0;32m-> 1051\u001b[0;31m                         raise AutoMLException(\n\u001b[0m\u001b[1;32m   1052\u001b[0m                             \u001b[0;34m\"No models produced. \\nPlease check your data or\"\u001b[0m\u001b[0;34m\u001b[0m\u001b[0;34m\u001b[0m\u001b[0m\n\u001b[1;32m   1053\u001b[0m                             \u001b[0;34m\" submit a Github issue at https://github.com/mljar/mljar-supervised/issues/new.\"\u001b[0m\u001b[0;34m\u001b[0m\u001b[0;34m\u001b[0m\u001b[0m\n",
            "\u001b[0;31mAutoMLException\u001b[0m: No models produced. \nPlease check your data or submit a Github issue at https://github.com/mljar/mljar-supervised/issues/new."
          ]
        }
      ]
    },
    {
      "cell_type": "markdown",
      "source": [
        "#기대효과"
      ],
      "metadata": {
        "id": "o_yWP2vNKuZi"
      }
    },
    {
      "cell_type": "code",
      "source": [
        "cust = pd.read_csv('/gdrive/MyDrive/프로젝트2/train_test/고객군집f.csv')"
      ],
      "metadata": {
        "id": "rVbe37ZEKvZD"
      },
      "execution_count": null,
      "outputs": []
    },
    {
      "cell_type": "code",
      "source": [
        "cust.drop('cluster2',axis = 1,inplace = True)"
      ],
      "metadata": {
        "id": "QER_vJaMkSWi"
      },
      "execution_count": null,
      "outputs": []
    },
    {
      "cell_type": "code",
      "source": [
        "cust2=cust.iloc[:,:-1]"
      ],
      "metadata": {
        "id": "r6L9HPSULsyz"
      },
      "execution_count": null,
      "outputs": []
    },
    {
      "cell_type": "code",
      "source": [
        "cust2[]"
      ],
      "metadata": {
        "colab": {
          "base_uri": "https://localhost:8080/",
          "height": 485
        },
        "id": "7TNnRf74Nqyz",
        "outputId": "6deb23da-03e8-47c8-89da-d9f08491581b"
      },
      "execution_count": null,
      "outputs": [
        {
          "output_type": "execute_result",
          "data": {
            "text/plain": [
              "        고객번호  성별  연령대   거주지역  구매상품수  첫-마지막      구매간격  구매건수  구매항목수  구매_평균항목수  \\\n",
              "0          1   1    0   60.0   1057    721  3.121212   681    255  1.552129   \n",
              "1          2   1    0  100.0   1116    726  2.547368   676    140  1.650888   \n",
              "2          3   1    0   33.0   1191    724  1.832911   490    161  2.430612   \n",
              "3          4   2    0   16.0    930    727  2.806950   533    254  1.744841   \n",
              "4          5   1    0  100.0    719    725  3.072034   426     80  1.687793   \n",
              "...      ...  ..  ...    ...    ...    ...       ...   ...    ...       ...   \n",
              "19378  19379   2    8   69.0    584    461  2.114679   366    133  1.595628   \n",
              "19379  19380   2    8   39.0    440    385  2.655172   232    107  1.896552   \n",
              "19380  19381   2    4  460.0    805    363  1.824121   402    281  2.002488   \n",
              "19381  19382   2    3  460.0    906    344  1.694581   435    307  2.082759   \n",
              "19382  19383   2    7  500.0    260    201  2.284091   132     87  1.969697   \n",
              "\n",
              "           재구매율  영수증평균개수        구매금액평균  rfm     총구매금액  총영수증개수  최다구매물품  cluster  \n",
              "0      0.082308   85.125  1.063032e+07  111  85042550     681    2842        2  \n",
              "1      0.106631   84.500  1.248510e+07  111  99880760     676    2349        2  \n",
              "2      0.280437   61.250  3.956459e+05  100   3165167     490    2500        2  \n",
              "3      0.027957   66.625  2.086726e+06  100  16693810     533    2842        2  \n",
              "4      0.123783   53.250  1.654634e+06  100  13237070     426    2411        2  \n",
              "...         ...      ...           ...  ...       ...     ...     ...      ...  \n",
              "19378  0.095890   45.750  7.224100e+05  100   5779280     366    3196        2  \n",
              "19379  0.050000   29.000  4.891221e+05  100   3912977     232    3046        2  \n",
              "19380  0.029814   50.250  7.550836e+05  100   6040669     402     929        1  \n",
              "19381  0.034216   54.375  5.502216e+05  100   4401773     435    1429        1  \n",
              "19382  0.073077   16.500  2.980500e+05  100   2384400     132    3086        2  \n",
              "\n",
              "[19383 rows x 18 columns]"
            ],
            "text/html": [
              "\n",
              "  <div id=\"df-225007b5-4fba-4534-9cf2-53092654f803\">\n",
              "    <div class=\"colab-df-container\">\n",
              "      <div>\n",
              "<style scoped>\n",
              "    .dataframe tbody tr th:only-of-type {\n",
              "        vertical-align: middle;\n",
              "    }\n",
              "\n",
              "    .dataframe tbody tr th {\n",
              "        vertical-align: top;\n",
              "    }\n",
              "\n",
              "    .dataframe thead th {\n",
              "        text-align: right;\n",
              "    }\n",
              "</style>\n",
              "<table border=\"1\" class=\"dataframe\">\n",
              "  <thead>\n",
              "    <tr style=\"text-align: right;\">\n",
              "      <th></th>\n",
              "      <th>고객번호</th>\n",
              "      <th>성별</th>\n",
              "      <th>연령대</th>\n",
              "      <th>거주지역</th>\n",
              "      <th>구매상품수</th>\n",
              "      <th>첫-마지막</th>\n",
              "      <th>구매간격</th>\n",
              "      <th>구매건수</th>\n",
              "      <th>구매항목수</th>\n",
              "      <th>구매_평균항목수</th>\n",
              "      <th>재구매율</th>\n",
              "      <th>영수증평균개수</th>\n",
              "      <th>구매금액평균</th>\n",
              "      <th>rfm</th>\n",
              "      <th>총구매금액</th>\n",
              "      <th>총영수증개수</th>\n",
              "      <th>최다구매물품</th>\n",
              "      <th>cluster</th>\n",
              "    </tr>\n",
              "  </thead>\n",
              "  <tbody>\n",
              "    <tr>\n",
              "      <th>0</th>\n",
              "      <td>1</td>\n",
              "      <td>1</td>\n",
              "      <td>0</td>\n",
              "      <td>60.0</td>\n",
              "      <td>1057</td>\n",
              "      <td>721</td>\n",
              "      <td>3.121212</td>\n",
              "      <td>681</td>\n",
              "      <td>255</td>\n",
              "      <td>1.552129</td>\n",
              "      <td>0.082308</td>\n",
              "      <td>85.125</td>\n",
              "      <td>1.063032e+07</td>\n",
              "      <td>111</td>\n",
              "      <td>85042550</td>\n",
              "      <td>681</td>\n",
              "      <td>2842</td>\n",
              "      <td>2</td>\n",
              "    </tr>\n",
              "    <tr>\n",
              "      <th>1</th>\n",
              "      <td>2</td>\n",
              "      <td>1</td>\n",
              "      <td>0</td>\n",
              "      <td>100.0</td>\n",
              "      <td>1116</td>\n",
              "      <td>726</td>\n",
              "      <td>2.547368</td>\n",
              "      <td>676</td>\n",
              "      <td>140</td>\n",
              "      <td>1.650888</td>\n",
              "      <td>0.106631</td>\n",
              "      <td>84.500</td>\n",
              "      <td>1.248510e+07</td>\n",
              "      <td>111</td>\n",
              "      <td>99880760</td>\n",
              "      <td>676</td>\n",
              "      <td>2349</td>\n",
              "      <td>2</td>\n",
              "    </tr>\n",
              "    <tr>\n",
              "      <th>2</th>\n",
              "      <td>3</td>\n",
              "      <td>1</td>\n",
              "      <td>0</td>\n",
              "      <td>33.0</td>\n",
              "      <td>1191</td>\n",
              "      <td>724</td>\n",
              "      <td>1.832911</td>\n",
              "      <td>490</td>\n",
              "      <td>161</td>\n",
              "      <td>2.430612</td>\n",
              "      <td>0.280437</td>\n",
              "      <td>61.250</td>\n",
              "      <td>3.956459e+05</td>\n",
              "      <td>100</td>\n",
              "      <td>3165167</td>\n",
              "      <td>490</td>\n",
              "      <td>2500</td>\n",
              "      <td>2</td>\n",
              "    </tr>\n",
              "    <tr>\n",
              "      <th>3</th>\n",
              "      <td>4</td>\n",
              "      <td>2</td>\n",
              "      <td>0</td>\n",
              "      <td>16.0</td>\n",
              "      <td>930</td>\n",
              "      <td>727</td>\n",
              "      <td>2.806950</td>\n",
              "      <td>533</td>\n",
              "      <td>254</td>\n",
              "      <td>1.744841</td>\n",
              "      <td>0.027957</td>\n",
              "      <td>66.625</td>\n",
              "      <td>2.086726e+06</td>\n",
              "      <td>100</td>\n",
              "      <td>16693810</td>\n",
              "      <td>533</td>\n",
              "      <td>2842</td>\n",
              "      <td>2</td>\n",
              "    </tr>\n",
              "    <tr>\n",
              "      <th>4</th>\n",
              "      <td>5</td>\n",
              "      <td>1</td>\n",
              "      <td>0</td>\n",
              "      <td>100.0</td>\n",
              "      <td>719</td>\n",
              "      <td>725</td>\n",
              "      <td>3.072034</td>\n",
              "      <td>426</td>\n",
              "      <td>80</td>\n",
              "      <td>1.687793</td>\n",
              "      <td>0.123783</td>\n",
              "      <td>53.250</td>\n",
              "      <td>1.654634e+06</td>\n",
              "      <td>100</td>\n",
              "      <td>13237070</td>\n",
              "      <td>426</td>\n",
              "      <td>2411</td>\n",
              "      <td>2</td>\n",
              "    </tr>\n",
              "    <tr>\n",
              "      <th>...</th>\n",
              "      <td>...</td>\n",
              "      <td>...</td>\n",
              "      <td>...</td>\n",
              "      <td>...</td>\n",
              "      <td>...</td>\n",
              "      <td>...</td>\n",
              "      <td>...</td>\n",
              "      <td>...</td>\n",
              "      <td>...</td>\n",
              "      <td>...</td>\n",
              "      <td>...</td>\n",
              "      <td>...</td>\n",
              "      <td>...</td>\n",
              "      <td>...</td>\n",
              "      <td>...</td>\n",
              "      <td>...</td>\n",
              "      <td>...</td>\n",
              "      <td>...</td>\n",
              "    </tr>\n",
              "    <tr>\n",
              "      <th>19378</th>\n",
              "      <td>19379</td>\n",
              "      <td>2</td>\n",
              "      <td>8</td>\n",
              "      <td>69.0</td>\n",
              "      <td>584</td>\n",
              "      <td>461</td>\n",
              "      <td>2.114679</td>\n",
              "      <td>366</td>\n",
              "      <td>133</td>\n",
              "      <td>1.595628</td>\n",
              "      <td>0.095890</td>\n",
              "      <td>45.750</td>\n",
              "      <td>7.224100e+05</td>\n",
              "      <td>100</td>\n",
              "      <td>5779280</td>\n",
              "      <td>366</td>\n",
              "      <td>3196</td>\n",
              "      <td>2</td>\n",
              "    </tr>\n",
              "    <tr>\n",
              "      <th>19379</th>\n",
              "      <td>19380</td>\n",
              "      <td>2</td>\n",
              "      <td>8</td>\n",
              "      <td>39.0</td>\n",
              "      <td>440</td>\n",
              "      <td>385</td>\n",
              "      <td>2.655172</td>\n",
              "      <td>232</td>\n",
              "      <td>107</td>\n",
              "      <td>1.896552</td>\n",
              "      <td>0.050000</td>\n",
              "      <td>29.000</td>\n",
              "      <td>4.891221e+05</td>\n",
              "      <td>100</td>\n",
              "      <td>3912977</td>\n",
              "      <td>232</td>\n",
              "      <td>3046</td>\n",
              "      <td>2</td>\n",
              "    </tr>\n",
              "    <tr>\n",
              "      <th>19380</th>\n",
              "      <td>19381</td>\n",
              "      <td>2</td>\n",
              "      <td>4</td>\n",
              "      <td>460.0</td>\n",
              "      <td>805</td>\n",
              "      <td>363</td>\n",
              "      <td>1.824121</td>\n",
              "      <td>402</td>\n",
              "      <td>281</td>\n",
              "      <td>2.002488</td>\n",
              "      <td>0.029814</td>\n",
              "      <td>50.250</td>\n",
              "      <td>7.550836e+05</td>\n",
              "      <td>100</td>\n",
              "      <td>6040669</td>\n",
              "      <td>402</td>\n",
              "      <td>929</td>\n",
              "      <td>1</td>\n",
              "    </tr>\n",
              "    <tr>\n",
              "      <th>19381</th>\n",
              "      <td>19382</td>\n",
              "      <td>2</td>\n",
              "      <td>3</td>\n",
              "      <td>460.0</td>\n",
              "      <td>906</td>\n",
              "      <td>344</td>\n",
              "      <td>1.694581</td>\n",
              "      <td>435</td>\n",
              "      <td>307</td>\n",
              "      <td>2.082759</td>\n",
              "      <td>0.034216</td>\n",
              "      <td>54.375</td>\n",
              "      <td>5.502216e+05</td>\n",
              "      <td>100</td>\n",
              "      <td>4401773</td>\n",
              "      <td>435</td>\n",
              "      <td>1429</td>\n",
              "      <td>1</td>\n",
              "    </tr>\n",
              "    <tr>\n",
              "      <th>19382</th>\n",
              "      <td>19383</td>\n",
              "      <td>2</td>\n",
              "      <td>7</td>\n",
              "      <td>500.0</td>\n",
              "      <td>260</td>\n",
              "      <td>201</td>\n",
              "      <td>2.284091</td>\n",
              "      <td>132</td>\n",
              "      <td>87</td>\n",
              "      <td>1.969697</td>\n",
              "      <td>0.073077</td>\n",
              "      <td>16.500</td>\n",
              "      <td>2.980500e+05</td>\n",
              "      <td>100</td>\n",
              "      <td>2384400</td>\n",
              "      <td>132</td>\n",
              "      <td>3086</td>\n",
              "      <td>2</td>\n",
              "    </tr>\n",
              "  </tbody>\n",
              "</table>\n",
              "<p>19383 rows × 18 columns</p>\n",
              "</div>\n",
              "      <button class=\"colab-df-convert\" onclick=\"convertToInteractive('df-225007b5-4fba-4534-9cf2-53092654f803')\"\n",
              "              title=\"Convert this dataframe to an interactive table.\"\n",
              "              style=\"display:none;\">\n",
              "        \n",
              "  <svg xmlns=\"http://www.w3.org/2000/svg\" height=\"24px\"viewBox=\"0 0 24 24\"\n",
              "       width=\"24px\">\n",
              "    <path d=\"M0 0h24v24H0V0z\" fill=\"none\"/>\n",
              "    <path d=\"M18.56 5.44l.94 2.06.94-2.06 2.06-.94-2.06-.94-.94-2.06-.94 2.06-2.06.94zm-11 1L8.5 8.5l.94-2.06 2.06-.94-2.06-.94L8.5 2.5l-.94 2.06-2.06.94zm10 10l.94 2.06.94-2.06 2.06-.94-2.06-.94-.94-2.06-.94 2.06-2.06.94z\"/><path d=\"M17.41 7.96l-1.37-1.37c-.4-.4-.92-.59-1.43-.59-.52 0-1.04.2-1.43.59L10.3 9.45l-7.72 7.72c-.78.78-.78 2.05 0 2.83L4 21.41c.39.39.9.59 1.41.59.51 0 1.02-.2 1.41-.59l7.78-7.78 2.81-2.81c.8-.78.8-2.07 0-2.86zM5.41 20L4 18.59l7.72-7.72 1.47 1.35L5.41 20z\"/>\n",
              "  </svg>\n",
              "      </button>\n",
              "      \n",
              "  <style>\n",
              "    .colab-df-container {\n",
              "      display:flex;\n",
              "      flex-wrap:wrap;\n",
              "      gap: 12px;\n",
              "    }\n",
              "\n",
              "    .colab-df-convert {\n",
              "      background-color: #E8F0FE;\n",
              "      border: none;\n",
              "      border-radius: 50%;\n",
              "      cursor: pointer;\n",
              "      display: none;\n",
              "      fill: #1967D2;\n",
              "      height: 32px;\n",
              "      padding: 0 0 0 0;\n",
              "      width: 32px;\n",
              "    }\n",
              "\n",
              "    .colab-df-convert:hover {\n",
              "      background-color: #E2EBFA;\n",
              "      box-shadow: 0px 1px 2px rgba(60, 64, 67, 0.3), 0px 1px 3px 1px rgba(60, 64, 67, 0.15);\n",
              "      fill: #174EA6;\n",
              "    }\n",
              "\n",
              "    [theme=dark] .colab-df-convert {\n",
              "      background-color: #3B4455;\n",
              "      fill: #D2E3FC;\n",
              "    }\n",
              "\n",
              "    [theme=dark] .colab-df-convert:hover {\n",
              "      background-color: #434B5C;\n",
              "      box-shadow: 0px 1px 3px 1px rgba(0, 0, 0, 0.15);\n",
              "      filter: drop-shadow(0px 1px 2px rgba(0, 0, 0, 0.3));\n",
              "      fill: #FFFFFF;\n",
              "    }\n",
              "  </style>\n",
              "\n",
              "      <script>\n",
              "        const buttonEl =\n",
              "          document.querySelector('#df-225007b5-4fba-4534-9cf2-53092654f803 button.colab-df-convert');\n",
              "        buttonEl.style.display =\n",
              "          google.colab.kernel.accessAllowed ? 'block' : 'none';\n",
              "\n",
              "        async function convertToInteractive(key) {\n",
              "          const element = document.querySelector('#df-225007b5-4fba-4534-9cf2-53092654f803');\n",
              "          const dataTable =\n",
              "            await google.colab.kernel.invokeFunction('convertToInteractive',\n",
              "                                                     [key], {});\n",
              "          if (!dataTable) return;\n",
              "\n",
              "          const docLinkHtml = 'Like what you see? Visit the ' +\n",
              "            '<a target=\"_blank\" href=https://colab.research.google.com/notebooks/data_table.ipynb>data table notebook</a>'\n",
              "            + ' to learn more about interactive tables.';\n",
              "          element.innerHTML = '';\n",
              "          dataTable['output_type'] = 'display_data';\n",
              "          await google.colab.output.renderOutput(dataTable, element);\n",
              "          const docLink = document.createElement('div');\n",
              "          docLink.innerHTML = docLinkHtml;\n",
              "          element.appendChild(docLink);\n",
              "        }\n",
              "      </script>\n",
              "    </div>\n",
              "  </div>\n",
              "  "
            ]
          },
          "metadata": {},
          "execution_count": 89
        }
      ]
    },
    {
      "cell_type": "code",
      "source": [
        "y_train=cust2['총구매금액']\n",
        "x_train = cust2.drop('총구매금액',axis = 1)"
      ],
      "metadata": {
        "id": "rNySjE3RL8Qa"
      },
      "execution_count": null,
      "outputs": []
    },
    {
      "cell_type": "code",
      "source": [
        "x_test=x_train.copy()"
      ],
      "metadata": {
        "id": "PqhqLQUiMiX3"
      },
      "execution_count": null,
      "outputs": []
    },
    {
      "cell_type": "code",
      "source": [
        "x_train['재구매율'].max()"
      ],
      "metadata": {
        "colab": {
          "base_uri": "https://localhost:8080/"
        },
        "id": "2YbMMj2lPUY6",
        "outputId": "3f536386-c09a-4cf7-fcaf-8a62d54d6b98"
      },
      "execution_count": null,
      "outputs": [
        {
          "output_type": "execute_result",
          "data": {
            "text/plain": [
              "0.5"
            ]
          },
          "metadata": {},
          "execution_count": 61
        }
      ]
    },
    {
      "cell_type": "code",
      "source": [
        "np.arange(1.1,2.0,0.1)"
      ],
      "metadata": {
        "colab": {
          "base_uri": "https://localhost:8080/"
        },
        "id": "jhPq4G6qO1Yz",
        "outputId": "10cdd7fa-39c6-4e13-a930-9fef7ab0b9fe"
      },
      "execution_count": null,
      "outputs": [
        {
          "output_type": "execute_result",
          "data": {
            "text/plain": [
              "array([1.1, 1.2, 1.3, 1.4, 1.5, 1.6, 1.7, 1.8, 1.9])"
            ]
          },
          "metadata": {},
          "execution_count": 62
        }
      ]
    },
    {
      "cell_type": "code",
      "source": [
        "from lightgbm import LGBMRegressor\n",
        "\n",
        "models = LGBMRegressor()\n",
        "model.fit(x_train,y_train)\n",
        "res  =  []\n",
        "for i in np.arange(0.1,,0.1):\n",
        "  x_test['재구매율']=x_train['재구매율'] +i\n",
        "  preds=model.predict(x_test)\n",
        "  res.append((preds.sum()-y_train.sum()))\n"
      ],
      "metadata": {
        "id": "6eJHl2hTMeGm"
      },
      "execution_count": null,
      "outputs": []
    },
    {
      "cell_type": "code",
      "source": [
        "cust2.corr()['재구매율']"
      ],
      "metadata": {
        "colab": {
          "base_uri": "https://localhost:8080/"
        },
        "id": "IC-tAuZmPDfA",
        "outputId": "13274960-81e7-4d7e-953b-ebe70700e55d"
      },
      "execution_count": null,
      "outputs": [
        {
          "output_type": "execute_result",
          "data": {
            "text/plain": [
              "고객번호        0.017007\n",
              "성별         -0.089148\n",
              "연령대         0.029680\n",
              "거주지역       -0.023597\n",
              "구매상품수      -0.221190\n",
              "첫-마지막      -0.085984\n",
              "구매간격        0.044030\n",
              "구매건수       -0.051195\n",
              "구매항목수      -0.485025\n",
              "구매_평균항목수   -0.224747\n",
              "재구매율        1.000000\n",
              "영수증평균개수    -0.051195\n",
              "구매금액평균      0.255237\n",
              "rfm        -0.014626\n",
              "총구매금액       0.255237\n",
              "총영수증개수     -0.051195\n",
              "최다구매물품     -0.033803\n",
              "Name: 재구매율, dtype: float64"
            ]
          },
          "metadata": {},
          "execution_count": 84
        }
      ]
    },
    {
      "cell_type": "code",
      "source": [],
      "metadata": {
        "colab": {
          "base_uri": "https://localhost:8080/"
        },
        "id": "xVjrJ4NIOTzR",
        "outputId": "6300deca-b4ab-4fa2-85d0-69b737bcaf9f"
      },
      "execution_count": null,
      "outputs": [
        {
          "output_type": "execute_result",
          "data": {
            "text/plain": [
              "84741724678.45528"
            ]
          },
          "metadata": {},
          "execution_count": 44
        }
      ]
    },
    {
      "cell_type": "code",
      "source": [],
      "metadata": {
        "colab": {
          "base_uri": "https://localhost:8080/"
        },
        "id": "XHIqNV7NOXv-",
        "outputId": "2522d31d-2c24-4a00-a302-f8829c07d60c"
      },
      "execution_count": null,
      "outputs": [
        {
          "output_type": "execute_result",
          "data": {
            "text/plain": [
              "114330060.83027649"
            ]
          },
          "metadata": {},
          "execution_count": 47
        }
      ]
    }
  ],
  "metadata": {
    "colab": {
      "collapsed_sections": [
        "E6sgBjTzUNB-",
        "669-30COULIF",
        "GCljJasAUIfV",
        "Q3YtkveZ3fWT",
        "cBY9KU9ltygB",
        "hdWH-U7ct4bv",
        "-qHGene7T8mJ"
      ],
      "machine_shape": "hm",
      "provenance": []
    },
    "gpuClass": "standard",
    "kernelspec": {
      "display_name": "Python 3",
      "name": "python3"
    },
    "language_info": {
      "name": "python"
    }
  },
  "nbformat": 4,
  "nbformat_minor": 0
}