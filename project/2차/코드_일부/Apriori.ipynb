{
  "nbformat": 4,
  "nbformat_minor": 0,
  "metadata": {
    "colab": {
      "provenance": []
    },
    "kernelspec": {
      "name": "python3",
      "display_name": "Python 3"
    },
    "language_info": {
      "name": "python"
    }
  },
  "cells": [
    {
      "cell_type": "markdown",
      "source": [
        "## 연관분석(지지도)\n",
        "Apriori algorithm\n"
      ],
      "metadata": {
        "id": "zelcDEl_NtuQ"
      }
    },
    {
      "cell_type": "code",
      "execution_count": null,
      "metadata": {
        "id": "P4Ai3Q_tNokY"
      },
      "outputs": [],
      "source": [
        "import pandas as pd\n",
        "\n",
        "tmp = pd.read_csv('/content/drive/MyDrive/project/csv/prd.csv')\n",
        "tmp"
      ]
    },
    {
      "cell_type": "markdown",
      "source": [
        "<img src=\"https://user-images.githubusercontent.com/51469989/212610474-fe37fb78-4f14-42f6-88e2-73efca95c6f8.png\">"
      ],
      "metadata": {
        "id": "xWFzC0XYN9cY"
      }
    },
    {
      "cell_type": "code",
      "source": [
        "tmp_구매일자 = tmp[tmp['구매일자'] < '2015-09-31']\n",
        "tmp_AA = tmp_구매일자.value_counts('소분류명', dropna=False).to_frame().reset_index()\n",
        "tmp_AA = tmp_AA[tmp_AA[0] == 1]['소분류명']\n",
        "tmp_AA"
      ],
      "metadata": {
        "id": "z3iCs1nXNxmf"
      },
      "execution_count": null,
      "outputs": []
    },
    {
      "cell_type": "markdown",
      "source": [
        "![image](https://user-images.githubusercontent.com/51469989/212610646-1bdda1de-f2e0-4ef8-984d-798fb3356a2c.png)"
      ],
      "metadata": {
        "id": "ndlSX71EOJm4"
      }
    },
    {
      "cell_type": "code",
      "source": [
        "li = list(tmp_AA)\n",
        "li"
      ],
      "metadata": {
        "id": "D2Set_aPOJ3H"
      },
      "execution_count": null,
      "outputs": []
    },
    {
      "cell_type": "markdown",
      "source": [
        "![image](https://user-images.githubusercontent.com/51469989/212610750-a9d8e317-8384-4c18-80f5-d418b088e85f.png)"
      ],
      "metadata": {
        "id": "EunAKEnuOUJH"
      }
    },
    {
      "cell_type": "code",
      "source": [
        "for i in li :\n",
        "  idx = tmp_구매일자[tmp_구매일자['소분류명'] == i].index\n",
        "  tmp_구매일자.drop(idx, inplace=True)\n",
        "  print('.')"
      ],
      "metadata": {
        "id": "3iJJ3l1SOaZO"
      },
      "execution_count": null,
      "outputs": []
    },
    {
      "cell_type": "code",
      "source": [
        "tmp_구매일자"
      ],
      "metadata": {
        "id": "vXo4j0XsOdm_"
      },
      "execution_count": null,
      "outputs": []
    },
    {
      "cell_type": "markdown",
      "source": [
        "![image](https://user-images.githubusercontent.com/51469989/212610832-9c6ecdf4-1bdc-47df-92fa-902eef1466ae.png)"
      ],
      "metadata": {
        "id": "t0DQpuQoOeHX"
      }
    },
    {
      "cell_type": "code",
      "source": [
        "tmp_df = tmp_구매일자[['고객번호', '소분류명']]\n",
        "tmp_df"
      ],
      "metadata": {
        "id": "8oksFRNFOiKg"
      },
      "execution_count": null,
      "outputs": []
    },
    {
      "cell_type": "markdown",
      "source": [
        "![image](https://user-images.githubusercontent.com/51469989/212610887-8695f9a9-a744-4ed3-ad7e-648b279082e0.png)"
      ],
      "metadata": {
        "id": "rwppk1bgOnWX"
      }
    },
    {
      "cell_type": "code",
      "source": [
        "# 고객별 구매한 소분류 상품 체크\n",
        "tmp_cross = pd.crosstab(tmp_df['고객번호'], tmp_df['소분류명']).astype(bool).astype(int)\n",
        "tmp_cross"
      ],
      "metadata": {
        "id": "IwAnGHbvOoP_"
      },
      "execution_count": null,
      "outputs": []
    },
    {
      "cell_type": "markdown",
      "source": [
        "![image](https://user-images.githubusercontent.com/51469989/212610947-36ae748d-3491-4c6e-a3a4-49b01e6f6fcd.png)"
      ],
      "metadata": {
        "id": "22c57rKwOs-P"
      }
    },
    {
      "cell_type": "code",
      "source": [
        "tmp_cross_df = tmp_cross.reset_index(drop=True)\n",
        "tmp_cross_df.index\n",
        "# RangeIndex(start=0, stop=19380, step=1)"
      ],
      "metadata": {
        "id": "Mk4AxGKdOuNf"
      },
      "execution_count": null,
      "outputs": []
    },
    {
      "cell_type": "code",
      "source": [
        "tmp_cross_df[:5]"
      ],
      "metadata": {
        "id": "SYaZJS15OwNX"
      },
      "execution_count": null,
      "outputs": []
    },
    {
      "cell_type": "markdown",
      "source": [
        "![image](https://user-images.githubusercontent.com/51469989/212611009-c8ea9315-e9ab-4d9e-9524-127a2d731d91.png)"
      ],
      "metadata": {
        "id": "Zzcf3jhvO0hP"
      }
    },
    {
      "cell_type": "code",
      "source": [
        "from mlxtend.frequent_patterns import apriori\n",
        "\n",
        "tmp_cross_apriori = apriori(tmp_cross_df, min_support=0.05, use_colnames=True).sort_values('support', ascending=False)\n",
        "tmp_cross_apriori.to_csv('/content/drive/MyDrive/project/csv/cross_apriori.csv')"
      ],
      "metadata": {
        "id": "0KRUsqLgO02v"
      },
      "execution_count": null,
      "outputs": []
    },
    {
      "cell_type": "code",
      "source": [
        "tmp_1 = tmp.groupby('고객번호').get_group(1).reset_index(drop=True)\n",
        "tmp_1 = tmp_1[tmp_1['구매일자'] < '2015-09-31']\n",
        "tmp_1"
      ],
      "metadata": {
        "id": "SWTzPV0KO2dX"
      },
      "execution_count": null,
      "outputs": []
    },
    {
      "cell_type": "markdown",
      "source": [
        "![image](https://user-images.githubusercontent.com/51469989/212611063-4962501a-b7a6-4ee0-a7d3-459fdaa15ae2.png)"
      ],
      "metadata": {
        "id": "Sb8VSU1YO4F_"
      }
    },
    {
      "cell_type": "code",
      "source": [
        "tmp_1 = tmp_1[['영수증번호', '소분류명']]\n",
        "tmp_1"
      ],
      "metadata": {
        "id": "ExA8qFQNO8aI"
      },
      "execution_count": null,
      "outputs": []
    },
    {
      "cell_type": "markdown",
      "source": [
        "![image](https://user-images.githubusercontent.com/51469989/212611101-5ed9c265-5b34-4595-911c-78d00be24935.png)"
      ],
      "metadata": {
        "id": "WyU7xlVTPA9v"
      }
    },
    {
      "cell_type": "code",
      "source": [
        "# 고객별 구매한 소분류 상품 체크\n",
        "tmp_cross_1 = pd.crosstab(tmp_1['영수증번호'], tmp_1['소분류명']).astype(bool).astype(int)\n",
        "tmp_cross_1"
      ],
      "metadata": {
        "id": "6xhehdJ0PCCf"
      },
      "execution_count": null,
      "outputs": []
    },
    {
      "cell_type": "markdown",
      "source": [
        "![image](https://user-images.githubusercontent.com/51469989/212611157-fa8b40f0-4ac5-4196-b93c-e1da3d07e4a8.png)"
      ],
      "metadata": {
        "id": "yQFC5kcKPF6X"
      }
    },
    {
      "cell_type": "code",
      "source": [
        "from mlxtend.frequent_patterns import apriori\n",
        "\n",
        "tmp_cross_apriori_1 = apriori(tmp_cross_1, min_support=0.05, use_colnames=True).sort_values('support', ascending=False)\n",
        "tmp_cross_apriori_1"
      ],
      "metadata": {
        "id": "stkAdkbvPHVH"
      },
      "execution_count": null,
      "outputs": []
    },
    {
      "cell_type": "markdown",
      "source": [
        "![image](https://user-images.githubusercontent.com/51469989/212611220-86df26f4-59fa-4eea-a7c0-b92be7ffd594.png)"
      ],
      "metadata": {
        "id": "hrIuGOqOPImH"
      }
    },
    {
      "cell_type": "code",
      "source": [
        "tmp_cross_apriori_1['고객번호'] = 1\n",
        "tmp_cross_apriori_1"
      ],
      "metadata": {
        "id": "Ivj81RQIPMgX"
      },
      "execution_count": null,
      "outputs": []
    },
    {
      "cell_type": "markdown",
      "source": [
        "![image](https://user-images.githubusercontent.com/51469989/212611262-e22437e0-6578-4e4e-839b-257d391ada7b.png)"
      ],
      "metadata": {
        "id": "jDLhd8dAPO7n"
      }
    },
    {
      "cell_type": "markdown",
      "source": [
        "### 고객별 상품 지지도 뽑기"
      ],
      "metadata": {
        "id": "rWLVOvjGPSx_"
      }
    },
    {
      "cell_type": "code",
      "source": [
        "tmp = pd.read_csv('/content/drive/MyDrive/project/csv/prd.csv')\n",
        "tmp = tmp[tmp['구매일자'] < '2015-09-31']"
      ],
      "metadata": {
        "id": "cU5iN9FRPYVn"
      },
      "execution_count": null,
      "outputs": []
    },
    {
      "cell_type": "code",
      "source": [
        "고객번호_li = tmp['고객번호'].sort_values().unique()\n",
        "고객번호_li\n",
        "# array([    1,     2,     3, ..., 19381, 19382, 19383])"
      ],
      "metadata": {
        "id": "0VsEcqPHPZJv"
      },
      "execution_count": null,
      "outputs": []
    },
    {
      "cell_type": "code",
      "source": [
        "tmp_cross_apriori_n = pd.DataFrame()\n",
        "\n",
        "for i in 고객번호_li :\n",
        "  tmp_n = tmp.groupby('고객번호').get_group(i).reset_index(drop=True)\n",
        "  tmp_n = tmp_n[['영수증번호', '소분류명']]\n",
        "  tmp_cross_n = pd.crosstab(tmp_n['영수증번호'], tmp_n['소분류명']).astype(bool).astype(int)\n",
        "  result = apriori(tmp_cross_n, min_support=0.05, use_colnames=True).sort_values('support', ascending=False)\n",
        "  result['고객번호'] = i\n",
        "  tmp_cross_apriori_n = pd.concat([tmp_cross_apriori_n, result], ignore_index=True)\n",
        "  print(i)"
      ],
      "metadata": {
        "id": "caDYs4C1Pbd_"
      },
      "execution_count": null,
      "outputs": []
    },
    {
      "cell_type": "code",
      "source": [
        "tmp_cross_apriori_n.to_csv('/content/drive/MyDrive/project/csv/tmp_cross_apriori_1.csv', index=False)\n",
        "tmp_cross_apriori_n"
      ],
      "metadata": {
        "id": "d7ixlfQ_Pe8H"
      },
      "execution_count": null,
      "outputs": []
    },
    {
      "cell_type": "markdown",
      "source": [
        "![image](https://user-images.githubusercontent.com/51469989/212611403-effb49c1-6ca6-4573-901a-149c3202a195.png)"
      ],
      "metadata": {
        "id": "BRTOlbJEPirf"
      }
    },
    {
      "cell_type": "code",
      "source": [
        "tmp_cross_apriori_ = pd.read_csv('/content/drive/MyDrive/project/csv/tmp_cross_apriori_1.csv')\n",
        "tmp_cross_apriori_"
      ],
      "metadata": {
        "id": "GdCIjhSxPi5H"
      },
      "execution_count": null,
      "outputs": []
    },
    {
      "cell_type": "markdown",
      "source": [
        "![image](https://user-images.githubusercontent.com/51469989/212611453-8f061557-d4aa-4676-93ac-9354f43c3153.png)"
      ],
      "metadata": {
        "id": "xVSgfHQTPngP"
      }
    },
    {
      "cell_type": "markdown",
      "source": [
        "### 고객 별 물품 별 지지도 정리"
      ],
      "metadata": {
        "id": "GHXuFceeP5b2"
      }
    },
    {
      "cell_type": "code",
      "source": [
        "import pandas as pd\n",
        "\n",
        "A = pd.read_csv('/content/drive/MyDrive/project/csv/tmp_cross_apriori_1_.csv')\n",
        "B = pd.read_csv('/content/drive/MyDrive/project/csv/tmp_cross_apriori_18.csv')\n",
        "C = pd.read_csv('/content/drive/MyDrive/project/csv/tmp_cross_apriori_21.csv')\n",
        "D = pd.read_csv('/content/drive/MyDrive/project/csv/tmp_cross_apriori_40_.csv')"
      ],
      "metadata": {
        "id": "_x8hzsgyPvFP"
      },
      "execution_count": null,
      "outputs": []
    },
    {
      "cell_type": "code",
      "source": [
        "tmp = pd.concat([A, B], ignore_index=True)\n",
        "tmp"
      ],
      "metadata": {
        "id": "4rZlKPhjP9Gn"
      },
      "execution_count": null,
      "outputs": []
    },
    {
      "cell_type": "markdown",
      "source": [
        "![image](https://user-images.githubusercontent.com/51469989/212611676-bc11597e-8166-4e8c-9148-7f3bb4f9f60b.png)"
      ],
      "metadata": {
        "id": "tr4_tPS0QARX"
      }
    },
    {
      "cell_type": "code",
      "source": [
        "tmp = pd.concat([tmp, C], ignore_index=True)\n",
        "tmp"
      ],
      "metadata": {
        "id": "a3uK4fiJQAdX"
      },
      "execution_count": null,
      "outputs": []
    },
    {
      "cell_type": "markdown",
      "source": [
        "![image](https://user-images.githubusercontent.com/51469989/212611726-f25ff936-23f3-4dc6-9a4e-fc1036365d41.png)"
      ],
      "metadata": {
        "id": "_lm2LflxQBs_"
      }
    },
    {
      "cell_type": "code",
      "source": [
        "tmp = pd.concat([tmp, D], ignore_index=True)\n",
        "tmp"
      ],
      "metadata": {
        "id": "xNmQKjKwQFZ_"
      },
      "execution_count": null,
      "outputs": []
    },
    {
      "cell_type": "markdown",
      "source": [
        "![image](https://user-images.githubusercontent.com/51469989/212611771-c0e94f03-d0af-4c58-8d4d-c10c05058647.png)"
      ],
      "metadata": {
        "id": "ofRwpL92QGtX"
      }
    },
    {
      "cell_type": "markdown",
      "source": [
        "### itemsets 정리"
      ],
      "metadata": {
        "id": "58lmx8NFQL6_"
      }
    },
    {
      "cell_type": "code",
      "source": [
        "import pandas as pd\n",
        "import numpy as np\n",
        "\n",
        "tmp = pd.read_csv('/content/drive/MyDrive/project/csv/tmp_cross_apriori.csv')\n",
        "tmp"
      ],
      "metadata": {
        "id": "-lpl1CW4QKNX"
      },
      "execution_count": null,
      "outputs": []
    },
    {
      "cell_type": "markdown",
      "source": [
        "![image](https://user-images.githubusercontent.com/51469989/212611884-ee116f0a-9f38-4df7-b97e-f12d5b5ba7d9.png)"
      ],
      "metadata": {
        "id": "DoNSLQM-QTNf"
      }
    },
    {
      "cell_type": "code",
      "source": [
        "tmp['itemsets'] = tmp['itemsets'].str.strip(\"frozenset({''})\")\n",
        "tmp"
      ],
      "metadata": {
        "id": "S3Rl8qfGQO-3"
      },
      "execution_count": null,
      "outputs": []
    },
    {
      "cell_type": "markdown",
      "source": [
        "![image](https://user-images.githubusercontent.com/51469989/212611933-c1f63f7d-b26a-4125-a240-08ebb938249f.png)"
      ],
      "metadata": {
        "id": "gOfhMCViQUf_"
      }
    },
    {
      "cell_type": "code",
      "source": [
        "tmp[:100]"
      ],
      "metadata": {
        "id": "3gUH15k-QYK3"
      },
      "execution_count": null,
      "outputs": []
    },
    {
      "cell_type": "markdown",
      "source": [
        "![image](https://user-images.githubusercontent.com/51469989/212611979-f985d1c8-ce4a-4a2b-b0be-d3b07e9a30bf.png)"
      ],
      "metadata": {
        "id": "wWjIm0VlQcuH"
      }
    },
    {
      "cell_type": "code",
      "source": [
        "tmp['itemsets'].str.contains(',')[:20]"
      ],
      "metadata": {
        "id": "4kVjSKJiQc_X"
      },
      "execution_count": null,
      "outputs": []
    },
    {
      "cell_type": "markdown",
      "source": [
        "![image](https://user-images.githubusercontent.com/51469989/212612034-48afd77d-54ce-4646-9e48-6737890b4d16.png)"
      ],
      "metadata": {
        "id": "rLY8JSrXQhcX"
      }
    },
    {
      "cell_type": "code",
      "source": [
        "import numpy as np\n",
        "\n",
        "idx = tmp[tmp['itemsets'].str.contains(',')].index\n",
        "tmp_df = tmp.drop(idx).drop('Unnamed: 0', axis=1)\n",
        "tmp_df[:20]"
      ],
      "metadata": {
        "id": "Yf-ncIkEQjwn"
      },
      "execution_count": null,
      "outputs": []
    },
    {
      "cell_type": "markdown",
      "source": [
        "![image](https://user-images.githubusercontent.com/51469989/212612084-f4853259-7a7f-495f-a6de-b1e80bb387e5.png)"
      ],
      "metadata": {
        "id": "YDa4KZOZQkAX"
      }
    },
    {
      "cell_type": "code",
      "source": [
        "tmp_df.to_csv('/content/drive/MyDrive/project/csv/apriori.csv', index=False)"
      ],
      "metadata": {
        "id": "SISw7-nJQn7n"
      },
      "execution_count": null,
      "outputs": []
    }
  ]
}