{
  "nbformat": 4,
  "nbformat_minor": 0,
  "metadata": {
    "colab": {
      "provenance": []
    },
    "kernelspec": {
      "name": "python3",
      "display_name": "Python 3"
    },
    "language_info": {
      "name": "python"
    }
  },
  "cells": [
    {
      "cell_type": "markdown",
      "source": [
        "# 군집화를 위한 고객 데이터 통합"
      ],
      "metadata": {
        "id": "m-oXah4C8BF2"
      }
    },
    {
      "cell_type": "markdown",
      "source": [
        "## 재구매율에 사용한 고객데이터 통합"
      ],
      "metadata": {
        "id": "echtBowS8Rfe"
      }
    },
    {
      "cell_type": "code",
      "source": [
        "prd = pd.read_csv('/content/drive/MyDrive/데이터강의/project_2차/data/prd.csv')\n",
        "prd = prd.sort_values(['영수증번호','고객번호'])\n",
        "prd['구매일자'] = pd.to_datetime(prd['구매일자'])\n",
        "prd.loc[prd['구매일자']<'2015-01-01','구매분기'] = prd['구매일자'].dt.quarter\n",
        "prd.loc[prd['구매일자']>='2015-01-01','구매분기'] = prd['구매일자'].dt.quarter + 4"
      ],
      "metadata": {
        "id": "eXHYtigvMunR"
      },
      "execution_count": null,
      "outputs": []
    },
    {
      "cell_type": "code",
      "source": [
        "def user_total_products(prd):\n",
        "  고객 = prd.groupby(['고객번호']).agg(구매상품수=('소분류코드','count')).reset_index()\n",
        "  return 고객"
      ],
      "metadata": {
        "id": "XGxSis8xM4RF"
      },
      "execution_count": null,
      "outputs": []
    },
    {
      "cell_type": "code",
      "source": [
        "고객 = user_total_products(prd)"
      ],
      "metadata": {
        "id": "Tjod412gNCi7"
      },
      "execution_count": null,
      "outputs": []
    },
    {
      "cell_type": "code",
      "source": [
        "def user_period(prd,고객):\n",
        "  #고객 = pd.read_csv('/content/drive/MyDrive/데이터강의/project_2차/data/고객.csv')\n",
        "  고객.sort_values('고객번호')\n",
        "  고객['첫구매'] = prd.groupby('고객번호').agg(첫구매 = ('구매일자','min')).values\n",
        "  고객['마지막구매'] = prd.groupby('고객번호').agg(마지막구매 = ('구매일자','max')).values\n",
        "\n",
        "  고객['첫구매'] = pd.to_datetime(고객['첫구매'])\n",
        "  고객['마지막구매'] = pd.to_datetime(고객['마지막구매'])\n",
        "\n",
        "  고객_기간 = 고객[['첫구매','마지막구매']]\n",
        "  고객_기간_diff = 고객_기간.diff(axis=1)\n",
        "  고객['첫-마지막'] = 고객_기간_diff['마지막구매']\n",
        "\n",
        "  고객['첫-마지막'] = 고객['첫-마지막'].astype(str)\n",
        "  고객['첫-마지막'] = 고객['첫-마지막'].str.split(' ').str[0]\n",
        "  고객['첫-마지막'] = 고객['첫-마지막'].astype(int)\n",
        "\n",
        "  고객.drop(['첫구매','마지막구매'], axis=1, inplace=True)\n",
        "\n",
        "  return 고객"
      ],
      "metadata": {
        "id": "4kKVVERYNIx0"
      },
      "execution_count": null,
      "outputs": []
    },
    {
      "cell_type": "code",
      "source": [
        "고객 = user_period(prd,고객)"
      ],
      "metadata": {
        "id": "wTGPMG3UNLb0"
      },
      "execution_count": null,
      "outputs": []
    },
    {
      "cell_type": "code",
      "source": [
        "def user_mean_days_since_prior(prd,고객):\n",
        "  #고객 = pd.read_csv('/content/drive/MyDrive/데이터강의/project_2차/data/고객.csv')\n",
        "  prd.sort_values('구매일자',inplace=True)\n",
        "\n",
        "  고객_구매일자 = pd.DataFrame(prd.groupby(['고객번호'])['구매일자'].unique())\n",
        "  고객_구매일자.reset_index(inplace=True)\n",
        "\n",
        "  index = []\n",
        "  data = []\n",
        "  for i,j in enumerate(고객_구매일자['구매일자']):\n",
        "    index.append(i)\n",
        "    data.append(j)\n",
        "\n",
        "  sep = pd.DataFrame(data = data,index = index)\n",
        "  sep.replace(np.nan,'2000-01-01',inplace=True)\n",
        "  \n",
        "  period = sep.diff(axis=1)\n",
        "  period = period.astype(str)\n",
        "  for i in range(len(period.columns)):\n",
        "    period[i] = period[i].str.split(' ').str[0]\n",
        "\n",
        "  period.replace('NaT',0,inplace=True)\n",
        "  period = period.astype(int)\n",
        "  for i in range(len(period.columns)):\n",
        "    period[i] = np.where(period[i]<=0,np.nan,period[i])\n",
        "\n",
        "  period_mean = period.mean(axis=1, skipna=True)\n",
        "\n",
        "  고객['구매간격'] = period_mean\n",
        "\n",
        "  return 고객"
      ],
      "metadata": {
        "id": "n6AQmGXSNTPY"
      },
      "execution_count": null,
      "outputs": []
    },
    {
      "cell_type": "code",
      "source": [
        "고객 = user_mean_days_since_prior(prd,고객)"
      ],
      "metadata": {
        "id": "mARXlE0bNV3h"
      },
      "execution_count": null,
      "outputs": []
    },
    {
      "cell_type": "code",
      "source": [
        "def user_orders(prd,고객):\n",
        "  #고객 = pd.read_csv('/content/drive/MyDrive/데이터강의/project_2차/data/고객.csv')\n",
        "\n",
        "  영수증고유 = pd.DataFrame(prd[['고객번호','영수증번호']].value_counts().reset_index())\n",
        "  영수증개수 = 영수증고유.groupby('고객번호')[['영수증번호']].count().reset_index()\n",
        "\n",
        "  영수증개수.sort_values('고객번호',inplace=True)\n",
        "  고객['구매건수'] = 영수증개수['영수증번호']\n",
        "\n",
        "  return 고객"
      ],
      "metadata": {
        "id": "XLX6-l0GNfn-"
      },
      "execution_count": null,
      "outputs": []
    },
    {
      "cell_type": "code",
      "source": [
        "고객 = user_orders(prd,고객)"
      ],
      "metadata": {
        "id": "ViVBZSolNhrg"
      },
      "execution_count": null,
      "outputs": []
    },
    {
      "cell_type": "code",
      "source": [
        "고객"
      ],
      "metadata": {
        "id": "inKam-3sNtIc",
        "colab": {
          "base_uri": "https://localhost:8080/",
          "height": 423
        },
        "outputId": "47b8e8be-a9c4-4846-dfe3-c171f99baf20"
      },
      "execution_count": null,
      "outputs": [
        {
          "output_type": "execute_result",
          "data": {
            "text/plain": [
              "        고객번호  구매상품수  첫-마지막      구매간격  구매건수\n",
              "0          1   1057    721  3.121212   681\n",
              "1          2   1116    726  2.547368   676\n",
              "2          3   1191    724  1.832911   490\n",
              "3          4    930    727  2.806950   533\n",
              "4          5    719    725  3.072034   426\n",
              "...      ...    ...    ...       ...   ...\n",
              "19378  19379    584    461  2.114679   366\n",
              "19379  19380    440    385  2.655172   232\n",
              "19380  19381    805    363  1.824121   402\n",
              "19381  19382    906    344  1.694581   435\n",
              "19382  19383    260    201  2.284091   132\n",
              "\n",
              "[19383 rows x 5 columns]"
            ],
            "text/html": [
              "\n",
              "  <div id=\"df-233f0bb5-133f-40e6-b593-768a2fd692bb\">\n",
              "    <div class=\"colab-df-container\">\n",
              "      <div>\n",
              "<style scoped>\n",
              "    .dataframe tbody tr th:only-of-type {\n",
              "        vertical-align: middle;\n",
              "    }\n",
              "\n",
              "    .dataframe tbody tr th {\n",
              "        vertical-align: top;\n",
              "    }\n",
              "\n",
              "    .dataframe thead th {\n",
              "        text-align: right;\n",
              "    }\n",
              "</style>\n",
              "<table border=\"1\" class=\"dataframe\">\n",
              "  <thead>\n",
              "    <tr style=\"text-align: right;\">\n",
              "      <th></th>\n",
              "      <th>고객번호</th>\n",
              "      <th>구매상품수</th>\n",
              "      <th>첫-마지막</th>\n",
              "      <th>구매간격</th>\n",
              "      <th>구매건수</th>\n",
              "    </tr>\n",
              "  </thead>\n",
              "  <tbody>\n",
              "    <tr>\n",
              "      <th>0</th>\n",
              "      <td>1</td>\n",
              "      <td>1057</td>\n",
              "      <td>721</td>\n",
              "      <td>3.121212</td>\n",
              "      <td>681</td>\n",
              "    </tr>\n",
              "    <tr>\n",
              "      <th>1</th>\n",
              "      <td>2</td>\n",
              "      <td>1116</td>\n",
              "      <td>726</td>\n",
              "      <td>2.547368</td>\n",
              "      <td>676</td>\n",
              "    </tr>\n",
              "    <tr>\n",
              "      <th>2</th>\n",
              "      <td>3</td>\n",
              "      <td>1191</td>\n",
              "      <td>724</td>\n",
              "      <td>1.832911</td>\n",
              "      <td>490</td>\n",
              "    </tr>\n",
              "    <tr>\n",
              "      <th>3</th>\n",
              "      <td>4</td>\n",
              "      <td>930</td>\n",
              "      <td>727</td>\n",
              "      <td>2.806950</td>\n",
              "      <td>533</td>\n",
              "    </tr>\n",
              "    <tr>\n",
              "      <th>4</th>\n",
              "      <td>5</td>\n",
              "      <td>719</td>\n",
              "      <td>725</td>\n",
              "      <td>3.072034</td>\n",
              "      <td>426</td>\n",
              "    </tr>\n",
              "    <tr>\n",
              "      <th>...</th>\n",
              "      <td>...</td>\n",
              "      <td>...</td>\n",
              "      <td>...</td>\n",
              "      <td>...</td>\n",
              "      <td>...</td>\n",
              "    </tr>\n",
              "    <tr>\n",
              "      <th>19378</th>\n",
              "      <td>19379</td>\n",
              "      <td>584</td>\n",
              "      <td>461</td>\n",
              "      <td>2.114679</td>\n",
              "      <td>366</td>\n",
              "    </tr>\n",
              "    <tr>\n",
              "      <th>19379</th>\n",
              "      <td>19380</td>\n",
              "      <td>440</td>\n",
              "      <td>385</td>\n",
              "      <td>2.655172</td>\n",
              "      <td>232</td>\n",
              "    </tr>\n",
              "    <tr>\n",
              "      <th>19380</th>\n",
              "      <td>19381</td>\n",
              "      <td>805</td>\n",
              "      <td>363</td>\n",
              "      <td>1.824121</td>\n",
              "      <td>402</td>\n",
              "    </tr>\n",
              "    <tr>\n",
              "      <th>19381</th>\n",
              "      <td>19382</td>\n",
              "      <td>906</td>\n",
              "      <td>344</td>\n",
              "      <td>1.694581</td>\n",
              "      <td>435</td>\n",
              "    </tr>\n",
              "    <tr>\n",
              "      <th>19382</th>\n",
              "      <td>19383</td>\n",
              "      <td>260</td>\n",
              "      <td>201</td>\n",
              "      <td>2.284091</td>\n",
              "      <td>132</td>\n",
              "    </tr>\n",
              "  </tbody>\n",
              "</table>\n",
              "<p>19383 rows × 5 columns</p>\n",
              "</div>\n",
              "      <button class=\"colab-df-convert\" onclick=\"convertToInteractive('df-233f0bb5-133f-40e6-b593-768a2fd692bb')\"\n",
              "              title=\"Convert this dataframe to an interactive table.\"\n",
              "              style=\"display:none;\">\n",
              "        \n",
              "  <svg xmlns=\"http://www.w3.org/2000/svg\" height=\"24px\"viewBox=\"0 0 24 24\"\n",
              "       width=\"24px\">\n",
              "    <path d=\"M0 0h24v24H0V0z\" fill=\"none\"/>\n",
              "    <path d=\"M18.56 5.44l.94 2.06.94-2.06 2.06-.94-2.06-.94-.94-2.06-.94 2.06-2.06.94zm-11 1L8.5 8.5l.94-2.06 2.06-.94-2.06-.94L8.5 2.5l-.94 2.06-2.06.94zm10 10l.94 2.06.94-2.06 2.06-.94-2.06-.94-.94-2.06-.94 2.06-2.06.94z\"/><path d=\"M17.41 7.96l-1.37-1.37c-.4-.4-.92-.59-1.43-.59-.52 0-1.04.2-1.43.59L10.3 9.45l-7.72 7.72c-.78.78-.78 2.05 0 2.83L4 21.41c.39.39.9.59 1.41.59.51 0 1.02-.2 1.41-.59l7.78-7.78 2.81-2.81c.8-.78.8-2.07 0-2.86zM5.41 20L4 18.59l7.72-7.72 1.47 1.35L5.41 20z\"/>\n",
              "  </svg>\n",
              "      </button>\n",
              "      \n",
              "  <style>\n",
              "    .colab-df-container {\n",
              "      display:flex;\n",
              "      flex-wrap:wrap;\n",
              "      gap: 12px;\n",
              "    }\n",
              "\n",
              "    .colab-df-convert {\n",
              "      background-color: #E8F0FE;\n",
              "      border: none;\n",
              "      border-radius: 50%;\n",
              "      cursor: pointer;\n",
              "      display: none;\n",
              "      fill: #1967D2;\n",
              "      height: 32px;\n",
              "      padding: 0 0 0 0;\n",
              "      width: 32px;\n",
              "    }\n",
              "\n",
              "    .colab-df-convert:hover {\n",
              "      background-color: #E2EBFA;\n",
              "      box-shadow: 0px 1px 2px rgba(60, 64, 67, 0.3), 0px 1px 3px 1px rgba(60, 64, 67, 0.15);\n",
              "      fill: #174EA6;\n",
              "    }\n",
              "\n",
              "    [theme=dark] .colab-df-convert {\n",
              "      background-color: #3B4455;\n",
              "      fill: #D2E3FC;\n",
              "    }\n",
              "\n",
              "    [theme=dark] .colab-df-convert:hover {\n",
              "      background-color: #434B5C;\n",
              "      box-shadow: 0px 1px 3px 1px rgba(0, 0, 0, 0.15);\n",
              "      filter: drop-shadow(0px 1px 2px rgba(0, 0, 0, 0.3));\n",
              "      fill: #FFFFFF;\n",
              "    }\n",
              "  </style>\n",
              "\n",
              "      <script>\n",
              "        const buttonEl =\n",
              "          document.querySelector('#df-233f0bb5-133f-40e6-b593-768a2fd692bb button.colab-df-convert');\n",
              "        buttonEl.style.display =\n",
              "          google.colab.kernel.accessAllowed ? 'block' : 'none';\n",
              "\n",
              "        async function convertToInteractive(key) {\n",
              "          const element = document.querySelector('#df-233f0bb5-133f-40e6-b593-768a2fd692bb');\n",
              "          const dataTable =\n",
              "            await google.colab.kernel.invokeFunction('convertToInteractive',\n",
              "                                                     [key], {});\n",
              "          if (!dataTable) return;\n",
              "\n",
              "          const docLinkHtml = 'Like what you see? Visit the ' +\n",
              "            '<a target=\"_blank\" href=https://colab.research.google.com/notebooks/data_table.ipynb>data table notebook</a>'\n",
              "            + ' to learn more about interactive tables.';\n",
              "          element.innerHTML = '';\n",
              "          dataTable['output_type'] = 'display_data';\n",
              "          await google.colab.output.renderOutput(dataTable, element);\n",
              "          const docLink = document.createElement('div');\n",
              "          docLink.innerHTML = docLinkHtml;\n",
              "          element.appendChild(docLink);\n",
              "        }\n",
              "      </script>\n",
              "    </div>\n",
              "  </div>\n",
              "  "
            ]
          },
          "metadata": {},
          "execution_count": 25
        }
      ]
    },
    {
      "cell_type": "code",
      "source": [
        "항목수 = pd.read_csv('/content/drive/MyDrive/데이터강의/project_2차/data4/각고객의구매한상품항목수.csv')\n",
        "항목평균 = pd.read_csv('/content/drive/MyDrive/데이터강의/project_2차/data4/각고객의구매당평균항목수.csv')"
      ],
      "metadata": {
        "id": "NpwX98pkNs-O"
      },
      "execution_count": null,
      "outputs": []
    },
    {
      "cell_type": "code",
      "source": [
        "고객['구매항목수'] = 항목수['각고객의구매한상품항목수']"
      ],
      "metadata": {
        "id": "2gsluUIqRkbX"
      },
      "execution_count": null,
      "outputs": []
    },
    {
      "cell_type": "code",
      "source": [
        "고객['구매_평균항목수'] = 항목평균['각고객의구매당평균항목수']"
      ],
      "metadata": {
        "id": "2ZA6WZQkU56u"
      },
      "execution_count": null,
      "outputs": []
    },
    {
      "cell_type": "code",
      "source": [
        "고객"
      ],
      "metadata": {
        "colab": {
          "base_uri": "https://localhost:8080/",
          "height": 423
        },
        "id": "xa9ehsp1VKR0",
        "outputId": "f548f11e-22b9-41c8-92d5-8c0933c9a428"
      },
      "execution_count": null,
      "outputs": [
        {
          "output_type": "execute_result",
          "data": {
            "text/plain": [
              "        고객번호  구매상품수  첫-마지막      구매간격  구매건수  구매항목수  구매_평균항목수\n",
              "0          1   1057    721  3.121212   681    255  1.552129\n",
              "1          2   1116    726  2.547368   676    140  1.650888\n",
              "2          3   1191    724  1.832911   490    161  2.430612\n",
              "3          4    930    727  2.806950   533    254  1.744841\n",
              "4          5    719    725  3.072034   426     80  1.687793\n",
              "...      ...    ...    ...       ...   ...    ...       ...\n",
              "19378  19379    584    461  2.114679   366    133  1.595628\n",
              "19379  19380    440    385  2.655172   232    107  1.896552\n",
              "19380  19381    805    363  1.824121   402    281  2.002488\n",
              "19381  19382    906    344  1.694581   435    307  2.082759\n",
              "19382  19383    260    201  2.284091   132     87  1.969697\n",
              "\n",
              "[19383 rows x 7 columns]"
            ],
            "text/html": [
              "\n",
              "  <div id=\"df-3fe8651b-ba4a-4ab9-8fb2-35e6bb54bd46\">\n",
              "    <div class=\"colab-df-container\">\n",
              "      <div>\n",
              "<style scoped>\n",
              "    .dataframe tbody tr th:only-of-type {\n",
              "        vertical-align: middle;\n",
              "    }\n",
              "\n",
              "    .dataframe tbody tr th {\n",
              "        vertical-align: top;\n",
              "    }\n",
              "\n",
              "    .dataframe thead th {\n",
              "        text-align: right;\n",
              "    }\n",
              "</style>\n",
              "<table border=\"1\" class=\"dataframe\">\n",
              "  <thead>\n",
              "    <tr style=\"text-align: right;\">\n",
              "      <th></th>\n",
              "      <th>고객번호</th>\n",
              "      <th>구매상품수</th>\n",
              "      <th>첫-마지막</th>\n",
              "      <th>구매간격</th>\n",
              "      <th>구매건수</th>\n",
              "      <th>구매항목수</th>\n",
              "      <th>구매_평균항목수</th>\n",
              "    </tr>\n",
              "  </thead>\n",
              "  <tbody>\n",
              "    <tr>\n",
              "      <th>0</th>\n",
              "      <td>1</td>\n",
              "      <td>1057</td>\n",
              "      <td>721</td>\n",
              "      <td>3.121212</td>\n",
              "      <td>681</td>\n",
              "      <td>255</td>\n",
              "      <td>1.552129</td>\n",
              "    </tr>\n",
              "    <tr>\n",
              "      <th>1</th>\n",
              "      <td>2</td>\n",
              "      <td>1116</td>\n",
              "      <td>726</td>\n",
              "      <td>2.547368</td>\n",
              "      <td>676</td>\n",
              "      <td>140</td>\n",
              "      <td>1.650888</td>\n",
              "    </tr>\n",
              "    <tr>\n",
              "      <th>2</th>\n",
              "      <td>3</td>\n",
              "      <td>1191</td>\n",
              "      <td>724</td>\n",
              "      <td>1.832911</td>\n",
              "      <td>490</td>\n",
              "      <td>161</td>\n",
              "      <td>2.430612</td>\n",
              "    </tr>\n",
              "    <tr>\n",
              "      <th>3</th>\n",
              "      <td>4</td>\n",
              "      <td>930</td>\n",
              "      <td>727</td>\n",
              "      <td>2.806950</td>\n",
              "      <td>533</td>\n",
              "      <td>254</td>\n",
              "      <td>1.744841</td>\n",
              "    </tr>\n",
              "    <tr>\n",
              "      <th>4</th>\n",
              "      <td>5</td>\n",
              "      <td>719</td>\n",
              "      <td>725</td>\n",
              "      <td>3.072034</td>\n",
              "      <td>426</td>\n",
              "      <td>80</td>\n",
              "      <td>1.687793</td>\n",
              "    </tr>\n",
              "    <tr>\n",
              "      <th>...</th>\n",
              "      <td>...</td>\n",
              "      <td>...</td>\n",
              "      <td>...</td>\n",
              "      <td>...</td>\n",
              "      <td>...</td>\n",
              "      <td>...</td>\n",
              "      <td>...</td>\n",
              "    </tr>\n",
              "    <tr>\n",
              "      <th>19378</th>\n",
              "      <td>19379</td>\n",
              "      <td>584</td>\n",
              "      <td>461</td>\n",
              "      <td>2.114679</td>\n",
              "      <td>366</td>\n",
              "      <td>133</td>\n",
              "      <td>1.595628</td>\n",
              "    </tr>\n",
              "    <tr>\n",
              "      <th>19379</th>\n",
              "      <td>19380</td>\n",
              "      <td>440</td>\n",
              "      <td>385</td>\n",
              "      <td>2.655172</td>\n",
              "      <td>232</td>\n",
              "      <td>107</td>\n",
              "      <td>1.896552</td>\n",
              "    </tr>\n",
              "    <tr>\n",
              "      <th>19380</th>\n",
              "      <td>19381</td>\n",
              "      <td>805</td>\n",
              "      <td>363</td>\n",
              "      <td>1.824121</td>\n",
              "      <td>402</td>\n",
              "      <td>281</td>\n",
              "      <td>2.002488</td>\n",
              "    </tr>\n",
              "    <tr>\n",
              "      <th>19381</th>\n",
              "      <td>19382</td>\n",
              "      <td>906</td>\n",
              "      <td>344</td>\n",
              "      <td>1.694581</td>\n",
              "      <td>435</td>\n",
              "      <td>307</td>\n",
              "      <td>2.082759</td>\n",
              "    </tr>\n",
              "    <tr>\n",
              "      <th>19382</th>\n",
              "      <td>19383</td>\n",
              "      <td>260</td>\n",
              "      <td>201</td>\n",
              "      <td>2.284091</td>\n",
              "      <td>132</td>\n",
              "      <td>87</td>\n",
              "      <td>1.969697</td>\n",
              "    </tr>\n",
              "  </tbody>\n",
              "</table>\n",
              "<p>19383 rows × 7 columns</p>\n",
              "</div>\n",
              "      <button class=\"colab-df-convert\" onclick=\"convertToInteractive('df-3fe8651b-ba4a-4ab9-8fb2-35e6bb54bd46')\"\n",
              "              title=\"Convert this dataframe to an interactive table.\"\n",
              "              style=\"display:none;\">\n",
              "        \n",
              "  <svg xmlns=\"http://www.w3.org/2000/svg\" height=\"24px\"viewBox=\"0 0 24 24\"\n",
              "       width=\"24px\">\n",
              "    <path d=\"M0 0h24v24H0V0z\" fill=\"none\"/>\n",
              "    <path d=\"M18.56 5.44l.94 2.06.94-2.06 2.06-.94-2.06-.94-.94-2.06-.94 2.06-2.06.94zm-11 1L8.5 8.5l.94-2.06 2.06-.94-2.06-.94L8.5 2.5l-.94 2.06-2.06.94zm10 10l.94 2.06.94-2.06 2.06-.94-2.06-.94-.94-2.06-.94 2.06-2.06.94z\"/><path d=\"M17.41 7.96l-1.37-1.37c-.4-.4-.92-.59-1.43-.59-.52 0-1.04.2-1.43.59L10.3 9.45l-7.72 7.72c-.78.78-.78 2.05 0 2.83L4 21.41c.39.39.9.59 1.41.59.51 0 1.02-.2 1.41-.59l7.78-7.78 2.81-2.81c.8-.78.8-2.07 0-2.86zM5.41 20L4 18.59l7.72-7.72 1.47 1.35L5.41 20z\"/>\n",
              "  </svg>\n",
              "      </button>\n",
              "      \n",
              "  <style>\n",
              "    .colab-df-container {\n",
              "      display:flex;\n",
              "      flex-wrap:wrap;\n",
              "      gap: 12px;\n",
              "    }\n",
              "\n",
              "    .colab-df-convert {\n",
              "      background-color: #E8F0FE;\n",
              "      border: none;\n",
              "      border-radius: 50%;\n",
              "      cursor: pointer;\n",
              "      display: none;\n",
              "      fill: #1967D2;\n",
              "      height: 32px;\n",
              "      padding: 0 0 0 0;\n",
              "      width: 32px;\n",
              "    }\n",
              "\n",
              "    .colab-df-convert:hover {\n",
              "      background-color: #E2EBFA;\n",
              "      box-shadow: 0px 1px 2px rgba(60, 64, 67, 0.3), 0px 1px 3px 1px rgba(60, 64, 67, 0.15);\n",
              "      fill: #174EA6;\n",
              "    }\n",
              "\n",
              "    [theme=dark] .colab-df-convert {\n",
              "      background-color: #3B4455;\n",
              "      fill: #D2E3FC;\n",
              "    }\n",
              "\n",
              "    [theme=dark] .colab-df-convert:hover {\n",
              "      background-color: #434B5C;\n",
              "      box-shadow: 0px 1px 3px 1px rgba(0, 0, 0, 0.15);\n",
              "      filter: drop-shadow(0px 1px 2px rgba(0, 0, 0, 0.3));\n",
              "      fill: #FFFFFF;\n",
              "    }\n",
              "  </style>\n",
              "\n",
              "      <script>\n",
              "        const buttonEl =\n",
              "          document.querySelector('#df-3fe8651b-ba4a-4ab9-8fb2-35e6bb54bd46 button.colab-df-convert');\n",
              "        buttonEl.style.display =\n",
              "          google.colab.kernel.accessAllowed ? 'block' : 'none';\n",
              "\n",
              "        async function convertToInteractive(key) {\n",
              "          const element = document.querySelector('#df-3fe8651b-ba4a-4ab9-8fb2-35e6bb54bd46');\n",
              "          const dataTable =\n",
              "            await google.colab.kernel.invokeFunction('convertToInteractive',\n",
              "                                                     [key], {});\n",
              "          if (!dataTable) return;\n",
              "\n",
              "          const docLinkHtml = 'Like what you see? Visit the ' +\n",
              "            '<a target=\"_blank\" href=https://colab.research.google.com/notebooks/data_table.ipynb>data table notebook</a>'\n",
              "            + ' to learn more about interactive tables.';\n",
              "          element.innerHTML = '';\n",
              "          dataTable['output_type'] = 'display_data';\n",
              "          await google.colab.output.renderOutput(dataTable, element);\n",
              "          const docLink = document.createElement('div');\n",
              "          docLink.innerHTML = docLinkHtml;\n",
              "          element.appendChild(docLink);\n",
              "        }\n",
              "      </script>\n",
              "    </div>\n",
              "  </div>\n",
              "  "
            ]
          },
          "metadata": {},
          "execution_count": 34
        }
      ]
    },
    {
      "cell_type": "markdown",
      "source": [
        "## 재구매율 컬럼"
      ],
      "metadata": {
        "id": "smuepMVS8XXm"
      }
    },
    {
      "cell_type": "code",
      "source": [
        "재구매율 = pd.read_csv('/content/drive/MyDrive/데이터강의/project_2차/data4/고객예측_test.csv')"
      ],
      "metadata": {
        "id": "T6fKpsmURkUJ"
      },
      "execution_count": null,
      "outputs": []
    },
    {
      "cell_type": "code",
      "source": [
        "재구매율"
      ],
      "metadata": {
        "colab": {
          "base_uri": "https://localhost:8080/",
          "height": 423
        },
        "id": "0GanfL1bTUz_",
        "outputId": "28569f22-1b85-45c6-b758-4a194383ea03"
      },
      "execution_count": null,
      "outputs": [
        {
          "output_type": "execute_result",
          "data": {
            "text/plain": [
              "       Unnamed: 0   고객번호   구매상품수  첫-마지막      구매간격   구매건수  구매항목수  구매_평균항목수  \\\n",
              "0               0      1  1057.0  622.0  3.117754  681.0    290  1.552531   \n",
              "1               1      2  1116.0  634.0  2.556618  676.0    177  1.650347   \n",
              "2               2      3  1191.0  627.0  1.831400  490.0    194  2.418215   \n",
              "3               3      4   930.0  635.0  2.816857  533.0    293  1.756036   \n",
              "4               4      5   719.0  504.0  2.513663  426.0    100  1.688143   \n",
              "...           ...    ...     ...    ...       ...    ...    ...       ...   \n",
              "19378       19378  19379   584.0  373.0  2.106458  366.0    173  1.589168   \n",
              "19379       19379  19380   440.0  293.0  3.506188  232.0    144  1.843337   \n",
              "19380       19380  19381   805.0  270.0  1.857261  402.0    361  2.074253   \n",
              "19381       19381  19382   906.0  250.0  1.729108  435.0    404  2.190977   \n",
              "19382       19382  19383   260.0  107.0  2.146564  132.0    124  1.793689   \n",
              "\n",
              "          label  \n",
              "0      0.082308  \n",
              "1      0.106631  \n",
              "2      0.280437  \n",
              "3      0.027957  \n",
              "4      0.123783  \n",
              "...         ...  \n",
              "19378  0.095890  \n",
              "19379  0.050000  \n",
              "19380  0.029814  \n",
              "19381  0.034216  \n",
              "19382  0.073077  \n",
              "\n",
              "[19383 rows x 9 columns]"
            ],
            "text/html": [
              "\n",
              "  <div id=\"df-5e3a718c-52fb-4bd1-99bb-a99c8bff59ba\">\n",
              "    <div class=\"colab-df-container\">\n",
              "      <div>\n",
              "<style scoped>\n",
              "    .dataframe tbody tr th:only-of-type {\n",
              "        vertical-align: middle;\n",
              "    }\n",
              "\n",
              "    .dataframe tbody tr th {\n",
              "        vertical-align: top;\n",
              "    }\n",
              "\n",
              "    .dataframe thead th {\n",
              "        text-align: right;\n",
              "    }\n",
              "</style>\n",
              "<table border=\"1\" class=\"dataframe\">\n",
              "  <thead>\n",
              "    <tr style=\"text-align: right;\">\n",
              "      <th></th>\n",
              "      <th>Unnamed: 0</th>\n",
              "      <th>고객번호</th>\n",
              "      <th>구매상품수</th>\n",
              "      <th>첫-마지막</th>\n",
              "      <th>구매간격</th>\n",
              "      <th>구매건수</th>\n",
              "      <th>구매항목수</th>\n",
              "      <th>구매_평균항목수</th>\n",
              "      <th>label</th>\n",
              "    </tr>\n",
              "  </thead>\n",
              "  <tbody>\n",
              "    <tr>\n",
              "      <th>0</th>\n",
              "      <td>0</td>\n",
              "      <td>1</td>\n",
              "      <td>1057.0</td>\n",
              "      <td>622.0</td>\n",
              "      <td>3.117754</td>\n",
              "      <td>681.0</td>\n",
              "      <td>290</td>\n",
              "      <td>1.552531</td>\n",
              "      <td>0.082308</td>\n",
              "    </tr>\n",
              "    <tr>\n",
              "      <th>1</th>\n",
              "      <td>1</td>\n",
              "      <td>2</td>\n",
              "      <td>1116.0</td>\n",
              "      <td>634.0</td>\n",
              "      <td>2.556618</td>\n",
              "      <td>676.0</td>\n",
              "      <td>177</td>\n",
              "      <td>1.650347</td>\n",
              "      <td>0.106631</td>\n",
              "    </tr>\n",
              "    <tr>\n",
              "      <th>2</th>\n",
              "      <td>2</td>\n",
              "      <td>3</td>\n",
              "      <td>1191.0</td>\n",
              "      <td>627.0</td>\n",
              "      <td>1.831400</td>\n",
              "      <td>490.0</td>\n",
              "      <td>194</td>\n",
              "      <td>2.418215</td>\n",
              "      <td>0.280437</td>\n",
              "    </tr>\n",
              "    <tr>\n",
              "      <th>3</th>\n",
              "      <td>3</td>\n",
              "      <td>4</td>\n",
              "      <td>930.0</td>\n",
              "      <td>635.0</td>\n",
              "      <td>2.816857</td>\n",
              "      <td>533.0</td>\n",
              "      <td>293</td>\n",
              "      <td>1.756036</td>\n",
              "      <td>0.027957</td>\n",
              "    </tr>\n",
              "    <tr>\n",
              "      <th>4</th>\n",
              "      <td>4</td>\n",
              "      <td>5</td>\n",
              "      <td>719.0</td>\n",
              "      <td>504.0</td>\n",
              "      <td>2.513663</td>\n",
              "      <td>426.0</td>\n",
              "      <td>100</td>\n",
              "      <td>1.688143</td>\n",
              "      <td>0.123783</td>\n",
              "    </tr>\n",
              "    <tr>\n",
              "      <th>...</th>\n",
              "      <td>...</td>\n",
              "      <td>...</td>\n",
              "      <td>...</td>\n",
              "      <td>...</td>\n",
              "      <td>...</td>\n",
              "      <td>...</td>\n",
              "      <td>...</td>\n",
              "      <td>...</td>\n",
              "      <td>...</td>\n",
              "    </tr>\n",
              "    <tr>\n",
              "      <th>19378</th>\n",
              "      <td>19378</td>\n",
              "      <td>19379</td>\n",
              "      <td>584.0</td>\n",
              "      <td>373.0</td>\n",
              "      <td>2.106458</td>\n",
              "      <td>366.0</td>\n",
              "      <td>173</td>\n",
              "      <td>1.589168</td>\n",
              "      <td>0.095890</td>\n",
              "    </tr>\n",
              "    <tr>\n",
              "      <th>19379</th>\n",
              "      <td>19379</td>\n",
              "      <td>19380</td>\n",
              "      <td>440.0</td>\n",
              "      <td>293.0</td>\n",
              "      <td>3.506188</td>\n",
              "      <td>232.0</td>\n",
              "      <td>144</td>\n",
              "      <td>1.843337</td>\n",
              "      <td>0.050000</td>\n",
              "    </tr>\n",
              "    <tr>\n",
              "      <th>19380</th>\n",
              "      <td>19380</td>\n",
              "      <td>19381</td>\n",
              "      <td>805.0</td>\n",
              "      <td>270.0</td>\n",
              "      <td>1.857261</td>\n",
              "      <td>402.0</td>\n",
              "      <td>361</td>\n",
              "      <td>2.074253</td>\n",
              "      <td>0.029814</td>\n",
              "    </tr>\n",
              "    <tr>\n",
              "      <th>19381</th>\n",
              "      <td>19381</td>\n",
              "      <td>19382</td>\n",
              "      <td>906.0</td>\n",
              "      <td>250.0</td>\n",
              "      <td>1.729108</td>\n",
              "      <td>435.0</td>\n",
              "      <td>404</td>\n",
              "      <td>2.190977</td>\n",
              "      <td>0.034216</td>\n",
              "    </tr>\n",
              "    <tr>\n",
              "      <th>19382</th>\n",
              "      <td>19382</td>\n",
              "      <td>19383</td>\n",
              "      <td>260.0</td>\n",
              "      <td>107.0</td>\n",
              "      <td>2.146564</td>\n",
              "      <td>132.0</td>\n",
              "      <td>124</td>\n",
              "      <td>1.793689</td>\n",
              "      <td>0.073077</td>\n",
              "    </tr>\n",
              "  </tbody>\n",
              "</table>\n",
              "<p>19383 rows × 9 columns</p>\n",
              "</div>\n",
              "      <button class=\"colab-df-convert\" onclick=\"convertToInteractive('df-5e3a718c-52fb-4bd1-99bb-a99c8bff59ba')\"\n",
              "              title=\"Convert this dataframe to an interactive table.\"\n",
              "              style=\"display:none;\">\n",
              "        \n",
              "  <svg xmlns=\"http://www.w3.org/2000/svg\" height=\"24px\"viewBox=\"0 0 24 24\"\n",
              "       width=\"24px\">\n",
              "    <path d=\"M0 0h24v24H0V0z\" fill=\"none\"/>\n",
              "    <path d=\"M18.56 5.44l.94 2.06.94-2.06 2.06-.94-2.06-.94-.94-2.06-.94 2.06-2.06.94zm-11 1L8.5 8.5l.94-2.06 2.06-.94-2.06-.94L8.5 2.5l-.94 2.06-2.06.94zm10 10l.94 2.06.94-2.06 2.06-.94-2.06-.94-.94-2.06-.94 2.06-2.06.94z\"/><path d=\"M17.41 7.96l-1.37-1.37c-.4-.4-.92-.59-1.43-.59-.52 0-1.04.2-1.43.59L10.3 9.45l-7.72 7.72c-.78.78-.78 2.05 0 2.83L4 21.41c.39.39.9.59 1.41.59.51 0 1.02-.2 1.41-.59l7.78-7.78 2.81-2.81c.8-.78.8-2.07 0-2.86zM5.41 20L4 18.59l7.72-7.72 1.47 1.35L5.41 20z\"/>\n",
              "  </svg>\n",
              "      </button>\n",
              "      \n",
              "  <style>\n",
              "    .colab-df-container {\n",
              "      display:flex;\n",
              "      flex-wrap:wrap;\n",
              "      gap: 12px;\n",
              "    }\n",
              "\n",
              "    .colab-df-convert {\n",
              "      background-color: #E8F0FE;\n",
              "      border: none;\n",
              "      border-radius: 50%;\n",
              "      cursor: pointer;\n",
              "      display: none;\n",
              "      fill: #1967D2;\n",
              "      height: 32px;\n",
              "      padding: 0 0 0 0;\n",
              "      width: 32px;\n",
              "    }\n",
              "\n",
              "    .colab-df-convert:hover {\n",
              "      background-color: #E2EBFA;\n",
              "      box-shadow: 0px 1px 2px rgba(60, 64, 67, 0.3), 0px 1px 3px 1px rgba(60, 64, 67, 0.15);\n",
              "      fill: #174EA6;\n",
              "    }\n",
              "\n",
              "    [theme=dark] .colab-df-convert {\n",
              "      background-color: #3B4455;\n",
              "      fill: #D2E3FC;\n",
              "    }\n",
              "\n",
              "    [theme=dark] .colab-df-convert:hover {\n",
              "      background-color: #434B5C;\n",
              "      box-shadow: 0px 1px 3px 1px rgba(0, 0, 0, 0.15);\n",
              "      filter: drop-shadow(0px 1px 2px rgba(0, 0, 0, 0.3));\n",
              "      fill: #FFFFFF;\n",
              "    }\n",
              "  </style>\n",
              "\n",
              "      <script>\n",
              "        const buttonEl =\n",
              "          document.querySelector('#df-5e3a718c-52fb-4bd1-99bb-a99c8bff59ba button.colab-df-convert');\n",
              "        buttonEl.style.display =\n",
              "          google.colab.kernel.accessAllowed ? 'block' : 'none';\n",
              "\n",
              "        async function convertToInteractive(key) {\n",
              "          const element = document.querySelector('#df-5e3a718c-52fb-4bd1-99bb-a99c8bff59ba');\n",
              "          const dataTable =\n",
              "            await google.colab.kernel.invokeFunction('convertToInteractive',\n",
              "                                                     [key], {});\n",
              "          if (!dataTable) return;\n",
              "\n",
              "          const docLinkHtml = 'Like what you see? Visit the ' +\n",
              "            '<a target=\"_blank\" href=https://colab.research.google.com/notebooks/data_table.ipynb>data table notebook</a>'\n",
              "            + ' to learn more about interactive tables.';\n",
              "          element.innerHTML = '';\n",
              "          dataTable['output_type'] = 'display_data';\n",
              "          await google.colab.output.renderOutput(dataTable, element);\n",
              "          const docLink = document.createElement('div');\n",
              "          docLink.innerHTML = docLinkHtml;\n",
              "          element.appendChild(docLink);\n",
              "        }\n",
              "      </script>\n",
              "    </div>\n",
              "  </div>\n",
              "  "
            ]
          },
          "metadata": {},
          "execution_count": 29
        }
      ]
    },
    {
      "cell_type": "code",
      "source": [
        "고객['재구매율'] = 재구매율['label']"
      ],
      "metadata": {
        "id": "5YBEFsuxTVxQ"
      },
      "execution_count": null,
      "outputs": []
    },
    {
      "cell_type": "code",
      "source": [
        "고객"
      ],
      "metadata": {
        "colab": {
          "base_uri": "https://localhost:8080/",
          "height": 423
        },
        "id": "tlPOpLVpVn4i",
        "outputId": "331d1a17-4425-4bf4-b6cb-87f706632098"
      },
      "execution_count": null,
      "outputs": [
        {
          "output_type": "execute_result",
          "data": {
            "text/plain": [
              "        고객번호  구매상품수  첫-마지막      구매간격  구매건수  구매항목수  구매_평균항목수      재구매율\n",
              "0          1   1057    721  3.121212   681    255  1.552129  0.082308\n",
              "1          2   1116    726  2.547368   676    140  1.650888  0.106631\n",
              "2          3   1191    724  1.832911   490    161  2.430612  0.280437\n",
              "3          4    930    727  2.806950   533    254  1.744841  0.027957\n",
              "4          5    719    725  3.072034   426     80  1.687793  0.123783\n",
              "...      ...    ...    ...       ...   ...    ...       ...       ...\n",
              "19378  19379    584    461  2.114679   366    133  1.595628  0.095890\n",
              "19379  19380    440    385  2.655172   232    107  1.896552  0.050000\n",
              "19380  19381    805    363  1.824121   402    281  2.002488  0.029814\n",
              "19381  19382    906    344  1.694581   435    307  2.082759  0.034216\n",
              "19382  19383    260    201  2.284091   132     87  1.969697  0.073077\n",
              "\n",
              "[19383 rows x 8 columns]"
            ],
            "text/html": [
              "\n",
              "  <div id=\"df-435f583d-2edd-4747-9709-e643c89fabae\">\n",
              "    <div class=\"colab-df-container\">\n",
              "      <div>\n",
              "<style scoped>\n",
              "    .dataframe tbody tr th:only-of-type {\n",
              "        vertical-align: middle;\n",
              "    }\n",
              "\n",
              "    .dataframe tbody tr th {\n",
              "        vertical-align: top;\n",
              "    }\n",
              "\n",
              "    .dataframe thead th {\n",
              "        text-align: right;\n",
              "    }\n",
              "</style>\n",
              "<table border=\"1\" class=\"dataframe\">\n",
              "  <thead>\n",
              "    <tr style=\"text-align: right;\">\n",
              "      <th></th>\n",
              "      <th>고객번호</th>\n",
              "      <th>구매상품수</th>\n",
              "      <th>첫-마지막</th>\n",
              "      <th>구매간격</th>\n",
              "      <th>구매건수</th>\n",
              "      <th>구매항목수</th>\n",
              "      <th>구매_평균항목수</th>\n",
              "      <th>재구매율</th>\n",
              "    </tr>\n",
              "  </thead>\n",
              "  <tbody>\n",
              "    <tr>\n",
              "      <th>0</th>\n",
              "      <td>1</td>\n",
              "      <td>1057</td>\n",
              "      <td>721</td>\n",
              "      <td>3.121212</td>\n",
              "      <td>681</td>\n",
              "      <td>255</td>\n",
              "      <td>1.552129</td>\n",
              "      <td>0.082308</td>\n",
              "    </tr>\n",
              "    <tr>\n",
              "      <th>1</th>\n",
              "      <td>2</td>\n",
              "      <td>1116</td>\n",
              "      <td>726</td>\n",
              "      <td>2.547368</td>\n",
              "      <td>676</td>\n",
              "      <td>140</td>\n",
              "      <td>1.650888</td>\n",
              "      <td>0.106631</td>\n",
              "    </tr>\n",
              "    <tr>\n",
              "      <th>2</th>\n",
              "      <td>3</td>\n",
              "      <td>1191</td>\n",
              "      <td>724</td>\n",
              "      <td>1.832911</td>\n",
              "      <td>490</td>\n",
              "      <td>161</td>\n",
              "      <td>2.430612</td>\n",
              "      <td>0.280437</td>\n",
              "    </tr>\n",
              "    <tr>\n",
              "      <th>3</th>\n",
              "      <td>4</td>\n",
              "      <td>930</td>\n",
              "      <td>727</td>\n",
              "      <td>2.806950</td>\n",
              "      <td>533</td>\n",
              "      <td>254</td>\n",
              "      <td>1.744841</td>\n",
              "      <td>0.027957</td>\n",
              "    </tr>\n",
              "    <tr>\n",
              "      <th>4</th>\n",
              "      <td>5</td>\n",
              "      <td>719</td>\n",
              "      <td>725</td>\n",
              "      <td>3.072034</td>\n",
              "      <td>426</td>\n",
              "      <td>80</td>\n",
              "      <td>1.687793</td>\n",
              "      <td>0.123783</td>\n",
              "    </tr>\n",
              "    <tr>\n",
              "      <th>...</th>\n",
              "      <td>...</td>\n",
              "      <td>...</td>\n",
              "      <td>...</td>\n",
              "      <td>...</td>\n",
              "      <td>...</td>\n",
              "      <td>...</td>\n",
              "      <td>...</td>\n",
              "      <td>...</td>\n",
              "    </tr>\n",
              "    <tr>\n",
              "      <th>19378</th>\n",
              "      <td>19379</td>\n",
              "      <td>584</td>\n",
              "      <td>461</td>\n",
              "      <td>2.114679</td>\n",
              "      <td>366</td>\n",
              "      <td>133</td>\n",
              "      <td>1.595628</td>\n",
              "      <td>0.095890</td>\n",
              "    </tr>\n",
              "    <tr>\n",
              "      <th>19379</th>\n",
              "      <td>19380</td>\n",
              "      <td>440</td>\n",
              "      <td>385</td>\n",
              "      <td>2.655172</td>\n",
              "      <td>232</td>\n",
              "      <td>107</td>\n",
              "      <td>1.896552</td>\n",
              "      <td>0.050000</td>\n",
              "    </tr>\n",
              "    <tr>\n",
              "      <th>19380</th>\n",
              "      <td>19381</td>\n",
              "      <td>805</td>\n",
              "      <td>363</td>\n",
              "      <td>1.824121</td>\n",
              "      <td>402</td>\n",
              "      <td>281</td>\n",
              "      <td>2.002488</td>\n",
              "      <td>0.029814</td>\n",
              "    </tr>\n",
              "    <tr>\n",
              "      <th>19381</th>\n",
              "      <td>19382</td>\n",
              "      <td>906</td>\n",
              "      <td>344</td>\n",
              "      <td>1.694581</td>\n",
              "      <td>435</td>\n",
              "      <td>307</td>\n",
              "      <td>2.082759</td>\n",
              "      <td>0.034216</td>\n",
              "    </tr>\n",
              "    <tr>\n",
              "      <th>19382</th>\n",
              "      <td>19383</td>\n",
              "      <td>260</td>\n",
              "      <td>201</td>\n",
              "      <td>2.284091</td>\n",
              "      <td>132</td>\n",
              "      <td>87</td>\n",
              "      <td>1.969697</td>\n",
              "      <td>0.073077</td>\n",
              "    </tr>\n",
              "  </tbody>\n",
              "</table>\n",
              "<p>19383 rows × 8 columns</p>\n",
              "</div>\n",
              "      <button class=\"colab-df-convert\" onclick=\"convertToInteractive('df-435f583d-2edd-4747-9709-e643c89fabae')\"\n",
              "              title=\"Convert this dataframe to an interactive table.\"\n",
              "              style=\"display:none;\">\n",
              "        \n",
              "  <svg xmlns=\"http://www.w3.org/2000/svg\" height=\"24px\"viewBox=\"0 0 24 24\"\n",
              "       width=\"24px\">\n",
              "    <path d=\"M0 0h24v24H0V0z\" fill=\"none\"/>\n",
              "    <path d=\"M18.56 5.44l.94 2.06.94-2.06 2.06-.94-2.06-.94-.94-2.06-.94 2.06-2.06.94zm-11 1L8.5 8.5l.94-2.06 2.06-.94-2.06-.94L8.5 2.5l-.94 2.06-2.06.94zm10 10l.94 2.06.94-2.06 2.06-.94-2.06-.94-.94-2.06-.94 2.06-2.06.94z\"/><path d=\"M17.41 7.96l-1.37-1.37c-.4-.4-.92-.59-1.43-.59-.52 0-1.04.2-1.43.59L10.3 9.45l-7.72 7.72c-.78.78-.78 2.05 0 2.83L4 21.41c.39.39.9.59 1.41.59.51 0 1.02-.2 1.41-.59l7.78-7.78 2.81-2.81c.8-.78.8-2.07 0-2.86zM5.41 20L4 18.59l7.72-7.72 1.47 1.35L5.41 20z\"/>\n",
              "  </svg>\n",
              "      </button>\n",
              "      \n",
              "  <style>\n",
              "    .colab-df-container {\n",
              "      display:flex;\n",
              "      flex-wrap:wrap;\n",
              "      gap: 12px;\n",
              "    }\n",
              "\n",
              "    .colab-df-convert {\n",
              "      background-color: #E8F0FE;\n",
              "      border: none;\n",
              "      border-radius: 50%;\n",
              "      cursor: pointer;\n",
              "      display: none;\n",
              "      fill: #1967D2;\n",
              "      height: 32px;\n",
              "      padding: 0 0 0 0;\n",
              "      width: 32px;\n",
              "    }\n",
              "\n",
              "    .colab-df-convert:hover {\n",
              "      background-color: #E2EBFA;\n",
              "      box-shadow: 0px 1px 2px rgba(60, 64, 67, 0.3), 0px 1px 3px 1px rgba(60, 64, 67, 0.15);\n",
              "      fill: #174EA6;\n",
              "    }\n",
              "\n",
              "    [theme=dark] .colab-df-convert {\n",
              "      background-color: #3B4455;\n",
              "      fill: #D2E3FC;\n",
              "    }\n",
              "\n",
              "    [theme=dark] .colab-df-convert:hover {\n",
              "      background-color: #434B5C;\n",
              "      box-shadow: 0px 1px 3px 1px rgba(0, 0, 0, 0.15);\n",
              "      filter: drop-shadow(0px 1px 2px rgba(0, 0, 0, 0.3));\n",
              "      fill: #FFFFFF;\n",
              "    }\n",
              "  </style>\n",
              "\n",
              "      <script>\n",
              "        const buttonEl =\n",
              "          document.querySelector('#df-435f583d-2edd-4747-9709-e643c89fabae button.colab-df-convert');\n",
              "        buttonEl.style.display =\n",
              "          google.colab.kernel.accessAllowed ? 'block' : 'none';\n",
              "\n",
              "        async function convertToInteractive(key) {\n",
              "          const element = document.querySelector('#df-435f583d-2edd-4747-9709-e643c89fabae');\n",
              "          const dataTable =\n",
              "            await google.colab.kernel.invokeFunction('convertToInteractive',\n",
              "                                                     [key], {});\n",
              "          if (!dataTable) return;\n",
              "\n",
              "          const docLinkHtml = 'Like what you see? Visit the ' +\n",
              "            '<a target=\"_blank\" href=https://colab.research.google.com/notebooks/data_table.ipynb>data table notebook</a>'\n",
              "            + ' to learn more about interactive tables.';\n",
              "          element.innerHTML = '';\n",
              "          dataTable['output_type'] = 'display_data';\n",
              "          await google.colab.output.renderOutput(dataTable, element);\n",
              "          const docLink = document.createElement('div');\n",
              "          docLink.innerHTML = docLinkHtml;\n",
              "          element.appendChild(docLink);\n",
              "        }\n",
              "      </script>\n",
              "    </div>\n",
              "  </div>\n",
              "  "
            ]
          },
          "metadata": {},
          "execution_count": 36
        }
      ]
    },
    {
      "cell_type": "markdown",
      "source": [
        "## 고객 성별"
      ],
      "metadata": {
        "id": "LUHl_PcZ8aaT"
      }
    },
    {
      "cell_type": "code",
      "source": [
        "고객데모 = pd.read_csv('/content/drive/MyDrive/데이터강의/project_2차/data4/고객데모14.csv의 사본')"
      ],
      "metadata": {
        "id": "JJXW3oFcVox-"
      },
      "execution_count": null,
      "outputs": []
    },
    {
      "cell_type": "code",
      "source": [
        "고객데모['성별'] = np.where(고객데모['성별']=='M', 1,2)"
      ],
      "metadata": {
        "id": "mhu81rT7XKdt"
      },
      "execution_count": null,
      "outputs": []
    },
    {
      "cell_type": "markdown",
      "source": [
        "## 분기기준 구매금액 평균"
      ],
      "metadata": {
        "id": "Dz0QhpTt8ejS"
      }
    },
    {
      "cell_type": "code",
      "source": [
        "고객_구매금액_분기평균 = 고객데모[['고객번호','14_1분기_구매금액','14_2분기_구매금액','14_3분기_구매금액','14_4분기_구매금액','15_1분기_구매금액','15_2분기_구매금액','15_3분기_구매금액','15_4분기_구매금액']]"
      ],
      "metadata": {
        "id": "08DOdUKOXnlQ"
      },
      "execution_count": null,
      "outputs": []
    },
    {
      "cell_type": "code",
      "source": [
        "고객_구매금액_분기평균['분기평균'] = 고객_구매금액_분기평균.iloc[:,1:].mean(axis=1)"
      ],
      "metadata": {
        "colab": {
          "base_uri": "https://localhost:8080/"
        },
        "id": "1NOC5pniYHCh",
        "outputId": "a0bf72d9-b02f-495f-8a83-59dc5315cc87"
      },
      "execution_count": null,
      "outputs": [
        {
          "output_type": "stream",
          "name": "stderr",
          "text": [
            "<ipython-input-62-34163398170a>:1: SettingWithCopyWarning: \n",
            "A value is trying to be set on a copy of a slice from a DataFrame.\n",
            "Try using .loc[row_indexer,col_indexer] = value instead\n",
            "\n",
            "See the caveats in the documentation: https://pandas.pydata.org/pandas-docs/stable/user_guide/indexing.html#returning-a-view-versus-a-copy\n",
            "  고객_구매금액_분기평균['분기평균'] = 고객_구매금액_분기평균.iloc[:,1:].mean(axis=1)\n"
          ]
        }
      ]
    },
    {
      "cell_type": "markdown",
      "source": [
        "## 분기기준 영수증 개수 평균"
      ],
      "metadata": {
        "id": "ksbsqGuS8luU"
      }
    },
    {
      "cell_type": "code",
      "source": [
        "고객_영수증_분기평균 = 고객데모[['고객번호','14년도_1분기_영수증갯수', '14년도_2분기_영수증갯수', '14년도_3분기_영수증갯수', '14년도_4분기_영수증갯수', '15년도_1분기_영수증갯수', '15년도_2분기_영수증갯수', '15년도_3분기_영수증갯수', '15년도_4분기_영수증갯수']]"
      ],
      "metadata": {
        "id": "_9eKHTG5ZGPl"
      },
      "execution_count": null,
      "outputs": []
    },
    {
      "cell_type": "code",
      "source": [
        "고객_영수증_분기평균['분기평균'] = 고객_영수증_분기평균.iloc[:,1:].mean(axis=1)"
      ],
      "metadata": {
        "colab": {
          "base_uri": "https://localhost:8080/"
        },
        "id": "V6TIgXcuaNf-",
        "outputId": "cd4d4aee-7036-4a26-88a2-8e61ee21ea1a"
      },
      "execution_count": null,
      "outputs": [
        {
          "output_type": "stream",
          "name": "stderr",
          "text": [
            "<ipython-input-69-5e4c3e166266>:1: SettingWithCopyWarning: \n",
            "A value is trying to be set on a copy of a slice from a DataFrame.\n",
            "Try using .loc[row_indexer,col_indexer] = value instead\n",
            "\n",
            "See the caveats in the documentation: https://pandas.pydata.org/pandas-docs/stable/user_guide/indexing.html#returning-a-view-versus-a-copy\n",
            "  고객_영수증_분기평균['분기평균'] = 고객_영수증_분기평균.iloc[:,1:].mean(axis=1)\n"
          ]
        }
      ]
    },
    {
      "cell_type": "markdown",
      "source": [
        "## 연령대 코드화"
      ],
      "metadata": {
        "id": "_qZZ-CDi8xlH"
      }
    },
    {
      "cell_type": "code",
      "source": [
        "categories = ['60세이상', '55세~59세', '50세~54세', '45세~49세', '40세~44세', '35세~39세',\n",
        "       '30세~34세', '25세~29세', '20세~24세', '19세이하']\n",
        "codes = [0,1,2,3,4,5,6,7,8,9]\n",
        "cat = {}\n",
        "for i,j in zip(categories,codes):\n",
        "  cat[i]=j"
      ],
      "metadata": {
        "id": "AkK1e-lhaZKs"
      },
      "execution_count": null,
      "outputs": []
    },
    {
      "cell_type": "code",
      "source": [
        "고객데모['연령대_n'] = 고객데모['연령대']"
      ],
      "metadata": {
        "id": "8K2DFRiIbnh1"
      },
      "execution_count": null,
      "outputs": []
    },
    {
      "cell_type": "code",
      "source": [
        "고객데모['연령대_n'].replace(cat,inplace=True)"
      ],
      "metadata": {
        "id": "3ZEOFQMwcuP2"
      },
      "execution_count": null,
      "outputs": []
    },
    {
      "cell_type": "markdown",
      "source": [
        "## 최다구매물품명 컬럼\n"
      ],
      "metadata": {
        "id": "2eVpCEWP9Ft9"
      }
    },
    {
      "cell_type": "code",
      "source": [
        "최대구매 = 고객데모[['고객번호','최다구매물품명']]"
      ],
      "metadata": {
        "id": "f6iAs5D7VCsd"
      },
      "execution_count": null,
      "outputs": []
    },
    {
      "cell_type": "code",
      "source": [
        "소분류 = pd.DataFrame(prd[['소분류명','소분류코드']].value_counts().reset_index())"
      ],
      "metadata": {
        "id": "ODAugnVBWeGo"
      },
      "execution_count": null,
      "outputs": []
    },
    {
      "cell_type": "code",
      "source": [
        "소분류_li = {}\n",
        "for i,j in zip(소분류['소분류명'].values, 소분류['소분류코드'].values):\n",
        "  소분류_li[i] = j"
      ],
      "metadata": {
        "id": "aERRFxGPW9M_"
      },
      "execution_count": null,
      "outputs": []
    },
    {
      "cell_type": "code",
      "source": [
        "최대구매['소분류코드'] = 최대구매['최다구매물품명']"
      ],
      "metadata": {
        "colab": {
          "base_uri": "https://localhost:8080/"
        },
        "id": "ZimXXKY7Xsxs",
        "outputId": "e16cff67-76a3-42d4-881e-d1eaf4ffcd7a"
      },
      "execution_count": null,
      "outputs": [
        {
          "output_type": "stream",
          "name": "stderr",
          "text": [
            "<ipython-input-42-31fd61c97be9>:1: SettingWithCopyWarning: \n",
            "A value is trying to be set on a copy of a slice from a DataFrame.\n",
            "Try using .loc[row_indexer,col_indexer] = value instead\n",
            "\n",
            "See the caveats in the documentation: https://pandas.pydata.org/pandas-docs/stable/user_guide/indexing.html#returning-a-view-versus-a-copy\n",
            "  최대구매['소분류코드'] = 최대구매['최다구매물품명']\n"
          ]
        }
      ]
    },
    {
      "cell_type": "code",
      "source": [
        "최대구매['소분류코드'].replace(소분류_li, inplace=True)"
      ],
      "metadata": {
        "colab": {
          "base_uri": "https://localhost:8080/"
        },
        "id": "XDs7mrGyX08N",
        "outputId": "f9d319e2-647a-4a6a-93c0-c60b589798d7"
      },
      "execution_count": null,
      "outputs": [
        {
          "output_type": "stream",
          "name": "stderr",
          "text": [
            "/usr/local/lib/python3.8/dist-packages/pandas/core/generic.py:6619: SettingWithCopyWarning: \n",
            "A value is trying to be set on a copy of a slice from a DataFrame\n",
            "\n",
            "See the caveats in the documentation: https://pandas.pydata.org/pandas-docs/stable/user_guide/indexing.html#returning-a-view-versus-a-copy\n",
            "  return self._update_inplace(result)\n"
          ]
        }
      ]
    },
    {
      "cell_type": "markdown",
      "source": [
        "## RFM"
      ],
      "metadata": {
        "id": "bPRlz5pZ9co7"
      }
    },
    {
      "cell_type": "code",
      "source": [
        "rfm = pd.read_csv('/content/drive/MyDrive/데이터강의/project_2차/data/14+15년도_RFM.csv')"
      ],
      "metadata": {
        "id": "3k6Mn-7-9elc"
      },
      "execution_count": null,
      "outputs": []
    },
    {
      "cell_type": "markdown",
      "source": [
        "### 고객 데이터에 추가"
      ],
      "metadata": {
        "id": "PAkBcFLx9QaR"
      }
    },
    {
      "cell_type": "code",
      "source": [
        "고객.insert(1,'성별',고객데모['성별'])\n",
        "고객.insert(2,'연령대',고객데모['연령대_n'])\n",
        "고객.insert(3,'거주지역',고객데모['거주지역'])\n",
        "고객['영수증평균개수'] = 고객_영수증_분기평균['분기평균']\n",
        "고객['구매금액평균'] = 고객_구매금액_분기평균['분기평균']\n",
        "고객['최다구매물품'] = 최대구매['소분류코드']\n",
        "고객['rfm'] = rfm['RFM']\n",
        "고객['총구매금액'] = rfm['총구매금액']\n",
        "고객['총영수증개수'] = rfm['영수증개수']"
      ],
      "metadata": {
        "id": "52wXWWFw9SLb"
      },
      "execution_count": null,
      "outputs": []
    },
    {
      "cell_type": "markdown",
      "source": [
        "### 데이터 정제"
      ],
      "metadata": {
        "id": "2oz3Umjj9qGO"
      }
    },
    {
      "cell_type": "code",
      "source": [
        "고객['거주지역'].fillna(999,inplace=True)\n",
        "고객['구매간격'].fillna(0,inplace=True)"
      ],
      "metadata": {
        "id": "ZJMbsIfB9pKJ"
      },
      "execution_count": null,
      "outputs": []
    },
    {
      "cell_type": "markdown",
      "source": [
        "# 군집화"
      ],
      "metadata": {
        "id": "saZhYHy593oH"
      }
    },
    {
      "cell_type": "markdown",
      "source": [
        "## 군집화를 위한 데이터 전처리\n",
        "- MinMax"
      ],
      "metadata": {
        "id": "jlYLP7hk95VV"
      }
    },
    {
      "cell_type": "markdown",
      "source": [
        "```\n",
        "고객mm데이터 만들기\n",
        "\n",
        "- 재구매율을 제외한 나머지 컬럼 스케일링\n",
        "- 연령,거주지역,성별은 군집화에 너무 큰 특색을 만드므로 후에 제거\n",
        "``` "
      ],
      "metadata": {
        "id": "qRTtBFba-LoB"
      }
    },
    {
      "cell_type": "code",
      "source": [
        "from sklearn.preprocessing import MinMaxScaler\n",
        "mm = MinMaxScaler()\n",
        "고객_mm = mm.fit_transform(고객[['구매상품수', '첫-마지막', '구매건수', '구매항목수','영수증평균개수','구매금액평균','구매간격','구매_평균항목수', '총구매금액', '총영수증개수', '최다구매물품']])\n",
        "pd.DataFrame(고객_mm)"
      ],
      "metadata": {
        "colab": {
          "base_uri": "https://localhost:8080/",
          "height": 423
        },
        "id": "DB4zFgNaxSQZ",
        "outputId": "22eca69d-48eb-49fb-914a-45be96601242"
      },
      "execution_count": null,
      "outputs": [
        {
          "output_type": "execute_result",
          "data": {
            "text/plain": [
              "             0         1         2         3         4         5         6   \\\n",
              "0      0.102634  0.989026  0.256895  0.270789  0.256895  0.023805  0.008413   \n",
              "1      0.108368  0.995885  0.255006  0.148188  0.255006  0.027959  0.006866   \n",
              "2      0.115657  0.993141  0.184737  0.170576  0.184737  0.000882  0.004940   \n",
              "3      0.090291  0.997257  0.200982  0.269723  0.200982  0.004669  0.007566   \n",
              "4      0.069783  0.994513  0.160559  0.084222  0.160559  0.003702  0.008280   \n",
              "...         ...       ...       ...       ...       ...       ...       ...   \n",
              "19378  0.056662  0.632373  0.137892  0.140725  0.137892  0.001614  0.005700   \n",
              "19379  0.042667  0.528121  0.087269  0.113006  0.087269  0.001091  0.007157   \n",
              "19380  0.078142  0.497942  0.151492  0.298507  0.151492  0.001687  0.004917   \n",
              "19381  0.087958  0.471879  0.163959  0.326226  0.163959  0.001228  0.004568   \n",
              "19382  0.025173  0.275720  0.049490  0.091684  0.049490  0.000663  0.006157   \n",
              "\n",
              "             7         8         9         10  \n",
              "0      0.018404  0.023805  0.256895  0.812697  \n",
              "1      0.021696  0.027959  0.255006  0.671719  \n",
              "2      0.047687  0.000882  0.184737  0.714898  \n",
              "3      0.024828  0.004669  0.200982  0.812697  \n",
              "4      0.022926  0.003702  0.160559  0.689448  \n",
              "...         ...       ...       ...       ...  \n",
              "19378  0.019854  0.001614  0.137892  0.913926  \n",
              "19379  0.029885  0.001091  0.087269  0.871032  \n",
              "19380  0.033416  0.001687  0.151492  0.265656  \n",
              "19381  0.036092  0.001228  0.163959  0.408636  \n",
              "19382  0.032323  0.000663  0.049490  0.882471  \n",
              "\n",
              "[19383 rows x 11 columns]"
            ],
            "text/html": [
              "\n",
              "  <div id=\"df-f7eaf108-b74f-4d45-a2dd-613f99e02ec4\">\n",
              "    <div class=\"colab-df-container\">\n",
              "      <div>\n",
              "<style scoped>\n",
              "    .dataframe tbody tr th:only-of-type {\n",
              "        vertical-align: middle;\n",
              "    }\n",
              "\n",
              "    .dataframe tbody tr th {\n",
              "        vertical-align: top;\n",
              "    }\n",
              "\n",
              "    .dataframe thead th {\n",
              "        text-align: right;\n",
              "    }\n",
              "</style>\n",
              "<table border=\"1\" class=\"dataframe\">\n",
              "  <thead>\n",
              "    <tr style=\"text-align: right;\">\n",
              "      <th></th>\n",
              "      <th>0</th>\n",
              "      <th>1</th>\n",
              "      <th>2</th>\n",
              "      <th>3</th>\n",
              "      <th>4</th>\n",
              "      <th>5</th>\n",
              "      <th>6</th>\n",
              "      <th>7</th>\n",
              "      <th>8</th>\n",
              "      <th>9</th>\n",
              "      <th>10</th>\n",
              "    </tr>\n",
              "  </thead>\n",
              "  <tbody>\n",
              "    <tr>\n",
              "      <th>0</th>\n",
              "      <td>0.102634</td>\n",
              "      <td>0.989026</td>\n",
              "      <td>0.256895</td>\n",
              "      <td>0.270789</td>\n",
              "      <td>0.256895</td>\n",
              "      <td>0.023805</td>\n",
              "      <td>0.008413</td>\n",
              "      <td>0.018404</td>\n",
              "      <td>0.023805</td>\n",
              "      <td>0.256895</td>\n",
              "      <td>0.812697</td>\n",
              "    </tr>\n",
              "    <tr>\n",
              "      <th>1</th>\n",
              "      <td>0.108368</td>\n",
              "      <td>0.995885</td>\n",
              "      <td>0.255006</td>\n",
              "      <td>0.148188</td>\n",
              "      <td>0.255006</td>\n",
              "      <td>0.027959</td>\n",
              "      <td>0.006866</td>\n",
              "      <td>0.021696</td>\n",
              "      <td>0.027959</td>\n",
              "      <td>0.255006</td>\n",
              "      <td>0.671719</td>\n",
              "    </tr>\n",
              "    <tr>\n",
              "      <th>2</th>\n",
              "      <td>0.115657</td>\n",
              "      <td>0.993141</td>\n",
              "      <td>0.184737</td>\n",
              "      <td>0.170576</td>\n",
              "      <td>0.184737</td>\n",
              "      <td>0.000882</td>\n",
              "      <td>0.004940</td>\n",
              "      <td>0.047687</td>\n",
              "      <td>0.000882</td>\n",
              "      <td>0.184737</td>\n",
              "      <td>0.714898</td>\n",
              "    </tr>\n",
              "    <tr>\n",
              "      <th>3</th>\n",
              "      <td>0.090291</td>\n",
              "      <td>0.997257</td>\n",
              "      <td>0.200982</td>\n",
              "      <td>0.269723</td>\n",
              "      <td>0.200982</td>\n",
              "      <td>0.004669</td>\n",
              "      <td>0.007566</td>\n",
              "      <td>0.024828</td>\n",
              "      <td>0.004669</td>\n",
              "      <td>0.200982</td>\n",
              "      <td>0.812697</td>\n",
              "    </tr>\n",
              "    <tr>\n",
              "      <th>4</th>\n",
              "      <td>0.069783</td>\n",
              "      <td>0.994513</td>\n",
              "      <td>0.160559</td>\n",
              "      <td>0.084222</td>\n",
              "      <td>0.160559</td>\n",
              "      <td>0.003702</td>\n",
              "      <td>0.008280</td>\n",
              "      <td>0.022926</td>\n",
              "      <td>0.003702</td>\n",
              "      <td>0.160559</td>\n",
              "      <td>0.689448</td>\n",
              "    </tr>\n",
              "    <tr>\n",
              "      <th>...</th>\n",
              "      <td>...</td>\n",
              "      <td>...</td>\n",
              "      <td>...</td>\n",
              "      <td>...</td>\n",
              "      <td>...</td>\n",
              "      <td>...</td>\n",
              "      <td>...</td>\n",
              "      <td>...</td>\n",
              "      <td>...</td>\n",
              "      <td>...</td>\n",
              "      <td>...</td>\n",
              "    </tr>\n",
              "    <tr>\n",
              "      <th>19378</th>\n",
              "      <td>0.056662</td>\n",
              "      <td>0.632373</td>\n",
              "      <td>0.137892</td>\n",
              "      <td>0.140725</td>\n",
              "      <td>0.137892</td>\n",
              "      <td>0.001614</td>\n",
              "      <td>0.005700</td>\n",
              "      <td>0.019854</td>\n",
              "      <td>0.001614</td>\n",
              "      <td>0.137892</td>\n",
              "      <td>0.913926</td>\n",
              "    </tr>\n",
              "    <tr>\n",
              "      <th>19379</th>\n",
              "      <td>0.042667</td>\n",
              "      <td>0.528121</td>\n",
              "      <td>0.087269</td>\n",
              "      <td>0.113006</td>\n",
              "      <td>0.087269</td>\n",
              "      <td>0.001091</td>\n",
              "      <td>0.007157</td>\n",
              "      <td>0.029885</td>\n",
              "      <td>0.001091</td>\n",
              "      <td>0.087269</td>\n",
              "      <td>0.871032</td>\n",
              "    </tr>\n",
              "    <tr>\n",
              "      <th>19380</th>\n",
              "      <td>0.078142</td>\n",
              "      <td>0.497942</td>\n",
              "      <td>0.151492</td>\n",
              "      <td>0.298507</td>\n",
              "      <td>0.151492</td>\n",
              "      <td>0.001687</td>\n",
              "      <td>0.004917</td>\n",
              "      <td>0.033416</td>\n",
              "      <td>0.001687</td>\n",
              "      <td>0.151492</td>\n",
              "      <td>0.265656</td>\n",
              "    </tr>\n",
              "    <tr>\n",
              "      <th>19381</th>\n",
              "      <td>0.087958</td>\n",
              "      <td>0.471879</td>\n",
              "      <td>0.163959</td>\n",
              "      <td>0.326226</td>\n",
              "      <td>0.163959</td>\n",
              "      <td>0.001228</td>\n",
              "      <td>0.004568</td>\n",
              "      <td>0.036092</td>\n",
              "      <td>0.001228</td>\n",
              "      <td>0.163959</td>\n",
              "      <td>0.408636</td>\n",
              "    </tr>\n",
              "    <tr>\n",
              "      <th>19382</th>\n",
              "      <td>0.025173</td>\n",
              "      <td>0.275720</td>\n",
              "      <td>0.049490</td>\n",
              "      <td>0.091684</td>\n",
              "      <td>0.049490</td>\n",
              "      <td>0.000663</td>\n",
              "      <td>0.006157</td>\n",
              "      <td>0.032323</td>\n",
              "      <td>0.000663</td>\n",
              "      <td>0.049490</td>\n",
              "      <td>0.882471</td>\n",
              "    </tr>\n",
              "  </tbody>\n",
              "</table>\n",
              "<p>19383 rows × 11 columns</p>\n",
              "</div>\n",
              "      <button class=\"colab-df-convert\" onclick=\"convertToInteractive('df-f7eaf108-b74f-4d45-a2dd-613f99e02ec4')\"\n",
              "              title=\"Convert this dataframe to an interactive table.\"\n",
              "              style=\"display:none;\">\n",
              "        \n",
              "  <svg xmlns=\"http://www.w3.org/2000/svg\" height=\"24px\"viewBox=\"0 0 24 24\"\n",
              "       width=\"24px\">\n",
              "    <path d=\"M0 0h24v24H0V0z\" fill=\"none\"/>\n",
              "    <path d=\"M18.56 5.44l.94 2.06.94-2.06 2.06-.94-2.06-.94-.94-2.06-.94 2.06-2.06.94zm-11 1L8.5 8.5l.94-2.06 2.06-.94-2.06-.94L8.5 2.5l-.94 2.06-2.06.94zm10 10l.94 2.06.94-2.06 2.06-.94-2.06-.94-.94-2.06-.94 2.06-2.06.94z\"/><path d=\"M17.41 7.96l-1.37-1.37c-.4-.4-.92-.59-1.43-.59-.52 0-1.04.2-1.43.59L10.3 9.45l-7.72 7.72c-.78.78-.78 2.05 0 2.83L4 21.41c.39.39.9.59 1.41.59.51 0 1.02-.2 1.41-.59l7.78-7.78 2.81-2.81c.8-.78.8-2.07 0-2.86zM5.41 20L4 18.59l7.72-7.72 1.47 1.35L5.41 20z\"/>\n",
              "  </svg>\n",
              "      </button>\n",
              "      \n",
              "  <style>\n",
              "    .colab-df-container {\n",
              "      display:flex;\n",
              "      flex-wrap:wrap;\n",
              "      gap: 12px;\n",
              "    }\n",
              "\n",
              "    .colab-df-convert {\n",
              "      background-color: #E8F0FE;\n",
              "      border: none;\n",
              "      border-radius: 50%;\n",
              "      cursor: pointer;\n",
              "      display: none;\n",
              "      fill: #1967D2;\n",
              "      height: 32px;\n",
              "      padding: 0 0 0 0;\n",
              "      width: 32px;\n",
              "    }\n",
              "\n",
              "    .colab-df-convert:hover {\n",
              "      background-color: #E2EBFA;\n",
              "      box-shadow: 0px 1px 2px rgba(60, 64, 67, 0.3), 0px 1px 3px 1px rgba(60, 64, 67, 0.15);\n",
              "      fill: #174EA6;\n",
              "    }\n",
              "\n",
              "    [theme=dark] .colab-df-convert {\n",
              "      background-color: #3B4455;\n",
              "      fill: #D2E3FC;\n",
              "    }\n",
              "\n",
              "    [theme=dark] .colab-df-convert:hover {\n",
              "      background-color: #434B5C;\n",
              "      box-shadow: 0px 1px 3px 1px rgba(0, 0, 0, 0.15);\n",
              "      filter: drop-shadow(0px 1px 2px rgba(0, 0, 0, 0.3));\n",
              "      fill: #FFFFFF;\n",
              "    }\n",
              "  </style>\n",
              "\n",
              "      <script>\n",
              "        const buttonEl =\n",
              "          document.querySelector('#df-f7eaf108-b74f-4d45-a2dd-613f99e02ec4 button.colab-df-convert');\n",
              "        buttonEl.style.display =\n",
              "          google.colab.kernel.accessAllowed ? 'block' : 'none';\n",
              "\n",
              "        async function convertToInteractive(key) {\n",
              "          const element = document.querySelector('#df-f7eaf108-b74f-4d45-a2dd-613f99e02ec4');\n",
              "          const dataTable =\n",
              "            await google.colab.kernel.invokeFunction('convertToInteractive',\n",
              "                                                     [key], {});\n",
              "          if (!dataTable) return;\n",
              "\n",
              "          const docLinkHtml = 'Like what you see? Visit the ' +\n",
              "            '<a target=\"_blank\" href=https://colab.research.google.com/notebooks/data_table.ipynb>data table notebook</a>'\n",
              "            + ' to learn more about interactive tables.';\n",
              "          element.innerHTML = '';\n",
              "          dataTable['output_type'] = 'display_data';\n",
              "          await google.colab.output.renderOutput(dataTable, element);\n",
              "          const docLink = document.createElement('div');\n",
              "          docLink.innerHTML = docLinkHtml;\n",
              "          element.appendChild(docLink);\n",
              "        }\n",
              "      </script>\n",
              "    </div>\n",
              "  </div>\n",
              "  "
            ]
          },
          "metadata": {},
          "execution_count": 189
        }
      ]
    },
    {
      "cell_type": "code",
      "source": [
        "고객_mm = pd.DataFrame(고객_mm, columns = ['구매상품수', '첫-마지막', '구매건수', '구매항목수','영수증평균개수','구매금액평균','구매간격','구매_평균항목수', '총구매금액', '총영수증개수', '최다구매물품'])"
      ],
      "metadata": {
        "id": "xS0C0I0Hzhbq"
      },
      "execution_count": null,
      "outputs": []
    },
    {
      "cell_type": "code",
      "source": [
        "고객_mm['재구매율'] = 고객['재구매율']"
      ],
      "metadata": {
        "id": "hCTLfRQI-MCN"
      },
      "execution_count": null,
      "outputs": []
    },
    {
      "cell_type": "code",
      "source": [
        "고객_mm"
      ],
      "metadata": {
        "colab": {
          "base_uri": "https://localhost:8080/",
          "height": 485
        },
        "id": "m4hqnAFvMjkM",
        "outputId": "cb2411ec-7d63-43da-a032-5acfe42a034b"
      },
      "execution_count": null,
      "outputs": [
        {
          "output_type": "execute_result",
          "data": {
            "text/plain": [
              "          구매상품수     첫-마지막      구매건수     구매항목수   영수증평균개수    구매금액평균      구매간격  \\\n",
              "0      0.102634  0.989026  0.256895  0.270789  0.256895  0.023805  0.008413   \n",
              "1      0.108368  0.995885  0.255006  0.148188  0.255006  0.027959  0.006866   \n",
              "2      0.115657  0.993141  0.184737  0.170576  0.184737  0.000882  0.004940   \n",
              "3      0.090291  0.997257  0.200982  0.269723  0.200982  0.004669  0.007566   \n",
              "4      0.069783  0.994513  0.160559  0.084222  0.160559  0.003702  0.008280   \n",
              "...         ...       ...       ...       ...       ...       ...       ...   \n",
              "19378  0.056662  0.632373  0.137892  0.140725  0.137892  0.001614  0.005700   \n",
              "19379  0.042667  0.528121  0.087269  0.113006  0.087269  0.001091  0.007157   \n",
              "19380  0.078142  0.497942  0.151492  0.298507  0.151492  0.001687  0.004917   \n",
              "19381  0.087958  0.471879  0.163959  0.326226  0.163959  0.001228  0.004568   \n",
              "19382  0.025173  0.275720  0.049490  0.091684  0.049490  0.000663  0.006157   \n",
              "\n",
              "       구매_평균항목수     총구매금액    총영수증개수    최다구매물품      재구매율  \n",
              "0      0.018404  0.023805  0.256895  0.812697  0.082308  \n",
              "1      0.021696  0.027959  0.255006  0.671719  0.106631  \n",
              "2      0.047687  0.000882  0.184737  0.714898  0.280437  \n",
              "3      0.024828  0.004669  0.200982  0.812697  0.027957  \n",
              "4      0.022926  0.003702  0.160559  0.689448  0.123783  \n",
              "...         ...       ...       ...       ...       ...  \n",
              "19378  0.019854  0.001614  0.137892  0.913926  0.095890  \n",
              "19379  0.029885  0.001091  0.087269  0.871032  0.050000  \n",
              "19380  0.033416  0.001687  0.151492  0.265656  0.029814  \n",
              "19381  0.036092  0.001228  0.163959  0.408636  0.034216  \n",
              "19382  0.032323  0.000663  0.049490  0.882471  0.073077  \n",
              "\n",
              "[19383 rows x 12 columns]"
            ],
            "text/html": [
              "\n",
              "  <div id=\"df-6304ab9d-8651-4497-bc54-46587edda594\">\n",
              "    <div class=\"colab-df-container\">\n",
              "      <div>\n",
              "<style scoped>\n",
              "    .dataframe tbody tr th:only-of-type {\n",
              "        vertical-align: middle;\n",
              "    }\n",
              "\n",
              "    .dataframe tbody tr th {\n",
              "        vertical-align: top;\n",
              "    }\n",
              "\n",
              "    .dataframe thead th {\n",
              "        text-align: right;\n",
              "    }\n",
              "</style>\n",
              "<table border=\"1\" class=\"dataframe\">\n",
              "  <thead>\n",
              "    <tr style=\"text-align: right;\">\n",
              "      <th></th>\n",
              "      <th>구매상품수</th>\n",
              "      <th>첫-마지막</th>\n",
              "      <th>구매건수</th>\n",
              "      <th>구매항목수</th>\n",
              "      <th>영수증평균개수</th>\n",
              "      <th>구매금액평균</th>\n",
              "      <th>구매간격</th>\n",
              "      <th>구매_평균항목수</th>\n",
              "      <th>총구매금액</th>\n",
              "      <th>총영수증개수</th>\n",
              "      <th>최다구매물품</th>\n",
              "      <th>재구매율</th>\n",
              "    </tr>\n",
              "  </thead>\n",
              "  <tbody>\n",
              "    <tr>\n",
              "      <th>0</th>\n",
              "      <td>0.102634</td>\n",
              "      <td>0.989026</td>\n",
              "      <td>0.256895</td>\n",
              "      <td>0.270789</td>\n",
              "      <td>0.256895</td>\n",
              "      <td>0.023805</td>\n",
              "      <td>0.008413</td>\n",
              "      <td>0.018404</td>\n",
              "      <td>0.023805</td>\n",
              "      <td>0.256895</td>\n",
              "      <td>0.812697</td>\n",
              "      <td>0.082308</td>\n",
              "    </tr>\n",
              "    <tr>\n",
              "      <th>1</th>\n",
              "      <td>0.108368</td>\n",
              "      <td>0.995885</td>\n",
              "      <td>0.255006</td>\n",
              "      <td>0.148188</td>\n",
              "      <td>0.255006</td>\n",
              "      <td>0.027959</td>\n",
              "      <td>0.006866</td>\n",
              "      <td>0.021696</td>\n",
              "      <td>0.027959</td>\n",
              "      <td>0.255006</td>\n",
              "      <td>0.671719</td>\n",
              "      <td>0.106631</td>\n",
              "    </tr>\n",
              "    <tr>\n",
              "      <th>2</th>\n",
              "      <td>0.115657</td>\n",
              "      <td>0.993141</td>\n",
              "      <td>0.184737</td>\n",
              "      <td>0.170576</td>\n",
              "      <td>0.184737</td>\n",
              "      <td>0.000882</td>\n",
              "      <td>0.004940</td>\n",
              "      <td>0.047687</td>\n",
              "      <td>0.000882</td>\n",
              "      <td>0.184737</td>\n",
              "      <td>0.714898</td>\n",
              "      <td>0.280437</td>\n",
              "    </tr>\n",
              "    <tr>\n",
              "      <th>3</th>\n",
              "      <td>0.090291</td>\n",
              "      <td>0.997257</td>\n",
              "      <td>0.200982</td>\n",
              "      <td>0.269723</td>\n",
              "      <td>0.200982</td>\n",
              "      <td>0.004669</td>\n",
              "      <td>0.007566</td>\n",
              "      <td>0.024828</td>\n",
              "      <td>0.004669</td>\n",
              "      <td>0.200982</td>\n",
              "      <td>0.812697</td>\n",
              "      <td>0.027957</td>\n",
              "    </tr>\n",
              "    <tr>\n",
              "      <th>4</th>\n",
              "      <td>0.069783</td>\n",
              "      <td>0.994513</td>\n",
              "      <td>0.160559</td>\n",
              "      <td>0.084222</td>\n",
              "      <td>0.160559</td>\n",
              "      <td>0.003702</td>\n",
              "      <td>0.008280</td>\n",
              "      <td>0.022926</td>\n",
              "      <td>0.003702</td>\n",
              "      <td>0.160559</td>\n",
              "      <td>0.689448</td>\n",
              "      <td>0.123783</td>\n",
              "    </tr>\n",
              "    <tr>\n",
              "      <th>...</th>\n",
              "      <td>...</td>\n",
              "      <td>...</td>\n",
              "      <td>...</td>\n",
              "      <td>...</td>\n",
              "      <td>...</td>\n",
              "      <td>...</td>\n",
              "      <td>...</td>\n",
              "      <td>...</td>\n",
              "      <td>...</td>\n",
              "      <td>...</td>\n",
              "      <td>...</td>\n",
              "      <td>...</td>\n",
              "    </tr>\n",
              "    <tr>\n",
              "      <th>19378</th>\n",
              "      <td>0.056662</td>\n",
              "      <td>0.632373</td>\n",
              "      <td>0.137892</td>\n",
              "      <td>0.140725</td>\n",
              "      <td>0.137892</td>\n",
              "      <td>0.001614</td>\n",
              "      <td>0.005700</td>\n",
              "      <td>0.019854</td>\n",
              "      <td>0.001614</td>\n",
              "      <td>0.137892</td>\n",
              "      <td>0.913926</td>\n",
              "      <td>0.095890</td>\n",
              "    </tr>\n",
              "    <tr>\n",
              "      <th>19379</th>\n",
              "      <td>0.042667</td>\n",
              "      <td>0.528121</td>\n",
              "      <td>0.087269</td>\n",
              "      <td>0.113006</td>\n",
              "      <td>0.087269</td>\n",
              "      <td>0.001091</td>\n",
              "      <td>0.007157</td>\n",
              "      <td>0.029885</td>\n",
              "      <td>0.001091</td>\n",
              "      <td>0.087269</td>\n",
              "      <td>0.871032</td>\n",
              "      <td>0.050000</td>\n",
              "    </tr>\n",
              "    <tr>\n",
              "      <th>19380</th>\n",
              "      <td>0.078142</td>\n",
              "      <td>0.497942</td>\n",
              "      <td>0.151492</td>\n",
              "      <td>0.298507</td>\n",
              "      <td>0.151492</td>\n",
              "      <td>0.001687</td>\n",
              "      <td>0.004917</td>\n",
              "      <td>0.033416</td>\n",
              "      <td>0.001687</td>\n",
              "      <td>0.151492</td>\n",
              "      <td>0.265656</td>\n",
              "      <td>0.029814</td>\n",
              "    </tr>\n",
              "    <tr>\n",
              "      <th>19381</th>\n",
              "      <td>0.087958</td>\n",
              "      <td>0.471879</td>\n",
              "      <td>0.163959</td>\n",
              "      <td>0.326226</td>\n",
              "      <td>0.163959</td>\n",
              "      <td>0.001228</td>\n",
              "      <td>0.004568</td>\n",
              "      <td>0.036092</td>\n",
              "      <td>0.001228</td>\n",
              "      <td>0.163959</td>\n",
              "      <td>0.408636</td>\n",
              "      <td>0.034216</td>\n",
              "    </tr>\n",
              "    <tr>\n",
              "      <th>19382</th>\n",
              "      <td>0.025173</td>\n",
              "      <td>0.275720</td>\n",
              "      <td>0.049490</td>\n",
              "      <td>0.091684</td>\n",
              "      <td>0.049490</td>\n",
              "      <td>0.000663</td>\n",
              "      <td>0.006157</td>\n",
              "      <td>0.032323</td>\n",
              "      <td>0.000663</td>\n",
              "      <td>0.049490</td>\n",
              "      <td>0.882471</td>\n",
              "      <td>0.073077</td>\n",
              "    </tr>\n",
              "  </tbody>\n",
              "</table>\n",
              "<p>19383 rows × 12 columns</p>\n",
              "</div>\n",
              "      <button class=\"colab-df-convert\" onclick=\"convertToInteractive('df-6304ab9d-8651-4497-bc54-46587edda594')\"\n",
              "              title=\"Convert this dataframe to an interactive table.\"\n",
              "              style=\"display:none;\">\n",
              "        \n",
              "  <svg xmlns=\"http://www.w3.org/2000/svg\" height=\"24px\"viewBox=\"0 0 24 24\"\n",
              "       width=\"24px\">\n",
              "    <path d=\"M0 0h24v24H0V0z\" fill=\"none\"/>\n",
              "    <path d=\"M18.56 5.44l.94 2.06.94-2.06 2.06-.94-2.06-.94-.94-2.06-.94 2.06-2.06.94zm-11 1L8.5 8.5l.94-2.06 2.06-.94-2.06-.94L8.5 2.5l-.94 2.06-2.06.94zm10 10l.94 2.06.94-2.06 2.06-.94-2.06-.94-.94-2.06-.94 2.06-2.06.94z\"/><path d=\"M17.41 7.96l-1.37-1.37c-.4-.4-.92-.59-1.43-.59-.52 0-1.04.2-1.43.59L10.3 9.45l-7.72 7.72c-.78.78-.78 2.05 0 2.83L4 21.41c.39.39.9.59 1.41.59.51 0 1.02-.2 1.41-.59l7.78-7.78 2.81-2.81c.8-.78.8-2.07 0-2.86zM5.41 20L4 18.59l7.72-7.72 1.47 1.35L5.41 20z\"/>\n",
              "  </svg>\n",
              "      </button>\n",
              "      \n",
              "  <style>\n",
              "    .colab-df-container {\n",
              "      display:flex;\n",
              "      flex-wrap:wrap;\n",
              "      gap: 12px;\n",
              "    }\n",
              "\n",
              "    .colab-df-convert {\n",
              "      background-color: #E8F0FE;\n",
              "      border: none;\n",
              "      border-radius: 50%;\n",
              "      cursor: pointer;\n",
              "      display: none;\n",
              "      fill: #1967D2;\n",
              "      height: 32px;\n",
              "      padding: 0 0 0 0;\n",
              "      width: 32px;\n",
              "    }\n",
              "\n",
              "    .colab-df-convert:hover {\n",
              "      background-color: #E2EBFA;\n",
              "      box-shadow: 0px 1px 2px rgba(60, 64, 67, 0.3), 0px 1px 3px 1px rgba(60, 64, 67, 0.15);\n",
              "      fill: #174EA6;\n",
              "    }\n",
              "\n",
              "    [theme=dark] .colab-df-convert {\n",
              "      background-color: #3B4455;\n",
              "      fill: #D2E3FC;\n",
              "    }\n",
              "\n",
              "    [theme=dark] .colab-df-convert:hover {\n",
              "      background-color: #434B5C;\n",
              "      box-shadow: 0px 1px 3px 1px rgba(0, 0, 0, 0.15);\n",
              "      filter: drop-shadow(0px 1px 2px rgba(0, 0, 0, 0.3));\n",
              "      fill: #FFFFFF;\n",
              "    }\n",
              "  </style>\n",
              "\n",
              "      <script>\n",
              "        const buttonEl =\n",
              "          document.querySelector('#df-6304ab9d-8651-4497-bc54-46587edda594 button.colab-df-convert');\n",
              "        buttonEl.style.display =\n",
              "          google.colab.kernel.accessAllowed ? 'block' : 'none';\n",
              "\n",
              "        async function convertToInteractive(key) {\n",
              "          const element = document.querySelector('#df-6304ab9d-8651-4497-bc54-46587edda594');\n",
              "          const dataTable =\n",
              "            await google.colab.kernel.invokeFunction('convertToInteractive',\n",
              "                                                     [key], {});\n",
              "          if (!dataTable) return;\n",
              "\n",
              "          const docLinkHtml = 'Like what you see? Visit the ' +\n",
              "            '<a target=\"_blank\" href=https://colab.research.google.com/notebooks/data_table.ipynb>data table notebook</a>'\n",
              "            + ' to learn more about interactive tables.';\n",
              "          element.innerHTML = '';\n",
              "          dataTable['output_type'] = 'display_data';\n",
              "          await google.colab.output.renderOutput(dataTable, element);\n",
              "          const docLink = document.createElement('div');\n",
              "          docLink.innerHTML = docLinkHtml;\n",
              "          element.appendChild(docLink);\n",
              "        }\n",
              "      </script>\n",
              "    </div>\n",
              "  </div>\n",
              "  "
            ]
          },
          "metadata": {},
          "execution_count": 16
        }
      ]
    },
    {
      "cell_type": "markdown",
      "source": [
        "## K_Means"
      ],
      "metadata": {
        "id": "kJj0EU6A-oTE"
      }
    },
    {
      "cell_type": "code",
      "source": [
        "import matplotlib.pyplot as plt\n",
        "\n",
        "from sklearn.cluster import KMeans\n",
        "\n",
        "kmeans = KMeans(n_clusters=3, init ='k-means++', max_iter = 300, random_state=0)\n",
        "kmeans.fit(고객_mm)\n",
        "#------------------------------#\n",
        "\n",
        "고객_mm['cluster'] = kmeans.labels_\n",
        "print(고객_mm['cluster'].value_counts())"
      ],
      "metadata": {
        "colab": {
          "base_uri": "https://localhost:8080/"
        },
        "id": "ORj2qu9q1hxf",
        "outputId": "21d1c125-85bc-47b4-c727-ebaf47a8b174"
      },
      "execution_count": null,
      "outputs": [
        {
          "output_type": "stream",
          "name": "stdout",
          "text": [
            "1    6795\n",
            "0    6301\n",
            "2    6287\n",
            "Name: cluster, dtype: int64\n"
          ]
        }
      ]
    },
    {
      "cell_type": "markdown",
      "source": [
        "### 시각화를 위한 차원 축소"
      ],
      "metadata": {
        "id": "cxrw9Yf_-yJ4"
      }
    },
    {
      "cell_type": "code",
      "source": [
        "from sklearn.decomposition import PCA\n",
        "from sklearn.decomposition import PCA\n",
        "\n",
        "X = 고객_mm.iloc[:,:-1]\n",
        "\n",
        "#객체\n",
        "pca = PCA(n_components=3)\n",
        "\n",
        "#적용\n",
        "pca.fit(X)\n",
        "x_pca = pca.transform(X)\n",
        "x_pca"
      ],
      "metadata": {
        "id": "Yyh-MEO21qM5",
        "colab": {
          "base_uri": "https://localhost:8080/"
        },
        "outputId": "c53e5a2e-2c76-4a1a-ff99-8d1d37ba977c"
      },
      "execution_count": null,
      "outputs": [
        {
          "output_type": "execute_result",
          "data": {
            "text/plain": [
              "array([[-0.2779995 , -0.07353309,  0.09577063],\n",
              "       [-0.14053762, -0.19012583,  0.12177113],\n",
              "       [-0.18627459, -0.20824306,  0.01213758],\n",
              "       ...,\n",
              "       [ 0.2587817 , -0.14059567, -0.16881961],\n",
              "       [ 0.11761806, -0.10462801, -0.15264333],\n",
              "       [-0.37177879, -0.37527932, -0.29779994]])"
            ]
          },
          "metadata": {},
          "execution_count": 193
        }
      ]
    },
    {
      "cell_type": "code",
      "source": [
        "pca.explained_variance_ratio_"
      ],
      "metadata": {
        "colab": {
          "base_uri": "https://localhost:8080/"
        },
        "id": "bwbnDSatafOI",
        "outputId": "f54818fe-5468-467a-f1a0-7ac5a36b914e"
      },
      "execution_count": null,
      "outputs": [
        {
          "output_type": "execute_result",
          "data": {
            "text/plain": [
              "array([0.56053452, 0.2746218 , 0.09449998])"
            ]
          },
          "metadata": {},
          "execution_count": 194
        }
      ]
    },
    {
      "cell_type": "code",
      "source": [
        "#x_pca를 보기 쉽게 데이터프레임으로 만들기\n",
        "pca_df = pd.DataFrame(x_pca)\n",
        "pca_df['cluster'] = 고객_mm['cluster']"
      ],
      "metadata": {
        "id": "i0WWEyY4ACj5"
      },
      "execution_count": null,
      "outputs": []
    },
    {
      "cell_type": "code",
      "source": [
        "from mpl_toolkits.mplot3d import axes3d\n",
        "import matplotlib.pyplot as plt\n",
        "from matplotlib.colors import ListedColormap\n",
        "fig = plt.figure(figsize=(10,8))\n",
        "ax = fig.add_subplot(projection='3d')\n",
        "ax.scatter(x_pca[:,0],x_pca[:,1],x_pca[:,2],c=pca_df['cluster'], marker='o', cmap='Paired', alpha=1)"
      ],
      "metadata": {
        "colab": {
          "base_uri": "https://localhost:8080/",
          "height": 483
        },
        "id": "Cf4Ao15jb7UI",
        "outputId": "870c9fbc-b665-49f5-c368-57da987dce51"
      },
      "execution_count": null,
      "outputs": [
        {
          "output_type": "execute_result",
          "data": {
            "text/plain": [
              "<mpl_toolkits.mplot3d.art3d.Path3DCollection at 0x7f67084cd730>"
            ]
          },
          "metadata": {},
          "execution_count": 43
        },
        {
          "output_type": "display_data",
          "data": {
            "text/plain": [
              "<Figure size 720x576 with 1 Axes>"
            ],
            "image/png": "[encoded data removed]"
          },
          "metadata": {
            "needs_background": "light"
          }
        }
      ]
    },
    {
      "cell_type": "markdown",
      "source": [
        "### 실루엣 계수 확인"
      ],
      "metadata": {
        "id": "glnJD5f-_LcP"
      }
    },
    {
      "cell_type": "code",
      "source": [
        "from sklearn.metrics import silhouette_samples, silhouette_score\n",
        "\n",
        "고객_mm['silhouette_coeff'] = silhouette_samples(고객_mm.iloc[:,:-1],고객_mm['cluster'])\n",
        "score = silhouette_score(고객_mm.iloc[:,:-1],고객_mm['cluster'])\n",
        "#---------------------------------------#\n",
        "print('평균 실루엣 score:',score)\n",
        "고객_mm"
      ],
      "metadata": {
        "colab": {
          "base_uri": "https://localhost:8080/",
          "height": 522
        },
        "id": "hc6TMs26NiGh",
        "outputId": "a79a48eb-fc64-4b31-da59-48be08304482"
      },
      "execution_count": null,
      "outputs": [
        {
          "output_type": "stream",
          "name": "stdout",
          "text": [
            "평균 실루엣 score: 0.7521851837143642\n"
          ]
        },
        {
          "output_type": "execute_result",
          "data": {
            "text/plain": [
              "          구매상품수     첫-마지막      구매건수     구매항목수   영수증평균개수    구매금액평균      구매간격  \\\n",
              "0      0.102634  0.989026  0.256895  0.270789  0.256895  0.023805  0.008413   \n",
              "1      0.108368  0.995885  0.255006  0.148188  0.255006  0.027959  0.006866   \n",
              "2      0.115657  0.993141  0.184737  0.170576  0.184737  0.000882  0.004940   \n",
              "3      0.090291  0.997257  0.200982  0.269723  0.200982  0.004669  0.007566   \n",
              "4      0.069783  0.994513  0.160559  0.084222  0.160559  0.003702  0.008280   \n",
              "...         ...       ...       ...       ...       ...       ...       ...   \n",
              "19378  0.056662  0.632373  0.137892  0.140725  0.137892  0.001614  0.005700   \n",
              "19379  0.042667  0.528121  0.087269  0.113006  0.087269  0.001091  0.007157   \n",
              "19380  0.078142  0.497942  0.151492  0.298507  0.151492  0.001687  0.004917   \n",
              "19381  0.087958  0.471879  0.163959  0.326226  0.163959  0.001228  0.004568   \n",
              "19382  0.025173  0.275720  0.049490  0.091684  0.049490  0.000663  0.006157   \n",
              "\n",
              "       구매_평균항목수     총구매금액    총영수증개수    최다구매물품      재구매율  cluster  \\\n",
              "0      0.018404  0.023805  0.256895  0.812697  0.082308        2   \n",
              "1      0.021696  0.027959  0.255006  0.671719  0.106631        2   \n",
              "2      0.047687  0.000882  0.184737  0.714898  0.280437        2   \n",
              "3      0.024828  0.004669  0.200982  0.812697  0.027957        2   \n",
              "4      0.022926  0.003702  0.160559  0.689448  0.123783        2   \n",
              "...         ...       ...       ...       ...       ...      ...   \n",
              "19378  0.019854  0.001614  0.137892  0.913926  0.095890        2   \n",
              "19379  0.029885  0.001091  0.087269  0.871032  0.050000        2   \n",
              "19380  0.033416  0.001687  0.151492  0.265656  0.029814        1   \n",
              "19381  0.036092  0.001228  0.163959  0.408636  0.034216        1   \n",
              "19382  0.032323  0.000663  0.049490  0.882471  0.073077        2   \n",
              "\n",
              "       silhouette_coeff  \n",
              "0              0.799418  \n",
              "1              0.810418  \n",
              "2              0.766502  \n",
              "3              0.808103  \n",
              "4              0.801315  \n",
              "...                 ...  \n",
              "19378          0.648435  \n",
              "19379          0.584582  \n",
              "19380          0.524729  \n",
              "19381          0.475172  \n",
              "19382          0.459367  \n",
              "\n",
              "[19383 rows x 14 columns]"
            ],
            "text/html": [
              "\n",
              "  <div id=\"df-1d49c365-cd6c-455e-915e-15abdae35e79\">\n",
              "    <div class=\"colab-df-container\">\n",
              "      <div>\n",
              "<style scoped>\n",
              "    .dataframe tbody tr th:only-of-type {\n",
              "        vertical-align: middle;\n",
              "    }\n",
              "\n",
              "    .dataframe tbody tr th {\n",
              "        vertical-align: top;\n",
              "    }\n",
              "\n",
              "    .dataframe thead th {\n",
              "        text-align: right;\n",
              "    }\n",
              "</style>\n",
              "<table border=\"1\" class=\"dataframe\">\n",
              "  <thead>\n",
              "    <tr style=\"text-align: right;\">\n",
              "      <th></th>\n",
              "      <th>구매상품수</th>\n",
              "      <th>첫-마지막</th>\n",
              "      <th>구매건수</th>\n",
              "      <th>구매항목수</th>\n",
              "      <th>영수증평균개수</th>\n",
              "      <th>구매금액평균</th>\n",
              "      <th>구매간격</th>\n",
              "      <th>구매_평균항목수</th>\n",
              "      <th>총구매금액</th>\n",
              "      <th>총영수증개수</th>\n",
              "      <th>최다구매물품</th>\n",
              "      <th>재구매율</th>\n",
              "      <th>cluster</th>\n",
              "      <th>silhouette_coeff</th>\n",
              "    </tr>\n",
              "  </thead>\n",
              "  <tbody>\n",
              "    <tr>\n",
              "      <th>0</th>\n",
              "      <td>0.102634</td>\n",
              "      <td>0.989026</td>\n",
              "      <td>0.256895</td>\n",
              "      <td>0.270789</td>\n",
              "      <td>0.256895</td>\n",
              "      <td>0.023805</td>\n",
              "      <td>0.008413</td>\n",
              "      <td>0.018404</td>\n",
              "      <td>0.023805</td>\n",
              "      <td>0.256895</td>\n",
              "      <td>0.812697</td>\n",
              "      <td>0.082308</td>\n",
              "      <td>2</td>\n",
              "      <td>0.799418</td>\n",
              "    </tr>\n",
              "    <tr>\n",
              "      <th>1</th>\n",
              "      <td>0.108368</td>\n",
              "      <td>0.995885</td>\n",
              "      <td>0.255006</td>\n",
              "      <td>0.148188</td>\n",
              "      <td>0.255006</td>\n",
              "      <td>0.027959</td>\n",
              "      <td>0.006866</td>\n",
              "      <td>0.021696</td>\n",
              "      <td>0.027959</td>\n",
              "      <td>0.255006</td>\n",
              "      <td>0.671719</td>\n",
              "      <td>0.106631</td>\n",
              "      <td>2</td>\n",
              "      <td>0.810418</td>\n",
              "    </tr>\n",
              "    <tr>\n",
              "      <th>2</th>\n",
              "      <td>0.115657</td>\n",
              "      <td>0.993141</td>\n",
              "      <td>0.184737</td>\n",
              "      <td>0.170576</td>\n",
              "      <td>0.184737</td>\n",
              "      <td>0.000882</td>\n",
              "      <td>0.004940</td>\n",
              "      <td>0.047687</td>\n",
              "      <td>0.000882</td>\n",
              "      <td>0.184737</td>\n",
              "      <td>0.714898</td>\n",
              "      <td>0.280437</td>\n",
              "      <td>2</td>\n",
              "      <td>0.766502</td>\n",
              "    </tr>\n",
              "    <tr>\n",
              "      <th>3</th>\n",
              "      <td>0.090291</td>\n",
              "      <td>0.997257</td>\n",
              "      <td>0.200982</td>\n",
              "      <td>0.269723</td>\n",
              "      <td>0.200982</td>\n",
              "      <td>0.004669</td>\n",
              "      <td>0.007566</td>\n",
              "      <td>0.024828</td>\n",
              "      <td>0.004669</td>\n",
              "      <td>0.200982</td>\n",
              "      <td>0.812697</td>\n",
              "      <td>0.027957</td>\n",
              "      <td>2</td>\n",
              "      <td>0.808103</td>\n",
              "    </tr>\n",
              "    <tr>\n",
              "      <th>4</th>\n",
              "      <td>0.069783</td>\n",
              "      <td>0.994513</td>\n",
              "      <td>0.160559</td>\n",
              "      <td>0.084222</td>\n",
              "      <td>0.160559</td>\n",
              "      <td>0.003702</td>\n",
              "      <td>0.008280</td>\n",
              "      <td>0.022926</td>\n",
              "      <td>0.003702</td>\n",
              "      <td>0.160559</td>\n",
              "      <td>0.689448</td>\n",
              "      <td>0.123783</td>\n",
              "      <td>2</td>\n",
              "      <td>0.801315</td>\n",
              "    </tr>\n",
              "    <tr>\n",
              "      <th>...</th>\n",
              "      <td>...</td>\n",
              "      <td>...</td>\n",
              "      <td>...</td>\n",
              "      <td>...</td>\n",
              "      <td>...</td>\n",
              "      <td>...</td>\n",
              "      <td>...</td>\n",
              "      <td>...</td>\n",
              "      <td>...</td>\n",
              "      <td>...</td>\n",
              "      <td>...</td>\n",
              "      <td>...</td>\n",
              "      <td>...</td>\n",
              "      <td>...</td>\n",
              "    </tr>\n",
              "    <tr>\n",
              "      <th>19378</th>\n",
              "      <td>0.056662</td>\n",
              "      <td>0.632373</td>\n",
              "      <td>0.137892</td>\n",
              "      <td>0.140725</td>\n",
              "      <td>0.137892</td>\n",
              "      <td>0.001614</td>\n",
              "      <td>0.005700</td>\n",
              "      <td>0.019854</td>\n",
              "      <td>0.001614</td>\n",
              "      <td>0.137892</td>\n",
              "      <td>0.913926</td>\n",
              "      <td>0.095890</td>\n",
              "      <td>2</td>\n",
              "      <td>0.648435</td>\n",
              "    </tr>\n",
              "    <tr>\n",
              "      <th>19379</th>\n",
              "      <td>0.042667</td>\n",
              "      <td>0.528121</td>\n",
              "      <td>0.087269</td>\n",
              "      <td>0.113006</td>\n",
              "      <td>0.087269</td>\n",
              "      <td>0.001091</td>\n",
              "      <td>0.007157</td>\n",
              "      <td>0.029885</td>\n",
              "      <td>0.001091</td>\n",
              "      <td>0.087269</td>\n",
              "      <td>0.871032</td>\n",
              "      <td>0.050000</td>\n",
              "      <td>2</td>\n",
              "      <td>0.584582</td>\n",
              "    </tr>\n",
              "    <tr>\n",
              "      <th>19380</th>\n",
              "      <td>0.078142</td>\n",
              "      <td>0.497942</td>\n",
              "      <td>0.151492</td>\n",
              "      <td>0.298507</td>\n",
              "      <td>0.151492</td>\n",
              "      <td>0.001687</td>\n",
              "      <td>0.004917</td>\n",
              "      <td>0.033416</td>\n",
              "      <td>0.001687</td>\n",
              "      <td>0.151492</td>\n",
              "      <td>0.265656</td>\n",
              "      <td>0.029814</td>\n",
              "      <td>1</td>\n",
              "      <td>0.524729</td>\n",
              "    </tr>\n",
              "    <tr>\n",
              "      <th>19381</th>\n",
              "      <td>0.087958</td>\n",
              "      <td>0.471879</td>\n",
              "      <td>0.163959</td>\n",
              "      <td>0.326226</td>\n",
              "      <td>0.163959</td>\n",
              "      <td>0.001228</td>\n",
              "      <td>0.004568</td>\n",
              "      <td>0.036092</td>\n",
              "      <td>0.001228</td>\n",
              "      <td>0.163959</td>\n",
              "      <td>0.408636</td>\n",
              "      <td>0.034216</td>\n",
              "      <td>1</td>\n",
              "      <td>0.475172</td>\n",
              "    </tr>\n",
              "    <tr>\n",
              "      <th>19382</th>\n",
              "      <td>0.025173</td>\n",
              "      <td>0.275720</td>\n",
              "      <td>0.049490</td>\n",
              "      <td>0.091684</td>\n",
              "      <td>0.049490</td>\n",
              "      <td>0.000663</td>\n",
              "      <td>0.006157</td>\n",
              "      <td>0.032323</td>\n",
              "      <td>0.000663</td>\n",
              "      <td>0.049490</td>\n",
              "      <td>0.882471</td>\n",
              "      <td>0.073077</td>\n",
              "      <td>2</td>\n",
              "      <td>0.459367</td>\n",
              "    </tr>\n",
              "  </tbody>\n",
              "</table>\n",
              "<p>19383 rows × 14 columns</p>\n",
              "</div>\n",
              "      <button class=\"colab-df-convert\" onclick=\"convertToInteractive('df-1d49c365-cd6c-455e-915e-15abdae35e79')\"\n",
              "              title=\"Convert this dataframe to an interactive table.\"\n",
              "              style=\"display:none;\">\n",
              "        \n",
              "  <svg xmlns=\"http://www.w3.org/2000/svg\" height=\"24px\"viewBox=\"0 0 24 24\"\n",
              "       width=\"24px\">\n",
              "    <path d=\"M0 0h24v24H0V0z\" fill=\"none\"/>\n",
              "    <path d=\"M18.56 5.44l.94 2.06.94-2.06 2.06-.94-2.06-.94-.94-2.06-.94 2.06-2.06.94zm-11 1L8.5 8.5l.94-2.06 2.06-.94-2.06-.94L8.5 2.5l-.94 2.06-2.06.94zm10 10l.94 2.06.94-2.06 2.06-.94-2.06-.94-.94-2.06-.94 2.06-2.06.94z\"/><path d=\"M17.41 7.96l-1.37-1.37c-.4-.4-.92-.59-1.43-.59-.52 0-1.04.2-1.43.59L10.3 9.45l-7.72 7.72c-.78.78-.78 2.05 0 2.83L4 21.41c.39.39.9.59 1.41.59.51 0 1.02-.2 1.41-.59l7.78-7.78 2.81-2.81c.8-.78.8-2.07 0-2.86zM5.41 20L4 18.59l7.72-7.72 1.47 1.35L5.41 20z\"/>\n",
              "  </svg>\n",
              "      </button>\n",
              "      \n",
              "  <style>\n",
              "    .colab-df-container {\n",
              "      display:flex;\n",
              "      flex-wrap:wrap;\n",
              "      gap: 12px;\n",
              "    }\n",
              "\n",
              "    .colab-df-convert {\n",
              "      background-color: #E8F0FE;\n",
              "      border: none;\n",
              "      border-radius: 50%;\n",
              "      cursor: pointer;\n",
              "      display: none;\n",
              "      fill: #1967D2;\n",
              "      height: 32px;\n",
              "      padding: 0 0 0 0;\n",
              "      width: 32px;\n",
              "    }\n",
              "\n",
              "    .colab-df-convert:hover {\n",
              "      background-color: #E2EBFA;\n",
              "      box-shadow: 0px 1px 2px rgba(60, 64, 67, 0.3), 0px 1px 3px 1px rgba(60, 64, 67, 0.15);\n",
              "      fill: #174EA6;\n",
              "    }\n",
              "\n",
              "    [theme=dark] .colab-df-convert {\n",
              "      background-color: #3B4455;\n",
              "      fill: #D2E3FC;\n",
              "    }\n",
              "\n",
              "    [theme=dark] .colab-df-convert:hover {\n",
              "      background-color: #434B5C;\n",
              "      box-shadow: 0px 1px 3px 1px rgba(0, 0, 0, 0.15);\n",
              "      filter: drop-shadow(0px 1px 2px rgba(0, 0, 0, 0.3));\n",
              "      fill: #FFFFFF;\n",
              "    }\n",
              "  </style>\n",
              "\n",
              "      <script>\n",
              "        const buttonEl =\n",
              "          document.querySelector('#df-1d49c365-cd6c-455e-915e-15abdae35e79 button.colab-df-convert');\n",
              "        buttonEl.style.display =\n",
              "          google.colab.kernel.accessAllowed ? 'block' : 'none';\n",
              "\n",
              "        async function convertToInteractive(key) {\n",
              "          const element = document.querySelector('#df-1d49c365-cd6c-455e-915e-15abdae35e79');\n",
              "          const dataTable =\n",
              "            await google.colab.kernel.invokeFunction('convertToInteractive',\n",
              "                                                     [key], {});\n",
              "          if (!dataTable) return;\n",
              "\n",
              "          const docLinkHtml = 'Like what you see? Visit the ' +\n",
              "            '<a target=\"_blank\" href=https://colab.research.google.com/notebooks/data_table.ipynb>data table notebook</a>'\n",
              "            + ' to learn more about interactive tables.';\n",
              "          element.innerHTML = '';\n",
              "          dataTable['output_type'] = 'display_data';\n",
              "          await google.colab.output.renderOutput(dataTable, element);\n",
              "          const docLink = document.createElement('div');\n",
              "          docLink.innerHTML = docLinkHtml;\n",
              "          element.appendChild(docLink);\n",
              "        }\n",
              "      </script>\n",
              "    </div>\n",
              "  </div>\n",
              "  "
            ]
          },
          "metadata": {},
          "execution_count": 22
        }
      ]
    },
    {
      "cell_type": "markdown",
      "source": [
        "### 실루엣 계수/엘보우 군집2~9까지 확인"
      ],
      "metadata": {
        "id": "qhRWfOk1_ctI"
      }
    },
    {
      "cell_type": "code",
      "source": [
        "from yellowbrick.cluster import SilhouetteVisualizer"
      ],
      "metadata": {
        "id": "A_r5KqYq_VtZ"
      },
      "execution_count": null,
      "outputs": []
    },
    {
      "cell_type": "code",
      "source": [
        "from sklearn.cluster import KMeans\n",
        "SSE = []\n",
        "for i in range(2,10):\n",
        "  kmeans = KMeans(n_clusters = i)\n",
        "  kmeans.fit(고객_mm.iloc[:,:-1])\n",
        "  SSE.append(kmeans.inertia_)\n",
        "  visualizer = SilhouetteVisualizer(kmeans, colors='yellowbrick')\n",
        "  visualizer.fit(고객_mm.iloc[:,:-1])      \n",
        "  visualizer.show()\n",
        "\n",
        "plt.plot([i for i in range(2,10)],SSE)"
      ],
      "metadata": {
        "colab": {
          "base_uri": "https://localhost:8080/",
          "height": 1000
        },
        "id": "vOw8-gD6cg8S",
        "outputId": "d0458e01-0b46-415c-fd1d-2573564c7972"
      },
      "execution_count": null,
      "outputs": [
        {
          "output_type": "stream",
          "name": "stderr",
          "text": [
            "/usr/local/lib/python3.8/dist-packages/sklearn/base.py:450: UserWarning: X does not have valid feature names, but KMeans was fitted with feature names\n",
            "  warnings.warn(\n"
          ]
        },
        {
          "output_type": "display_data",
          "data": {
            "text/plain": [
              "<Figure size 576x396 with 1 Axes>"
            ],
            "image/png": "[encoded data removed]"
          },
          "metadata": {}
        },
        {
          "output_type": "stream",
          "name": "stderr",
          "text": [
            "/usr/local/lib/python3.8/dist-packages/sklearn/base.py:450: UserWarning: X does not have valid feature names, but KMeans was fitted with feature names\n",
            "  warnings.warn(\n"
          ]
        },
        {
          "output_type": "display_data",
          "data": {
            "text/plain": [
              "<Figure size 576x396 with 1 Axes>"
            ],
            "image/png": "[encoded data removed]"
          },
          "metadata": {}
        },
        {
          "output_type": "stream",
          "name": "stderr",
          "text": [
            "/usr/local/lib/python3.8/dist-packages/sklearn/base.py:450: UserWarning: X does not have valid feature names, but KMeans was fitted with feature names\n",
            "  warnings.warn(\n"
          ]
        },
        {
          "output_type": "display_data",
          "data": {
            "text/plain": [
              "<Figure size 576x396 with 1 Axes>"
            ],
            "image/png": "[encoded data removed]"
          },
          "metadata": {}
        },
        {
          "output_type": "stream",
          "name": "stderr",
          "text": [
            "/usr/local/lib/python3.8/dist-packages/sklearn/base.py:450: UserWarning: X does not have valid feature names, but KMeans was fitted with feature names\n",
            "  warnings.warn(\n"
          ]
        },
        {
          "output_type": "display_data",
          "data": {
            "text/plain": [
              "<Figure size 576x396 with 1 Axes>"
            ],
            "image/png": "[encoded data removed]"
          },
          "metadata": {}
        },
        {
          "output_type": "stream",
          "name": "stderr",
          "text": [
            "/usr/local/lib/python3.8/dist-packages/sklearn/base.py:450: UserWarning: X does not have valid feature names, but KMeans was fitted with feature names\n",
            "  warnings.warn(\n"
          ]
        },
        {
          "output_type": "display_data",
          "data": {
            "text/plain": [
              "<Figure size 576x396 with 1 Axes>"
            ],
            "image/png": "[encoded data removed]"
          },
          "metadata": {}
        },
        {
          "output_type": "stream",
          "name": "stderr",
          "text": [
            "/usr/local/lib/python3.8/dist-packages/sklearn/base.py:450: UserWarning: X does not have valid feature names, but KMeans was fitted with feature names\n",
            "  warnings.warn(\n"
          ]
        },
        {
          "output_type": "display_data",
          "data": {
            "text/plain": [
              "<Figure size 576x396 with 1 Axes>"
            ],
            "image/png": "[encoded data removed]"
          },
          "metadata": {}
        },
        {
          "output_type": "stream",
          "name": "stderr",
          "text": [
            "/usr/local/lib/python3.8/dist-packages/sklearn/base.py:450: UserWarning: X does not have valid feature names, but KMeans was fitted with feature names\n",
            "  warnings.warn(\n"
          ]
        },
        {
          "output_type": "display_data",
          "data": {
            "text/plain": [
              "<Figure size 576x396 with 1 Axes>"
            ],
            "image/png": "[encoded data removed]"
          },
          "metadata": {}
        },
        {
          "output_type": "stream",
          "name": "stderr",
          "text": [
            "/usr/local/lib/python3.8/dist-packages/sklearn/base.py:450: UserWarning: X does not have valid feature names, but KMeans was fitted with feature names\n",
            "  warnings.warn(\n"
          ]
        },
        {
          "output_type": "display_data",
          "data": {
            "text/plain": [
              "<Figure size 576x396 with 1 Axes>"
            ],
            "image/png": "[encoded data removed]"
          },
          "metadata": {}
        },
        {
          "output_type": "execute_result",
          "data": {
            "text/plain": [
              "[<matplotlib.lines.Line2D at 0x7f3c4b760460>]"
            ]
          },
          "metadata": {},
          "execution_count": 132
        },
        {
          "output_type": "display_data",
          "data": {
            "text/plain": [
              "<Figure size 576x396 with 1 Axes>"
            ],
            "image/png": "[encoded data removed]"
          },
          "metadata": {}
        }
      ]
    },
    {
      "cell_type": "markdown",
      "source": [
        "## Mean_Shift"
      ],
      "metadata": {
        "id": "v61ejcXhAV1d"
      }
    },
    {
      "cell_type": "code",
      "source": [
        "from sklearn.cluster import estimate_bandwidth\n",
        "\n",
        "bandwidth = estimate_bandwidth(고객_mm.iloc[:,:-2])\n",
        "bandwidth"
      ],
      "metadata": {
        "colab": {
          "base_uri": "https://localhost:8080/"
        },
        "id": "45VHkIz0e9Uo",
        "outputId": "0b37c85b-6b63-4b51-ad61-0eb3b0075d94"
      },
      "execution_count": null,
      "outputs": [
        {
          "output_type": "execute_result",
          "data": {
            "text/plain": [
              "0.34046558820835465"
            ]
          },
          "metadata": {},
          "execution_count": 45
        }
      ]
    },
    {
      "cell_type": "code",
      "source": [
        "from sklearn.cluster import MeanShift\n",
        "\n",
        "고객_mm['ms'] = MeanShift(bandwidth=bandwidth).fit_predict(고객_mm.iloc[:,:-2])"
      ],
      "metadata": {
        "id": "K_yc3KD3gSRQ"
      },
      "execution_count": null,
      "outputs": []
    },
    {
      "cell_type": "code",
      "source": [
        "고객_mm['ms'].value_counts()"
      ],
      "metadata": {
        "colab": {
          "base_uri": "https://localhost:8080/"
        },
        "id": "9wWb5Vaag2xg",
        "outputId": "bc57ff08-5e0f-4bcd-a43c-38a2db474b3c"
      },
      "execution_count": null,
      "outputs": [
        {
          "output_type": "execute_result",
          "data": {
            "text/plain": [
              "0     12011\n",
              "1      7212\n",
              "2        80\n",
              "7        28\n",
              "4        14\n",
              "12       11\n",
              "5         9\n",
              "10        8\n",
              "3         4\n",
              "11        3\n",
              "6         1\n",
              "8         1\n",
              "9         1\n",
              "Name: ms, dtype: int64"
            ]
          },
          "metadata": {},
          "execution_count": 47
        }
      ]
    },
    {
      "cell_type": "code",
      "source": [
        "score = silhouette_score(고객_mm.iloc[:,:-3],고객_mm['ms'])\n",
        "\n",
        "print('MeanShift---------------')\n",
        "print('평균 실루엣 score:',score)"
      ],
      "metadata": {
        "colab": {
          "base_uri": "https://localhost:8080/"
        },
        "id": "4RBGfXExhHPd",
        "outputId": "506b110e-5a3a-42f5-c294-b4cd5232c6cc"
      },
      "execution_count": null,
      "outputs": [
        {
          "output_type": "stream",
          "name": "stdout",
          "text": [
            "MeanShift---------------\n",
            "평균 실루엣 score: 0.40623420236065355\n"
          ]
        }
      ]
    },
    {
      "cell_type": "markdown",
      "source": [
        "### 차원축소, 시각화"
      ],
      "metadata": {
        "id": "kgGjOIdnAisy"
      }
    },
    {
      "cell_type": "code",
      "source": [
        "from sklearn.decomposition import PCA\n",
        "from sklearn.decomposition import PCA\n",
        "\n",
        "X = 고객_mm.iloc[:,:-3]\n",
        "\n",
        "#객체\n",
        "pca = PCA(n_components=3)\n",
        "\n",
        "#적용\n",
        "pca.fit(X)\n",
        "x_pca = pca.transform(X)\n",
        "x_pca"
      ],
      "metadata": {
        "colab": {
          "base_uri": "https://localhost:8080/"
        },
        "id": "AkLRgXZBik4I",
        "outputId": "f6ca2914-56ca-4fac-94da-944c353ec3d8"
      },
      "execution_count": null,
      "outputs": [
        {
          "output_type": "execute_result",
          "data": {
            "text/plain": [
              "array([[-0.2779995 , -0.07353309,  0.09577063],\n",
              "       [-0.14053762, -0.19012583,  0.12177113],\n",
              "       [-0.18627459, -0.20824306,  0.01213758],\n",
              "       ...,\n",
              "       [ 0.2587817 , -0.14059567, -0.16881961],\n",
              "       [ 0.11761806, -0.10462801, -0.15264333],\n",
              "       [-0.37177879, -0.37527932, -0.29779994]])"
            ]
          },
          "metadata": {},
          "execution_count": 50
        }
      ]
    },
    {
      "cell_type": "code",
      "source": [
        "from mpl_toolkits.mplot3d import axes3d\n",
        "import matplotlib.pyplot as plt\n",
        "from matplotlib.colors import ListedColormap\n",
        "fig = plt.figure(figsize=(10,8))\n",
        "ax = fig.add_subplot(projection='3d')\n",
        "ax.scatter(x_pca[:,0],x_pca[:,1],x_pca[:,2],c=고객_mm['ms'], marker='o', cmap='Paired', alpha=1)"
      ],
      "metadata": {
        "colab": {
          "base_uri": "https://localhost:8080/",
          "height": 483
        },
        "id": "WLesFuLOivip",
        "outputId": "9fed68d3-3cd3-4830-b256-2584602f8e33"
      },
      "execution_count": null,
      "outputs": [
        {
          "output_type": "execute_result",
          "data": {
            "text/plain": [
              "<mpl_toolkits.mplot3d.art3d.Path3DCollection at 0x7f67075b8d00>"
            ]
          },
          "metadata": {},
          "execution_count": 51
        },
        {
          "output_type": "display_data",
          "data": {
            "text/plain": [
              "<Figure size 720x576 with 1 Axes>"
            ],
            "image/png": "[encoded data removed]"
          },
          "metadata": {
            "needs_background": "light"
          }
        }
      ]
    },
    {
      "cell_type": "markdown",
      "source": [
        "## DBSCAN"
      ],
      "metadata": {
        "id": "aM-vtCEkAq3Q"
      }
    },
    {
      "cell_type": "code",
      "source": [
        "from sklearn.cluster import DBSCAN\n",
        "\n",
        "dbscan = DBSCAN(eps=.4, min_samples=8, metric='euclidean')\n",
        "고객_mm['dbscan'] = dbscan.fit_predict(고객_mm.iloc[:,:-4])"
      ],
      "metadata": {
        "id": "xAOXWN0mivrt"
      },
      "execution_count": null,
      "outputs": []
    },
    {
      "cell_type": "code",
      "source": [
        "고객_mm['dbscan'].value_counts()"
      ],
      "metadata": {
        "colab": {
          "base_uri": "https://localhost:8080/"
        },
        "id": "atnUSkdlkPBo",
        "outputId": "8167feeb-4de4-4bb8-a7e5-75bd2ec5156e"
      },
      "execution_count": null,
      "outputs": [
        {
          "output_type": "execute_result",
          "data": {
            "text/plain": [
              " 0    19374\n",
              "-1        9\n",
              "Name: dbscan, dtype: int64"
            ]
          },
          "metadata": {},
          "execution_count": 108
        }
      ]
    },
    {
      "cell_type": "code",
      "source": [
        "score = silhouette_score(고객_mm.iloc[:,:-4],고객_mm['dbscan'])\n",
        "\n",
        "print('DBSCAN---------------')\n",
        "print('평균 실루엣 score:',score)"
      ],
      "metadata": {
        "colab": {
          "base_uri": "https://localhost:8080/"
        },
        "id": "JDP02wpZ7G6p",
        "outputId": "db1a94af-9f2f-4787-be2e-3bb2eb66039d"
      },
      "execution_count": null,
      "outputs": [
        {
          "output_type": "stream",
          "name": "stdout",
          "text": [
            "DBSCAN---------------\n",
            "평균 실루엣 score: 0.638133257071652\n"
          ]
        }
      ]
    }
  ]
}
