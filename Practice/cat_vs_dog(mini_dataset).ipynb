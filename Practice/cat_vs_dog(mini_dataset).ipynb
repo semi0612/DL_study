{
  "nbformat": 4,
  "nbformat_minor": 0,
  "metadata": {
    "colab": {
      "provenance": [],
      "toc_visible": true,
      "machine_shape": "hm"
    },
    "kernelspec": {
      "name": "python3",
      "display_name": "Python 3"
    },
    "language_info": {
      "name": "python"
    },
    "accelerator": "GPU",
    "gpuClass": "standard"
  },
  "cells": [
    {
      "cell_type": "markdown",
      "source": [
        "## API로 캐글 데이터 다운 받기\n",
        "API : Application Programming Interface"
      ],
      "metadata": {
        "id": "zhazu36MsQHh"
      }
    },
    {
      "cell_type": "code",
      "source": [
        "!pip install kaggle --upgrade"
      ],
      "metadata": {
        "colab": {
          "base_uri": "https://localhost:8080/"
        },
        "id": "CCjaU-pBsR7A",
        "outputId": "5b609ef7-80ba-4bf9-f61a-fb573e1251dc"
      },
      "execution_count": null,
      "outputs": [
        {
          "output_type": "stream",
          "name": "stdout",
          "text": [
            "Looking in indexes: https://pypi.org/simple, https://us-python.pkg.dev/colab-wheels/public/simple/\n",
            "Requirement already satisfied: kaggle in /usr/local/lib/python3.8/dist-packages (1.5.12)\n",
            "Requirement already satisfied: requests in /usr/local/lib/python3.8/dist-packages (from kaggle) (2.23.0)\n",
            "Requirement already satisfied: python-slugify in /usr/local/lib/python3.8/dist-packages (from kaggle) (7.0.0)\n",
            "Requirement already satisfied: urllib3 in /usr/local/lib/python3.8/dist-packages (from kaggle) (1.24.3)\n",
            "Requirement already satisfied: six>=1.10 in /usr/local/lib/python3.8/dist-packages (from kaggle) (1.15.0)\n",
            "Requirement already satisfied: tqdm in /usr/local/lib/python3.8/dist-packages (from kaggle) (4.64.1)\n",
            "Requirement already satisfied: python-dateutil in /usr/local/lib/python3.8/dist-packages (from kaggle) (2.8.2)\n",
            "Requirement already satisfied: certifi in /usr/local/lib/python3.8/dist-packages (from kaggle) (2022.9.24)\n",
            "Requirement already satisfied: text-unidecode>=1.3 in /usr/local/lib/python3.8/dist-packages (from python-slugify->kaggle) (1.3)\n",
            "Requirement already satisfied: chardet<4,>=3.0.2 in /usr/local/lib/python3.8/dist-packages (from requests->kaggle) (3.0.4)\n",
            "Requirement already satisfied: idna<3,>=2.5 in /usr/local/lib/python3.8/dist-packages (from requests->kaggle) (2.10)\n"
          ]
        }
      ]
    },
    {
      "cell_type": "code",
      "source": [
        "# 캐글에 로그인 후 api json 파일 받아서 여기에 올리기\n",
        "from google.colab import files\n",
        "\n",
        "files.upload()"
      ],
      "metadata": {
        "colab": {
          "base_uri": "https://localhost:8080/",
          "height": 95
        },
        "id": "RWMzVRa-sZIZ",
        "outputId": "cb2103dc-314a-42e7-c4fc-924e783a94fd"
      },
      "execution_count": null,
      "outputs": [
        {
          "output_type": "display_data",
          "data": {
            "text/plain": [
              "<IPython.core.display.HTML object>"
            ],
            "text/html": [
              "\n",
              "     <input type=\"file\" id=\"files-3fb509df-f86c-4036-a9e4-d0b2121c20a2\" name=\"files[]\" multiple disabled\n",
              "        style=\"border:none\" />\n",
              "     <output id=\"result-3fb509df-f86c-4036-a9e4-d0b2121c20a2\">\n",
              "      Upload widget is only available when the cell has been executed in the\n",
              "      current browser session. Please rerun this cell to enable.\n",
              "      </output>\n",
              "      <script>// Copyright 2017 Google LLC\n",
              "//\n",
              "// Licensed under the Apache License, Version 2.0 (the \"License\");\n",
              "// you may not use this file except in compliance with the License.\n",
              "// You may obtain a copy of the License at\n",
              "//\n",
              "//      http://www.apache.org/licenses/LICENSE-2.0\n",
              "//\n",
              "// Unless required by applicable law or agreed to in writing, software\n",
              "// distributed under the License is distributed on an \"AS IS\" BASIS,\n",
              "// WITHOUT WARRANTIES OR CONDITIONS OF ANY KIND, either express or implied.\n",
              "// See the License for the specific language governing permissions and\n",
              "// limitations under the License.\n",
              "\n",
              "/**\n",
              " * @fileoverview Helpers for google.colab Python module.\n",
              " */\n",
              "(function(scope) {\n",
              "function span(text, styleAttributes = {}) {\n",
              "  const element = document.createElement('span');\n",
              "  element.textContent = text;\n",
              "  for (const key of Object.keys(styleAttributes)) {\n",
              "    element.style[key] = styleAttributes[key];\n",
              "  }\n",
              "  return element;\n",
              "}\n",
              "\n",
              "// Max number of bytes which will be uploaded at a time.\n",
              "const MAX_PAYLOAD_SIZE = 100 * 1024;\n",
              "\n",
              "function _uploadFiles(inputId, outputId) {\n",
              "  const steps = uploadFilesStep(inputId, outputId);\n",
              "  const outputElement = document.getElementById(outputId);\n",
              "  // Cache steps on the outputElement to make it available for the next call\n",
              "  // to uploadFilesContinue from Python.\n",
              "  outputElement.steps = steps;\n",
              "\n",
              "  return _uploadFilesContinue(outputId);\n",
              "}\n",
              "\n",
              "// This is roughly an async generator (not supported in the browser yet),\n",
              "// where there are multiple asynchronous steps and the Python side is going\n",
              "// to poll for completion of each step.\n",
              "// This uses a Promise to block the python side on completion of each step,\n",
              "// then passes the result of the previous step as the input to the next step.\n",
              "function _uploadFilesContinue(outputId) {\n",
              "  const outputElement = document.getElementById(outputId);\n",
              "  const steps = outputElement.steps;\n",
              "\n",
              "  const next = steps.next(outputElement.lastPromiseValue);\n",
              "  return Promise.resolve(next.value.promise).then((value) => {\n",
              "    // Cache the last promise value to make it available to the next\n",
              "    // step of the generator.\n",
              "    outputElement.lastPromiseValue = value;\n",
              "    return next.value.response;\n",
              "  });\n",
              "}\n",
              "\n",
              "/**\n",
              " * Generator function which is called between each async step of the upload\n",
              " * process.\n",
              " * @param {string} inputId Element ID of the input file picker element.\n",
              " * @param {string} outputId Element ID of the output display.\n",
              " * @return {!Iterable<!Object>} Iterable of next steps.\n",
              " */\n",
              "function* uploadFilesStep(inputId, outputId) {\n",
              "  const inputElement = document.getElementById(inputId);\n",
              "  inputElement.disabled = false;\n",
              "\n",
              "  const outputElement = document.getElementById(outputId);\n",
              "  outputElement.innerHTML = '';\n",
              "\n",
              "  const pickedPromise = new Promise((resolve) => {\n",
              "    inputElement.addEventListener('change', (e) => {\n",
              "      resolve(e.target.files);\n",
              "    });\n",
              "  });\n",
              "\n",
              "  const cancel = document.createElement('button');\n",
              "  inputElement.parentElement.appendChild(cancel);\n",
              "  cancel.textContent = 'Cancel upload';\n",
              "  const cancelPromise = new Promise((resolve) => {\n",
              "    cancel.onclick = () => {\n",
              "      resolve(null);\n",
              "    };\n",
              "  });\n",
              "\n",
              "  // Wait for the user to pick the files.\n",
              "  const files = yield {\n",
              "    promise: Promise.race([pickedPromise, cancelPromise]),\n",
              "    response: {\n",
              "      action: 'starting',\n",
              "    }\n",
              "  };\n",
              "\n",
              "  cancel.remove();\n",
              "\n",
              "  // Disable the input element since further picks are not allowed.\n",
              "  inputElement.disabled = true;\n",
              "\n",
              "  if (!files) {\n",
              "    return {\n",
              "      response: {\n",
              "        action: 'complete',\n",
              "      }\n",
              "    };\n",
              "  }\n",
              "\n",
              "  for (const file of files) {\n",
              "    const li = document.createElement('li');\n",
              "    li.append(span(file.name, {fontWeight: 'bold'}));\n",
              "    li.append(span(\n",
              "        `(${file.type || 'n/a'}) - ${file.size} bytes, ` +\n",
              "        `last modified: ${\n",
              "            file.lastModifiedDate ? file.lastModifiedDate.toLocaleDateString() :\n",
              "                                    'n/a'} - `));\n",
              "    const percent = span('0% done');\n",
              "    li.appendChild(percent);\n",
              "\n",
              "    outputElement.appendChild(li);\n",
              "\n",
              "    const fileDataPromise = new Promise((resolve) => {\n",
              "      const reader = new FileReader();\n",
              "      reader.onload = (e) => {\n",
              "        resolve(e.target.result);\n",
              "      };\n",
              "      reader.readAsArrayBuffer(file);\n",
              "    });\n",
              "    // Wait for the data to be ready.\n",
              "    let fileData = yield {\n",
              "      promise: fileDataPromise,\n",
              "      response: {\n",
              "        action: 'continue',\n",
              "      }\n",
              "    };\n",
              "\n",
              "    // Use a chunked sending to avoid message size limits. See b/62115660.\n",
              "    let position = 0;\n",
              "    do {\n",
              "      const length = Math.min(fileData.byteLength - position, MAX_PAYLOAD_SIZE);\n",
              "      const chunk = new Uint8Array(fileData, position, length);\n",
              "      position += length;\n",
              "\n",
              "      const base64 = btoa(String.fromCharCode.apply(null, chunk));\n",
              "      yield {\n",
              "        response: {\n",
              "          action: 'append',\n",
              "          file: file.name,\n",
              "          data: base64,\n",
              "        },\n",
              "      };\n",
              "\n",
              "      let percentDone = fileData.byteLength === 0 ?\n",
              "          100 :\n",
              "          Math.round((position / fileData.byteLength) * 100);\n",
              "      percent.textContent = `${percentDone}% done`;\n",
              "\n",
              "    } while (position < fileData.byteLength);\n",
              "  }\n",
              "\n",
              "  // All done.\n",
              "  yield {\n",
              "    response: {\n",
              "      action: 'complete',\n",
              "    }\n",
              "  };\n",
              "}\n",
              "\n",
              "scope.google = scope.google || {};\n",
              "scope.google.colab = scope.google.colab || {};\n",
              "scope.google.colab._files = {\n",
              "  _uploadFiles,\n",
              "  _uploadFilesContinue,\n",
              "};\n",
              "})(self);\n",
              "</script> "
            ]
          },
          "metadata": {}
        },
        {
          "output_type": "stream",
          "name": "stdout",
          "text": [
            "Saving kaggle.json to kaggle.json\n"
          ]
        },
        {
          "output_type": "execute_result",
          "data": {
            "text/plain": [
              "{'kaggle.json': b'{\"username\":\"semi0612\",\"key\":\"2e0c4532a808baddff94416c4916bd77\"}'}"
            ]
          },
          "metadata": {},
          "execution_count": 2
        }
      ]
    },
    {
      "cell_type": "code",
      "source": [
        "# 코랩 내에 파일 만들고 json 파일 저장\n",
        "!mkdir ~/.kaggle\n",
        "!cp kaggle.json ~/.kaggle/\n",
        "\n",
        "# 권한 부여\n",
        "!chmod 600 ~/.kaggle/kaggle.json"
      ],
      "metadata": {
        "id": "S6lQHWxDscHB"
      },
      "execution_count": null,
      "outputs": []
    },
    {
      "cell_type": "code",
      "source": [
        "# 캐글에 접근하여 dog vs cats 가져오기\n",
        "\n",
        "!kaggle competitions download -c dogs-vs-cats"
      ],
      "metadata": {
        "colab": {
          "base_uri": "https://localhost:8080/"
        },
        "id": "Sk0OXDTlsdlR",
        "outputId": "466e7304-a20f-4520-c205-f2a6ca06e475"
      },
      "execution_count": null,
      "outputs": [
        {
          "output_type": "stream",
          "name": "stdout",
          "text": [
            "Downloading dogs-vs-cats.zip to /content\n",
            " 98% 799M/812M [00:03<00:00, 231MB/s]\n",
            "100% 812M/812M [00:03<00:00, 264MB/s]\n"
          ]
        }
      ]
    },
    {
      "cell_type": "code",
      "source": [
        "# 가져온 데이터 확인\n",
        "!ls"
      ],
      "metadata": {
        "colab": {
          "base_uri": "https://localhost:8080/"
        },
        "id": "c-zHKQTKse3B",
        "outputId": "91fe660d-9f54-427f-957d-ad0c165c09e0"
      },
      "execution_count": null,
      "outputs": [
        {
          "output_type": "stream",
          "name": "stdout",
          "text": [
            "dogs-vs-cats.zip  kaggle.json  sample_data\n"
          ]
        }
      ]
    },
    {
      "cell_type": "code",
      "source": [
        "# zip 형태로 가져왔으니 unzip 시키기\n",
        "!unzip -qq dogs-vs-cats.zip\n",
        "!unzip -qq train.zip"
      ],
      "metadata": {
        "id": "EY0JrJPasgur"
      },
      "execution_count": null,
      "outputs": []
    },
    {
      "cell_type": "code",
      "source": [
        "!ls"
      ],
      "metadata": {
        "colab": {
          "base_uri": "https://localhost:8080/"
        },
        "id": "FgrcjNKUsgxY",
        "outputId": "043699dc-61e5-4136-83c7-a8f2f4fb5997"
      },
      "execution_count": null,
      "outputs": [
        {
          "output_type": "stream",
          "name": "stdout",
          "text": [
            "dogs-vs-cats.zip  sample_data\t\ttest1.zip  train.zip\n",
            "kaggle.json\t  sampleSubmission.csv\ttrain\n"
          ]
        }
      ]
    },
    {
      "cell_type": "markdown",
      "source": [
        "## pathlib 모듈로 파일 정리\n",
        "- pathlib\n",
        "  - 파일, 디렉토리(폴더)의 경로를 객체로써 조작하거나 처리.\n",
        "  - 파일명 혹은 부모 디렉토리를 알아내거나 경로의 목록을 얻어내거나, 파일을 작성하거나 삭제하는 등 대략적인 파일 관련 처리가 가능하다\n",
        "\n",
        "모듈을 사용하여 총 25000개의 cat_dog 이미지들을 5000개의 mini dataset으로 만들어 줄것이다.\n",
        "\n",
        "- mini dataset으로 하는 이유\n",
        "  - 빠르게 실행결과를 확인하고 비교해 보기 위하여\n",
        "  - '케라스 창시자에게 배우는 딥러닝(개정 2판)' 속 '많은 데이터가 있으면 문제가 더 쉬워집니다. 따라서 배울 때는 작은 데이터 셋을 사용하는 것이 좋습니다' 의 문구를 보고 "
      ],
      "metadata": {
        "id": "_pcz0cr-skNJ"
      }
    },
    {
      "cell_type": "code",
      "source": [
        "# 이미지를 훈련, 검증, 테스트 디렉터리로 복사하기\n",
        "import os, shutil, pathlib\n",
        "\n",
        "original_dir = pathlib.Path(\"train\")\n",
        "new_base_dir = pathlib.Path(\"cat_vs_dogs_small\")\n",
        "\n",
        "def make_subset(subset_name, start_index, end_index) :\n",
        "  for category in (\"cat\", \"dog\") :\n",
        "    dir = new_base_dir / subset_name / category\n",
        "    os.makedirs(dir)\n",
        "    fnames = [f\"{category}.{i}.jpg\"\n",
        "              for i in range(start_index, end_index)]\n",
        "    for fname in fnames :\n",
        "      shutil.copyfile(src=original_dir / fname, dst=dir / fname)\n",
        "\n",
        "make_subset(\"train\", start_index=0, end_index=1000)\n",
        "make_subset(\"validation\", start_index=1000, end_index=1500)\n",
        "make_subset(\"test\", start_index=1500, end_index=2500)"
      ],
      "metadata": {
        "id": "uCdLU2lCsgz7"
      },
      "execution_count": null,
      "outputs": []
    },
    {
      "cell_type": "markdown",
      "source": [
        "## 이미지 갯수 확인 및 전처리 하여 불러들이기\n",
        "데이터는 네트워크에 주입되기 전 부동 소수점 타입의 텐서로 적절하게 전처리되어 있어야한다. 지금은 데이터가 JPEG 파일로 되어있으므로 네트워크에 주입하려면 대략 아래와 같은 과정을 거쳐야한다.\n",
        "1. 사진파일을 읽는다\n",
        "2. JPEG 파일을 RGB 픽셀 값으로 디코딩한다\n",
        "3. 부동 소수점 타입의 텐서로 변환한다\n",
        "4. 동일한 크기의 이미지로 변환한다. 여기서는 (180, 180)\n",
        "5. 배치로 묶는다. 여기서는 (하나의 배치 = 32) 개로 지정해줄 것이다."
      ],
      "metadata": {
        "id": "Aa6APZXTsG05"
      }
    },
    {
      "cell_type": "code",
      "source": [
        "from tensorflow.keras.utils import image_dataset_from_directory\n",
        "import os\n",
        "\n",
        "PATH = \"/content/cat_vs_dogs_small\"\n",
        "train_dir = os.path.join(PATH, 'train')\n",
        "validation_dir = os.path.join(PATH, 'validation')\n",
        "test_dir = os.path.join(PATH, 'test')\n",
        "\n",
        "train_dataset = image_dataset_from_directory(\n",
        "    train_dir,\n",
        "    image_size=(180, 180),\n",
        "    batch_size=32\n",
        ")\n",
        "\n",
        "validation_dataset = image_dataset_from_directory(\n",
        "    validation_dir,\n",
        "    image_size=(180, 180),\n",
        "    batch_size=32\n",
        ")\n",
        "\n",
        "test_dataset = image_dataset_from_directory(\n",
        "    test_dir,\n",
        "    image_size=(180, 180),\n",
        "    batch_size=32\n",
        ")"
      ],
      "metadata": {
        "colab": {
          "base_uri": "https://localhost:8080/"
        },
        "id": "k1hOSUNAsPe5",
        "outputId": "f9b9f581-f193-43ee-ec84-e42a671000f4"
      },
      "execution_count": null,
      "outputs": [
        {
          "output_type": "stream",
          "name": "stdout",
          "text": [
            "Found 2000 files belonging to 2 classes.\n",
            "Found 1000 files belonging to 2 classes.\n",
            "Found 2000 files belonging to 2 classes.\n"
          ]
        }
      ]
    },
    {
      "cell_type": "markdown",
      "source": [
        "## 모델 7가지\n",
        "- 비교할 모델 7가지\n",
        "  - VGG16, VGG19, Inception_v3(GoogleNet), ResNet, Xception, MobileNet, DenseNet\n",
        "- 비교할 것\n",
        "  - [ train loss - validation loss / train accaurcy - validation accaurcy ] 그래프<br>\n",
        "  - confusion metrics\n",
        "- EarlyStopping callbacks는 사용(단, 동일 설정)\n",
        "- 모델을 불러와 추가할 모델 코드/compile 설정은 아래와 동일할 것이다\n",
        "\n",
        "```python\n",
        "inputs = keras.Input(shape=(180, 180, 3))\n",
        "x = data_augmentation(inputs)\n",
        "x = keras.applications.vgg19.preprocess_input(x)\n",
        "x = '불러온 모델'(x)\n",
        "x = layers.Flatten()(x)\n",
        "x = layers.Dense(256)(x)\n",
        "x = layers.Dropout(0.5)(x)\n",
        "outputs = layers.Dense(1, activation='sigmoid')(x)\n",
        "'새로 생성된 모델 명' = keras.Model(inputs, outputs)\n",
        "\n",
        "\n",
        "'새로 생성된 모델 명'.compile(loss='binary_crossentropy',\n",
        "              optimizer='rmsprop',\n",
        "              metrics='acc')\n",
        "```"
      ],
      "metadata": {
        "id": "GBTu-LQvuAN6"
      }
    },
    {
      "cell_type": "markdown",
      "source": [
        "## VGG16"
      ],
      "metadata": {
        "id": "09NXXLmRu0Lh"
      }
    },
    {
      "cell_type": "code",
      "execution_count": null,
      "metadata": {
        "colab": {
          "base_uri": "https://localhost:8080/"
        },
        "id": "GN0qMnmyr0ck",
        "outputId": "7c3ddfa4-fab6-4152-f1fd-df8ad01d7437"
      },
      "outputs": [
        {
          "output_type": "stream",
          "name": "stdout",
          "text": [
            "Downloading data from https://storage.googleapis.com/tensorflow/keras-applications/vgg16/vgg16_weights_tf_dim_ordering_tf_kernels_notop.h5\n",
            "58889256/58889256 [==============================] - 0s 0us/step\n"
          ]
        }
      ],
      "source": [
        "from keras.applications.vgg16 import VGG16, preprocess_input, decode_predictions\n",
        "\n",
        "vgg16_net_catdog = VGG16(include_top = False, weights='imagenet')\n",
        "vgg16_net_catdog.trainable = False"
      ]
    },
    {
      "cell_type": "code",
      "source": [
        "import keras\n",
        "from keras import layers\n",
        "\n",
        "inputs = keras.Input(shape=(180, 180, 3))\n",
        "x = keras.applications.vgg16.preprocess_input(inputs)\n",
        "x = vgg16_net_catdog(x)\n",
        "x = layers.Flatten()(x)\n",
        "x = layers.Dense(256)(x)\n",
        "x = layers.Dropout(0.5)(x)\n",
        "outputs = layers.Dense(1, activation='sigmoid')(x)\n",
        "vgg16_net_catdog = keras.Model(inputs, outputs)\n",
        "\n",
        "\n",
        "vgg16_net_catdog.compile(loss='binary_crossentropy',\n",
        "              optimizer='rmsprop',\n",
        "              metrics='acc')\n",
        "\n",
        "\n",
        "vgg16_net_catdog.summary()"
      ],
      "metadata": {
        "colab": {
          "base_uri": "https://localhost:8080/"
        },
        "id": "hLag3Z127VEo",
        "outputId": "d9048371-0ffe-45dc-d5d4-e62421563ec0"
      },
      "execution_count": null,
      "outputs": [
        {
          "output_type": "stream",
          "name": "stdout",
          "text": [
            "Model: \"model\"\n",
            "_________________________________________________________________\n",
            " Layer (type)                Output Shape              Param #   \n",
            "=================================================================\n",
            " input_3 (InputLayer)        [(None, 180, 180, 3)]     0         \n",
            "                                                                 \n",
            " tf.__operators__.getitem_1   (None, 180, 180, 3)      0         \n",
            " (SlicingOpLambda)                                               \n",
            "                                                                 \n",
            " tf.nn.bias_add_1 (TFOpLambd  (None, 180, 180, 3)      0         \n",
            " a)                                                              \n",
            "                                                                 \n",
            " vgg16 (Functional)          (None, None, None, 512)   14714688  \n",
            "                                                                 \n",
            " flatten (Flatten)           (None, 12800)             0         \n",
            "                                                                 \n",
            " dense (Dense)               (None, 256)               3277056   \n",
            "                                                                 \n",
            " dropout (Dropout)           (None, 256)               0         \n",
            "                                                                 \n",
            " dense_1 (Dense)             (None, 1)                 257       \n",
            "                                                                 \n",
            "=================================================================\n",
            "Total params: 17,992,001\n",
            "Trainable params: 3,277,313\n",
            "Non-trainable params: 14,714,688\n",
            "_________________________________________________________________\n"
          ]
        }
      ]
    },
    {
      "cell_type": "code",
      "source": [
        "callbacks = [\n",
        "    keras.callbacks.ModelCheckpoint(\n",
        "        filepath = 'convnet_from_vgg16.keras',\n",
        "        save_best_only = True,\n",
        "        moniter='val_loss'\n",
        "    ),\n",
        "    keras.callbacks.EarlyStopping(\n",
        "        monitor='val_loss',\n",
        "        patience=20,\n",
        "        mode='auto'\n",
        "    )\n",
        "]\n",
        "\n",
        "history = vgg16_net_catdog.fit(\n",
        "    train_dataset,\n",
        "    epochs = 50,\n",
        "    validation_data = validation_dataset,\n",
        "    callbacks = callbacks\n",
        ")"
      ],
      "metadata": {
        "colab": {
          "base_uri": "https://localhost:8080/"
        },
        "id": "g-OBNOCk7VHL",
        "outputId": "6b11d4a7-593c-4c48-ec0b-f19f3ef75e74"
      },
      "execution_count": null,
      "outputs": [
        {
          "output_type": "stream",
          "name": "stdout",
          "text": [
            "Epoch 1/50\n",
            "63/63 [==============================] - 23s 219ms/step - loss: 22.1752 - acc: 0.9225 - val_loss: 4.1088 - val_acc: 0.9690\n",
            "Epoch 2/50\n",
            "63/63 [==============================] - 11s 172ms/step - loss: 3.3175 - acc: 0.9770 - val_loss: 5.5970 - val_acc: 0.9660\n",
            "Epoch 3/50\n",
            "63/63 [==============================] - 11s 177ms/step - loss: 2.7561 - acc: 0.9800 - val_loss: 12.4758 - val_acc: 0.9490\n",
            "Epoch 4/50\n",
            "63/63 [==============================] - 12s 181ms/step - loss: 1.3083 - acc: 0.9885 - val_loss: 3.6476 - val_acc: 0.9770\n",
            "Epoch 5/50\n",
            "63/63 [==============================] - 11s 176ms/step - loss: 1.2680 - acc: 0.9915 - val_loss: 6.6735 - val_acc: 0.9640\n",
            "Epoch 6/50\n",
            "63/63 [==============================] - 11s 175ms/step - loss: 1.0949 - acc: 0.9925 - val_loss: 8.6826 - val_acc: 0.9690\n",
            "Epoch 7/50\n",
            "63/63 [==============================] - 11s 172ms/step - loss: 0.8784 - acc: 0.9925 - val_loss: 4.4602 - val_acc: 0.9750\n",
            "Epoch 8/50\n",
            "63/63 [==============================] - 12s 181ms/step - loss: 0.2522 - acc: 0.9960 - val_loss: 4.8725 - val_acc: 0.9790\n",
            "Epoch 9/50\n",
            "63/63 [==============================] - 11s 179ms/step - loss: 0.3764 - acc: 0.9975 - val_loss: 4.8174 - val_acc: 0.9750\n",
            "Epoch 10/50\n",
            "63/63 [==============================] - 11s 174ms/step - loss: 0.3987 - acc: 0.9970 - val_loss: 4.7312 - val_acc: 0.9800\n",
            "Epoch 11/50\n",
            "63/63 [==============================] - 11s 173ms/step - loss: 0.0456 - acc: 0.9995 - val_loss: 4.3550 - val_acc: 0.9790\n",
            "Epoch 12/50\n",
            "63/63 [==============================] - 11s 172ms/step - loss: 0.1171 - acc: 0.9970 - val_loss: 4.9742 - val_acc: 0.9820\n",
            "Epoch 13/50\n",
            "63/63 [==============================] - 11s 173ms/step - loss: 0.0944 - acc: 0.9990 - val_loss: 4.9671 - val_acc: 0.9820\n",
            "Epoch 14/50\n",
            "63/63 [==============================] - 11s 172ms/step - loss: 5.2203e-08 - acc: 1.0000 - val_loss: 4.8888 - val_acc: 0.9820\n",
            "Epoch 15/50\n",
            "63/63 [==============================] - 11s 175ms/step - loss: 0.1714 - acc: 0.9990 - val_loss: 4.9216 - val_acc: 0.9800\n",
            "Epoch 16/50\n",
            "63/63 [==============================] - 11s 174ms/step - loss: 0.1599 - acc: 0.9980 - val_loss: 5.2582 - val_acc: 0.9760\n",
            "Epoch 17/50\n",
            "63/63 [==============================] - 11s 174ms/step - loss: 0.1303 - acc: 0.9985 - val_loss: 4.4134 - val_acc: 0.9800\n",
            "Epoch 18/50\n",
            "63/63 [==============================] - 11s 175ms/step - loss: 0.1663 - acc: 0.9990 - val_loss: 4.7207 - val_acc: 0.9750\n",
            "Epoch 19/50\n",
            "63/63 [==============================] - 11s 174ms/step - loss: 0.2001 - acc: 0.9985 - val_loss: 5.0063 - val_acc: 0.9750\n",
            "Epoch 20/50\n",
            "63/63 [==============================] - 11s 174ms/step - loss: 0.0000e+00 - acc: 1.0000 - val_loss: 5.0063 - val_acc: 0.9750\n",
            "Epoch 21/50\n",
            "63/63 [==============================] - 11s 176ms/step - loss: 0.1721 - acc: 0.9985 - val_loss: 4.3953 - val_acc: 0.9770\n",
            "Epoch 22/50\n",
            "63/63 [==============================] - 11s 173ms/step - loss: 0.0382 - acc: 0.9995 - val_loss: 4.6094 - val_acc: 0.9800\n",
            "Epoch 23/50\n",
            "63/63 [==============================] - 11s 174ms/step - loss: 0.1577 - acc: 0.9980 - val_loss: 4.5332 - val_acc: 0.9790\n",
            "Epoch 24/50\n",
            "63/63 [==============================] - 11s 173ms/step - loss: 0.0000e+00 - acc: 1.0000 - val_loss: 4.5332 - val_acc: 0.9790\n"
          ]
        }
      ]
    },
    {
      "cell_type": "markdown",
      "source": [
        "### 시각화"
      ],
      "metadata": {
        "id": "HkLjcCxe8FFw"
      }
    },
    {
      "cell_type": "code",
      "source": [
        "test_loss, test_acc = vgg16_net_catdog.evaluate(test_dataset)\n",
        "print(f'테스트 정확도 : {test_acc:.3f}')"
      ],
      "metadata": {
        "colab": {
          "base_uri": "https://localhost:8080/"
        },
        "id": "zU6ZIA5u7VNf",
        "outputId": "3ae394a3-1b63-4996-9b39-66d99c8f64c2"
      },
      "execution_count": null,
      "outputs": [
        {
          "output_type": "stream",
          "name": "stdout",
          "text": [
            "63/63 [==============================] - 7s 115ms/step - loss: 6.8794 - acc: 0.9730\n",
            "테스트 정확도 : 0.973\n"
          ]
        }
      ]
    },
    {
      "cell_type": "code",
      "source": [
        "import matplotlib.pyplot as plt\n",
        "\n",
        "# train 검증의 손실과 정확도 시각화\n",
        "history = history.history\n",
        "\n",
        "acc = history['acc']\n",
        "val_acc = history['val_acc']\n",
        "loss = history['loss']\n",
        "val_loss = history['val_loss']\n",
        "\n",
        "epochs = range(len(acc))\n",
        "\n",
        "# 한 이미지로 보기 위하여 서브플롯 생성\n",
        "fig, axs = plt.subplots(1, 2, figsize=(20, 10))\n",
        "axs = axs.flatten()\n",
        "\n",
        "axs[0].plot(epochs, loss, 'r', label='Training loss')\n",
        "axs[0].plot(epochs, val_loss, 'b', label='Validation loss')\n",
        "axs[0].set_title('Training and validation loss')\n",
        "axs[0].legend(loc=0)\n",
        "\n",
        "axs[1].plot(epochs, acc, 'r', label='Training acc')\n",
        "axs[1].plot(epochs, val_acc, 'b', label='Validation acc')\n",
        "axs[1].set_title('Training and validation acc')\n",
        "axs[1].legend(loc=0)"
      ],
      "metadata": {
        "colab": {
          "base_uri": "https://localhost:8080/",
          "height": 625
        },
        "id": "-kM_DhOg7VLA",
        "outputId": "c1e62179-a716-404d-8d72-4b98002b7eb9"
      },
      "execution_count": null,
      "outputs": [
        {
          "output_type": "execute_result",
          "data": {
            "text/plain": [
              "<matplotlib.legend.Legend at 0x7f03a97865b0>"
            ]
          },
          "metadata": {},
          "execution_count": 14
        },
        {
          "output_type": "display_data",
          "data": {
            "text/plain": [
              "<Figure size 1440x720 with 2 Axes>"
            ],
            "image/png": "[encoded data removed]"
          },
          "metadata": {
            "needs_background": "light"
          }
        }
      ]
    },
    {
      "cell_type": "markdown",
      "source": [
        "#### confusion matrix"
      ],
      "metadata": {
        "id": "X7LMPSY48M04"
      }
    },
    {
      "cell_type": "code",
      "source": [
        "print(\"Predict\")\n",
        "pred = vgg16_net_catdog.predict_generator(test_dataset, steps=200, verbose=1)"
      ],
      "metadata": {
        "colab": {
          "base_uri": "https://localhost:8080/"
        },
        "id": "BZLmHtUx8EJp",
        "outputId": "29ac110f-297f-45d3-a7ee-419dbbc102cd"
      },
      "execution_count": null,
      "outputs": [
        {
          "output_type": "stream",
          "name": "stdout",
          "text": [
            "Predict\n"
          ]
        },
        {
          "output_type": "stream",
          "name": "stderr",
          "text": [
            "<ipython-input-16-38f8ba6bd680>:2: UserWarning: `Model.predict_generator` is deprecated and will be removed in a future version. Please use `Model.predict`, which supports generators.\n",
            "  pred = vgg16_net_catdog.predict_generator(test_dataset, steps=200, verbose=1)\n"
          ]
        },
        {
          "output_type": "stream",
          "name": "stdout",
          "text": [
            " 63/200 [========>.....................] - ETA: 15s"
          ]
        },
        {
          "output_type": "stream",
          "name": "stderr",
          "text": [
            "WARNING:tensorflow:Your input ran out of data; interrupting training. Make sure that your dataset or generator can generate at least `steps_per_epoch * epochs` batches (in this case, 200 batches). You may need to use the repeat() function when building your dataset.\n"
          ]
        },
        {
          "output_type": "stream",
          "name": "stdout",
          "text": [
            "\b\b\b\b\b\b\b\b\b\b\b\b\b\b\b\b\b\b\b\b\b\b\b\b\b\b\b\b\b\b\b\b\b\b\b\b\b\b\b\b\b\b\b\b\b\b\b\b\b\b\b\r200/200 [==============================] - 7s 35ms/step\n"
          ]
        }
      ]
    },
    {
      "cell_type": "code",
      "source": [
        "#분류 작업\n",
        "\n",
        "predict_data4 = []\n",
        "\n",
        "for i in range(len(pred)):\n",
        "  if pred[i] > 0.500:\n",
        "    predict_data4.append(1)\n",
        "  else:\n",
        "    predict_data4.append(0)"
      ],
      "metadata": {
        "id": "3vlm9gPH8ELx"
      },
      "execution_count": null,
      "outputs": []
    },
    {
      "cell_type": "code",
      "source": [
        "import tensorflow as tf\n",
        "true_categories = tf.concat([y for x, y in test_dataset], axis=0)\n",
        "true_categories"
      ],
      "metadata": {
        "colab": {
          "base_uri": "https://localhost:8080/"
        },
        "id": "SK6a1icl8EQX",
        "outputId": "e96707dc-96b4-44df-b115-e9587bf37f38"
      },
      "execution_count": null,
      "outputs": [
        {
          "output_type": "execute_result",
          "data": {
            "text/plain": [
              "<tf.Tensor: shape=(2000,), dtype=int32, numpy=array([1, 0, 1, ..., 0, 1, 1], dtype=int32)>"
            ]
          },
          "metadata": {},
          "execution_count": 20
        }
      ]
    },
    {
      "cell_type": "code",
      "source": [
        "from sklearn.metrics import confusion_matrix\n",
        "import seaborn as sns\n",
        "print(\"Confusion Matrix\")\n",
        "conf_matrix = confusion_matrix(true_categories, predict_data4)\n",
        "#print(conf_matrix)\n",
        "\n",
        "sns.heatmap(conf_matrix, cmap=\"YlGnBu\", annot=True, fmt='g')\n",
        "plt.xlabel(\"predicted value\")\n",
        "plt.ylabel(\"true value\")"
      ],
      "metadata": {
        "colab": {
          "base_uri": "https://localhost:8080/",
          "height": 316
        },
        "id": "HBNlXAmD8ESX",
        "outputId": "cf0c0530-308a-4cb5-8170-854e6a680b9a"
      },
      "execution_count": null,
      "outputs": [
        {
          "output_type": "stream",
          "name": "stdout",
          "text": [
            "Confusion Matrix\n"
          ]
        },
        {
          "output_type": "execute_result",
          "data": {
            "text/plain": [
              "Text(33.0, 0.5, 'true value')"
            ]
          },
          "metadata": {},
          "execution_count": 21
        },
        {
          "output_type": "display_data",
          "data": {
            "text/plain": [
              "<Figure size 432x288 with 2 Axes>"
            ],
            "image/png": "[encoded data removed]"
          },
          "metadata": {
            "needs_background": "light"
          }
        }
      ]
    },
    {
      "cell_type": "markdown",
      "source": [
        "### 사용 결과 (테스트 정확도 : 0.973)\n",
        "- 중간에 EarlyStopping 작동. 24에폭 훈련"
      ],
      "metadata": {
        "id": "y5gbITsd8XCI"
      }
    },
    {
      "cell_type": "markdown",
      "source": [
        "## VGG19"
      ],
      "metadata": {
        "id": "Fkf5lxFk8dzw"
      }
    },
    {
      "cell_type": "code",
      "source": [
        "from keras.applications.vgg19 import VGG19, preprocess_input, decode_predictions\n",
        "\n",
        "vgg19_net_catdog = VGG19(include_top = False, weights='imagenet')\n",
        "vgg19_net_catdog.trainable = False"
      ],
      "metadata": {
        "colab": {
          "base_uri": "https://localhost:8080/"
        },
        "id": "oyARvrb38Q9B",
        "outputId": "765d2ac5-1501-40eb-dcf4-2561066ac2b1"
      },
      "execution_count": null,
      "outputs": [
        {
          "output_type": "stream",
          "name": "stdout",
          "text": [
            "Downloading data from https://storage.googleapis.com/tensorflow/keras-applications/vgg19/vgg19_weights_tf_dim_ordering_tf_kernels_notop.h5\n",
            "80134624/80134624 [==============================] - 1s 0us/step\n"
          ]
        }
      ]
    },
    {
      "cell_type": "code",
      "source": [
        "inputs = keras.Input(shape=(180, 180, 3))\n",
        "x = keras.applications.vgg19.preprocess_input(inputs)\n",
        "x = vgg19_net_catdog(x)\n",
        "x = layers.Flatten()(x)\n",
        "x = layers.Dense(256)(x)\n",
        "x = layers.Dropout(0.5)(x)\n",
        "outputs = layers.Dense(1, activation='sigmoid')(x)\n",
        "vgg19_net_catdog = keras.Model(inputs, outputs)\n",
        "\n",
        "\n",
        "vgg19_net_catdog.compile(loss='binary_crossentropy',\n",
        "              optimizer='rmsprop',\n",
        "              metrics='acc')\n",
        "\n",
        "\n",
        "vgg19_net_catdog.summary()"
      ],
      "metadata": {
        "colab": {
          "base_uri": "https://localhost:8080/"
        },
        "id": "BZkXHkZA8Q_f",
        "outputId": "04894f39-a864-4e39-d5d4-71e03ff0a4da"
      },
      "execution_count": null,
      "outputs": [
        {
          "output_type": "stream",
          "name": "stdout",
          "text": [
            "Model: \"model_1\"\n",
            "_________________________________________________________________\n",
            " Layer (type)                Output Shape              Param #   \n",
            "=================================================================\n",
            " input_6 (InputLayer)        [(None, 180, 180, 3)]     0         \n",
            "                                                                 \n",
            " tf.__operators__.getitem_3   (None, 180, 180, 3)      0         \n",
            " (SlicingOpLambda)                                               \n",
            "                                                                 \n",
            " tf.nn.bias_add_3 (TFOpLambd  (None, 180, 180, 3)      0         \n",
            " a)                                                              \n",
            "                                                                 \n",
            " vgg19 (Functional)          (None, None, None, 512)   20024384  \n",
            "                                                                 \n",
            " flatten_1 (Flatten)         (None, 12800)             0         \n",
            "                                                                 \n",
            " dense_2 (Dense)             (None, 256)               3277056   \n",
            "                                                                 \n",
            " dropout_1 (Dropout)         (None, 256)               0         \n",
            "                                                                 \n",
            " dense_3 (Dense)             (None, 1)                 257       \n",
            "                                                                 \n",
            "=================================================================\n",
            "Total params: 23,301,697\n",
            "Trainable params: 3,277,313\n",
            "Non-trainable params: 20,024,384\n",
            "_________________________________________________________________\n"
          ]
        }
      ]
    },
    {
      "cell_type": "code",
      "source": [
        "callbacks = [\n",
        "    keras.callbacks.ModelCheckpoint(\n",
        "        filepath = 'convnet_from_vgg19.keras',\n",
        "        save_best_only = True,\n",
        "        moniter='val_loss'\n",
        "    ),\n",
        "    keras.callbacks.EarlyStopping(\n",
        "        monitor='val_loss',\n",
        "        patience=20,\n",
        "        mode='auto'\n",
        "    )\n",
        "]\n",
        "\n",
        "history = vgg19_net_catdog.fit(\n",
        "    train_dataset,\n",
        "    epochs = 50,\n",
        "    validation_data = validation_dataset,\n",
        "    callbacks = callbacks\n",
        ")"
      ],
      "metadata": {
        "colab": {
          "base_uri": "https://localhost:8080/"
        },
        "id": "j13QlLyD7Ucg",
        "outputId": "8bc8d0fc-4814-4f89-ff07-311710b74052"
      },
      "execution_count": null,
      "outputs": [
        {
          "output_type": "stream",
          "name": "stdout",
          "text": [
            "Epoch 1/50\n",
            "63/63 [==============================] - 13s 209ms/step - loss: 0.0633 - acc: 0.9980 - val_loss: 5.0834 - val_acc: 0.9750\n",
            "Epoch 2/50\n",
            "63/63 [==============================] - 13s 207ms/step - loss: 0.1058 - acc: 0.9980 - val_loss: 5.5181 - val_acc: 0.9760\n",
            "Epoch 3/50\n",
            "63/63 [==============================] - 13s 212ms/step - loss: 0.4228 - acc: 0.9925 - val_loss: 4.9244 - val_acc: 0.9730\n",
            "Epoch 4/50\n",
            "63/63 [==============================] - 13s 209ms/step - loss: 0.0774 - acc: 0.9990 - val_loss: 4.5852 - val_acc: 0.9760\n",
            "Epoch 5/50\n",
            "63/63 [==============================] - 13s 203ms/step - loss: 8.8083e-10 - acc: 1.0000 - val_loss: 4.5990 - val_acc: 0.9760\n",
            "Epoch 6/50\n",
            "63/63 [==============================] - 13s 211ms/step - loss: 0.0862 - acc: 0.9990 - val_loss: 4.3581 - val_acc: 0.9770\n",
            "Epoch 7/50\n",
            "63/63 [==============================] - 13s 208ms/step - loss: 4.4106e-07 - acc: 1.0000 - val_loss: 9.0806 - val_acc: 0.9610\n",
            "Epoch 8/50\n",
            "63/63 [==============================] - 13s 212ms/step - loss: 0.0948 - acc: 0.9995 - val_loss: 4.6878 - val_acc: 0.9760\n",
            "Epoch 9/50\n",
            "63/63 [==============================] - 13s 205ms/step - loss: 0.0979 - acc: 0.9990 - val_loss: 4.4648 - val_acc: 0.9780\n",
            "Epoch 10/50\n",
            "63/63 [==============================] - 13s 209ms/step - loss: 0.0421 - acc: 0.9990 - val_loss: 4.2141 - val_acc: 0.9760\n",
            "Epoch 11/50\n",
            "63/63 [==============================] - 13s 208ms/step - loss: 0.2063 - acc: 0.9980 - val_loss: 3.6408 - val_acc: 0.9740\n",
            "Epoch 12/50\n",
            "63/63 [==============================] - 13s 205ms/step - loss: 2.1968e-10 - acc: 1.0000 - val_loss: 3.6761 - val_acc: 0.9720\n",
            "Epoch 13/50\n",
            "63/63 [==============================] - 13s 205ms/step - loss: 0.1155 - acc: 0.9975 - val_loss: 4.6776 - val_acc: 0.9790\n",
            "Epoch 14/50\n",
            "63/63 [==============================] - 13s 209ms/step - loss: 0.3667 - acc: 0.9975 - val_loss: 4.8814 - val_acc: 0.9750\n",
            "Epoch 15/50\n",
            "63/63 [==============================] - 13s 209ms/step - loss: 0.1993 - acc: 0.9975 - val_loss: 6.4064 - val_acc: 0.9670\n",
            "Epoch 16/50\n",
            "63/63 [==============================] - 13s 205ms/step - loss: 0.0153 - acc: 0.9995 - val_loss: 4.5463 - val_acc: 0.9760\n",
            "Epoch 17/50\n",
            "63/63 [==============================] - 13s 204ms/step - loss: 0.0000e+00 - acc: 1.0000 - val_loss: 4.5463 - val_acc: 0.9760\n",
            "Epoch 18/50\n",
            "63/63 [==============================] - 13s 205ms/step - loss: 0.0000e+00 - acc: 1.0000 - val_loss: 4.5463 - val_acc: 0.9760\n",
            "Epoch 19/50\n",
            "63/63 [==============================] - 13s 205ms/step - loss: 9.4634e-12 - acc: 1.0000 - val_loss: 4.5463 - val_acc: 0.9760\n",
            "Epoch 20/50\n",
            "63/63 [==============================] - 13s 206ms/step - loss: 0.1092 - acc: 0.9990 - val_loss: 4.6716 - val_acc: 0.9730\n",
            "Epoch 21/50\n",
            "63/63 [==============================] - 13s 206ms/step - loss: 0.0000e+00 - acc: 1.0000 - val_loss: 4.6716 - val_acc: 0.9730\n",
            "Epoch 22/50\n",
            "63/63 [==============================] - 13s 204ms/step - loss: 1.0508e-22 - acc: 1.0000 - val_loss: 4.6716 - val_acc: 0.9730\n",
            "Epoch 23/50\n",
            "63/63 [==============================] - 13s 205ms/step - loss: 1.0886e-21 - acc: 1.0000 - val_loss: 4.6716 - val_acc: 0.9730\n",
            "Epoch 24/50\n",
            "63/63 [==============================] - 13s 209ms/step - loss: 0.0671 - acc: 0.9990 - val_loss: 4.0281 - val_acc: 0.9790\n",
            "Epoch 25/50\n",
            "63/63 [==============================] - 13s 210ms/step - loss: 0.0000e+00 - acc: 1.0000 - val_loss: 4.0281 - val_acc: 0.9790\n",
            "Epoch 26/50\n",
            "63/63 [==============================] - 13s 207ms/step - loss: 5.3464e-37 - acc: 1.0000 - val_loss: 4.0281 - val_acc: 0.9790\n",
            "Epoch 27/50\n",
            "63/63 [==============================] - 13s 207ms/step - loss: 0.0000e+00 - acc: 1.0000 - val_loss: 4.0281 - val_acc: 0.9790\n",
            "Epoch 28/50\n",
            "63/63 [==============================] - 13s 206ms/step - loss: 0.0000e+00 - acc: 1.0000 - val_loss: 4.0281 - val_acc: 0.9790\n",
            "Epoch 29/50\n",
            "63/63 [==============================] - 13s 204ms/step - loss: 2.1832e-16 - acc: 1.0000 - val_loss: 4.0281 - val_acc: 0.9790\n",
            "Epoch 30/50\n",
            "63/63 [==============================] - 13s 205ms/step - loss: 0.0000e+00 - acc: 1.0000 - val_loss: 4.0281 - val_acc: 0.9790\n",
            "Epoch 31/50\n",
            "63/63 [==============================] - 13s 206ms/step - loss: 9.8109e-24 - acc: 1.0000 - val_loss: 4.0281 - val_acc: 0.9790\n"
          ]
        }
      ]
    },
    {
      "cell_type": "code",
      "source": [
        "test_loss, test_acc = vgg19_net_catdog.evaluate(test_dataset)\n",
        "print(f'테스트 정확도 : {test_acc:.3f}')"
      ],
      "metadata": {
        "colab": {
          "base_uri": "https://localhost:8080/"
        },
        "id": "rbS1jsOw8qKg",
        "outputId": "f651f567-99e2-453f-b0f2-6ee3c45b02e1"
      },
      "execution_count": null,
      "outputs": [
        {
          "output_type": "stream",
          "name": "stdout",
          "text": [
            "63/63 [==============================] - 9s 135ms/step - loss: 5.0302 - acc: 0.9805\n",
            "테스트 정확도 : 0.980\n"
          ]
        }
      ]
    },
    {
      "cell_type": "markdown",
      "source": [
        "### 시각화"
      ],
      "metadata": {
        "id": "WQ8lMkjw8qoR"
      }
    },
    {
      "cell_type": "code",
      "source": [
        "import matplotlib.pyplot as plt\n",
        "\n",
        "# train 검증의 손실과 정확도 시각화\n",
        "history = history.history\n",
        "\n",
        "acc = history['acc']\n",
        "val_acc = history['val_acc']\n",
        "loss = history['loss']\n",
        "val_loss = history['val_loss']\n",
        "\n",
        "epochs = range(len(acc))\n",
        "\n",
        "# 한 이미지로 보기 위하여 서브플롯 생성\n",
        "fig, axs = plt.subplots(1, 2, figsize=(20, 10))\n",
        "axs = axs.flatten()\n",
        "\n",
        "axs[0].plot(epochs, loss, 'r', label='Training loss')\n",
        "axs[0].plot(epochs, val_loss, 'b', label='Validation loss')\n",
        "axs[0].set_title('Training and validation loss')\n",
        "axs[0].legend(loc=0)\n",
        "\n",
        "axs[1].plot(epochs, acc, 'r', label='Training acc')\n",
        "axs[1].plot(epochs, val_acc, 'b', label='Validation acc')\n",
        "axs[1].set_title('Training and validation acc')\n",
        "axs[1].legend(loc=0)"
      ],
      "metadata": {
        "colab": {
          "base_uri": "https://localhost:8080/",
          "height": 625
        },
        "id": "r_RE_vJT8oBo",
        "outputId": "3f5d8a24-2858-4b71-d584-06e984cc9687"
      },
      "execution_count": null,
      "outputs": [
        {
          "output_type": "execute_result",
          "data": {
            "text/plain": [
              "<matplotlib.legend.Legend at 0x7f039e187520>"
            ]
          },
          "metadata": {},
          "execution_count": 29
        },
        {
          "output_type": "display_data",
          "data": {
            "text/plain": [
              "<Figure size 1440x720 with 2 Axes>"
            ],
            "image/png": "[encoded data removed]"
          },
          "metadata": {
            "needs_background": "light"
          }
        }
      ]
    },
    {
      "cell_type": "markdown",
      "source": [
        "#### confusion matrix"
      ],
      "metadata": {
        "id": "EraLCxhr8tcA"
      }
    },
    {
      "cell_type": "code",
      "source": [
        "print(\"Predict\")\n",
        "pred = vgg19_net_catdog.predict_generator(test_dataset, steps=200, verbose=1)"
      ],
      "metadata": {
        "colab": {
          "base_uri": "https://localhost:8080/"
        },
        "id": "7dssKLvb8u_H",
        "outputId": "292ee6e1-b449-445b-cd24-8eb53debbdd1"
      },
      "execution_count": null,
      "outputs": [
        {
          "output_type": "stream",
          "name": "stdout",
          "text": [
            "Predict\n"
          ]
        },
        {
          "output_type": "stream",
          "name": "stderr",
          "text": [
            "<ipython-input-28-9f33d6bef1f7>:2: UserWarning: `Model.predict_generator` is deprecated and will be removed in a future version. Please use `Model.predict`, which supports generators.\n",
            "  pred = vgg19_net_catdog.predict_generator(test_dataset, steps=200, verbose=1)\n"
          ]
        },
        {
          "output_type": "stream",
          "name": "stdout",
          "text": [
            " 63/200 [========>.....................] - ETA: 17s"
          ]
        },
        {
          "output_type": "stream",
          "name": "stderr",
          "text": [
            "WARNING:tensorflow:Your input ran out of data; interrupting training. Make sure that your dataset or generator can generate at least `steps_per_epoch * epochs` batches (in this case, 200 batches). You may need to use the repeat() function when building your dataset.\n"
          ]
        },
        {
          "output_type": "stream",
          "name": "stdout",
          "text": [
            "\b\b\b\b\b\b\b\b\b\b\b\b\b\b\b\b\b\b\b\b\b\b\b\b\b\b\b\b\b\b\b\b\b\b\b\b\b\b\b\b\b\b\b\b\b\b\b\b\b\b\b\r200/200 [==============================] - 9s 41ms/step\n"
          ]
        }
      ]
    },
    {
      "cell_type": "code",
      "source": [
        "#분류 작업\n",
        "\n",
        "predict_data4 = []\n",
        "\n",
        "for i in range(len(pred)):\n",
        "  if pred[i] > 0.500:\n",
        "    predict_data4.append(1)\n",
        "  else:\n",
        "    predict_data4.append(0)"
      ],
      "metadata": {
        "id": "zvCJ1tww8wQf"
      },
      "execution_count": null,
      "outputs": []
    },
    {
      "cell_type": "code",
      "source": [
        "true_categories = tf.concat([y for x, y in test_dataset], axis=0)\n",
        "true_categories"
      ],
      "metadata": {
        "colab": {
          "base_uri": "https://localhost:8080/"
        },
        "id": "hDqlaZ4a8xIY",
        "outputId": "8644df63-ae2e-4107-ab73-d95598b744c6"
      },
      "execution_count": null,
      "outputs": [
        {
          "output_type": "execute_result",
          "data": {
            "text/plain": [
              "<tf.Tensor: shape=(2000,), dtype=int32, numpy=array([0, 1, 0, ..., 1, 0, 0], dtype=int32)>"
            ]
          },
          "metadata": {},
          "execution_count": 31
        }
      ]
    },
    {
      "cell_type": "code",
      "source": [
        "# confusion matrix\n",
        "from sklearn.metrics import confusion_matrix\n",
        "import seaborn as sns\n",
        "print(\"Confusion Matrix\")\n",
        "conf_matrix = confusion_matrix(true_categories, predict_data4)\n",
        "#print(conf_matrix)\n",
        "\n",
        "sns.heatmap(conf_matrix, cmap=\"YlGnBu\", annot=True, fmt='g')\n",
        "plt.xlabel(\"predicted value\")\n",
        "plt.ylabel(\"true value\")"
      ],
      "metadata": {
        "colab": {
          "base_uri": "https://localhost:8080/",
          "height": 316
        },
        "id": "xvXblIqB8yGg",
        "outputId": "16ee080f-dd5f-445a-f0de-a0f8f3ea5a45"
      },
      "execution_count": null,
      "outputs": [
        {
          "output_type": "stream",
          "name": "stdout",
          "text": [
            "Confusion Matrix\n"
          ]
        },
        {
          "output_type": "execute_result",
          "data": {
            "text/plain": [
              "Text(33.0, 0.5, 'true value')"
            ]
          },
          "metadata": {},
          "execution_count": 32
        },
        {
          "output_type": "display_data",
          "data": {
            "text/plain": [
              "<Figure size 432x288 with 2 Axes>"
            ],
            "image/png": "[encoded data removed]"
          },
          "metadata": {
            "needs_background": "light"
          }
        }
      ]
    },
    {
      "cell_type": "markdown",
      "source": [
        "### 사용 결과 (테스트 정확도 : 0.980)\n",
        "- 중간에 EarlyStopping 작동. 31에폭 훈련"
      ],
      "metadata": {
        "id": "47IgBq5R806h"
      }
    },
    {
      "cell_type": "markdown",
      "source": [
        "## inception_v3(GoogleNet)"
      ],
      "metadata": {
        "id": "RVXZYt9g82nY"
      }
    },
    {
      "cell_type": "code",
      "source": [
        "from tensorflow.keras.applications.inception_v3 import InceptionV3, preprocess_input, decode_predictions\n",
        "\n",
        "inception_catdog = InceptionV3(include_top=False, weights='imagenet')\n",
        "inception_catdog.trainable = False"
      ],
      "metadata": {
        "colab": {
          "base_uri": "https://localhost:8080/"
        },
        "id": "0RpxczLv8-BJ",
        "outputId": "c97595de-e177-4b39-92c5-d6a7a1406ca7"
      },
      "execution_count": null,
      "outputs": [
        {
          "output_type": "stream",
          "name": "stdout",
          "text": [
            "Downloading data from https://storage.googleapis.com/tensorflow/keras-applications/inception_v3/inception_v3_weights_tf_dim_ordering_tf_kernels_notop.h5\n",
            "87910968/87910968 [==============================] - 0s 0us/step\n"
          ]
        }
      ]
    },
    {
      "cell_type": "code",
      "source": [
        "import keras\n",
        "from keras import layers\n",
        "\n",
        "inputs = keras.Input(shape=(180, 180, 3))\n",
        "x = keras.applications.inception_v3.preprocess_input(inputs)\n",
        "x = inception_catdog(x)\n",
        "x = layers.Flatten()(x)\n",
        "x = layers.Dense(256)(x)\n",
        "x = layers.Dropout(0.5)(x)\n",
        "outputs = layers.Dense(1, activation='sigmoid')(x)\n",
        "inception_v3_net_catdog = keras.Model(inputs, outputs)\n",
        "\n",
        "\n",
        "inception_v3_net_catdog.compile(loss='binary_crossentropy',\n",
        "              optimizer='rmsprop',\n",
        "              metrics='acc')\n",
        "\n",
        "\n",
        "inception_v3_net_catdog.summary()"
      ],
      "metadata": {
        "colab": {
          "base_uri": "https://localhost:8080/"
        },
        "id": "j6NVbVyr9AR4",
        "outputId": "0ff78b78-f8f8-493b-c411-e269864a7f7c"
      },
      "execution_count": null,
      "outputs": [
        {
          "output_type": "stream",
          "name": "stdout",
          "text": [
            "Model: \"model_2\"\n",
            "_________________________________________________________________\n",
            " Layer (type)                Output Shape              Param #   \n",
            "=================================================================\n",
            " input_8 (InputLayer)        [(None, 180, 180, 3)]     0         \n",
            "                                                                 \n",
            " tf.math.truediv (TFOpLambda  (None, 180, 180, 3)      0         \n",
            " )                                                               \n",
            "                                                                 \n",
            " tf.math.subtract (TFOpLambd  (None, 180, 180, 3)      0         \n",
            " a)                                                              \n",
            "                                                                 \n",
            " inception_v3 (Functional)   (None, None, None, 2048)  21802784  \n",
            "                                                                 \n",
            " flatten_2 (Flatten)         (None, 32768)             0         \n",
            "                                                                 \n",
            " dense_4 (Dense)             (None, 256)               8388864   \n",
            "                                                                 \n",
            " dropout_2 (Dropout)         (None, 256)               0         \n",
            "                                                                 \n",
            " dense_5 (Dense)             (None, 1)                 257       \n",
            "                                                                 \n",
            "=================================================================\n",
            "Total params: 30,191,905\n",
            "Trainable params: 8,389,121\n",
            "Non-trainable params: 21,802,784\n",
            "_________________________________________________________________\n"
          ]
        }
      ]
    },
    {
      "cell_type": "code",
      "source": [
        "callbacks = [\n",
        "    keras.callbacks.ModelCheckpoint(\n",
        "        filepath = 'convnet_from_inception_v3.keras',\n",
        "        save_best_only = True,\n",
        "        moniter='val_loss'\n",
        "    ),\n",
        "    keras.callbacks.EarlyStopping(\n",
        "        monitor='val_loss',\n",
        "        patience=20,\n",
        "        mode='auto'\n",
        "    )\n",
        "]\n",
        "\n",
        "history = inception_v3_net_catdog.fit(\n",
        "    train_dataset,\n",
        "    epochs = 50,\n",
        "    validation_data = validation_dataset,\n",
        "    callbacks = callbacks\n",
        ")"
      ],
      "metadata": {
        "colab": {
          "base_uri": "https://localhost:8080/"
        },
        "id": "9nC5RTai9AUC",
        "outputId": "aaaabd17-4948-495c-f65f-f1174f893368"
      },
      "execution_count": null,
      "outputs": [
        {
          "output_type": "stream",
          "name": "stdout",
          "text": [
            "Epoch 1/50\n",
            "63/63 [==============================] - 13s 134ms/step - loss: 12.5866 - acc: 0.9210 - val_loss: 32.4154 - val_acc: 0.7320\n",
            "Epoch 2/50\n",
            "63/63 [==============================] - 6s 94ms/step - loss: 6.0362 - acc: 0.9635 - val_loss: 2.5368 - val_acc: 0.9810\n",
            "Epoch 3/50\n",
            "63/63 [==============================] - 6s 86ms/step - loss: 2.3439 - acc: 0.9785 - val_loss: 2.8787 - val_acc: 0.9820\n",
            "Epoch 4/50\n",
            "63/63 [==============================] - 5s 85ms/step - loss: 2.3961 - acc: 0.9840 - val_loss: 6.7380 - val_acc: 0.9680\n",
            "Epoch 5/50\n",
            "63/63 [==============================] - 6s 86ms/step - loss: 1.3815 - acc: 0.9855 - val_loss: 3.0753 - val_acc: 0.9790\n",
            "Epoch 6/50\n",
            "63/63 [==============================] - 5s 85ms/step - loss: 1.0073 - acc: 0.9910 - val_loss: 3.7616 - val_acc: 0.9820\n",
            "Epoch 7/50\n",
            "63/63 [==============================] - 6s 85ms/step - loss: 0.6116 - acc: 0.9920 - val_loss: 4.0005 - val_acc: 0.9810\n",
            "Epoch 8/50\n",
            "63/63 [==============================] - 5s 84ms/step - loss: 0.6123 - acc: 0.9945 - val_loss: 7.2847 - val_acc: 0.9680\n",
            "Epoch 9/50\n",
            "63/63 [==============================] - 5s 84ms/step - loss: 0.5206 - acc: 0.9945 - val_loss: 3.0485 - val_acc: 0.9830\n",
            "Epoch 10/50\n",
            "63/63 [==============================] - 5s 84ms/step - loss: 1.4033 - acc: 0.9920 - val_loss: 7.5772 - val_acc: 0.9670\n",
            "Epoch 11/50\n",
            "63/63 [==============================] - 5s 84ms/step - loss: 0.3537 - acc: 0.9955 - val_loss: 3.6779 - val_acc: 0.9810\n",
            "Epoch 12/50\n",
            "63/63 [==============================] - 5s 84ms/step - loss: 0.1786 - acc: 0.9980 - val_loss: 3.0943 - val_acc: 0.9830\n",
            "Epoch 13/50\n",
            "63/63 [==============================] - 6s 86ms/step - loss: 0.5492 - acc: 0.9945 - val_loss: 4.1798 - val_acc: 0.9800\n",
            "Epoch 14/50\n",
            "63/63 [==============================] - 5s 84ms/step - loss: 0.3288 - acc: 0.9975 - val_loss: 5.1407 - val_acc: 0.9770\n",
            "Epoch 15/50\n",
            "63/63 [==============================] - 6s 94ms/step - loss: 0.0629 - acc: 0.9980 - val_loss: 4.2628 - val_acc: 0.9820\n",
            "Epoch 16/50\n",
            "63/63 [==============================] - 6s 89ms/step - loss: 1.2491 - acc: 0.9905 - val_loss: 4.6978 - val_acc: 0.9780\n",
            "Epoch 17/50\n",
            "63/63 [==============================] - 6s 85ms/step - loss: 1.9938e-10 - acc: 1.0000 - val_loss: 4.6976 - val_acc: 0.9780\n",
            "Epoch 18/50\n",
            "63/63 [==============================] - 6s 87ms/step - loss: 0.1535 - acc: 0.9980 - val_loss: 4.4721 - val_acc: 0.9820\n",
            "Epoch 19/50\n",
            "63/63 [==============================] - 5s 84ms/step - loss: 0.4520 - acc: 0.9960 - val_loss: 4.9949 - val_acc: 0.9800\n",
            "Epoch 20/50\n",
            "63/63 [==============================] - 6s 89ms/step - loss: 0.1608 - acc: 0.9990 - val_loss: 5.1429 - val_acc: 0.9800\n",
            "Epoch 21/50\n",
            "63/63 [==============================] - 6s 87ms/step - loss: 0.3082 - acc: 0.9970 - val_loss: 4.9642 - val_acc: 0.9790\n",
            "Epoch 22/50\n",
            "63/63 [==============================] - 6s 87ms/step - loss: 0.3110 - acc: 0.9990 - val_loss: 4.5714 - val_acc: 0.9790\n"
          ]
        }
      ]
    },
    {
      "cell_type": "code",
      "source": [
        "test_loss, test_acc = inception_v3_net_catdog.evaluate(test_dataset)\n",
        "print(f'테스트 정확도 : {test_acc:.3f}')"
      ],
      "metadata": {
        "colab": {
          "base_uri": "https://localhost:8080/"
        },
        "id": "qQmcRuO29AV0",
        "outputId": "b3f111dd-34ac-4ef9-f867-b4bd886c960f"
      },
      "execution_count": null,
      "outputs": [
        {
          "output_type": "stream",
          "name": "stdout",
          "text": [
            "63/63 [==============================] - 4s 55ms/step - loss: 3.6335 - acc: 0.9820\n",
            "테스트 정확도 : 0.982\n"
          ]
        }
      ]
    },
    {
      "cell_type": "markdown",
      "source": [
        "### 시각화"
      ],
      "metadata": {
        "id": "9gkaTXGz9tCt"
      }
    },
    {
      "cell_type": "code",
      "source": [
        "import matplotlib.pyplot as plt\n",
        "\n",
        "# train 검증의 손실과 정확도 시각화\n",
        "history = history.history\n",
        "\n",
        "acc = history['acc']\n",
        "val_acc = history['val_acc']\n",
        "loss = history['loss']\n",
        "val_loss = history['val_loss']\n",
        "\n",
        "epochs = range(len(acc))\n",
        "\n",
        "# 한 이미지로 보기 위하여 서브플롯 생성\n",
        "fig, axs = plt.subplots(1, 2, figsize=(20, 10))\n",
        "axs = axs.flatten()\n",
        "\n",
        "axs[0].plot(epochs, loss, 'r', label='Training loss')\n",
        "axs[0].plot(epochs, val_loss, 'b', label='Validation loss')\n",
        "axs[0].set_title('Training and validation loss')\n",
        "axs[0].legend(loc=0)\n",
        "\n",
        "axs[1].plot(epochs, acc, 'r', label='Training acc')\n",
        "axs[1].plot(epochs, val_acc, 'b', label='Validation acc')\n",
        "axs[1].set_title('Training and validation acc')\n",
        "axs[1].legend(loc=0)"
      ],
      "metadata": {
        "colab": {
          "base_uri": "https://localhost:8080/",
          "height": 625
        },
        "id": "FXi4259L9Aef",
        "outputId": "4c7279bc-3760-45dd-9c13-420e1cd23969"
      },
      "execution_count": null,
      "outputs": [
        {
          "output_type": "execute_result",
          "data": {
            "text/plain": [
              "<matplotlib.legend.Legend at 0x7f017b7c8850>"
            ]
          },
          "metadata": {},
          "execution_count": 37
        },
        {
          "output_type": "display_data",
          "data": {
            "text/plain": [
              "<Figure size 1440x720 with 2 Axes>"
            ],
            "image/png": "[encoded data removed]"
          },
          "metadata": {
            "needs_background": "light"
          }
        }
      ]
    },
    {
      "cell_type": "markdown",
      "source": [
        "#### confustion matrix\n",
        "\n",
        "\n"
      ],
      "metadata": {
        "id": "EJv6yQ2j90XP"
      }
    },
    {
      "cell_type": "code",
      "source": [
        "print(\"Predict\")\n",
        "pred = inception_v3_net_catdog.predict_generator(test_dataset, steps=200, verbose=1)"
      ],
      "metadata": {
        "colab": {
          "base_uri": "https://localhost:8080/"
        },
        "id": "TM6B0Oci9Agv",
        "outputId": "3bf6642a-2ec6-4481-a1b4-efef3b2f9b97"
      },
      "execution_count": null,
      "outputs": [
        {
          "output_type": "stream",
          "name": "stdout",
          "text": [
            "Predict\n"
          ]
        },
        {
          "output_type": "stream",
          "name": "stderr",
          "text": [
            "<ipython-input-38-aa74c3d07ac9>:2: UserWarning: `Model.predict_generator` is deprecated and will be removed in a future version. Please use `Model.predict`, which supports generators.\n",
            "  pred = inception_v3_net_catdog.predict_generator(test_dataset, steps=200, verbose=1)\n"
          ]
        },
        {
          "output_type": "stream",
          "name": "stdout",
          "text": [
            " 63/200 [========>.....................] - ETA: 7s"
          ]
        },
        {
          "output_type": "stream",
          "name": "stderr",
          "text": [
            "WARNING:tensorflow:Your input ran out of data; interrupting training. Make sure that your dataset or generator can generate at least `steps_per_epoch * epochs` batches (in this case, 200 batches). You may need to use the repeat() function when building your dataset.\n"
          ]
        },
        {
          "output_type": "stream",
          "name": "stdout",
          "text": [
            "\b\b\b\b\b\b\b\b\b\b\b\b\b\b\b\b\b\b\b\b\b\b\b\b\b\b\b\b\b\b\b\b\b\b\b\b\b\b\b\b\b\b\b\b\b\b\b\b\b\b\r200/200 [==============================] - 5s 17ms/step\n"
          ]
        }
      ]
    },
    {
      "cell_type": "code",
      "source": [
        "#분류 작업\n",
        "\n",
        "predict_data4 = []\n",
        "\n",
        "for i in range(len(pred)):\n",
        "  if pred[i] > 0.500:\n",
        "    predict_data4.append(1)\n",
        "  else:\n",
        "    predict_data4.append(0)"
      ],
      "metadata": {
        "id": "rENFQsZL9Aio"
      },
      "execution_count": null,
      "outputs": []
    },
    {
      "cell_type": "code",
      "source": [
        "true_categories = tf.concat([y for x, y in test_dataset], axis=0)\n",
        "true_categories\n",
        "\n",
        "from sklearn.metrics import confusion_matrix\n",
        "import seaborn as sns\n",
        "print(\"Confusion Matrix\")\n",
        "conf_matrix = confusion_matrix(true_categories, predict_data4)\n",
        "#print(conf_matrix)\n",
        "\n",
        "sns.heatmap(conf_matrix, cmap=\"YlGnBu\", annot=True, fmt='g')\n",
        "plt.xlabel(\"predicted value\")\n",
        "plt.ylabel(\"true value\")"
      ],
      "metadata": {
        "colab": {
          "base_uri": "https://localhost:8080/",
          "height": 316
        },
        "id": "Ng4_gzRZ-B23",
        "outputId": "0d9bee94-9067-42fb-b58c-bd7ecf87d9bf"
      },
      "execution_count": null,
      "outputs": [
        {
          "output_type": "stream",
          "name": "stdout",
          "text": [
            "Confusion Matrix\n"
          ]
        },
        {
          "output_type": "execute_result",
          "data": {
            "text/plain": [
              "Text(33.0, 0.5, 'true value')"
            ]
          },
          "metadata": {},
          "execution_count": 40
        },
        {
          "output_type": "display_data",
          "data": {
            "text/plain": [
              "<Figure size 432x288 with 2 Axes>"
            ],
            "image/png": "[encoded data removed]"
          },
          "metadata": {
            "needs_background": "light"
          }
        }
      ]
    },
    {
      "cell_type": "markdown",
      "source": [
        "### 사용 결과 (테스트 정확도 : 0.982)\n",
        "- 중간에 EarlyStopping 작동. 22에폭 훈련"
      ],
      "metadata": {
        "id": "CrhNSXlN-FNn"
      }
    },
    {
      "cell_type": "markdown",
      "source": [
        "## ResNet"
      ],
      "metadata": {
        "id": "IdeaQATo-GAg"
      }
    },
    {
      "cell_type": "code",
      "source": [
        "from tensorflow.keras.applications.resnet50 import ResNet50, preprocess_input, decode_predictions\n",
        "\n",
        "resnet50_net = ResNet50(include_top = False, weights = 'imagenet', input_shape=(180, 180, 3))\n",
        "resnet50_net.trainable = False"
      ],
      "metadata": {
        "colab": {
          "base_uri": "https://localhost:8080/"
        },
        "id": "CML2NBGc-DTG",
        "outputId": "1b81ec4b-a544-4631-ddd9-f9f1d7a1060f"
      },
      "execution_count": null,
      "outputs": [
        {
          "output_type": "stream",
          "name": "stdout",
          "text": [
            "Downloading data from https://storage.googleapis.com/tensorflow/keras-applications/resnet/resnet50_weights_tf_dim_ordering_tf_kernels_notop.h5\n",
            "94765736/94765736 [==============================] - 0s 0us/step\n"
          ]
        }
      ]
    },
    {
      "cell_type": "code",
      "source": [
        "inputs = keras.Input(shape=(180, 180, 3))\n",
        "x = keras.applications.resnet.preprocess_input(inputs)\n",
        "x = resnet50_net(x)\n",
        "x = layers.Flatten()(x)\n",
        "x = layers.Dense(256)(x)\n",
        "x = layers.Dropout(0.5)(x)\n",
        "outputs = layers.Dense(1, activation='sigmoid')(x)\n",
        "resnet50_net_catdog = keras.Model(inputs, outputs)\n",
        "\n",
        "\n",
        "resnet50_net_catdog.compile(loss='binary_crossentropy',\n",
        "              optimizer='rmsprop',\n",
        "              metrics='acc')\n",
        "\n",
        "\n",
        "resnet50_net_catdog.summary()"
      ],
      "metadata": {
        "colab": {
          "base_uri": "https://localhost:8080/"
        },
        "id": "3bMTwHjP-MFH",
        "outputId": "e28ec2dd-4c0a-411c-8220-3d4917c4881c"
      },
      "execution_count": null,
      "outputs": [
        {
          "output_type": "stream",
          "name": "stdout",
          "text": [
            "Model: \"model_4\"\n",
            "_________________________________________________________________\n",
            " Layer (type)                Output Shape              Param #   \n",
            "=================================================================\n",
            " input_13 (InputLayer)       [(None, 180, 180, 3)]     0         \n",
            "                                                                 \n",
            " tf.__operators__.getitem_5   (None, 180, 180, 3)      0         \n",
            " (SlicingOpLambda)                                               \n",
            "                                                                 \n",
            " tf.nn.bias_add_5 (TFOpLambd  (None, 180, 180, 3)      0         \n",
            " a)                                                              \n",
            "                                                                 \n",
            " resnet50 (Functional)       (None, 6, 6, 2048)        23587712  \n",
            "                                                                 \n",
            " flatten_4 (Flatten)         (None, 73728)             0         \n",
            "                                                                 \n",
            " dense_8 (Dense)             (None, 256)               18874624  \n",
            "                                                                 \n",
            " dropout_4 (Dropout)         (None, 256)               0         \n",
            "                                                                 \n",
            " dense_9 (Dense)             (None, 1)                 257       \n",
            "                                                                 \n",
            "=================================================================\n",
            "Total params: 42,462,593\n",
            "Trainable params: 18,874,881\n",
            "Non-trainable params: 23,587,712\n",
            "_________________________________________________________________\n"
          ]
        }
      ]
    },
    {
      "cell_type": "code",
      "source": [
        "callbacks = [\n",
        "    keras.callbacks.ModelCheckpoint(\n",
        "        filepath = 'convnet_from_resnet50.keras',\n",
        "        save_best_only = True,\n",
        "        moniter='val_loss'\n",
        "    ),\n",
        "    keras.callbacks.EarlyStopping(\n",
        "        monitor='val_loss',\n",
        "        patience=20,\n",
        "        mode='auto'\n",
        "    )\n",
        "]\n",
        "\n",
        "history = resnet50_net_catdog.fit(\n",
        "    train_dataset,\n",
        "    epochs = 50,\n",
        "    validation_data = validation_dataset,\n",
        "    callbacks = callbacks\n",
        ")"
      ],
      "metadata": {
        "colab": {
          "base_uri": "https://localhost:8080/"
        },
        "id": "mLrYzVEP-by5",
        "outputId": "239a1103-08b0-4d4e-f11b-fac6aa0c5098"
      },
      "execution_count": null,
      "outputs": [
        {
          "output_type": "stream",
          "name": "stdout",
          "text": [
            "Epoch 1/50\n",
            "63/63 [==============================] - 13s 156ms/step - loss: 19.2767 - acc: 0.9245 - val_loss: 4.0692 - val_acc: 0.9680\n",
            "Epoch 2/50\n",
            "63/63 [==============================] - 8s 122ms/step - loss: 1.8848 - acc: 0.9840 - val_loss: 12.8451 - val_acc: 0.9470\n",
            "Epoch 3/50\n",
            "63/63 [==============================] - 8s 126ms/step - loss: 1.7175 - acc: 0.9855 - val_loss: 7.2315 - val_acc: 0.9690\n",
            "Epoch 4/50\n",
            "63/63 [==============================] - 8s 124ms/step - loss: 1.7909 - acc: 0.9900 - val_loss: 6.1113 - val_acc: 0.9720\n",
            "Epoch 5/50\n",
            "63/63 [==============================] - 9s 135ms/step - loss: 0.6818 - acc: 0.9920 - val_loss: 3.7507 - val_acc: 0.9750\n",
            "Epoch 6/50\n",
            "63/63 [==============================] - 8s 121ms/step - loss: 1.1666 - acc: 0.9925 - val_loss: 4.7235 - val_acc: 0.9760\n",
            "Epoch 7/50\n",
            "63/63 [==============================] - 8s 120ms/step - loss: 0.3612 - acc: 0.9980 - val_loss: 4.5590 - val_acc: 0.9770\n",
            "Epoch 8/50\n",
            "63/63 [==============================] - 8s 120ms/step - loss: 2.7345e-09 - acc: 1.0000 - val_loss: 4.5489 - val_acc: 0.9770\n",
            "Epoch 9/50\n",
            "63/63 [==============================] - 8s 120ms/step - loss: 0.2626 - acc: 0.9980 - val_loss: 5.2463 - val_acc: 0.9770\n",
            "Epoch 10/50\n",
            "63/63 [==============================] - 8s 120ms/step - loss: 0.1669 - acc: 0.9990 - val_loss: 5.6554 - val_acc: 0.9760\n",
            "Epoch 11/50\n",
            "63/63 [==============================] - 8s 121ms/step - loss: 0.3703 - acc: 0.9980 - val_loss: 6.4136 - val_acc: 0.9720\n",
            "Epoch 12/50\n",
            "63/63 [==============================] - 8s 121ms/step - loss: 0.1832 - acc: 0.9980 - val_loss: 6.4623 - val_acc: 0.9740\n",
            "Epoch 13/50\n",
            "63/63 [==============================] - 8s 121ms/step - loss: 0.1755 - acc: 0.9970 - val_loss: 8.2933 - val_acc: 0.9670\n",
            "Epoch 14/50\n",
            "63/63 [==============================] - 8s 121ms/step - loss: 0.1936 - acc: 0.9975 - val_loss: 6.1240 - val_acc: 0.9740\n",
            "Epoch 15/50\n",
            "63/63 [==============================] - 8s 120ms/step - loss: 0.0412 - acc: 0.9995 - val_loss: 7.4244 - val_acc: 0.9700\n",
            "Epoch 16/50\n",
            "63/63 [==============================] - 8s 120ms/step - loss: 0.0970 - acc: 0.9985 - val_loss: 5.8674 - val_acc: 0.9740\n",
            "Epoch 17/50\n",
            "63/63 [==============================] - 8s 120ms/step - loss: 0.0766 - acc: 0.9990 - val_loss: 5.3555 - val_acc: 0.9750\n",
            "Epoch 18/50\n",
            "63/63 [==============================] - 8s 120ms/step - loss: 0.0000e+00 - acc: 1.0000 - val_loss: 5.3555 - val_acc: 0.9750\n",
            "Epoch 19/50\n",
            "63/63 [==============================] - 8s 120ms/step - loss: 0.0000e+00 - acc: 1.0000 - val_loss: 5.3555 - val_acc: 0.9750\n",
            "Epoch 20/50\n",
            "63/63 [==============================] - 8s 120ms/step - loss: 0.0617 - acc: 0.9990 - val_loss: 5.4047 - val_acc: 0.9740\n",
            "Epoch 21/50\n",
            "63/63 [==============================] - 8s 120ms/step - loss: 0.1484 - acc: 0.9980 - val_loss: 5.3584 - val_acc: 0.9740\n",
            "Epoch 22/50\n",
            "63/63 [==============================] - 8s 120ms/step - loss: 0.0099 - acc: 0.9995 - val_loss: 6.4451 - val_acc: 0.9750\n",
            "Epoch 23/50\n",
            "63/63 [==============================] - 8s 121ms/step - loss: 0.3324 - acc: 0.9975 - val_loss: 4.9567 - val_acc: 0.9760\n",
            "Epoch 24/50\n",
            "63/63 [==============================] - 8s 121ms/step - loss: 2.3101e-15 - acc: 1.0000 - val_loss: 4.9567 - val_acc: 0.9760\n",
            "Epoch 25/50\n",
            "63/63 [==============================] - 8s 121ms/step - loss: 0.0665 - acc: 0.9990 - val_loss: 5.1057 - val_acc: 0.9770\n"
          ]
        }
      ]
    },
    {
      "cell_type": "code",
      "source": [
        "test_loss, test_acc = resnet50_net_catdog.evaluate(test_dataset)\n",
        "print(f'테스트 정확도 : {test_acc:.3f}')"
      ],
      "metadata": {
        "colab": {
          "base_uri": "https://localhost:8080/"
        },
        "id": "wqxg5-zh-b1D",
        "outputId": "4e99abf4-225d-4a97-99a3-d8d6e096a086"
      },
      "execution_count": null,
      "outputs": [
        {
          "output_type": "stream",
          "name": "stdout",
          "text": [
            "63/63 [==============================] - 5s 75ms/step - loss: 4.4715 - acc: 0.9825\n",
            "테스트 정확도 : 0.983\n"
          ]
        }
      ]
    },
    {
      "cell_type": "markdown",
      "source": [
        "### 시각화"
      ],
      "metadata": {
        "id": "72mPBNfC-tyg"
      }
    },
    {
      "cell_type": "code",
      "source": [
        "import matplotlib.pyplot as plt\n",
        "\n",
        "# train 검증의 손실과 정확도 시각화\n",
        "history = history.history\n",
        "\n",
        "acc = history['acc']\n",
        "val_acc = history['val_acc']\n",
        "loss = history['loss']\n",
        "val_loss = history['val_loss']\n",
        "\n",
        "epochs = range(len(acc))\n",
        "\n",
        "# 한 이미지로 보기 위하여 서브플롯 생성\n",
        "fig, axs = plt.subplots(1, 2, figsize=(20, 10))\n",
        "axs = axs.flatten()\n",
        "\n",
        "axs[0].plot(epochs, loss, 'r', label='Training loss')\n",
        "axs[0].plot(epochs, val_loss, 'b', label='Validation loss')\n",
        "axs[0].set_title('Training and validation loss')\n",
        "axs[0].legend(loc=0)\n",
        "\n",
        "axs[1].plot(epochs, acc, 'r', label='Training acc')\n",
        "axs[1].plot(epochs, val_acc, 'b', label='Validation acc')\n",
        "axs[1].set_title('Training and validation acc')\n",
        "axs[1].legend(loc=0)"
      ],
      "metadata": {
        "colab": {
          "base_uri": "https://localhost:8080/",
          "height": 625
        },
        "id": "HlbsdNHv-b3L",
        "outputId": "1bf75491-fd25-44c0-8d59-831d787f7940"
      },
      "execution_count": null,
      "outputs": [
        {
          "output_type": "execute_result",
          "data": {
            "text/plain": [
              "<matplotlib.legend.Legend at 0x7f0179d4a460>"
            ]
          },
          "metadata": {},
          "execution_count": 51
        },
        {
          "output_type": "display_data",
          "data": {
            "text/plain": [
              "<Figure size 1440x720 with 2 Axes>"
            ],
            "image/png": "[encoded data removed]"
          },
          "metadata": {
            "needs_background": "light"
          }
        }
      ]
    },
    {
      "cell_type": "markdown",
      "source": [
        "#### confustion matrix"
      ],
      "metadata": {
        "id": "RlQAISUU-xMy"
      }
    },
    {
      "cell_type": "code",
      "source": [
        "print(\"Predict\")\n",
        "pred = resnet50_net_catdog.predict_generator(test_dataset, steps=200, verbose=1)"
      ],
      "metadata": {
        "colab": {
          "base_uri": "https://localhost:8080/"
        },
        "id": "x4PhyF_E-xiw",
        "outputId": "7d85c229-c80b-4f6f-9e0b-11838b33e630"
      },
      "execution_count": null,
      "outputs": [
        {
          "output_type": "stream",
          "name": "stdout",
          "text": [
            "Predict\n"
          ]
        },
        {
          "output_type": "stream",
          "name": "stderr",
          "text": [
            "<ipython-input-52-88731147216c>:2: UserWarning: `Model.predict_generator` is deprecated and will be removed in a future version. Please use `Model.predict`, which supports generators.\n",
            "  pred = resnet50_net_catdog.predict_generator(test_dataset, steps=200, verbose=1)\n"
          ]
        },
        {
          "output_type": "stream",
          "name": "stdout",
          "text": [
            " 63/200 [========>.....................] - ETA: 9s "
          ]
        },
        {
          "output_type": "stream",
          "name": "stderr",
          "text": [
            "WARNING:tensorflow:Your input ran out of data; interrupting training. Make sure that your dataset or generator can generate at least `steps_per_epoch * epochs` batches (in this case, 200 batches). You may need to use the repeat() function when building your dataset.\n"
          ]
        },
        {
          "output_type": "stream",
          "name": "stdout",
          "text": [
            "\b\b\b\b\b\b\b\b\b\b\b\b\b\b\b\b\b\b\b\b\b\b\b\b\b\b\b\b\b\b\b\b\b\b\b\b\b\b\b\b\b\b\b\b\b\b\b\b\b\b\r200/200 [==============================] - 6s 23ms/step\n"
          ]
        }
      ]
    },
    {
      "cell_type": "code",
      "source": [
        "#분류 작업\n",
        "\n",
        "predict_data4 = []\n",
        "\n",
        "for i in range(len(pred)):\n",
        "  if pred[i] > 0.500:\n",
        "    predict_data4.append(1)\n",
        "  else:\n",
        "    predict_data4.append(0)"
      ],
      "metadata": {
        "id": "6KDSOvfN-xkn"
      },
      "execution_count": null,
      "outputs": []
    },
    {
      "cell_type": "code",
      "source": [
        "true_categories = tf.concat([y for x, y in test_dataset], axis=0)\n",
        "true_categories\n",
        "\n",
        "from sklearn.metrics import confusion_matrix\n",
        "import seaborn as sns\n",
        "print(\"Confusion Matrix\")\n",
        "conf_matrix = confusion_matrix(true_categories, predict_data4)\n",
        "#print(conf_matrix)\n",
        "\n",
        "sns.heatmap(conf_matrix, cmap=\"YlGnBu\", annot=True, fmt='g')\n",
        "plt.xlabel(\"predicted value\")\n",
        "plt.ylabel(\"true value\")"
      ],
      "metadata": {
        "colab": {
          "base_uri": "https://localhost:8080/",
          "height": 316
        },
        "id": "MvJ07Rx--xon",
        "outputId": "53987add-dcd3-4f50-ddda-fd15e7a78ddb"
      },
      "execution_count": null,
      "outputs": [
        {
          "output_type": "stream",
          "name": "stdout",
          "text": [
            "Confusion Matrix\n"
          ]
        },
        {
          "output_type": "execute_result",
          "data": {
            "text/plain": [
              "Text(33.0, 0.5, 'true value')"
            ]
          },
          "metadata": {},
          "execution_count": 54
        },
        {
          "output_type": "display_data",
          "data": {
            "text/plain": [
              "<Figure size 432x288 with 2 Axes>"
            ],
            "image/png": "[encoded data removed]"
          },
          "metadata": {
            "needs_background": "light"
          }
        }
      ]
    },
    {
      "cell_type": "markdown",
      "source": [
        "### 사용 결과 (테스트 정확도 : 0.983)\n",
        "- 중간에 EarlyStopping 작동. 26에폭 훈련"
      ],
      "metadata": {
        "id": "RuPJLtjG-78y"
      }
    },
    {
      "cell_type": "markdown",
      "source": [
        "## Xception"
      ],
      "metadata": {
        "id": "H6PnSVC8_FUJ"
      }
    },
    {
      "cell_type": "code",
      "source": [
        "from keras.applications.xception import Xception, preprocess_input, decode_predictions\n",
        "\n",
        "xception_catdog = Xception(include_top=False, weights='imagenet')\n",
        "xception_catdog.trainable = False"
      ],
      "metadata": {
        "colab": {
          "base_uri": "https://localhost:8080/"
        },
        "id": "B9ojWkGt-xs_",
        "outputId": "5858ced7-9656-4b60-8e75-37ebf14fbd07"
      },
      "execution_count": null,
      "outputs": [
        {
          "output_type": "stream",
          "name": "stdout",
          "text": [
            "Downloading data from https://storage.googleapis.com/tensorflow/keras-applications/xception/xception_weights_tf_dim_ordering_tf_kernels_notop.h5\n",
            "83683744/83683744 [==============================] - 0s 0us/step\n"
          ]
        }
      ]
    },
    {
      "cell_type": "code",
      "source": [
        "inputs = keras.Input(shape=(180, 180, 3))\n",
        "x = keras.applications.xception.preprocess_input(inputs)\n",
        "x = xception_catdog(x)\n",
        "x = layers.Flatten()(x)\n",
        "x = layers.Dense(256)(x)\n",
        "x = layers.Dropout(0.5)(x)\n",
        "outputs = layers.Dense(1, activation='sigmoid')(x)\n",
        "xception_catdog_net = keras.Model(inputs, outputs)\n",
        "\n",
        "\n",
        "xception_catdog_net.compile(loss='binary_crossentropy',\n",
        "              optimizer='rmsprop',\n",
        "              metrics='acc')\n",
        "\n",
        "\n",
        "xception_catdog_net.summary()"
      ],
      "metadata": {
        "colab": {
          "base_uri": "https://localhost:8080/"
        },
        "id": "gg2sAILZ_Hfi",
        "outputId": "86e7853c-0e13-4336-ad49-477326c16680"
      },
      "execution_count": null,
      "outputs": [
        {
          "output_type": "stream",
          "name": "stdout",
          "text": [
            "Model: \"model_5\"\n",
            "_________________________________________________________________\n",
            " Layer (type)                Output Shape              Param #   \n",
            "=================================================================\n",
            " input_15 (InputLayer)       [(None, 180, 180, 3)]     0         \n",
            "                                                                 \n",
            " tf.math.truediv_1 (TFOpLamb  (None, 180, 180, 3)      0         \n",
            " da)                                                             \n",
            "                                                                 \n",
            " tf.math.subtract_1 (TFOpLam  (None, 180, 180, 3)      0         \n",
            " bda)                                                            \n",
            "                                                                 \n",
            " xception (Functional)       (None, None, None, 2048)  20861480  \n",
            "                                                                 \n",
            " flatten_5 (Flatten)         (None, 73728)             0         \n",
            "                                                                 \n",
            " dense_10 (Dense)            (None, 256)               18874624  \n",
            "                                                                 \n",
            " dropout_5 (Dropout)         (None, 256)               0         \n",
            "                                                                 \n",
            " dense_11 (Dense)            (None, 1)                 257       \n",
            "                                                                 \n",
            "=================================================================\n",
            "Total params: 39,736,361\n",
            "Trainable params: 18,874,881\n",
            "Non-trainable params: 20,861,480\n",
            "_________________________________________________________________\n"
          ]
        }
      ]
    },
    {
      "cell_type": "code",
      "source": [
        "callbacks = [\n",
        "    keras.callbacks.ModelCheckpoint(\n",
        "        filepath = 'convnet_from_xception_catdog_net.keras',\n",
        "        save_best_only = True,\n",
        "        moniter='val_loss'\n",
        "    ),\n",
        "    keras.callbacks.EarlyStopping(\n",
        "        monitor='val_loss',\n",
        "        patience=20,\n",
        "        mode='auto'\n",
        "    )\n",
        "]\n",
        "\n",
        "history = xception_catdog_net.fit(\n",
        "    train_dataset,\n",
        "    epochs = 50,\n",
        "    validation_data = validation_dataset,\n",
        "    callbacks = callbacks\n",
        ")"
      ],
      "metadata": {
        "colab": {
          "base_uri": "https://localhost:8080/"
        },
        "id": "PfVEFNBL_Hhg",
        "outputId": "a7cc89ce-a6f8-4b6e-a388-c09da0e3a2ad"
      },
      "execution_count": null,
      "outputs": [
        {
          "output_type": "stream",
          "name": "stdout",
          "text": [
            "Epoch 1/50\n",
            "63/63 [==============================] - 15s 183ms/step - loss: 4.8436 - acc: 0.9500 - val_loss: 2.0598 - val_acc: 0.9670\n",
            "Epoch 2/50\n",
            "63/63 [==============================] - 10s 151ms/step - loss: 1.9518 - acc: 0.9760 - val_loss: 2.8719 - val_acc: 0.9600\n",
            "Epoch 3/50\n",
            "63/63 [==============================] - 9s 148ms/step - loss: 1.4029 - acc: 0.9840 - val_loss: 2.8153 - val_acc: 0.9780\n",
            "Epoch 4/50\n",
            "63/63 [==============================] - 9s 144ms/step - loss: 1.0083 - acc: 0.9875 - val_loss: 2.3272 - val_acc: 0.9780\n",
            "Epoch 5/50\n",
            "63/63 [==============================] - 10s 153ms/step - loss: 0.7958 - acc: 0.9905 - val_loss: 2.0006 - val_acc: 0.9860\n",
            "Epoch 6/50\n",
            "63/63 [==============================] - 9s 140ms/step - loss: 0.4608 - acc: 0.9915 - val_loss: 2.3566 - val_acc: 0.9840\n",
            "Epoch 7/50\n",
            "63/63 [==============================] - 9s 140ms/step - loss: 0.4143 - acc: 0.9960 - val_loss: 2.4180 - val_acc: 0.9850\n",
            "Epoch 8/50\n",
            "63/63 [==============================] - 9s 141ms/step - loss: 0.4587 - acc: 0.9940 - val_loss: 4.1911 - val_acc: 0.9730\n",
            "Epoch 9/50\n",
            "63/63 [==============================] - 9s 141ms/step - loss: 0.0752 - acc: 0.9985 - val_loss: 2.1712 - val_acc: 0.9830\n",
            "Epoch 10/50\n",
            "63/63 [==============================] - 9s 142ms/step - loss: 0.1379 - acc: 0.9970 - val_loss: 2.7375 - val_acc: 0.9820\n",
            "Epoch 11/50\n",
            "63/63 [==============================] - 9s 144ms/step - loss: 0.4194 - acc: 0.9955 - val_loss: 2.0702 - val_acc: 0.9860\n",
            "Epoch 12/50\n",
            "63/63 [==============================] - 9s 144ms/step - loss: 4.2408e-25 - acc: 1.0000 - val_loss: 2.0702 - val_acc: 0.9860\n",
            "Epoch 13/50\n",
            "63/63 [==============================] - 9s 144ms/step - loss: 0.1487 - acc: 0.9970 - val_loss: 2.6473 - val_acc: 0.9780\n",
            "Epoch 14/50\n",
            "63/63 [==============================] - 9s 143ms/step - loss: 0.2524 - acc: 0.9955 - val_loss: 2.3851 - val_acc: 0.9810\n",
            "Epoch 15/50\n",
            "63/63 [==============================] - 9s 142ms/step - loss: 0.0848 - acc: 0.9980 - val_loss: 2.0007 - val_acc: 0.9850\n",
            "Epoch 16/50\n",
            "63/63 [==============================] - 9s 142ms/step - loss: 0.2492 - acc: 0.9965 - val_loss: 2.1664 - val_acc: 0.9840\n",
            "Epoch 17/50\n",
            "63/63 [==============================] - 9s 142ms/step - loss: 0.2683 - acc: 0.9975 - val_loss: 2.6836 - val_acc: 0.9840\n",
            "Epoch 18/50\n",
            "63/63 [==============================] - 9s 142ms/step - loss: 0.0917 - acc: 0.9985 - val_loss: 3.0993 - val_acc: 0.9820\n",
            "Epoch 19/50\n",
            "63/63 [==============================] - 9s 142ms/step - loss: 0.0355 - acc: 0.9990 - val_loss: 3.2254 - val_acc: 0.9810\n",
            "Epoch 20/50\n",
            "63/63 [==============================] - 9s 142ms/step - loss: 0.0675 - acc: 0.9985 - val_loss: 2.4785 - val_acc: 0.9840\n",
            "Epoch 21/50\n",
            "63/63 [==============================] - 9s 143ms/step - loss: 0.0422 - acc: 0.9985 - val_loss: 2.9346 - val_acc: 0.9800\n",
            "Epoch 22/50\n",
            "63/63 [==============================] - 9s 143ms/step - loss: 0.1016 - acc: 0.9980 - val_loss: 2.1665 - val_acc: 0.9850\n",
            "Epoch 23/50\n",
            "63/63 [==============================] - 9s 144ms/step - loss: 0.1159 - acc: 0.9985 - val_loss: 2.3333 - val_acc: 0.9840\n",
            "Epoch 24/50\n",
            "63/63 [==============================] - 9s 143ms/step - loss: 8.8800e-22 - acc: 1.0000 - val_loss: 2.3333 - val_acc: 0.9840\n",
            "Epoch 25/50\n",
            "63/63 [==============================] - 9s 142ms/step - loss: 0.1496 - acc: 0.9990 - val_loss: 2.7495 - val_acc: 0.9800\n"
          ]
        }
      ]
    },
    {
      "cell_type": "code",
      "source": [
        "test_loss, test_acc = xception_catdog_net.evaluate(test_dataset)\n",
        "print(f'테스트 정확도 : {test_acc:.3f}')"
      ],
      "metadata": {
        "colab": {
          "base_uri": "https://localhost:8080/"
        },
        "id": "5djatrmo_TpJ",
        "outputId": "9fa4c699-8b82-475b-c801-684809a7d30a"
      },
      "execution_count": null,
      "outputs": [
        {
          "output_type": "stream",
          "name": "stdout",
          "text": [
            "63/63 [==============================] - 6s 90ms/step - loss: 2.9610 - acc: 0.9820\n",
            "테스트 정확도 : 0.982\n"
          ]
        }
      ]
    },
    {
      "cell_type": "markdown",
      "source": [
        "### 시각화"
      ],
      "metadata": {
        "id": "aqN7zlbM_UD5"
      }
    },
    {
      "cell_type": "code",
      "source": [
        "import matplotlib.pyplot as plt\n",
        "\n",
        "# train 검증의 손실과 정확도 시각화\n",
        "history = history.history\n",
        "\n",
        "acc = history['acc']\n",
        "val_acc = history['val_acc']\n",
        "loss = history['loss']\n",
        "val_loss = history['val_loss']\n",
        "\n",
        "epochs = range(len(acc))\n",
        "\n",
        "# 한 이미지로 보기 위하여 서브플롯 생성\n",
        "fig, axs = plt.subplots(1, 2, figsize=(20, 10))\n",
        "axs = axs.flatten()\n",
        "\n",
        "axs[0].plot(epochs, loss, 'r', label='Training loss')\n",
        "axs[0].plot(epochs, val_loss, 'b', label='Validation loss')\n",
        "axs[0].set_title('Training and validation loss')\n",
        "axs[0].legend(loc=0)\n",
        "\n",
        "axs[1].plot(epochs, acc, 'r', label='Training acc')\n",
        "axs[1].plot(epochs, val_acc, 'b', label='Validation acc')\n",
        "axs[1].set_title('Training and validation acc')\n",
        "axs[1].legend(loc=0)"
      ],
      "metadata": {
        "colab": {
          "base_uri": "https://localhost:8080/",
          "height": 625
        },
        "id": "NOXcUkn-_Hjs",
        "outputId": "854e72fb-508e-4c80-fdbc-600222c97326"
      },
      "execution_count": null,
      "outputs": [
        {
          "output_type": "execute_result",
          "data": {
            "text/plain": [
              "<matplotlib.legend.Legend at 0x7f017fe00b20>"
            ]
          },
          "metadata": {},
          "execution_count": 60
        },
        {
          "output_type": "display_data",
          "data": {
            "text/plain": [
              "<Figure size 1440x720 with 2 Axes>"
            ],
            "image/png": "[encoded data removed]"
          },
          "metadata": {
            "needs_background": "light"
          }
        }
      ]
    },
    {
      "cell_type": "markdown",
      "source": [
        "#### confustion matrix"
      ],
      "metadata": {
        "id": "OBadIIG__Vvb"
      }
    },
    {
      "cell_type": "code",
      "source": [
        "print(\"Predict\")\n",
        "pred = xception_catdog_net.predict_generator(test_dataset, steps=200, verbose=1)"
      ],
      "metadata": {
        "colab": {
          "base_uri": "https://localhost:8080/"
        },
        "id": "xayr05zI_Hlw",
        "outputId": "7e6243df-5a15-43a9-f7a4-5282ac143fc0"
      },
      "execution_count": null,
      "outputs": [
        {
          "output_type": "stream",
          "name": "stdout",
          "text": [
            "Predict\n"
          ]
        },
        {
          "output_type": "stream",
          "name": "stderr",
          "text": [
            "<ipython-input-61-2f270d4aff9e>:2: UserWarning: `Model.predict_generator` is deprecated and will be removed in a future version. Please use `Model.predict`, which supports generators.\n",
            "  pred = xception_catdog_net.predict_generator(test_dataset, steps=200, verbose=1)\n"
          ]
        },
        {
          "output_type": "stream",
          "name": "stdout",
          "text": [
            " 63/200 [========>.....................] - ETA: 12s"
          ]
        },
        {
          "output_type": "stream",
          "name": "stderr",
          "text": [
            "WARNING:tensorflow:Your input ran out of data; interrupting training. Make sure that your dataset or generator can generate at least `steps_per_epoch * epochs` batches (in this case, 200 batches). You may need to use the repeat() function when building your dataset.\n"
          ]
        },
        {
          "output_type": "stream",
          "name": "stdout",
          "text": [
            "\b\b\b\b\b\b\b\b\b\b\b\b\b\b\b\b\b\b\b\b\b\b\b\b\b\b\b\b\b\b\b\b\b\b\b\b\b\b\b\b\b\b\b\b\b\b\b\b\b\b\b\r200/200 [==============================] - 6s 28ms/step\n"
          ]
        }
      ]
    },
    {
      "cell_type": "code",
      "source": [
        "#분류 작업\n",
        "\n",
        "predict_data4 = []\n",
        "\n",
        "for i in range(len(pred)):\n",
        "  if pred[i] > 0.500:\n",
        "    predict_data4.append(1)\n",
        "  else:\n",
        "    predict_data4.append(0)"
      ],
      "metadata": {
        "id": "xJrcYm9h_Hnu"
      },
      "execution_count": null,
      "outputs": []
    },
    {
      "cell_type": "code",
      "source": [
        "import tensorflow as tf\n",
        "import matplotlib.pyplot as plt\n",
        "\n",
        "true_categories = tf.concat([y for x, y in test_dataset], axis=0)\n",
        "true_categories\n",
        "\n",
        "from sklearn.metrics import confusion_matrix\n",
        "import seaborn as sns\n",
        "print(\"Confusion Matrix\")\n",
        "conf_matrix = confusion_matrix(true_categories, predict_data4)\n",
        "#print(conf_matrix)\n",
        "\n",
        "sns.heatmap(conf_matrix, cmap=\"YlGnBu\", annot=True, fmt='g')\n",
        "plt.xlabel(\"predicted value\")\n",
        "plt.ylabel(\"true value\")"
      ],
      "metadata": {
        "colab": {
          "base_uri": "https://localhost:8080/",
          "height": 316
        },
        "id": "Y3YIuWKm_Hp0",
        "outputId": "279dbfbd-ba17-4e56-dd05-bbdd851ad66b"
      },
      "execution_count": null,
      "outputs": [
        {
          "output_type": "stream",
          "name": "stdout",
          "text": [
            "Confusion Matrix\n"
          ]
        },
        {
          "output_type": "execute_result",
          "data": {
            "text/plain": [
              "Text(33.0, 0.5, 'true value')"
            ]
          },
          "metadata": {},
          "execution_count": 63
        },
        {
          "output_type": "display_data",
          "data": {
            "text/plain": [
              "<Figure size 432x288 with 2 Axes>"
            ],
            "image/png": "[encoded data removed]"
          },
          "metadata": {
            "needs_background": "light"
          }
        }
      ]
    },
    {
      "cell_type": "markdown",
      "source": [
        "### 사용 결과 (테스트 정확도 : 0.982)\n",
        "- 중간에 EarlyStopping 작동 . 25에폭 훈련"
      ],
      "metadata": {
        "id": "c2XS5jXt_d1B"
      }
    },
    {
      "cell_type": "markdown",
      "source": [
        "## MobileNet"
      ],
      "metadata": {
        "id": "EVfSTDhH_fyv"
      }
    },
    {
      "cell_type": "code",
      "source": [
        "from keras.applications.mobilenet import MobileNet, preprocess_input, decode_predictions\n",
        "\n",
        "mobilenet_catdog = MobileNet(include_top=False, weights='imagenet')\n",
        "mobilenet_catdog.trainable = False"
      ],
      "metadata": {
        "colab": {
          "base_uri": "https://localhost:8080/"
        },
        "id": "w6JGRJ1o_Hr7",
        "outputId": "9e31037d-942f-4e30-fd82-aaa686581a73"
      },
      "execution_count": null,
      "outputs": [
        {
          "output_type": "stream",
          "name": "stderr",
          "text": [
            "WARNING:tensorflow:`input_shape` is undefined or non-square, or `rows` is not in [128, 160, 192, 224]. Weights for input shape (224, 224) will be loaded as the default.\n"
          ]
        },
        {
          "output_type": "stream",
          "name": "stdout",
          "text": [
            "Downloading data from https://storage.googleapis.com/tensorflow/keras-applications/mobilenet/mobilenet_1_0_224_tf_no_top.h5\n",
            "17225924/17225924 [==============================] - 0s 0us/step\n"
          ]
        }
      ]
    },
    {
      "cell_type": "code",
      "source": [
        "inputs = keras.Input(shape=(180, 180, 3))\n",
        "x = keras.applications.mobilenet.preprocess_input(inputs)\n",
        "x = mobilenet_catdog(x)\n",
        "x = layers.Flatten()(x)\n",
        "x = layers.Dense(256)(x)\n",
        "x = layers.Dropout(0.5)(x)\n",
        "outputs = layers.Dense(1, activation='sigmoid')(x)\n",
        "mobilenet_catdog_net = keras.Model(inputs, outputs)\n",
        "\n",
        "\n",
        "mobilenet_catdog_net.compile(loss='binary_crossentropy',\n",
        "              optimizer='rmsprop',\n",
        "              metrics='acc')\n",
        "\n",
        "\n",
        "mobilenet_catdog_net.summary()"
      ],
      "metadata": {
        "colab": {
          "base_uri": "https://localhost:8080/"
        },
        "id": "TAOolsxP_HuQ",
        "outputId": "794c0286-eac8-4ab0-98b9-84e3fa93c849"
      },
      "execution_count": null,
      "outputs": [
        {
          "output_type": "stream",
          "name": "stdout",
          "text": [
            "Model: \"model_6\"\n",
            "_________________________________________________________________\n",
            " Layer (type)                Output Shape              Param #   \n",
            "=================================================================\n",
            " input_17 (InputLayer)       [(None, 180, 180, 3)]     0         \n",
            "                                                                 \n",
            " tf.math.truediv_2 (TFOpLamb  (None, 180, 180, 3)      0         \n",
            " da)                                                             \n",
            "                                                                 \n",
            " tf.math.subtract_2 (TFOpLam  (None, 180, 180, 3)      0         \n",
            " bda)                                                            \n",
            "                                                                 \n",
            " mobilenet_1.00_224 (Functio  (None, None, None, 1024)  3228864  \n",
            " nal)                                                            \n",
            "                                                                 \n",
            " flatten_6 (Flatten)         (None, 25600)             0         \n",
            "                                                                 \n",
            " dense_12 (Dense)            (None, 256)               6553856   \n",
            "                                                                 \n",
            " dropout_6 (Dropout)         (None, 256)               0         \n",
            "                                                                 \n",
            " dense_13 (Dense)            (None, 1)                 257       \n",
            "                                                                 \n",
            "=================================================================\n",
            "Total params: 9,782,977\n",
            "Trainable params: 6,554,113\n",
            "Non-trainable params: 3,228,864\n",
            "_________________________________________________________________\n"
          ]
        }
      ]
    },
    {
      "cell_type": "code",
      "source": [
        "callbacks = [\n",
        "    keras.callbacks.ModelCheckpoint(\n",
        "        filepath = 'convnet_from_mobilenet_catdog_net.keras',\n",
        "        save_best_only = True,\n",
        "        moniter='val_loss'\n",
        "    ),\n",
        "    keras.callbacks.EarlyStopping(\n",
        "        monitor='val_loss',\n",
        "        patience=20,\n",
        "        mode='auto'\n",
        "    )\n",
        "]\n",
        "\n",
        "history = mobilenet_catdog_net.fit(\n",
        "    train_dataset,\n",
        "    epochs = 50,\n",
        "    validation_data = validation_dataset,\n",
        "    callbacks = callbacks\n",
        ")"
      ],
      "metadata": {
        "colab": {
          "base_uri": "https://localhost:8080/"
        },
        "id": "lsQ-iy3m-xwG",
        "outputId": "cd4b51e1-7a97-4083-adaa-1eaa9562930b"
      },
      "execution_count": null,
      "outputs": [
        {
          "output_type": "stream",
          "name": "stdout",
          "text": [
            "Epoch 1/50\n",
            "63/63 [==============================] - 6s 65ms/step - loss: 10.2531 - acc: 0.9165 - val_loss: 0.7580 - val_acc: 0.9830\n",
            "Epoch 2/50\n",
            "63/63 [==============================] - 3s 47ms/step - loss: 2.6329 - acc: 0.9780 - val_loss: 3.6810 - val_acc: 0.9660\n",
            "Epoch 3/50\n",
            "63/63 [==============================] - 3s 47ms/step - loss: 1.1277 - acc: 0.9875 - val_loss: 1.2057 - val_acc: 0.9800\n",
            "Epoch 4/50\n",
            "63/63 [==============================] - 3s 47ms/step - loss: 1.2876 - acc: 0.9860 - val_loss: 2.0461 - val_acc: 0.9770\n",
            "Epoch 5/50\n",
            "63/63 [==============================] - 4s 55ms/step - loss: 0.5315 - acc: 0.9925 - val_loss: 1.1756 - val_acc: 0.9860\n",
            "Epoch 6/50\n",
            "63/63 [==============================] - 3s 52ms/step - loss: 0.6047 - acc: 0.9935 - val_loss: 2.3398 - val_acc: 0.9760\n",
            "Epoch 7/50\n",
            "63/63 [==============================] - 3s 51ms/step - loss: 0.5951 - acc: 0.9925 - val_loss: 1.8114 - val_acc: 0.9850\n",
            "Epoch 8/50\n",
            "63/63 [==============================] - 3s 50ms/step - loss: 0.1248 - acc: 0.9970 - val_loss: 2.0556 - val_acc: 0.9820\n",
            "Epoch 9/50\n",
            "63/63 [==============================] - 3s 52ms/step - loss: 0.2606 - acc: 0.9955 - val_loss: 1.7687 - val_acc: 0.9820\n",
            "Epoch 10/50\n",
            "63/63 [==============================] - 3s 48ms/step - loss: 0.0121 - acc: 0.9995 - val_loss: 2.3238 - val_acc: 0.9740\n",
            "Epoch 11/50\n",
            "63/63 [==============================] - 3s 49ms/step - loss: 0.0254 - acc: 0.9995 - val_loss: 2.6978 - val_acc: 0.9800\n",
            "Epoch 12/50\n",
            "63/63 [==============================] - 3s 47ms/step - loss: 0.2299 - acc: 0.9960 - val_loss: 1.9455 - val_acc: 0.9820\n",
            "Epoch 13/50\n",
            "63/63 [==============================] - 3s 47ms/step - loss: 0.0407 - acc: 0.9995 - val_loss: 2.4660 - val_acc: 0.9800\n",
            "Epoch 14/50\n",
            "63/63 [==============================] - 3s 47ms/step - loss: 0.0819 - acc: 0.9975 - val_loss: 2.6816 - val_acc: 0.9800\n",
            "Epoch 15/50\n",
            "63/63 [==============================] - 3s 52ms/step - loss: 0.0100 - acc: 0.9985 - val_loss: 2.0720 - val_acc: 0.9850\n",
            "Epoch 16/50\n",
            "63/63 [==============================] - 3s 47ms/step - loss: 0.1307 - acc: 0.9975 - val_loss: 1.6276 - val_acc: 0.9860\n",
            "Epoch 17/50\n",
            "63/63 [==============================] - 3s 49ms/step - loss: 2.1414e-12 - acc: 1.0000 - val_loss: 1.6276 - val_acc: 0.9860\n",
            "Epoch 18/50\n",
            "63/63 [==============================] - 3s 47ms/step - loss: 1.4080e-26 - acc: 1.0000 - val_loss: 1.6276 - val_acc: 0.9860\n",
            "Epoch 19/50\n",
            "63/63 [==============================] - 3s 50ms/step - loss: 0.0341 - acc: 0.9990 - val_loss: 1.7799 - val_acc: 0.9830\n",
            "Epoch 20/50\n",
            "63/63 [==============================] - 3s 47ms/step - loss: 0.0284 - acc: 0.9990 - val_loss: 2.0168 - val_acc: 0.9820\n",
            "Epoch 21/50\n",
            "63/63 [==============================] - 3s 47ms/step - loss: 0.0257 - acc: 0.9990 - val_loss: 2.1529 - val_acc: 0.9850\n"
          ]
        }
      ]
    },
    {
      "cell_type": "code",
      "source": [
        "test_loss, test_acc = mobilenet_catdog_net.evaluate(test_dataset)\n",
        "print(f'테스트 정확도 : {test_acc:.3f}')"
      ],
      "metadata": {
        "colab": {
          "base_uri": "https://localhost:8080/"
        },
        "id": "p7T5L26EAFtB",
        "outputId": "a7f3eaf1-fd1d-4e85-c787-98e4cc86de98"
      },
      "execution_count": null,
      "outputs": [
        {
          "output_type": "stream",
          "name": "stdout",
          "text": [
            "63/63 [==============================] - 2s 29ms/step - loss: 2.7539 - acc: 0.9800\n",
            "테스트 정확도 : 0.980\n"
          ]
        }
      ]
    },
    {
      "cell_type": "markdown",
      "source": [
        "### 시각화"
      ],
      "metadata": {
        "id": "CxczCUfdAKDB"
      }
    },
    {
      "cell_type": "code",
      "source": [
        "import matplotlib.pyplot as plt\n",
        "\n",
        "# train 검증의 손실과 정확도 시각화\n",
        "history = history.history\n",
        "\n",
        "acc = history['acc']\n",
        "val_acc = history['val_acc']\n",
        "loss = history['loss']\n",
        "val_loss = history['val_loss']\n",
        "\n",
        "epochs = range(len(acc))\n",
        "\n",
        "# 한 이미지로 보기 위하여 서브플롯 생성\n",
        "fig, axs = plt.subplots(1, 2, figsize=(20, 10))\n",
        "axs = axs.flatten()\n",
        "\n",
        "axs[0].plot(epochs, loss, 'r', label='Training loss')\n",
        "axs[0].plot(epochs, val_loss, 'b', label='Validation loss')\n",
        "axs[0].set_title('Training and validation loss')\n",
        "axs[0].legend(loc=0)\n",
        "\n",
        "axs[1].plot(epochs, acc, 'r', label='Training acc')\n",
        "axs[1].plot(epochs, val_acc, 'b', label='Validation acc')\n",
        "axs[1].set_title('Training and validation acc')\n",
        "axs[1].legend(loc=0)"
      ],
      "metadata": {
        "colab": {
          "base_uri": "https://localhost:8080/",
          "height": 625
        },
        "id": "F0mqTG-bAFxX",
        "outputId": "d0ef9622-cef3-4e9a-8cd6-ac4f18283c4e"
      },
      "execution_count": null,
      "outputs": [
        {
          "output_type": "execute_result",
          "data": {
            "text/plain": [
              "<matplotlib.legend.Legend at 0x7f01800617c0>"
            ]
          },
          "metadata": {},
          "execution_count": 68
        },
        {
          "output_type": "display_data",
          "data": {
            "text/plain": [
              "<Figure size 1440x720 with 2 Axes>"
            ],
            "image/png": "[encoded data removed]"
          },
          "metadata": {
            "needs_background": "light"
          }
        }
      ]
    },
    {
      "cell_type": "markdown",
      "source": [
        "#### confustion matrix"
      ],
      "metadata": {
        "id": "bBXxD6s-AMvD"
      }
    },
    {
      "cell_type": "code",
      "source": [
        "print(\"Predict\")\n",
        "pred = mobilenet_catdog_net.predict_generator(test_dataset, steps=200, verbose=1)"
      ],
      "metadata": {
        "colab": {
          "base_uri": "https://localhost:8080/"
        },
        "id": "0cDFn-XOAFzr",
        "outputId": "697fcb62-0abd-4ebe-bdf9-370d09cfd551"
      },
      "execution_count": null,
      "outputs": [
        {
          "output_type": "stream",
          "name": "stdout",
          "text": [
            "Predict\n"
          ]
        },
        {
          "output_type": "stream",
          "name": "stderr",
          "text": [
            "<ipython-input-69-dd372ae1470a>:2: UserWarning: `Model.predict_generator` is deprecated and will be removed in a future version. Please use `Model.predict`, which supports generators.\n",
            "  pred = mobilenet_catdog_net.predict_generator(test_dataset, steps=200, verbose=1)\n"
          ]
        },
        {
          "output_type": "stream",
          "name": "stdout",
          "text": [
            " 62/200 [========>.....................] - ETA: 4s"
          ]
        },
        {
          "output_type": "stream",
          "name": "stderr",
          "text": [
            "WARNING:tensorflow:Your input ran out of data; interrupting training. Make sure that your dataset or generator can generate at least `steps_per_epoch * epochs` batches (in this case, 200 batches). You may need to use the repeat() function when building your dataset.\n"
          ]
        },
        {
          "output_type": "stream",
          "name": "stdout",
          "text": [
            "\b\b\b\b\b\b\b\b\b\b\b\b\b\b\b\b\b\b\b\b\b\b\b\b\b\b\b\b\b\b\b\b\b\b\b\b\b\b\b\b\b\b\b\b\b\b\b\b\b\b\r200/200 [==============================] - 3s 11ms/step\n"
          ]
        }
      ]
    },
    {
      "cell_type": "code",
      "source": [
        "#분류 작업\n",
        "\n",
        "predict_data4 = []\n",
        "\n",
        "for i in range(len(pred)):\n",
        "  if pred[i] > 0.500:\n",
        "    predict_data4.append(1)\n",
        "  else:\n",
        "    predict_data4.append(0)"
      ],
      "metadata": {
        "id": "j2ewPAoPAF2E"
      },
      "execution_count": null,
      "outputs": []
    },
    {
      "cell_type": "code",
      "source": [
        "import tensorflow as tf\n",
        "import matplotlib.pyplot as plt\n",
        "\n",
        "true_categories = tf.concat([y for x, y in test_dataset], axis=0)\n",
        "true_categories\n",
        "\n",
        "from sklearn.metrics import confusion_matrix\n",
        "import seaborn as sns\n",
        "print(\"Confusion Matrix\")\n",
        "conf_matrix = confusion_matrix(true_categories, predict_data4)\n",
        "#print(conf_matrix)\n",
        "\n",
        "sns.heatmap(conf_matrix, cmap=\"YlGnBu\", annot=True, fmt='g')\n",
        "plt.xlabel(\"predicted value\")\n",
        "plt.ylabel(\"true value\")"
      ],
      "metadata": {
        "colab": {
          "base_uri": "https://localhost:8080/",
          "height": 316
        },
        "id": "7JTih_fqAREQ",
        "outputId": "3b5492b4-3759-4f4c-8106-a9102fcf61bf"
      },
      "execution_count": null,
      "outputs": [
        {
          "output_type": "stream",
          "name": "stdout",
          "text": [
            "Confusion Matrix\n"
          ]
        },
        {
          "output_type": "execute_result",
          "data": {
            "text/plain": [
              "Text(33.0, 0.5, 'true value')"
            ]
          },
          "metadata": {},
          "execution_count": 71
        },
        {
          "output_type": "display_data",
          "data": {
            "text/plain": [
              "<Figure size 432x288 with 2 Axes>"
            ],
            "image/png": "[encoded data removed]"
          },
          "metadata": {
            "needs_background": "light"
          }
        }
      ]
    },
    {
      "cell_type": "markdown",
      "source": [
        "### 사용 결과 (테스트 정확도 : 0.980)\n",
        "- 중간에 EarlyStopping 작동. 21에폭 훈련"
      ],
      "metadata": {
        "id": "jkbYPHeAAV5x"
      }
    },
    {
      "cell_type": "markdown",
      "source": [
        "## Densenet"
      ],
      "metadata": {
        "id": "OjmeLo5wAWrb"
      }
    },
    {
      "cell_type": "code",
      "source": [
        "from keras.applications.densenet import DenseNet201, preprocess_input, decode_predictions\n",
        "\n",
        "densenet_catdog = DenseNet201(include_top=False, weights='imagenet')\n",
        "densenet_catdog.trainable = False"
      ],
      "metadata": {
        "colab": {
          "base_uri": "https://localhost:8080/"
        },
        "id": "ktEwa2IyARGZ",
        "outputId": "56c9e97e-164a-4bce-b534-36828b053c23"
      },
      "execution_count": null,
      "outputs": [
        {
          "output_type": "stream",
          "name": "stdout",
          "text": [
            "Downloading data from https://storage.googleapis.com/tensorflow/keras-applications/densenet/densenet201_weights_tf_dim_ordering_tf_kernels_notop.h5\n",
            "74836368/74836368 [==============================] - 1s 0us/step\n"
          ]
        }
      ]
    },
    {
      "cell_type": "code",
      "source": [
        "inputs = keras.Input(shape=(180, 180, 3))\n",
        "x = keras.applications.densenet.preprocess_input(inputs)\n",
        "x = densenet_catdog(x)\n",
        "x = layers.Flatten()(x)\n",
        "x = layers.Dense(256)(x)\n",
        "x = layers.Dropout(0.5)(x)\n",
        "outputs = layers.Dense(1, activation='sigmoid')(x)\n",
        "densenet_catdog_net = keras.Model(inputs, outputs)\n",
        "\n",
        "\n",
        "densenet_catdog_net.compile(loss='binary_crossentropy',\n",
        "              optimizer='rmsprop',\n",
        "              metrics='acc')\n",
        "\n",
        "\n",
        "densenet_catdog_net.summary()"
      ],
      "metadata": {
        "colab": {
          "base_uri": "https://localhost:8080/"
        },
        "id": "7NU2a0ccARIj",
        "outputId": "5c0cd0b1-51d8-48e6-9c50-bafa8ff7fbb4"
      },
      "execution_count": null,
      "outputs": [
        {
          "output_type": "stream",
          "name": "stdout",
          "text": [
            "Model: \"model_7\"\n",
            "_________________________________________________________________\n",
            " Layer (type)                Output Shape              Param #   \n",
            "=================================================================\n",
            " input_19 (InputLayer)       [(None, 180, 180, 3)]     0         \n",
            "                                                                 \n",
            " tf.math.truediv_3 (TFOpLamb  (None, 180, 180, 3)      0         \n",
            " da)                                                             \n",
            "                                                                 \n",
            " tf.nn.bias_add_6 (TFOpLambd  (None, 180, 180, 3)      0         \n",
            " a)                                                              \n",
            "                                                                 \n",
            " tf.math.truediv_4 (TFOpLamb  (None, 180, 180, 3)      0         \n",
            " da)                                                             \n",
            "                                                                 \n",
            " densenet201 (Functional)    (None, None, None, 1920)  18321984  \n",
            "                                                                 \n",
            " flatten_7 (Flatten)         (None, 48000)             0         \n",
            "                                                                 \n",
            " dense_14 (Dense)            (None, 256)               12288256  \n",
            "                                                                 \n",
            " dropout_7 (Dropout)         (None, 256)               0         \n",
            "                                                                 \n",
            " dense_15 (Dense)            (None, 1)                 257       \n",
            "                                                                 \n",
            "=================================================================\n",
            "Total params: 30,610,497\n",
            "Trainable params: 12,288,513\n",
            "Non-trainable params: 18,321,984\n",
            "_________________________________________________________________\n"
          ]
        }
      ]
    },
    {
      "cell_type": "code",
      "source": [
        "callbacks = [\n",
        "    keras.callbacks.ModelCheckpoint(\n",
        "        filepath = 'convnet_from_densenet_catdog_net.keras',\n",
        "        save_best_only = True,\n",
        "        moniter='val_loss'\n",
        "    ),\n",
        "    keras.callbacks.EarlyStopping(\n",
        "        monitor='val_loss',\n",
        "        patience=20,\n",
        "        mode='auto'\n",
        "    )\n",
        "]\n",
        "\n",
        "history = densenet_catdog_net.fit(\n",
        "    train_dataset,\n",
        "    epochs = 50,\n",
        "    validation_data = validation_dataset,\n",
        "    callbacks = callbacks\n",
        ")"
      ],
      "metadata": {
        "colab": {
          "base_uri": "https://localhost:8080/"
        },
        "id": "FHfwscw4AF4s",
        "outputId": "46c22792-9a0f-46ed-f5e5-2dd9c62f0a9f"
      },
      "execution_count": null,
      "outputs": [
        {
          "output_type": "stream",
          "name": "stdout",
          "text": [
            "Epoch 1/50\n",
            "63/63 [==============================] - 30s 283ms/step - loss: 11.1563 - acc: 0.9365 - val_loss: 0.4618 - val_acc: 0.9890\n",
            "Epoch 2/50\n",
            "63/63 [==============================] - 11s 168ms/step - loss: 2.3374 - acc: 0.9785 - val_loss: 1.0614 - val_acc: 0.9900\n",
            "Epoch 3/50\n",
            "63/63 [==============================] - 11s 169ms/step - loss: 1.3847 - acc: 0.9855 - val_loss: 0.9063 - val_acc: 0.9900\n",
            "Epoch 4/50\n",
            "63/63 [==============================] - 11s 169ms/step - loss: 0.6325 - acc: 0.9930 - val_loss: 0.8849 - val_acc: 0.9900\n",
            "Epoch 5/50\n",
            "63/63 [==============================] - 11s 165ms/step - loss: 0.3970 - acc: 0.9940 - val_loss: 1.1200 - val_acc: 0.9910\n",
            "Epoch 6/50\n",
            "63/63 [==============================] - 11s 165ms/step - loss: 0.3822 - acc: 0.9925 - val_loss: 1.5261 - val_acc: 0.9880\n",
            "Epoch 7/50\n",
            "63/63 [==============================] - 10s 163ms/step - loss: 0.3954 - acc: 0.9960 - val_loss: 0.9891 - val_acc: 0.9910\n",
            "Epoch 8/50\n",
            "63/63 [==============================] - 10s 164ms/step - loss: 0.4820 - acc: 0.9940 - val_loss: 1.1683 - val_acc: 0.9910\n",
            "Epoch 9/50\n",
            "63/63 [==============================] - 11s 165ms/step - loss: 0.2679 - acc: 0.9970 - val_loss: 1.2313 - val_acc: 0.9880\n",
            "Epoch 10/50\n",
            "63/63 [==============================] - 11s 166ms/step - loss: 0.2749 - acc: 0.9970 - val_loss: 2.7379 - val_acc: 0.9770\n",
            "Epoch 11/50\n",
            "63/63 [==============================] - 11s 166ms/step - loss: 0.0847 - acc: 0.9970 - val_loss: 1.7162 - val_acc: 0.9840\n",
            "Epoch 12/50\n",
            "63/63 [==============================] - 10s 165ms/step - loss: 0.2618 - acc: 0.9965 - val_loss: 1.4182 - val_acc: 0.9880\n",
            "Epoch 13/50\n",
            "63/63 [==============================] - 10s 164ms/step - loss: 0.1773 - acc: 0.9980 - val_loss: 1.0162 - val_acc: 0.9870\n",
            "Epoch 14/50\n",
            "63/63 [==============================] - 10s 162ms/step - loss: 8.7577e-15 - acc: 1.0000 - val_loss: 1.0162 - val_acc: 0.9870\n",
            "Epoch 15/50\n",
            "63/63 [==============================] - 10s 164ms/step - loss: 0.2892 - acc: 0.9945 - val_loss: 0.8724 - val_acc: 0.9910\n",
            "Epoch 16/50\n",
            "63/63 [==============================] - 11s 166ms/step - loss: 0.0928 - acc: 0.9990 - val_loss: 0.8459 - val_acc: 0.9900\n",
            "Epoch 17/50\n",
            "63/63 [==============================] - 10s 164ms/step - loss: 5.1599e-21 - acc: 1.0000 - val_loss: 0.8459 - val_acc: 0.9900\n",
            "Epoch 18/50\n",
            "63/63 [==============================] - 10s 164ms/step - loss: 0.1963 - acc: 0.9970 - val_loss: 1.2407 - val_acc: 0.9900\n",
            "Epoch 19/50\n",
            "63/63 [==============================] - 10s 164ms/step - loss: 1.0478e-31 - acc: 1.0000 - val_loss: 1.2407 - val_acc: 0.9900\n",
            "Epoch 20/50\n",
            "63/63 [==============================] - 10s 163ms/step - loss: 0.0484 - acc: 0.9980 - val_loss: 1.4115 - val_acc: 0.9890\n",
            "Epoch 21/50\n",
            "63/63 [==============================] - 10s 163ms/step - loss: 3.0589e-22 - acc: 1.0000 - val_loss: 1.4115 - val_acc: 0.9890\n"
          ]
        }
      ]
    },
    {
      "cell_type": "code",
      "source": [
        "test_loss, test_acc = densenet_catdog_net.evaluate(test_dataset)\n",
        "print(f'테스트 정확도 : {test_acc:.3f}')"
      ],
      "metadata": {
        "colab": {
          "base_uri": "https://localhost:8080/"
        },
        "id": "ogNKh9E2Ag-i",
        "outputId": "0ed7c2d1-c2f9-481c-bf2f-44428b2a6964"
      },
      "execution_count": null,
      "outputs": [
        {
          "output_type": "stream",
          "name": "stdout",
          "text": [
            "63/63 [==============================] - 7s 106ms/step - loss: 1.9418 - acc: 0.9875\n",
            "테스트 정확도 : 0.988\n"
          ]
        }
      ]
    },
    {
      "cell_type": "markdown",
      "source": [
        "### 시각화"
      ],
      "metadata": {
        "id": "puhYwqvJAjRJ"
      }
    },
    {
      "cell_type": "code",
      "source": [
        "import matplotlib.pyplot as plt\n",
        "\n",
        "# train 검증의 손실과 정확도 시각화\n",
        "history = history.history\n",
        "\n",
        "acc = history['acc']\n",
        "val_acc = history['val_acc']\n",
        "loss = history['loss']\n",
        "val_loss = history['val_loss']\n",
        "\n",
        "epochs = range(len(acc))\n",
        "\n",
        "# 한 이미지로 보기 위하여 서브플롯 생성\n",
        "fig, axs = plt.subplots(1, 2, figsize=(20, 10))\n",
        "axs = axs.flatten()\n",
        "\n",
        "axs[0].plot(epochs, loss, 'r', label='Training loss')\n",
        "axs[0].plot(epochs, val_loss, 'b', label='Validation loss')\n",
        "axs[0].set_title('Training and validation loss')\n",
        "axs[0].legend(loc=0)\n",
        "\n",
        "axs[1].plot(epochs, acc, 'r', label='Training acc')\n",
        "axs[1].plot(epochs, val_acc, 'b', label='Validation acc')\n",
        "axs[1].set_title('Training and validation acc')\n",
        "axs[1].legend(loc=0)"
      ],
      "metadata": {
        "colab": {
          "base_uri": "https://localhost:8080/",
          "height": 625
        },
        "id": "AkrvgErgAhAt",
        "outputId": "0cddd148-38d9-47e7-d3ca-f3b21b3a6e81"
      },
      "execution_count": null,
      "outputs": [
        {
          "output_type": "execute_result",
          "data": {
            "text/plain": [
              "<matplotlib.legend.Legend at 0x7f016de68d60>"
            ]
          },
          "metadata": {},
          "execution_count": 76
        },
        {
          "output_type": "display_data",
          "data": {
            "text/plain": [
              "<Figure size 1440x720 with 2 Axes>"
            ],
            "image/png": "[encoded data removed]"
          },
          "metadata": {
            "needs_background": "light"
          }
        }
      ]
    },
    {
      "cell_type": "markdown",
      "source": [
        "#### confustion matrix"
      ],
      "metadata": {
        "id": "n5BIntpAAmzx"
      }
    },
    {
      "cell_type": "code",
      "source": [
        "print(\"Predict\")\n",
        "pred = densenet_catdog_net.predict_generator(test_dataset, steps=200, verbose=1)"
      ],
      "metadata": {
        "colab": {
          "base_uri": "https://localhost:8080/"
        },
        "id": "QaNF80FPAhC9",
        "outputId": "83a1a2fe-dfab-49d5-860b-622c600d548e"
      },
      "execution_count": null,
      "outputs": [
        {
          "output_type": "stream",
          "name": "stdout",
          "text": [
            "Predict\n"
          ]
        },
        {
          "output_type": "stream",
          "name": "stderr",
          "text": [
            "<ipython-input-77-a0f909f98a72>:2: UserWarning: `Model.predict_generator` is deprecated and will be removed in a future version. Please use `Model.predict`, which supports generators.\n",
            "  pred = densenet_catdog_net.predict_generator(test_dataset, steps=200, verbose=1)\n"
          ]
        },
        {
          "output_type": "stream",
          "name": "stdout",
          "text": [
            " 63/200 [========>.....................] - ETA: 14s"
          ]
        },
        {
          "output_type": "stream",
          "name": "stderr",
          "text": [
            "WARNING:tensorflow:Your input ran out of data; interrupting training. Make sure that your dataset or generator can generate at least `steps_per_epoch * epochs` batches (in this case, 200 batches). You may need to use the repeat() function when building your dataset.\n"
          ]
        },
        {
          "output_type": "stream",
          "name": "stdout",
          "text": [
            "\b\b\b\b\b\b\b\b\b\b\b\b\b\b\b\b\b\b\b\b\b\b\b\b\b\b\b\b\b\b\b\b\b\b\b\b\b\b\b\b\b\b\b\b\b\b\b\b\b\b\b\r200/200 [==============================] - 9s 32ms/step\n"
          ]
        }
      ]
    },
    {
      "cell_type": "code",
      "source": [
        "#분류 작업\n",
        "\n",
        "predict_data4 = []\n",
        "\n",
        "for i in range(len(pred)):\n",
        "  if pred[i] > 0.500:\n",
        "    predict_data4.append(1)\n",
        "  else:\n",
        "    predict_data4.append(0)"
      ],
      "metadata": {
        "id": "7CB2lkVPBSO0"
      },
      "execution_count": null,
      "outputs": []
    },
    {
      "cell_type": "code",
      "source": [
        "import tensorflow as tf\n",
        "import matplotlib.pyplot as plt\n",
        "\n",
        "true_categories = tf.concat([y for x, y in test_dataset], axis=0)\n",
        "true_categories\n",
        "\n",
        "from sklearn.metrics import confusion_matrix\n",
        "import seaborn as sns\n",
        "print(\"Confusion Matrix\")\n",
        "conf_matrix = confusion_matrix(true_categories, predict_data4)\n",
        "#print(conf_matrix)\n",
        "\n",
        "sns.heatmap(conf_matrix, cmap=\"YlGnBu\", annot=True, fmt='g')\n",
        "plt.xlabel(\"predicted value\")\n",
        "plt.ylabel(\"true value\")"
      ],
      "metadata": {
        "colab": {
          "base_uri": "https://localhost:8080/",
          "height": 320
        },
        "id": "zgLy4RUmBSQ5",
        "outputId": "975c7915-3d2c-4963-fb53-021c5dab66d2"
      },
      "execution_count": null,
      "outputs": [
        {
          "output_type": "stream",
          "name": "stdout",
          "text": [
            "Confusion Matrix\n"
          ]
        },
        {
          "output_type": "execute_result",
          "data": {
            "text/plain": [
              "Text(33.0, 0.5, 'true value')"
            ]
          },
          "metadata": {},
          "execution_count": 79
        },
        {
          "output_type": "display_data",
          "data": {
            "text/plain": [
              "<Figure size 432x288 with 2 Axes>"
            ],
            "image/png": "[encoded data removed]"
          },
          "metadata": {
            "needs_background": "light"
          }
        }
      ]
    },
    {
      "cell_type": "markdown",
      "source": [
        "### 사용 결과 (테스트 정확도 : 0.988)\n",
        "- 중간에 EarlyStopping 작동. 21에폭 훈련"
      ],
      "metadata": {
        "id": "QQtQei5VFhZG"
      }
    },
    {
      "cell_type": "markdown",
      "source": [
        "## 결과적으로\n",
        "다 정확도가 꽤 높게 나온것 같다. "
      ],
      "metadata": {
        "id": "KQTiAE6EQ9Ni"
      }
    },
    {
      "cell_type": "code",
      "source": [],
      "metadata": {
        "id": "Kk3rOfa-AhFJ"
      },
      "execution_count": null,
      "outputs": []
    }
  ]
}